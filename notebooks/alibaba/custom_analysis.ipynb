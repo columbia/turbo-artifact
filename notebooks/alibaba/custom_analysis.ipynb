{
 "cells": [
  {
   "cell_type": "markdown",
   "metadata": {},
   "source": [
    "# Preparing"
   ]
  },
  {
   "cell_type": "code",
   "execution_count": null,
   "metadata": {},
   "outputs": [],
   "source": []
  },
  {
   "cell_type": "markdown",
   "metadata": {},
   "source": [
    "## Import"
   ]
  },
  {
   "cell_type": "code",
   "execution_count": null,
   "metadata": {},
   "outputs": [],
   "source": [
    "import numpy as np\n",
    "import pandas as pd\n",
    "# import modin.pandas as pd\n",
    "import seaborn as sns\n",
    "import matplotlib\n",
    "import matplotlib.pyplot as plt\n",
    "\n",
    "from privacypacking.utils.alibaba import *\n",
    "pd.set_option('display.max_colwidth', 1000)\n",
    "pd.set_option('display.max_columns', 100)\n",
    "matplotlib.rcParams.update({\"font.size\": 16,'lines.linewidth': 2.5})\n",
    "# matplotlib.rcdefaults()\n",
    "from pathlib import Path"
   ]
  },
  {
   "cell_type": "code",
   "execution_count": null,
   "metadata": {},
   "outputs": [],
   "source": [
    "REPO_ROOT = Path(\"../../\").resolve()\n",
    "print(REPO_ROOT)\n",
    "DATA_DIR = str(REPO_ROOT) + '/data/alibaba/cluster-trace-gpu-v2020/data/'\n",
    "\n",
    "# dfg = get_df(DATA_DIR + 'pai_group_tag_table_tiny.csv')\n",
    "# dfi = get_df(DATA_DIR + 'pai_instance_table_tiny.csv')\n",
    "# dft = get_df(DATA_DIR + 'pai_task_table_tiny.csv')\n",
    "\n",
    "dfg = get_df(DATA_DIR + 'pai_group_tag_table.csv')\n",
    "dfi = get_df(DATA_DIR + 'pai_instance_table.csv')\n",
    "dft = get_df(DATA_DIR + 'pai_task_table.csv')\n",
    "\n",
    "\n",
    "dfj = get_df(DATA_DIR + 'pai_job_table.csv')\n",
    "# dfs = get_df(DATA_DIR + 'pai_sensor_table.csv')\n",
    "# dfp = get_df(DATA_DIR + 'pai_machine_spec.csv')\n",
    "# dfm = get_df(DATA_DIR + 'pai_machine_metric.csv')"
   ]
  },
  {
   "cell_type": "markdown",
   "metadata": {},
   "source": [
    "## Join tables"
   ]
  },
  {
   "cell_type": "markdown",
   "metadata": {},
   "source": [
    "`dfa`: DataFrame of Tasks"
   ]
  },
  {
   "cell_type": "code",
   "execution_count": null,
   "metadata": {},
   "outputs": [],
   "source": [
    "dfa = get_dfa(dft, dfj, dfi, dfg)\n",
    "# dfa.to_csv('dfa.csv') # optional"
   ]
  },
  {
   "cell_type": "code",
   "execution_count": null,
   "metadata": {},
   "outputs": [],
   "source": [
    "dfag = dfa[dfa['workload'].notnull()]"
   ]
  },
  {
   "cell_type": "code",
   "execution_count": null,
   "metadata": {},
   "outputs": [],
   "source": [
    "dfag.head()"
   ]
  },
  {
   "cell_type": "code",
   "execution_count": null,
   "metadata": {},
   "outputs": [],
   "source": [
    "dfag.describe()"
   ]
  },
  {
   "cell_type": "code",
   "execution_count": null,
   "metadata": {},
   "outputs": [],
   "source": [
    "dfag.to_csv(\"tasks_with_workload.csv\")"
   ]
  },
  {
   "cell_type": "markdown",
   "metadata": {},
   "source": [
    "`dfw`: DataFrame of Workers"
   ]
  },
  {
   "cell_type": "code",
   "execution_count": null,
   "metadata": {},
   "outputs": [],
   "source": [
    "dfw = get_dfw(dfi, dft, dfg)\n",
    "# dfw.to_csv('dfw.csv') # optional"
   ]
  },
  {
   "cell_type": "code",
   "execution_count": null,
   "metadata": {},
   "outputs": [],
   "source": [
    "dfi.head()"
   ]
  },
  {
   "cell_type": "markdown",
   "metadata": {},
   "source": [
    "`dfws`: DataFrame of Worker with sensor data"
   ]
  },
  {
   "cell_type": "code",
   "execution_count": null,
   "metadata": {},
   "outputs": [],
   "source": [
    "# dfws = dfw.merge(dfp.drop(columns={'gpu_type'}), on='machine', how='left')\n",
    "# dfws = dfws.merge(dfs.drop(columns=['job_name','task_name','inst_id','machine']), on='worker_name')\n",
    "# dfws.to_csv('dfws.csv') # optional"
   ]
  },
  {
   "cell_type": "markdown",
   "metadata": {},
   "source": [
    "`dfas`: DataFrame of Task with sensor data"
   ]
  },
  {
   "cell_type": "code",
   "execution_count": null,
   "metadata": {},
   "outputs": [],
   "source": [
    "# dfas = dfws.groupby(['job_name','task_name'])[['cpu_usage','gpu_wrk_util','avg_mem','avg_gpu_wrk_mem','plan_cpu','plan_gpu','plan_mem','cap_cpu','cap_gpu','cap_mem']].sum()\n",
    "# dfas = dfa.drop(columns=['plan_cpu','plan_mem','plan_gpu']).merge(dfas, on=['job_name','task_name'])\n",
    "# dfas.to_csv('dfas.csv') # optional"
   ]
  },
  {
   "cell_type": "markdown",
   "metadata": {},
   "source": [
    "# Groups and workloads"
   ]
  },
  {
   "cell_type": "code",
   "execution_count": null,
   "metadata": {},
   "outputs": [],
   "source": [
    "dfg.head()"
   ]
  },
  {
   "cell_type": "code",
   "execution_count": null,
   "metadata": {},
   "outputs": [],
   "source": [
    "dfg.describe()"
   ]
  },
  {
   "cell_type": "code",
   "execution_count": null,
   "metadata": {},
   "outputs": [],
   "source": [
    "import plotly.express as px"
   ]
  },
  {
   "cell_type": "code",
   "execution_count": null,
   "metadata": {},
   "outputs": [],
   "source": [
    "dfg_workload = dfw[dfw['workload'].notnull()]"
   ]
  },
  {
   "cell_type": "code",
   "execution_count": null,
   "metadata": {},
   "outputs": [],
   "source": [
    "dfg_workload.describe()"
   ]
  },
  {
   "cell_type": "code",
   "execution_count": null,
   "metadata": {},
   "outputs": [],
   "source": [
    "dfg_workload.head()"
   ]
  },
  {
   "cell_type": "code",
   "execution_count": null,
   "metadata": {},
   "outputs": [],
   "source": [
    "dfg_workload.to_csv(\n",
    "    DATA_DIR + 'workers_with_workload.csv'\n",
    ")"
   ]
  },
  {
   "cell_type": "code",
   "execution_count": null,
   "metadata": {},
   "outputs": [],
   "source": [
    "px.histogram(\n",
    "    dfg_workload,\n",
    "    x=\"workload\",\n",
    "    # y=\"inst_id\",\n",
    "    title=\"Number of instances (container runs) for each type of model\"\n",
    ")"
   ]
  },
  {
   "cell_type": "code",
   "execution_count": null,
   "metadata": {},
   "outputs": [],
   "source": [
    "dfg_workload.head()"
   ]
  },
  {
   "cell_type": "code",
   "execution_count": null,
   "metadata": {},
   "outputs": [],
   "source": [
    "dfg_workload[\"status\"]"
   ]
  },
  {
   "cell_type": "code",
   "execution_count": null,
   "metadata": {},
   "outputs": [],
   "source": [
    "# dfg_workload[[\"status\"]].describe()\n",
    "px.histogram(\n",
    "    dfg_workload,\n",
    "    x=\"status\"\n",
    ")"
   ]
  },
  {
   "cell_type": "code",
   "execution_count": null,
   "metadata": {},
   "outputs": [],
   "source": [
    "# px.histogram(\n",
    "#     dfg_workload,\n",
    "#     x=\"inst_num\",\n",
    "#     color=\"workload\"\n",
    "# )\n",
    "\n",
    "px.line(\n",
    "    dfg_workload,\n",
    "    x=\"inst_num\",\n",
    "    color=\"workload\",\n",
    "    log_x=True,\n",
    ")"
   ]
  },
  {
   "cell_type": "code",
   "execution_count": null,
   "metadata": {},
   "outputs": [],
   "source": [
    "px.histogram(\n",
    "    dfg_workload,\n",
    "    x=\"plan_cpu\",\n",
    "    color=\"workload\",\n",
    "    nbins=10,\n",
    ")"
   ]
  },
  {
   "cell_type": "code",
   "execution_count": null,
   "metadata": {},
   "outputs": [],
   "source": []
  },
  {
   "cell_type": "markdown",
   "metadata": {},
   "source": [
    "Below: the original analysis\n",
    "\n",
    "# Workload Characterization"
   ]
  },
  {
   "cell_type": "markdown",
   "metadata": {},
   "source": [
    "## Overview"
   ]
  },
  {
   "cell_type": "markdown",
   "metadata": {},
   "source": [
    "### Figure 2: Overview of MLaaS workloads"
   ]
  },
  {
   "cell_type": "code",
   "execution_count": null,
   "metadata": {},
   "outputs": [],
   "source": [
    "user_task_count = dfa.groupby('user').count()[['job_name']]\n",
    "\n",
    "plt.figure(figsize=(4,3), dpi=120)\n",
    "plot_data_cdf(user_task_count['job_name'], xlog=True,\n",
    "              ylabel='CDF',xlabel='Num of tasks submitted per User',\n",
    "              xticks=[1,10,100,10**3,10**4,10**5])"
   ]
  },
  {
   "cell_type": "code",
   "execution_count": null,
   "metadata": {},
   "outputs": [],
   "source": [
    "inst_num_list = list(range(2, 300, 2))+list(range(300, 620, 20))\n",
    "inst_task_num_ratio_df = get_inst_task_num_ratio(dfa, inst_num_list) * 100\n",
    "\n",
    "plt.figure(figsize=(4,3), dpi=120)\n",
    "plt.plot(inst_task_num_ratio_df.T.num_inst_ratio, label='Portion of instances\\namong all instances')\n",
    "plt.grid(alpha=0.8, linestyle='--')\n",
    "plt.xlabel('Num of Instances in the Task')\n",
    "plt.ylabel('CCDF')\n",
    "plt.xticks((2,100,200,300,400,500,600))\n",
    "plt.yticks([0,10,20,30,40,50,60,70,80])\n",
    "plt.xlim(2, 600)\n",
    "plt.ylim(0, 85)\n",
    "plt.legend(fontsize=15)"
   ]
  },
  {
   "cell_type": "markdown",
   "metadata": {},
   "source": [
    "## Temporal Pattern"
   ]
  },
  {
   "cell_type": "markdown",
   "metadata": {},
   "source": [
    "### Figure 3: Task submission patterns"
   ]
  },
  {
   "cell_type": "code",
   "execution_count": null,
   "metadata": {},
   "outputs": [],
   "source": [
    "offset = -600\n",
    "dfa['hourofyear'] = dfa.start_date.apply(lambda c: c.dayofyear * 24 + c.hour)\n",
    "dftcc = dfa.groupby('hourofyear').count()[['job_name']].reset_index()\n",
    "dftcc['hour'] = dftcc.hourofyear + offset\n",
    "print('Hour 0 Date: {}'.format(dfa[dfa.hourofyear==-offset].start_date.min()))\n",
    "\n",
    "plt.figure(figsize=(12,3), dpi=120)\n",
    "num_days = 7\n",
    "plt.plot(dftcc[(dftcc.hour>=0)&(dftcc.hour<24*num_days+1)].set_index('hour')[['job_name']], color='tomato')\n",
    "plt.xlabel('Hours from the beginning of a week (Sun. to Sat.)')\n",
    "plt.ylabel('Num. of Tasks')\n",
    "plt.grid(alpha=0.8, linestyle='-.')\n",
    "plt.xlim(0, 24*num_days)\n",
    "plt.ylim(0, )\n",
    "plt.yticks([250,500,750,1000,1250])\n",
    "_ = plt.xticks([24 * x for x in range(num_days+1)])\n",
    "# plt.savefig('/tmp/figures/{}.pdf'.format('diurnal-pattern-task'),bbox_inches='tight')"
   ]
  },
  {
   "cell_type": "code",
   "execution_count": null,
   "metadata": {},
   "outputs": [],
   "source": [
    "hourly_task = get_hourly_task_request(dfa)\n",
    "hourly_task_data_df = pd.melt(hourly_task, \n",
    "    value_vars=[ 0,  1,  2,  3,  4,  5,  6,  7,  8,  9, 10, 11, 12, 13, 14, 15, 16, 17, 18, 19, 20, 21, 22, 23])\n",
    "hourly_task_data_df['hour'] = hourly_task_data_df['hour'].astype('int')\n",
    "\n",
    "matplotlib.rcParams.update({\"font.size\": 24})\n",
    "plt.figure(figsize=(16,4), dpi=120)\n",
    "highlight_color = 'tomato'\n",
    "mean_value = hourly_task_data_df.value.mean()\n",
    "color_df = pd.DataFrame(hourly_task_data_df.groupby('hour').mean())\n",
    "color_df['color'] = color_df.value.apply(lambda x: '1' if x < mean_value else highlight_color)\n",
    "color_df['mean_value'] = mean_value\n",
    "color_palette = sns.blend_palette(color_df.color.tolist(), n_colors=24)\n",
    "\n",
    "g = sns.boxplot(data=hourly_task_data_df, x='hour', y='value', whis=1, fliersize=0, palette=color_palette)\n",
    "g.set(ylim=(0, 2100))\n",
    "g.set(xlabel='Hour of the day (12am - 11pm)')\n",
    "g.set(ylabel='#Task submitted')\n",
    "plt.yticks([0,500,1000,1500,2000])\n",
    "plt.grid(alpha=0.8, linestyle='-.')\n",
    "matplotlib.rcParams.update({\"font.size\": 16})\n",
    "# plt.savefig('/tmp/figures/{}.pdf'.format('overview-task_submission_hourly'),bbox_inches='tight')"
   ]
  },
  {
   "cell_type": "code",
   "execution_count": null,
   "metadata": {},
   "outputs": [],
   "source": [
    "dfw['hourofyear'] = dfw.start_date.apply(lambda c: c.dayofyear * 24 + c.hour)\n",
    "dfitcr = dfw.groupby('hourofyear').sum()[['plan_cpu','plan_gpu','plan_mem']].reset_index()\n",
    "dfitcr['hour'] = dfitcr.hourofyear + offset\n",
    "print('Hour 0 Date: {}'.format(dfa[dfa.hourofyear==-offset].start_date.min()))\n",
    "\n",
    "plt.figure(figsize=(12,3), dpi=120)\n",
    "num_days = 7\n",
    "plt.plot(dfitcr[(dfitcr.hour>=0)&(dfitcr.hour<24*num_days)].set_index('hour')['plan_cpu']/1000, label='10 CPU cores', linestyle='solid')\n",
    "plt.plot(dfitcr[(dfitcr.hour>=0)&(dfitcr.hour<24*num_days)].set_index('hour')['plan_gpu']/100, label='1 GPU', linestyle='dotted')\n",
    "plt.plot(dfitcr[(dfitcr.hour>=0)&(dfitcr.hour<24*num_days)].set_index('hour')['plan_mem']/100, label='100 GB Memory', linestyle='dashed')\n",
    "plt.xlabel('Hours from the beginning of a week (Sun. to Sat.)')\n",
    "plt.ylabel('Total resource requests')\n",
    "plt.grid(alpha=0.8, linestyle='-.')\n",
    "plt.legend(ncol=1, loc='best')\n",
    "plt.xlim(0, 24*num_days)\n",
    "_ = plt.xticks([24 * x for x in range(num_days+1)])"
   ]
  },
  {
   "cell_type": "code",
   "execution_count": null,
   "metadata": {},
   "outputs": [],
   "source": [
    "plan_cpu_df = get_hourly_task_resource_request(dfw.dropna(subset=['job_name']), metrics='cpu')\n",
    "plan_cpu_data_df = pd.melt(plan_cpu_df, \n",
    "    value_vars=[ 0,  1,  2,  3,  4,  5,  6,  7,  8,  9, 10, 11, 12, 13, 14, 15, 16, 17, 18, 19, 20, 21, 22, 23])\n",
    "plan_cpu_data_df['hour'] = plan_cpu_data_df['hour'].astype('int')\n",
    "\n",
    "matplotlib.rcParams.update({\"font.size\": 24})\n",
    "plt.figure(figsize=(16,4), dpi=120)\n",
    "highlight_color = 'royalblue'\n",
    "mean_value = plan_cpu_data_df.value.mean()\n",
    "color_df = pd.DataFrame(plan_cpu_data_df.groupby('hour').mean())\n",
    "color_df['color'] = color_df.value.apply(lambda x: '1' if x < mean_value else highlight_color)\n",
    "color_palette = sns.blend_palette(color_df.color.tolist(), n_colors=24)\n",
    "\n",
    "g = sns.boxplot(data=plan_cpu_data_df, x='hour', y='value', whis=1, fliersize=0, palette=color_palette)\n",
    "g.set(ylim=(0, 52000))\n",
    "g.set(xlabel='Hour of the day (12am - 11pm)')\n",
    "g.set(ylabel='#CPUs requested')\n",
    "plt.grid(alpha=0.8, linestyle='-.')\n",
    "matplotlib.rcParams.update({\"font.size\": 16})\n",
    "# plt.savefig('/tmp/figures/{}.pdf'.format('overview-cpu_request_hourly'),bbox_inches='tight')"
   ]
  },
  {
   "cell_type": "markdown",
   "metadata": {},
   "source": [
    "### Figure 4: Task runtime and wait time"
   ]
  },
  {
   "cell_type": "code",
   "execution_count": null,
   "metadata": {},
   "outputs": [],
   "source": [
    "dfphilly = pd.read_csv('philly_runtime.csv')\n",
    "# Source: https://github.com/msr-fiddle/philly-traces\n",
    "# Myeongjae Jeon, et al. \"Analysis of large-scale multi-tenant GPU clusters for DNN training workloads.\" USENIX ATC'19"
   ]
  },
  {
   "cell_type": "code",
   "execution_count": null,
   "metadata": {},
   "outputs": [],
   "source": [
    "plot_data_cdfs([dfa.runtime_i.dropna(),dfphilly.runtime.dropna()], ['PAI','Philly'],\n",
    "               xticks=[10,100,1000,10000,10**5,10**6], xlim=[10,10**6],\n",
    "               xlog=True, xlabel='Task runtime (sec)', loc='lower right')"
   ]
  },
  {
   "cell_type": "code",
   "execution_count": null,
   "metadata": {},
   "outputs": [],
   "source": [
    "data_df = dfa\n",
    "median_time = data_df.runtime_i.median()\n",
    "data_df['wait_over_completion'] = data_df['wait_time']/data_df['runtime']\n",
    "plot_data_cdfs([100*data_df[data_df.runtime_i > median_time]['wait_over_completion'].dropna(),\n",
    "                100*data_df['wait_over_completion'].dropna(),\n",
    "                100*data_df[data_df.runtime_i <= median_time]['wait_over_completion'].dropna()],\n",
    "               ['Long 50% tasks','All tasks','Short 50% tasks'], xlim=[0,100], \n",
    "               xlabel='wait_time / completion_time (%)', figsize=(4,3))"
   ]
  },
  {
   "cell_type": "markdown",
   "metadata": {},
   "source": [
    "### Figure 5: Task wait time and runtime by GPU requests"
   ]
  },
  {
   "cell_type": "code",
   "execution_count": null,
   "metadata": {},
   "outputs": [],
   "source": [
    "data_df = dfa\n",
    "data = [data_df[data_df.plan_gpu < 25].wait_time.dropna(),\n",
    "        data_df[(data_df.plan_gpu >= 25)&(data_df.plan_gpu < 50)].wait_time.dropna(),\n",
    "        data_df[(data_df.plan_gpu >= 50)&(data_df.plan_gpu < 100)].wait_time.dropna(),\n",
    "        data_df[(data_df.plan_gpu ==100)].wait_time.dropna(),\n",
    "        data_df[(data_df.plan_gpu > 100)].wait_time.dropna()]\n",
    "data_label = ['< 25% GPU', '[25%, 50%) GPU', '[50%, 100%) GPU', '1 GPU','> 1 GPU']\n",
    "plot_data_cdfs(data, datalabel=data_label, figsize=(5,3.75), dpi=120,\n",
    "               xlog=True, xticks=[1,10,100,1000,10**4,10**5], xlim=(1, 10**5), xlabel='Task wait time (sec)')"
   ]
  },
  {
   "cell_type": "code",
   "execution_count": null,
   "metadata": {},
   "outputs": [],
   "source": [
    "data_df = dfa\n",
    "data = [data_df[data_df.gpu_type=='T4'].wait_time.dropna(),\n",
    "        data_df[data_df.gpu_type=='MISC'].wait_time.dropna(),\n",
    "        data_df[data_df.gpu_type=='P100'].wait_time.dropna(),\n",
    "        data_df[data_df.gpu_type=='V100'].wait_time.dropna(),\n",
    "        data_df[data_df.gpu_type=='V100M32'].wait_time.dropna(),]\n",
    "data_label = ['T4', 'MISC', 'P100', 'V100', 'V100M32']\n",
    "plot_data_cdfs(data, datalabel=data_label, figsize=(5,3.75), dpi=120,\n",
    "               xlog=True, xticks=[1,10,100,1000,10**4,10**5], xlim=(1, 10**5), xlabel='Task wait time (sec)')"
   ]
  },
  {
   "cell_type": "code",
   "execution_count": null,
   "metadata": {},
   "outputs": [],
   "source": [
    "data_df = dfa\n",
    "data = [len(data_df[data_df.plan_gpu < 25]),\n",
    "        len(data_df[(data_df.plan_gpu >= 25)&(data_df.plan_gpu < 50)]), \n",
    "        len(data_df[(data_df.plan_gpu >= 50)&(data_df.plan_gpu < 100)]), \n",
    "        len(data_df[(data_df.plan_gpu ==100)]),\n",
    "        len(data_df[(data_df.plan_gpu > 100)]),\n",
    "        len(data_df[data_df.gpu_type=='T4']),\n",
    "        len(data_df[data_df.gpu_type=='MISC']),\n",
    "        len(data_df[data_df.gpu_type=='P100']),\n",
    "        len(data_df[data_df.gpu_type=='V100']),\n",
    "        len(data_df[data_df.gpu_type=='V100M32'])]\n",
    "data_plot = [100 * i / len(data_df.plan_gpu.dropna()) for i in data]\n",
    "data_label = ['< 25% GPU', '[25%, 50%) GPU', '[50%, 1) GPU', '1 GPU','> 1 GPU',\n",
    "'T4','MISC','P100','V100','V100M32']\n",
    "\n",
    "f, axes = plt.subplots(2, 1, figsize=(4, 4), sharex=False, dpi=120)\n",
    "rect = sns.barplot(y=data_label[:5], x=data_plot[:5], orient='h', ax=axes[0], edgecolor='black')\n",
    "axes[0].grid(alpha=0.8, linestyle='-.',axis='x')\n",
    "axes[0].set_xticks(range(0, 80, 10))\n",
    "sns.barplot(y=data_label[5:], x=data_plot[5:], orient='h', ax=axes[1], edgecolor='black')\n",
    "axes[1].grid(alpha=0.8, linestyle='-.',axis='x')\n",
    "axes[1].set_xticks(range(0, 80, 10))\n",
    "plt.xlabel('Proportion of Tasks (%)')"
   ]
  },
  {
   "cell_type": "code",
   "execution_count": null,
   "metadata": {},
   "outputs": [],
   "source": [
    "data_df = dfa\n",
    "data_label = ['T4', 'MISC', 'P100', 'V100', 'V100M32']\n",
    "data=[data_df[(data_df.gpu_type==v) & (data_df.status=='Terminated')].runtime_i.dropna() for v in data_label]\n",
    "plot_data_cdfs(data, data_label, xlabel=\"Task runtime (sec)\", \n",
    "               xticks=[10**x for x in range(1, 7)], xlog=True,\n",
    "               figsize=(4,3), dpi=120, xlim=[10, 10**6], fontsize=12)"
   ]
  },
  {
   "cell_type": "markdown",
   "metadata": {},
   "source": [
    "## Spatial Pattern"
   ]
  },
  {
   "cell_type": "markdown",
   "metadata": {},
   "source": [
    "### Figure 6: Task resource request and usage"
   ]
  },
  {
   "cell_type": "code",
   "execution_count": null,
   "metadata": {},
   "outputs": [],
   "source": [
    "data_df = dfas\n",
    "plot_data_cdfs([data_df['plan_cpu'].dropna(), data_df['cpu_usage'].dropna()], ['CPU Request', 'CPU Usage'],\n",
    "               xlabel='% of CPU', xlim=(0, 6000), ylabel='CDF', xticks=[0,600,2000,4000,6000], dpi=120)"
   ]
  },
  {
   "cell_type": "code",
   "execution_count": null,
   "metadata": {},
   "outputs": [],
   "source": [
    "data_df = dfas\n",
    "plot_data_cdfs([data_df['plan_gpu'].dropna(), data_df['gpu_wrk_util'].dropna()], ['GPU Request', 'GPU Usage'],\n",
    "               xlabel='% of GPU', xlim=(0, 600), ylabel='CDF', xticks=[0,100,200,400,600], dpi=120,loc='lower right')"
   ]
  },
  {
   "cell_type": "code",
   "execution_count": null,
   "metadata": {},
   "outputs": [],
   "source": [
    "data_df = dfas\n",
    "plot_data_cdfs([data_df['plan_mem'].dropna(), data_df['avg_gpu_wrk_mem'].dropna()], ['Mem Request', 'Mem Usage'],\n",
    "               xlabel='GB of Main Memory', xlim=(0, 300), ylabel='CDF', xticks=[0,30,100,200,300], dpi=120)"
   ]
  },
  {
   "cell_type": "code",
   "execution_count": null,
   "metadata": {},
   "outputs": [],
   "source": [
    "dfa.columns"
   ]
  },
  {
   "cell_type": "code",
   "execution_count": null,
   "metadata": {},
   "outputs": [],
   "source": [
    "pgu_datas, ugp_datas, pgu_label, ugp_label = plan_minus_usg_over_cap_task(dfas)\n",
    "data = [(100 * ugp_datas[i]).tolist() + (-100 * pgu_datas[i]).tolist() for i in [0,1,2]]\n",
    "datalabel = ['CPU','GPU','Mem']\n",
    "\n",
    "from matplotlib.ticker import StrMethodFormatter, NullFormatter\n",
    "fig, ax = plt.subplots(dpi=120, figsize=(4,3))\n",
    "for i, d in enumerate(data):\n",
    "    if type(data) == pd.DataFrame:\n",
    "        d.dropna(inplace=True)\n",
    "    x, y = get_cdf(d)\n",
    "    label = datalabel[i] if datalabel is not None else None\n",
    "    ax.plot(x, y, label=label, linestyle=linestyle_list[i % len(linestyle_list)][1])\n",
    "ax.set_xscale('symlog', linscale=1, linthresh=1)\n",
    "ax.set_yticks([0,20,40,60,80,100])\n",
    "ax.xaxis.set_major_formatter(StrMethodFormatter('{x:.0f}'))\n",
    "ax.set_xlim([-100, 100])\n",
    "ax.set_ylim([0,100])\n",
    "ax.grid(alpha=0.8, linestyle='-.')\n",
    "plt.ylabel('CDF')\n",
    "plt.xlabel('(Usage-request)/capacity (%)')\n",
    "ax.legend()"
   ]
  },
  {
   "cell_type": "markdown",
   "metadata": {},
   "source": [
    "# Cluster Characteristics"
   ]
  },
  {
   "cell_type": "markdown",
   "metadata": {},
   "source": [
    "## Machine resource usage"
   ]
  },
  {
   "cell_type": "markdown",
   "metadata": {},
   "source": [
    "### Figure 8: Low in network input and CPU I/O wait time"
   ]
  },
  {
   "cell_type": "code",
   "execution_count": null,
   "metadata": {},
   "outputs": [],
   "source": [
    "plot_data_cdf(8*dfws.read.dropna()/(1024**3), xlog=True, figsize=(4,3),\n",
    "              xticks=[10**-3, 10**-2, 10**-1, 1, 10, 100], xlim=[2*10**-4, 200],\n",
    "              xlabel='Machine network receive (Gbps)')"
   ]
  },
  {
   "cell_type": "code",
   "execution_count": null,
   "metadata": {},
   "outputs": [],
   "source": [
    "plot_data_cdfs([dfm[x].dropna() for x in ['machine_cpu_iowait','machine_cpu_usr','machine_cpu_kernel']],\n",
    "               ['iowait','usr','kernel'], xlog=True, figsize=(4,3),\n",
    "               xticks=[10**-4,10**-3, 10**-2, 10**-1, 1, 10, 100], xlim=[10**-4, 200],\n",
    "               xlabel='Machine-level CPU usage (%)')"
   ]
  }
 ],
 "metadata": {
  "interpreter": {
   "hash": "8eab72c90ef7b6cf7a47cf9058599fe69878ae5c291bf7d8c10fb9498bc1b89e"
  },
  "kernelspec": {
   "display_name": "Python 3 (ipykernel)",
   "language": "python",
   "name": "python3"
  },
  "language_info": {
   "codemirror_mode": {
    "name": "ipython",
    "version": 3
   },
   "file_extension": ".py",
   "mimetype": "text/x-python",
   "name": "python",
   "nbconvert_exporter": "python",
   "pygments_lexer": "ipython3"
  },
  "toc": {
   "base_numbering": 1,
   "nav_menu": {},
   "number_sections": true,
   "sideBar": true,
   "skip_h1_title": false,
   "title_cell": "Table of Contents",
   "title_sidebar": "Contents",
   "toc_cell": false,
   "toc_position": {
    "height": "calc(100% - 180px)",
    "left": "10px",
    "top": "150px",
    "width": "165px"
   },
   "toc_section_display": true,
   "toc_window_display": false
  }
 },
 "nbformat": 4,
 "nbformat_minor": 4
}
