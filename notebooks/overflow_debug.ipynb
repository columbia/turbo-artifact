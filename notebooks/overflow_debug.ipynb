{
 "cells": [
  {
   "cell_type": "code",
   "execution_count": null,
   "metadata": {},
   "outputs": [],
   "source": [
    "%load_ext autoreload \n",
    "%autoreload 2"
   ]
  },
  {
   "cell_type": "code",
   "execution_count": null,
   "metadata": {},
   "outputs": [],
   "source": [
    "import json\n",
    "from privacypacking.utils.utils import load_logs, global_metrics\n",
    "import pandas as pd\n",
    "from experiments.ray.analysis import load_ray_experiment, load_latest_ray_experiment, load_latest_scheduling_results, load_latest_scheduling_results\n",
    "import plotly.express as px\n",
    "from privacypacking.budget.curves import  LaplaceCurve, GaussianCurve, SubsampledGaussianCurve\n",
    "from privacypacking.budget import Budget, Task, Block\n",
    "from privacypacking.schedulers.metrics import OverflowRelevance, FlatRelevance\n",
    "from privacypacking.budget.block_selection import RandomBlocks\n",
    "from privacypacking.utils.plot import plot_budgets\n",
    "import yaml"
   ]
  },
  {
   "cell_type": "code",
   "execution_count": null,
   "metadata": {},
   "outputs": [],
   "source": [
    "block = Budget.from_epsilon_delta(epsilon=10, delta=1e-5)"
   ]
  },
  {
   "cell_type": "code",
   "execution_count": null,
   "metadata": {},
   "outputs": [],
   "source": [
    "t1 = GaussianCurve(sigma=3) + LaplaceCurve(laplace_noise=1)\n",
    "t2 = GaussianCurve(sigma=2) + LaplaceCurve(laplace_noise=2)\n",
    "plot_budgets([t1, t2, block])"
   ]
  },
  {
   "cell_type": "code",
   "execution_count": null,
   "metadata": {},
   "outputs": [],
   "source": [
    "print(yaml.dump(t1.epsilons))\n",
    "print()\n",
    "print(yaml.dump(t2.epsilons))"
   ]
  },
  {
   "cell_type": "code",
   "execution_count": null,
   "metadata": {},
   "outputs": [],
   "source": [
    "plot_budgets([\n",
    "    t1.normalize_by(block),\n",
    "    t2.normalize_by(block),\n",
    "])"
   ]
  },
  {
   "cell_type": "code",
   "execution_count": null,
   "metadata": {},
   "outputs": [],
   "source": [
    "plot_budgets([\n",
    "    (t1 * 10).approx_epsilon_bound(delta=1e-5),\n",
    "    (t2 * 10).approx_epsilon_bound(delta=1e-5),\n",
    "])"
   ]
  },
  {
   "cell_type": "code",
   "execution_count": null,
   "metadata": {},
   "outputs": [],
   "source": [
    "task1 = Task(id=1, profit=1, block_selection_policy=RandomBlocks, n_blocks=1)\n",
    "task1.budget_per_block[1] = t1\n",
    "\n",
    "task2 = Task(id=2, profit=1, block_selection_policy=RandomBlocks, n_blocks=1)\n",
    "task2.budget_per_block[1] = t2\n",
    "\n",
    "block1 = Block(id=1, budget=block)\n",
    "\n"
   ]
  },
  {
   "cell_type": "code",
   "execution_count": null,
   "metadata": {},
   "outputs": [],
   "source": [
    "task1.budget_per_block[1]"
   ]
  },
  {
   "cell_type": "code",
   "execution_count": null,
   "metadata": {},
   "outputs": [],
   "source": [
    "task2.budget_per_block[1]"
   ]
  },
  {
   "cell_type": "code",
   "execution_count": null,
   "metadata": {},
   "outputs": [],
   "source": [
    "OverflowRelevance.apply(task1, blocks={1:block1}, tasks=[task1, task2]*100)"
   ]
  },
  {
   "cell_type": "code",
   "execution_count": null,
   "metadata": {},
   "outputs": [],
   "source": [
    "OverflowRelevance.apply(task2, blocks={1:block1}, tasks=[task1, task2]*100)"
   ]
  },
  {
   "cell_type": "code",
   "execution_count": null,
   "metadata": {},
   "outputs": [],
   "source": [
    "FlatRelevance.apply(task1, blocks={1:block1}, tasks=[task1, task2]*100)"
   ]
  },
  {
   "cell_type": "code",
   "execution_count": null,
   "metadata": {},
   "outputs": [],
   "source": [
    "FlatRelevance.apply(task2, blocks={1:block1}, tasks=[task1, task2]*100)"
   ]
  },
  {
   "cell_type": "code",
   "execution_count": null,
   "metadata": {},
   "outputs": [],
   "source": []
  },
  {
   "cell_type": "code",
   "execution_count": null,
   "metadata": {},
   "outputs": [],
   "source": [
    "df = load_latest_ray_experiment()"
   ]
  },
  {
   "cell_type": "code",
   "execution_count": null,
   "metadata": {},
   "outputs": [],
   "source": [
    "px.line(df.sort_values('n_tasks'), x=\"n_tasks\", y=\"n_allocated_tasks\", color=\"scheduler_metric\", title=\"Single DPF killer\", facet_col=\"block_selecting_policy\")"
   ]
  },
  {
   "cell_type": "code",
   "execution_count": null,
   "metadata": {},
   "outputs": [],
   "source": [
    "df = load_latest_ray_experiment()\n",
    "px.line(df.sort_values('n_tasks'), x=\"n_tasks\", y=\"n_allocated_tasks\", color=\"scheduler_metric\", title=\"Single DPF killer\", facet_col=\"block_selecting_policy\")"
   ]
  },
  {
   "cell_type": "code",
   "execution_count": null,
   "metadata": {},
   "outputs": [],
   "source": [
    "df = load_latest_ray_experiment()\n",
    "px.line(df.sort_values('n_tasks'), x=\"n_tasks\", y=\"n_allocated_tasks\", color=\"scheduler_metric\", title=\"Single DPF killer\", facet_col=\"block_selecting_policy\")"
   ]
  },
  {
   "cell_type": "code",
   "execution_count": null,
   "metadata": {},
   "outputs": [],
   "source": [
    "df = load_latest_ray_experiment()\n",
    "px.line(df.sort_values('n_tasks'), x=\"n_tasks\", y=\"n_allocated_tasks\", color=\"scheduler_metric\", title=\"Single DPF killer\", facet_col=\"scheduler\")"
   ]
  },
  {
   "cell_type": "code",
   "execution_count": null,
   "metadata": {},
   "outputs": [],
   "source": [
    "t1 = GaussianCurve(sigma=5) + LaplaceCurve(laplace_noise=2)\n",
    "t2 = GaussianCurve(sigma=3) + LaplaceCurve(laplace_noise=5)\n",
    "plot_budgets([t1, t2, block])"
   ]
  },
  {
   "cell_type": "code",
   "execution_count": null,
   "metadata": {},
   "outputs": [],
   "source": [
    "plot_budgets([\n",
    "    (t1 * 20).approx_epsilon_bound(delta=1e-5),\n",
    "    (t2 * 20).approx_epsilon_bound(delta=1e-5),\n",
    "])"
   ]
  },
  {
   "cell_type": "code",
   "execution_count": null,
   "metadata": {},
   "outputs": [],
   "source": [
    "print(yaml.dump(t1.epsilons))\n",
    "print()\n",
    "print(yaml.dump(t2.epsilons))"
   ]
  },
  {
   "cell_type": "code",
   "execution_count": null,
   "metadata": {},
   "outputs": [],
   "source": [
    "task1 = Task(id=1, profit=1, block_selection_policy=RandomBlocks, n_blocks=1)\n",
    "task1.budget_per_block[1] = t1\n",
    "\n",
    "task2 = Task(id=2, profit=1, block_selection_policy=RandomBlocks, n_blocks=1)\n",
    "task2.budget_per_block[1] = t2\n",
    "\n",
    "block1 = Block(id=1, budget=block)"
   ]
  },
  {
   "cell_type": "code",
   "execution_count": null,
   "metadata": {},
   "outputs": [],
   "source": [
    "for t in [task1, task2]:\n",
    "    print(OverflowRelevance.apply(t, blocks={1:block1}, tasks=[task1, task2]*100))\n",
    "    print(FlatRelevance.apply(t, blocks={1:block1}, tasks=[task1, task2]*100))"
   ]
  },
  {
   "cell_type": "code",
   "execution_count": null,
   "metadata": {},
   "outputs": [],
   "source": [
    "df = load_latest_ray_experiment()\n",
    "px.line(df.sort_values('n_tasks'), x=\"n_tasks\", y=\"n_allocated_tasks\", color=\"scheduler_metric\", title=\"Single DPF killer\", facet_col=\"scheduler\")"
   ]
  },
  {
   "cell_type": "code",
   "execution_count": null,
   "metadata": {},
   "outputs": [],
   "source": [
    "df = load_latest_ray_experiment()\n",
    "def func(row):\n",
    "    row[\"scheduler_metric\"] = row[\"scheduler\"] if row[\"scheduler\"] == \"simplex\" else row[\"scheduler_metric\"]\n",
    "    return row\n",
    "df = df.apply(\n",
    "    func, axis=\"columns\" \n",
    "\n",
    ")\n",
    "\n",
    "px.line(df.sort_values('n_tasks'), x=\"n_tasks\", y=\"n_allocated_tasks\", color=\"scheduler_metric\", title=\"Single DPF killer\")"
   ]
  },
  {
   "cell_type": "code",
   "execution_count": null,
   "metadata": {},
   "outputs": [],
   "source": [
    "df"
   ]
  },
  {
   "cell_type": "code",
   "execution_count": null,
   "metadata": {},
   "outputs": [],
   "source": [
    "t1 = GaussianCurve(sigma=1)\n",
    "t2 = SubsampledGaussianCurve(sigma=1, steps=100, sampling_probability=0.01)\n",
    "plot_budgets([t1, t2, block], log_y=True)"
   ]
  },
  {
   "cell_type": "code",
   "execution_count": null,
   "metadata": {},
   "outputs": [],
   "source": [
    "from collections import defaultdict"
   ]
  },
  {
   "cell_type": "code",
   "execution_count": null,
   "metadata": {},
   "outputs": [],
   "source": [
    "data = defaultdict(list)\n",
    "curves = [t1.approx_epsilon_bound(delta=1e-5), t2.approx_epsilon_bound(delta=1e-5)]\n",
    "for curve_id, curve in enumerate(curves):\n",
    "    for alpha, epsilon in zip(curve.alphas, curve.epsilons):\n",
    "        data[\"alpha\"].append(alpha)\n",
    "        data[\"epsilon\"].append(epsilon)\n",
    "        data[\"id\"].append(curve_id)\n",
    "df = pd.DataFrame(data)\n",
    "df"
   ]
  },
  {
   "cell_type": "code",
   "execution_count": null,
   "metadata": {},
   "outputs": [],
   "source": [
    "df.to_csv(\"/home/pierre/privacypacking-paper/results/single_block_killer/standard_epsilon_bound.csv\", index=False)"
   ]
  },
  {
   "cell_type": "code",
   "execution_count": null,
   "metadata": {},
   "outputs": [],
   "source": [
    "plot_budgets([\n",
    "    (t1 * 10).approx_epsilon_bound(delta=1e-5),\n",
    "    (t2 * 10).approx_epsilon_bound(delta=1e-5),\n",
    "], log_y=True)"
   ]
  },
  {
   "cell_type": "code",
   "execution_count": null,
   "metadata": {},
   "outputs": [],
   "source": [
    "print(yaml.dump(t1.epsilons))\n",
    "print()\n",
    "print(yaml.dump(list(map(lambda x : float(x),t2.epsilons))))"
   ]
  },
  {
   "cell_type": "code",
   "execution_count": null,
   "metadata": {},
   "outputs": [],
   "source": [
    "df = load_latest_ray_experiment()\n",
    "def func(row):\n",
    "    row[\"scheduler_metric\"] = row[\"scheduler\"] if row[\"scheduler\"] == \"simplex\" else row[\"scheduler_metric\"]\n",
    "    return row\n",
    "df = df.apply(\n",
    "    func, axis=\"columns\" \n",
    "\n",
    ")\n",
    "\n",
    "px.line(df.sort_values('n_tasks'), x=\"n_tasks\", y=\"n_allocated_tasks\", color=\"scheduler_metric\", title=\"Single DPF killer\")"
   ]
  },
  {
   "cell_type": "code",
   "execution_count": null,
   "metadata": {},
   "outputs": [],
   "source": [
    "df = load_latest_scheduling_results()"
   ]
  },
  {
   "cell_type": "code",
   "execution_count": null,
   "metadata": {},
   "outputs": [],
   "source": [
    "df"
   ]
  },
  {
   "cell_type": "code",
   "execution_count": null,
   "metadata": {},
   "outputs": [],
   "source": [
    "px.bar(\n",
    "#     df,\n",
    "    df.query(\"allocated\"),\n",
    "    x=\"block\",\n",
    "    y=\"epsilon\",\n",
    "#     color=\"log_id\",\n",
    "    color=\"id\",\n",
    "    # barmode=\"group\",\n",
    "    pattern_shape=\"n_blocks\",\n",
    "    facet_col=\"totalblocks_scheduler_selection\",\n",
    "#     animation_frame=\"id\"\n",
    ")\n"
   ]
  }
 ],
 "metadata": {
  "interpreter": {
   "hash": "31f2aee4e71d21fbe5cf8b01ff0e069b9275f58929596ceb00d14d90e3e16cd6"
  },
  "kernelspec": {
   "display_name": "Python 3 (ipykernel)",
   "language": "python",
   "name": "python3"
  },
  "language_info": {
   "codemirror_mode": {
    "name": "ipython",
    "version": 3
   },
   "file_extension": ".py",
   "mimetype": "text/x-python",
   "name": "python",
   "nbconvert_exporter": "python",
   "pygments_lexer": "ipython3"
  }
 },
 "nbformat": 4,
 "nbformat_minor": 4
}
