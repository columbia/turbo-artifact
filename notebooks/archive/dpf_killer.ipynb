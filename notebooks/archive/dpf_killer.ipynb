{
 "cells": [
  {
   "cell_type": "code",
   "execution_count": null,
   "id": "5a84ac5a",
   "metadata": {},
   "outputs": [],
   "source": [
    "%load_ext autoreload \n",
    "%autoreload 2"
   ]
  },
  {
   "cell_type": "code",
   "execution_count": null,
   "id": "58874e90",
   "metadata": {},
   "outputs": [],
   "source": [
    "from privacypacking.budget import LaplaceCurve, Budget, GaussianCurve, SubsampledGaussianCurve\n",
    "from privacypacking.utils.plot import plot_budgets"
   ]
  },
  {
   "cell_type": "code",
   "execution_count": null,
   "id": "2887414c",
   "metadata": {},
   "outputs": [],
   "source": [
    "block = Budget.from_epsilon_delta(epsilon=10, delta=1e-5)"
   ]
  },
  {
   "cell_type": "code",
   "execution_count": null,
   "id": "f4b77b8b",
   "metadata": {},
   "outputs": [],
   "source": [
    "lap1 = LaplaceCurve(laplace_noise=1.0)\n",
    "lap2 = LaplaceCurve(laplace_noise=0.5)"
   ]
  },
  {
   "cell_type": "code",
   "execution_count": null,
   "id": "e2c9554d",
   "metadata": {},
   "outputs": [],
   "source": [
    "plot_budgets([block, lap1, lap2])"
   ]
  },
  {
   "cell_type": "code",
   "execution_count": null,
   "id": "c5f4113e",
   "metadata": {},
   "outputs": [],
   "source": [
    "import yaml"
   ]
  },
  {
   "cell_type": "code",
   "execution_count": null,
   "id": "f3f0915e",
   "metadata": {},
   "outputs": [],
   "source": [
    "print(yaml.dump(\n",
    "    {\n",
    "        \"alphas\":lap2.alphas,\n",
    "        \"rdp_epsilons\": lap2.epsilons,\n",
    "        \"n_blocks\": 100\n",
    "    }\n",
    "))"
   ]
  },
  {
   "cell_type": "code",
   "execution_count": null,
   "id": "0e17eb96",
   "metadata": {},
   "outputs": [],
   "source": [
    "g1 = GaussianCurve(sigma=15) + LaplaceCurve(laplace_noise=5.0)\n",
    "g2 = GaussianCurve(sigma=10) + LaplaceCurve(laplace_noise=10.0)\n",
    "plot_budgets([block, g1, g2])\n"
   ]
  },
  {
   "cell_type": "code",
   "execution_count": null,
   "id": "00a6b3e0",
   "metadata": {},
   "outputs": [],
   "source": [
    "def demand_fractions(curve, block):\n",
    "    demand_fractions = []\n",
    "    # Compute the demand share for each alpha of the block\n",
    "    for alpha in g1.alphas:\n",
    "\n",
    "        # Drop RDP orders that are already negative\n",
    "        if block.epsilon(alpha) > 0:\n",
    "            demand_fractions.append(\n",
    "                curve.epsilon(alpha) / block.epsilon(alpha)\n",
    "            )\n",
    "    return demand_fractions"
   ]
  },
  {
   "cell_type": "code",
   "execution_count": null,
   "id": "8badad72",
   "metadata": {},
   "outputs": [],
   "source": [
    "block"
   ]
  },
  {
   "cell_type": "code",
   "execution_count": null,
   "id": "527b36fe",
   "metadata": {},
   "outputs": [],
   "source": [
    "demand_fractions(g1, block)"
   ]
  },
  {
   "cell_type": "code",
   "execution_count": null,
   "id": "3453478f",
   "metadata": {},
   "outputs": [],
   "source": [
    "demand_fractions(g2, block)"
   ]
  },
  {
   "cell_type": "code",
   "execution_count": null,
   "id": "2eb700fb",
   "metadata": {},
   "outputs": [],
   "source": [
    "print(yaml.dump(\n",
    "    {\n",
    "        \"alphas\":g1.alphas,\n",
    "        \"rdp_epsilons\": g1.epsilons,\n",
    "        \"n_blocks\": 1\n",
    "    }\n",
    "))\n",
    "print(yaml.dump(\n",
    "    {\n",
    "        \"alphas\":g2.alphas,\n",
    "        \"rdp_epsilons\": g2.epsilons,\n",
    "        \"n_blocks\": 1\n",
    "    }\n",
    "))"
   ]
  },
  {
   "cell_type": "code",
   "execution_count": null,
   "id": "78501f5e",
   "metadata": {},
   "outputs": [],
   "source": [
    "import pandas as pd\n",
    "from privacypacking.utils.utils import LOGS_PATH\n",
    "from privacypacking.utils.analysis import load_ray_experiment\n",
    "import plotly.express as px"
   ]
  },
  {
   "cell_type": "code",
   "execution_count": null,
   "id": "bd8f4e62",
   "metadata": {},
   "outputs": [],
   "source": [
    "logs = LOGS_PATH.joinpath(\"ray/run_and_report_2021-09-03_19-12-08\")\n",
    "df = load_ray_experiment(logs)"
   ]
  },
  {
   "cell_type": "code",
   "execution_count": null,
   "id": "70602617",
   "metadata": {},
   "outputs": [],
   "source": [
    "df.describe()"
   ]
  },
  {
   "cell_type": "code",
   "execution_count": null,
   "id": "d62c678d",
   "metadata": {},
   "outputs": [],
   "source": [
    "b"
   ]
  },
  {
   "cell_type": "code",
   "execution_count": null,
   "id": "ba750d7e",
   "metadata": {},
   "outputs": [],
   "source": [
    "logs = LOGS_PATH.joinpath(\"ray/run_and_report_2021-09-08_19-00-11\")\n",
    "df = load_ray_experiment(logs)"
   ]
  },
  {
   "cell_type": "code",
   "execution_count": null,
   "id": "c421cc94",
   "metadata": {},
   "outputs": [],
   "source": [
    "px.line(df.sort_values(\"n_tasks\"), x=\"n_tasks\", y=\"n_allocated_tasks\", color=\"scheduler\", title=\"Multiblock DPF killer\")"
   ]
  },
  {
   "cell_type": "code",
   "execution_count": null,
   "id": "e05e5378",
   "metadata": {},
   "outputs": [],
   "source": [
    "px.line(load_ray_experiment(LOGS_PATH.joinpath(\"ray/run_and_report_2021-09-10_16-31-04\")).sort_values(\"n_tasks\"), x=\"n_tasks\", y=\"n_allocated_tasks\", color=\"scheduler\", title=\"Single block DPF killer\")"
   ]
  }
 ],
 "metadata": {
  "interpreter": {
   "hash": "b98cccd71a9051ff030220fe5db0bf051313c0a8551f4431c6a98276f0db3ddd"
  },
  "kernelspec": {
   "display_name": "Python 3 (ipykernel)",
   "language": "python",
   "name": "python3"
  },
  "language_info": {
   "codemirror_mode": {
    "name": "ipython",
    "version": 3
   },
   "file_extension": ".py",
   "mimetype": "text/x-python",
   "name": "python",
   "nbconvert_exporter": "python",
   "pygments_lexer": "ipython3"
  }
 },
 "nbformat": 4,
 "nbformat_minor": 5
}
