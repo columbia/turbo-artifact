{
 "cells": [
  {
   "attachments": {},
   "cell_type": "markdown",
   "metadata": {},
   "source": [
    "# Setting\n",
    "\n",
    "- We have k chunks to estimate\n",
    "- Each chunk i already has $m_i$ past results $R_{ij} \\sim Lap(1/n_i \\epsilon_{ij})$\n",
    "- Linear combination: $Q_{ij} := \\frac{n_i}{n} \\gamma_{ij}(q_i + R_{ij})$\n",
    "- We need $\\sum_j \\gamma_{ij} = 1$ for each chunk $i$ to have an unbiased estimate\n",
    "- Goal: output an estimate $Q = Q_{10} + \\dots + Q_{1m_1} +\\dots + Q_{k0} + \\dots + Q_{km_k}$\n",
    "- Accuracy constraint: $\\Pr[|Q-q|>\\alpha] < \\beta$\n",
    "- Simplifying budget constraint: $R_{i0} \\sim Lap(1/n_\\epsilon)$ (same budget for everyone!). That's a weird constraint if we have chunks that are already good, let's see if we can set some epsilons to infinity. In the general case we could try an ILP or even some gradient descent on the budget vector?"
   ]
  },
  {
   "cell_type": "code",
   "execution_count": 1,
   "metadata": {},
   "outputs": [],
   "source": [
    "import numpy as np\n",
    "\n",
    "from precycle.utils.utility_theorems import get_epsilon_isotropic_laplace_concentration, binary_search"
   ]
  },
  {
   "cell_type": "code",
   "execution_count": 2,
   "metadata": {},
   "outputs": [],
   "source": [
    "def minimum_variance(epsilons, noises, chunk_sizes):\n",
    "    n_chunks = len(epsilons)\n",
    "    chunk_noises = np.zeros(n_chunks)\n",
    "    for chunk_id in range(n_chunks):\n",
    "        # The variance has an extra 2/n_i^2 factor but it doesn't matter at the chunk level\n",
    "        laplace_coefficients = epsilons[chunk_id] ** 2\n",
    "        # See optimal variance reduction and lemma in Overleaf\n",
    "        laplace_coefficients = laplace_coefficients / sum(laplace_coefficients)\n",
    "        chunk_noises[chunk_id] = np.dot(laplace_coefficients, noises[chunk_id])\n",
    "        \n",
    "    chunk_coefficients = chunk_sizes / sum(chunk_sizes)\n",
    "    aggregated_noise_total = np.dot(chunk_coefficients, chunk_noises)\n",
    "    return aggregated_noise_total"
   ]
  },
  {
   "cell_type": "code",
   "execution_count": 3,
   "metadata": {},
   "outputs": [],
   "source": [
    "# TODO: given epsilon and past results, find beta\n",
    "\n",
    "def monte_carlo_beta(existing_epsilons, chunk_sizes, fresh_epsilon, alpha, N=1_000_000):\n",
    "    \n",
    "    # Add fresh epsilon\n",
    "    epsilons = [\n",
    "        np.append(eps_by_chunk, fresh_epsilon) for eps_by_chunk in existing_epsilons\n",
    "    ]\n",
    "    \n",
    "    # TODO: heuristic to drop some chunks?\n",
    "    \n",
    "    # Vectorized code with a batch dimension corresponding to N\n",
    "    n_chunks = len(epsilons)\n",
    "    n = sum(chunk_sizes)\n",
    "    chunk_noises = np.zeros((N, n_chunks))\n",
    "    for chunk_id in range(n_chunks):\n",
    "        # The final laplace scale (Q_ij), already scaled by n_i/n * eps^2/sum(eps^2)\n",
    "        single_chunk_laplace_scale = epsilons[chunk_id] / (n * np.sum(epsilons[chunk_id] ** 2))\n",
    "        laplace_scale = np.repeat([single_chunk_laplace_scale], N, axis=0)\n",
    "        laplace_noises = np.random.laplace(scale=laplace_scale)\n",
    "        \n",
    "        \n",
    "        # Optimal average for that chunk, N times\n",
    "        chunk_noises[:, chunk_id] = np.sum(laplace_noises, axis=1)\n",
    "        \n",
    "    aggregated_noise_total = np.sum(chunk_noises, axis=1)\n",
    "    beta = np.sum(aggregated_noise_total > alpha) / N\n",
    "    return beta\n"
   ]
  },
  {
   "cell_type": "code",
   "execution_count": 4,
   "metadata": {},
   "outputs": [
    {
     "data": {
      "text/plain": [
       "0.3510764"
      ]
     },
     "execution_count": 4,
     "metadata": {},
     "output_type": "execute_result"
    }
   ],
   "source": [
    "existing_epsilons = [\n",
    "    np.array([1, 0.5, 2]),\n",
    "    np.array([0.3, 2.1])\n",
    "]\n",
    "\n",
    "chunk_sizes = [100, 200]\n",
    "fresh_epsilon = 0.1\n",
    "alpha = 0.001\n",
    "\n",
    "monte_carlo_beta(existing_epsilons, chunk_sizes, fresh_epsilon, alpha, N=10_000_000)"
   ]
  },
  {
   "cell_type": "code",
   "execution_count": 5,
   "metadata": {},
   "outputs": [],
   "source": [
    "# TODO: binary search for epsilon\n",
    "\n",
    "def binary_search_monte_carlo(existing_epsilons, chunk_sizes, alpha, beta, N=1_000_000):\n",
    "    get_beta_fn = lambda eps: monte_carlo_beta(existing_epsilons=existing_epsilons, chunk_sizes=chunk_sizes, fresh_epsilon=eps, alpha=alpha, N=N)\n",
    "    \n",
    "    # Worst case: ignore all existing epsilons, use loose concentration bound over the k chunks\n",
    "    epsilon_high = get_epsilon_isotropic_laplace_concentration(a=alpha, b=beta, n=sum(chunk_sizes), k=len(chunk_sizes))\n",
    "    \n",
    "    return binary_search(get_beta_fn=get_beta_fn, beta=beta, epsilon_high=epsilon_high)"
   ]
  },
  {
   "cell_type": "code",
   "execution_count": 6,
   "metadata": {},
   "outputs": [
    {
     "name": "stdout",
     "output_type": "stream",
     "text": [
      "0 < 24.976507591763784 < 49.95301518352757 gives beta=0.001. Target 0.01\n",
      "0 < 12.488253795881892 < 24.976507591763784 gives beta=0.03252. Target 0.01\n",
      "12.488253795881892 < 18.73238069382284 < 24.976507591763784 gives beta=0.00687. Target 0.01\n",
      "12.488253795881892 < 15.610317244852366 < 18.73238069382284 gives beta=0.01466. Target 0.01\n",
      "15.610317244852366 < 17.171348969337604 < 18.73238069382284 gives beta=0.01003. Target 0.01\n",
      "17.171348969337604 < 17.951864831580224 < 18.73238069382284 gives beta=0.00837. Target 0.01\n",
      "17.171348969337604 < 17.561606900458912 < 17.951864831580224 gives beta=0.00952. Target 0.01\n",
      "17.171348969337604 < 17.366477934898256 < 17.561606900458912 gives beta=0.00947. Target 0.01\n",
      "17.171348969337604 < 17.26891345211793 < 17.366477934898256 gives beta=0.00953. Target 0.01\n",
      "17.171348969337604 < 17.220131210727764 < 17.26891345211793 gives beta=0.00952. Target 0.01\n",
      "17.171348969337604 < 17.195740090032686 < 17.220131210727764 gives beta=0.00981. Target 0.01\n",
      "17.171348969337604 < 17.183544529685143 < 17.195740090032686 gives beta=0.00968. Target 0.01\n",
      "17.171348969337604 < 17.177446749511375 < 17.183544529685143 gives beta=0.00967. Target 0.01\n",
      "17.171348969337604 < 17.174397859424488 < 17.177446749511375 gives beta=0.00903. Target 0.01\n",
      "17.171348969337604 < 17.172873414381044 < 17.174397859424488 gives beta=0.01013. Target 0.01\n",
      "17.172873414381044 < 17.173635636902766 < 17.174397859424488 gives beta=0.00931. Target 0.01\n",
      "17.172873414381044 < 17.173254525641905 < 17.173635636902766 gives beta=0.00959. Target 0.01\n",
      "17.172873414381044 < 17.173063970011476 < 17.173254525641905 gives beta=0.00988. Target 0.01\n",
      "17.172873414381044 < 17.17296869219626 < 17.173063970011476 gives beta=0.00989. Target 0.01\n",
      "17.172873414381044 < 17.172921053288654 < 17.17296869219626 gives beta=0.00983. Target 0.01\n",
      "17.172873414381044 < 17.17289723383485 < 17.172921053288654 gives beta=0.00978. Target 0.01\n",
      "17.172873414381044 < 17.172885324107945 < 17.17289723383485 gives beta=0.01014. Target 0.01\n",
      "17.172885324107945 < 17.1728912789714 < 17.17289723383485 gives beta=0.00998. Target 0.01\n",
      "17.172885324107945 < 17.172888301539672 < 17.1728912789714 gives beta=0.01019. Target 0.01\n",
      "17.172888301539672 < 17.172889790255535 < 17.1728912789714 gives beta=0.01006. Target 0.01\n",
      "17.172889790255535 < 17.172890534613465 < 17.1728912789714 gives beta=0.00956. Target 0.01\n",
      "17.172889790255535 < 17.1728901624345 < 17.172890534613465 gives beta=0.0101. Target 0.01\n",
      "17.1728901624345 < 17.172890348523982 < 17.172890534613465 gives beta=0.00963. Target 0.01\n",
      "17.1728901624345 < 17.17289025547924 < 17.172890348523982 gives beta=0.01009. Target 0.01\n",
      "17.17289025547924 < 17.172890302001612 < 17.172890348523982 gives beta=0.00973. Target 0.01\n",
      "17.17289025547924 < 17.172890278740425 < 17.172890302001612 gives beta=0.0098. Target 0.01\n",
      "17.17289025547924 < 17.172890267109832 < 17.172890278740425 gives beta=0.00957. Target 0.01\n",
      "17.17289025547924 < 17.172890261294533 < 17.172890267109832 gives beta=0.00945. Target 0.01\n",
      "17.17289025547924 < 17.172890258386886 < 17.172890261294533 gives beta=0.01005. Target 0.01\n",
      "17.172890258386886 < 17.17289025984071 < 17.172890261294533 gives beta=0.00959. Target 0.01\n",
      "17.172890258386886 < 17.1728902591138 < 17.17289025984071 gives beta=0.00959. Target 0.01\n",
      "17.172890258386886 < 17.172890258750343 < 17.1728902591138 gives beta=0.00938. Target 0.01\n",
      "17.172890258386886 < 17.172890258568614 < 17.172890258750343 gives beta=0.01015. Target 0.01\n",
      "17.172890258568614 < 17.17289025865948 < 17.172890258750343 gives beta=0.00974. Target 0.01\n",
      "17.172890258568614 < 17.172890258614046 < 17.17289025865948 gives beta=0.00963. Target 0.01\n",
      "17.172890258568614 < 17.17289025859133 < 17.172890258614046 gives beta=0.01022. Target 0.01\n",
      "17.17289025859133 < 17.17289025860269 < 17.172890258614046 gives beta=0.00912. Target 0.01\n",
      "17.17289025859133 < 17.172890258597008 < 17.17289025860269 gives beta=0.00956. Target 0.01\n",
      "17.17289025859133 < 17.17289025859417 < 17.172890258597008 gives beta=0.01007. Target 0.01\n",
      "17.17289025859417 < 17.172890258595586 < 17.172890258597008 gives beta=0.00974. Target 0.01\n",
      "17.17289025859417 < 17.172890258594876 < 17.172890258595586 gives beta=0.01. Target 0.01\n",
      "17.172890258594876 < 17.17289025859523 < 17.172890258595586 gives beta=0.00996. Target 0.01\n",
      "17.172890258594876 < 17.172890258595054 < 17.17289025859523 gives beta=0.00972. Target 0.01\n",
      "17.172890258594876 < 17.172890258594965 < 17.172890258595054 gives beta=0.01008. Target 0.01\n",
      "17.172890258594965 < 17.17289025859501 < 17.172890258595054 gives beta=0.00994. Target 0.01\n",
      "17.172890258594965 < 17.17289025859499 < 17.17289025859501 gives beta=0.00977. Target 0.01\n",
      "17.172890258594965 < 17.172890258594975 < 17.17289025859499 gives beta=0.0097. Target 0.01\n",
      "17.172890258594965 < 17.17289025859497 < 17.172890258594975 gives beta=0.00968. Target 0.01\n",
      "17.172890258594965 < 17.17289025859497 < 17.17289025859497 gives beta=0.00955. Target 0.01\n",
      "17.172890258594965 < 17.17289025859497 < 17.17289025859497 gives beta=0.00984. Target 0.01\n",
      "17.172890258594965 < 17.17289025859497 < 17.17289025859497 gives beta=0.00958. Target 0.01\n",
      "17.172890258594965 < 17.17289025859497 < 17.17289025859497 gives beta=0.0098. Target 0.01\n",
      "17.172890258594965 < 17.17289025859497 < 17.17289025859497 gives beta=0.00961. Target 0.01\n",
      "17.172890258594965 < 17.17289025859497 < 17.17289025859497 gives beta=0.00927. Target 0.01\n",
      "17.172890258594965 < 17.17289025859497 < 17.17289025859497 gives beta=0.00957. Target 0.01\n",
      "17.172890258594965 < 17.17289025859497 < 17.17289025859497 gives beta=0.01004. Target 0.01\n",
      "17.17289025859497 < 17.17289025859497 < 17.17289025859497 gives beta=0.00968. Target 0.01\n",
      "17.17289025859497 < 17.17289025859497 < 17.17289025859497 gives beta=0.00917. Target 0.01\n",
      "17.17289025859497 < 17.17289025859497 < 17.17289025859497 gives beta=0.00921. Target 0.01\n",
      "17.17289025859497 < 17.17289025859497 < 17.17289025859497 gives beta=0.0087. Target 0.01\n",
      "17.17289025859497 < 17.17289025859497 < 17.17289025859497 gives beta=0.00964. Target 0.01\n",
      "17.17289025859497 < 17.17289025859497 < 17.17289025859497 gives beta=0.01001. Target 0.01\n",
      "17.17289025859497 < 17.17289025859497 < 17.17289025859497 gives beta=0.00998. Target 0.01\n",
      "17.17289025859497 < 17.17289025859497 < 17.17289025859497 gives beta=0.00933. Target 0.01\n",
      "17.17289025859497 < 17.17289025859497 < 17.17289025859497 gives beta=0.00995. Target 0.01\n",
      "17.17289025859497 < 17.17289025859497 < 17.17289025859497 gives beta=0.01007. Target 0.01\n",
      "17.17289025859497 < 17.17289025859497 < 17.17289025859497 gives beta=0.00947. Target 0.01\n",
      "17.17289025859497 < 17.17289025859497 < 17.17289025859497 gives beta=0.01024. Target 0.01\n",
      "17.17289025859497 < 17.17289025859497 < 17.17289025859497 gives beta=0.00978. Target 0.01\n",
      "17.17289025859497 < 17.17289025859497 < 17.17289025859497 gives beta=0.01043. Target 0.01\n",
      "17.17289025859497 < 17.17289025859497 < 17.17289025859497 gives beta=0.0098. Target 0.01\n",
      "17.17289025859497 < 17.17289025859497 < 17.17289025859497 gives beta=0.00988. Target 0.01\n",
      "17.17289025859497 < 17.17289025859497 < 17.17289025859497 gives beta=0.00933. Target 0.01\n",
      "17.17289025859497 < 17.17289025859497 < 17.17289025859497 gives beta=0.01012. Target 0.01\n",
      "17.17289025859497 < 17.17289025859497 < 17.17289025859497 gives beta=0.01011. Target 0.01\n",
      "17.17289025859497 < 17.17289025859497 < 17.17289025859497 gives beta=0.00952. Target 0.01\n",
      "17.17289025859497 < 17.17289025859497 < 17.17289025859497 gives beta=0.01034. Target 0.01\n",
      "17.17289025859497 < 17.17289025859497 < 17.17289025859497 gives beta=0.0102. Target 0.01\n",
      "17.17289025859497 < 17.17289025859497 < 17.17289025859497 gives beta=0.0097. Target 0.01\n",
      "17.17289025859497 < 17.17289025859497 < 17.17289025859497 gives beta=0.01029. Target 0.01\n",
      "17.17289025859497 < 17.17289025859497 < 17.17289025859497 gives beta=0.00963. Target 0.01\n",
      "17.17289025859497 < 17.17289025859497 < 17.17289025859497 gives beta=0.00986. Target 0.01\n",
      "17.17289025859497 < 17.17289025859497 < 17.17289025859497 gives beta=0.00913. Target 0.01\n",
      "17.17289025859497 < 17.17289025859497 < 17.17289025859497 gives beta=0.00978. Target 0.01\n",
      "17.17289025859497 < 17.17289025859497 < 17.17289025859497 gives beta=0.00942. Target 0.01\n",
      "17.17289025859497 < 17.17289025859497 < 17.17289025859497 gives beta=0.01012. Target 0.01\n",
      "17.17289025859497 < 17.17289025859497 < 17.17289025859497 gives beta=0.00999. Target 0.01\n"
     ]
    },
    {
     "data": {
      "text/plain": [
       "17.17289025859497"
      ]
     },
     "execution_count": 6,
     "metadata": {},
     "output_type": "execute_result"
    }
   ],
   "source": [
    "binary_search_monte_carlo(existing_epsilons, chunk_sizes, alpha=alpha, beta=0.01, N=100_000)"
   ]
  },
  {
   "cell_type": "code",
   "execution_count": 7,
   "metadata": {},
   "outputs": [
    {
     "name": "stdout",
     "output_type": "stream",
     "text": [
      "0 < 24.976507591763784 < 49.95301518352757 gives beta=0.001303. Target 0.01\n",
      "0 < 12.488253795881892 < 24.976507591763784 gives beta=0.032188. Target 0.01\n",
      "12.488253795881892 < 18.73238069382284 < 24.976507591763784 gives beta=0.006517. Target 0.01\n",
      "12.488253795881892 < 15.610317244852366 < 18.73238069382284 gives beta=0.014758. Target 0.01\n",
      "15.610317244852366 < 17.171348969337604 < 18.73238069382284 gives beta=0.009937. Target 0.01\n",
      "15.610317244852366 < 16.390833107094984 < 17.171348969337604 gives beta=0.01206. Target 0.01\n",
      "16.390833107094984 < 16.781091038216296 < 17.171348969337604 gives beta=0.010906. Target 0.01\n",
      "16.781091038216296 < 16.97622000377695 < 17.171348969337604 gives beta=0.010356. Target 0.01\n",
      "16.97622000377695 < 17.07378448655728 < 17.171348969337604 gives beta=0.010199. Target 0.01\n",
      "17.07378448655728 < 17.122566727947444 < 17.171348969337604 gives beta=0.009768. Target 0.01\n",
      "17.07378448655728 < 17.09817560725236 < 17.122566727947444 gives beta=0.010066. Target 0.01\n",
      "17.09817560725236 < 17.1103711675999 < 17.122566727947444 gives beta=0.009762. Target 0.01\n",
      "17.09817560725236 < 17.104273387426133 < 17.1103711675999 gives beta=0.009855. Target 0.01\n",
      "17.09817560725236 < 17.101224497339246 < 17.104273387426133 gives beta=0.009917. Target 0.01\n",
      "17.09817560725236 < 17.099700052295802 < 17.101224497339246 gives beta=0.010029. Target 0.01\n",
      "17.099700052295802 < 17.100462274817524 < 17.101224497339246 gives beta=0.010094. Target 0.01\n",
      "17.100462274817524 < 17.100843386078385 < 17.101224497339246 gives beta=0.010107. Target 0.01\n",
      "17.100843386078385 < 17.101033941708813 < 17.101224497339246 gives beta=0.010139. Target 0.01\n",
      "17.101033941708813 < 17.10112921952403 < 17.101224497339246 gives beta=0.010071. Target 0.01\n",
      "17.10112921952403 < 17.101176858431636 < 17.101224497339246 gives beta=0.009795. Target 0.01\n",
      "17.10112921952403 < 17.101153038977834 < 17.101176858431636 gives beta=0.010096. Target 0.01\n",
      "17.101153038977834 < 17.101164948704735 < 17.101176858431636 gives beta=0.009949. Target 0.01\n",
      "17.101153038977834 < 17.101158993841285 < 17.101164948704735 gives beta=0.010036. Target 0.01\n",
      "17.101158993841285 < 17.101161971273008 < 17.101164948704735 gives beta=0.010003. Target 0.01\n",
      "17.101161971273008 < 17.10116345998887 < 17.101164948704735 gives beta=0.009889. Target 0.01\n",
      "17.101161971273008 < 17.10116271563094 < 17.10116345998887 gives beta=0.010017. Target 0.01\n",
      "17.10116271563094 < 17.10116308780991 < 17.10116345998887 gives beta=0.010023. Target 0.01\n",
      "17.10116308780991 < 17.101163273899388 < 17.10116345998887 gives beta=0.010004. Target 0.01\n",
      "17.101163273899388 < 17.101163366944128 < 17.10116345998887 gives beta=0.00995. Target 0.01\n",
      "17.101163273899388 < 17.101163320421758 < 17.101163366944128 gives beta=0.010046. Target 0.01\n",
      "17.101163320421758 < 17.10116334368294 < 17.101163366944128 gives beta=0.010145. Target 0.01\n",
      "17.10116334368294 < 17.101163355313535 < 17.101163366944128 gives beta=0.010015. Target 0.01\n",
      "17.101163355313535 < 17.101163361128833 < 17.101163366944128 gives beta=0.010059. Target 0.01\n",
      "17.101163361128833 < 17.10116336403648 < 17.101163366944128 gives beta=0.010094. Target 0.01\n",
      "17.10116336403648 < 17.101163365490304 < 17.101163366944128 gives beta=0.009979. Target 0.01\n",
      "17.10116336403648 < 17.101163364763394 < 17.101163365490304 gives beta=0.009957. Target 0.01\n",
      "17.10116336403648 < 17.101163364399937 < 17.101163364763394 gives beta=0.010068. Target 0.01\n",
      "17.101163364399937 < 17.101163364581666 < 17.101163364763394 gives beta=0.009993. Target 0.01\n"
     ]
    },
    {
     "data": {
      "text/plain": [
       "17.101163364581666"
      ]
     },
     "execution_count": 7,
     "metadata": {},
     "output_type": "execute_result"
    }
   ],
   "source": [
    "binary_search_monte_carlo(existing_epsilons, chunk_sizes=[10,290], alpha=alpha, beta=0.01, N=1_000_000)"
   ]
  },
  {
   "cell_type": "code",
   "execution_count": 8,
   "metadata": {},
   "outputs": [],
   "source": [
    "# TODO: Why do we get slightly different epsilons? What are our exact guarantees?"
   ]
  },
  {
   "attachments": {},
   "cell_type": "markdown",
   "metadata": {},
   "source": [
    "## Aggregation with no VR\n",
    "\n",
    "Let's start with chunks of same size and no past epsilons"
   ]
  },
  {
   "cell_type": "code",
   "execution_count": 9,
   "metadata": {},
   "outputs": [],
   "source": [
    "import plotly.express as px\n",
    "import pandas as pd"
   ]
  },
  {
   "cell_type": "code",
   "execution_count": 9,
   "metadata": {},
   "outputs": [
    {
     "ename": "KeyboardInterrupt",
     "evalue": "",
     "output_type": "error",
     "traceback": [
      "\u001b[0;31m---------------------------------------------------------------------------\u001b[0m",
      "\u001b[0;31mKeyboardInterrupt\u001b[0m                         Traceback (most recent call last)",
      "Cell \u001b[0;32mIn[9], line 13\u001b[0m\n\u001b[1;32m     11\u001b[0m \u001b[39mif\u001b[39;00m bound \u001b[39m==\u001b[39m \u001b[39m\"\u001b[39m\u001b[39mmonte_carlo\u001b[39m\u001b[39m\"\u001b[39m:\n\u001b[1;32m     12\u001b[0m     \u001b[39mtry\u001b[39;00m:\n\u001b[0;32m---> 13\u001b[0m         epsilon \u001b[39m=\u001b[39m binary_search_monte_carlo(existing_epsilons, chunk_sizes, alpha\u001b[39m=\u001b[39;49malpha, beta\u001b[39m=\u001b[39;49mbeta, N\u001b[39m=\u001b[39;49m\u001b[39m1_000_000\u001b[39;49m)\n\u001b[1;32m     14\u001b[0m     \u001b[39mexcept\u001b[39;00m \u001b[39mAssertionError\u001b[39;00m \u001b[39mas\u001b[39;00m e:\n\u001b[1;32m     15\u001b[0m         \u001b[39mprint\u001b[39m(e)\n",
      "Cell \u001b[0;32mIn[6], line 9\u001b[0m, in \u001b[0;36mbinary_search_monte_carlo\u001b[0;34m(existing_epsilons, chunk_sizes, alpha, beta, N)\u001b[0m\n\u001b[1;32m      6\u001b[0m \u001b[39m# Worst case: ignore all existing epsilons, use loose concentration bound over the k chunks\u001b[39;00m\n\u001b[1;32m      7\u001b[0m epsilon_high \u001b[39m=\u001b[39m get_epsilon_isotropic_laplace_concentration(a\u001b[39m=\u001b[39malpha, b\u001b[39m=\u001b[39mbeta, n\u001b[39m=\u001b[39m\u001b[39msum\u001b[39m(chunk_sizes), k\u001b[39m=\u001b[39m\u001b[39mlen\u001b[39m(chunk_sizes))\n\u001b[0;32m----> 9\u001b[0m \u001b[39mreturn\u001b[39;00m binary_search(get_beta_fn\u001b[39m=\u001b[39;49mget_beta_fn, beta\u001b[39m=\u001b[39;49mbeta, epsilon_high\u001b[39m=\u001b[39;49mepsilon_high)\n",
      "File \u001b[0;32m~/precycle/precycle/utils/utility_theorems.py:124\u001b[0m, in \u001b[0;36mbinary_search\u001b[0;34m(get_beta_fn, beta, epsilon_high, beta_tolerance)\u001b[0m\n\u001b[1;32m    122\u001b[0m \u001b[39mwhile\u001b[39;00m real_beta \u001b[39m<\u001b[39m beta \u001b[39m-\u001b[39m beta_tolerance:\n\u001b[1;32m    123\u001b[0m     eps_mid \u001b[39m=\u001b[39m (eps_low \u001b[39m+\u001b[39m eps_high) \u001b[39m/\u001b[39m \u001b[39m2\u001b[39m\n\u001b[0;32m--> 124\u001b[0m     beta_mid \u001b[39m=\u001b[39m get_beta_fn(eps_mid)\n\u001b[1;32m    125\u001b[0m     \u001b[39m# print(\u001b[39;00m\n\u001b[1;32m    126\u001b[0m     \u001b[39m#     f\"{eps_low} < {eps_mid} < {eps_high} gives beta={beta_mid}. Target {beta}\"\u001b[39;00m\n\u001b[1;32m    127\u001b[0m     \u001b[39m# )\u001b[39;00m\n\u001b[1;32m    129\u001b[0m     \u001b[39mif\u001b[39;00m beta_mid \u001b[39m<\u001b[39m beta:\n",
      "Cell \u001b[0;32mIn[6], line 4\u001b[0m, in \u001b[0;36mbinary_search_monte_carlo.<locals>.<lambda>\u001b[0;34m(eps)\u001b[0m\n\u001b[1;32m      3\u001b[0m \u001b[39mdef\u001b[39;00m \u001b[39mbinary_search_monte_carlo\u001b[39m(existing_epsilons, chunk_sizes, alpha, beta, N\u001b[39m=\u001b[39m\u001b[39m1_000_000\u001b[39m):\n\u001b[0;32m----> 4\u001b[0m     get_beta_fn \u001b[39m=\u001b[39m \u001b[39mlambda\u001b[39;00m eps: monte_carlo_beta(existing_epsilons\u001b[39m=\u001b[39;49mexisting_epsilons, chunk_sizes\u001b[39m=\u001b[39;49mchunk_sizes, fresh_epsilon\u001b[39m=\u001b[39;49meps, alpha\u001b[39m=\u001b[39;49malpha, N\u001b[39m=\u001b[39;49mN)\n\u001b[1;32m      6\u001b[0m     \u001b[39m# Worst case: ignore all existing epsilons, use loose concentration bound over the k chunks\u001b[39;00m\n\u001b[1;32m      7\u001b[0m     epsilon_high \u001b[39m=\u001b[39m get_epsilon_isotropic_laplace_concentration(a\u001b[39m=\u001b[39malpha, b\u001b[39m=\u001b[39mbeta, n\u001b[39m=\u001b[39m\u001b[39msum\u001b[39m(chunk_sizes), k\u001b[39m=\u001b[39m\u001b[39mlen\u001b[39m(chunk_sizes))\n",
      "Cell \u001b[0;32mIn[4], line 24\u001b[0m, in \u001b[0;36mmonte_carlo_beta\u001b[0;34m(existing_epsilons, chunk_sizes, fresh_epsilon, alpha, N)\u001b[0m\n\u001b[1;32m     20\u001b[0m     laplace_noises \u001b[39m=\u001b[39m np\u001b[39m.\u001b[39mrandom\u001b[39m.\u001b[39mlaplace(scale\u001b[39m=\u001b[39mlaplace_scale)\n\u001b[1;32m     23\u001b[0m     \u001b[39m# Optimal average for that chunk, N times\u001b[39;00m\n\u001b[0;32m---> 24\u001b[0m     chunk_noises[:, chunk_id] \u001b[39m=\u001b[39m np\u001b[39m.\u001b[39msum(laplace_noises, axis\u001b[39m=\u001b[39m\u001b[39m1\u001b[39m)\n\u001b[1;32m     26\u001b[0m aggregated_noise_total \u001b[39m=\u001b[39m np\u001b[39m.\u001b[39msum(chunk_noises, axis\u001b[39m=\u001b[39m\u001b[39m1\u001b[39m)\n\u001b[1;32m     27\u001b[0m beta \u001b[39m=\u001b[39m np\u001b[39m.\u001b[39msum(aggregated_noise_total \u001b[39m>\u001b[39m alpha) \u001b[39m/\u001b[39m N\n",
      "\u001b[0;31mKeyboardInterrupt\u001b[0m: "
     ]
    }
   ],
   "source": [
    "\n",
    "total_size = 100_000\n",
    "\n",
    "d = []\n",
    "\n",
    "for beta in [1e-4, 1e-3]:\n",
    "    for alpha in [0.001, 0.01]:\n",
    "        for k in [1,2,3,4,5,6,7,10,12,14,16,18,20]:\n",
    "            existing_epsilons = [np.array([])]*k\n",
    "            chunk_sizes = [100_000 // k] * k\n",
    "            for bound in [\"monte_carlo\", \"concentration\"]:\n",
    "                if bound == \"monte_carlo\":\n",
    "                    try:\n",
    "                        epsilon = binary_search_monte_carlo(existing_epsilons, chunk_sizes, alpha=alpha, beta=beta, N=1_000_000)\n",
    "                    except AssertionError as e:\n",
    "                        print(e)\n",
    "                        epsilon = np.NAN\n",
    "                else:\n",
    "                    epsilon = get_epsilon_isotropic_laplace_concentration(a=alpha, b=beta, n=total_size, k=k)\n",
    "                d.append(dict(\n",
    "                    alpha=alpha,\n",
    "                    beta=beta,\n",
    "                    k=k,\n",
    "                    epsilon=epsilon,\n",
    "                    bound=bound        \n",
    "                ))\n",
    "df = pd.DataFrame(d)"
   ]
  },
  {
   "cell_type": "code",
   "execution_count": null,
   "metadata": {},
   "outputs": [
    {
     "data": {
      "text/html": [
       "<div>\n",
       "<style scoped>\n",
       "    .dataframe tbody tr th:only-of-type {\n",
       "        vertical-align: middle;\n",
       "    }\n",
       "\n",
       "    .dataframe tbody tr th {\n",
       "        vertical-align: top;\n",
       "    }\n",
       "\n",
       "    .dataframe thead th {\n",
       "        text-align: right;\n",
       "    }\n",
       "</style>\n",
       "<table border=\"1\" class=\"dataframe\">\n",
       "  <thead>\n",
       "    <tr style=\"text-align: right;\">\n",
       "      <th></th>\n",
       "      <th>alpha</th>\n",
       "      <th>beta</th>\n",
       "      <th>k</th>\n",
       "      <th>epsilon</th>\n",
       "      <th>bound</th>\n",
       "    </tr>\n",
       "  </thead>\n",
       "  <tbody>\n",
       "    <tr>\n",
       "      <th>0</th>\n",
       "      <td>0.001</td>\n",
       "      <td>0.0001</td>\n",
       "      <td>1</td>\n",
       "      <td>0.086257</td>\n",
       "      <td>monte_carlo</td>\n",
       "    </tr>\n",
       "    <tr>\n",
       "      <th>1</th>\n",
       "      <td>0.001</td>\n",
       "      <td>0.0001</td>\n",
       "      <td>1</td>\n",
       "      <td>0.092103</td>\n",
       "      <td>concentration</td>\n",
       "    </tr>\n",
       "    <tr>\n",
       "      <th>2</th>\n",
       "      <td>0.001</td>\n",
       "      <td>0.0001</td>\n",
       "      <td>2</td>\n",
       "      <td>0.103128</td>\n",
       "      <td>monte_carlo</td>\n",
       "    </tr>\n",
       "    <tr>\n",
       "      <th>3</th>\n",
       "      <td>0.001</td>\n",
       "      <td>0.0001</td>\n",
       "      <td>2</td>\n",
       "      <td>0.280113</td>\n",
       "      <td>concentration</td>\n",
       "    </tr>\n",
       "    <tr>\n",
       "      <th>4</th>\n",
       "      <td>0.001</td>\n",
       "      <td>0.0001</td>\n",
       "      <td>3</td>\n",
       "      <td>0.118174</td>\n",
       "      <td>monte_carlo</td>\n",
       "    </tr>\n",
       "    <tr>\n",
       "      <th>...</th>\n",
       "      <td>...</td>\n",
       "      <td>...</td>\n",
       "      <td>...</td>\n",
       "      <td>...</td>\n",
       "      <td>...</td>\n",
       "    </tr>\n",
       "    <tr>\n",
       "      <th>99</th>\n",
       "      <td>0.010</td>\n",
       "      <td>0.0010</td>\n",
       "      <td>16</td>\n",
       "      <td>0.031192</td>\n",
       "      <td>concentration</td>\n",
       "    </tr>\n",
       "    <tr>\n",
       "      <th>100</th>\n",
       "      <td>0.010</td>\n",
       "      <td>0.0010</td>\n",
       "      <td>18</td>\n",
       "      <td>0.019340</td>\n",
       "      <td>monte_carlo</td>\n",
       "    </tr>\n",
       "    <tr>\n",
       "      <th>101</th>\n",
       "      <td>0.010</td>\n",
       "      <td>0.0010</td>\n",
       "      <td>18</td>\n",
       "      <td>0.033084</td>\n",
       "      <td>concentration</td>\n",
       "    </tr>\n",
       "    <tr>\n",
       "      <th>102</th>\n",
       "      <td>0.010</td>\n",
       "      <td>0.0010</td>\n",
       "      <td>20</td>\n",
       "      <td>0.020297</td>\n",
       "      <td>monte_carlo</td>\n",
       "    </tr>\n",
       "    <tr>\n",
       "      <th>103</th>\n",
       "      <td>0.010</td>\n",
       "      <td>0.0010</td>\n",
       "      <td>20</td>\n",
       "      <td>0.034873</td>\n",
       "      <td>concentration</td>\n",
       "    </tr>\n",
       "  </tbody>\n",
       "</table>\n",
       "<p>104 rows × 5 columns</p>\n",
       "</div>"
      ],
      "text/plain": [
       "     alpha    beta   k   epsilon          bound\n",
       "0    0.001  0.0001   1  0.086257    monte_carlo\n",
       "1    0.001  0.0001   1  0.092103  concentration\n",
       "2    0.001  0.0001   2  0.103128    monte_carlo\n",
       "3    0.001  0.0001   2  0.280113  concentration\n",
       "4    0.001  0.0001   3  0.118174    monte_carlo\n",
       "..     ...     ...  ..       ...            ...\n",
       "99   0.010  0.0010  16  0.031192  concentration\n",
       "100  0.010  0.0010  18  0.019340    monte_carlo\n",
       "101  0.010  0.0010  18  0.033084  concentration\n",
       "102  0.010  0.0010  20  0.020297    monte_carlo\n",
       "103  0.010  0.0010  20  0.034873  concentration\n",
       "\n",
       "[104 rows x 5 columns]"
      ]
     },
     "execution_count": 25,
     "metadata": {},
     "output_type": "execute_result"
    }
   ],
   "source": [
    "df"
   ]
  },
  {
   "cell_type": "code",
   "execution_count": null,
   "metadata": {},
   "outputs": [
    {
     "data": {
      "application/vnd.plotly.v1+json": {
       "config": {
        "plotlyServerURL": "https://plot.ly"
       },
       "data": [
        {
         "hovertemplate": "bound=monte_carlo<br>beta=0.0001<br>alpha=0.001<br>k=%{x}<br>epsilon=%{y}<extra></extra>",
         "legendgroup": "monte_carlo",
         "line": {
          "color": "#636efa",
          "dash": "solid"
         },
         "marker": {
          "symbol": "circle"
         },
         "mode": "lines",
         "name": "monte_carlo",
         "orientation": "v",
         "showlegend": true,
         "type": "scatter",
         "x": [
          1,
          2,
          3,
          4,
          5,
          6,
          7,
          10,
          12,
          14,
          16,
          18,
          20
         ],
         "xaxis": "x3",
         "y": [
          0.08625699625708164,
          0.10312751361658837,
          0.11817382333602161,
          0.12911455285684273,
          0.1433390374936135,
          0.15100441555157373,
          0.16085413821501143,
          0.184717647934211,
          0.20054938808727357,
          0.21500903632519897,
          0.2263063285153843,
          0.23973539436631167,
          0.2519005528139976
         ],
         "yaxis": "y3"
        },
        {
         "hovertemplate": "bound=monte_carlo<br>beta=0.0001<br>alpha=0.01<br>k=%{x}<br>epsilon=%{y}<extra></extra>",
         "legendgroup": "monte_carlo",
         "line": {
          "color": "#636efa",
          "dash": "solid"
         },
         "marker": {
          "symbol": "circle"
         },
         "mode": "lines",
         "name": "monte_carlo",
         "orientation": "v",
         "showlegend": false,
         "type": "scatter",
         "x": [
          1,
          2,
          3,
          4,
          5,
          6,
          7,
          10,
          12,
          14,
          16,
          18,
          20
         ],
         "xaxis": "x4",
         "y": [
          0.008634694098727672,
          0.010285396583511202,
          0.011844737385300317,
          0.013020874398274818,
          0.014279194193066082,
          0.015100441555157374,
          0.016140126113411007,
          0.0184717647934211,
          0.02005493880872736,
          0.021338264421986462,
          0.02266974859873717,
          0.024047304173359263,
          0.02511230819719791
         ],
         "yaxis": "y4"
        },
        {
         "hovertemplate": "bound=monte_carlo<br>beta=0.001<br>alpha=0.001<br>k=%{x}<br>epsilon=%{y}<extra></extra>",
         "legendgroup": "monte_carlo",
         "line": {
          "color": "#636efa",
          "dash": "solid"
         },
         "marker": {
          "symbol": "circle"
         },
         "mode": "lines",
         "name": "monte_carlo",
         "orientation": "v",
         "showlegend": false,
         "type": "scatter",
         "x": [
          1,
          2,
          3,
          4,
          5,
          6,
          7,
          10,
          12,
          14,
          16,
          18,
          20
         ],
         "xaxis": "x",
         "y": [
          0.06224737484063248,
          0.0782057617299545,
          0.09038319617244678,
          0.10077468135524464,
          0.11106209674359255,
          0.11892347353428556,
          0.1273918652438761,
          0.14811425747003204,
          0.16092200933593176,
          0.1723512792520517,
          0.1827311177285395,
          0.19394985955270116,
          0.20274979001017682
         ],
         "yaxis": "y"
        },
        {
         "hovertemplate": "bound=monte_carlo<br>beta=0.001<br>alpha=0.01<br>k=%{x}<br>epsilon=%{y}<extra></extra>",
         "legendgroup": "monte_carlo",
         "line": {
          "color": "#636efa",
          "dash": "solid"
         },
         "marker": {
          "symbol": "circle"
         },
         "mode": "lines",
         "name": "monte_carlo",
         "orientation": "v",
         "showlegend": false,
         "type": "scatter",
         "x": [
          1,
          2,
          3,
          4,
          5,
          6,
          7,
          10,
          12,
          14,
          16,
          18,
          20
         ],
         "xaxis": "x2",
         "y": [
          0.006206186383460513,
          0.007803297251632991,
          0.009038319617244678,
          0.010113552819603489,
          0.011029775752628222,
          0.011952463561326704,
          0.012744435468155384,
          0.014785839501936742,
          0.01611878768974627,
          0.017230327464759176,
          0.01830916467842443,
          0.019340460276303824,
          0.020297328198383764
         ],
         "yaxis": "y2"
        },
        {
         "hovertemplate": "bound=concentration<br>beta=0.0001<br>alpha=0.001<br>k=%{x}<br>epsilon=%{y}<extra></extra>",
         "legendgroup": "concentration",
         "line": {
          "color": "#EF553B",
          "dash": "solid"
         },
         "marker": {
          "symbol": "circle"
         },
         "mode": "lines",
         "name": "concentration",
         "orientation": "v",
         "showlegend": true,
         "type": "scatter",
         "x": [
          1,
          2,
          3,
          4,
          5,
          6,
          7,
          10,
          12,
          14,
          16,
          18,
          20
         ],
         "xaxis": "x3",
         "y": [
          0.09210340371976183,
          0.2801129282317944,
          0.2801129282317944,
          0.2801129282317944,
          0.2801129282317944,
          0.2801129282317944,
          0.2801129282317944,
          0.28147451113784533,
          0.30833987822587405,
          0.3330451329600909,
          0.3560402233912096,
          0.3776376845026463,
          0.3980650711134777
         ],
         "yaxis": "y3"
        },
        {
         "hovertemplate": "bound=concentration<br>beta=0.0001<br>alpha=0.01<br>k=%{x}<br>epsilon=%{y}<extra></extra>",
         "legendgroup": "concentration",
         "line": {
          "color": "#EF553B",
          "dash": "solid"
         },
         "marker": {
          "symbol": "circle"
         },
         "mode": "lines",
         "name": "concentration",
         "orientation": "v",
         "showlegend": false,
         "type": "scatter",
         "x": [
          1,
          2,
          3,
          4,
          5,
          6,
          7,
          10,
          12,
          14,
          16,
          18,
          20
         ],
         "xaxis": "x4",
         "y": [
          0.009210340371976183,
          0.02801129282317944,
          0.02801129282317944,
          0.02801129282317944,
          0.02801129282317944,
          0.02801129282317944,
          0.02801129282317944,
          0.028147451113784534,
          0.030833987822587405,
          0.03330451329600909,
          0.03560402233912096,
          0.03776376845026463,
          0.03980650711134777
         ],
         "yaxis": "y4"
        },
        {
         "hovertemplate": "bound=concentration<br>beta=0.001<br>alpha=0.001<br>k=%{x}<br>epsilon=%{y}<extra></extra>",
         "legendgroup": "concentration",
         "line": {
          "color": "#EF553B",
          "dash": "solid"
         },
         "marker": {
          "symbol": "circle"
         },
         "mode": "lines",
         "name": "concentration",
         "orientation": "v",
         "showlegend": false,
         "type": "scatter",
         "x": [
          1,
          2,
          3,
          4,
          5,
          6,
          7,
          10,
          12,
          14,
          16,
          18,
          20
         ],
         "xaxis": "x",
         "y": [
          0.06907755278982136,
          0.21498598689118859,
          0.21498598689118859,
          0.21498598689118859,
          0.21498598689118859,
          0.21498598689118859,
          0.21498598689118859,
          0.24659119951112743,
          0.27012712490900276,
          0.29177064202361297,
          0.31191593656326483,
          0.3308368108560563,
          0.3487326187104862
         ],
         "yaxis": "y"
        },
        {
         "hovertemplate": "bound=concentration<br>beta=0.001<br>alpha=0.01<br>k=%{x}<br>epsilon=%{y}<extra></extra>",
         "legendgroup": "concentration",
         "line": {
          "color": "#EF553B",
          "dash": "solid"
         },
         "marker": {
          "symbol": "circle"
         },
         "mode": "lines",
         "name": "concentration",
         "orientation": "v",
         "showlegend": false,
         "type": "scatter",
         "x": [
          1,
          2,
          3,
          4,
          5,
          6,
          7,
          10,
          12,
          14,
          16,
          18,
          20
         ],
         "xaxis": "x2",
         "y": [
          0.006907755278982137,
          0.021498598689118856,
          0.021498598689118856,
          0.021498598689118856,
          0.021498598689118856,
          0.021498598689118856,
          0.021498598689118856,
          0.024659119951112744,
          0.027012712490900277,
          0.029177064202361297,
          0.031191593656326483,
          0.03308368108560563,
          0.03487326187104862
         ],
         "yaxis": "y2"
        }
       ],
       "layout": {
        "annotations": [
         {
          "font": {},
          "showarrow": false,
          "text": "alpha=0.001",
          "x": 0.24,
          "xanchor": "center",
          "xref": "paper",
          "y": 1,
          "yanchor": "bottom",
          "yref": "paper"
         },
         {
          "font": {},
          "showarrow": false,
          "text": "alpha=0.01",
          "x": 0.74,
          "xanchor": "center",
          "xref": "paper",
          "y": 1,
          "yanchor": "bottom",
          "yref": "paper"
         },
         {
          "font": {},
          "showarrow": false,
          "text": "beta=0.001",
          "textangle": 90,
          "x": 0.98,
          "xanchor": "left",
          "xref": "paper",
          "y": 0.2425,
          "yanchor": "middle",
          "yref": "paper"
         },
         {
          "font": {},
          "showarrow": false,
          "text": "beta=0.0001",
          "textangle": 90,
          "x": 0.98,
          "xanchor": "left",
          "xref": "paper",
          "y": 0.7575000000000001,
          "yanchor": "middle",
          "yref": "paper"
         }
        ],
        "legend": {
         "title": {
          "text": "bound"
         },
         "tracegroupgap": 0
        },
        "template": {
         "data": {
          "bar": [
           {
            "error_x": {
             "color": "#2a3f5f"
            },
            "error_y": {
             "color": "#2a3f5f"
            },
            "marker": {
             "line": {
              "color": "#E5ECF6",
              "width": 0.5
             },
             "pattern": {
              "fillmode": "overlay",
              "size": 10,
              "solidity": 0.2
             }
            },
            "type": "bar"
           }
          ],
          "barpolar": [
           {
            "marker": {
             "line": {
              "color": "#E5ECF6",
              "width": 0.5
             },
             "pattern": {
              "fillmode": "overlay",
              "size": 10,
              "solidity": 0.2
             }
            },
            "type": "barpolar"
           }
          ],
          "carpet": [
           {
            "aaxis": {
             "endlinecolor": "#2a3f5f",
             "gridcolor": "white",
             "linecolor": "white",
             "minorgridcolor": "white",
             "startlinecolor": "#2a3f5f"
            },
            "baxis": {
             "endlinecolor": "#2a3f5f",
             "gridcolor": "white",
             "linecolor": "white",
             "minorgridcolor": "white",
             "startlinecolor": "#2a3f5f"
            },
            "type": "carpet"
           }
          ],
          "choropleth": [
           {
            "colorbar": {
             "outlinewidth": 0,
             "ticks": ""
            },
            "type": "choropleth"
           }
          ],
          "contour": [
           {
            "colorbar": {
             "outlinewidth": 0,
             "ticks": ""
            },
            "colorscale": [
             [
              0,
              "#0d0887"
             ],
             [
              0.1111111111111111,
              "#46039f"
             ],
             [
              0.2222222222222222,
              "#7201a8"
             ],
             [
              0.3333333333333333,
              "#9c179e"
             ],
             [
              0.4444444444444444,
              "#bd3786"
             ],
             [
              0.5555555555555556,
              "#d8576b"
             ],
             [
              0.6666666666666666,
              "#ed7953"
             ],
             [
              0.7777777777777778,
              "#fb9f3a"
             ],
             [
              0.8888888888888888,
              "#fdca26"
             ],
             [
              1,
              "#f0f921"
             ]
            ],
            "type": "contour"
           }
          ],
          "contourcarpet": [
           {
            "colorbar": {
             "outlinewidth": 0,
             "ticks": ""
            },
            "type": "contourcarpet"
           }
          ],
          "heatmap": [
           {
            "colorbar": {
             "outlinewidth": 0,
             "ticks": ""
            },
            "colorscale": [
             [
              0,
              "#0d0887"
             ],
             [
              0.1111111111111111,
              "#46039f"
             ],
             [
              0.2222222222222222,
              "#7201a8"
             ],
             [
              0.3333333333333333,
              "#9c179e"
             ],
             [
              0.4444444444444444,
              "#bd3786"
             ],
             [
              0.5555555555555556,
              "#d8576b"
             ],
             [
              0.6666666666666666,
              "#ed7953"
             ],
             [
              0.7777777777777778,
              "#fb9f3a"
             ],
             [
              0.8888888888888888,
              "#fdca26"
             ],
             [
              1,
              "#f0f921"
             ]
            ],
            "type": "heatmap"
           }
          ],
          "heatmapgl": [
           {
            "colorbar": {
             "outlinewidth": 0,
             "ticks": ""
            },
            "colorscale": [
             [
              0,
              "#0d0887"
             ],
             [
              0.1111111111111111,
              "#46039f"
             ],
             [
              0.2222222222222222,
              "#7201a8"
             ],
             [
              0.3333333333333333,
              "#9c179e"
             ],
             [
              0.4444444444444444,
              "#bd3786"
             ],
             [
              0.5555555555555556,
              "#d8576b"
             ],
             [
              0.6666666666666666,
              "#ed7953"
             ],
             [
              0.7777777777777778,
              "#fb9f3a"
             ],
             [
              0.8888888888888888,
              "#fdca26"
             ],
             [
              1,
              "#f0f921"
             ]
            ],
            "type": "heatmapgl"
           }
          ],
          "histogram": [
           {
            "marker": {
             "pattern": {
              "fillmode": "overlay",
              "size": 10,
              "solidity": 0.2
             }
            },
            "type": "histogram"
           }
          ],
          "histogram2d": [
           {
            "colorbar": {
             "outlinewidth": 0,
             "ticks": ""
            },
            "colorscale": [
             [
              0,
              "#0d0887"
             ],
             [
              0.1111111111111111,
              "#46039f"
             ],
             [
              0.2222222222222222,
              "#7201a8"
             ],
             [
              0.3333333333333333,
              "#9c179e"
             ],
             [
              0.4444444444444444,
              "#bd3786"
             ],
             [
              0.5555555555555556,
              "#d8576b"
             ],
             [
              0.6666666666666666,
              "#ed7953"
             ],
             [
              0.7777777777777778,
              "#fb9f3a"
             ],
             [
              0.8888888888888888,
              "#fdca26"
             ],
             [
              1,
              "#f0f921"
             ]
            ],
            "type": "histogram2d"
           }
          ],
          "histogram2dcontour": [
           {
            "colorbar": {
             "outlinewidth": 0,
             "ticks": ""
            },
            "colorscale": [
             [
              0,
              "#0d0887"
             ],
             [
              0.1111111111111111,
              "#46039f"
             ],
             [
              0.2222222222222222,
              "#7201a8"
             ],
             [
              0.3333333333333333,
              "#9c179e"
             ],
             [
              0.4444444444444444,
              "#bd3786"
             ],
             [
              0.5555555555555556,
              "#d8576b"
             ],
             [
              0.6666666666666666,
              "#ed7953"
             ],
             [
              0.7777777777777778,
              "#fb9f3a"
             ],
             [
              0.8888888888888888,
              "#fdca26"
             ],
             [
              1,
              "#f0f921"
             ]
            ],
            "type": "histogram2dcontour"
           }
          ],
          "mesh3d": [
           {
            "colorbar": {
             "outlinewidth": 0,
             "ticks": ""
            },
            "type": "mesh3d"
           }
          ],
          "parcoords": [
           {
            "line": {
             "colorbar": {
              "outlinewidth": 0,
              "ticks": ""
             }
            },
            "type": "parcoords"
           }
          ],
          "pie": [
           {
            "automargin": true,
            "type": "pie"
           }
          ],
          "scatter": [
           {
            "fillpattern": {
             "fillmode": "overlay",
             "size": 10,
             "solidity": 0.2
            },
            "type": "scatter"
           }
          ],
          "scatter3d": [
           {
            "line": {
             "colorbar": {
              "outlinewidth": 0,
              "ticks": ""
             }
            },
            "marker": {
             "colorbar": {
              "outlinewidth": 0,
              "ticks": ""
             }
            },
            "type": "scatter3d"
           }
          ],
          "scattercarpet": [
           {
            "marker": {
             "colorbar": {
              "outlinewidth": 0,
              "ticks": ""
             }
            },
            "type": "scattercarpet"
           }
          ],
          "scattergeo": [
           {
            "marker": {
             "colorbar": {
              "outlinewidth": 0,
              "ticks": ""
             }
            },
            "type": "scattergeo"
           }
          ],
          "scattergl": [
           {
            "marker": {
             "colorbar": {
              "outlinewidth": 0,
              "ticks": ""
             }
            },
            "type": "scattergl"
           }
          ],
          "scattermapbox": [
           {
            "marker": {
             "colorbar": {
              "outlinewidth": 0,
              "ticks": ""
             }
            },
            "type": "scattermapbox"
           }
          ],
          "scatterpolar": [
           {
            "marker": {
             "colorbar": {
              "outlinewidth": 0,
              "ticks": ""
             }
            },
            "type": "scatterpolar"
           }
          ],
          "scatterpolargl": [
           {
            "marker": {
             "colorbar": {
              "outlinewidth": 0,
              "ticks": ""
             }
            },
            "type": "scatterpolargl"
           }
          ],
          "scatterternary": [
           {
            "marker": {
             "colorbar": {
              "outlinewidth": 0,
              "ticks": ""
             }
            },
            "type": "scatterternary"
           }
          ],
          "surface": [
           {
            "colorbar": {
             "outlinewidth": 0,
             "ticks": ""
            },
            "colorscale": [
             [
              0,
              "#0d0887"
             ],
             [
              0.1111111111111111,
              "#46039f"
             ],
             [
              0.2222222222222222,
              "#7201a8"
             ],
             [
              0.3333333333333333,
              "#9c179e"
             ],
             [
              0.4444444444444444,
              "#bd3786"
             ],
             [
              0.5555555555555556,
              "#d8576b"
             ],
             [
              0.6666666666666666,
              "#ed7953"
             ],
             [
              0.7777777777777778,
              "#fb9f3a"
             ],
             [
              0.8888888888888888,
              "#fdca26"
             ],
             [
              1,
              "#f0f921"
             ]
            ],
            "type": "surface"
           }
          ],
          "table": [
           {
            "cells": {
             "fill": {
              "color": "#EBF0F8"
             },
             "line": {
              "color": "white"
             }
            },
            "header": {
             "fill": {
              "color": "#C8D4E3"
             },
             "line": {
              "color": "white"
             }
            },
            "type": "table"
           }
          ]
         },
         "layout": {
          "annotationdefaults": {
           "arrowcolor": "#2a3f5f",
           "arrowhead": 0,
           "arrowwidth": 1
          },
          "autotypenumbers": "strict",
          "coloraxis": {
           "colorbar": {
            "outlinewidth": 0,
            "ticks": ""
           }
          },
          "colorscale": {
           "diverging": [
            [
             0,
             "#8e0152"
            ],
            [
             0.1,
             "#c51b7d"
            ],
            [
             0.2,
             "#de77ae"
            ],
            [
             0.3,
             "#f1b6da"
            ],
            [
             0.4,
             "#fde0ef"
            ],
            [
             0.5,
             "#f7f7f7"
            ],
            [
             0.6,
             "#e6f5d0"
            ],
            [
             0.7,
             "#b8e186"
            ],
            [
             0.8,
             "#7fbc41"
            ],
            [
             0.9,
             "#4d9221"
            ],
            [
             1,
             "#276419"
            ]
           ],
           "sequential": [
            [
             0,
             "#0d0887"
            ],
            [
             0.1111111111111111,
             "#46039f"
            ],
            [
             0.2222222222222222,
             "#7201a8"
            ],
            [
             0.3333333333333333,
             "#9c179e"
            ],
            [
             0.4444444444444444,
             "#bd3786"
            ],
            [
             0.5555555555555556,
             "#d8576b"
            ],
            [
             0.6666666666666666,
             "#ed7953"
            ],
            [
             0.7777777777777778,
             "#fb9f3a"
            ],
            [
             0.8888888888888888,
             "#fdca26"
            ],
            [
             1,
             "#f0f921"
            ]
           ],
           "sequentialminus": [
            [
             0,
             "#0d0887"
            ],
            [
             0.1111111111111111,
             "#46039f"
            ],
            [
             0.2222222222222222,
             "#7201a8"
            ],
            [
             0.3333333333333333,
             "#9c179e"
            ],
            [
             0.4444444444444444,
             "#bd3786"
            ],
            [
             0.5555555555555556,
             "#d8576b"
            ],
            [
             0.6666666666666666,
             "#ed7953"
            ],
            [
             0.7777777777777778,
             "#fb9f3a"
            ],
            [
             0.8888888888888888,
             "#fdca26"
            ],
            [
             1,
             "#f0f921"
            ]
           ]
          },
          "colorway": [
           "#636efa",
           "#EF553B",
           "#00cc96",
           "#ab63fa",
           "#FFA15A",
           "#19d3f3",
           "#FF6692",
           "#B6E880",
           "#FF97FF",
           "#FECB52"
          ],
          "font": {
           "color": "#2a3f5f"
          },
          "geo": {
           "bgcolor": "white",
           "lakecolor": "white",
           "landcolor": "#E5ECF6",
           "showlakes": true,
           "showland": true,
           "subunitcolor": "white"
          },
          "hoverlabel": {
           "align": "left"
          },
          "hovermode": "closest",
          "mapbox": {
           "style": "light"
          },
          "paper_bgcolor": "white",
          "plot_bgcolor": "#E5ECF6",
          "polar": {
           "angularaxis": {
            "gridcolor": "white",
            "linecolor": "white",
            "ticks": ""
           },
           "bgcolor": "#E5ECF6",
           "radialaxis": {
            "gridcolor": "white",
            "linecolor": "white",
            "ticks": ""
           }
          },
          "scene": {
           "xaxis": {
            "backgroundcolor": "#E5ECF6",
            "gridcolor": "white",
            "gridwidth": 2,
            "linecolor": "white",
            "showbackground": true,
            "ticks": "",
            "zerolinecolor": "white"
           },
           "yaxis": {
            "backgroundcolor": "#E5ECF6",
            "gridcolor": "white",
            "gridwidth": 2,
            "linecolor": "white",
            "showbackground": true,
            "ticks": "",
            "zerolinecolor": "white"
           },
           "zaxis": {
            "backgroundcolor": "#E5ECF6",
            "gridcolor": "white",
            "gridwidth": 2,
            "linecolor": "white",
            "showbackground": true,
            "ticks": "",
            "zerolinecolor": "white"
           }
          },
          "shapedefaults": {
           "line": {
            "color": "#2a3f5f"
           }
          },
          "ternary": {
           "aaxis": {
            "gridcolor": "white",
            "linecolor": "white",
            "ticks": ""
           },
           "baxis": {
            "gridcolor": "white",
            "linecolor": "white",
            "ticks": ""
           },
           "bgcolor": "#E5ECF6",
           "caxis": {
            "gridcolor": "white",
            "linecolor": "white",
            "ticks": ""
           }
          },
          "title": {
           "x": 0.05
          },
          "xaxis": {
           "automargin": true,
           "gridcolor": "white",
           "linecolor": "white",
           "ticks": "",
           "title": {
            "standoff": 15
           },
           "zerolinecolor": "white",
           "zerolinewidth": 2
          },
          "yaxis": {
           "automargin": true,
           "gridcolor": "white",
           "linecolor": "white",
           "ticks": "",
           "title": {
            "standoff": 15
           },
           "zerolinecolor": "white",
           "zerolinewidth": 2
          }
         }
        },
        "title": {
         "text": "epsilon vs k"
        },
        "xaxis": {
         "anchor": "y",
         "domain": [
          0,
          0.48
         ],
         "title": {
          "text": "k"
         }
        },
        "xaxis2": {
         "anchor": "y2",
         "domain": [
          0.5,
          0.98
         ],
         "matches": "x",
         "title": {
          "text": "k"
         }
        },
        "xaxis3": {
         "anchor": "y3",
         "domain": [
          0,
          0.48
         ],
         "matches": "x",
         "showticklabels": false
        },
        "xaxis4": {
         "anchor": "y4",
         "domain": [
          0.5,
          0.98
         ],
         "matches": "x",
         "showticklabels": false
        },
        "yaxis": {
         "anchor": "x",
         "domain": [
          0,
          0.485
         ],
         "title": {
          "text": "epsilon"
         }
        },
        "yaxis2": {
         "anchor": "x2",
         "domain": [
          0,
          0.485
         ],
         "matches": "y",
         "showticklabels": false
        },
        "yaxis3": {
         "anchor": "x3",
         "domain": [
          0.515,
          1
         ],
         "matches": "y",
         "title": {
          "text": "epsilon"
         }
        },
        "yaxis4": {
         "anchor": "x4",
         "domain": [
          0.515,
          1
         ],
         "matches": "y",
         "showticklabels": false
        }
       }
      },
      "text/html": [
       "<div>                            <div id=\"9251acf4-c187-4440-8926-09284aa824c6\" class=\"plotly-graph-div\" style=\"height:525px; width:100%;\"></div>            <script type=\"text/javascript\">                require([\"plotly\"], function(Plotly) {                    window.PLOTLYENV=window.PLOTLYENV || {};                                    if (document.getElementById(\"9251acf4-c187-4440-8926-09284aa824c6\")) {                    Plotly.newPlot(                        \"9251acf4-c187-4440-8926-09284aa824c6\",                        [{\"hovertemplate\":\"bound=monte_carlo<br>beta=0.0001<br>alpha=0.001<br>k=%{x}<br>epsilon=%{y}<extra></extra>\",\"legendgroup\":\"monte_carlo\",\"line\":{\"color\":\"#636efa\",\"dash\":\"solid\"},\"marker\":{\"symbol\":\"circle\"},\"mode\":\"lines\",\"name\":\"monte_carlo\",\"orientation\":\"v\",\"showlegend\":true,\"x\":[1,2,3,4,5,6,7,10,12,14,16,18,20],\"xaxis\":\"x3\",\"y\":[0.08625699625708164,0.10312751361658837,0.11817382333602161,0.12911455285684273,0.1433390374936135,0.15100441555157373,0.16085413821501143,0.184717647934211,0.20054938808727357,0.21500903632519897,0.2263063285153843,0.23973539436631167,0.2519005528139976],\"yaxis\":\"y3\",\"type\":\"scatter\"},{\"hovertemplate\":\"bound=monte_carlo<br>beta=0.0001<br>alpha=0.01<br>k=%{x}<br>epsilon=%{y}<extra></extra>\",\"legendgroup\":\"monte_carlo\",\"line\":{\"color\":\"#636efa\",\"dash\":\"solid\"},\"marker\":{\"symbol\":\"circle\"},\"mode\":\"lines\",\"name\":\"monte_carlo\",\"orientation\":\"v\",\"showlegend\":false,\"x\":[1,2,3,4,5,6,7,10,12,14,16,18,20],\"xaxis\":\"x4\",\"y\":[0.008634694098727672,0.010285396583511202,0.011844737385300317,0.013020874398274818,0.014279194193066082,0.015100441555157374,0.016140126113411007,0.0184717647934211,0.02005493880872736,0.021338264421986462,0.02266974859873717,0.024047304173359263,0.02511230819719791],\"yaxis\":\"y4\",\"type\":\"scatter\"},{\"hovertemplate\":\"bound=monte_carlo<br>beta=0.001<br>alpha=0.001<br>k=%{x}<br>epsilon=%{y}<extra></extra>\",\"legendgroup\":\"monte_carlo\",\"line\":{\"color\":\"#636efa\",\"dash\":\"solid\"},\"marker\":{\"symbol\":\"circle\"},\"mode\":\"lines\",\"name\":\"monte_carlo\",\"orientation\":\"v\",\"showlegend\":false,\"x\":[1,2,3,4,5,6,7,10,12,14,16,18,20],\"xaxis\":\"x\",\"y\":[0.06224737484063248,0.0782057617299545,0.09038319617244678,0.10077468135524464,0.11106209674359255,0.11892347353428556,0.1273918652438761,0.14811425747003204,0.16092200933593176,0.1723512792520517,0.1827311177285395,0.19394985955270116,0.20274979001017682],\"yaxis\":\"y\",\"type\":\"scatter\"},{\"hovertemplate\":\"bound=monte_carlo<br>beta=0.001<br>alpha=0.01<br>k=%{x}<br>epsilon=%{y}<extra></extra>\",\"legendgroup\":\"monte_carlo\",\"line\":{\"color\":\"#636efa\",\"dash\":\"solid\"},\"marker\":{\"symbol\":\"circle\"},\"mode\":\"lines\",\"name\":\"monte_carlo\",\"orientation\":\"v\",\"showlegend\":false,\"x\":[1,2,3,4,5,6,7,10,12,14,16,18,20],\"xaxis\":\"x2\",\"y\":[0.006206186383460513,0.007803297251632991,0.009038319617244678,0.010113552819603489,0.011029775752628222,0.011952463561326704,0.012744435468155384,0.014785839501936742,0.01611878768974627,0.017230327464759176,0.01830916467842443,0.019340460276303824,0.020297328198383764],\"yaxis\":\"y2\",\"type\":\"scatter\"},{\"hovertemplate\":\"bound=concentration<br>beta=0.0001<br>alpha=0.001<br>k=%{x}<br>epsilon=%{y}<extra></extra>\",\"legendgroup\":\"concentration\",\"line\":{\"color\":\"#EF553B\",\"dash\":\"solid\"},\"marker\":{\"symbol\":\"circle\"},\"mode\":\"lines\",\"name\":\"concentration\",\"orientation\":\"v\",\"showlegend\":true,\"x\":[1,2,3,4,5,6,7,10,12,14,16,18,20],\"xaxis\":\"x3\",\"y\":[0.09210340371976183,0.2801129282317944,0.2801129282317944,0.2801129282317944,0.2801129282317944,0.2801129282317944,0.2801129282317944,0.28147451113784533,0.30833987822587405,0.3330451329600909,0.3560402233912096,0.3776376845026463,0.3980650711134777],\"yaxis\":\"y3\",\"type\":\"scatter\"},{\"hovertemplate\":\"bound=concentration<br>beta=0.0001<br>alpha=0.01<br>k=%{x}<br>epsilon=%{y}<extra></extra>\",\"legendgroup\":\"concentration\",\"line\":{\"color\":\"#EF553B\",\"dash\":\"solid\"},\"marker\":{\"symbol\":\"circle\"},\"mode\":\"lines\",\"name\":\"concentration\",\"orientation\":\"v\",\"showlegend\":false,\"x\":[1,2,3,4,5,6,7,10,12,14,16,18,20],\"xaxis\":\"x4\",\"y\":[0.009210340371976183,0.02801129282317944,0.02801129282317944,0.02801129282317944,0.02801129282317944,0.02801129282317944,0.02801129282317944,0.028147451113784534,0.030833987822587405,0.03330451329600909,0.03560402233912096,0.03776376845026463,0.03980650711134777],\"yaxis\":\"y4\",\"type\":\"scatter\"},{\"hovertemplate\":\"bound=concentration<br>beta=0.001<br>alpha=0.001<br>k=%{x}<br>epsilon=%{y}<extra></extra>\",\"legendgroup\":\"concentration\",\"line\":{\"color\":\"#EF553B\",\"dash\":\"solid\"},\"marker\":{\"symbol\":\"circle\"},\"mode\":\"lines\",\"name\":\"concentration\",\"orientation\":\"v\",\"showlegend\":false,\"x\":[1,2,3,4,5,6,7,10,12,14,16,18,20],\"xaxis\":\"x\",\"y\":[0.06907755278982136,0.21498598689118859,0.21498598689118859,0.21498598689118859,0.21498598689118859,0.21498598689118859,0.21498598689118859,0.24659119951112743,0.27012712490900276,0.29177064202361297,0.31191593656326483,0.3308368108560563,0.3487326187104862],\"yaxis\":\"y\",\"type\":\"scatter\"},{\"hovertemplate\":\"bound=concentration<br>beta=0.001<br>alpha=0.01<br>k=%{x}<br>epsilon=%{y}<extra></extra>\",\"legendgroup\":\"concentration\",\"line\":{\"color\":\"#EF553B\",\"dash\":\"solid\"},\"marker\":{\"symbol\":\"circle\"},\"mode\":\"lines\",\"name\":\"concentration\",\"orientation\":\"v\",\"showlegend\":false,\"x\":[1,2,3,4,5,6,7,10,12,14,16,18,20],\"xaxis\":\"x2\",\"y\":[0.006907755278982137,0.021498598689118856,0.021498598689118856,0.021498598689118856,0.021498598689118856,0.021498598689118856,0.021498598689118856,0.024659119951112744,0.027012712490900277,0.029177064202361297,0.031191593656326483,0.03308368108560563,0.03487326187104862],\"yaxis\":\"y2\",\"type\":\"scatter\"}],                        {\"template\":{\"data\":{\"histogram2dcontour\":[{\"type\":\"histogram2dcontour\",\"colorbar\":{\"outlinewidth\":0,\"ticks\":\"\"},\"colorscale\":[[0.0,\"#0d0887\"],[0.1111111111111111,\"#46039f\"],[0.2222222222222222,\"#7201a8\"],[0.3333333333333333,\"#9c179e\"],[0.4444444444444444,\"#bd3786\"],[0.5555555555555556,\"#d8576b\"],[0.6666666666666666,\"#ed7953\"],[0.7777777777777778,\"#fb9f3a\"],[0.8888888888888888,\"#fdca26\"],[1.0,\"#f0f921\"]]}],\"choropleth\":[{\"type\":\"choropleth\",\"colorbar\":{\"outlinewidth\":0,\"ticks\":\"\"}}],\"histogram2d\":[{\"type\":\"histogram2d\",\"colorbar\":{\"outlinewidth\":0,\"ticks\":\"\"},\"colorscale\":[[0.0,\"#0d0887\"],[0.1111111111111111,\"#46039f\"],[0.2222222222222222,\"#7201a8\"],[0.3333333333333333,\"#9c179e\"],[0.4444444444444444,\"#bd3786\"],[0.5555555555555556,\"#d8576b\"],[0.6666666666666666,\"#ed7953\"],[0.7777777777777778,\"#fb9f3a\"],[0.8888888888888888,\"#fdca26\"],[1.0,\"#f0f921\"]]}],\"heatmap\":[{\"type\":\"heatmap\",\"colorbar\":{\"outlinewidth\":0,\"ticks\":\"\"},\"colorscale\":[[0.0,\"#0d0887\"],[0.1111111111111111,\"#46039f\"],[0.2222222222222222,\"#7201a8\"],[0.3333333333333333,\"#9c179e\"],[0.4444444444444444,\"#bd3786\"],[0.5555555555555556,\"#d8576b\"],[0.6666666666666666,\"#ed7953\"],[0.7777777777777778,\"#fb9f3a\"],[0.8888888888888888,\"#fdca26\"],[1.0,\"#f0f921\"]]}],\"heatmapgl\":[{\"type\":\"heatmapgl\",\"colorbar\":{\"outlinewidth\":0,\"ticks\":\"\"},\"colorscale\":[[0.0,\"#0d0887\"],[0.1111111111111111,\"#46039f\"],[0.2222222222222222,\"#7201a8\"],[0.3333333333333333,\"#9c179e\"],[0.4444444444444444,\"#bd3786\"],[0.5555555555555556,\"#d8576b\"],[0.6666666666666666,\"#ed7953\"],[0.7777777777777778,\"#fb9f3a\"],[0.8888888888888888,\"#fdca26\"],[1.0,\"#f0f921\"]]}],\"contourcarpet\":[{\"type\":\"contourcarpet\",\"colorbar\":{\"outlinewidth\":0,\"ticks\":\"\"}}],\"contour\":[{\"type\":\"contour\",\"colorbar\":{\"outlinewidth\":0,\"ticks\":\"\"},\"colorscale\":[[0.0,\"#0d0887\"],[0.1111111111111111,\"#46039f\"],[0.2222222222222222,\"#7201a8\"],[0.3333333333333333,\"#9c179e\"],[0.4444444444444444,\"#bd3786\"],[0.5555555555555556,\"#d8576b\"],[0.6666666666666666,\"#ed7953\"],[0.7777777777777778,\"#fb9f3a\"],[0.8888888888888888,\"#fdca26\"],[1.0,\"#f0f921\"]]}],\"surface\":[{\"type\":\"surface\",\"colorbar\":{\"outlinewidth\":0,\"ticks\":\"\"},\"colorscale\":[[0.0,\"#0d0887\"],[0.1111111111111111,\"#46039f\"],[0.2222222222222222,\"#7201a8\"],[0.3333333333333333,\"#9c179e\"],[0.4444444444444444,\"#bd3786\"],[0.5555555555555556,\"#d8576b\"],[0.6666666666666666,\"#ed7953\"],[0.7777777777777778,\"#fb9f3a\"],[0.8888888888888888,\"#fdca26\"],[1.0,\"#f0f921\"]]}],\"mesh3d\":[{\"type\":\"mesh3d\",\"colorbar\":{\"outlinewidth\":0,\"ticks\":\"\"}}],\"scatter\":[{\"fillpattern\":{\"fillmode\":\"overlay\",\"size\":10,\"solidity\":0.2},\"type\":\"scatter\"}],\"parcoords\":[{\"type\":\"parcoords\",\"line\":{\"colorbar\":{\"outlinewidth\":0,\"ticks\":\"\"}}}],\"scatterpolargl\":[{\"type\":\"scatterpolargl\",\"marker\":{\"colorbar\":{\"outlinewidth\":0,\"ticks\":\"\"}}}],\"bar\":[{\"error_x\":{\"color\":\"#2a3f5f\"},\"error_y\":{\"color\":\"#2a3f5f\"},\"marker\":{\"line\":{\"color\":\"#E5ECF6\",\"width\":0.5},\"pattern\":{\"fillmode\":\"overlay\",\"size\":10,\"solidity\":0.2}},\"type\":\"bar\"}],\"scattergeo\":[{\"type\":\"scattergeo\",\"marker\":{\"colorbar\":{\"outlinewidth\":0,\"ticks\":\"\"}}}],\"scatterpolar\":[{\"type\":\"scatterpolar\",\"marker\":{\"colorbar\":{\"outlinewidth\":0,\"ticks\":\"\"}}}],\"histogram\":[{\"marker\":{\"pattern\":{\"fillmode\":\"overlay\",\"size\":10,\"solidity\":0.2}},\"type\":\"histogram\"}],\"scattergl\":[{\"type\":\"scattergl\",\"marker\":{\"colorbar\":{\"outlinewidth\":0,\"ticks\":\"\"}}}],\"scatter3d\":[{\"type\":\"scatter3d\",\"line\":{\"colorbar\":{\"outlinewidth\":0,\"ticks\":\"\"}},\"marker\":{\"colorbar\":{\"outlinewidth\":0,\"ticks\":\"\"}}}],\"scattermapbox\":[{\"type\":\"scattermapbox\",\"marker\":{\"colorbar\":{\"outlinewidth\":0,\"ticks\":\"\"}}}],\"scatterternary\":[{\"type\":\"scatterternary\",\"marker\":{\"colorbar\":{\"outlinewidth\":0,\"ticks\":\"\"}}}],\"scattercarpet\":[{\"type\":\"scattercarpet\",\"marker\":{\"colorbar\":{\"outlinewidth\":0,\"ticks\":\"\"}}}],\"carpet\":[{\"aaxis\":{\"endlinecolor\":\"#2a3f5f\",\"gridcolor\":\"white\",\"linecolor\":\"white\",\"minorgridcolor\":\"white\",\"startlinecolor\":\"#2a3f5f\"},\"baxis\":{\"endlinecolor\":\"#2a3f5f\",\"gridcolor\":\"white\",\"linecolor\":\"white\",\"minorgridcolor\":\"white\",\"startlinecolor\":\"#2a3f5f\"},\"type\":\"carpet\"}],\"table\":[{\"cells\":{\"fill\":{\"color\":\"#EBF0F8\"},\"line\":{\"color\":\"white\"}},\"header\":{\"fill\":{\"color\":\"#C8D4E3\"},\"line\":{\"color\":\"white\"}},\"type\":\"table\"}],\"barpolar\":[{\"marker\":{\"line\":{\"color\":\"#E5ECF6\",\"width\":0.5},\"pattern\":{\"fillmode\":\"overlay\",\"size\":10,\"solidity\":0.2}},\"type\":\"barpolar\"}],\"pie\":[{\"automargin\":true,\"type\":\"pie\"}]},\"layout\":{\"autotypenumbers\":\"strict\",\"colorway\":[\"#636efa\",\"#EF553B\",\"#00cc96\",\"#ab63fa\",\"#FFA15A\",\"#19d3f3\",\"#FF6692\",\"#B6E880\",\"#FF97FF\",\"#FECB52\"],\"font\":{\"color\":\"#2a3f5f\"},\"hovermode\":\"closest\",\"hoverlabel\":{\"align\":\"left\"},\"paper_bgcolor\":\"white\",\"plot_bgcolor\":\"#E5ECF6\",\"polar\":{\"bgcolor\":\"#E5ECF6\",\"angularaxis\":{\"gridcolor\":\"white\",\"linecolor\":\"white\",\"ticks\":\"\"},\"radialaxis\":{\"gridcolor\":\"white\",\"linecolor\":\"white\",\"ticks\":\"\"}},\"ternary\":{\"bgcolor\":\"#E5ECF6\",\"aaxis\":{\"gridcolor\":\"white\",\"linecolor\":\"white\",\"ticks\":\"\"},\"baxis\":{\"gridcolor\":\"white\",\"linecolor\":\"white\",\"ticks\":\"\"},\"caxis\":{\"gridcolor\":\"white\",\"linecolor\":\"white\",\"ticks\":\"\"}},\"coloraxis\":{\"colorbar\":{\"outlinewidth\":0,\"ticks\":\"\"}},\"colorscale\":{\"sequential\":[[0.0,\"#0d0887\"],[0.1111111111111111,\"#46039f\"],[0.2222222222222222,\"#7201a8\"],[0.3333333333333333,\"#9c179e\"],[0.4444444444444444,\"#bd3786\"],[0.5555555555555556,\"#d8576b\"],[0.6666666666666666,\"#ed7953\"],[0.7777777777777778,\"#fb9f3a\"],[0.8888888888888888,\"#fdca26\"],[1.0,\"#f0f921\"]],\"sequentialminus\":[[0.0,\"#0d0887\"],[0.1111111111111111,\"#46039f\"],[0.2222222222222222,\"#7201a8\"],[0.3333333333333333,\"#9c179e\"],[0.4444444444444444,\"#bd3786\"],[0.5555555555555556,\"#d8576b\"],[0.6666666666666666,\"#ed7953\"],[0.7777777777777778,\"#fb9f3a\"],[0.8888888888888888,\"#fdca26\"],[1.0,\"#f0f921\"]],\"diverging\":[[0,\"#8e0152\"],[0.1,\"#c51b7d\"],[0.2,\"#de77ae\"],[0.3,\"#f1b6da\"],[0.4,\"#fde0ef\"],[0.5,\"#f7f7f7\"],[0.6,\"#e6f5d0\"],[0.7,\"#b8e186\"],[0.8,\"#7fbc41\"],[0.9,\"#4d9221\"],[1,\"#276419\"]]},\"xaxis\":{\"gridcolor\":\"white\",\"linecolor\":\"white\",\"ticks\":\"\",\"title\":{\"standoff\":15},\"zerolinecolor\":\"white\",\"automargin\":true,\"zerolinewidth\":2},\"yaxis\":{\"gridcolor\":\"white\",\"linecolor\":\"white\",\"ticks\":\"\",\"title\":{\"standoff\":15},\"zerolinecolor\":\"white\",\"automargin\":true,\"zerolinewidth\":2},\"scene\":{\"xaxis\":{\"backgroundcolor\":\"#E5ECF6\",\"gridcolor\":\"white\",\"linecolor\":\"white\",\"showbackground\":true,\"ticks\":\"\",\"zerolinecolor\":\"white\",\"gridwidth\":2},\"yaxis\":{\"backgroundcolor\":\"#E5ECF6\",\"gridcolor\":\"white\",\"linecolor\":\"white\",\"showbackground\":true,\"ticks\":\"\",\"zerolinecolor\":\"white\",\"gridwidth\":2},\"zaxis\":{\"backgroundcolor\":\"#E5ECF6\",\"gridcolor\":\"white\",\"linecolor\":\"white\",\"showbackground\":true,\"ticks\":\"\",\"zerolinecolor\":\"white\",\"gridwidth\":2}},\"shapedefaults\":{\"line\":{\"color\":\"#2a3f5f\"}},\"annotationdefaults\":{\"arrowcolor\":\"#2a3f5f\",\"arrowhead\":0,\"arrowwidth\":1},\"geo\":{\"bgcolor\":\"white\",\"landcolor\":\"#E5ECF6\",\"subunitcolor\":\"white\",\"showland\":true,\"showlakes\":true,\"lakecolor\":\"white\"},\"title\":{\"x\":0.05},\"mapbox\":{\"style\":\"light\"}}},\"xaxis\":{\"anchor\":\"y\",\"domain\":[0.0,0.48],\"title\":{\"text\":\"k\"}},\"yaxis\":{\"anchor\":\"x\",\"domain\":[0.0,0.485],\"title\":{\"text\":\"epsilon\"}},\"xaxis2\":{\"anchor\":\"y2\",\"domain\":[0.5,0.98],\"matches\":\"x\",\"title\":{\"text\":\"k\"}},\"yaxis2\":{\"anchor\":\"x2\",\"domain\":[0.0,0.485],\"matches\":\"y\",\"showticklabels\":false},\"xaxis3\":{\"anchor\":\"y3\",\"domain\":[0.0,0.48],\"matches\":\"x\",\"showticklabels\":false},\"yaxis3\":{\"anchor\":\"x3\",\"domain\":[0.515,1.0],\"matches\":\"y\",\"title\":{\"text\":\"epsilon\"}},\"xaxis4\":{\"anchor\":\"y4\",\"domain\":[0.5,0.98],\"matches\":\"x\",\"showticklabels\":false},\"yaxis4\":{\"anchor\":\"x4\",\"domain\":[0.515,1.0],\"matches\":\"y\",\"showticklabels\":false},\"annotations\":[{\"font\":{},\"showarrow\":false,\"text\":\"alpha=0.001\",\"x\":0.24,\"xanchor\":\"center\",\"xref\":\"paper\",\"y\":1.0,\"yanchor\":\"bottom\",\"yref\":\"paper\"},{\"font\":{},\"showarrow\":false,\"text\":\"alpha=0.01\",\"x\":0.74,\"xanchor\":\"center\",\"xref\":\"paper\",\"y\":1.0,\"yanchor\":\"bottom\",\"yref\":\"paper\"},{\"font\":{},\"showarrow\":false,\"text\":\"beta=0.001\",\"textangle\":90,\"x\":0.98,\"xanchor\":\"left\",\"xref\":\"paper\",\"y\":0.2425,\"yanchor\":\"middle\",\"yref\":\"paper\"},{\"font\":{},\"showarrow\":false,\"text\":\"beta=0.0001\",\"textangle\":90,\"x\":0.98,\"xanchor\":\"left\",\"xref\":\"paper\",\"y\":0.7575000000000001,\"yanchor\":\"middle\",\"yref\":\"paper\"}],\"legend\":{\"title\":{\"text\":\"bound\"},\"tracegroupgap\":0},\"title\":{\"text\":\"epsilon vs k\"}},                        {\"responsive\": true}                    ).then(function(){\n",
       "                            \n",
       "var gd = document.getElementById('9251acf4-c187-4440-8926-09284aa824c6');\n",
       "var x = new MutationObserver(function (mutations, observer) {{\n",
       "        var display = window.getComputedStyle(gd).display;\n",
       "        if (!display || display === 'none') {{\n",
       "            console.log([gd, 'removed!']);\n",
       "            Plotly.purge(gd);\n",
       "            observer.disconnect();\n",
       "        }}\n",
       "}});\n",
       "\n",
       "// Listen for the removal of the full notebook cells\n",
       "var notebookContainer = gd.closest('#notebook-container');\n",
       "if (notebookContainer) {{\n",
       "    x.observe(notebookContainer, {childList: true});\n",
       "}}\n",
       "\n",
       "// Listen for the clearing of the current output cell\n",
       "var outputEl = gd.closest('.output');\n",
       "if (outputEl) {{\n",
       "    x.observe(outputEl, {childList: true});\n",
       "}}\n",
       "\n",
       "                        })                };                });            </script>        </div>"
      ]
     },
     "metadata": {},
     "output_type": "display_data"
    }
   ],
   "source": [
    "px.line(df, x='k', y='epsilon', color='bound', facet_col=\"alpha\", facet_row=\"beta\", title=f'epsilon vs k')"
   ]
  },
  {
   "attachments": {},
   "cell_type": "markdown",
   "metadata": {},
   "source": [
    "## VR on a single chunk"
   ]
  },
  {
   "cell_type": "code",
   "execution_count": 14,
   "metadata": {},
   "outputs": [
    {
     "name": "stdout",
     "output_type": "stream",
     "text": [
      "The autoreload extension is already loaded. To reload it, use:\n",
      "  %reload_ext autoreload\n"
     ]
    }
   ],
   "source": [
    "%load_ext autoreload\n",
    "%autoreload 2"
   ]
  },
  {
   "cell_type": "code",
   "execution_count": 11,
   "metadata": {},
   "outputs": [],
   "source": [
    "#TODO: check if epsilon=0 can work first"
   ]
  },
  {
   "cell_type": "code",
   "execution_count": 17,
   "metadata": {},
   "outputs": [],
   "source": [
    "from precycle.utils.utility_theorems import get_epsilon_vr_monte_carlo"
   ]
  },
  {
   "cell_type": "code",
   "execution_count": 33,
   "metadata": {},
   "outputs": [
    {
     "name": "stdout",
     "output_type": "stream",
     "text": [
      "Sufficient fresh eps for chunk 0: 44.440972086577936\n",
      "Fresh epsilons: [44.44097209]\n",
      "Chunk 0 laplace scale: [2.5000000e-06 2.2220486e-05]\n",
      "Fresh epsilons: [22.22048604]\n",
      "Chunk 0 laplace scale: [9.63855422e-06 4.28346719e-05]\n",
      "0 < 22.220486043288968 < 44.440972086577936 gives beta=0.0. Target 0.01\n",
      "Fresh epsilons: [11.11024302]\n",
      "Chunk 0 laplace scale: [3.36842105e-05 7.48479530e-05]\n",
      "0 < 11.110243021644484 < 22.220486043288968 gives beta=0.0. Target 0.01\n",
      "Fresh epsilons: [5.55512151]\n",
      "Chunk 0 laplace scale: [8.95104895e-05 9.94483291e-05]\n",
      "0 < 5.555121510822242 < 11.110243021644484 gives beta=0.0. Target 0.01\n",
      "Fresh epsilons: [2.77756076]\n",
      "Chunk 0 laplace scale: [1.52835821e-04 8.49021556e-05]\n",
      "0 < 2.777560755411121 < 5.555121510822242 gives beta=0.0. Target 0.01\n",
      "Fresh epsilons: [1.38878038]\n",
      "Chunk 0 laplace scale: [1.85675431e-04 5.15724789e-05]\n",
      "0 < 1.3887803777055605 < 2.777560755411121 gives beta=0.0. Target 0.01\n",
      "Fresh epsilons: [0.69439019]\n",
      "Chunk 0 laplace scale: [1.96215569e-04 2.72500332e-05]\n",
      "0 < 0.6943901888527803 < 1.3887803777055605 gives beta=0.0. Target 0.01\n",
      "Fresh epsilons: [0.34719509]\n",
      "Chunk 0 laplace scale: [1.99040272e-04 1.38211612e-05]\n",
      "0 < 0.3471950944263901 < 0.6943901888527803 gives beta=0.0. Target 0.01\n",
      "Fresh epsilons: [0.17359755]\n",
      "Chunk 0 laplace scale: [1.99759201e-04 6.93554148e-06]\n",
      "0 < 0.17359754721319506 < 0.3471950944263901 gives beta=0.0. Target 0.01\n",
      "Fresh epsilons: [0.08679877]\n",
      "Chunk 0 laplace scale: [1.99939746e-04 3.47090495e-06]\n",
      "0 < 0.08679877360659753 < 0.17359754721319506 gives beta=0.0. Target 0.01\n",
      "Fresh epsilons: [0.04339939]\n",
      "Chunk 0 laplace scale: [1.99984933e-04 1.73584469e-06]\n",
      "0 < 0.043399386803298766 < 0.08679877360659753 gives beta=0.0. Target 0.01\n",
      "Fresh epsilons: [0.02169969]\n",
      "Chunk 0 laplace scale: [1.99996233e-04 8.67971388e-07]\n",
      "0 < 0.021699693401649383 < 0.043399386803298766 gives beta=0.0. Target 0.01\n",
      "Fresh epsilons: [0.01084985]\n",
      "Chunk 0 laplace scale: [1.99999058e-04 4.33991824e-07]\n",
      "0 < 0.010849846700824691 < 0.021699693401649383 gives beta=0.0. Target 0.01\n",
      "Fresh epsilons: [0.00542492]\n",
      "Chunk 0 laplace scale: [1.99999765e-04 2.16996679e-07]\n",
      "0 < 0.005424923350412346 < 0.010849846700824691 gives beta=0.0. Target 0.01\n",
      "Fresh epsilons: [0.00271246]\n",
      "Chunk 0 laplace scale: [1.99999941e-04 1.08498435e-07]\n",
      "0 < 0.002712461675206173 < 0.005424923350412346 gives beta=0.0. Target 0.01\n",
      "Fresh epsilons: [0.00135623]\n",
      "Chunk 0 laplace scale: [1.99999985e-04 5.42492295e-08]\n",
      "0 < 0.0013562308376030864 < 0.002712461675206173 gives beta=0.0. Target 0.01\n",
      "Fresh epsilons: [0.00067812]\n",
      "Chunk 0 laplace scale: [1.99999996e-04 2.71246163e-08]\n",
      "0 < 0.0006781154188015432 < 0.0013562308376030864 gives beta=0.0. Target 0.01\n",
      "Fresh epsilons: [0.00033906]\n",
      "Chunk 0 laplace scale: [1.99999999e-04 1.35623083e-08]\n",
      "0 < 0.0003390577094007716 < 0.0006781154188015432 gives beta=0.0. Target 0.01\n",
      "Fresh epsilons: [0.00016953]\n",
      "Chunk 0 laplace scale: [2.00000000e-04 6.78115418e-09]\n",
      "0 < 0.0001695288547003858 < 0.0003390577094007716 gives beta=0.0. Target 0.01\n",
      "Fresh epsilons: [8.47644274e-05]\n",
      "Chunk 0 laplace scale: [2.00000000e-04 3.39057709e-09]\n",
      "0 < 8.47644273501929e-05 < 0.0001695288547003858 gives beta=0.0. Target 0.01\n",
      "Fresh epsilons: [4.23822137e-05]\n",
      "Chunk 0 laplace scale: [2.00000000e-04 1.69528855e-09]\n",
      "0 < 4.238221367509645e-05 < 8.47644273501929e-05 gives beta=0.0. Target 0.01\n",
      "Fresh epsilons: [2.11911068e-05]\n",
      "Chunk 0 laplace scale: [2.00000000e-04 8.47644273e-10]\n",
      "0 < 2.1191106837548226e-05 < 4.238221367509645e-05 gives beta=0.0. Target 0.01\n",
      "Fresh epsilons: [1.05955534e-05]\n",
      "Chunk 0 laplace scale: [2.00000000e-04 4.23822137e-10]\n",
      "0 < 1.0595553418774113e-05 < 2.1191106837548226e-05 gives beta=0.0. Target 0.01\n",
      "Fresh epsilons: [5.29777671e-06]\n",
      "Chunk 0 laplace scale: [2.00000000e-04 2.11911068e-10]\n",
      "0 < 5.297776709387056e-06 < 1.0595553418774113e-05 gives beta=0.0. Target 0.01\n",
      "Fresh epsilons: [2.64888835e-06]\n",
      "Chunk 0 laplace scale: [2.00000000e-04 1.05955534e-10]\n",
      "0 < 2.648888354693528e-06 < 5.297776709387056e-06 gives beta=0.0. Target 0.01\n",
      "Fresh epsilons: [1.32444418e-06]\n",
      "Chunk 0 laplace scale: [2.00000000e-04 5.29777671e-11]\n",
      "0 < 1.324444177346764e-06 < 2.648888354693528e-06 gives beta=0.0. Target 0.01\n",
      "Fresh epsilons: [6.62222089e-07]\n",
      "Chunk 0 laplace scale: [2.00000000e-04 2.64888835e-11]\n",
      "0 < 6.62222088673382e-07 < 1.324444177346764e-06 gives beta=0.0. Target 0.01\n",
      "Fresh epsilons: [3.31111044e-07]\n",
      "Chunk 0 laplace scale: [2.00000000e-04 1.32444418e-11]\n",
      "0 < 3.31111044336691e-07 < 6.62222088673382e-07 gives beta=0.0. Target 0.01\n",
      "Fresh epsilons: [1.65555522e-07]\n",
      "Chunk 0 laplace scale: [2.00000000e-04 6.62222089e-12]\n",
      "0 < 1.655555221683455e-07 < 3.31111044336691e-07 gives beta=0.0. Target 0.01\n",
      "Fresh epsilons: [8.27777611e-08]\n",
      "Chunk 0 laplace scale: [2.00000000e-04 3.31111044e-12]\n",
      "0 < 8.277776108417276e-08 < 1.655555221683455e-07 gives beta=0.0. Target 0.01\n",
      "Fresh epsilons: [4.13888805e-08]\n",
      "Chunk 0 laplace scale: [2.00000000e-04 1.65555522e-12]\n",
      "0 < 4.138888054208638e-08 < 8.277776108417276e-08 gives beta=0.0. Target 0.01\n",
      "Fresh epsilons: [2.06944403e-08]\n",
      "Chunk 0 laplace scale: [2.00000000e-04 8.27777611e-13]\n",
      "0 < 2.069444027104319e-08 < 4.138888054208638e-08 gives beta=0.0. Target 0.01\n",
      "Fresh epsilons: [1.03472201e-08]\n",
      "Chunk 0 laplace scale: [2.00000000e-04 4.13888805e-13]\n",
      "0 < 1.0347220135521595e-08 < 2.069444027104319e-08 gives beta=0.0. Target 0.01\n",
      "Fresh epsilons: [5.17361007e-09]\n",
      "Chunk 0 laplace scale: [2.00000000e-04 2.06944403e-13]\n",
      "0 < 5.173610067760797e-09 < 1.0347220135521595e-08 gives beta=0.0. Target 0.01\n",
      "Fresh epsilons: [2.58680503e-09]\n",
      "Chunk 0 laplace scale: [2.00000000e-04 1.03472201e-13]\n",
      "0 < 2.5868050338803986e-09 < 5.173610067760797e-09 gives beta=0.0. Target 0.01\n",
      "Fresh epsilons: [1.29340252e-09]\n",
      "Chunk 0 laplace scale: [2.00000000e-04 5.17361007e-14]\n",
      "0 < 1.2934025169401993e-09 < 2.5868050338803986e-09 gives beta=0.0. Target 0.01\n",
      "Fresh epsilons: [6.46701258e-10]\n",
      "Chunk 0 laplace scale: [2.00000000e-04 2.58680503e-14]\n",
      "0 < 6.467012584700997e-10 < 1.2934025169401993e-09 gives beta=0.0. Target 0.01\n",
      "Fresh epsilons: [3.23350629e-10]\n",
      "Chunk 0 laplace scale: [2.00000000e-04 1.29340252e-14]\n",
      "0 < 3.2335062923504983e-10 < 6.467012584700997e-10 gives beta=0.0. Target 0.01\n",
      "Fresh epsilons: [1.61675315e-10]\n",
      "Chunk 0 laplace scale: [2.00000000e-04 6.46701258e-15]\n",
      "0 < 1.6167531461752491e-10 < 3.2335062923504983e-10 gives beta=0.0. Target 0.01\n",
      "Fresh epsilons: [8.08376573e-11]\n",
      "Chunk 0 laplace scale: [2.00000000e-04 3.23350629e-15]\n",
      "0 < 8.083765730876246e-11 < 1.6167531461752491e-10 gives beta=0.0. Target 0.01\n"
     ]
    },
    {
     "data": {
      "text/plain": [
       "(8.083765730876246e-11, array([1.]))"
      ]
     },
     "execution_count": 33,
     "metadata": {},
     "output_type": "execute_result"
    }
   ],
   "source": [
    "\n",
    "existing_epsilons = [np.array([5])]\n",
    "chunk_sizes = [1_000]\n",
    "alpha = 0.01\n",
    "beta = 0.01\n",
    "get_epsilon_vr_monte_carlo(existing_epsilons, chunk_sizes, alpha=alpha, beta=beta, N=1_000_000)"
   ]
  },
  {
   "cell_type": "code",
   "execution_count": 43,
   "metadata": {},
   "outputs": [
    {
     "name": "stdout",
     "output_type": "stream",
     "text": [
      "Sufficient fresh eps for chunk 0: 4472.135954999578\n",
      "Fresh epsilons: [4472.135955]\n",
      "Chunk 0 laplace scale: [5.00000000e-16 2.23606798e-08]\n",
      "Fresh epsilons: [2236.0679775]\n",
      "Chunk 0 laplace scale: [2.00000000e-15 4.47213595e-08]\n",
      "0 < 2236.067977499789 < 4472.135954999578 gives beta=0.0. Target 0.0001\n",
      "Fresh epsilons: [1118.03398875]\n",
      "Chunk 0 laplace scale: [8.00000000e-15 8.94427191e-08]\n",
      "0 < 1118.0339887498944 < 2236.067977499789 gives beta=0.0. Target 0.0001\n",
      "Fresh epsilons: [559.01699437]\n",
      "Chunk 0 laplace scale: [3.20000000e-14 1.78885438e-07]\n",
      "0 < 559.0169943749472 < 1118.0339887498944 gives beta=0.0. Target 0.0001\n",
      "Fresh epsilons: [279.50849719]\n",
      "Chunk 0 laplace scale: [1.28000000e-13 3.57770876e-07]\n",
      "0 < 279.5084971874736 < 559.0169943749472 gives beta=0.0. Target 0.0001\n",
      "Fresh epsilons: [139.75424859]\n",
      "Chunk 0 laplace scale: [5.12000000e-13 7.15541753e-07]\n",
      "0 < 139.7542485937368 < 279.5084971874736 gives beta=0.0. Target 0.0001\n",
      "Fresh epsilons: [69.8771243]\n",
      "Chunk 0 laplace scale: [2.04800000e-12 1.43108351e-06]\n",
      "0 < 69.8771242968684 < 139.7542485937368 gives beta=0.0. Target 0.0001\n",
      "Fresh epsilons: [34.93856215]\n",
      "Chunk 0 laplace scale: [8.19200000e-12 2.86216701e-06]\n",
      "0 < 34.9385621484342 < 69.8771242968684 gives beta=0.0. Target 0.0001\n",
      "Fresh epsilons: [17.46928107]\n",
      "Chunk 0 laplace scale: [3.27680000e-11 5.72433402e-06]\n",
      "0 < 17.4692810742171 < 34.9385621484342 gives beta=0.0. Target 0.0001\n",
      "Fresh epsilons: [8.73464054]\n",
      "Chunk 0 laplace scale: [1.3107200e-10 1.1448668e-05]\n",
      "0 < 8.73464053710855 < 17.4692810742171 gives beta=0.0. Target 0.0001\n",
      "Fresh epsilons: [4.36732027]\n",
      "Chunk 0 laplace scale: [5.24288000e-10 2.28973361e-05]\n",
      "0 < 4.367320268554275 < 8.73464053710855 gives beta=0.0. Target 0.0001\n",
      "Fresh epsilons: [2.18366013]\n",
      "Chunk 0 laplace scale: [2.09715200e-09 4.57946721e-05]\n",
      "0 < 2.1836601342771376 < 4.367320268554275 gives beta=0.0. Target 0.0001\n",
      "Fresh epsilons: [1.09183007]\n",
      "Chunk 0 laplace scale: [8.38860793e-09 9.15893436e-05]\n",
      "0 < 1.0918300671385688 < 2.1836601342771376 gives beta=7e-06. Target 0.0001\n",
      "Fresh epsilons: [0.54591503]\n",
      "Chunk 0 laplace scale: [3.35544309e-08 1.83178683e-04]\n",
      "0 < 0.5459150335692844 < 1.0918300671385688 gives beta=0.002062. Target 0.0001\n",
      "Fresh epsilons: [0.81887255]\n",
      "Chunk 0 laplace scale: [1.49130807e-08 1.22119124e-04]\n",
      "0.5459150335692844 < 0.8188725503539266 < 1.0918300671385688 gives beta=0.000131. Target 0.0001\n",
      "Fresh epsilons: [0.95535131]\n",
      "Chunk 0 laplace scale: [1.09565491e-08 1.04673535e-04]\n",
      "0.8188725503539266 < 0.9553513087462477 < 1.0918300671385688 gives beta=3.5e-05. Target 0.0001\n",
      "Fresh epsilons: [0.88711193]\n",
      "Chunk 0 laplace scale: [1.27070037e-08 1.12725345e-04]\n",
      "0.8188725503539266 < 0.8871119295500871 < 0.9553513087462477 gives beta=5.7e-05. Target 0.0001\n",
      "Fresh epsilons: [0.85299224]\n",
      "Chunk 0 laplace scale: [1.37438952e-08 1.17234359e-04]\n",
      "0.8188725503539266 < 0.8529922399520069 < 0.8871119295500871 gives beta=0.000108. Target 0.0001\n",
      "Fresh epsilons: [0.87005208]\n",
      "Chunk 0 laplace scale: [1.32102030e-08 1.14935646e-04]\n",
      "0.8529922399520069 < 0.870052084751047 < 0.8871119295500871 gives beta=8.9e-05. Target 0.0001\n",
      "Fresh epsilons: [0.86152216]\n",
      "Chunk 0 laplace scale: [1.34730861e-08 1.16073623e-04]\n",
      "0.8529922399520069 < 0.861522162351527 < 0.870052084751047 gives beta=7.9e-05. Target 0.0001\n",
      "Fresh epsilons: [0.8572572]\n",
      "Chunk 0 laplace scale: [1.36074802e-08 1.16651104e-04]\n",
      "0.8529922399520069 < 0.857257201151767 < 0.861522162351527 gives beta=8.6e-05. Target 0.0001\n",
      "Fresh epsilons: [0.85512472]\n",
      "Chunk 0 laplace scale: [1.36754325e-08 1.16942004e-04]\n",
      "0.8529922399520069 < 0.8551247205518869 < 0.857257201151767 gives beta=0.000102. Target 0.0001\n",
      "Fresh epsilons: [0.85619096]\n",
      "Chunk 0 laplace scale: [1.36413929e-08 1.16796373e-04]\n",
      "0.8551247205518869 < 0.856190960851827 < 0.857257201151767 gives beta=0.000101. Target 0.0001\n",
      "Fresh epsilons: [0.85672408]\n",
      "Chunk 0 laplace scale: [1.36244207e-08 1.16723693e-04]\n",
      "0.856190960851827 < 0.856724081001797 < 0.857257201151767 gives beta=8.5e-05. Target 0.0001\n",
      "Fresh epsilons: [0.85645752]\n",
      "Chunk 0 laplace scale: [1.36329028e-08 1.16760022e-04]\n",
      "0.856190960851827 < 0.8564575209268119 < 0.856724081001797 gives beta=9.8e-05. Target 0.0001\n",
      "Sufficient fresh eps for chunk 0: 4472.135954999468\n",
      "Fresh epsilons: [4472.135955]\n",
      "Chunk 0 laplace scale: [5.00000000e-15 2.23606798e-08]\n",
      "Fresh epsilons: [2236.0679775]\n",
      "Chunk 0 laplace scale: [2.00000000e-14 4.47213595e-08]\n",
      "0 < 2236.067977499734 < 4472.135954999468 gives beta=0.0. Target 0.0001\n",
      "Fresh epsilons: [1118.03398875]\n",
      "Chunk 0 laplace scale: [8.00000000e-14 8.94427191e-08]\n",
      "0 < 1118.033988749867 < 2236.067977499734 gives beta=0.0. Target 0.0001\n",
      "Fresh epsilons: [559.01699437]\n",
      "Chunk 0 laplace scale: [3.20000000e-13 1.78885438e-07]\n",
      "0 < 559.0169943749335 < 1118.033988749867 gives beta=0.0. Target 0.0001\n",
      "Fresh epsilons: [279.50849719]\n",
      "Chunk 0 laplace scale: [1.28000000e-12 3.57770876e-07]\n",
      "0 < 279.50849718746673 < 559.0169943749335 gives beta=0.0. Target 0.0001\n",
      "Fresh epsilons: [139.75424859]\n",
      "Chunk 0 laplace scale: [5.12000000e-12 7.15541753e-07]\n",
      "0 < 139.75424859373337 < 279.50849718746673 gives beta=0.0. Target 0.0001\n",
      "Fresh epsilons: [69.8771243]\n",
      "Chunk 0 laplace scale: [2.04800000e-11 1.43108351e-06]\n",
      "0 < 69.87712429686668 < 139.75424859373337 gives beta=0.0. Target 0.0001\n",
      "Fresh epsilons: [34.93856215]\n",
      "Chunk 0 laplace scale: [8.19199999e-11 2.86216701e-06]\n",
      "0 < 34.93856214843334 < 69.87712429686668 gives beta=0.0. Target 0.0001\n",
      "Fresh epsilons: [17.46928107]\n",
      "Chunk 0 laplace scale: [3.27679999e-10 5.72433400e-06]\n",
      "0 < 17.46928107421667 < 34.93856214843334 gives beta=0.0. Target 0.0001\n",
      "Fresh epsilons: [8.73464054]\n",
      "Chunk 0 laplace scale: [1.31071998e-09 1.14486679e-05]\n",
      "0 < 8.734640537108335 < 17.46928107421667 gives beta=0.0. Target 0.0001\n",
      "Fresh epsilons: [4.36732027]\n",
      "Chunk 0 laplace scale: [5.24287973e-09 2.28973349e-05]\n",
      "0 < 4.367320268554168 < 8.734640537108335 gives beta=0.0. Target 0.0001\n",
      "Fresh epsilons: [2.18366013]\n",
      "Chunk 0 laplace scale: [2.09715156e-08 4.57946626e-05]\n",
      "0 < 2.183660134277084 < 4.367320268554168 gives beta=0.0. Target 0.0001\n",
      "Fresh epsilons: [1.09183007]\n",
      "Chunk 0 laplace scale: [8.38860096e-08 9.15892675e-05]\n",
      "0 < 1.091830067138542 < 2.183660134277084 gives beta=5e-06. Target 0.0001\n",
      "Fresh epsilons: [0.54591503]\n",
      "Chunk 0 laplace scale: [3.35543194e-07 1.83178074e-04]\n",
      "0 < 0.545915033569271 < 1.091830067138542 gives beta=0.002105. Target 0.0001\n",
      "Fresh epsilons: [0.81887255]\n",
      "Chunk 0 laplace scale: [1.49130586e-07 1.22118944e-04]\n",
      "0.545915033569271 < 0.8188725503539065 < 1.091830067138542 gives beta=0.000146. Target 0.0001\n",
      "Fresh epsilons: [0.95535131]\n",
      "Chunk 0 laplace scale: [1.09565372e-07 1.04673422e-04]\n",
      "0.8188725503539065 < 0.9553513087462242 < 1.091830067138542 gives beta=4.9e-05. Target 0.0001\n",
      "Fresh epsilons: [0.88711193]\n",
      "Chunk 0 laplace scale: [1.27069877e-07 1.12725204e-04]\n",
      "0.8188725503539065 < 0.8871119295500653 < 0.9553513087462242 gives beta=6.6e-05. Target 0.0001\n",
      "Fresh epsilons: [0.85299224]\n",
      "Chunk 0 laplace scale: [1.37438765e-07 1.17234200e-04]\n",
      "0.8188725503539065 < 0.8529922399519859 < 0.8871119295500653 gives beta=0.0001. Target 0.0001\n",
      "Fresh epsilons: [0.87005208]\n",
      "Chunk 0 laplace scale: [1.32101857e-07 1.14935496e-04]\n",
      "0.8529922399519859 < 0.8700520847510256 < 0.8871119295500653 gives beta=8e-05. Target 0.0001\n",
      "Fresh epsilons: [0.86152216]\n",
      "Chunk 0 laplace scale: [1.34730682e-07 1.16073468e-04]\n",
      "0.8529922399519859 < 0.8615221623515057 < 0.8700520847510256 gives beta=9.2e-05. Target 0.0001\n",
      "Sufficient fresh eps for chunk 0: 4472.135954988399\n",
      "Fresh epsilons: [4472.13595499]\n",
      "Chunk 0 laplace scale: [5.00000000e-14 2.23606798e-08]\n",
      "Fresh epsilons: [2236.06797749]\n",
      "Chunk 0 laplace scale: [2.00000000e-13 4.47213595e-08]\n",
      "0 < 2236.0679774941996 < 4472.135954988399 gives beta=0.0. Target 0.0001\n",
      "Fresh epsilons: [1118.03398875]\n",
      "Chunk 0 laplace scale: [8.00000000e-13 8.94427191e-08]\n",
      "0 < 1118.0339887470998 < 2236.0679774941996 gives beta=0.0. Target 0.0001\n",
      "Fresh epsilons: [559.01699437]\n",
      "Chunk 0 laplace scale: [3.20000000e-12 1.78885438e-07]\n",
      "0 < 559.0169943735499 < 1118.0339887470998 gives beta=0.0. Target 0.0001\n",
      "Fresh epsilons: [279.50849719]\n",
      "Chunk 0 laplace scale: [1.28000000e-11 3.57770876e-07]\n",
      "0 < 279.50849718677495 < 559.0169943735499 gives beta=0.0. Target 0.0001\n",
      "Fresh epsilons: [139.75424859]\n",
      "Chunk 0 laplace scale: [5.11999997e-11 7.15541749e-07]\n",
      "0 < 139.75424859338747 < 279.50849718677495 gives beta=0.0. Target 0.0001\n",
      "Fresh epsilons: [69.8771243]\n",
      "Chunk 0 laplace scale: [2.04799996e-10 1.43108348e-06]\n",
      "0 < 69.87712429669374 < 139.75424859338747 gives beta=0.0. Target 0.0001\n",
      "Fresh epsilons: [34.93856215]\n",
      "Chunk 0 laplace scale: [8.19199933e-10 2.86216678e-06]\n",
      "0 < 34.93856214834687 < 69.87712429669374 gives beta=0.0. Target 0.0001\n",
      "Fresh epsilons: [17.46928107]\n",
      "Chunk 0 laplace scale: [3.27679893e-09 5.72433215e-06]\n",
      "0 < 17.469281074173434 < 34.93856214834687 gives beta=0.0. Target 0.0001\n",
      "Fresh epsilons: [8.73464054]\n",
      "Chunk 0 laplace scale: [1.31071828e-08 1.14486530e-05]\n",
      "0 < 8.734640537086717 < 17.469281074173434 gives beta=0.0. Target 0.0001\n",
      "Fresh epsilons: [4.36732027]\n",
      "Chunk 0 laplace scale: [5.24285251e-08 2.28972160e-05]\n",
      "0 < 4.3673202685433585 < 8.734640537086717 gives beta=0.0. Target 0.0001\n",
      "Fresh epsilons: [2.18366013]\n",
      "Chunk 0 laplace scale: [2.09710802e-07 4.57937118e-05]\n",
      "0 < 2.1836601342716793 < 4.3673202685433585 gives beta=0.0. Target 0.0001\n",
      "Fresh epsilons: [1.09183007]\n",
      "Chunk 0 laplace scale: [8.38790437e-07 9.15816619e-05]\n",
      "0 < 1.0918300671358396 < 2.1836601342716793 gives beta=1e-05. Target 0.0001\n",
      "Fresh epsilons: [0.54591503]\n",
      "Chunk 0 laplace scale: [3.35431768e-06 1.83117245e-04]\n",
      "0 < 0.5459150335679198 < 1.0918300671358396 gives beta=0.002103. Target 0.0001\n",
      "Fresh epsilons: [0.81887255]\n",
      "Chunk 0 laplace scale: [1.49108572e-06 1.22100917e-04]\n",
      "0.5459150335679198 < 0.8188725503518797 < 1.0918300671358396 gives beta=0.000127. Target 0.0001\n",
      "Fresh epsilons: [0.95535131]\n",
      "Chunk 0 laplace scale: [1.09553489e-06 1.04662069e-04]\n",
      "0.8188725503518797 < 0.9553513087438597 < 1.0918300671358396 gives beta=3.4e-05. Target 0.0001\n",
      "Fresh epsilons: [0.88711193]\n",
      "Chunk 0 laplace scale: [1.27053894e-06 1.12711025e-04]\n",
      "0.8188725503518797 < 0.8871119295478697 < 0.9553513087438597 gives beta=6.9e-05. Target 0.0001\n",
      "Fresh epsilons: [0.85299224]\n",
      "Chunk 0 laplace scale: [1.37420067e-06 1.17218250e-04]\n",
      "0.8188725503518797 < 0.8529922399498746 < 0.8871119295478697 gives beta=9.5e-05. Target 0.0001\n",
      "Sufficient fresh eps for chunk 0: 4472.135953881545\n",
      "Fresh epsilons: [4472.13595388]\n",
      "Chunk 0 laplace scale: [5.00000000e-13 2.23606798e-08]\n",
      "Fresh epsilons: [2236.06797694]\n",
      "Chunk 0 laplace scale: [2.00000000e-12 4.47213595e-08]\n",
      "0 < 2236.0679769407725 < 4472.135953881545 gives beta=0.0. Target 0.0001\n",
      "Fresh epsilons: [1118.03398847]\n",
      "Chunk 0 laplace scale: [7.99999994e-12 8.94427184e-08]\n",
      "0 < 1118.0339884703862 < 2236.0679769407725 gives beta=0.0. Target 0.0001\n",
      "Fresh epsilons: [559.01699424]\n",
      "Chunk 0 laplace scale: [3.19999990e-11 1.78885433e-07]\n",
      "0 < 559.0169942351931 < 1118.0339884703862 gives beta=0.0. Target 0.0001\n",
      "Fresh epsilons: [279.50849712]\n",
      "Chunk 0 laplace scale: [1.27999984e-10 3.57770831e-07]\n",
      "0 < 279.50849711759656 < 559.0169942351931 gives beta=0.0. Target 0.0001\n",
      "Fresh epsilons: [139.75424856]\n",
      "Chunk 0 laplace scale: [5.11999738e-10 7.15541387e-07]\n",
      "0 < 139.75424855879828 < 279.50849711759656 gives beta=0.0. Target 0.0001\n",
      "Fresh epsilons: [69.87712428]\n",
      "Chunk 0 laplace scale: [2.04799581e-09 1.43108058e-06]\n",
      "0 < 69.87712427939914 < 139.75424855879828 gives beta=0.0. Target 0.0001\n",
      "Fresh epsilons: [34.93856214]\n",
      "Chunk 0 laplace scale: [8.19193290e-09 2.86214357e-06]\n",
      "0 < 34.93856213969957 < 69.87712427939914 gives beta=0.0. Target 0.0001\n",
      "Fresh epsilons: [17.46928107]\n",
      "Chunk 0 laplace scale: [3.27669263e-08 5.72414645e-06]\n",
      "0 < 17.469281069849785 < 34.93856213969957 gives beta=0.0. Target 0.0001\n",
      "Fresh epsilons: [8.73464053]\n",
      "Chunk 0 laplace scale: [1.31054822e-07 1.14471676e-05]\n",
      "0 < 8.734640534924893 < 17.469281069849785 gives beta=0.0. Target 0.0001\n",
      "Fresh epsilons: [4.36732027]\n",
      "Chunk 0 laplace scale: [5.24013266e-07 2.28853376e-05]\n",
      "0 < 4.367320267462446 < 8.734640534924893 gives beta=0.0. Target 0.0001\n",
      "Fresh epsilons: [2.18366013]\n",
      "Chunk 0 laplace scale: [2.09276316e-06 4.56988348e-05]\n",
      "0 < 2.183660133731223 < 4.367320267462446 gives beta=0.0. Target 0.0001\n",
      "Fresh epsilons: [1.09183007]\n",
      "Chunk 0 laplace scale: [8.31882465e-06 9.08274287e-05]\n",
      "0 < 1.0918300668656116 < 2.183660133731223 gives beta=1.1e-05. Target 0.0001\n",
      "Fresh epsilons: [0.54591503]\n",
      "Chunk 0 laplace scale: [3.24650845e-05 1.77231777e-04]\n",
      "0 < 0.5459150334328058 < 1.0918300668656116 gives beta=0.001781. Target 0.0001\n",
      "Fresh epsilons: [0.81887255]\n",
      "Chunk 0 laplace scale: [1.46939488e-05 1.20324714e-04]\n",
      "0.5459150334328058 < 0.8188725501492087 < 1.0918300668656116 gives beta=0.000118. Target 0.0001\n",
      "Fresh epsilons: [0.95535131]\n",
      "Chunk 0 laplace scale: [1.08378043e-05 1.03539105e-04]\n",
      "0.8188725501492087 < 0.9553513085074101 < 1.0918300668656116 gives beta=4.3e-05. Target 0.0001\n",
      "Fresh epsilons: [0.88711193]\n",
      "Chunk 0 laplace scale: [1.25475619e-05 1.11310919e-04]\n",
      "0.8188725501492087 < 0.8871119293283094 < 0.9553513085074101 gives beta=6.4e-05. Target 0.0001\n",
      "Fresh epsilons: [0.85299224]\n",
      "Chunk 0 laplace scale: [1.35575616e-05 1.15644949e-04]\n",
      "0.8188725501492087 < 0.852992239738759 < 0.8871119293283094 gives beta=9.5e-05. Target 0.0001\n",
      "Sufficient fresh eps for chunk 0: 4472.135927048729\n",
      "Fresh epsilons: [4472.13592705]\n",
      "Chunk 0 laplace scale: [2.50000000e-12 2.23606796e-08]\n",
      "Fresh epsilons: [2236.06796352]\n",
      "Chunk 0 laplace scale: [9.99999963e-12 4.47213576e-08]\n",
      "0 < 2236.0679635243646 < 4472.135927048729 gives beta=0.0. Target 0.0001\n",
      "Fresh epsilons: [1118.03398176]\n",
      "Chunk 0 laplace scale: [3.99999925e-11 8.94427018e-08]\n",
      "0 < 1118.0339817621823 < 2236.0679635243646 gives beta=0.0. Target 0.0001\n",
      "Fresh epsilons: [559.01699088]\n",
      "Chunk 0 laplace scale: [1.59999874e-10 1.78885296e-07]\n",
      "0 < 559.0169908810911 < 1118.0339817621823 gives beta=0.0. Target 0.0001\n",
      "Fresh epsilons: [279.50849544]\n",
      "Chunk 0 laplace scale: [6.39997960e-10 3.57769734e-07]\n",
      "0 < 279.5084954405456 < 559.0169908810911 gives beta=0.0. Target 0.0001\n",
      "Fresh epsilons: [139.75424772]\n",
      "Chunk 0 laplace scale: [2.55996726e-09 7.15532598e-07]\n",
      "0 < 139.7542477202728 < 279.5084954405456 gives beta=0.0. Target 0.0001\n",
      "Fresh epsilons: [69.87712386]\n",
      "Chunk 0 laplace scale: [1.02394759e-08 1.43101025e-06]\n",
      "0 < 69.8771238601364 < 139.7542477202728 gives beta=0.0. Target 0.0001\n",
      "Fresh epsilons: [34.93856193]\n",
      "Chunk 0 laplace scale: [4.09516136e-08 2.86158098e-06]\n",
      "0 < 34.9385619300682 < 69.8771238601364 gives beta=0.0. Target 0.0001\n",
      "Fresh epsilons: [17.46928097]\n",
      "Chunk 0 laplace scale: [1.63705894e-07 5.71964852e-06]\n",
      "0 < 17.4692809650341 < 34.9385619300682 gives beta=0.0. Target 0.0001\n",
      "Fresh epsilons: [8.73464048]\n",
      "Chunk 0 laplace scale: [6.53219538e-07 1.14112756e-05]\n",
      "0 < 8.73464048251705 < 17.4692809650341 gives beta=0.0. Target 0.0001\n",
      "Fresh epsilons: [4.36732024]\n",
      "Chunk 0 laplace scale: [2.58752483e-06 2.26010991e-05]\n",
      "0 < 4.367320241258525 < 8.73464048251705 gives beta=0.0. Target 0.0001\n",
      "Fresh epsilons: [2.18366012]\n",
      "Chunk 0 laplace scale: [9.96339147e-06 4.35133212e-05]\n",
      "0 < 2.1836601206292623 < 4.367320241258525 gives beta=0.0. Target 0.0001\n",
      "Fresh epsilons: [1.09183006]\n",
      "Chunk 0 laplace scale: [3.46718306e-05 7.57114937e-05]\n",
      "0 < 1.0918300603146311 < 2.1836601206292623 gives beta=2e-06. Target 0.0001\n",
      "Fresh epsilons: [0.54591503]\n",
      "Chunk 0 laplace scale: [9.12370100e-05 9.96153101e-05]\n",
      "0 < 0.5459150301573156 < 1.0918300603146311 gives beta=9.8e-05. Target 0.0001\n",
      "Sufficient fresh eps for chunk 0: 4472.135843196179\n",
      "Fresh epsilons: [4472.1358432]\n",
      "Chunk 0 laplace scale: [5.00000000e-12 2.23606792e-08]\n",
      "Fresh epsilons: [2236.0679216]\n",
      "Chunk 0 laplace scale: [1.99999970e-11 4.47213517e-08]\n",
      "0 < 2236.0679215980895 < 4472.135843196179 gives beta=0.0. Target 0.0001\n",
      "Fresh epsilons: [1118.0339608]\n",
      "Chunk 0 laplace scale: [7.99999400e-11 8.94426498e-08]\n",
      "0 < 1118.0339607990447 < 2236.0679215980895 gives beta=0.0. Target 0.0001\n",
      "Fresh epsilons: [559.0169804]\n",
      "Chunk 0 laplace scale: [3.19998992e-10 1.78884870e-07]\n",
      "0 < 559.0169803995224 < 1118.0339607990447 gives beta=0.0. Target 0.0001\n",
      "Fresh epsilons: [279.5084902]\n",
      "Chunk 0 laplace scale: [1.27998368e-09 3.57766306e-07]\n",
      "0 < 279.5084901997612 < 559.0169803995224 gives beta=0.0. Target 0.0001\n",
      "Fresh epsilons: [139.7542451]\n",
      "Chunk 0 laplace scale: [5.11973813e-09 7.15505137e-07]\n",
      "0 < 139.7542450998806 < 279.5084901997612 gives beta=0.0. Target 0.0001\n",
      "Fresh epsilons: [69.87712255]\n",
      "Chunk 0 laplace scale: [2.04758076e-08 1.43079052e-06]\n",
      "0 < 69.8771225499403 < 139.7542450998806 gives beta=0.0. Target 0.0001\n",
      "Fresh epsilons: [34.93856127]\n",
      "Chunk 0 laplace scale: [8.18529502e-08 2.85982431e-06]\n",
      "0 < 34.93856127497015 < 69.8771225499403 gives beta=0.0. Target 0.0001\n",
      "Fresh epsilons: [17.46928064]\n",
      "Chunk 0 laplace scale: [3.26609781e-07 5.70563793e-06]\n",
      "0 < 17.469280637485074 < 34.93856127497015 gives beta=0.0. Target 0.0001\n",
      "Fresh epsilons: [8.73464032]\n",
      "Chunk 0 laplace scale: [1.29376246e-06 1.13005498e-05]\n",
      "0 < 8.734640318742537 < 17.469280637485074 gives beta=0.0. Target 0.0001\n",
      "Fresh epsilons: [4.36732016]\n",
      "Chunk 0 laplace scale: [4.98169591e-06 2.17566610e-05]\n",
      "0 < 4.3673201593712685 < 8.734640318742537 gives beta=0.0. Target 0.0001\n",
      "Fresh epsilons: [2.18366008]\n",
      "Chunk 0 laplace scale: [1.73359158e-05 3.78557473e-05]\n",
      "0 < 2.1836600796856342 < 4.3673201593712685 gives beta=0.0. Target 0.0001\n",
      "Fresh epsilons: [1.09183004]\n",
      "Chunk 0 laplace scale: [4.56185059e-05 4.98076551e-05]\n",
      "0 < 1.0918300398428171 < 2.1836600796856342 gives beta=0.0. Target 0.0001\n",
      "Fresh epsilons: [0.54591502]\n",
      "Chunk 0 laplace scale: [7.70402249e-05 4.20574159e-05]\n",
      "0 < 0.5459150199214086 < 1.0918300398428171 gives beta=2e-06. Target 0.0001\n",
      "Fresh epsilons: [0.27295751]\n",
      "Chunk 0 laplace scale: [9.30660400e-05 2.54030745e-05]\n",
      "0 < 0.2729575099607043 < 0.5459150199214086 gives beta=2e-05. Target 0.0001\n",
      "Fresh epsilons: [0.13647875]\n",
      "Chunk 0 laplace scale: [9.81714150e-05 1.33983125e-05]\n",
      "0 < 0.13647875498035214 < 0.2729575099607043 gives beta=2.3e-05. Target 0.0001\n",
      "Fresh epsilons: [0.06823938]\n",
      "Chunk 0 laplace scale: [9.95364971e-05 6.79230860e-06]\n",
      "0 < 0.06823937749017607 < 0.13647875498035214 gives beta=1.9e-05. Target 0.0001\n",
      "Fresh epsilons: [0.03411969]\n",
      "Chunk 0 laplace scale: [9.98837201e-05 3.40800144e-06]\n",
      "0 < 0.034119688745088035 < 0.06823937749017607 gives beta=1.5e-05. Target 0.0001\n",
      "Fresh epsilons: [0.01705984]\n",
      "Chunk 0 laplace scale: [9.99709046e-05 1.70548807e-06]\n",
      "0 < 0.017059844372544018 < 0.034119688745088035 gives beta=2.3e-05. Target 0.0001\n",
      "Fresh epsilons: [0.00852992]\n",
      "Chunk 0 laplace scale: [9.99927246e-05 8.52930160e-07]\n",
      "0 < 0.008529922186272009 < 0.017059844372544018 gives beta=2.5e-05. Target 0.0001\n",
      "Fresh epsilons: [0.00426496]\n",
      "Chunk 0 laplace scale: [9.99981810e-05 4.26488352e-07]\n",
      "0 < 0.004264961093136004 < 0.008529922186272009 gives beta=1.8e-05. Target 0.0001\n",
      "Fresh epsilons: [0.00213248]\n",
      "Chunk 0 laplace scale: [9.99995453e-05 2.13247085e-07]\n",
      "0 < 0.002132480546568002 < 0.004264961093136004 gives beta=2.1e-05. Target 0.0001\n",
      "Fresh epsilons: [0.00106624]\n",
      "Chunk 0 laplace scale: [9.99998863e-05 1.06623906e-07]\n",
      "0 < 0.001066240273284001 < 0.002132480546568002 gives beta=2.4e-05. Target 0.0001\n",
      "Fresh epsilons: [0.00053312]\n",
      "Chunk 0 laplace scale: [9.99999716e-05 5.33119985e-08]\n",
      "0 < 0.0005331201366420005 < 0.001066240273284001 gives beta=2.3e-05. Target 0.0001\n",
      "Fresh epsilons: [0.00026656]\n",
      "Chunk 0 laplace scale: [9.99999929e-05 2.66560049e-08]\n",
      "0 < 0.0002665600683210003 < 0.0005331201366420005 gives beta=1.8e-05. Target 0.0001\n",
      "Fresh epsilons: [0.00013328]\n",
      "Chunk 0 laplace scale: [9.99999982e-05 1.33280032e-08]\n",
      "0 < 0.00013328003416050014 < 0.0002665600683210003 gives beta=2.1e-05. Target 0.0001\n",
      "Fresh epsilons: [6.66400171e-05]\n",
      "Chunk 0 laplace scale: [9.99999996e-05 6.66400168e-09]\n",
      "0 < 6.664001708025007e-05 < 0.00013328003416050014 gives beta=1.6e-05. Target 0.0001\n",
      "Fresh epsilons: [3.33200085e-05]\n",
      "Chunk 0 laplace scale: [9.99999999e-05 3.33200085e-09]\n",
      "0 < 3.3320008540125034e-05 < 6.664001708025007e-05 gives beta=2e-05. Target 0.0001\n",
      "Fresh epsilons: [1.66600043e-05]\n",
      "Chunk 0 laplace scale: [1.00000000e-04 1.66600043e-09]\n",
      "0 < 1.6660004270062517e-05 < 3.3320008540125034e-05 gives beta=2.2e-05. Target 0.0001\n",
      "Fresh epsilons: [8.33000214e-06]\n",
      "Chunk 0 laplace scale: [1.00000000e-04 8.33000213e-10]\n",
      "0 < 8.330002135031259e-06 < 1.6660004270062517e-05 gives beta=1.9e-05. Target 0.0001\n",
      "Fresh epsilons: [4.16500107e-06]\n",
      "Chunk 0 laplace scale: [1.00000000e-04 4.16500107e-10]\n",
      "0 < 4.165001067515629e-06 < 8.330002135031259e-06 gives beta=1.5e-05. Target 0.0001\n",
      "Fresh epsilons: [2.08250053e-06]\n",
      "Chunk 0 laplace scale: [1.00000000e-04 2.08250053e-10]\n",
      "0 < 2.0825005337578146e-06 < 4.165001067515629e-06 gives beta=3.4e-05. Target 0.0001\n",
      "Fresh epsilons: [1.04125027e-06]\n",
      "Chunk 0 laplace scale: [1.00000000e-04 1.04125027e-10]\n",
      "0 < 1.0412502668789073e-06 < 2.0825005337578146e-06 gives beta=2.3e-05. Target 0.0001\n",
      "Fresh epsilons: [5.20625133e-07]\n",
      "Chunk 0 laplace scale: [1.00000000e-04 5.20625133e-11]\n",
      "0 < 5.206251334394537e-07 < 1.0412502668789073e-06 gives beta=2.3e-05. Target 0.0001\n",
      "Fresh epsilons: [2.60312567e-07]\n",
      "Chunk 0 laplace scale: [1.00000000e-04 2.60312567e-11]\n",
      "0 < 2.6031256671972683e-07 < 5.206251334394537e-07 gives beta=2.3e-05. Target 0.0001\n",
      "Fresh epsilons: [1.30156283e-07]\n",
      "Chunk 0 laplace scale: [1.00000000e-04 1.30156283e-11]\n",
      "0 < 1.3015628335986342e-07 < 2.6031256671972683e-07 gives beta=2.6e-05. Target 0.0001\n",
      "Fresh epsilons: [6.50781417e-08]\n",
      "Chunk 0 laplace scale: [1.00000000e-04 6.50781417e-12]\n",
      "0 < 6.507814167993171e-08 < 1.3015628335986342e-07 gives beta=2.3e-05. Target 0.0001\n",
      "Fresh epsilons: [3.25390708e-08]\n",
      "Chunk 0 laplace scale: [1.00000000e-04 3.25390708e-12]\n",
      "0 < 3.2539070839965854e-08 < 6.507814167993171e-08 gives beta=2.5e-05. Target 0.0001\n",
      "Fresh epsilons: [1.62695354e-08]\n",
      "Chunk 0 laplace scale: [1.00000000e-04 1.62695354e-12]\n",
      "0 < 1.6269535419982927e-08 < 3.2539070839965854e-08 gives beta=2e-05. Target 0.0001\n",
      "Fresh epsilons: [8.13476771e-09]\n",
      "Chunk 0 laplace scale: [1.00000000e-04 8.13476771e-13]\n",
      "0 < 8.134767709991463e-09 < 1.6269535419982927e-08 gives beta=1.7e-05. Target 0.0001\n",
      "Fresh epsilons: [4.06738385e-09]\n",
      "Chunk 0 laplace scale: [1.00000000e-04 4.06738385e-13]\n",
      "0 < 4.067383854995732e-09 < 8.134767709991463e-09 gives beta=3.1e-05. Target 0.0001\n",
      "Fresh epsilons: [2.03369193e-09]\n",
      "Chunk 0 laplace scale: [1.00000000e-04 2.03369193e-13]\n",
      "0 < 2.033691927497866e-09 < 4.067383854995732e-09 gives beta=2.2e-05. Target 0.0001\n",
      "Fresh epsilons: [1.01684596e-09]\n",
      "Chunk 0 laplace scale: [1.00000000e-04 1.01684596e-13]\n",
      "0 < 1.016845963748933e-09 < 2.033691927497866e-09 gives beta=3e-05. Target 0.0001\n",
      "Fresh epsilons: [5.08422982e-10]\n",
      "Chunk 0 laplace scale: [1.00000000e-04 5.08422982e-14]\n",
      "0 < 5.084229818744665e-10 < 1.016845963748933e-09 gives beta=2.3e-05. Target 0.0001\n",
      "Fresh epsilons: [2.54211491e-10]\n",
      "Chunk 0 laplace scale: [1.00000000e-04 2.54211491e-14]\n",
      "0 < 2.5421149093723323e-10 < 5.084229818744665e-10 gives beta=3.2e-05. Target 0.0001\n",
      "Fresh epsilons: [1.27105745e-10]\n",
      "Chunk 0 laplace scale: [1.00000000e-04 1.27105745e-14]\n",
      "0 < 1.2710574546861662e-10 < 2.5421149093723323e-10 gives beta=1.9e-05. Target 0.0001\n",
      "Fresh epsilons: [6.35528727e-11]\n",
      "Chunk 0 laplace scale: [1.00000000e-04 6.35528727e-15]\n",
      "0 < 6.355287273430831e-11 < 1.2710574546861662e-10 gives beta=1.4e-05. Target 0.0001\n",
      "Sufficient fresh eps for chunk 0: 4472.124774645717\n",
      "Fresh epsilons: [4472.12477465]\n",
      "Chunk 0 laplace scale: [5.00000000e-11 2.23606239e-08]\n",
      "Fresh epsilons: [2236.06238732]\n",
      "Chunk 0 laplace scale: [1.99997000e-10 4.47205769e-08]\n",
      "0 < 2236.0623873228583 < 4472.124774645717 gives beta=0.0. Target 0.0001\n",
      "Fresh epsilons: [1118.03119366]\n",
      "Chunk 0 laplace scale: [7.99940004e-10 8.94357878e-08]\n",
      "0 < 1118.0311936614291 < 2236.0623873228583 gives beta=0.0. Target 0.0001\n",
      "Fresh epsilons: [559.01559683]\n",
      "Chunk 0 laplace scale: [3.19899232e-09 1.78828660e-07]\n",
      "0 < 559.0155968307146 < 1118.0311936614291 gives beta=0.0. Target 0.0001\n",
      "Fresh epsilons: [279.50779842]\n",
      "Chunk 0 laplace scale: [1.27837008e-08 3.57314406e-07]\n",
      "0 < 279.5077984153573 < 559.0155968307146 gives beta=0.0. Target 0.0001\n",
      "Fresh epsilons: [139.75389921]\n",
      "Chunk 0 laplace scale: [5.09394447e-08 7.11898603e-07]\n",
      "0 < 139.75389920767864 < 279.5077984153573 gives beta=0.0. Target 0.0001\n",
      "Fresh epsilons: [69.8769496]\n",
      "Chunk 0 laplace scale: [2.00690855e-07 1.40236647e-06]\n",
      "0 < 69.87694960383932 < 139.75389920767864 gives beta=0.0. Target 0.0001\n",
      "Fresh epsilons: [34.9384748]\n",
      "Chunk 0 laplace scale: [7.57175933e-07 2.64545723e-06]\n",
      "0 < 34.93847480191966 < 69.87694960383932 gives beta=0.0. Target 0.0001\n",
      "Fresh epsilons: [17.4692374]\n",
      "Chunk 0 laplace scale: [2.46807389e-06 4.31153687e-06]\n",
      "0 < 17.46923740095983 < 34.93847480191966 gives beta=0.0. Target 0.0001\n",
      "Fresh epsilons: [8.7346187]\n",
      "Chunk 0 laplace scale: [5.67235682e-06 4.95458740e-06]\n",
      "0 < 8.734618700479915 < 17.46923740095983 gives beta=0.0. Target 0.0001\n",
      "Fresh epsilons: [4.36730935]\n",
      "Chunk 0 laplace scale: [8.39818193e-06 3.66774585e-06]\n",
      "0 < 4.367309350239958 < 8.734618700479915 gives beta=0.0. Target 0.0001\n",
      "Fresh epsilons: [2.18365468]\n",
      "Chunk 0 laplace scale: [9.54486753e-06 2.08426946e-06]\n",
      "0 < 2.183654675119979 < 4.367309350239958 gives beta=0.0. Target 0.0001\n",
      "Fresh epsilons: [1.09182734]\n",
      "Chunk 0 laplace scale: [9.88219564e-06 1.07896514e-06]\n",
      "0 < 1.0918273375599894 < 2.183654675119979 gives beta=0.0. Target 0.0001\n",
      "Fresh epsilons: [0.54591367]\n",
      "Chunk 0 laplace scale: [9.97028638e-06 5.44291562e-07]\n",
      "0 < 0.5459136687799947 < 1.0918273375599894 gives beta=0.0. Target 0.0001\n",
      "Fresh epsilons: [0.27295683]\n",
      "Chunk 0 laplace scale: [9.99255500e-06 2.72753618e-07]\n",
      "0 < 0.27295683438999735 < 0.5459136687799947 gives beta=0.0. Target 0.0001\n",
      "Fresh epsilons: [0.13647842]\n",
      "Chunk 0 laplace scale: [9.99813771e-06 1.36453001e-07]\n",
      "0 < 0.13647841719499867 < 0.27295683438999735 gives beta=0.0. Target 0.0001\n",
      "Fresh epsilons: [0.06823921]\n",
      "Chunk 0 laplace scale: [9.99953436e-06 6.82360311e-08]\n",
      "0 < 0.06823920859749934 < 0.13647841719499867 gives beta=0.0. Target 0.0001\n",
      "Fresh epsilons: [0.0341196]\n",
      "Chunk 0 laplace scale: [9.99988359e-06 3.41192071e-08]\n",
      "0 < 0.03411960429874967 < 0.06823920859749934 gives beta=0.0. Target 0.0001\n",
      "Fresh epsilons: [0.0170598]\n",
      "Chunk 0 laplace scale: [9.99997090e-06 1.70597525e-08]\n",
      "0 < 0.017059802149374834 < 0.03411960429874967 gives beta=0.0. Target 0.0001\n",
      "Fresh epsilons: [0.0085299]\n",
      "Chunk 0 laplace scale: [9.99999272e-06 8.52989487e-09]\n",
      "0 < 0.008529901074687417 < 0.017059802149374834 gives beta=0.0. Target 0.0001\n",
      "Fresh epsilons: [0.00426495]\n",
      "Chunk 0 laplace scale: [9.99999818e-06 4.26494976e-09]\n",
      "0 < 0.004264950537343709 < 0.008529901074687417 gives beta=0.0. Target 0.0001\n",
      "Fresh epsilons: [0.00213248]\n",
      "Chunk 0 laplace scale: [9.99999955e-06 2.13247517e-09]\n",
      "0 < 0.0021324752686718543 < 0.004264950537343709 gives beta=0.0. Target 0.0001\n",
      "Fresh epsilons: [0.00106624]\n",
      "Chunk 0 laplace scale: [9.99999989e-06 1.06623762e-09]\n",
      "0 < 0.0010662376343359271 < 0.0021324752686718543 gives beta=0.0. Target 0.0001\n",
      "Fresh epsilons: [0.00053312]\n",
      "Chunk 0 laplace scale: [9.99999997e-06 5.33118816e-10]\n",
      "0 < 0.0005331188171679636 < 0.0010662376343359271 gives beta=0.0. Target 0.0001\n",
      "Fresh epsilons: [0.00026656]\n",
      "Chunk 0 laplace scale: [9.99999999e-06 2.66559408e-10]\n",
      "0 < 0.0002665594085839818 < 0.0005331188171679636 gives beta=0.0. Target 0.0001\n",
      "Fresh epsilons: [0.00013328]\n",
      "Chunk 0 laplace scale: [1.00000000e-05 1.33279704e-10]\n",
      "0 < 0.0001332797042919909 < 0.0002665594085839818 gives beta=0.0. Target 0.0001\n",
      "Fresh epsilons: [6.66398521e-05]\n",
      "Chunk 0 laplace scale: [1.00000000e-05 6.66398521e-11]\n",
      "0 < 6.663985214599545e-05 < 0.0001332797042919909 gives beta=0.0. Target 0.0001\n",
      "Fresh epsilons: [3.33199261e-05]\n",
      "Chunk 0 laplace scale: [1.00000000e-05 3.33199261e-11]\n",
      "0 < 3.331992607299772e-05 < 6.663985214599545e-05 gives beta=0.0. Target 0.0001\n",
      "Fresh epsilons: [1.6659963e-05]\n",
      "Chunk 0 laplace scale: [1.0000000e-05 1.6659963e-11]\n",
      "0 < 1.665996303649886e-05 < 3.331992607299772e-05 gives beta=0.0. Target 0.0001\n",
      "Fresh epsilons: [8.32998152e-06]\n",
      "Chunk 0 laplace scale: [1.00000000e-05 8.32998152e-12]\n",
      "0 < 8.32998151824943e-06 < 1.665996303649886e-05 gives beta=0.0. Target 0.0001\n",
      "Fresh epsilons: [4.16499076e-06]\n",
      "Chunk 0 laplace scale: [1.00000000e-05 4.16499076e-12]\n",
      "0 < 4.164990759124715e-06 < 8.32998151824943e-06 gives beta=0.0. Target 0.0001\n",
      "Fresh epsilons: [2.08249538e-06]\n",
      "Chunk 0 laplace scale: [1.00000000e-05 2.08249538e-12]\n",
      "0 < 2.0824953795623577e-06 < 4.164990759124715e-06 gives beta=0.0. Target 0.0001\n",
      "Fresh epsilons: [1.04124769e-06]\n",
      "Chunk 0 laplace scale: [1.00000000e-05 1.04124769e-12]\n",
      "0 < 1.0412476897811789e-06 < 2.0824953795623577e-06 gives beta=0.0. Target 0.0001\n",
      "Fresh epsilons: [5.20623845e-07]\n",
      "Chunk 0 laplace scale: [1.00000000e-05 5.20623845e-13]\n",
      "0 < 5.206238448905894e-07 < 1.0412476897811789e-06 gives beta=0.0. Target 0.0001\n",
      "Fresh epsilons: [2.60311922e-07]\n",
      "Chunk 0 laplace scale: [1.00000000e-05 2.60311922e-13]\n",
      "0 < 2.603119224452947e-07 < 5.206238448905894e-07 gives beta=0.0. Target 0.0001\n",
      "Fresh epsilons: [1.30155961e-07]\n",
      "Chunk 0 laplace scale: [1.00000000e-05 1.30155961e-13]\n",
      "0 < 1.3015596122264736e-07 < 2.603119224452947e-07 gives beta=0.0. Target 0.0001\n",
      "Fresh epsilons: [6.50779806e-08]\n",
      "Chunk 0 laplace scale: [1.00000000e-05 6.50779806e-14]\n",
      "0 < 6.507798061132368e-08 < 1.3015596122264736e-07 gives beta=0.0. Target 0.0001\n",
      "Fresh epsilons: [3.25389903e-08]\n",
      "Chunk 0 laplace scale: [1.00000000e-05 3.25389903e-14]\n",
      "0 < 3.253899030566184e-08 < 6.507798061132368e-08 gives beta=0.0. Target 0.0001\n",
      "Fresh epsilons: [1.62694952e-08]\n",
      "Chunk 0 laplace scale: [1.00000000e-05 1.62694952e-14]\n",
      "0 < 1.626949515283092e-08 < 3.253899030566184e-08 gives beta=0.0. Target 0.0001\n",
      "Fresh epsilons: [8.13474758e-09]\n",
      "Chunk 0 laplace scale: [1.00000000e-05 8.13474758e-15]\n",
      "0 < 8.13474757641546e-09 < 1.626949515283092e-08 gives beta=0.0. Target 0.0001\n",
      "Fresh epsilons: [4.06737379e-09]\n",
      "Chunk 0 laplace scale: [1.00000000e-05 4.06737379e-15]\n",
      "0 < 4.06737378820773e-09 < 8.13474757641546e-09 gives beta=0.0. Target 0.0001\n",
      "Fresh epsilons: [2.03368689e-09]\n",
      "Chunk 0 laplace scale: [1.00000000e-05 2.03368689e-15]\n",
      "0 < 2.033686894103865e-09 < 4.06737378820773e-09 gives beta=0.0. Target 0.0001\n",
      "Fresh epsilons: [1.01684345e-09]\n",
      "Chunk 0 laplace scale: [1.00000000e-05 1.01684345e-15]\n",
      "0 < 1.0168434470519325e-09 < 2.033686894103865e-09 gives beta=0.0. Target 0.0001\n",
      "Fresh epsilons: [5.08421724e-10]\n",
      "Chunk 0 laplace scale: [1.00000000e-05 5.08421724e-16]\n",
      "0 < 5.084217235259662e-10 < 1.0168434470519325e-09 gives beta=0.0. Target 0.0001\n",
      "Fresh epsilons: [2.54210862e-10]\n",
      "Chunk 0 laplace scale: [1.00000000e-05 2.54210862e-16]\n",
      "0 < 2.542108617629831e-10 < 5.084217235259662e-10 gives beta=0.0. Target 0.0001\n",
      "Fresh epsilons: [1.27105431e-10]\n",
      "Chunk 0 laplace scale: [1.00000000e-05 1.27105431e-16]\n",
      "0 < 1.2710543088149156e-10 < 2.542108617629831e-10 gives beta=0.0. Target 0.0001\n",
      "Fresh epsilons: [6.35527154e-11]\n",
      "Chunk 0 laplace scale: [1.00000000e-05 6.35527154e-17]\n",
      "0 < 6.355271544074578e-11 < 1.2710543088149156e-10 gives beta=0.0. Target 0.0001\n",
      "Sufficient fresh eps for chunk 0: 1414.2135623730915\n",
      "Fresh epsilons: [1414.21356237]\n",
      "Chunk 0 laplace scale: [5.00000000e-15 7.07106781e-08]\n",
      "Fresh epsilons: [707.10678119]\n",
      "Chunk 0 laplace scale: [2.00000000e-14 1.41421356e-07]\n",
      "0 < 707.1067811865457 < 1414.2135623730915 gives beta=0.0. Target 0.0001\n",
      "Fresh epsilons: [353.55339059]\n",
      "Chunk 0 laplace scale: [8.00000000e-14 2.82842712e-07]\n",
      "0 < 353.55339059327287 < 707.1067811865457 gives beta=0.0. Target 0.0001\n",
      "Fresh epsilons: [176.7766953]\n",
      "Chunk 0 laplace scale: [3.20000000e-13 5.65685425e-07]\n",
      "0 < 176.77669529663643 < 353.55339059327287 gives beta=0.0. Target 0.0001\n",
      "Fresh epsilons: [88.38834765]\n",
      "Chunk 0 laplace scale: [1.28000000e-12 1.13137085e-06]\n",
      "0 < 88.38834764831822 < 176.77669529663643 gives beta=0.0. Target 0.0001\n",
      "Fresh epsilons: [44.19417382]\n",
      "Chunk 0 laplace scale: [5.1200000e-12 2.2627417e-06]\n",
      "0 < 44.19417382415911 < 88.38834764831822 gives beta=0.0. Target 0.0001\n",
      "Fresh epsilons: [22.09708691]\n",
      "Chunk 0 laplace scale: [2.0480000e-11 4.5254834e-06]\n",
      "0 < 22.097086912079554 < 44.19417382415911 gives beta=0.0. Target 0.0001\n",
      "Fresh epsilons: [11.04854346]\n",
      "Chunk 0 laplace scale: [8.1920000e-11 9.0509668e-06]\n",
      "0 < 11.048543456039777 < 22.097086912079554 gives beta=0.0. Target 0.0001\n",
      "Fresh epsilons: [5.52427173]\n",
      "Chunk 0 laplace scale: [3.27680000e-10 1.81019336e-05]\n",
      "0 < 5.5242717280198885 < 11.048543456039777 gives beta=0.0. Target 0.0001\n",
      "Fresh epsilons: [2.76213586]\n",
      "Chunk 0 laplace scale: [1.31072000e-09 3.62038671e-05]\n",
      "0 < 2.7621358640099443 < 5.5242717280198885 gives beta=0.0. Target 0.0001\n",
      "Fresh epsilons: [1.38106793]\n",
      "Chunk 0 laplace scale: [5.24287997e-09 7.24077340e-05]\n",
      "0 < 1.3810679320049721 < 2.7621358640099443 gives beta=0.0. Target 0.0001\n",
      "Fresh epsilons: [0.69053397]\n",
      "Chunk 0 laplace scale: [2.09715196e-08 1.44815466e-04]\n",
      "0 < 0.6905339660024861 < 1.3810679320049721 gives beta=0.0. Target 0.0001\n",
      "Fresh epsilons: [0.34526698]\n",
      "Chunk 0 laplace scale: [8.38860730e-08 2.89630913e-04]\n",
      "0 < 0.34526698300124303 < 0.6905339660024861 gives beta=0.0. Target 0.0001\n",
      "Fresh epsilons: [0.17263349]\n",
      "Chunk 0 laplace scale: [3.35544207e-07 5.79261681e-04]\n",
      "0 < 0.17263349150062152 < 0.34526698300124303 gives beta=0.0. Target 0.0001\n",
      "Fresh epsilons: [0.08631675]\n",
      "Chunk 0 laplace scale: [1.34217548e-06 1.15852220e-03]\n",
      "0 < 0.08631674575031076 < 0.17263349150062152 gives beta=8.7e-05. Target 0.0001\n",
      "Fresh epsilons: [0.04315837]\n",
      "Chunk 0 laplace scale: [5.36868030e-06 2.31703506e-03]\n",
      "0 < 0.04315837287515538 < 0.08631674575031076 gives beta=0.006688. Target 0.0001\n",
      "Fresh epsilons: [0.06473756]\n",
      "Chunk 0 laplace scale: [2.38608725e-06 1.54469465e-03]\n",
      "0.04315837287515538 < 0.06473755931273306 < 0.08631674575031076 gives beta=0.000774. Target 0.0001\n",
      "Fresh epsilons: [0.07552715]\n",
      "Chunk 0 laplace scale: [1.75304480e-06 1.32402482e-03]\n",
      "0.06473755931273306 < 0.07552715253152191 < 0.08631674575031076 gives beta=0.00028. Target 0.0001\n",
      "Fresh epsilons: [0.08092195]\n",
      "Chunk 0 laplace scale: [1.52709715e-06 1.23575678e-03]\n",
      "0.07552715253152191 < 0.08092194914091633 < 0.08631674575031076 gives beta=0.000127. Target 0.0001\n",
      "Fresh epsilons: [0.08361935]\n",
      "Chunk 0 laplace scale: [1.43016396e-06 1.19589377e-03]\n",
      "0.08092194914091633 < 0.08361934744561354 < 0.08631674575031076 gives beta=0.000126. Target 0.0001\n",
      "Fresh epsilons: [0.08496805]\n",
      "Chunk 0 laplace scale: [1.38512233e-06 1.17691139e-03]\n",
      "0.08361934744561354 < 0.08496804659796214 < 0.08631674575031076 gives beta=0.0001. Target 0.0001\n",
      "Fresh epsilons: [0.0856424]\n",
      "Chunk 0 laplace scale: [1.36339529e-06 1.16764439e-03]\n",
      "0.08496804659796214 < 0.08564239617413645 < 0.08631674575031076 gives beta=0.000104. Target 0.0001\n",
      "Fresh epsilons: [0.08597957]\n",
      "Chunk 0 laplace scale: [1.35272297e-06 1.16306541e-03]\n",
      "0.08564239617413645 < 0.08597957096222361 < 0.08631674575031076 gives beta=0.000107. Target 0.0001\n",
      "Fresh epsilons: [0.08614816]\n",
      "Chunk 0 laplace scale: [1.34743374e-06 1.16078936e-03]\n",
      "0.08597957096222361 < 0.08614815835626718 < 0.08631674575031076 gives beta=9.5e-05. Target 0.0001\n",
      "Sufficient fresh eps for chunk 0: 1414.2135623727415\n",
      "Fresh epsilons: [1414.21356237]\n",
      "Chunk 0 laplace scale: [5.00000000e-14 7.07106781e-08]\n",
      "Fresh epsilons: [707.10678119]\n",
      "Chunk 0 laplace scale: [2.00000000e-13 1.41421356e-07]\n",
      "0 < 707.1067811863708 < 1414.2135623727415 gives beta=0.0. Target 0.0001\n",
      "Fresh epsilons: [353.55339059]\n",
      "Chunk 0 laplace scale: [8.00000000e-13 2.82842712e-07]\n",
      "0 < 353.5533905931854 < 707.1067811863708 gives beta=0.0. Target 0.0001\n",
      "Fresh epsilons: [176.7766953]\n",
      "Chunk 0 laplace scale: [3.20000000e-12 5.65685425e-07]\n",
      "0 < 176.7766952965927 < 353.5533905931854 gives beta=0.0. Target 0.0001\n",
      "Fresh epsilons: [88.38834765]\n",
      "Chunk 0 laplace scale: [1.28000000e-11 1.13137085e-06]\n",
      "0 < 88.38834764829635 < 176.7766952965927 gives beta=0.0. Target 0.0001\n",
      "Fresh epsilons: [44.19417382]\n",
      "Chunk 0 laplace scale: [5.1200000e-11 2.2627417e-06]\n",
      "0 < 44.19417382414817 < 88.38834764829635 gives beta=0.0. Target 0.0001\n",
      "Fresh epsilons: [22.09708691]\n",
      "Chunk 0 laplace scale: [2.04800000e-10 4.52548339e-06]\n",
      "0 < 22.097086912074086 < 44.19417382414817 gives beta=0.0. Target 0.0001\n",
      "Fresh epsilons: [11.04854346]\n",
      "Chunk 0 laplace scale: [8.19199993e-10 9.05096673e-06]\n",
      "0 < 11.048543456037043 < 22.097086912074086 gives beta=0.0. Target 0.0001\n",
      "Fresh epsilons: [5.52427173]\n",
      "Chunk 0 laplace scale: [3.27679989e-09 1.81019330e-05]\n",
      "0 < 5.524271728018522 < 11.048543456037043 gives beta=0.0. Target 0.0001\n",
      "Fresh epsilons: [2.76213586]\n",
      "Chunk 0 laplace scale: [1.31071983e-08 3.62038625e-05]\n",
      "0 < 2.762135864009261 < 5.524271728018522 gives beta=0.0. Target 0.0001\n",
      "Fresh epsilons: [1.38106793]\n",
      "Chunk 0 laplace scale: [5.24287725e-08 7.24076964e-05]\n",
      "0 < 1.3810679320046304 < 2.762135864009261 gives beta=0.0. Target 0.0001\n",
      "Fresh epsilons: [0.69053397]\n",
      "Chunk 0 laplace scale: [2.09714760e-07 1.44815165e-04]\n",
      "0 < 0.6905339660023152 < 1.3810679320046304 gives beta=0.0. Target 0.0001\n",
      "Fresh epsilons: [0.34526698]\n",
      "Chunk 0 laplace scale: [8.38853763e-07 2.89628508e-04]\n",
      "0 < 0.3452669830011576 < 0.6905339660023152 gives beta=0.0. Target 0.0001\n",
      "Fresh epsilons: [0.17263349]\n",
      "Chunk 0 laplace scale: [3.35533061e-06 5.79242439e-04]\n",
      "0 < 0.1726334915005788 < 0.3452669830011576 gives beta=0.0. Target 0.0001\n",
      "Fresh epsilons: [0.08631675]\n",
      "Chunk 0 laplace scale: [1.34199716e-05 1.15836828e-03]\n",
      "0 < 0.0863167457502894 < 0.1726334915005788 gives beta=9.6e-05. Target 0.0001\n",
      "Sufficient fresh eps for chunk 0: 1414.2135623377396\n",
      "Fresh epsilons: [1414.21356234]\n",
      "Chunk 0 laplace scale: [5.00000000e-13 7.07106781e-08]\n",
      "Fresh epsilons: [707.10678117]\n",
      "Chunk 0 laplace scale: [2.00000000e-12 1.41421356e-07]\n",
      "0 < 707.1067811688698 < 1414.2135623377396 gives beta=0.0. Target 0.0001\n",
      "Fresh epsilons: [353.55339058]\n",
      "Chunk 0 laplace scale: [7.99999999e-12 2.82842712e-07]\n",
      "0 < 353.5533905844349 < 707.1067811688698 gives beta=0.0. Target 0.0001\n",
      "Fresh epsilons: [176.77669529]\n",
      "Chunk 0 laplace scale: [3.19999999e-11 5.65685423e-07]\n",
      "0 < 176.77669529221745 < 353.5533905844349 gives beta=0.0. Target 0.0001\n",
      "Fresh epsilons: [88.38834765]\n",
      "Chunk 0 laplace scale: [1.27999998e-10 1.13137084e-06]\n",
      "0 < 88.38834764610873 < 176.77669529221745 gives beta=0.0. Target 0.0001\n",
      "Fresh epsilons: [44.19417382]\n",
      "Chunk 0 laplace scale: [5.11999974e-10 2.26274158e-06]\n",
      "0 < 44.19417382305436 < 88.38834764610873 gives beta=0.0. Target 0.0001\n",
      "Fresh epsilons: [22.09708691]\n",
      "Chunk 0 laplace scale: [2.04799958e-09 4.52548247e-06]\n",
      "0 < 22.09708691152718 < 44.19417382305436 gives beta=0.0. Target 0.0001\n",
      "Fresh epsilons: [11.04854346]\n",
      "Chunk 0 laplace scale: [8.19199329e-09 9.05095938e-06]\n",
      "0 < 11.04854345576359 < 22.09708691152718 gives beta=0.0. Target 0.0001\n",
      "Fresh epsilons: [5.52427173]\n",
      "Chunk 0 laplace scale: [3.27678926e-08 1.81018743e-05]\n",
      "0 < 5.524271727881795 < 11.04854345576359 gives beta=0.0. Target 0.0001\n",
      "Fresh epsilons: [2.76213586]\n",
      "Chunk 0 laplace scale: [1.31070282e-07 3.62033927e-05]\n",
      "0 < 2.7621358639408977 < 5.524271727881795 gives beta=0.0. Target 0.0001\n",
      "Fresh epsilons: [1.38106793]\n",
      "Chunk 0 laplace scale: [5.24260514e-07 7.24039383e-05]\n",
      "0 < 1.3810679319704489 < 2.7621358639408977 gives beta=0.0. Target 0.0001\n",
      "Fresh epsilons: [0.69053397]\n",
      "Chunk 0 laplace scale: [2.09671229e-06 1.44785105e-04]\n",
      "0 < 0.6905339659852244 < 1.3810679319704489 gives beta=0.0. Target 0.0001\n",
      "Fresh epsilons: [0.34526698]\n",
      "Chunk 0 laplace scale: [8.38157702e-06 2.89388181e-04]\n",
      "0 < 0.3452669829926122 < 0.6905339659852244 gives beta=0.0. Target 0.0001\n",
      "Fresh epsilons: [0.17263349]\n",
      "Chunk 0 laplace scale: [3.34422185e-05 5.77324695e-04]\n",
      "0 < 0.1726334914963061 < 0.3452669829926122 gives beta=0.0. Target 0.0001\n",
      "Fresh epsilons: [0.08631675]\n",
      "Chunk 0 laplace scale: [0.00013244 0.00114318]\n",
      "0 < 0.08631674574815305 < 0.1726334914963061 gives beta=7.8e-05. Target 0.0001\n",
      "Fresh epsilons: [0.04315837]\n",
      "Chunk 0 laplace scale: [0.00050952 0.00219899]\n",
      "0 < 0.04315837287407653 < 0.08631674574815305 gives beta=0.005553. Target 0.0001\n",
      "Fresh epsilons: [0.06473756]\n",
      "Chunk 0 laplace scale: [0.00023305 0.0015087 ]\n",
      "0.04315837287407653 < 0.06473755931111479 < 0.08631674574815305 gives beta=0.000682. Target 0.0001\n",
      "Fresh epsilons: [0.07552715]\n",
      "Chunk 0 laplace scale: [0.00017228 0.00130122]\n",
      "0.06473755931111479 < 0.07552715252963392 < 0.08631674574815305 gives beta=0.00027. Target 0.0001\n",
      "Fresh epsilons: [0.08092195]\n",
      "Chunk 0 laplace scale: [0.00015041 0.00121717]\n",
      "0.07552715252963392 < 0.08092194913889349 < 0.08631674574815305 gives beta=0.000132. Target 0.0001\n",
      "Fresh epsilons: [0.08361935]\n",
      "Chunk 0 laplace scale: [0.000141   0.00117903]\n",
      "0.08092194913889349 < 0.08361934744352327 < 0.08631674574815305 gives beta=9.6e-05. Target 0.0001\n",
      "Sufficient fresh eps for chunk 0: 1414.213558837561\n",
      "Fresh epsilons: [1414.21355884]\n",
      "Chunk 0 laplace scale: [5.00000000e-12 7.07106779e-08]\n",
      "Fresh epsilons: [707.10677942]\n",
      "Chunk 0 laplace scale: [1.99999997e-11 1.41421354e-07]\n",
      "0 < 707.1067794187805 < 1414.213558837561 gives beta=0.0. Target 0.0001\n",
      "Fresh epsilons: [353.55338971]\n",
      "Chunk 0 laplace scale: [7.99999940e-11 2.82842691e-07]\n",
      "0 < 353.5533897093903 < 707.1067794187805 gives beta=0.0. Target 0.0001\n",
      "Fresh epsilons: [176.77669485]\n",
      "Chunk 0 laplace scale: [3.19999899e-10 5.65685245e-07]\n",
      "0 < 176.77669485469514 < 353.5533897093903 gives beta=0.0. Target 0.0001\n",
      "Fresh epsilons: [88.38834743]\n",
      "Chunk 0 laplace scale: [1.27999837e-09 1.13136940e-06]\n",
      "0 < 88.38834742734757 < 176.77669485469514 gives beta=0.0. Target 0.0001\n",
      "Fresh epsilons: [44.19417371]\n",
      "Chunk 0 laplace scale: [5.11997381e-09 2.26273012e-06]\n",
      "0 < 44.194173713673784 < 88.38834742734757 gives beta=0.0. Target 0.0001\n",
      "Fresh epsilons: [22.09708686]\n",
      "Chunk 0 laplace scale: [2.04795807e-08 4.52539073e-06]\n",
      "0 < 22.097086856836892 < 44.194173713673784 gives beta=0.0. Target 0.0001\n",
      "Fresh epsilons: [11.04854343]\n",
      "Chunk 0 laplace scale: [8.19132901e-08 9.05022543e-06]\n",
      "0 < 11.048543428418446 < 22.097086856836892 gives beta=0.0. Target 0.0001\n",
      "Fresh epsilons: [5.52427171]\n",
      "Chunk 0 laplace scale: [3.27572663e-07 1.80960039e-05]\n",
      "0 < 5.524271714209223 < 11.048543428418446 gives beta=0.0. Target 0.0001\n",
      "Fresh epsilons: [2.76213586]\n",
      "Chunk 0 laplace scale: [1.30900427e-06 3.61564763e-05]\n",
      "0 < 2.7621358571046115 < 5.524271714209223 gives beta=0.0. Target 0.0001\n",
      "Fresh epsilons: [1.38106793]\n",
      "Chunk 0 laplace scale: [5.21553560e-06 7.20300895e-05]\n",
      "0 < 1.3810679285523058 < 2.7621358571046115 gives beta=0.0. Target 0.0001\n",
      "Fresh epsilons: [0.69053396]\n",
      "Chunk 0 laplace scale: [2.05407494e-05 1.41840851e-04]\n",
      "0 < 0.6905339642761529 < 1.3810679285523058 gives beta=0.0. Target 0.0001\n",
      "Fresh epsilons: [0.34526698]\n",
      "Chunk 0 laplace scale: [7.73938165e-05 2.67215295e-04]\n",
      "0 < 0.34526698213807644 < 0.6905339642761529 gives beta=0.0. Target 0.0001\n",
      "Fresh epsilons: [0.17263349]\n",
      "Chunk 0 laplace scale: [0.00025124 0.00043373]\n",
      "0 < 0.17263349106903822 < 0.34526698213807644 gives beta=0.0. Target 0.0001\n",
      "Fresh epsilons: [0.08631675]\n",
      "Chunk 0 laplace scale: [0.00057305 0.00049464]\n",
      "0 < 0.08631674553451911 < 0.17263349106903822 gives beta=0.0. Target 0.0001\n",
      "Fresh epsilons: [0.04315837]\n",
      "Chunk 0 laplace scale: [0.00084298 0.00036382]\n",
      "0 < 0.043158372767259555 < 0.08631674553451911 gives beta=5e-06. Target 0.0001\n",
      "Fresh epsilons: [0.02157919]\n",
      "Chunk 0 laplace scale: [0.00095551 0.00020619]\n",
      "0 < 0.021579186383629777 < 0.043158372767259555 gives beta=1.3e-05. Target 0.0001\n",
      "Fresh epsilons: [0.01078959]\n",
      "Chunk 0 laplace scale: [0.00098849 0.00010665]\n",
      "0 < 0.010789593191814889 < 0.021579186383629777 gives beta=1.9e-05. Target 0.0001\n",
      "Fresh epsilons: [0.0053948]\n",
      "Chunk 0 laplace scale: [9.97098063e-04 5.37914123e-05]\n",
      "0 < 0.005394796595907444 < 0.010789593191814889 gives beta=3.1e-05. Target 0.0001\n",
      "Fresh epsilons: [0.0026974]\n",
      "Chunk 0 laplace scale: [9.99272933e-04 2.69543711e-05]\n",
      "0 < 0.002697398297953722 < 0.005394796595907444 gives beta=2.1e-05. Target 0.0001\n",
      "Fresh epsilons: [0.0013487]\n",
      "Chunk 0 laplace scale: [9.99818134e-04 1.34845387e-05]\n",
      "0 < 0.001348699148976861 < 0.002697398297953722 gives beta=1.9e-05. Target 0.0001\n",
      "Fresh epsilons: [0.00067435]\n",
      "Chunk 0 laplace scale: [9.99954527e-04 6.74318910e-06]\n",
      "0 < 0.0006743495744884305 < 0.001348699148976861 gives beta=3.1e-05. Target 0.0001\n",
      "Fresh epsilons: [0.00033717]\n",
      "Chunk 0 laplace scale: [9.99988631e-04 3.37170954e-06]\n",
      "0 < 0.00033717478724421527 < 0.0006743495744884305 gives beta=2.3e-05. Target 0.0001\n",
      "Fresh epsilons: [0.00016859]\n",
      "Chunk 0 laplace scale: [9.99997158e-04 1.68586914e-06]\n",
      "0 < 0.00016858739362210764 < 0.00033717478724421527 gives beta=2.5e-05. Target 0.0001\n",
      "Fresh epsilons: [8.42936968e-05]\n",
      "Chunk 0 laplace scale: [9.99999289e-04 8.42936369e-07]\n",
      "0 < 8.429369681105382e-05 < 0.00016858739362210764 gives beta=2.2e-05. Target 0.0001\n",
      "Fresh epsilons: [4.21468484e-05]\n",
      "Chunk 0 laplace scale: [9.99999822e-04 4.21468409e-07]\n",
      "0 < 4.214684840552691e-05 < 8.429369681105382e-05 gives beta=2.1e-05. Target 0.0001\n",
      "Fresh epsilons: [2.10734242e-05]\n",
      "Chunk 0 laplace scale: [9.99999956e-04 2.10734233e-07]\n",
      "0 < 2.1073424202763455e-05 < 4.214684840552691e-05 gives beta=2.6e-05. Target 0.0001\n",
      "Fresh epsilons: [1.05367121e-05]\n",
      "Chunk 0 laplace scale: [9.99999989e-04 1.05367120e-07]\n",
      "0 < 1.0536712101381727e-05 < 2.1073424202763455e-05 gives beta=2.5e-05. Target 0.0001\n",
      "Fresh epsilons: [5.26835605e-06]\n",
      "Chunk 0 laplace scale: [9.99999997e-04 5.26835604e-08]\n",
      "0 < 5.268356050690864e-06 < 1.0536712101381727e-05 gives beta=2.3e-05. Target 0.0001\n",
      "Fresh epsilons: [2.63417803e-06]\n",
      "Chunk 0 laplace scale: [9.99999999e-04 2.63417802e-08]\n",
      "0 < 2.634178025345432e-06 < 5.268356050690864e-06 gives beta=2.7e-05. Target 0.0001\n",
      "Fresh epsilons: [1.31708901e-06]\n",
      "Chunk 0 laplace scale: [1.00000000e-03 1.31708901e-08]\n",
      "0 < 1.317089012672716e-06 < 2.634178025345432e-06 gives beta=3.5e-05. Target 0.0001\n",
      "Fresh epsilons: [6.58544506e-07]\n",
      "Chunk 0 laplace scale: [1.00000000e-03 6.58544506e-09]\n",
      "0 < 6.58544506336358e-07 < 1.317089012672716e-06 gives beta=1.3e-05. Target 0.0001\n",
      "Fresh epsilons: [3.29272253e-07]\n",
      "Chunk 0 laplace scale: [1.00000000e-03 3.29272253e-09]\n",
      "0 < 3.29272253168179e-07 < 6.58544506336358e-07 gives beta=2.6e-05. Target 0.0001\n",
      "Fresh epsilons: [1.64636127e-07]\n",
      "Chunk 0 laplace scale: [1.00000000e-03 1.64636127e-09]\n",
      "0 < 1.646361265840895e-07 < 3.29272253168179e-07 gives beta=2.6e-05. Target 0.0001\n",
      "Fresh epsilons: [8.23180633e-08]\n",
      "Chunk 0 laplace scale: [1.00000000e-03 8.23180633e-10]\n",
      "0 < 8.231806329204474e-08 < 1.646361265840895e-07 gives beta=1.9e-05. Target 0.0001\n",
      "Fresh epsilons: [4.11590316e-08]\n",
      "Chunk 0 laplace scale: [1.00000000e-03 4.11590316e-10]\n",
      "0 < 4.115903164602237e-08 < 8.231806329204474e-08 gives beta=2.5e-05. Target 0.0001\n",
      "Fresh epsilons: [2.05795158e-08]\n",
      "Chunk 0 laplace scale: [1.00000000e-03 2.05795158e-10]\n",
      "0 < 2.0579515823011186e-08 < 4.115903164602237e-08 gives beta=2.2e-05. Target 0.0001\n",
      "Fresh epsilons: [1.02897579e-08]\n",
      "Chunk 0 laplace scale: [1.00000000e-03 1.02897579e-10]\n",
      "0 < 1.0289757911505593e-08 < 2.0579515823011186e-08 gives beta=2.5e-05. Target 0.0001\n",
      "Fresh epsilons: [5.14487896e-09]\n",
      "Chunk 0 laplace scale: [1.00000000e-03 5.14487896e-11]\n",
      "0 < 5.1448789557527965e-09 < 1.0289757911505593e-08 gives beta=2.7e-05. Target 0.0001\n",
      "Fresh epsilons: [2.57243948e-09]\n",
      "Chunk 0 laplace scale: [1.00000000e-03 2.57243948e-11]\n",
      "0 < 2.5724394778763983e-09 < 5.1448789557527965e-09 gives beta=2e-05. Target 0.0001\n",
      "Fresh epsilons: [1.28621974e-09]\n",
      "Chunk 0 laplace scale: [1.00000000e-03 1.28621974e-11]\n",
      "0 < 1.2862197389381991e-09 < 2.5724394778763983e-09 gives beta=1.9e-05. Target 0.0001\n",
      "Fresh epsilons: [6.43109869e-10]\n",
      "Chunk 0 laplace scale: [1.00000000e-03 6.43109869e-12]\n",
      "0 < 6.431098694690996e-10 < 1.2862197389381991e-09 gives beta=3e-05. Target 0.0001\n",
      "Fresh epsilons: [3.21554935e-10]\n",
      "Chunk 0 laplace scale: [1.00000000e-03 3.21554935e-12]\n",
      "0 < 3.215549347345498e-10 < 6.431098694690996e-10 gives beta=2e-05. Target 0.0001\n",
      "Fresh epsilons: [1.60777467e-10]\n",
      "Chunk 0 laplace scale: [1.00000000e-03 1.60777467e-12]\n",
      "0 < 1.607774673672749e-10 < 3.215549347345498e-10 gives beta=1.1e-05. Target 0.0001\n",
      "Fresh epsilons: [8.03887337e-11]\n",
      "Chunk 0 laplace scale: [1.00000000e-03 8.03887337e-13]\n",
      "0 < 8.038873368363745e-11 < 1.607774673672749e-10 gives beta=2e-05. Target 0.0001\n",
      "Sufficient fresh eps for chunk 0: 1414.2134739847447\n",
      "Fresh epsilons: [1414.21347398]\n",
      "Chunk 0 laplace scale: [2.50000000e-11 7.07106737e-08]\n",
      "Fresh epsilons: [707.10673699]\n",
      "Chunk 0 laplace scale: [9.99999625e-11 1.41421294e-07]\n",
      "0 < 707.1067369923724 < 1414.2134739847447 gives beta=0.0. Target 0.0001\n",
      "Fresh epsilons: [353.5533685]\n",
      "Chunk 0 laplace scale: [3.99999250e-10 2.82842164e-07]\n",
      "0 < 353.5533684961862 < 707.1067369923724 gives beta=0.0. Target 0.0001\n",
      "Fresh epsilons: [176.77668425]\n",
      "Chunk 0 laplace scale: [1.59998740e-09 5.65680935e-07]\n",
      "0 < 176.7766842480931 < 353.5533684961862 gives beta=0.0. Target 0.0001\n",
      "Fresh epsilons: [88.38834212]\n",
      "Chunk 0 laplace scale: [6.39979601e-09 1.13133472e-06]\n",
      "0 < 88.38834212404655 < 176.7766842480931 gives beta=0.0. Target 0.0001\n",
      "Fresh epsilons: [44.19417106]\n",
      "Chunk 0 laplace scale: [2.55967268e-08 2.26245225e-06]\n",
      "0 < 44.19417106202327 < 88.38834212404655 gives beta=0.0. Target 0.0001\n",
      "Fresh epsilons: [22.09708553]\n",
      "Chunk 0 laplace scale: [1.02347611e-07 4.52316782e-06]\n",
      "0 < 22.097085531011636 < 44.19417106202327 gives beta=0.0. Target 0.0001\n",
      "Fresh epsilons: [11.04854277]\n",
      "Chunk 0 laplace scale: [4.08762905e-07 9.03246887e-06]\n",
      "0 < 11.048542765505818 < 22.097085531011636 gives beta=0.0. Target 0.0001\n",
      "Fresh epsilons: [5.52427138]\n",
      "Chunk 0 laplace scale: [1.62508749e-06 1.79548486e-05]\n",
      "0 < 5.524271382752909 < 11.048542765505818 gives beta=0.0. Target 0.0001\n",
      "Fresh epsilons: [2.76213569]\n",
      "Chunk 0 laplace scale: [6.34566601e-06 3.50551811e-05]\n",
      "0 < 2.7621356913764545 < 5.524271382752909 gives beta=0.0. Target 0.0001\n",
      "Fresh epsilons: [1.38106785]\n",
      "Chunk 0 laplace scale: [2.31765996e-05 6.40169130e-05]\n",
      "0 < 1.3810678456882273 < 2.7621356913764545 gives beta=0.0. Target 0.0001\n",
      "Fresh epsilons: [0.69053392]\n",
      "Chunk 0 laplace scale: [6.87912052e-05 9.50053216e-05]\n",
      "0 < 0.6905339228441136 < 1.3810678456882273 gives beta=0.0. Target 0.0001\n",
      "Fresh epsilons: [0.34526696]\n",
      "Chunk 0 laplace scale: [1.3542455e-04 9.3515246e-05]\n",
      "0 < 0.3452669614220568 < 0.6905339228441136 gives beta=0.0. Target 0.0001\n",
      "Fresh epsilons: [0.17263348]\n",
      "Chunk 0 laplace scale: [1.78697590e-04 6.16983739e-05]\n",
      "0 < 0.1726334807110284 < 0.3452669614220568 gives beta=0.0. Target 0.0001\n",
      "Fresh epsilons: [0.08631674]\n",
      "Chunk 0 laplace scale: [1.94212031e-04 3.35274989e-05]\n",
      "0 < 0.0863167403555142 < 0.1726334807110284 gives beta=0.0. Target 0.0001\n",
      "Fresh epsilons: [0.04315837]\n",
      "Chunk 0 laplace scale: [1.98520904e-04 1.71356773e-05]\n",
      "0 < 0.0431583701777571 < 0.0863167403555142 gives beta=0.0. Target 0.0001\n",
      "Fresh epsilons: [0.02157919]\n",
      "Chunk 0 laplace scale: [1.99628164e-04 8.61562618e-06]\n",
      "0 < 0.02157918508887855 < 0.0431583701777571 gives beta=0.0. Target 0.0001\n",
      "Fresh epsilons: [0.01078959]\n",
      "Chunk 0 laplace scale: [1.99906911e-04 4.31382824e-06]\n",
      "0 < 0.010789592544439276 < 0.02157918508887855 gives beta=0.0. Target 0.0001\n",
      "Fresh epsilons: [0.0053948]\n",
      "Chunk 0 laplace scale: [1.99976720e-04 2.15766732e-06]\n",
      "0 < 0.005394796272219638 < 0.010789592544439276 gives beta=0.0. Target 0.0001\n",
      "Fresh epsilons: [0.0026974]\n",
      "Chunk 0 laplace scale: [1.99994179e-04 1.07892785e-06]\n",
      "0 < 0.002697398136109819 < 0.005394796272219638 gives beta=0.0. Target 0.0001\n",
      "Fresh epsilons: [0.0013487]\n",
      "Chunk 0 laplace scale: [1.99998545e-04 5.39475702e-07]\n",
      "0 < 0.0013486990680549094 < 0.002697398136109819 gives beta=0.0. Target 0.0001\n",
      "Fresh epsilons: [0.00067435]\n",
      "Chunk 0 laplace scale: [1.99999636e-04 2.69739323e-07]\n",
      "0 < 0.0006743495340274547 < 0.0013486990680549094 gives beta=0.0. Target 0.0001\n",
      "Fresh epsilons: [0.00033717]\n",
      "Chunk 0 laplace scale: [1.99999909e-04 1.34869845e-07]\n",
      "0 < 0.00033717476701372736 < 0.0006743495340274547 gives beta=0.0. Target 0.0001\n",
      "Fresh epsilons: [0.00016859]\n",
      "Chunk 0 laplace scale: [1.99999977e-04 6.74349457e-08]\n",
      "0 < 0.00016858738350686368 < 0.00033717476701372736 gives beta=0.0. Target 0.0001\n",
      "Fresh epsilons: [8.42936918e-05]\n",
      "Chunk 0 laplace scale: [1.99999994e-04 3.37174757e-08]\n",
      "0 < 8.429369175343184e-05 < 0.00016858738350686368 gives beta=0.0. Target 0.0001\n",
      "Fresh epsilons: [4.21468459e-05]\n",
      "Chunk 0 laplace scale: [1.99999999e-04 1.68587382e-08]\n",
      "0 < 4.214684587671592e-05 < 8.429369175343184e-05 gives beta=0.0. Target 0.0001\n",
      "Fresh epsilons: [2.10734229e-05]\n",
      "Chunk 0 laplace scale: [2.00000000e-04 8.42936916e-09]\n",
      "0 < 2.107342293835796e-05 < 4.214684587671592e-05 gives beta=0.0. Target 0.0001\n",
      "Fresh epsilons: [1.05367115e-05]\n",
      "Chunk 0 laplace scale: [2.00000000e-04 4.21468459e-09]\n",
      "0 < 1.053671146917898e-05 < 2.107342293835796e-05 gives beta=0.0. Target 0.0001\n",
      "Fresh epsilons: [5.26835573e-06]\n",
      "Chunk 0 laplace scale: [2.00000000e-04 2.10734229e-09]\n",
      "0 < 5.26835573458949e-06 < 1.053671146917898e-05 gives beta=0.0. Target 0.0001\n",
      "Fresh epsilons: [2.63417787e-06]\n",
      "Chunk 0 laplace scale: [2.00000000e-04 1.05367115e-09]\n",
      "0 < 2.634177867294745e-06 < 5.26835573458949e-06 gives beta=0.0. Target 0.0001\n",
      "Fresh epsilons: [1.31708893e-06]\n",
      "Chunk 0 laplace scale: [2.00000000e-04 5.26835573e-10]\n",
      "0 < 1.3170889336473725e-06 < 2.634177867294745e-06 gives beta=0.0. Target 0.0001\n",
      "Fresh epsilons: [6.58544467e-07]\n",
      "Chunk 0 laplace scale: [2.00000000e-04 2.63417787e-10]\n",
      "0 < 6.585444668236863e-07 < 1.3170889336473725e-06 gives beta=0.0. Target 0.0001\n",
      "Fresh epsilons: [3.29272233e-07]\n",
      "Chunk 0 laplace scale: [2.00000000e-04 1.31708893e-10]\n",
      "0 < 3.292722334118431e-07 < 6.585444668236863e-07 gives beta=0.0. Target 0.0001\n",
      "Fresh epsilons: [1.64636117e-07]\n",
      "Chunk 0 laplace scale: [2.00000000e-04 6.58544467e-11]\n",
      "0 < 1.6463611670592156e-07 < 3.292722334118431e-07 gives beta=0.0. Target 0.0001\n",
      "Fresh epsilons: [8.23180584e-08]\n",
      "Chunk 0 laplace scale: [2.00000000e-04 3.29272233e-11]\n",
      "0 < 8.231805835296078e-08 < 1.6463611670592156e-07 gives beta=0.0. Target 0.0001\n",
      "Fresh epsilons: [4.11590292e-08]\n",
      "Chunk 0 laplace scale: [2.00000000e-04 1.64636117e-11]\n",
      "0 < 4.115902917648039e-08 < 8.231805835296078e-08 gives beta=0.0. Target 0.0001\n",
      "Fresh epsilons: [2.05795146e-08]\n",
      "Chunk 0 laplace scale: [2.00000000e-04 8.23180584e-12]\n",
      "0 < 2.0579514588240195e-08 < 4.115902917648039e-08 gives beta=0.0. Target 0.0001\n",
      "Fresh epsilons: [1.02897573e-08]\n",
      "Chunk 0 laplace scale: [2.00000000e-04 4.11590292e-12]\n",
      "0 < 1.0289757294120098e-08 < 2.0579514588240195e-08 gives beta=0.0. Target 0.0001\n",
      "Fresh epsilons: [5.14487865e-09]\n",
      "Chunk 0 laplace scale: [2.00000000e-04 2.05795146e-12]\n",
      "0 < 5.144878647060049e-09 < 1.0289757294120098e-08 gives beta=0.0. Target 0.0001\n",
      "Fresh epsilons: [2.57243932e-09]\n",
      "Chunk 0 laplace scale: [2.00000000e-04 1.02897573e-12]\n",
      "0 < 2.5724393235300244e-09 < 5.144878647060049e-09 gives beta=0.0. Target 0.0001\n",
      "Fresh epsilons: [1.28621966e-09]\n",
      "Chunk 0 laplace scale: [2.00000000e-04 5.14487865e-13]\n",
      "0 < 1.2862196617650122e-09 < 2.5724393235300244e-09 gives beta=0.0. Target 0.0001\n",
      "Fresh epsilons: [6.43109831e-10]\n",
      "Chunk 0 laplace scale: [2.00000000e-04 2.57243932e-13]\n",
      "0 < 6.431098308825061e-10 < 1.2862196617650122e-09 gives beta=0.0. Target 0.0001\n",
      "Fresh epsilons: [3.21554915e-10]\n",
      "Chunk 0 laplace scale: [2.00000000e-04 1.28621966e-13]\n",
      "0 < 3.2155491544125305e-10 < 6.431098308825061e-10 gives beta=0.0. Target 0.0001\n",
      "Fresh epsilons: [1.60777458e-10]\n",
      "Chunk 0 laplace scale: [2.00000000e-04 6.43109831e-14]\n",
      "0 < 1.6077745772062653e-10 < 3.2155491544125305e-10 gives beta=0.0. Target 0.0001\n",
      "Fresh epsilons: [8.03887289e-11]\n",
      "Chunk 0 laplace scale: [2.00000000e-04 3.21554915e-14]\n",
      "0 < 8.038872886031326e-11 < 1.6077745772062653e-10 gives beta=0.0. Target 0.0001\n",
      "Sufficient fresh eps for chunk 0: 1414.2132088196602\n",
      "Fresh epsilons: [1414.21320882]\n",
      "Chunk 0 laplace scale: [5.00000000e-11 7.07106604e-08]\n",
      "Fresh epsilons: [707.10660441]\n",
      "Chunk 0 laplace scale: [1.99999700e-10 1.41421109e-07]\n",
      "0 < 707.1066044098301 < 1414.2132088196602 gives beta=0.0. Target 0.0001\n",
      "Fresh epsilons: [353.5533022]\n",
      "Chunk 0 laplace scale: [7.9999400e-10 2.8284052e-07]\n",
      "0 < 353.55330220491504 < 707.1066044098301 gives beta=0.0. Target 0.0001\n",
      "Fresh epsilons: [176.7766511]\n",
      "Chunk 0 laplace scale: [3.19989920e-09 5.65667465e-07]\n",
      "0 < 176.77665110245752 < 353.55330220491504 gives beta=0.0. Target 0.0001\n",
      "Fresh epsilons: [88.38832555]\n",
      "Chunk 0 laplace scale: [1.27983682e-08 1.13122634e-06]\n",
      "0 < 88.38832555122876 < 176.77665110245752 gives beta=0.0. Target 0.0001\n",
      "Fresh epsilons: [44.19416278]\n",
      "Chunk 0 laplace scale: [5.11738246e-08 2.26158433e-06]\n",
      "0 < 44.19416277561438 < 88.38832555122876 gives beta=0.0. Target 0.0001\n",
      "Fresh epsilons: [22.09708139]\n",
      "Chunk 0 laplace scale: [2.04381529e-07 4.51623528e-06]\n",
      "0 < 22.09708138780719 < 44.19416277561438 gives beta=0.0. Target 0.0001\n",
      "Fresh epsilons: [11.04854069]\n",
      "Chunk 0 laplace scale: [8.12544045e-07 8.97742595e-06]\n",
      "0 < 11.048540693903595 < 22.09708138780719 gives beta=0.0. Target 0.0001\n",
      "Fresh epsilons: [5.52427035]\n",
      "Chunk 0 laplace scale: [3.17283416e-06 1.75275936e-05]\n",
      "0 < 5.5242703469517975 < 11.048540693903595 gives beta=0.0. Target 0.0001\n",
      "Fresh epsilons: [2.76213517]\n",
      "Chunk 0 laplace scale: [1.15883037e-05 3.20084611e-05]\n",
      "0 < 2.7621351734758988 < 5.5242703469517975 gives beta=0.0. Target 0.0001\n",
      "Fresh epsilons: [1.38106759]\n",
      "Chunk 0 laplace scale: [3.43956111e-05 4.75026636e-05]\n",
      "0 < 1.3810675867379494 < 2.7621351734758988 gives beta=0.0. Target 0.0001\n",
      "Fresh epsilons: [0.69053379]\n",
      "Chunk 0 laplace scale: [6.77122834e-05 4.67576199e-05]\n",
      "0 < 0.6905337933689747 < 1.3810675867379494 gives beta=0.0. Target 0.0001\n",
      "Fresh epsilons: [0.3452669]\n",
      "Chunk 0 laplace scale: [8.93487985e-05 3.08491824e-05]\n",
      "0 < 0.34526689668448735 < 0.6905337933689747 gives beta=0.0. Target 0.0001\n",
      "Fresh epsilons: [0.17263345]\n",
      "Chunk 0 laplace scale: [9.71060166e-05 1.67637465e-05]\n",
      "0 < 0.17263344834224367 < 0.34526689668448735 gives beta=0.0. Target 0.0001\n",
      "Fresh epsilons: [0.08631672]\n",
      "Chunk 0 laplace scale: [9.92604524e-05 8.56783709e-06]\n",
      "0 < 0.08631672417112184 < 0.17263344834224367 gives beta=0.0. Target 0.0001\n",
      "Fresh epsilons: [0.04315836]\n",
      "Chunk 0 laplace scale: [9.98140819e-05 4.30781229e-06]\n",
      "0 < 0.04315836208556092 < 0.08631672417112184 gives beta=0.0. Target 0.0001\n",
      "Fresh epsilons: [0.02157918]\n",
      "Chunk 0 laplace scale: [9.99534556e-05 2.15691371e-06]\n",
      "0 < 0.02157918104278046 < 0.04315836208556092 gives beta=0.0. Target 0.0001\n",
      "Fresh epsilons: [0.01078959]\n",
      "Chunk 0 laplace scale: [9.99883598e-05 1.07883346e-06]\n",
      "0 < 0.01078959052139023 < 0.02157918104278046 gives beta=0.0. Target 0.0001\n",
      "Fresh epsilons: [0.0053948]\n",
      "Chunk 0 laplace scale: [9.99970897e-05 5.39463826e-07]\n",
      "0 < 0.005394795260695115 < 0.01078959052139023 gives beta=0.0. Target 0.0001\n",
      "Fresh epsilons: [0.0026974]\n",
      "Chunk 0 laplace scale: [9.99992724e-05 2.69737800e-07]\n",
      "0 < 0.0026973976303475574 < 0.005394795260695115 gives beta=0.0. Target 0.0001\n",
      "Fresh epsilons: [0.0013487]\n",
      "Chunk 0 laplace scale: [9.99998181e-05 1.34869636e-07]\n",
      "0 < 0.0013486988151737787 < 0.0026973976303475574 gives beta=0.0. Target 0.0001\n",
      "Fresh epsilons: [0.00067435]\n",
      "Chunk 0 laplace scale: [9.99999545e-05 6.74349101e-08]\n",
      "0 < 0.0006743494075868893 < 0.0013486988151737787 gives beta=0.0. Target 0.0001\n",
      "Fresh epsilons: [0.00033717]\n",
      "Chunk 0 laplace scale: [9.99999886e-05 3.37174665e-08]\n",
      "0 < 0.0003371747037934447 < 0.0006743494075868893 gives beta=0.0. Target 0.0001\n",
      "Fresh epsilons: [0.00016859]\n",
      "Chunk 0 laplace scale: [9.99999972e-05 1.68587347e-08]\n",
      "0 < 0.00016858735189672234 < 0.0003371747037934447 gives beta=0.0. Target 0.0001\n",
      "Fresh epsilons: [8.42936759e-05]\n",
      "Chunk 0 laplace scale: [9.99999993e-05 8.42936753e-09]\n",
      "0 < 8.429367594836117e-05 < 0.00016858735189672234 gives beta=0.0. Target 0.0001\n",
      "Fresh epsilons: [4.2146838e-05]\n",
      "Chunk 0 laplace scale: [9.99999998e-05 4.21468379e-09]\n",
      "0 < 4.2146837974180584e-05 < 8.429367594836117e-05 gives beta=0.0. Target 0.0001\n",
      "Fresh epsilons: [2.1073419e-05]\n",
      "Chunk 0 laplace scale: [1.0000000e-04 2.1073419e-09]\n",
      "0 < 2.1073418987090292e-05 < 4.2146837974180584e-05 gives beta=0.0. Target 0.0001\n",
      "Fresh epsilons: [1.05367095e-05]\n",
      "Chunk 0 laplace scale: [1.00000000e-04 1.05367095e-09]\n",
      "0 < 1.0536709493545146e-05 < 2.1073418987090292e-05 gives beta=0.0. Target 0.0001\n",
      "Fresh epsilons: [5.26835475e-06]\n",
      "Chunk 0 laplace scale: [1.00000000e-04 5.26835475e-10]\n",
      "0 < 5.268354746772573e-06 < 1.0536709493545146e-05 gives beta=0.0. Target 0.0001\n",
      "Fresh epsilons: [2.63417737e-06]\n",
      "Chunk 0 laplace scale: [1.00000000e-04 2.63417737e-10]\n",
      "0 < 2.6341773733862865e-06 < 5.268354746772573e-06 gives beta=0.0. Target 0.0001\n",
      "Fresh epsilons: [1.31708869e-06]\n",
      "Chunk 0 laplace scale: [1.00000000e-04 1.31708869e-10]\n",
      "0 < 1.3170886866931433e-06 < 2.6341773733862865e-06 gives beta=0.0. Target 0.0001\n",
      "Fresh epsilons: [6.58544343e-07]\n",
      "Chunk 0 laplace scale: [1.00000000e-04 6.58544343e-11]\n",
      "0 < 6.585443433465716e-07 < 1.3170886866931433e-06 gives beta=0.0. Target 0.0001\n",
      "Fresh epsilons: [3.29272172e-07]\n",
      "Chunk 0 laplace scale: [1.00000000e-04 3.29272172e-11]\n",
      "0 < 3.292721716732858e-07 < 6.585443433465716e-07 gives beta=0.0. Target 0.0001\n",
      "Fresh epsilons: [1.64636086e-07]\n",
      "Chunk 0 laplace scale: [1.00000000e-04 1.64636086e-11]\n",
      "0 < 1.646360858366429e-07 < 3.292721716732858e-07 gives beta=0.0. Target 0.0001\n",
      "Fresh epsilons: [8.23180429e-08]\n",
      "Chunk 0 laplace scale: [1.00000000e-04 8.23180429e-12]\n",
      "0 < 8.231804291832145e-08 < 1.646360858366429e-07 gives beta=0.0. Target 0.0001\n",
      "Fresh epsilons: [4.11590215e-08]\n",
      "Chunk 0 laplace scale: [1.00000000e-04 4.11590215e-12]\n",
      "0 < 4.115902145916073e-08 < 8.231804291832145e-08 gives beta=0.0. Target 0.0001\n",
      "Fresh epsilons: [2.05795107e-08]\n",
      "Chunk 0 laplace scale: [1.00000000e-04 2.05795107e-12]\n",
      "0 < 2.0579510729580363e-08 < 4.115902145916073e-08 gives beta=0.0. Target 0.0001\n",
      "Fresh epsilons: [1.02897554e-08]\n",
      "Chunk 0 laplace scale: [1.00000000e-04 1.02897554e-12]\n",
      "0 < 1.0289755364790182e-08 < 2.0579510729580363e-08 gives beta=0.0. Target 0.0001\n",
      "Fresh epsilons: [5.14487768e-09]\n",
      "Chunk 0 laplace scale: [1.00000000e-04 5.14487768e-13]\n",
      "0 < 5.144877682395091e-09 < 1.0289755364790182e-08 gives beta=0.0. Target 0.0001\n",
      "Fresh epsilons: [2.57243884e-09]\n",
      "Chunk 0 laplace scale: [1.00000000e-04 2.57243884e-13]\n",
      "0 < 2.5724388411975454e-09 < 5.144877682395091e-09 gives beta=0.0. Target 0.0001\n",
      "Fresh epsilons: [1.28621942e-09]\n",
      "Chunk 0 laplace scale: [1.00000000e-04 1.28621942e-13]\n",
      "0 < 1.2862194205987727e-09 < 2.5724388411975454e-09 gives beta=0.0. Target 0.0001\n",
      "Fresh epsilons: [6.4310971e-10]\n",
      "Chunk 0 laplace scale: [1.0000000e-04 6.4310971e-14]\n",
      "0 < 6.431097102993864e-10 < 1.2862194205987727e-09 gives beta=0.0. Target 0.0001\n",
      "Fresh epsilons: [3.21554855e-10]\n",
      "Chunk 0 laplace scale: [1.00000000e-04 3.21554855e-14]\n",
      "0 < 3.215548551496932e-10 < 6.431097102993864e-10 gives beta=0.0. Target 0.0001\n",
      "Fresh epsilons: [1.60777428e-10]\n",
      "Chunk 0 laplace scale: [1.00000000e-04 1.60777428e-14]\n",
      "0 < 1.607774275748466e-10 < 3.215548551496932e-10 gives beta=0.0. Target 0.0001\n",
      "Fresh epsilons: [8.03887138e-11]\n",
      "Chunk 0 laplace scale: [1.00000000e-04 8.03887138e-15]\n",
      "0 < 8.03887137874233e-11 < 1.607774275748466e-10 gives beta=0.0. Target 0.0001\n",
      "Sufficient fresh eps for chunk 0: 1414.178206592083\n",
      "Fresh epsilons: [1414.17820659]\n",
      "Chunk 0 laplace scale: [5.00000000e-10 7.07089103e-08]\n",
      "Fresh epsilons: [707.0891033]\n",
      "Chunk 0 laplace scale: [1.99970004e-09 1.41396611e-07]\n",
      "0 < 707.0891032960415 < 1414.178206592083 gives beta=0.0. Target 0.0001\n",
      "Fresh epsilons: [353.54455165]\n",
      "Chunk 0 laplace scale: [7.99400450e-09 2.82623674e-07]\n",
      "0 < 353.54455164802073 < 707.0891032960415 gives beta=0.0. Target 0.0001\n",
      "Fresh epsilons: [176.77227582]\n",
      "Chunk 0 laplace scale: [3.18995165e-08 5.63895013e-07]\n",
      "0 < 176.77227582401036 < 353.54455164802073 gives beta=0.0. Target 0.0001\n",
      "Fresh epsilons: [88.38613791]\n",
      "Chunk 0 laplace scale: [1.26388546e-07 1.11709955e-06]\n",
      "0 < 88.38613791200518 < 176.77227582401036 gives beta=0.0. Target 0.0001\n",
      "Fresh epsilons: [44.19306896]\n",
      "Chunk 0 laplace scale: [4.87085573e-07 2.15258063e-06]\n",
      "0 < 44.19306895600259 < 88.38613791200518 gives beta=0.0. Target 0.0001\n",
      "Fresh epsilons: [22.09653448]\n",
      "Chunk 0 laplace scale: [1.69993775e-06 3.75627330e-06]\n",
      "0 < 22.096534478001296 < 44.19306895600259 gives beta=0.0. Target 0.0001\n",
      "Fresh epsilons: [11.04826724]\n",
      "Chunk 0 laplace scale: [4.50320204e-06 4.97525796e-06]\n",
      "0 < 11.048267239000648 < 22.096534478001296 gives beta=0.0. Target 0.0001\n",
      "Fresh epsilons: [5.52413362]\n",
      "Chunk 0 laplace scale: [7.66189279e-06 4.23253196e-06]\n",
      "0 < 5.524133619500324 < 11.048267239000648 gives beta=0.0. Target 0.0001\n",
      "Fresh epsilons: [2.76206681]\n",
      "Chunk 0 laplace scale: [9.29117504e-06 2.56628462e-06]\n",
      "0 < 2.762066809750162 < 5.524133619500324 gives beta=0.0. Target 0.0001\n",
      "Fresh epsilons: [1.3810334]\n",
      "Chunk 0 laplace scale: [9.81284421e-06 1.35518656e-06]\n",
      "0 < 1.381033404875081 < 2.762066809750162 gives beta=0.0. Target 0.0001\n",
      "Fresh epsilons: [0.6905167]\n",
      "Chunk 0 laplace scale: [9.95254494e-06 6.87239851e-07]\n",
      "0 < 0.6905167024375405 < 1.381033404875081 gives beta=0.0. Target 0.0001\n",
      "Fresh epsilons: [0.34525835]\n",
      "Chunk 0 laplace scale: [9.98809386e-06 3.44847282e-07]\n",
      "0 < 0.34525835121877024 < 0.6905167024375405 gives beta=0.0. Target 0.0001\n",
      "Fresh epsilons: [0.17262918]\n",
      "Chunk 0 laplace scale: [9.99702080e-06 1.72577746e-07]\n",
      "0 < 0.17262917560938512 < 0.34525835121877024 gives beta=0.0. Target 0.0001\n",
      "Fresh epsilons: [0.08631459]\n",
      "Chunk 0 laplace scale: [9.99925503e-06 8.63081577e-08]\n",
      "0 < 0.08631458780469256 < 0.17262917560938512 gives beta=0.0. Target 0.0001\n",
      "Fresh epsilons: [0.04315729]\n",
      "Chunk 0 laplace scale: [9.99981375e-06 4.31564901e-08]\n",
      "0 < 0.04315729390234628 < 0.08631458780469256 gives beta=0.0. Target 0.0001\n",
      "Fresh epsilons: [0.02157865]\n",
      "Chunk 0 laplace scale: [9.99995344e-06 2.15785465e-08]\n",
      "0 < 0.02157864695117314 < 0.04315729390234628 gives beta=0.0. Target 0.0001\n",
      "Fresh epsilons: [0.01078932]\n",
      "Chunk 0 laplace scale: [9.99998836e-06 1.07893109e-08]\n",
      "0 < 0.01078932347558657 < 0.02157864695117314 gives beta=0.0. Target 0.0001\n",
      "Fresh epsilons: [0.00539466]\n",
      "Chunk 0 laplace scale: [9.99999709e-06 5.39466017e-09]\n",
      "0 < 0.005394661737793285 < 0.01078932347558657 gives beta=0.0. Target 0.0001\n",
      "Fresh epsilons: [0.00269733]\n",
      "Chunk 0 laplace scale: [9.99999927e-06 2.69733067e-09]\n",
      "0 < 0.0026973308688966425 < 0.005394661737793285 gives beta=0.0. Target 0.0001\n",
      "Fresh epsilons: [0.00134867]\n",
      "Chunk 0 laplace scale: [9.99999982e-06 1.34866541e-09]\n",
      "0 < 0.0013486654344483213 < 0.0026973308688966425 gives beta=0.0. Target 0.0001\n",
      "Fresh epsilons: [0.00067433]\n",
      "Chunk 0 laplace scale: [9.99999995e-06 6.74332714e-10]\n",
      "0 < 0.0006743327172241606 < 0.0013486654344483213 gives beta=0.0. Target 0.0001\n",
      "Fresh epsilons: [0.00033717]\n",
      "Chunk 0 laplace scale: [9.99999999e-06 3.37166358e-10]\n",
      "0 < 0.0003371663586120803 < 0.0006743327172241606 gives beta=0.0. Target 0.0001\n",
      "Fresh epsilons: [0.00016858]\n",
      "Chunk 0 laplace scale: [1.00000000e-05 1.68583179e-10]\n",
      "0 < 0.00016858317930604016 < 0.0003371663586120803 gives beta=0.0. Target 0.0001\n",
      "Fresh epsilons: [8.42915897e-05]\n",
      "Chunk 0 laplace scale: [1.00000000e-05 8.42915896e-11]\n",
      "0 < 8.429158965302008e-05 < 0.00016858317930604016 gives beta=0.0. Target 0.0001\n",
      "Fresh epsilons: [4.21457948e-05]\n",
      "Chunk 0 laplace scale: [1.00000000e-05 4.21457948e-11]\n",
      "0 < 4.214579482651004e-05 < 8.429158965302008e-05 gives beta=0.0. Target 0.0001\n",
      "Fresh epsilons: [2.10728974e-05]\n",
      "Chunk 0 laplace scale: [1.00000000e-05 2.10728974e-11]\n",
      "0 < 2.107289741325502e-05 < 4.214579482651004e-05 gives beta=0.0. Target 0.0001\n",
      "Fresh epsilons: [1.05364487e-05]\n",
      "Chunk 0 laplace scale: [1.00000000e-05 1.05364487e-11]\n",
      "0 < 1.053644870662751e-05 < 2.107289741325502e-05 gives beta=0.0. Target 0.0001\n",
      "Fresh epsilons: [5.26822435e-06]\n",
      "Chunk 0 laplace scale: [1.00000000e-05 5.26822435e-12]\n",
      "0 < 5.268224353313755e-06 < 1.053644870662751e-05 gives beta=0.0. Target 0.0001\n",
      "Fresh epsilons: [2.63411218e-06]\n",
      "Chunk 0 laplace scale: [1.00000000e-05 2.63411218e-12]\n",
      "0 < 2.6341121766568775e-06 < 5.268224353313755e-06 gives beta=0.0. Target 0.0001\n",
      "Fresh epsilons: [1.31705609e-06]\n",
      "Chunk 0 laplace scale: [1.00000000e-05 1.31705609e-12]\n",
      "0 < 1.3170560883284387e-06 < 2.6341121766568775e-06 gives beta=0.0. Target 0.0001\n",
      "Fresh epsilons: [6.58528044e-07]\n",
      "Chunk 0 laplace scale: [1.00000000e-05 6.58528044e-13]\n",
      "0 < 6.585280441642194e-07 < 1.3170560883284387e-06 gives beta=0.0. Target 0.0001\n",
      "Fresh epsilons: [3.29264022e-07]\n",
      "Chunk 0 laplace scale: [1.00000000e-05 3.29264022e-13]\n",
      "0 < 3.292640220821097e-07 < 6.585280441642194e-07 gives beta=0.0. Target 0.0001\n",
      "Fresh epsilons: [1.64632011e-07]\n",
      "Chunk 0 laplace scale: [1.00000000e-05 1.64632011e-13]\n",
      "0 < 1.6463201104105484e-07 < 3.292640220821097e-07 gives beta=0.0. Target 0.0001\n",
      "Fresh epsilons: [8.23160055e-08]\n",
      "Chunk 0 laplace scale: [1.00000000e-05 8.23160055e-14]\n",
      "0 < 8.231600552052742e-08 < 1.6463201104105484e-07 gives beta=0.0. Target 0.0001\n",
      "Fresh epsilons: [4.11580028e-08]\n",
      "Chunk 0 laplace scale: [1.00000000e-05 4.11580028e-14]\n",
      "0 < 4.115800276026371e-08 < 8.231600552052742e-08 gives beta=0.0. Target 0.0001\n",
      "Fresh epsilons: [2.05790014e-08]\n",
      "Chunk 0 laplace scale: [1.00000000e-05 2.05790014e-14]\n",
      "0 < 2.0579001380131855e-08 < 4.115800276026371e-08 gives beta=0.0. Target 0.0001\n",
      "Fresh epsilons: [1.02895007e-08]\n",
      "Chunk 0 laplace scale: [1.00000000e-05 1.02895007e-14]\n",
      "0 < 1.0289500690065928e-08 < 2.0579001380131855e-08 gives beta=0.0. Target 0.0001\n",
      "Fresh epsilons: [5.14475035e-09]\n",
      "Chunk 0 laplace scale: [1.00000000e-05 5.14475035e-15]\n",
      "0 < 5.144750345032964e-09 < 1.0289500690065928e-08 gives beta=0.0. Target 0.0001\n",
      "Fresh epsilons: [2.57237517e-09]\n",
      "Chunk 0 laplace scale: [1.00000000e-05 2.57237517e-15]\n",
      "0 < 2.572375172516482e-09 < 5.144750345032964e-09 gives beta=0.0. Target 0.0001\n",
      "Fresh epsilons: [1.28618759e-09]\n",
      "Chunk 0 laplace scale: [1.00000000e-05 1.28618759e-15]\n",
      "0 < 1.286187586258241e-09 < 2.572375172516482e-09 gives beta=0.0. Target 0.0001\n",
      "Fresh epsilons: [6.43093793e-10]\n",
      "Chunk 0 laplace scale: [1.00000000e-05 6.43093793e-16]\n",
      "0 < 6.430937931291205e-10 < 1.286187586258241e-09 gives beta=0.0. Target 0.0001\n",
      "Fresh epsilons: [3.21546897e-10]\n",
      "Chunk 0 laplace scale: [1.00000000e-05 3.21546897e-16]\n",
      "0 < 3.2154689656456024e-10 < 6.430937931291205e-10 gives beta=0.0. Target 0.0001\n",
      "Fresh epsilons: [1.60773448e-10]\n",
      "Chunk 0 laplace scale: [1.00000000e-05 1.60773448e-16]\n",
      "0 < 1.6077344828228012e-10 < 3.2154689656456024e-10 gives beta=0.0. Target 0.0001\n",
      "Fresh epsilons: [8.03867241e-11]\n",
      "Chunk 0 laplace scale: [1.00000000e-05 8.03867241e-17]\n",
      "0 < 8.038672414114006e-11 < 1.6077344828228012e-10 gives beta=0.0. Target 0.0001\n",
      "Sufficient fresh eps for chunk 0: 447.21359549994673\n",
      "Fresh epsilons: [447.2135955]\n",
      "Chunk 0 laplace scale: [5.00000000e-14 2.23606798e-07]\n",
      "Fresh epsilons: [223.60679775]\n",
      "Chunk 0 laplace scale: [2.00000000e-13 4.47213595e-07]\n",
      "0 < 223.60679774997337 < 447.21359549994673 gives beta=0.0. Target 0.001\n",
      "Fresh epsilons: [111.80339887]\n",
      "Chunk 0 laplace scale: [8.00000000e-13 8.94427191e-07]\n",
      "0 < 111.80339887498668 < 223.60679774997337 gives beta=0.0. Target 0.001\n",
      "Fresh epsilons: [55.90169944]\n",
      "Chunk 0 laplace scale: [3.20000000e-12 1.78885438e-06]\n",
      "0 < 55.90169943749334 < 111.80339887498668 gives beta=0.0. Target 0.001\n",
      "Fresh epsilons: [27.95084972]\n",
      "Chunk 0 laplace scale: [1.28000000e-11 3.57770876e-06]\n",
      "0 < 27.95084971874667 < 55.90169943749334 gives beta=0.0. Target 0.001\n",
      "Fresh epsilons: [13.97542486]\n",
      "Chunk 0 laplace scale: [5.12000000e-11 7.15541753e-06]\n",
      "0 < 13.975424859373335 < 27.95084971874667 gives beta=0.0. Target 0.001\n",
      "Fresh epsilons: [6.98771243]\n",
      "Chunk 0 laplace scale: [2.04800000e-10 1.43108351e-05]\n",
      "0 < 6.987712429686668 < 13.975424859373335 gives beta=0.0. Target 0.001\n",
      "Fresh epsilons: [3.49385621]\n",
      "Chunk 0 laplace scale: [8.19199999e-10 2.86216701e-05]\n",
      "0 < 3.493856214843334 < 6.987712429686668 gives beta=0.0. Target 0.001\n",
      "Fresh epsilons: [1.74692811]\n",
      "Chunk 0 laplace scale: [3.27679999e-09 5.72433400e-05]\n",
      "0 < 1.746928107421667 < 3.493856214843334 gives beta=0.0. Target 0.001\n",
      "Fresh epsilons: [0.87346405]\n",
      "Chunk 0 laplace scale: [1.31071998e-08 1.14486679e-04]\n",
      "0 < 0.8734640537108335 < 1.746928107421667 gives beta=6.7e-05. Target 0.001\n",
      "Fresh epsilons: [0.43673203]\n",
      "Chunk 0 laplace scale: [5.24287973e-08 2.28973349e-04]\n",
      "0 < 0.43673202685541673 < 0.8734640537108335 gives beta=0.006233. Target 0.001\n",
      "Fresh epsilons: [0.65509804]\n",
      "Chunk 0 laplace scale: [2.33016883e-08 1.52648904e-04]\n",
      "0.43673202685541673 < 0.6550980402831251 < 0.8734640537108335 gives beta=0.000737. Target 0.001\n",
      "Fresh epsilons: [0.54591503]\n",
      "Chunk 0 laplace scale: [3.35544309e-08 1.83178683e-04]\n",
      "0.43673202685541673 < 0.545915033569271 < 0.6550980402831251 gives beta=0.002121. Target 0.001\n",
      "Fresh epsilons: [0.60050654]\n",
      "Chunk 0 laplace scale: [2.77309348e-08 1.66526076e-04]\n",
      "0.545915033569271 < 0.600506536926198 < 0.6550980402831251 gives beta=0.001217. Target 0.001\n",
      "Fresh epsilons: [0.62780229]\n",
      "Chunk 0 laplace scale: [2.53719706e-08 1.59285812e-04]\n",
      "0.600506536926198 < 0.6278022886046616 < 0.6550980402831251 gives beta=0.000919. Target 0.001\n",
      "Fresh epsilons: [0.61415441]\n",
      "Chunk 0 laplace scale: [2.65121431e-08 1.62825497e-04]\n",
      "0.600506536926198 < 0.6141544127654298 < 0.6278022886046616 gives beta=0.001069. Target 0.001\n",
      "Fresh epsilons: [0.62097835]\n",
      "Chunk 0 laplace scale: [2.59326602e-08 1.61036206e-04]\n",
      "0.6141544127654298 < 0.6209783506850457 < 0.6278022886046616 gives beta=0.000972. Target 0.001\n",
      "Fresh epsilons: [0.61756638]\n",
      "Chunk 0 laplace scale: [2.62200005e-08 1.61925908e-04]\n",
      "0.6141544127654298 < 0.6175663817252377 < 0.6209783506850457 gives beta=0.001085. Target 0.001\n",
      "Fresh epsilons: [0.61927237]\n",
      "Chunk 0 laplace scale: [2.60757367e-08 1.61479832e-04]\n",
      "0.6175663817252377 < 0.6192723662051417 < 0.6209783506850457 gives beta=0.000985. Target 0.001\n",
      "Fresh epsilons: [0.61841937]\n",
      "Chunk 0 laplace scale: [2.61477194e-08 1.61702562e-04]\n",
      "0.6175663817252377 < 0.6184193739651898 < 0.6192723662051417 gives beta=0.001083. Target 0.001\n",
      "Fresh epsilons: [0.61884587]\n",
      "Chunk 0 laplace scale: [2.61116908e-08 1.61591120e-04]\n",
      "0.6184193739651898 < 0.6188458700851658 < 0.6192723662051417 gives beta=0.001052. Target 0.001\n",
      "Fresh epsilons: [0.61905912]\n",
      "Chunk 0 laplace scale: [2.60937045e-08 1.61535457e-04]\n",
      "0.6188458700851658 < 0.6190591181451537 < 0.6192723662051417 gives beta=0.000996. Target 0.001\n",
      "Sufficient fresh eps for chunk 0: 447.2135954988399\n",
      "Fresh epsilons: [447.2135955]\n",
      "Chunk 0 laplace scale: [5.00000000e-13 2.23606798e-07]\n",
      "Fresh epsilons: [223.60679775]\n",
      "Chunk 0 laplace scale: [2.00000000e-12 4.47213595e-07]\n",
      "0 < 223.60679774941994 < 447.2135954988399 gives beta=0.0. Target 0.001\n",
      "Fresh epsilons: [111.80339887]\n",
      "Chunk 0 laplace scale: [8.00000000e-12 8.94427191e-07]\n",
      "0 < 111.80339887470997 < 223.60679774941994 gives beta=0.0. Target 0.001\n",
      "Fresh epsilons: [55.90169944]\n",
      "Chunk 0 laplace scale: [3.20000000e-11 1.78885438e-06]\n",
      "0 < 55.901699437354985 < 111.80339887470997 gives beta=0.0. Target 0.001\n",
      "Fresh epsilons: [27.95084972]\n",
      "Chunk 0 laplace scale: [1.28000000e-10 3.57770876e-06]\n",
      "0 < 27.950849718677492 < 55.901699437354985 gives beta=0.0. Target 0.001\n",
      "Fresh epsilons: [13.97542486]\n",
      "Chunk 0 laplace scale: [5.11999997e-10 7.15541749e-06]\n",
      "0 < 13.975424859338746 < 27.950849718677492 gives beta=0.0. Target 0.001\n",
      "Fresh epsilons: [6.98771243]\n",
      "Chunk 0 laplace scale: [2.04799996e-09 1.43108348e-05]\n",
      "0 < 6.987712429669373 < 13.975424859338746 gives beta=0.0. Target 0.001\n",
      "Fresh epsilons: [3.49385621]\n",
      "Chunk 0 laplace scale: [8.19199933e-09 2.86216678e-05]\n",
      "0 < 3.4938562148346866 < 6.987712429669373 gives beta=0.0. Target 0.001\n",
      "Fresh epsilons: [1.74692811]\n",
      "Chunk 0 laplace scale: [3.27679893e-08 5.72433215e-05]\n",
      "0 < 1.7469281074173433 < 3.4938562148346866 gives beta=0.0. Target 0.001\n",
      "Fresh epsilons: [0.87346405]\n",
      "Chunk 0 laplace scale: [1.31071828e-07 1.14486530e-04]\n",
      "0 < 0.8734640537086716 < 1.7469281074173433 gives beta=8.3e-05. Target 0.001\n",
      "Fresh epsilons: [0.43673203]\n",
      "Chunk 0 laplace scale: [5.24285251e-07 2.28972160e-04]\n",
      "0 < 0.4367320268543358 < 0.8734640537086716 gives beta=0.0064. Target 0.001\n",
      "Fresh epsilons: [0.65509804]\n",
      "Chunk 0 laplace scale: [2.33016346e-07 1.52648552e-04]\n",
      "0.4367320268543358 < 0.6550980402815038 < 0.8734640537086716 gives beta=0.000692. Target 0.001\n",
      "Fresh epsilons: [0.54591503]\n",
      "Chunk 0 laplace scale: [3.35543194e-07 1.83178074e-04]\n",
      "0.4367320268543358 < 0.5459150335679198 < 0.6550980402815038 gives beta=0.00211. Target 0.001\n",
      "Fresh epsilons: [0.60050654]\n",
      "Chunk 0 laplace scale: [2.77308586e-07 1.66525619e-04]\n",
      "0.5459150335679198 < 0.6005065369247118 < 0.6550980402815038 gives beta=0.001217. Target 0.001\n",
      "Fresh epsilons: [0.62780229]\n",
      "Chunk 0 laplace scale: [2.53719069e-07 1.59285412e-04]\n",
      "0.6005065369247118 < 0.6278022886031078 < 0.6550980402815038 gives beta=0.000931. Target 0.001\n",
      "Fresh epsilons: [0.61415441]\n",
      "Chunk 0 laplace scale: [2.65120735e-07 1.62825069e-04]\n",
      "0.6005065369247118 < 0.6141544127639098 < 0.6278022886031078 gives beta=0.001076. Target 0.001\n",
      "Fresh epsilons: [0.62097835]\n",
      "Chunk 0 laplace scale: [2.59325936e-07 1.61035792e-04]\n",
      "0.6141544127639098 < 0.6209783506835088 < 0.6278022886031078 gives beta=0.001023. Target 0.001\n",
      "Fresh epsilons: [0.62439032]\n",
      "Chunk 0 laplace scale: [2.56499524e-07 1.60155820e-04]\n",
      "0.6209783506835088 < 0.6243903196433083 < 0.6278022886031078 gives beta=0.000932. Target 0.001\n",
      "Fresh epsilons: [0.62268434]\n",
      "Chunk 0 laplace scale: [2.57906923e-07 1.60594601e-04]\n",
      "0.6209783506835088 < 0.6226843351634086 < 0.6243903196433083 gives beta=0.000913. Target 0.001\n",
      "Fresh epsilons: [0.62183134]\n",
      "Chunk 0 laplace scale: [2.58614970e-07 1.60814894e-04]\n",
      "0.6209783506835088 < 0.6218313429234588 < 0.6226843351634086 gives beta=0.001051. Target 0.001\n",
      "Fresh epsilons: [0.62225784]\n",
      "Chunk 0 laplace scale: [2.58260582e-07 1.60704672e-04]\n",
      "0.6218313429234588 < 0.6222578390434337 < 0.6226843351634086 gives beta=0.000958. Target 0.001\n",
      "Fresh epsilons: [0.62204459]\n",
      "Chunk 0 laplace scale: [2.58437685e-07 1.60759764e-04]\n",
      "0.6218313429234588 < 0.6220445909834462 < 0.6222578390434337 gives beta=0.001018. Target 0.001\n",
      "Fresh epsilons: [0.62215122]\n",
      "Chunk 0 laplace scale: [2.58349111e-07 1.60732213e-04]\n",
      "0.6220445909834462 < 0.62215121501344 < 0.6222578390434337 gives beta=0.000974. Target 0.001\n",
      "Fresh epsilons: [0.6220979]\n",
      "Chunk 0 laplace scale: [2.58393392e-07 1.60745987e-04]\n",
      "0.6220445909834462 < 0.622097902998443 < 0.62215121501344 gives beta=0.000961. Target 0.001\n",
      "Fresh epsilons: [0.62207125]\n",
      "Chunk 0 laplace scale: [2.58415537e-07 1.60752875e-04]\n",
      "0.6220445909834462 < 0.6220712469909446 < 0.622097902998443 gives beta=0.000971. Target 0.001\n",
      "Fresh epsilons: [0.62205792]\n",
      "Chunk 0 laplace scale: [2.5842661e-07 1.6075632e-04]\n",
      "0.6220445909834462 < 0.6220579189871954 < 0.6220712469909446 gives beta=0.001016. Target 0.001\n",
      "Fresh epsilons: [0.62206458]\n",
      "Chunk 0 laplace scale: [2.58421074e-07 1.60754597e-04]\n",
      "0.6220579189871954 < 0.6220645829890701 < 0.6220712469909446 gives beta=0.000987. Target 0.001\n",
      "Fresh epsilons: [0.62206125]\n",
      "Chunk 0 laplace scale: [2.58423842e-07 1.60755458e-04]\n",
      "0.6220579189871954 < 0.6220612509881327 < 0.6220645829890701 gives beta=0.001054. Target 0.001\n",
      "Fresh epsilons: [0.62206292]\n",
      "Chunk 0 laplace scale: [2.58422458e-07 1.60755028e-04]\n",
      "0.6220612509881327 < 0.6220629169886014 < 0.6220645829890701 gives beta=0.000982. Target 0.001\n",
      "Fresh epsilons: [0.62206208]\n",
      "Chunk 0 laplace scale: [2.58423150e-07 1.60755243e-04]\n",
      "0.6220612509881327 < 0.622062083988367 < 0.6220629169886014 gives beta=0.001026. Target 0.001\n",
      "Fresh epsilons: [0.6220625]\n",
      "Chunk 0 laplace scale: [2.58422804e-07 1.60755136e-04]\n",
      "0.622062083988367 < 0.6220625004884842 < 0.6220629169886014 gives beta=0.001051. Target 0.001\n",
      "Fresh epsilons: [0.62206271]\n",
      "Chunk 0 laplace scale: [2.58422631e-07 1.60755082e-04]\n",
      "0.6220625004884842 < 0.6220627087385429 < 0.6220629169886014 gives beta=0.000964. Target 0.001\n",
      "Fresh epsilons: [0.6220626]\n",
      "Chunk 0 laplace scale: [2.58422717e-07 1.60755109e-04]\n",
      "0.6220625004884842 < 0.6220626046135136 < 0.6220627087385429 gives beta=0.000967. Target 0.001\n",
      "Fresh epsilons: [0.62206255]\n",
      "Chunk 0 laplace scale: [2.58422761e-07 1.60755122e-04]\n",
      "0.6220625004884842 < 0.6220625525509988 < 0.6220626046135136 gives beta=0.000946. Target 0.001\n",
      "Fresh epsilons: [0.62206253]\n",
      "Chunk 0 laplace scale: [2.58422782e-07 1.60755129e-04]\n",
      "0.6220625004884842 < 0.6220625265197415 < 0.6220625525509988 gives beta=0.000966. Target 0.001\n",
      "Fresh epsilons: [0.62206251]\n",
      "Chunk 0 laplace scale: [2.58422793e-07 1.60755132e-04]\n",
      "0.6220625004884842 < 0.6220625135041129 < 0.6220625265197415 gives beta=0.000921. Target 0.001\n",
      "Fresh epsilons: [0.62206251]\n",
      "Chunk 0 laplace scale: [2.58422798e-07 1.60755134e-04]\n",
      "0.6220625004884842 < 0.6220625069962986 < 0.6220625135041129 gives beta=0.000998. Target 0.001\n",
      "Sufficient fresh eps for chunk 0: 447.2135953881545\n",
      "Fresh epsilons: [447.21359539]\n",
      "Chunk 0 laplace scale: [5.00000000e-12 2.23606798e-07]\n",
      "Fresh epsilons: [223.60679769]\n",
      "Chunk 0 laplace scale: [2.00000000e-11 4.47213595e-07]\n",
      "0 < 223.60679769407724 < 447.2135953881545 gives beta=0.0. Target 0.001\n",
      "Fresh epsilons: [111.80339885]\n",
      "Chunk 0 laplace scale: [7.99999994e-11 8.94427184e-07]\n",
      "0 < 111.80339884703862 < 223.60679769407724 gives beta=0.0. Target 0.001\n",
      "Fresh epsilons: [55.90169942]\n",
      "Chunk 0 laplace scale: [3.19999990e-10 1.78885433e-06]\n",
      "0 < 55.90169942351931 < 111.80339884703862 gives beta=0.0. Target 0.001\n",
      "Fresh epsilons: [27.95084971]\n",
      "Chunk 0 laplace scale: [1.27999984e-09 3.57770831e-06]\n",
      "0 < 27.950849711759655 < 55.90169942351931 gives beta=0.0. Target 0.001\n",
      "Fresh epsilons: [13.97542486]\n",
      "Chunk 0 laplace scale: [5.11999738e-09 7.15541387e-06]\n",
      "0 < 13.975424855879828 < 27.950849711759655 gives beta=0.0. Target 0.001\n",
      "Fresh epsilons: [6.98771243]\n",
      "Chunk 0 laplace scale: [2.04799581e-08 1.43108058e-05]\n",
      "0 < 6.987712427939914 < 13.975424855879828 gives beta=0.0. Target 0.001\n",
      "Fresh epsilons: [3.49385621]\n",
      "Chunk 0 laplace scale: [8.19193290e-08 2.86214357e-05]\n",
      "0 < 3.493856213969957 < 6.987712427939914 gives beta=0.0. Target 0.001\n",
      "Fresh epsilons: [1.74692811]\n",
      "Chunk 0 laplace scale: [3.27669263e-07 5.72414645e-05]\n",
      "0 < 1.7469281069849785 < 3.493856213969957 gives beta=0.0. Target 0.001\n",
      "Fresh epsilons: [0.87346405]\n",
      "Chunk 0 laplace scale: [1.31054822e-06 1.14471676e-04]\n",
      "0 < 0.8734640534924892 < 1.7469281069849785 gives beta=7.1e-05. Target 0.001\n",
      "Fresh epsilons: [0.43673203]\n",
      "Chunk 0 laplace scale: [5.24013266e-06 2.28853376e-04]\n",
      "0 < 0.4367320267462446 < 0.8734640534924892 gives beta=0.006433. Target 0.001\n",
      "Fresh epsilons: [0.65509804]\n",
      "Chunk 0 laplace scale: [2.32962605e-06 1.52613346e-04]\n",
      "0.4367320267462446 < 0.6550980401193669 < 0.8734640534924892 gives beta=0.000727. Target 0.001\n",
      "Fresh epsilons: [0.54591503]\n",
      "Chunk 0 laplace scale: [3.35431768e-06 1.83117245e-04]\n",
      "0.4367320267462446 < 0.5459150334328058 < 0.6550980401193669 gives beta=0.002086. Target 0.001\n",
      "Fresh epsilons: [0.60050654]\n",
      "Chunk 0 laplace scale: [2.77232476e-06 1.66479914e-04]\n",
      "0.5459150334328058 < 0.6005065367760863 < 0.6550980401193669 gives beta=0.001213. Target 0.001\n",
      "Fresh epsilons: [0.62780229]\n",
      "Chunk 0 laplace scale: [2.53655355e-06 1.59245413e-04]\n",
      "0.6005065367760863 < 0.6278022884477266 < 0.6550980401193669 gives beta=0.000887. Target 0.001\n",
      "Fresh epsilons: [0.61415441]\n",
      "Chunk 0 laplace scale: [2.65051167e-06 1.62782344e-04]\n",
      "0.6005065367760863 < 0.6141544126119065 < 0.6278022884477266 gives beta=0.001082. Target 0.001\n",
      "Fresh epsilons: [0.62097835]\n",
      "Chunk 0 laplace scale: [2.59259376e-06 1.60994460e-04]\n",
      "0.6141544126119065 < 0.6209783505298165 < 0.6278022884477266 gives beta=0.00095. Target 0.001\n",
      "Fresh epsilons: [0.61756638]\n",
      "Chunk 0 laplace scale: [2.62131281e-06 1.61883467e-04]\n",
      "0.6141544126119065 < 0.6175663815708615 < 0.6209783505298165 gives beta=0.00102. Target 0.001\n",
      "Fresh epsilons: [0.61927237]\n",
      "Chunk 0 laplace scale: [2.60689397e-06 1.61437740e-04]\n",
      "0.6175663815708615 < 0.619272366050339 < 0.6209783505298165 gives beta=0.00101. Target 0.001\n",
      "Fresh epsilons: [0.62012536]\n",
      "Chunk 0 laplace scale: [2.59972912e-06 1.61215795e-04]\n",
      "0.619272366050339 < 0.6201253582900778 < 0.6209783505298165 gives beta=0.000998. Target 0.001\n",
      "Sufficient fresh eps for chunk 0: 447.2135843196179\n",
      "Fresh epsilons: [447.21358432]\n",
      "Chunk 0 laplace scale: [5.00000000e-11 2.23606792e-07]\n",
      "Fresh epsilons: [223.60679216]\n",
      "Chunk 0 laplace scale: [1.99999970e-10 4.47213517e-07]\n",
      "0 < 223.60679215980895 < 447.2135843196179 gives beta=0.0. Target 0.001\n",
      "Fresh epsilons: [111.80339608]\n",
      "Chunk 0 laplace scale: [7.99999400e-10 8.94426498e-07]\n",
      "0 < 111.80339607990447 < 223.60679215980895 gives beta=0.0. Target 0.001\n",
      "Fresh epsilons: [55.90169804]\n",
      "Chunk 0 laplace scale: [3.19998992e-09 1.78884870e-06]\n",
      "0 < 55.90169803995224 < 111.80339607990447 gives beta=0.0. Target 0.001\n",
      "Fresh epsilons: [27.95084902]\n",
      "Chunk 0 laplace scale: [1.27998368e-08 3.57766306e-06]\n",
      "0 < 27.95084901997612 < 55.90169803995224 gives beta=0.0. Target 0.001\n",
      "Fresh epsilons: [13.97542451]\n",
      "Chunk 0 laplace scale: [5.11973813e-08 7.15505137e-06]\n",
      "0 < 13.97542450998806 < 27.95084901997612 gives beta=0.0. Target 0.001\n",
      "Fresh epsilons: [6.98771225]\n",
      "Chunk 0 laplace scale: [2.04758076e-07 1.43079052e-05]\n",
      "0 < 6.98771225499403 < 13.97542450998806 gives beta=0.0. Target 0.001\n",
      "Fresh epsilons: [3.49385613]\n",
      "Chunk 0 laplace scale: [8.18529502e-07 2.85982431e-05]\n",
      "0 < 3.493856127497015 < 6.98771225499403 gives beta=0.0. Target 0.001\n",
      "Fresh epsilons: [1.74692806]\n",
      "Chunk 0 laplace scale: [3.26609781e-06 5.70563793e-05]\n",
      "0 < 1.7469280637485074 < 3.493856127497015 gives beta=0.0. Target 0.001\n",
      "Fresh epsilons: [0.87346403]\n",
      "Chunk 0 laplace scale: [1.29376246e-05 1.13005498e-04]\n",
      "0 < 0.8734640318742537 < 1.7469280637485074 gives beta=7.5e-05. Target 0.001\n",
      "Fresh epsilons: [0.43673202]\n",
      "Chunk 0 laplace scale: [4.98169591e-05 2.17566610e-04]\n",
      "0 < 0.43673201593712685 < 0.8734640318742537 gives beta=0.005368. Target 0.001\n",
      "Fresh epsilons: [0.65509802]\n",
      "Chunk 0 laplace scale: [2.27710853e-05 1.49172930e-04]\n",
      "0.43673201593712685 < 0.6550980239056903 < 0.8734640318742537 gives beta=0.000631. Target 0.001\n",
      "Fresh epsilons: [0.54591502]\n",
      "Chunk 0 laplace scale: [3.24650861e-05 1.77231781e-04]\n",
      "0.43673201593712685 < 0.5459150199214086 < 0.6550980239056903 gives beta=0.00179. Target 0.001\n",
      "Fresh epsilons: [0.60050652]\n",
      "Chunk 0 laplace scale: [2.69826819e-05 1.62032764e-04]\n",
      "0.5459150199214086 < 0.6005065219135495 < 0.6550980239056903 gives beta=0.001081. Target 0.001\n",
      "Fresh epsilons: [0.62780227]\n",
      "Chunk 0 laplace scale: [2.47441643e-05 1.55344426e-04]\n",
      "0.6005065219135495 < 0.6278022729096199 < 0.6550980239056903 gives beta=0.000841. Target 0.001\n",
      "Fresh epsilons: [0.6141544]\n",
      "Chunk 0 laplace scale: [2.58274052e-05 1.58620145e-04]\n",
      "0.6005065219135495 < 0.6141543974115846 < 0.6278022729096199 gives beta=0.000867. Target 0.001\n",
      "Fresh epsilons: [0.60733046]\n",
      "Chunk 0 laplace scale: [2.63956511e-05 1.60308829e-04]\n",
      "0.6005065219135495 < 0.607330459662567 < 0.6141543974115846 gives beta=0.000974. Target 0.001\n",
      "Fresh epsilons: [0.60391849]\n",
      "Chunk 0 laplace scale: [2.66867676e-05 1.61166324e-04]\n",
      "0.6005065219135495 < 0.6039184907880583 < 0.607330459662567 gives beta=0.001018. Target 0.001\n",
      "Fresh epsilons: [0.60562448]\n",
      "Chunk 0 laplace scale: [2.65406161e-05 1.60736467e-04]\n",
      "0.6039184907880583 < 0.6056244752253126 < 0.607330459662567 gives beta=0.000984. Target 0.001\n",
      "Fresh epsilons: [0.60477148]\n",
      "Chunk 0 laplace scale: [2.66135427e-05 1.60951117e-04]\n",
      "0.6039184907880583 < 0.6047714830066855 < 0.6056244752253126 gives beta=0.001025. Target 0.001\n",
      "Fresh epsilons: [0.60519798]\n",
      "Chunk 0 laplace scale: [2.65770422e-05 1.60843722e-04]\n",
      "0.6047714830066855 < 0.605197979115999 < 0.6056244752253126 gives beta=0.000997. Target 0.001\n",
      "Sufficient fresh eps for chunk 0: 447.21331599137335\n",
      "Fresh epsilons: [447.21331599]\n",
      "Chunk 0 laplace scale: [2.50000000e-10 2.23606658e-07]\n",
      "Fresh epsilons: [223.606658]\n",
      "Chunk 0 laplace scale: [9.99996250e-10 4.47211639e-07]\n",
      "0 < 223.60665799568667 < 447.21331599137335 gives beta=0.0. Target 0.001\n",
      "Fresh epsilons: [111.803329]\n",
      "Chunk 0 laplace scale: [3.99992500e-09 8.94409862e-07]\n",
      "0 < 111.80332899784334 < 223.60665799568667 gives beta=0.0. Target 0.001\n",
      "Fresh epsilons: [55.9016645]\n",
      "Chunk 0 laplace scale: [1.59987401e-08 1.78871240e-06]\n",
      "0 < 55.90166449892167 < 111.80332899784334 gives beta=0.0. Target 0.001\n",
      "Fresh epsilons: [27.95083225]\n",
      "Chunk 0 laplace scale: [6.39796065e-08 3.57656650e-06]\n",
      "0 < 27.950832249460834 < 55.90166449892167 gives beta=0.0. Target 0.001\n",
      "Fresh epsilons: [13.97541612]\n",
      "Chunk 0 laplace scale: [2.55673058e-07 7.14627476e-06]\n",
      "0 < 13.975416124730417 < 27.950832249460834 gives beta=0.0. Target 0.001\n",
      "Fresh epsilons: [6.98770806]\n",
      "Chunk 0 laplace scale: [1.01878509e-06 1.42379456e-05]\n",
      "0 < 6.987708062365209 < 13.975416124730417 gives beta=0.0. Target 0.001\n",
      "Fresh epsilons: [3.49385403]\n",
      "Chunk 0 laplace scale: [4.01380235e-06 2.80472790e-05]\n",
      "0 < 3.4938540311826043 < 6.987708062365209 gives beta=0.0. Target 0.001\n",
      "Fresh epsilons: [1.74692702]\n",
      "Chunk 0 laplace scale: [1.51434662e-05 5.29090604e-05]\n",
      "0 < 1.7469270155913021 < 3.4938540311826043 gives beta=0.0. Target 0.001\n",
      "Fresh epsilons: [0.87346351]\n",
      "Chunk 0 laplace scale: [4.93613384e-05 8.62306555e-05]\n",
      "0 < 0.8734635077956511 < 1.7469270155913021 gives beta=1e-05. Target 0.001\n",
      "Fresh epsilons: [0.43673175]\n",
      "Chunk 0 laplace scale: [1.13446952e-04 9.90917730e-05]\n",
      "0 < 0.43673175389782554 < 0.8734635077956511 gives beta=0.000262. Target 0.001\n",
      "Fresh epsilons: [0.21836588]\n",
      "Chunk 0 laplace scale: [1.67963538e-04 7.33550104e-05]\n",
      "0 < 0.21836587694891277 < 0.43673175389782554 gives beta=0.001618. Target 0.001\n",
      "Fresh epsilons: [0.32754882]\n",
      "Chunk 0 laplace scale: [1.39943038e-04 9.16763529e-05]\n",
      "0.21836587694891277 < 0.32754881542336917 < 0.43673175389782554 gives beta=0.00068. Target 0.001\n",
      "Fresh epsilons: [0.27295735]\n",
      "Chunk 0 laplace scale: [1.54080492e-04 8.41148046e-05]\n",
      "0.21836587694891277 < 0.272957346186141 < 0.32754881542336917 gives beta=0.001041. Target 0.001\n",
      "Fresh epsilons: [0.30025308]\n",
      "Chunk 0 laplace scale: [1.46993147e-04 8.82702903e-05]\n",
      "0.272957346186141 < 0.3002530808047551 < 0.32754881542336917 gives beta=0.000875. Target 0.001\n",
      "Fresh epsilons: [0.28660521]\n",
      "Chunk 0 laplace scale: [1.50537774e-04 8.62898219e-05]\n",
      "0.272957346186141 < 0.28660521349544804 < 0.3002530808047551 gives beta=0.001. Target 0.001\n",
      "Fresh epsilons: [0.29342915]\n",
      "Chunk 0 laplace scale: [1.48764954e-04 8.73039474e-05]\n",
      "0.28660521349544804 < 0.2934291471501016 < 0.3002530808047551 gives beta=0.000917. Target 0.001\n",
      "Fresh epsilons: [0.29001718]\n",
      "Chunk 0 laplace scale: [1.49651328e-04 8.68029125e-05]\n",
      "0.28660521349544804 < 0.2900171803227748 < 0.2934291471501016 gives beta=0.000886. Target 0.001\n",
      "Fresh epsilons: [0.2883112]\n",
      "Chunk 0 laplace scale: [1.50094554e-04 8.65478809e-05]\n",
      "0.28660521349544804 < 0.28831119690911144 < 0.2900171803227748 gives beta=0.000962. Target 0.001\n",
      "Fresh epsilons: [0.28745821]\n",
      "Chunk 0 laplace scale: [1.50316166e-04 8.64192307e-05]\n",
      "0.28660521349544804 < 0.2874582052022797 < 0.28831119690911144 gives beta=0.001032. Target 0.001\n",
      "Fresh epsilons: [0.2878847]\n",
      "Chunk 0 laplace scale: [1.50205360e-04 8.64836505e-05]\n",
      "0.2874582052022797 < 0.2878847010556956 < 0.28831119690911144 gives beta=0.000985. Target 0.001\n",
      "Fresh epsilons: [0.28767145]\n",
      "Chunk 0 laplace scale: [1.50260763e-04 8.64514643e-05]\n",
      "0.2874582052022797 < 0.2876714531289877 < 0.2878847010556956 gives beta=0.001042. Target 0.001\n",
      "Fresh epsilons: [0.28777808]\n",
      "Chunk 0 laplace scale: [1.50233062e-04 8.64675633e-05]\n",
      "0.2876714531289877 < 0.2877780770923416 < 0.2878847010556956 gives beta=0.000959. Target 0.001\n",
      "Fresh epsilons: [0.28772477]\n",
      "Chunk 0 laplace scale: [1.50246913e-04 8.64595153e-05]\n",
      "0.2876714531289877 < 0.28772476511066464 < 0.2877780770923416 gives beta=0.000975. Target 0.001\n",
      "Fresh epsilons: [0.28769811]\n",
      "Chunk 0 laplace scale: [1.50253838e-04 8.64554901e-05]\n",
      "0.2876714531289877 < 0.2876981091198262 < 0.28772476511066464 gives beta=0.000952. Target 0.001\n",
      "Fresh epsilons: [0.28768478]\n",
      "Chunk 0 laplace scale: [1.50257301e-04 8.64534773e-05]\n",
      "0.2876714531289877 < 0.28768478112440693 < 0.2876981091198262 gives beta=0.000992. Target 0.001\n",
      "Sufficient fresh eps for chunk 0: 447.21247746457163\n",
      "Fresh epsilons: [447.21247746]\n",
      "Chunk 0 laplace scale: [5.00000000e-10 2.23606239e-07]\n",
      "Fresh epsilons: [223.60623873]\n",
      "Chunk 0 laplace scale: [1.99997000e-09 4.47205769e-07]\n",
      "0 < 223.60623873228582 < 447.21247746457163 gives beta=0.0. Target 0.001\n",
      "Fresh epsilons: [111.80311937]\n",
      "Chunk 0 laplace scale: [7.99940004e-09 8.94357878e-07]\n",
      "0 < 111.80311936614291 < 223.60623873228582 gives beta=0.0. Target 0.001\n",
      "Fresh epsilons: [55.90155968]\n",
      "Chunk 0 laplace scale: [3.19899232e-08 1.78828660e-06]\n",
      "0 < 55.901559683071454 < 111.80311936614291 gives beta=0.0. Target 0.001\n",
      "Fresh epsilons: [27.95077984]\n",
      "Chunk 0 laplace scale: [1.27837008e-07 3.57314406e-06]\n",
      "0 < 27.950779841535727 < 55.901559683071454 gives beta=0.0. Target 0.001\n",
      "Fresh epsilons: [13.97538992]\n",
      "Chunk 0 laplace scale: [5.09394447e-07 7.11898603e-06]\n",
      "0 < 13.975389920767864 < 27.950779841535727 gives beta=0.0. Target 0.001\n",
      "Fresh epsilons: [6.98769496]\n",
      "Chunk 0 laplace scale: [2.00690855e-06 1.40236647e-05]\n",
      "0 < 6.987694960383932 < 13.975389920767864 gives beta=0.0. Target 0.001\n",
      "Fresh epsilons: [3.49384748]\n",
      "Chunk 0 laplace scale: [7.57175933e-06 2.64545723e-05]\n",
      "0 < 3.493847480191966 < 6.987694960383932 gives beta=0.0. Target 0.001\n",
      "Fresh epsilons: [1.74692374]\n",
      "Chunk 0 laplace scale: [2.46807389e-05 4.31153687e-05]\n",
      "0 < 1.746923740095983 < 3.493847480191966 gives beta=0.0. Target 0.001\n",
      "Fresh epsilons: [0.87346187]\n",
      "Chunk 0 laplace scale: [5.67235682e-05 4.95458740e-05]\n",
      "0 < 0.8734618700479915 < 1.746923740095983 gives beta=0.0. Target 0.001\n",
      "Fresh epsilons: [0.43673094]\n",
      "Chunk 0 laplace scale: [8.39818193e-05 3.66774585e-05]\n",
      "0 < 0.43673093502399574 < 0.8734618700479915 gives beta=9e-06. Target 0.001\n",
      "Fresh epsilons: [0.21836547]\n",
      "Chunk 0 laplace scale: [9.54486753e-05 2.08426946e-05]\n",
      "0 < 0.21836546751199787 < 0.43673093502399574 gives beta=9e-06. Target 0.001\n",
      "Fresh epsilons: [0.10918273]\n",
      "Chunk 0 laplace scale: [9.88219564e-05 1.07896514e-05]\n",
      "0 < 0.10918273375599893 < 0.21836546751199787 gives beta=1.7e-05. Target 0.001\n",
      "Fresh epsilons: [0.05459137]\n",
      "Chunk 0 laplace scale: [9.97028638e-05 5.44291562e-06]\n",
      "0 < 0.05459136687799947 < 0.10918273375599893 gives beta=1.6e-05. Target 0.001\n",
      "Fresh epsilons: [0.02729568]\n",
      "Chunk 0 laplace scale: [9.99255500e-05 2.72753618e-06]\n",
      "0 < 0.027295683438999734 < 0.05459136687799947 gives beta=1.4e-05. Target 0.001\n",
      "Fresh epsilons: [0.01364784]\n",
      "Chunk 0 laplace scale: [9.99813771e-05 1.36453001e-06]\n",
      "0 < 0.013647841719499867 < 0.027295683438999734 gives beta=2.2e-05. Target 0.001\n",
      "Fresh epsilons: [0.00682392]\n",
      "Chunk 0 laplace scale: [9.99953436e-05 6.82360311e-07]\n",
      "0 < 0.006823920859749933 < 0.013647841719499867 gives beta=1.5e-05. Target 0.001\n",
      "Fresh epsilons: [0.00341196]\n",
      "Chunk 0 laplace scale: [9.99988359e-05 3.41192071e-07]\n",
      "0 < 0.0034119604298749667 < 0.006823920859749933 gives beta=2.3e-05. Target 0.001\n",
      "Fresh epsilons: [0.00170598]\n",
      "Chunk 0 laplace scale: [9.99997090e-05 1.70597525e-07]\n",
      "0 < 0.0017059802149374833 < 0.0034119604298749667 gives beta=2.2e-05. Target 0.001\n",
      "Fresh epsilons: [0.00085299]\n",
      "Chunk 0 laplace scale: [9.99999272e-05 8.52989487e-08]\n",
      "0 < 0.0008529901074687417 < 0.0017059802149374833 gives beta=2.3e-05. Target 0.001\n",
      "Fresh epsilons: [0.0004265]\n",
      "Chunk 0 laplace scale: [9.99999818e-05 4.26494976e-08]\n",
      "0 < 0.00042649505373437084 < 0.0008529901074687417 gives beta=2.4e-05. Target 0.001\n",
      "Fresh epsilons: [0.00021325]\n",
      "Chunk 0 laplace scale: [9.99999955e-05 2.13247517e-08]\n",
      "0 < 0.00021324752686718542 < 0.00042649505373437084 gives beta=1.6e-05. Target 0.001\n",
      "Fresh epsilons: [0.00010662]\n",
      "Chunk 0 laplace scale: [9.99999989e-05 1.06623762e-08]\n",
      "0 < 0.00010662376343359271 < 0.00021324752686718542 gives beta=1.3e-05. Target 0.001\n",
      "Fresh epsilons: [5.33118817e-05]\n",
      "Chunk 0 laplace scale: [9.99999997e-05 5.33118816e-09]\n",
      "0 < 5.3311881716796355e-05 < 0.00010662376343359271 gives beta=2e-05. Target 0.001\n",
      "Fresh epsilons: [2.66559409e-05]\n",
      "Chunk 0 laplace scale: [9.99999999e-05 2.66559408e-09]\n",
      "0 < 2.6655940858398177e-05 < 5.3311881716796355e-05 gives beta=3.6e-05. Target 0.001\n",
      "Fresh epsilons: [1.33279704e-05]\n",
      "Chunk 0 laplace scale: [1.00000000e-04 1.33279704e-09]\n",
      "0 < 1.3327970429199089e-05 < 2.6655940858398177e-05 gives beta=2.3e-05. Target 0.001\n",
      "Fresh epsilons: [6.66398521e-06]\n",
      "Chunk 0 laplace scale: [1.00000000e-04 6.66398521e-10]\n",
      "0 < 6.663985214599544e-06 < 1.3327970429199089e-05 gives beta=2.4e-05. Target 0.001\n",
      "Fresh epsilons: [3.33199261e-06]\n",
      "Chunk 0 laplace scale: [1.00000000e-04 3.33199261e-10]\n",
      "0 < 3.331992607299772e-06 < 6.663985214599544e-06 gives beta=2.2e-05. Target 0.001\n",
      "Fresh epsilons: [1.6659963e-06]\n",
      "Chunk 0 laplace scale: [1.0000000e-04 1.6659963e-10]\n",
      "0 < 1.665996303649886e-06 < 3.331992607299772e-06 gives beta=1.7e-05. Target 0.001\n",
      "Fresh epsilons: [8.32998152e-07]\n",
      "Chunk 0 laplace scale: [1.00000000e-04 8.32998152e-11]\n",
      "0 < 8.32998151824943e-07 < 1.665996303649886e-06 gives beta=2.6e-05. Target 0.001\n",
      "Fresh epsilons: [4.16499076e-07]\n",
      "Chunk 0 laplace scale: [1.00000000e-04 4.16499076e-11]\n",
      "0 < 4.164990759124715e-07 < 8.32998151824943e-07 gives beta=2.7e-05. Target 0.001\n",
      "Fresh epsilons: [2.08249538e-07]\n",
      "Chunk 0 laplace scale: [1.00000000e-04 2.08249538e-11]\n",
      "0 < 2.0824953795623576e-07 < 4.164990759124715e-07 gives beta=2e-05. Target 0.001\n",
      "Fresh epsilons: [1.04124769e-07]\n",
      "Chunk 0 laplace scale: [1.00000000e-04 1.04124769e-11]\n",
      "0 < 1.0412476897811788e-07 < 2.0824953795623576e-07 gives beta=2.1e-05. Target 0.001\n",
      "Fresh epsilons: [5.20623845e-08]\n",
      "Chunk 0 laplace scale: [1.00000000e-04 5.20623845e-12]\n",
      "0 < 5.206238448905894e-08 < 1.0412476897811788e-07 gives beta=2.2e-05. Target 0.001\n",
      "Fresh epsilons: [2.60311922e-08]\n",
      "Chunk 0 laplace scale: [1.00000000e-04 2.60311922e-12]\n",
      "0 < 2.603119224452947e-08 < 5.206238448905894e-08 gives beta=2.4e-05. Target 0.001\n",
      "Fresh epsilons: [1.30155961e-08]\n",
      "Chunk 0 laplace scale: [1.00000000e-04 1.30155961e-12]\n",
      "0 < 1.3015596122264735e-08 < 2.603119224452947e-08 gives beta=1.8e-05. Target 0.001\n",
      "Fresh epsilons: [6.50779806e-09]\n",
      "Chunk 0 laplace scale: [1.00000000e-04 6.50779806e-13]\n",
      "0 < 6.5077980611323675e-09 < 1.3015596122264735e-08 gives beta=2.4e-05. Target 0.001\n",
      "Fresh epsilons: [3.25389903e-09]\n",
      "Chunk 0 laplace scale: [1.00000000e-04 3.25389903e-13]\n",
      "0 < 3.2538990305661838e-09 < 6.5077980611323675e-09 gives beta=2.5e-05. Target 0.001\n",
      "Fresh epsilons: [1.62694952e-09]\n",
      "Chunk 0 laplace scale: [1.00000000e-04 1.62694952e-13]\n",
      "0 < 1.6269495152830919e-09 < 3.2538990305661838e-09 gives beta=2.1e-05. Target 0.001\n",
      "Fresh epsilons: [8.13474758e-10]\n",
      "Chunk 0 laplace scale: [1.00000000e-04 8.13474758e-14]\n",
      "0 < 8.134747576415459e-10 < 1.6269495152830919e-09 gives beta=3.1e-05. Target 0.001\n",
      "Fresh epsilons: [4.06737379e-10]\n",
      "Chunk 0 laplace scale: [1.00000000e-04 4.06737379e-14]\n",
      "0 < 4.0673737882077297e-10 < 8.134747576415459e-10 gives beta=2.4e-05. Target 0.001\n",
      "Fresh epsilons: [2.03368689e-10]\n",
      "Chunk 0 laplace scale: [1.00000000e-04 2.03368689e-14]\n",
      "0 < 2.0336868941038648e-10 < 4.0673737882077297e-10 gives beta=2.1e-05. Target 0.001\n",
      "Fresh epsilons: [1.01684345e-10]\n",
      "Chunk 0 laplace scale: [1.00000000e-04 1.01684345e-14]\n",
      "0 < 1.0168434470519324e-10 < 2.0336868941038648e-10 gives beta=2.3e-05. Target 0.001\n",
      "Fresh epsilons: [5.08421724e-11]\n",
      "Chunk 0 laplace scale: [1.00000000e-04 5.08421724e-15]\n",
      "0 < 5.084217235259662e-11 < 1.0168434470519324e-10 gives beta=1.8e-05. Target 0.001\n",
      "Sufficient fresh eps for chunk 0: 447.1017781221631\n",
      "Fresh epsilons: [447.10177812]\n",
      "Chunk 0 laplace scale: [5.00000000e-09 2.23550889e-07]\n",
      "Fresh epsilons: [223.55088906]\n",
      "Chunk 0 laplace scale: [1.99700449e-08 4.46432130e-07]\n",
      "0 < 223.55088906108156 < 447.1017781221631 gives beta=0.0. Target 0.001\n",
      "Fresh epsilons: [111.77544453]\n",
      "Chunk 0 laplace scale: [7.94044665e-08 8.87546954e-07]\n",
      "0 < 111.77544453054078 < 223.55088906108156 gives beta=0.0. Target 0.001\n",
      "Fresh epsilons: [55.88772227]\n",
      "Chunk 0 laplace scale: [3.10227824e-07 1.73379264e-06]\n",
      "0 < 55.88772226527039 < 111.77544453054078 gives beta=0.0. Target 0.001\n",
      "Fresh epsilons: [27.94386113]\n",
      "Chunk 0 laplace scale: [1.13525499e-06 3.17234078e-06]\n",
      "0 < 27.943861132635195 < 55.88772226527039 gives beta=0.0. Target 0.001\n",
      "Fresh epsilons: [13.97193057]\n",
      "Chunk 0 laplace scale: [3.38736355e-06 4.73280083e-06]\n",
      "0 < 13.971930566317598 < 27.943861132635195 gives beta=0.0. Target 0.001\n",
      "Fresh epsilons: [6.98596528]\n",
      "Chunk 0 laplace scale: [6.72026251e-06 4.69475206e-06]\n",
      "0 < 6.985965283158799 < 13.971930566317598 gives beta=0.0. Target 0.001\n",
      "Fresh epsilons: [3.49298264]\n",
      "Chunk 0 laplace scale: [8.91258228e-06 3.11314952e-06]\n",
      "0 < 3.4929826415793994 < 6.985965283158799 gives beta=0.0. Target 0.001\n",
      "Fresh epsilons: [1.74649132]\n",
      "Chunk 0 laplace scale: [9.70400533e-06 1.69479611e-06]\n",
      "0 < 1.7464913207896997 < 3.4929826415793994 gives beta=0.0. Target 0.001\n",
      "Fresh epsilons: [0.87324566]\n",
      "Chunk 0 laplace scale: [9.9243213e-06 8.6663705e-07]\n",
      "0 < 0.8732456603948499 < 1.7464913207896997 gives beta=0.0. Target 0.001\n",
      "Fresh epsilons: [0.43662283]\n",
      "Chunk 0 laplace scale: [9.98097232e-06 4.35792038e-07]\n",
      "0 < 0.4366228301974249 < 0.8732456603948499 gives beta=0.0. Target 0.001\n",
      "Fresh epsilons: [0.21831142]\n",
      "Chunk 0 laplace scale: [9.99523628e-06 2.18207418e-07]\n",
      "0 < 0.21831141509871246 < 0.4366228301974249 gives beta=0.0. Target 0.001\n",
      "Fresh epsilons: [0.10915571]\n",
      "Chunk 0 laplace scale: [9.99880865e-06 1.09142703e-07]\n",
      "0 < 0.10915570754935623 < 0.21831141509871246 gives beta=0.0. Target 0.001\n",
      "Fresh epsilons: [0.05457785]\n",
      "Chunk 0 laplace scale: [9.99970213e-06 5.45762281e-08]\n",
      "0 < 0.054577853774678116 < 0.10915570754935623 gives beta=0.0. Target 0.001\n",
      "Fresh epsilons: [0.02728893]\n",
      "Chunk 0 laplace scale: [9.99992553e-06 2.72887237e-08]\n",
      "0 < 0.027288926887339058 < 0.054577853774678116 gives beta=0.0. Target 0.001\n",
      "Fresh epsilons: [0.01364446]\n",
      "Chunk 0 laplace scale: [9.99998138e-06 1.36444380e-08]\n",
      "0 < 0.013644463443669529 < 0.027288926887339058 gives beta=0.0. Target 0.001\n",
      "Fresh epsilons: [0.00682223]\n",
      "Chunk 0 laplace scale: [9.99999535e-06 6.82222855e-09]\n",
      "0 < 0.0068222317218347645 < 0.013644463443669529 gives beta=0.0. Target 0.001\n",
      "Fresh epsilons: [0.00341112]\n",
      "Chunk 0 laplace scale: [9.99999884e-06 3.41111546e-09]\n",
      "0 < 0.0034111158609173822 < 0.0068222317218347645 gives beta=0.0. Target 0.001\n",
      "Fresh epsilons: [0.00170556]\n",
      "Chunk 0 laplace scale: [9.99999971e-06 1.70555788e-09]\n",
      "0 < 0.0017055579304586911 < 0.0034111158609173822 gives beta=0.0. Target 0.001\n",
      "Fresh epsilons: [0.00085278]\n",
      "Chunk 0 laplace scale: [9.99999993e-06 8.52778959e-10]\n",
      "0 < 0.0008527789652293456 < 0.0017055579304586911 gives beta=0.0. Target 0.001\n",
      "Fresh epsilons: [0.00042639]\n",
      "Chunk 0 laplace scale: [9.99999998e-06 4.26389482e-10]\n",
      "0 < 0.0004263894826146728 < 0.0008527789652293456 gives beta=0.0. Target 0.001\n",
      "Fresh epsilons: [0.00021319]\n",
      "Chunk 0 laplace scale: [1.00000000e-05 2.13194741e-10]\n",
      "0 < 0.0002131947413073364 < 0.0004263894826146728 gives beta=0.0. Target 0.001\n",
      "Fresh epsilons: [0.0001066]\n",
      "Chunk 0 laplace scale: [1.00000000e-05 1.06597371e-10]\n",
      "0 < 0.0001065973706536682 < 0.0002131947413073364 gives beta=0.0. Target 0.001\n",
      "Fresh epsilons: [5.32986853e-05]\n",
      "Chunk 0 laplace scale: [1.00000000e-05 5.32986853e-11]\n",
      "0 < 5.32986853268341e-05 < 0.0001065973706536682 gives beta=0.0. Target 0.001\n",
      "Fresh epsilons: [2.66493427e-05]\n",
      "Chunk 0 laplace scale: [1.00000000e-05 2.66493427e-11]\n",
      "0 < 2.664934266341705e-05 < 5.32986853268341e-05 gives beta=0.0. Target 0.001\n",
      "Fresh epsilons: [1.33246713e-05]\n",
      "Chunk 0 laplace scale: [1.00000000e-05 1.33246713e-11]\n",
      "0 < 1.3324671331708524e-05 < 2.664934266341705e-05 gives beta=0.0. Target 0.001\n",
      "Fresh epsilons: [6.66233567e-06]\n",
      "Chunk 0 laplace scale: [1.00000000e-05 6.66233567e-12]\n",
      "0 < 6.662335665854262e-06 < 1.3324671331708524e-05 gives beta=0.0. Target 0.001\n",
      "Fresh epsilons: [3.33116783e-06]\n",
      "Chunk 0 laplace scale: [1.00000000e-05 3.33116783e-12]\n",
      "0 < 3.331167832927131e-06 < 6.662335665854262e-06 gives beta=0.0. Target 0.001\n",
      "Fresh epsilons: [1.66558392e-06]\n",
      "Chunk 0 laplace scale: [1.00000000e-05 1.66558392e-12]\n",
      "0 < 1.6655839164635655e-06 < 3.331167832927131e-06 gives beta=0.0. Target 0.001\n",
      "Fresh epsilons: [8.32791958e-07]\n",
      "Chunk 0 laplace scale: [1.00000000e-05 8.32791958e-13]\n",
      "0 < 8.327919582317828e-07 < 1.6655839164635655e-06 gives beta=0.0. Target 0.001\n",
      "Fresh epsilons: [4.16395979e-07]\n",
      "Chunk 0 laplace scale: [1.00000000e-05 4.16395979e-13]\n",
      "0 < 4.163959791158914e-07 < 8.327919582317828e-07 gives beta=0.0. Target 0.001\n",
      "Fresh epsilons: [2.0819799e-07]\n",
      "Chunk 0 laplace scale: [1.0000000e-05 2.0819799e-13]\n",
      "0 < 2.081979895579457e-07 < 4.163959791158914e-07 gives beta=0.0. Target 0.001\n",
      "Fresh epsilons: [1.04098995e-07]\n",
      "Chunk 0 laplace scale: [1.00000000e-05 1.04098995e-13]\n",
      "0 < 1.0409899477897285e-07 < 2.081979895579457e-07 gives beta=0.0. Target 0.001\n",
      "Fresh epsilons: [5.20494974e-08]\n",
      "Chunk 0 laplace scale: [1.00000000e-05 5.20494974e-14]\n",
      "0 < 5.2049497389486423e-08 < 1.0409899477897285e-07 gives beta=0.0. Target 0.001\n",
      "Fresh epsilons: [2.60247487e-08]\n",
      "Chunk 0 laplace scale: [1.00000000e-05 2.60247487e-14]\n",
      "0 < 2.6024748694743212e-08 < 5.2049497389486423e-08 gives beta=0.0. Target 0.001\n",
      "Fresh epsilons: [1.30123743e-08]\n",
      "Chunk 0 laplace scale: [1.00000000e-05 1.30123743e-14]\n",
      "0 < 1.3012374347371606e-08 < 2.6024748694743212e-08 gives beta=0.0. Target 0.001\n",
      "Fresh epsilons: [6.50618717e-09]\n",
      "Chunk 0 laplace scale: [1.00000000e-05 6.50618717e-15]\n",
      "0 < 6.506187173685803e-09 < 1.3012374347371606e-08 gives beta=0.0. Target 0.001\n",
      "Fresh epsilons: [3.25309359e-09]\n",
      "Chunk 0 laplace scale: [1.00000000e-05 3.25309359e-15]\n",
      "0 < 3.2530935868429015e-09 < 6.506187173685803e-09 gives beta=0.0. Target 0.001\n",
      "Fresh epsilons: [1.62654679e-09]\n",
      "Chunk 0 laplace scale: [1.00000000e-05 1.62654679e-15]\n",
      "0 < 1.6265467934214507e-09 < 3.2530935868429015e-09 gives beta=0.0. Target 0.001\n",
      "Fresh epsilons: [8.13273397e-10]\n",
      "Chunk 0 laplace scale: [1.00000000e-05 8.13273397e-16]\n",
      "0 < 8.132733967107254e-10 < 1.6265467934214507e-09 gives beta=0.0. Target 0.001\n",
      "Fresh epsilons: [4.06636698e-10]\n",
      "Chunk 0 laplace scale: [1.00000000e-05 4.06636698e-16]\n",
      "0 < 4.066366983553627e-10 < 8.132733967107254e-10 gives beta=0.0. Target 0.001\n",
      "Fresh epsilons: [2.03318349e-10]\n",
      "Chunk 0 laplace scale: [1.00000000e-05 2.03318349e-16]\n",
      "0 < 2.0331834917768134e-10 < 4.066366983553627e-10 gives beta=0.0. Target 0.001\n",
      "Fresh epsilons: [1.01659175e-10]\n",
      "Chunk 0 laplace scale: [1.00000000e-05 1.01659175e-16]\n",
      "0 < 1.0165917458884067e-10 < 2.0331834917768134e-10 gives beta=0.0. Target 0.001\n",
      "Fresh epsilons: [5.08295873e-11]\n",
      "Chunk 0 laplace scale: [1.00000000e-05 5.08295873e-17]\n",
      "0 < 5.0829587294420335e-11 < 1.0165917458884067e-10 gives beta=0.0. Target 0.001\n",
      "Sufficient fresh eps for chunk 0: 141.42135623727415\n",
      "Fresh epsilons: [141.42135624]\n",
      "Chunk 0 laplace scale: [5.00000000e-13 7.07106781e-07]\n",
      "Fresh epsilons: [70.71067812]\n",
      "Chunk 0 laplace scale: [2.00000000e-12 1.41421356e-06]\n",
      "0 < 70.71067811863708 < 141.42135623727415 gives beta=0.0. Target 0.001\n",
      "Fresh epsilons: [35.35533906]\n",
      "Chunk 0 laplace scale: [8.00000000e-12 2.82842712e-06]\n",
      "0 < 35.35533905931854 < 70.71067811863708 gives beta=0.0. Target 0.001\n",
      "Fresh epsilons: [17.67766953]\n",
      "Chunk 0 laplace scale: [3.20000000e-11 5.65685425e-06]\n",
      "0 < 17.67766952965927 < 35.35533905931854 gives beta=0.0. Target 0.001\n",
      "Fresh epsilons: [8.83883476]\n",
      "Chunk 0 laplace scale: [1.28000000e-10 1.13137085e-05]\n",
      "0 < 8.838834764829635 < 17.67766952965927 gives beta=0.0. Target 0.001\n",
      "Fresh epsilons: [4.41941738]\n",
      "Chunk 0 laplace scale: [5.1200000e-10 2.2627417e-05]\n",
      "0 < 4.419417382414817 < 8.838834764829635 gives beta=0.0. Target 0.001\n",
      "Fresh epsilons: [2.20970869]\n",
      "Chunk 0 laplace scale: [2.04800000e-09 4.52548339e-05]\n",
      "0 < 2.2097086912074086 < 4.419417382414817 gives beta=0.0. Target 0.001\n",
      "Fresh epsilons: [1.10485435]\n",
      "Chunk 0 laplace scale: [8.19199993e-09 9.05096673e-05]\n",
      "0 < 1.1048543456037043 < 2.2097086912074086 gives beta=0.0. Target 0.001\n",
      "Fresh epsilons: [0.55242717]\n",
      "Chunk 0 laplace scale: [3.27679989e-08 1.81019330e-04]\n",
      "0 < 0.5524271728018522 < 1.1048543456037043 gives beta=0.0. Target 0.001\n",
      "Fresh epsilons: [0.27621359]\n",
      "Chunk 0 laplace scale: [1.31071983e-07 3.62038625e-04]\n",
      "0 < 0.2762135864009261 < 0.5524271728018522 gives beta=0.0. Target 0.001\n",
      "Fresh epsilons: [0.13810679]\n",
      "Chunk 0 laplace scale: [5.24287725e-07 7.24076964e-04]\n",
      "0 < 0.13810679320046304 < 0.2762135864009261 gives beta=0.0. Target 0.001\n",
      "Fresh epsilons: [0.0690534]\n",
      "Chunk 0 laplace scale: [2.09714760e-06 1.44815165e-03]\n",
      "0 < 0.06905339660023152 < 0.13810679320046304 gives beta=0.000522. Target 0.001\n",
      "Fresh epsilons: [0.0345267]\n",
      "Chunk 0 laplace scale: [8.38853763e-06 2.89628508e-03]\n",
      "0 < 0.03452669830011576 < 0.06905339660023152 gives beta=0.015691. Target 0.001\n",
      "Fresh epsilons: [0.05179005]\n",
      "Chunk 0 laplace scale: [3.72825632e-06 1.93086572e-03]\n",
      "0.03452669830011576 < 0.05179004745017364 < 0.06905339660023152 gives beta=0.002797. Target 0.001\n",
      "Fresh epsilons: [0.06042172]\n",
      "Chunk 0 laplace scale: [2.7391298e-06 1.6550294e-03]\n",
      "0.05179004745017364 < 0.06042172202520258 < 0.06905339660023152 gives beta=0.001174. Target 0.001\n",
      "Fresh epsilons: [0.06473756]\n",
      "Chunk 0 laplace scale: [2.38608725e-06 1.54469465e-03]\n",
      "0.06042172202520258 < 0.06473755931271705 < 0.06905339660023152 gives beta=0.000722. Target 0.001\n",
      "Fresh epsilons: [0.06257964]\n",
      "Chunk 0 laplace scale: [2.55348177e-06 1.59795971e-03]\n",
      "0.06042172202520258 < 0.06257964066895981 < 0.06473755931271705 gives beta=0.000956. Target 0.001\n",
      "Fresh epsilons: [0.06150068]\n",
      "Chunk 0 laplace scale: [2.64386331e-06 1.62599395e-03]\n",
      "0.06042172202520258 < 0.0615006813470812 < 0.06257964066895981 gives beta=0.001153. Target 0.001\n",
      "Fresh epsilons: [0.06204016]\n",
      "Chunk 0 laplace scale: [2.59808311e-06 1.61185494e-03]\n",
      "0.0615006813470812 < 0.062040161008020504 < 0.06257964066895981 gives beta=0.001041. Target 0.001\n",
      "Fresh epsilons: [0.0623099]\n",
      "Chunk 0 laplace scale: [2.57563763e-06 1.60487725e-03]\n",
      "0.062040161008020504 < 0.062309900838490154 < 0.06257964066895981 gives beta=0.00103. Target 0.001\n",
      "Fresh epsilons: [0.06244477]\n",
      "Chunk 0 laplace scale: [2.56452381e-06 1.60141101e-03]\n",
      "0.062309900838490154 < 0.06244477075372498 < 0.06257964066895981 gives beta=0.000976. Target 0.001\n",
      "Fresh epsilons: [0.06237734]\n",
      "Chunk 0 laplace scale: [2.57007171e-06 1.60314226e-03]\n",
      "0.062309900838490154 < 0.06237733579610757 < 0.06244477075372498 gives beta=0.000931. Target 0.001\n",
      "Fresh epsilons: [0.06234362]\n",
      "Chunk 0 laplace scale: [2.57285241e-06 1.60400929e-03]\n",
      "0.062309900838490154 < 0.06234361831729886 < 0.06237733579610757 gives beta=0.001012. Target 0.001\n",
      "Fresh epsilons: [0.06236048]\n",
      "Chunk 0 laplace scale: [2.57146149e-06 1.60357566e-03]\n",
      "0.06234361831729886 < 0.06236047705670321 < 0.06237733579610757 gives beta=0.001001. Target 0.001\n",
      "Fresh epsilons: [0.06236891]\n",
      "Chunk 0 laplace scale: [2.57076646e-06 1.60335893e-03]\n",
      "0.06236047705670321 < 0.062368906426405385 < 0.06237733579610757 gives beta=0.00098. Target 0.001\n",
      "Fresh epsilons: [0.06236469]\n",
      "Chunk 0 laplace scale: [2.57111394e-06 1.60346728e-03]\n",
      "0.06236047705670321 < 0.0623646917415543 < 0.062368906426405385 gives beta=0.001024. Target 0.001\n",
      "Fresh epsilons: [0.0623668]\n",
      "Chunk 0 laplace scale: [2.57094019e-06 1.60341310e-03]\n",
      "0.0623646917415543 < 0.06236679908397984 < 0.062368906426405385 gives beta=0.000952. Target 0.001\n",
      "Fresh epsilons: [0.06236575]\n",
      "Chunk 0 laplace scale: [2.57102706e-06 1.60344019e-03]\n",
      "0.0623646917415543 < 0.06236574541276707 < 0.06236679908397984 gives beta=0.000951. Target 0.001\n",
      "Fresh epsilons: [0.06236522]\n",
      "Chunk 0 laplace scale: [2.57107050e-06 1.60345374e-03]\n",
      "0.0623646917415543 < 0.06236521857716068 < 0.06236574541276707 gives beta=0.000958. Target 0.001\n",
      "Fresh epsilons: [0.06236496]\n",
      "Chunk 0 laplace scale: [2.57109222e-06 1.60346051e-03]\n",
      "0.0623646917415543 < 0.062364955159357485 < 0.06236521857716068 gives beta=0.000924. Target 0.001\n",
      "Fresh epsilons: [0.06236482]\n",
      "Chunk 0 laplace scale: [2.57110308e-06 1.60346390e-03]\n",
      "0.0623646917415543 < 0.062364823450455895 < 0.062364955159357485 gives beta=0.000973. Target 0.001\n",
      "Fresh epsilons: [0.06236476]\n",
      "Chunk 0 laplace scale: [2.57110851e-06 1.60346559e-03]\n",
      "0.0623646917415543 < 0.0623647575960051 < 0.062364823450455895 gives beta=0.000979. Target 0.001\n",
      "Fresh epsilons: [0.06236472]\n",
      "Chunk 0 laplace scale: [2.57111123e-06 1.60346644e-03]\n",
      "0.0623646917415543 < 0.062364724668779695 < 0.0623647575960051 gives beta=0.000933. Target 0.001\n",
      "Fresh epsilons: [0.06236471]\n",
      "Chunk 0 laplace scale: [2.57111258e-06 1.60346686e-03]\n",
      "0.0623646917415543 < 0.062364708205167 < 0.062364724668779695 gives beta=0.00101. Target 0.001\n",
      "Fresh epsilons: [0.06236472]\n",
      "Chunk 0 laplace scale: [2.57111191e-06 1.60346665e-03]\n",
      "0.062364708205167 < 0.06236471643697335 < 0.062364724668779695 gives beta=0.000937. Target 0.001\n",
      "Fresh epsilons: [0.06236471]\n",
      "Chunk 0 laplace scale: [2.57111224e-06 1.60346675e-03]\n",
      "0.062364708205167 < 0.06236471232107017 < 0.06236471643697335 gives beta=0.000974. Target 0.001\n",
      "Fresh epsilons: [0.06236471]\n",
      "Chunk 0 laplace scale: [2.57111241e-06 1.60346681e-03]\n",
      "0.062364708205167 < 0.062364710263118586 < 0.06236471232107017 gives beta=0.000955. Target 0.001\n",
      "Fresh epsilons: [0.06236471]\n",
      "Chunk 0 laplace scale: [2.57111250e-06 1.60346683e-03]\n",
      "0.062364708205167 < 0.06236470923414279 < 0.062364710263118586 gives beta=0.000942. Target 0.001\n",
      "Fresh epsilons: [0.06236471]\n",
      "Chunk 0 laplace scale: [2.57111254e-06 1.60346685e-03]\n",
      "0.062364708205167 < 0.062364708719654896 < 0.06236470923414279 gives beta=0.000984. Target 0.001\n",
      "Fresh epsilons: [0.06236471]\n",
      "Chunk 0 laplace scale: [2.57111256e-06 1.60346685e-03]\n",
      "0.062364708205167 < 0.06236470846241095 < 0.062364708719654896 gives beta=0.000983. Target 0.001\n",
      "Fresh epsilons: [0.06236471]\n",
      "Chunk 0 laplace scale: [2.57111257e-06 1.60346686e-03]\n",
      "0.062364708205167 < 0.062364708333788973 < 0.06236470846241095 gives beta=0.000984. Target 0.001\n",
      "Fresh epsilons: [0.06236471]\n",
      "Chunk 0 laplace scale: [2.57111258e-06 1.60346686e-03]\n",
      "0.062364708205167 < 0.062364708269477986 < 0.062364708333788973 gives beta=0.000948. Target 0.001\n",
      "Sufficient fresh eps for chunk 0: 141.42135623377396\n",
      "Fresh epsilons: [141.42135623]\n",
      "Chunk 0 laplace scale: [5.00000000e-12 7.07106781e-07]\n",
      "Fresh epsilons: [70.71067812]\n",
      "Chunk 0 laplace scale: [2.00000000e-11 1.41421356e-06]\n",
      "0 < 70.71067811688698 < 141.42135623377396 gives beta=0.0. Target 0.001\n",
      "Fresh epsilons: [35.35533906]\n",
      "Chunk 0 laplace scale: [7.99999999e-11 2.82842712e-06]\n",
      "0 < 35.35533905844349 < 70.71067811688698 gives beta=0.0. Target 0.001\n",
      "Fresh epsilons: [17.67766953]\n",
      "Chunk 0 laplace scale: [3.19999999e-10 5.65685423e-06]\n",
      "0 < 17.677669529221745 < 35.35533905844349 gives beta=0.0. Target 0.001\n",
      "Fresh epsilons: [8.83883476]\n",
      "Chunk 0 laplace scale: [1.27999998e-09 1.13137084e-05]\n",
      "0 < 8.838834764610873 < 17.677669529221745 gives beta=0.0. Target 0.001\n",
      "Fresh epsilons: [4.41941738]\n",
      "Chunk 0 laplace scale: [5.11999974e-09 2.26274158e-05]\n",
      "0 < 4.419417382305436 < 8.838834764610873 gives beta=0.0. Target 0.001\n",
      "Fresh epsilons: [2.20970869]\n",
      "Chunk 0 laplace scale: [2.04799958e-08 4.52548247e-05]\n",
      "0 < 2.209708691152718 < 4.419417382305436 gives beta=0.0. Target 0.001\n",
      "Fresh epsilons: [1.10485435]\n",
      "Chunk 0 laplace scale: [8.19199329e-08 9.05095938e-05]\n",
      "0 < 1.104854345576359 < 2.209708691152718 gives beta=0.0. Target 0.001\n",
      "Fresh epsilons: [0.55242717]\n",
      "Chunk 0 laplace scale: [3.27678926e-07 1.81018743e-04]\n",
      "0 < 0.5524271727881795 < 1.104854345576359 gives beta=0.0. Target 0.001\n",
      "Fresh epsilons: [0.27621359]\n",
      "Chunk 0 laplace scale: [1.31070282e-06 3.62033927e-04]\n",
      "0 < 0.27621358639408977 < 0.5524271727881795 gives beta=0.0. Target 0.001\n",
      "Fresh epsilons: [0.13810679]\n",
      "Chunk 0 laplace scale: [5.24260514e-06 7.24039383e-04]\n",
      "0 < 0.13810679319704489 < 0.27621358639408977 gives beta=1e-06. Target 0.001\n",
      "Fresh epsilons: [0.0690534]\n",
      "Chunk 0 laplace scale: [2.09671229e-05 1.44785105e-03]\n",
      "0 < 0.06905339659852244 < 0.13810679319704489 gives beta=0.000519. Target 0.001\n",
      "Fresh epsilons: [0.0345267]\n",
      "Chunk 0 laplace scale: [8.38157702e-05 2.89388181e-03]\n",
      "0 < 0.03452669829926122 < 0.06905339659852244 gives beta=0.015926. Target 0.001\n",
      "Fresh epsilons: [0.05179005]\n",
      "Chunk 0 laplace scale: [3.72688074e-05 1.93015330e-03]\n",
      "0.03452669829926122 < 0.05179004744889183 < 0.06905339659852244 gives beta=0.002741. Target 0.001\n",
      "Fresh epsilons: [0.06042172]\n",
      "Chunk 0 laplace scale: [2.73838722e-05 1.65458072e-03]\n",
      "0.05179004744889183 < 0.06042172202370714 < 0.06905339659852244 gives beta=0.001145. Target 0.001\n",
      "Fresh epsilons: [0.06473756]\n",
      "Chunk 0 laplace scale: [2.38552373e-05 1.54432984e-03]\n",
      "0.06042172202370714 < 0.06473755931111479 < 0.06905339659852244 gives beta=0.000781. Target 0.001\n",
      "Fresh epsilons: [0.06257964]\n",
      "Chunk 0 laplace scale: [2.55283642e-05 1.59755586e-03]\n",
      "0.06042172202370714 < 0.06257964066741097 < 0.06473755931111479 gives beta=0.000946. Target 0.001\n",
      "Fresh epsilons: [0.06150068]\n",
      "Chunk 0 laplace scale: [2.64317148e-05 1.62556847e-03]\n",
      "0.06042172202370714 < 0.061500681345559055 < 0.06257964066741097 gives beta=0.001. Target 0.001\n",
      "Fresh epsilons: [0.06204016]\n",
      "Chunk 0 laplace scale: [2.59741503e-05 1.61144046e-03]\n",
      "0.061500681345559055 < 0.06204016100648501 < 0.06257964066741097 gives beta=0.001016. Target 0.001\n",
      "Fresh epsilons: [0.0623099]\n",
      "Chunk 0 laplace scale: [2.57498104e-05 1.60446813e-03]\n",
      "0.06204016100648501 < 0.062309900836947985 < 0.06257964066741097 gives beta=0.000966. Target 0.001\n",
      "Fresh epsilons: [0.06217503]\n",
      "Chunk 0 laplace scale: [2.58616155e-05 1.60794674e-03]\n",
      "0.06204016100648501 < 0.0621750309217165 < 0.062309900836947985 gives beta=0.001004. Target 0.001\n",
      "Fresh epsilons: [0.06224247]\n",
      "Chunk 0 laplace scale: [2.58056221e-05 1.60620555e-03]\n",
      "0.0621750309217165 < 0.06224246587933224 < 0.062309900836947985 gives beta=0.000985. Target 0.001\n",
      "Fresh epsilons: [0.06220875]\n",
      "Chunk 0 laplace scale: [2.58335960e-05 1.60707568e-03]\n",
      "0.0621750309217165 < 0.06220874840052437 < 0.06224246587933224 gives beta=0.000972. Target 0.001\n",
      "Fresh epsilons: [0.06219189]\n",
      "Chunk 0 laplace scale: [2.58476001e-05 1.60751109e-03]\n",
      "0.0621750309217165 < 0.062191889661120436 < 0.06220874840052437 gives beta=0.001005. Target 0.001\n",
      "Fresh epsilons: [0.06220032]\n",
      "Chunk 0 laplace scale: [2.58405966e-05 1.60729335e-03]\n",
      "0.062191889661120436 < 0.062200319030822404 < 0.06220874840052437 gives beta=0.000979. Target 0.001\n",
      "Fresh epsilons: [0.0621961]\n",
      "Chunk 0 laplace scale: [2.58440980e-05 1.60740222e-03]\n",
      "0.062191889661120436 < 0.06219610434597142 < 0.062200319030822404 gives beta=0.001006. Target 0.001\n",
      "Fresh epsilons: [0.06219821]\n",
      "Chunk 0 laplace scale: [2.58423472e-05 1.60734778e-03]\n",
      "0.06219610434597142 < 0.06219821168839691 < 0.062200319030822404 gives beta=0.000978. Target 0.001\n",
      "Fresh epsilons: [0.06219716]\n",
      "Chunk 0 laplace scale: [2.58432226e-05 1.60737500e-03]\n",
      "0.06219610434597142 < 0.062197158017184166 < 0.06219821168839691 gives beta=0.000992. Target 0.001\n",
      "Sufficient fresh eps for chunk 0: 141.42135588375612\n",
      "Fresh epsilons: [141.42135588]\n",
      "Chunk 0 laplace scale: [5.00000000e-11 7.07106779e-07]\n",
      "Fresh epsilons: [70.71067794]\n",
      "Chunk 0 laplace scale: [1.99999997e-10 1.41421354e-06]\n",
      "0 < 70.71067794187806 < 141.42135588375612 gives beta=0.0. Target 0.001\n",
      "Fresh epsilons: [35.35533897]\n",
      "Chunk 0 laplace scale: [7.99999940e-10 2.82842691e-06]\n",
      "0 < 35.35533897093903 < 70.71067794187806 gives beta=0.0. Target 0.001\n",
      "Fresh epsilons: [17.67766949]\n",
      "Chunk 0 laplace scale: [3.19999899e-09 5.65685245e-06]\n",
      "0 < 17.677669485469515 < 35.35533897093903 gives beta=0.0. Target 0.001\n",
      "Fresh epsilons: [8.83883474]\n",
      "Chunk 0 laplace scale: [1.27999837e-08 1.13136940e-05]\n",
      "0 < 8.838834742734758 < 17.677669485469515 gives beta=0.0. Target 0.001\n",
      "Fresh epsilons: [4.41941737]\n",
      "Chunk 0 laplace scale: [5.11997381e-08 2.26273012e-05]\n",
      "0 < 4.419417371367379 < 8.838834742734758 gives beta=0.0. Target 0.001\n",
      "Fresh epsilons: [2.20970869]\n",
      "Chunk 0 laplace scale: [2.04795807e-07 4.52539073e-05]\n",
      "0 < 2.2097086856836894 < 4.419417371367379 gives beta=0.0. Target 0.001\n",
      "Fresh epsilons: [1.10485434]\n",
      "Chunk 0 laplace scale: [8.19132901e-07 9.05022543e-05]\n",
      "0 < 1.1048543428418447 < 2.2097086856836894 gives beta=0.0. Target 0.001\n",
      "Fresh epsilons: [0.55242717]\n",
      "Chunk 0 laplace scale: [3.27572663e-06 1.80960039e-04]\n",
      "0 < 0.5524271714209223 < 1.1048543428418447 gives beta=0.0. Target 0.001\n",
      "Fresh epsilons: [0.27621359]\n",
      "Chunk 0 laplace scale: [1.30900427e-05 3.61564763e-04]\n",
      "0 < 0.2762135857104612 < 0.5524271714209223 gives beta=0.0. Target 0.001\n",
      "Fresh epsilons: [0.13810679]\n",
      "Chunk 0 laplace scale: [5.21553560e-05 7.20300895e-04]\n",
      "0 < 0.1381067928552306 < 0.2762135857104612 gives beta=0.0. Target 0.001\n",
      "Fresh epsilons: [0.0690534]\n",
      "Chunk 0 laplace scale: [0.00020541 0.00141841]\n",
      "0 < 0.0690533964276153 < 0.1381067928552306 gives beta=0.000414. Target 0.001\n",
      "Fresh epsilons: [0.0345267]\n",
      "Chunk 0 laplace scale: [0.00077394 0.00267215]\n",
      "0 < 0.03452669821380765 < 0.0690533964276153 gives beta=0.01292. Target 0.001\n",
      "Fresh epsilons: [0.05179005]\n",
      "Chunk 0 laplace scale: [0.00035943 0.00186147]\n",
      "0.03452669821380765 < 0.05179004732071147 < 0.0690533964276153 gives beta=0.002438. Target 0.001\n",
      "Fresh epsilons: [0.06042172]\n",
      "Chunk 0 laplace scale: [0.00026661 0.00161091]\n",
      "0.05179004732071147 < 0.06042172187416338 < 0.0690533964276153 gives beta=0.001005. Target 0.001\n",
      "Fresh epsilons: [0.06473756]\n",
      "Chunk 0 laplace scale: [0.00023305 0.0015087 ]\n",
      "0.06042172187416338 < 0.06473755915088933 < 0.0690533964276153 gives beta=0.000652. Target 0.001\n",
      "Fresh epsilons: [0.06257964]\n",
      "Chunk 0 laplace scale: [0.00024899 0.00155818]\n",
      "0.06042172187416338 < 0.06257964051252635 < 0.06473755915088933 gives beta=0.000761. Target 0.001\n",
      "Fresh epsilons: [0.06150068]\n",
      "Chunk 0 laplace scale: [0.00025758 0.00158412]\n",
      "0.06042172187416338 < 0.06150068119334486 < 0.06257964051252635 gives beta=0.000971. Target 0.001\n",
      "Fresh epsilons: [0.0609612]\n",
      "Chunk 0 laplace scale: [0.00026204 0.0015974 ]\n",
      "0.06042172187416338 < 0.06096120153375412 < 0.06150068119334486 gives beta=0.000973. Target 0.001\n",
      "Fresh epsilons: [0.06069146]\n",
      "Chunk 0 laplace scale: [0.00026431 0.00160413]\n",
      "0.06042172187416338 < 0.06069146170395875 < 0.06096120153375412 gives beta=0.00099. Target 0.001\n",
      "Sufficient fresh eps for chunk 0: 141.42132088196604\n",
      "Fresh epsilons: [141.42132088]\n",
      "Chunk 0 laplace scale: [5.00000000e-10 7.07106604e-07]\n",
      "Fresh epsilons: [70.71066044]\n",
      "Chunk 0 laplace scale: [1.99999700e-09 1.41421109e-06]\n",
      "0 < 70.71066044098302 < 141.42132088196604 gives beta=0.0. Target 0.001\n",
      "Fresh epsilons: [35.35533022]\n",
      "Chunk 0 laplace scale: [7.9999400e-09 2.8284052e-06]\n",
      "0 < 35.35533022049151 < 70.71066044098302 gives beta=0.0. Target 0.001\n",
      "Fresh epsilons: [17.67766511]\n",
      "Chunk 0 laplace scale: [3.19989920e-08 5.65667465e-06]\n",
      "0 < 17.677665110245755 < 35.35533022049151 gives beta=0.0. Target 0.001\n",
      "Fresh epsilons: [8.83883256]\n",
      "Chunk 0 laplace scale: [1.27983682e-07 1.13122634e-05]\n",
      "0 < 8.838832555122877 < 17.677665110245755 gives beta=0.0. Target 0.001\n",
      "Fresh epsilons: [4.41941628]\n",
      "Chunk 0 laplace scale: [5.11738246e-07 2.26158433e-05]\n",
      "0 < 4.419416277561439 < 8.838832555122877 gives beta=0.0. Target 0.001\n",
      "Fresh epsilons: [2.20970814]\n",
      "Chunk 0 laplace scale: [2.04381529e-06 4.51623528e-05]\n",
      "0 < 2.2097081387807194 < 4.419416277561439 gives beta=0.0. Target 0.001\n",
      "Fresh epsilons: [1.10485407]\n",
      "Chunk 0 laplace scale: [8.12544045e-06 8.97742595e-05]\n",
      "0 < 1.1048540693903597 < 2.2097081387807194 gives beta=0.0. Target 0.001\n",
      "Fresh epsilons: [0.55242703]\n",
      "Chunk 0 laplace scale: [3.17283416e-05 1.75275936e-04]\n",
      "0 < 0.5524270346951798 < 1.1048540693903597 gives beta=0.0. Target 0.001\n",
      "Fresh epsilons: [0.27621352]\n",
      "Chunk 0 laplace scale: [0.00011588 0.00032008]\n",
      "0 < 0.2762135173475899 < 0.5524270346951798 gives beta=0.0. Target 0.001\n",
      "Fresh epsilons: [0.13810676]\n",
      "Chunk 0 laplace scale: [0.00034396 0.00047503]\n",
      "0 < 0.13810675867379496 < 0.2762135173475899 gives beta=0.0. Target 0.001\n",
      "Fresh epsilons: [0.06905338]\n",
      "Chunk 0 laplace scale: [0.00067712 0.00046758]\n",
      "0 < 0.06905337933689748 < 0.13810675867379496 gives beta=0.0. Target 0.001\n",
      "Fresh epsilons: [0.03452669]\n",
      "Chunk 0 laplace scale: [0.00089349 0.00030849]\n",
      "0 < 0.03452668966844874 < 0.06905337933689748 gives beta=1.1e-05. Target 0.001\n",
      "Fresh epsilons: [0.01726334]\n",
      "Chunk 0 laplace scale: [0.00097106 0.00016764]\n",
      "0 < 0.01726334483422437 < 0.03452668966844874 gives beta=1.1e-05. Target 0.001\n",
      "Fresh epsilons: [0.00863167]\n",
      "Chunk 0 laplace scale: [9.92604524e-04 8.56783709e-05]\n",
      "0 < 0.008631672417112185 < 0.01726334483422437 gives beta=2.7e-05. Target 0.001\n",
      "Fresh epsilons: [0.00431584]\n",
      "Chunk 0 laplace scale: [9.98140819e-04 4.30781229e-05]\n",
      "0 < 0.0043158362085560925 < 0.008631672417112185 gives beta=1.9e-05. Target 0.001\n",
      "Fresh epsilons: [0.00215792]\n",
      "Chunk 0 laplace scale: [9.99534556e-04 2.15691371e-05]\n",
      "0 < 0.0021579181042780463 < 0.0043158362085560925 gives beta=2.2e-05. Target 0.001\n",
      "Fresh epsilons: [0.00107896]\n",
      "Chunk 0 laplace scale: [9.99883598e-04 1.07883346e-05]\n",
      "0 < 0.0010789590521390231 < 0.0021579181042780463 gives beta=2.2e-05. Target 0.001\n",
      "Fresh epsilons: [0.00053948]\n",
      "Chunk 0 laplace scale: [9.99970897e-04 5.39463826e-06]\n",
      "0 < 0.0005394795260695116 < 0.0010789590521390231 gives beta=2.1e-05. Target 0.001\n",
      "Fresh epsilons: [0.00026974]\n",
      "Chunk 0 laplace scale: [9.99992724e-04 2.69737800e-06]\n",
      "0 < 0.0002697397630347558 < 0.0005394795260695116 gives beta=2.9e-05. Target 0.001\n",
      "Fresh epsilons: [0.00013487]\n",
      "Chunk 0 laplace scale: [9.99998181e-04 1.34869636e-06]\n",
      "0 < 0.0001348698815173779 < 0.0002697397630347558 gives beta=2e-05. Target 0.001\n",
      "Fresh epsilons: [6.74349408e-05]\n",
      "Chunk 0 laplace scale: [9.99999545e-04 6.74349101e-07]\n",
      "0 < 6.743494075868895e-05 < 0.0001348698815173779 gives beta=2.3e-05. Target 0.001\n",
      "Fresh epsilons: [3.37174704e-05]\n",
      "Chunk 0 laplace scale: [9.99999886e-04 3.37174665e-07]\n",
      "0 < 3.371747037934447e-05 < 6.743494075868895e-05 gives beta=1.4e-05. Target 0.001\n",
      "Fresh epsilons: [1.68587352e-05]\n",
      "Chunk 0 laplace scale: [9.99999972e-04 1.68587347e-07]\n",
      "0 < 1.6858735189672236e-05 < 3.371747037934447e-05 gives beta=2.2e-05. Target 0.001\n",
      "Fresh epsilons: [8.42936759e-06]\n",
      "Chunk 0 laplace scale: [9.99999993e-04 8.42936753e-08]\n",
      "0 < 8.429367594836118e-06 < 1.6858735189672236e-05 gives beta=2.5e-05. Target 0.001\n",
      "Fresh epsilons: [4.2146838e-06]\n",
      "Chunk 0 laplace scale: [9.99999998e-04 4.21468379e-08]\n",
      "0 < 4.214683797418059e-06 < 8.429367594836118e-06 gives beta=1.8e-05. Target 0.001\n",
      "Fresh epsilons: [2.1073419e-06]\n",
      "Chunk 0 laplace scale: [1.0000000e-03 2.1073419e-08]\n",
      "0 < 2.1073418987090295e-06 < 4.214683797418059e-06 gives beta=2.5e-05. Target 0.001\n",
      "Fresh epsilons: [1.05367095e-06]\n",
      "Chunk 0 laplace scale: [1.00000000e-03 1.05367095e-08]\n",
      "0 < 1.0536709493545148e-06 < 2.1073418987090295e-06 gives beta=2.2e-05. Target 0.001\n",
      "Fresh epsilons: [5.26835475e-07]\n",
      "Chunk 0 laplace scale: [1.00000000e-03 5.26835475e-09]\n",
      "0 < 5.268354746772574e-07 < 1.0536709493545148e-06 gives beta=2.9e-05. Target 0.001\n",
      "Fresh epsilons: [2.63417737e-07]\n",
      "Chunk 0 laplace scale: [1.00000000e-03 2.63417737e-09]\n",
      "0 < 2.634177373386287e-07 < 5.268354746772574e-07 gives beta=1.9e-05. Target 0.001\n",
      "Fresh epsilons: [1.31708869e-07]\n",
      "Chunk 0 laplace scale: [1.00000000e-03 1.31708869e-09]\n",
      "0 < 1.3170886866931435e-07 < 2.634177373386287e-07 gives beta=2.5e-05. Target 0.001\n",
      "Fresh epsilons: [6.58544343e-08]\n",
      "Chunk 0 laplace scale: [1.00000000e-03 6.58544343e-10]\n",
      "0 < 6.585443433465717e-08 < 1.3170886866931435e-07 gives beta=2e-05. Target 0.001\n",
      "Fresh epsilons: [3.29272172e-08]\n",
      "Chunk 0 laplace scale: [1.00000000e-03 3.29272172e-10]\n",
      "0 < 3.2927217167328587e-08 < 6.585443433465717e-08 gives beta=2.4e-05. Target 0.001\n",
      "Fresh epsilons: [1.64636086e-08]\n",
      "Chunk 0 laplace scale: [1.00000000e-03 1.64636086e-10]\n",
      "0 < 1.6463608583664293e-08 < 3.2927217167328587e-08 gives beta=2.4e-05. Target 0.001\n",
      "Fresh epsilons: [8.23180429e-09]\n",
      "Chunk 0 laplace scale: [1.00000000e-03 8.23180429e-11]\n",
      "0 < 8.231804291832147e-09 < 1.6463608583664293e-08 gives beta=2.2e-05. Target 0.001\n",
      "Fresh epsilons: [4.11590215e-09]\n",
      "Chunk 0 laplace scale: [1.00000000e-03 4.11590215e-11]\n",
      "0 < 4.115902145916073e-09 < 8.231804291832147e-09 gives beta=2e-05. Target 0.001\n",
      "Fresh epsilons: [2.05795107e-09]\n",
      "Chunk 0 laplace scale: [1.00000000e-03 2.05795107e-11]\n",
      "0 < 2.0579510729580367e-09 < 4.115902145916073e-09 gives beta=2.1e-05. Target 0.001\n",
      "Fresh epsilons: [1.02897554e-09]\n",
      "Chunk 0 laplace scale: [1.00000000e-03 1.02897554e-11]\n",
      "0 < 1.0289755364790183e-09 < 2.0579510729580367e-09 gives beta=2.5e-05. Target 0.001\n",
      "Fresh epsilons: [5.14487768e-10]\n",
      "Chunk 0 laplace scale: [1.00000000e-03 5.14487768e-12]\n",
      "0 < 5.144877682395092e-10 < 1.0289755364790183e-09 gives beta=2.7e-05. Target 0.001\n",
      "Fresh epsilons: [2.57243884e-10]\n",
      "Chunk 0 laplace scale: [1.00000000e-03 2.57243884e-12]\n",
      "0 < 2.572438841197546e-10 < 5.144877682395092e-10 gives beta=3.2e-05. Target 0.001\n",
      "Fresh epsilons: [1.28621942e-10]\n",
      "Chunk 0 laplace scale: [1.00000000e-03 1.28621942e-12]\n",
      "0 < 1.286219420598773e-10 < 2.572438841197546e-10 gives beta=2.7e-05. Target 0.001\n",
      "Fresh epsilons: [6.4310971e-11]\n",
      "Chunk 0 laplace scale: [1.0000000e-03 6.4310971e-13]\n",
      "0 < 6.431097102993865e-11 < 1.286219420598773e-10 gives beta=1.8e-05. Target 0.001\n",
      "Sufficient fresh eps for chunk 0: 141.42047235107086\n",
      "Fresh epsilons: [141.42047235]\n",
      "Chunk 0 laplace scale: [2.50000000e-09 7.07102362e-07]\n",
      "Fresh epsilons: [70.71023618]\n",
      "Chunk 0 laplace scale: [9.99962501e-09 1.41415169e-06]\n",
      "0 < 70.71023617553543 < 141.42047235107086 gives beta=0.0. Target 0.001\n",
      "Fresh epsilons: [35.35511809]\n",
      "Chunk 0 laplace scale: [3.99925014e-08 2.82787922e-06]\n",
      "0 < 35.355118087767714 < 70.71023617553543 gives beta=0.0. Target 0.001\n",
      "Fresh epsilons: [17.67755904]\n",
      "Chunk 0 laplace scale: [1.59874099e-07 5.65236765e-06]\n",
      "0 < 17.677559043883857 < 35.355118087767714 gives beta=0.0. Target 0.001\n",
      "Fresh epsilons: [8.83877952]\n",
      "Chunk 0 laplace scale: [6.37966482e-07 1.12776902e-05]\n",
      "0 < 8.838779521941929 < 17.677559043883857 gives beta=0.0. Target 0.001\n",
      "Fresh epsilons: [4.41938976]\n",
      "Chunk 0 laplace scale: [2.52767733e-06 2.23415826e-05]\n",
      "0 < 4.419389760970964 < 8.838779521941929 gives beta=0.0. Target 0.001\n",
      "Fresh epsilons: [2.20969488]\n",
      "Chunk 0 laplace scale: [9.74136393e-06 4.30508840e-05]\n",
      "0 < 2.209694880485482 < 4.419389760970964 gives beta=0.0. Target 0.001\n",
      "Fresh epsilons: [1.10484744]\n",
      "Chunk 0 laplace scale: [3.39976967e-05 7.51245363e-05]\n",
      "0 < 1.104847440242741 < 2.209694880485482 gives beta=0.0. Target 0.001\n",
      "Fresh epsilons: [0.55242372]\n",
      "Chunk 0 laplace scale: [9.00621844e-05 9.95049738e-05]\n",
      "0 < 0.5524237201213705 < 1.104847440242741 gives beta=0.0. Target 0.001\n",
      "Fresh epsilons: [0.27621186]\n",
      "Chunk 0 laplace scale: [1.53236512e-04 8.46514841e-05]\n",
      "0 < 0.27621186006068527 < 0.5524237201213705 gives beta=0.0. Target 0.001\n",
      "Fresh epsilons: [0.13810593]\n",
      "Chunk 0 laplace scale: [1.85823007e-04 5.13265184e-05]\n",
      "0 < 0.13810593003034263 < 0.27621186006068527 gives beta=0.0. Target 0.001\n",
      "Fresh epsilons: [0.06905297]\n",
      "Chunk 0 laplace scale: [1.96256746e-04 2.71042205e-05]\n",
      "0 < 0.06905296501517132 < 0.13810593003034263 gives beta=0.0. Target 0.001\n",
      "Fresh epsilons: [0.03452648]\n",
      "Chunk 0 laplace scale: [1.99050863e-04 1.37450523e-05]\n",
      "0 < 0.03452648250758566 < 0.06905296501517132 gives beta=0.0. Target 0.001\n",
      "Fresh epsilons: [0.01726324]\n",
      "Chunk 0 laplace scale: [1.99761868e-04 6.89707465e-06]\n",
      "0 < 0.01726324125379283 < 0.03452648250758566 gives beta=0.0. Target 0.001\n",
      "Fresh epsilons: [0.00863162]\n",
      "Chunk 0 laplace scale: [1.99940414e-04 3.45161960e-06]\n",
      "0 < 0.008631620626896415 < 0.01726324125379283 gives beta=0.0. Target 0.001\n",
      "Fresh epsilons: [0.00431581]\n",
      "Chunk 0 laplace scale: [1.99985100e-04 1.72619552e-06]\n",
      "0 < 0.004315810313448207 < 0.008631620626896415 gives beta=0.0. Target 0.001\n",
      "Fresh epsilons: [0.00215791]\n",
      "Chunk 0 laplace scale: [1.99996275e-04 8.63145986e-07]\n",
      "0 < 0.0021579051567241036 < 0.004315810313448207 gives beta=0.0. Target 0.001\n",
      "Fresh epsilons: [0.00107895]\n",
      "Chunk 0 laplace scale: [1.99999069e-04 4.31579022e-07]\n",
      "0 < 0.0010789525783620518 < 0.0021579051567241036 gives beta=0.0. Target 0.001\n",
      "Fresh epsilons: [0.00053948]\n",
      "Chunk 0 laplace scale: [1.99999767e-04 2.15790264e-07]\n",
      "0 < 0.0005394762891810259 < 0.0010789525783620518 gives beta=0.0. Target 0.001\n",
      "Fresh epsilons: [0.00026974]\n",
      "Chunk 0 laplace scale: [1.99999942e-04 1.07895226e-07]\n",
      "0 < 0.00026973814459051295 < 0.0005394762891810259 gives beta=0.0. Target 0.001\n",
      "Fresh epsilons: [0.00013487]\n",
      "Chunk 0 laplace scale: [1.99999985e-04 5.39476250e-08]\n",
      "0 < 0.00013486907229525648 < 0.00026973814459051295 gives beta=0.0. Target 0.001\n",
      "Fresh epsilons: [6.74345361e-05]\n",
      "Chunk 0 laplace scale: [1.99999996e-04 2.69738140e-08]\n",
      "0 < 6.743453614762824e-05 < 0.00013486907229525648 gives beta=0.0. Target 0.001\n",
      "Fresh epsilons: [3.37172681e-05]\n",
      "Chunk 0 laplace scale: [1.99999999e-04 1.34869072e-08]\n",
      "0 < 3.371726807381412e-05 < 6.743453614762824e-05 gives beta=0.0. Target 0.001\n",
      "Fresh epsilons: [1.6858634e-05]\n",
      "Chunk 0 laplace scale: [2.00000000e-04 6.74345361e-09]\n",
      "0 < 1.685863403690706e-05 < 3.371726807381412e-05 gives beta=0.0. Target 0.001\n",
      "Fresh epsilons: [8.42931702e-06]\n",
      "Chunk 0 laplace scale: [2.00000000e-04 3.37172681e-09]\n",
      "0 < 8.42931701845353e-06 < 1.685863403690706e-05 gives beta=0.0. Target 0.001\n",
      "Fresh epsilons: [4.21465851e-06]\n",
      "Chunk 0 laplace scale: [2.0000000e-04 1.6858634e-09]\n",
      "0 < 4.214658509226765e-06 < 8.42931701845353e-06 gives beta=0.0. Target 0.001\n",
      "Fresh epsilons: [2.10732925e-06]\n",
      "Chunk 0 laplace scale: [2.00000000e-04 8.42931702e-10]\n",
      "0 < 2.1073292546133825e-06 < 4.214658509226765e-06 gives beta=0.0. Target 0.001\n",
      "Fresh epsilons: [1.05366463e-06]\n",
      "Chunk 0 laplace scale: [2.00000000e-04 4.21465851e-10]\n",
      "0 < 1.0536646273066912e-06 < 2.1073292546133825e-06 gives beta=0.0. Target 0.001\n",
      "Fresh epsilons: [5.26832314e-07]\n",
      "Chunk 0 laplace scale: [2.00000000e-04 2.10732925e-10]\n",
      "0 < 5.268323136533456e-07 < 1.0536646273066912e-06 gives beta=0.0. Target 0.001\n",
      "Fresh epsilons: [2.63416157e-07]\n",
      "Chunk 0 laplace scale: [2.00000000e-04 1.05366463e-10]\n",
      "0 < 2.634161568266728e-07 < 5.268323136533456e-07 gives beta=0.0. Target 0.001\n",
      "Fresh epsilons: [1.31708078e-07]\n",
      "Chunk 0 laplace scale: [2.00000000e-04 5.26832314e-11]\n",
      "0 < 1.317080784133364e-07 < 2.634161568266728e-07 gives beta=0.0. Target 0.001\n",
      "Fresh epsilons: [6.58540392e-08]\n",
      "Chunk 0 laplace scale: [2.00000000e-04 2.63416157e-11]\n",
      "0 < 6.58540392066682e-08 < 1.317080784133364e-07 gives beta=0.0. Target 0.001\n",
      "Fresh epsilons: [3.29270196e-08]\n",
      "Chunk 0 laplace scale: [2.00000000e-04 1.31708078e-11]\n",
      "0 < 3.29270196033341e-08 < 6.58540392066682e-08 gives beta=0.0. Target 0.001\n",
      "Fresh epsilons: [1.64635098e-08]\n",
      "Chunk 0 laplace scale: [2.00000000e-04 6.58540392e-12]\n",
      "0 < 1.646350980166705e-08 < 3.29270196033341e-08 gives beta=0.0. Target 0.001\n",
      "Fresh epsilons: [8.2317549e-09]\n",
      "Chunk 0 laplace scale: [2.00000000e-04 3.29270196e-12]\n",
      "0 < 8.231754900833525e-09 < 1.646350980166705e-08 gives beta=0.0. Target 0.001\n",
      "Fresh epsilons: [4.11587745e-09]\n",
      "Chunk 0 laplace scale: [2.00000000e-04 1.64635098e-12]\n",
      "0 < 4.115877450416763e-09 < 8.231754900833525e-09 gives beta=0.0. Target 0.001\n",
      "Fresh epsilons: [2.05793873e-09]\n",
      "Chunk 0 laplace scale: [2.0000000e-04 8.2317549e-13]\n",
      "0 < 2.0579387252083813e-09 < 4.115877450416763e-09 gives beta=0.0. Target 0.001\n",
      "Fresh epsilons: [1.02896936e-09]\n",
      "Chunk 0 laplace scale: [2.00000000e-04 4.11587745e-13]\n",
      "0 < 1.0289693626041907e-09 < 2.0579387252083813e-09 gives beta=0.0. Target 0.001\n",
      "Fresh epsilons: [5.14484681e-10]\n",
      "Chunk 0 laplace scale: [2.00000000e-04 2.05793873e-13]\n",
      "0 < 5.144846813020953e-10 < 1.0289693626041907e-09 gives beta=0.0. Target 0.001\n",
      "Fresh epsilons: [2.57242341e-10]\n",
      "Chunk 0 laplace scale: [2.00000000e-04 1.02896936e-13]\n",
      "0 < 2.5724234065104766e-10 < 5.144846813020953e-10 gives beta=0.0. Target 0.001\n",
      "Fresh epsilons: [1.2862117e-10]\n",
      "Chunk 0 laplace scale: [2.00000000e-04 5.14484681e-14]\n",
      "0 < 1.2862117032552383e-10 < 2.5724234065104766e-10 gives beta=0.0. Target 0.001\n",
      "Fresh epsilons: [6.43105852e-11]\n",
      "Chunk 0 laplace scale: [2.00000000e-04 2.57242341e-14]\n",
      "0 < 6.431058516276192e-11 < 1.2862117032552383e-10 gives beta=0.0. Target 0.001\n",
      "Sufficient fresh eps for chunk 0: 141.4178206592083\n",
      "Fresh epsilons: [141.41782066]\n",
      "Chunk 0 laplace scale: [5.00000000e-09 7.07089103e-07]\n",
      "Fresh epsilons: [70.70891033]\n",
      "Chunk 0 laplace scale: [1.99970004e-08 1.41396611e-06]\n",
      "0 < 70.70891032960415 < 141.4178206592083 gives beta=0.0. Target 0.001\n",
      "Fresh epsilons: [35.35445516]\n",
      "Chunk 0 laplace scale: [7.99400450e-08 2.82623674e-06]\n",
      "0 < 35.354455164802076 < 70.70891032960415 gives beta=0.0. Target 0.001\n",
      "Fresh epsilons: [17.67722758]\n",
      "Chunk 0 laplace scale: [3.18995165e-07 5.63895013e-06]\n",
      "0 < 17.677227582401038 < 35.354455164802076 gives beta=0.0. Target 0.001\n",
      "Fresh epsilons: [8.83861379]\n",
      "Chunk 0 laplace scale: [1.26388546e-06 1.11709955e-05]\n",
      "0 < 8.838613791200519 < 17.677227582401038 gives beta=0.0. Target 0.001\n",
      "Fresh epsilons: [4.4193069]\n",
      "Chunk 0 laplace scale: [4.87085573e-06 2.15258063e-05]\n",
      "0 < 4.4193068956002595 < 8.838613791200519 gives beta=0.0. Target 0.001\n",
      "Fresh epsilons: [2.20965345]\n",
      "Chunk 0 laplace scale: [1.69993775e-05 3.75627330e-05]\n",
      "0 < 2.2096534478001297 < 4.4193068956002595 gives beta=0.0. Target 0.001\n",
      "Fresh epsilons: [1.10482672]\n",
      "Chunk 0 laplace scale: [4.50320204e-05 4.97525796e-05]\n",
      "0 < 1.1048267239000649 < 2.2096534478001297 gives beta=0.0. Target 0.001\n",
      "Fresh epsilons: [0.55241336]\n",
      "Chunk 0 laplace scale: [7.66189279e-05 4.23253196e-05]\n",
      "0 < 0.5524133619500324 < 1.1048267239000649 gives beta=0.0. Target 0.001\n",
      "Fresh epsilons: [0.27620668]\n",
      "Chunk 0 laplace scale: [9.29117504e-05 2.56628462e-05]\n",
      "0 < 0.2762066809750162 < 0.5524133619500324 gives beta=0.0. Target 0.001\n",
      "Fresh epsilons: [0.13810334]\n",
      "Chunk 0 laplace scale: [9.81284421e-05 1.35518656e-05]\n",
      "0 < 0.1381033404875081 < 0.2762066809750162 gives beta=0.0. Target 0.001\n",
      "Fresh epsilons: [0.06905167]\n",
      "Chunk 0 laplace scale: [9.95254494e-05 6.87239851e-06]\n",
      "0 < 0.06905167024375405 < 0.1381033404875081 gives beta=0.0. Target 0.001\n",
      "Fresh epsilons: [0.03452584]\n",
      "Chunk 0 laplace scale: [9.98809386e-05 3.44847282e-06]\n",
      "0 < 0.03452583512187703 < 0.06905167024375405 gives beta=0.0. Target 0.001\n",
      "Fresh epsilons: [0.01726292]\n",
      "Chunk 0 laplace scale: [9.99702080e-05 1.72577746e-06]\n",
      "0 < 0.017262917560938514 < 0.03452583512187703 gives beta=0.0. Target 0.001\n",
      "Fresh epsilons: [0.00863146]\n",
      "Chunk 0 laplace scale: [9.99925503e-05 8.63081577e-07]\n",
      "0 < 0.008631458780469257 < 0.017262917560938514 gives beta=0.0. Target 0.001\n",
      "Fresh epsilons: [0.00431573]\n",
      "Chunk 0 laplace scale: [9.99981375e-05 4.31564901e-07]\n",
      "0 < 0.004315729390234628 < 0.008631458780469257 gives beta=0.0. Target 0.001\n",
      "Fresh epsilons: [0.00215786]\n",
      "Chunk 0 laplace scale: [9.99995344e-05 2.15785465e-07]\n",
      "0 < 0.002157864695117314 < 0.004315729390234628 gives beta=0.0. Target 0.001\n",
      "Fresh epsilons: [0.00107893]\n",
      "Chunk 0 laplace scale: [9.99998836e-05 1.07893109e-07]\n",
      "0 < 0.001078932347558657 < 0.002157864695117314 gives beta=0.0. Target 0.001\n",
      "Fresh epsilons: [0.00053947]\n",
      "Chunk 0 laplace scale: [9.99999709e-05 5.39466017e-08]\n",
      "0 < 0.0005394661737793285 < 0.001078932347558657 gives beta=0.0. Target 0.001\n",
      "Fresh epsilons: [0.00026973]\n",
      "Chunk 0 laplace scale: [9.99999927e-05 2.69733067e-08]\n",
      "0 < 0.0002697330868896643 < 0.0005394661737793285 gives beta=0.0. Target 0.001\n",
      "Fresh epsilons: [0.00013487]\n",
      "Chunk 0 laplace scale: [9.99999982e-05 1.34866541e-08]\n",
      "0 < 0.00013486654344483214 < 0.0002697330868896643 gives beta=0.0. Target 0.001\n",
      "Fresh epsilons: [6.74332717e-05]\n",
      "Chunk 0 laplace scale: [9.99999995e-05 6.74332714e-09]\n",
      "0 < 6.743327172241607e-05 < 0.00013486654344483214 gives beta=0.0. Target 0.001\n",
      "Fresh epsilons: [3.37166359e-05]\n",
      "Chunk 0 laplace scale: [9.99999999e-05 3.37166358e-09]\n",
      "0 < 3.3716635861208034e-05 < 6.743327172241607e-05 gives beta=0.0. Target 0.001\n",
      "Fresh epsilons: [1.68583179e-05]\n",
      "Chunk 0 laplace scale: [1.00000000e-04 1.68583179e-09]\n",
      "0 < 1.6858317930604017e-05 < 3.3716635861208034e-05 gives beta=0.0. Target 0.001\n",
      "Fresh epsilons: [8.42915897e-06]\n",
      "Chunk 0 laplace scale: [1.00000000e-04 8.42915896e-10]\n",
      "0 < 8.429158965302009e-06 < 1.6858317930604017e-05 gives beta=0.0. Target 0.001\n",
      "Fresh epsilons: [4.21457948e-06]\n",
      "Chunk 0 laplace scale: [1.00000000e-04 4.21457948e-10]\n",
      "0 < 4.214579482651004e-06 < 8.429158965302009e-06 gives beta=0.0. Target 0.001\n",
      "Fresh epsilons: [2.10728974e-06]\n",
      "Chunk 0 laplace scale: [1.00000000e-04 2.10728974e-10]\n",
      "0 < 2.107289741325502e-06 < 4.214579482651004e-06 gives beta=0.0. Target 0.001\n",
      "Fresh epsilons: [1.05364487e-06]\n",
      "Chunk 0 laplace scale: [1.00000000e-04 1.05364487e-10]\n",
      "0 < 1.053644870662751e-06 < 2.107289741325502e-06 gives beta=0.0. Target 0.001\n",
      "Fresh epsilons: [5.26822435e-07]\n",
      "Chunk 0 laplace scale: [1.00000000e-04 5.26822435e-11]\n",
      "0 < 5.268224353313755e-07 < 1.053644870662751e-06 gives beta=0.0. Target 0.001\n",
      "Fresh epsilons: [2.63411218e-07]\n",
      "Chunk 0 laplace scale: [1.00000000e-04 2.63411218e-11]\n",
      "0 < 2.6341121766568777e-07 < 5.268224353313755e-07 gives beta=0.0. Target 0.001\n",
      "Fresh epsilons: [1.31705609e-07]\n",
      "Chunk 0 laplace scale: [1.00000000e-04 1.31705609e-11]\n",
      "0 < 1.3170560883284388e-07 < 2.6341121766568777e-07 gives beta=0.0. Target 0.001\n",
      "Fresh epsilons: [6.58528044e-08]\n",
      "Chunk 0 laplace scale: [1.00000000e-04 6.58528044e-12]\n",
      "0 < 6.585280441642194e-08 < 1.3170560883284388e-07 gives beta=0.0. Target 0.001\n",
      "Fresh epsilons: [3.29264022e-08]\n",
      "Chunk 0 laplace scale: [1.00000000e-04 3.29264022e-12]\n",
      "0 < 3.292640220821097e-08 < 6.585280441642194e-08 gives beta=0.0. Target 0.001\n",
      "Fresh epsilons: [1.64632011e-08]\n",
      "Chunk 0 laplace scale: [1.00000000e-04 1.64632011e-12]\n",
      "0 < 1.6463201104105485e-08 < 3.292640220821097e-08 gives beta=0.0. Target 0.001\n",
      "Fresh epsilons: [8.23160055e-09]\n",
      "Chunk 0 laplace scale: [1.00000000e-04 8.23160055e-13]\n",
      "0 < 8.231600552052743e-09 < 1.6463201104105485e-08 gives beta=0.0. Target 0.001\n",
      "Fresh epsilons: [4.11580028e-09]\n",
      "Chunk 0 laplace scale: [1.00000000e-04 4.11580028e-13]\n",
      "0 < 4.115800276026371e-09 < 8.231600552052743e-09 gives beta=0.0. Target 0.001\n",
      "Fresh epsilons: [2.05790014e-09]\n",
      "Chunk 0 laplace scale: [1.00000000e-04 2.05790014e-13]\n",
      "0 < 2.0579001380131857e-09 < 4.115800276026371e-09 gives beta=0.0. Target 0.001\n",
      "Fresh epsilons: [1.02895007e-09]\n",
      "Chunk 0 laplace scale: [1.00000000e-04 1.02895007e-13]\n",
      "0 < 1.0289500690065928e-09 < 2.0579001380131857e-09 gives beta=0.0. Target 0.001\n",
      "Fresh epsilons: [5.14475035e-10]\n",
      "Chunk 0 laplace scale: [1.00000000e-04 5.14475035e-14]\n",
      "0 < 5.144750345032964e-10 < 1.0289500690065928e-09 gives beta=0.0. Target 0.001\n",
      "Fresh epsilons: [2.57237517e-10]\n",
      "Chunk 0 laplace scale: [1.00000000e-04 2.57237517e-14]\n",
      "0 < 2.572375172516482e-10 < 5.144750345032964e-10 gives beta=0.0. Target 0.001\n",
      "Fresh epsilons: [1.28618759e-10]\n",
      "Chunk 0 laplace scale: [1.00000000e-04 1.28618759e-14]\n",
      "0 < 1.286187586258241e-10 < 2.572375172516482e-10 gives beta=0.0. Target 0.001\n",
      "Fresh epsilons: [6.43093793e-11]\n",
      "Chunk 0 laplace scale: [1.00000000e-04 6.43093793e-15]\n",
      "0 < 6.430937931291205e-11 < 1.286187586258241e-10 gives beta=0.0. Target 0.001\n",
      "Sufficient fresh eps for chunk 0: 141.06735979665885\n",
      "Fresh epsilons: [141.0673598]\n",
      "Chunk 0 laplace scale: [5.00000000e-08 7.05336799e-07]\n",
      "Fresh epsilons: [70.5336799]\n",
      "Chunk 0 laplace scale: [1.97044335e-07 1.38982620e-06]\n",
      "0 < 70.53367989832942 < 141.06735979665885 gives beta=0.0. Target 0.001\n",
      "Fresh epsilons: [35.26683995]\n",
      "Chunk 0 laplace scale: [7.44186047e-07 2.62450902e-06]\n",
      "0 < 35.26683994916471 < 70.53367989832942 gives beta=0.0. Target 0.001\n",
      "Fresh epsilons: [17.63341997]\n",
      "Chunk 0 laplace scale: [2.43346008e-06 4.29102235e-06]\n",
      "0 < 17.633419974582356 < 35.26683994916471 gives beta=0.0. Target 0.001\n",
      "Fresh epsilons: [8.81670999]\n",
      "Chunk 0 laplace scale: [5.62637363e-06 4.96061045e-06]\n",
      "0 < 8.816709987291178 < 17.633419974582356 gives beta=0.0. Target 0.001\n",
      "Fresh epsilons: [4.40835499]\n",
      "Chunk 0 laplace scale: [8.37285364e-06 3.69105111e-06]\n",
      "0 < 4.408354993645589 < 8.816709987291178 gives beta=0.0. Target 0.001\n",
      "Fresh epsilons: [2.2041775]\n",
      "Chunk 0 laplace scale: [9.53667055e-06 2.10205146e-06]\n",
      "0 < 2.2041774968227945 < 4.408354993645589 gives beta=0.0. Target 0.001\n",
      "Fresh epsilons: [1.10208875]\n",
      "Chunk 0 laplace scale: [9.87999759e-06 1.08886342e-06]\n",
      "0 < 1.1020887484113973 < 2.2041774968227945 gives beta=0.0. Target 0.001\n",
      "Fresh epsilons: [0.55104437]\n",
      "Chunk 0 laplace scale: [9.96972693e-06 5.49376194e-07]\n",
      "0 < 0.5510443742056986 < 1.1020887484113973 gives beta=0.0. Target 0.001\n",
      "Fresh epsilons: [0.27552219]\n",
      "Chunk 0 laplace scale: [9.99241451e-06 2.75313190e-07]\n",
      "0 < 0.2755221871028493 < 0.5510443742056986 gives beta=0.0. Target 0.001\n",
      "Fresh epsilons: [0.13776109]\n",
      "Chunk 0 laplace scale: [9.99810255e-06 1.37734954e-07]\n",
      "0 < 0.13776109355142466 < 0.2755221871028493 gives beta=0.0. Target 0.001\n",
      "Fresh epsilons: [0.06888055]\n",
      "Chunk 0 laplace scale: [9.99952557e-06 6.88772789e-08]\n",
      "0 < 0.06888054677571233 < 0.13776109355142466 gives beta=0.0. Target 0.001\n",
      "Fresh epsilons: [0.03444027]\n",
      "Chunk 0 laplace scale: [9.99988139e-06 3.44398649e-08]\n",
      "0 < 0.034440273387856164 < 0.06888054677571233 gives beta=0.0. Target 0.001\n",
      "Fresh epsilons: [0.01722014]\n",
      "Chunk 0 laplace scale: [9.99997035e-06 1.72200856e-08]\n",
      "0 < 0.017220136693928082 < 0.034440273387856164 gives beta=0.0. Target 0.001\n",
      "Fresh epsilons: [0.00861007]\n",
      "Chunk 0 laplace scale: [9.99999259e-06 8.61006196e-09]\n",
      "0 < 0.008610068346964041 < 0.017220136693928082 gives beta=0.0. Target 0.001\n",
      "Fresh epsilons: [0.00430503]\n",
      "Chunk 0 laplace scale: [9.99999815e-06 4.30503338e-09]\n",
      "0 < 0.0043050341734820205 < 0.008610068346964041 gives beta=0.0. Target 0.001\n",
      "Fresh epsilons: [0.00215252]\n",
      "Chunk 0 laplace scale: [9.99999954e-06 2.15251699e-09]\n",
      "0 < 0.0021525170867410103 < 0.0043050341734820205 gives beta=0.0. Target 0.001\n",
      "Fresh epsilons: [0.00107626]\n",
      "Chunk 0 laplace scale: [9.99999988e-06 1.07625853e-09]\n",
      "0 < 0.0010762585433705051 < 0.0021525170867410103 gives beta=0.0. Target 0.001\n",
      "Fresh epsilons: [0.00053813]\n",
      "Chunk 0 laplace scale: [9.99999997e-06 5.38129270e-10]\n",
      "0 < 0.0005381292716852526 < 0.0010762585433705051 gives beta=0.0. Target 0.001\n",
      "Fresh epsilons: [0.00026906]\n",
      "Chunk 0 laplace scale: [9.99999999e-06 2.69064636e-10]\n",
      "0 < 0.0002690646358426263 < 0.0005381292716852526 gives beta=0.0. Target 0.001\n",
      "Fresh epsilons: [0.00013453]\n",
      "Chunk 0 laplace scale: [1.00000000e-05 1.34532318e-10]\n",
      "0 < 0.00013453231792131314 < 0.0002690646358426263 gives beta=0.0. Target 0.001\n",
      "Fresh epsilons: [6.7266159e-05]\n",
      "Chunk 0 laplace scale: [1.0000000e-05 6.7266159e-11]\n",
      "0 < 6.726615896065657e-05 < 0.00013453231792131314 gives beta=0.0. Target 0.001\n",
      "Fresh epsilons: [3.36330795e-05]\n",
      "Chunk 0 laplace scale: [1.00000000e-05 3.36330795e-11]\n",
      "0 < 3.3633079480328285e-05 < 6.726615896065657e-05 gives beta=0.0. Target 0.001\n",
      "Fresh epsilons: [1.68165397e-05]\n",
      "Chunk 0 laplace scale: [1.00000000e-05 1.68165397e-11]\n",
      "0 < 1.6816539740164143e-05 < 3.3633079480328285e-05 gives beta=0.0. Target 0.001\n",
      "Fresh epsilons: [8.40826987e-06]\n",
      "Chunk 0 laplace scale: [1.00000000e-05 8.40826987e-12]\n",
      "0 < 8.408269870082071e-06 < 1.6816539740164143e-05 gives beta=0.0. Target 0.001\n",
      "Fresh epsilons: [4.20413494e-06]\n",
      "Chunk 0 laplace scale: [1.00000000e-05 4.20413494e-12]\n",
      "0 < 4.204134935041036e-06 < 8.408269870082071e-06 gives beta=0.0. Target 0.001\n",
      "Fresh epsilons: [2.10206747e-06]\n",
      "Chunk 0 laplace scale: [1.00000000e-05 2.10206747e-12]\n",
      "0 < 2.102067467520518e-06 < 4.204134935041036e-06 gives beta=0.0. Target 0.001\n",
      "Fresh epsilons: [1.05103373e-06]\n",
      "Chunk 0 laplace scale: [1.00000000e-05 1.05103373e-12]\n",
      "0 < 1.051033733760259e-06 < 2.102067467520518e-06 gives beta=0.0. Target 0.001\n",
      "Fresh epsilons: [5.25516867e-07]\n",
      "Chunk 0 laplace scale: [1.00000000e-05 5.25516867e-13]\n",
      "0 < 5.255168668801295e-07 < 1.051033733760259e-06 gives beta=0.0. Target 0.001\n",
      "Fresh epsilons: [2.62758433e-07]\n",
      "Chunk 0 laplace scale: [1.00000000e-05 2.62758433e-13]\n",
      "0 < 2.6275843344006473e-07 < 5.255168668801295e-07 gives beta=0.0. Target 0.001\n",
      "Fresh epsilons: [1.31379217e-07]\n",
      "Chunk 0 laplace scale: [1.00000000e-05 1.31379217e-13]\n",
      "0 < 1.3137921672003236e-07 < 2.6275843344006473e-07 gives beta=0.0. Target 0.001\n",
      "Fresh epsilons: [6.56896084e-08]\n",
      "Chunk 0 laplace scale: [1.00000000e-05 6.56896084e-14]\n",
      "0 < 6.568960836001618e-08 < 1.3137921672003236e-07 gives beta=0.0. Target 0.001\n",
      "Fresh epsilons: [3.28448042e-08]\n",
      "Chunk 0 laplace scale: [1.00000000e-05 3.28448042e-14]\n",
      "0 < 3.284480418000809e-08 < 6.568960836001618e-08 gives beta=0.0. Target 0.001\n",
      "Fresh epsilons: [1.64224021e-08]\n",
      "Chunk 0 laplace scale: [1.00000000e-05 1.64224021e-14]\n",
      "0 < 1.6422402090004046e-08 < 3.284480418000809e-08 gives beta=0.0. Target 0.001\n",
      "Fresh epsilons: [8.21120105e-09]\n",
      "Chunk 0 laplace scale: [1.00000000e-05 8.21120105e-15]\n",
      "0 < 8.211201045002023e-09 < 1.6422402090004046e-08 gives beta=0.0. Target 0.001\n",
      "Fresh epsilons: [4.10560052e-09]\n",
      "Chunk 0 laplace scale: [1.00000000e-05 4.10560052e-15]\n",
      "0 < 4.105600522501011e-09 < 8.211201045002023e-09 gives beta=0.0. Target 0.001\n",
      "Fresh epsilons: [2.05280026e-09]\n",
      "Chunk 0 laplace scale: [1.00000000e-05 2.05280026e-15]\n",
      "0 < 2.0528002612505057e-09 < 4.105600522501011e-09 gives beta=0.0. Target 0.001\n",
      "Fresh epsilons: [1.02640013e-09]\n",
      "Chunk 0 laplace scale: [1.00000000e-05 1.02640013e-15]\n",
      "0 < 1.0264001306252529e-09 < 2.0528002612505057e-09 gives beta=0.0. Target 0.001\n",
      "Fresh epsilons: [5.13200065e-10]\n",
      "Chunk 0 laplace scale: [1.00000000e-05 5.13200065e-16]\n",
      "0 < 5.132000653126264e-10 < 1.0264001306252529e-09 gives beta=0.0. Target 0.001\n",
      "Fresh epsilons: [2.56600033e-10]\n",
      "Chunk 0 laplace scale: [1.00000000e-05 2.56600033e-16]\n",
      "0 < 2.566000326563132e-10 < 5.132000653126264e-10 gives beta=0.0. Target 0.001\n",
      "Fresh epsilons: [1.28300016e-10]\n",
      "Chunk 0 laplace scale: [1.00000000e-05 1.28300016e-16]\n",
      "0 < 1.283000163281566e-10 < 2.566000326563132e-10 gives beta=0.0. Target 0.001\n",
      "Fresh epsilons: [6.41500082e-11]\n",
      "Chunk 0 laplace scale: [1.00000000e-05 6.41500082e-17]\n",
      "0 < 6.41500081640783e-11 < 1.283000163281566e-10 gives beta=0.0. Target 0.001\n"
     ]
    }
   ],
   "source": [
    "d = []\n",
    "\n",
    "\n",
    "for beta in [1e-4, 1e-3]:\n",
    "    for alpha in [0.001, 0.01]:\n",
    "        for existing_eps in [0.0001, 0.001, 0.01, 0.1, 0.5, 1, 10]:\n",
    "            existing_epsilons = [np.array([existing_eps])]\n",
    "            chunk_sizes = [10_000]\n",
    "            for bound in [\"monte_carlo\"]:\n",
    "                if bound == \"monte_carlo\":\n",
    "                    try:\n",
    "                        epsilon, _ = get_epsilon_vr_monte_carlo(existing_epsilons, chunk_sizes, alpha=alpha, beta=beta, N=1_000_000)                    \n",
    "                    except AssertionError as e:\n",
    "                        print(e)\n",
    "                        epsilon = np.NAN\n",
    "                else:\n",
    "                    epsilon = get_epsilon_isotropic_laplace_concentration(a=alpha, b=beta, n=total_size, k=k)\n",
    "                d.append(dict(\n",
    "                    alpha=alpha,\n",
    "                    beta=beta,\n",
    "                    existing_eps=existing_eps,\n",
    "                    epsilon=epsilon,\n",
    "                    bound=bound        \n",
    "                ))\n",
    "df = pd.DataFrame(d)"
   ]
  },
  {
   "cell_type": "code",
   "execution_count": 40,
   "metadata": {},
   "outputs": [
    {
     "data": {
      "text/html": [
       "<div>\n",
       "<style scoped>\n",
       "    .dataframe tbody tr th:only-of-type {\n",
       "        vertical-align: middle;\n",
       "    }\n",
       "\n",
       "    .dataframe tbody tr th {\n",
       "        vertical-align: top;\n",
       "    }\n",
       "\n",
       "    .dataframe thead th {\n",
       "        text-align: right;\n",
       "    }\n",
       "</style>\n",
       "<table border=\"1\" class=\"dataframe\">\n",
       "  <thead>\n",
       "    <tr style=\"text-align: right;\">\n",
       "      <th></th>\n",
       "      <th>alpha</th>\n",
       "      <th>beta</th>\n",
       "      <th>existing_eps</th>\n",
       "      <th>epsilon</th>\n",
       "      <th>bound</th>\n",
       "    </tr>\n",
       "  </thead>\n",
       "  <tbody>\n",
       "    <tr>\n",
       "      <th>0</th>\n",
       "      <td>0.001</td>\n",
       "      <td>0.0001</td>\n",
       "      <td>0.001</td>\n",
       "      <td>8.657871e-01</td>\n",
       "      <td>monte_carlo</td>\n",
       "    </tr>\n",
       "    <tr>\n",
       "      <th>1</th>\n",
       "      <td>0.001</td>\n",
       "      <td>0.0001</td>\n",
       "      <td>0.100</td>\n",
       "      <td>8.359324e-01</td>\n",
       "      <td>monte_carlo</td>\n",
       "    </tr>\n",
       "    <tr>\n",
       "      <th>2</th>\n",
       "      <td>0.001</td>\n",
       "      <td>0.0001</td>\n",
       "      <td>0.500</td>\n",
       "      <td>5.373851e-01</td>\n",
       "      <td>monte_carlo</td>\n",
       "    </tr>\n",
       "    <tr>\n",
       "      <th>3</th>\n",
       "      <td>0.001</td>\n",
       "      <td>0.0001</td>\n",
       "      <td>1.000</td>\n",
       "      <td>6.355287e-11</td>\n",
       "      <td>monte_carlo</td>\n",
       "    </tr>\n",
       "    <tr>\n",
       "      <th>4</th>\n",
       "      <td>0.001</td>\n",
       "      <td>0.0001</td>\n",
       "      <td>10.000</td>\n",
       "      <td>6.355272e-11</td>\n",
       "      <td>monte_carlo</td>\n",
       "    </tr>\n",
       "    <tr>\n",
       "      <th>5</th>\n",
       "      <td>0.010</td>\n",
       "      <td>0.0001</td>\n",
       "      <td>0.001</td>\n",
       "      <td>8.631675e-02</td>\n",
       "      <td>monte_carlo</td>\n",
       "    </tr>\n",
       "    <tr>\n",
       "      <th>6</th>\n",
       "      <td>0.010</td>\n",
       "      <td>0.0001</td>\n",
       "      <td>0.100</td>\n",
       "      <td>8.038873e-11</td>\n",
       "      <td>monte_carlo</td>\n",
       "    </tr>\n",
       "    <tr>\n",
       "      <th>7</th>\n",
       "      <td>0.010</td>\n",
       "      <td>0.0001</td>\n",
       "      <td>0.500</td>\n",
       "      <td>8.038873e-11</td>\n",
       "      <td>monte_carlo</td>\n",
       "    </tr>\n",
       "    <tr>\n",
       "      <th>8</th>\n",
       "      <td>0.010</td>\n",
       "      <td>0.0001</td>\n",
       "      <td>1.000</td>\n",
       "      <td>8.038871e-11</td>\n",
       "      <td>monte_carlo</td>\n",
       "    </tr>\n",
       "    <tr>\n",
       "      <th>9</th>\n",
       "      <td>0.010</td>\n",
       "      <td>0.0001</td>\n",
       "      <td>10.000</td>\n",
       "      <td>8.038672e-11</td>\n",
       "      <td>monte_carlo</td>\n",
       "    </tr>\n",
       "    <tr>\n",
       "      <th>10</th>\n",
       "      <td>0.001</td>\n",
       "      <td>0.0010</td>\n",
       "      <td>0.001</td>\n",
       "      <td>6.219353e-01</td>\n",
       "      <td>monte_carlo</td>\n",
       "    </tr>\n",
       "    <tr>\n",
       "      <th>11</th>\n",
       "      <td>0.001</td>\n",
       "      <td>0.0010</td>\n",
       "      <td>0.100</td>\n",
       "      <td>6.074288e-01</td>\n",
       "      <td>monte_carlo</td>\n",
       "    </tr>\n",
       "    <tr>\n",
       "      <th>12</th>\n",
       "      <td>0.001</td>\n",
       "      <td>0.0010</td>\n",
       "      <td>0.500</td>\n",
       "      <td>2.866052e-01</td>\n",
       "      <td>monte_carlo</td>\n",
       "    </tr>\n",
       "    <tr>\n",
       "      <th>13</th>\n",
       "      <td>0.001</td>\n",
       "      <td>0.0010</td>\n",
       "      <td>1.000</td>\n",
       "      <td>5.084217e-11</td>\n",
       "      <td>monte_carlo</td>\n",
       "    </tr>\n",
       "    <tr>\n",
       "      <th>14</th>\n",
       "      <td>0.001</td>\n",
       "      <td>0.0010</td>\n",
       "      <td>10.000</td>\n",
       "      <td>5.082959e-11</td>\n",
       "      <td>monte_carlo</td>\n",
       "    </tr>\n",
       "    <tr>\n",
       "      <th>15</th>\n",
       "      <td>0.010</td>\n",
       "      <td>0.0010</td>\n",
       "      <td>0.001</td>\n",
       "      <td>6.258807e-02</td>\n",
       "      <td>monte_carlo</td>\n",
       "    </tr>\n",
       "    <tr>\n",
       "      <th>16</th>\n",
       "      <td>0.010</td>\n",
       "      <td>0.0010</td>\n",
       "      <td>0.100</td>\n",
       "      <td>6.431097e-11</td>\n",
       "      <td>monte_carlo</td>\n",
       "    </tr>\n",
       "    <tr>\n",
       "      <th>17</th>\n",
       "      <td>0.010</td>\n",
       "      <td>0.0010</td>\n",
       "      <td>0.500</td>\n",
       "      <td>6.431059e-11</td>\n",
       "      <td>monte_carlo</td>\n",
       "    </tr>\n",
       "    <tr>\n",
       "      <th>18</th>\n",
       "      <td>0.010</td>\n",
       "      <td>0.0010</td>\n",
       "      <td>1.000</td>\n",
       "      <td>6.430938e-11</td>\n",
       "      <td>monte_carlo</td>\n",
       "    </tr>\n",
       "    <tr>\n",
       "      <th>19</th>\n",
       "      <td>0.010</td>\n",
       "      <td>0.0010</td>\n",
       "      <td>10.000</td>\n",
       "      <td>6.415001e-11</td>\n",
       "      <td>monte_carlo</td>\n",
       "    </tr>\n",
       "  </tbody>\n",
       "</table>\n",
       "</div>"
      ],
      "text/plain": [
       "    alpha    beta  existing_eps       epsilon        bound\n",
       "0   0.001  0.0001         0.001  8.657871e-01  monte_carlo\n",
       "1   0.001  0.0001         0.100  8.359324e-01  monte_carlo\n",
       "2   0.001  0.0001         0.500  5.373851e-01  monte_carlo\n",
       "3   0.001  0.0001         1.000  6.355287e-11  monte_carlo\n",
       "4   0.001  0.0001        10.000  6.355272e-11  monte_carlo\n",
       "5   0.010  0.0001         0.001  8.631675e-02  monte_carlo\n",
       "6   0.010  0.0001         0.100  8.038873e-11  monte_carlo\n",
       "7   0.010  0.0001         0.500  8.038873e-11  monte_carlo\n",
       "8   0.010  0.0001         1.000  8.038871e-11  monte_carlo\n",
       "9   0.010  0.0001        10.000  8.038672e-11  monte_carlo\n",
       "10  0.001  0.0010         0.001  6.219353e-01  monte_carlo\n",
       "11  0.001  0.0010         0.100  6.074288e-01  monte_carlo\n",
       "12  0.001  0.0010         0.500  2.866052e-01  monte_carlo\n",
       "13  0.001  0.0010         1.000  5.084217e-11  monte_carlo\n",
       "14  0.001  0.0010        10.000  5.082959e-11  monte_carlo\n",
       "15  0.010  0.0010         0.001  6.258807e-02  monte_carlo\n",
       "16  0.010  0.0010         0.100  6.431097e-11  monte_carlo\n",
       "17  0.010  0.0010         0.500  6.431059e-11  monte_carlo\n",
       "18  0.010  0.0010         1.000  6.430938e-11  monte_carlo\n",
       "19  0.010  0.0010        10.000  6.415001e-11  monte_carlo"
      ]
     },
     "execution_count": 40,
     "metadata": {},
     "output_type": "execute_result"
    }
   ],
   "source": [
    "df"
   ]
  },
  {
   "cell_type": "code",
   "execution_count": 45,
   "metadata": {},
   "outputs": [
    {
     "data": {
      "application/vnd.plotly.v1+json": {
       "config": {
        "plotlyServerURL": "https://plot.ly"
       },
       "data": [
        {
         "hovertemplate": "bound=monte_carlo<br>beta=0.0001<br>alpha=0.001<br>existing_eps=%{x}<br>epsilon=%{y}<extra></extra>",
         "legendgroup": "monte_carlo",
         "line": {
          "color": "#636efa",
          "dash": "solid"
         },
         "marker": {
          "symbol": "circle"
         },
         "mode": "lines",
         "name": "monte_carlo",
         "orientation": "v",
         "showlegend": true,
         "type": "scatter",
         "x": [
          0.0001,
          0.001,
          0.01,
          0.1,
          0.5,
          1,
          10
         ],
         "xaxis": "x3",
         "y": [
          0.8564575209268119,
          0.8615221623515057,
          0.8529922399498746,
          0.852992239738759,
          0.5459150301573156,
          6.355287273430831e-11,
          6.355271544074578e-11
         ],
         "yaxis": "y3"
        },
        {
         "hovertemplate": "bound=monte_carlo<br>beta=0.0001<br>alpha=0.01<br>existing_eps=%{x}<br>epsilon=%{y}<extra></extra>",
         "legendgroup": "monte_carlo",
         "line": {
          "color": "#636efa",
          "dash": "solid"
         },
         "marker": {
          "symbol": "circle"
         },
         "mode": "lines",
         "name": "monte_carlo",
         "orientation": "v",
         "showlegend": false,
         "type": "scatter",
         "x": [
          0.0001,
          0.001,
          0.01,
          0.1,
          0.5,
          1,
          10
         ],
         "xaxis": "x4",
         "y": [
          0.08614815835626718,
          0.0863167457502894,
          0.08361934744352327,
          8.038873368363745e-11,
          8.038872886031326e-11,
          8.03887137874233e-11,
          8.038672414114006e-11
         ],
         "yaxis": "y4"
        },
        {
         "hovertemplate": "bound=monte_carlo<br>beta=0.001<br>alpha=0.001<br>existing_eps=%{x}<br>epsilon=%{y}<extra></extra>",
         "legendgroup": "monte_carlo",
         "line": {
          "color": "#636efa",
          "dash": "solid"
         },
         "marker": {
          "symbol": "circle"
         },
         "mode": "lines",
         "name": "monte_carlo",
         "orientation": "v",
         "showlegend": false,
         "type": "scatter",
         "x": [
          0.0001,
          0.001,
          0.01,
          0.1,
          0.5,
          1,
          10
         ],
         "xaxis": "x",
         "y": [
          0.6190591181451537,
          0.6220625069962986,
          0.6201253582900778,
          0.605197979115999,
          0.28768478112440693,
          5.084217235259662e-11,
          5.0829587294420335e-11
         ],
         "yaxis": "y"
        },
        {
         "hovertemplate": "bound=monte_carlo<br>beta=0.001<br>alpha=0.01<br>existing_eps=%{x}<br>epsilon=%{y}<extra></extra>",
         "legendgroup": "monte_carlo",
         "line": {
          "color": "#636efa",
          "dash": "solid"
         },
         "marker": {
          "symbol": "circle"
         },
         "mode": "lines",
         "name": "monte_carlo",
         "orientation": "v",
         "showlegend": false,
         "type": "scatter",
         "x": [
          0.0001,
          0.001,
          0.01,
          0.1,
          0.5,
          1,
          10
         ],
         "xaxis": "x2",
         "y": [
          0.062364708269477986,
          0.062197158017184166,
          0.06069146170395875,
          6.431097102993865e-11,
          6.431058516276192e-11,
          6.430937931291205e-11,
          6.41500081640783e-11
         ],
         "yaxis": "y2"
        }
       ],
       "layout": {
        "annotations": [
         {
          "font": {},
          "showarrow": false,
          "text": "alpha=0.001",
          "x": 0.24,
          "xanchor": "center",
          "xref": "paper",
          "y": 1,
          "yanchor": "bottom",
          "yref": "paper"
         },
         {
          "font": {},
          "showarrow": false,
          "text": "alpha=0.01",
          "x": 0.74,
          "xanchor": "center",
          "xref": "paper",
          "y": 1,
          "yanchor": "bottom",
          "yref": "paper"
         },
         {
          "font": {},
          "showarrow": false,
          "text": "beta=0.001",
          "textangle": 90,
          "x": 0.98,
          "xanchor": "left",
          "xref": "paper",
          "y": 0.2425,
          "yanchor": "middle",
          "yref": "paper"
         },
         {
          "font": {},
          "showarrow": false,
          "text": "beta=0.0001",
          "textangle": 90,
          "x": 0.98,
          "xanchor": "left",
          "xref": "paper",
          "y": 0.7575000000000001,
          "yanchor": "middle",
          "yref": "paper"
         }
        ],
        "legend": {
         "title": {
          "text": "bound"
         },
         "tracegroupgap": 0
        },
        "template": {
         "data": {
          "bar": [
           {
            "error_x": {
             "color": "#2a3f5f"
            },
            "error_y": {
             "color": "#2a3f5f"
            },
            "marker": {
             "line": {
              "color": "#E5ECF6",
              "width": 0.5
             },
             "pattern": {
              "fillmode": "overlay",
              "size": 10,
              "solidity": 0.2
             }
            },
            "type": "bar"
           }
          ],
          "barpolar": [
           {
            "marker": {
             "line": {
              "color": "#E5ECF6",
              "width": 0.5
             },
             "pattern": {
              "fillmode": "overlay",
              "size": 10,
              "solidity": 0.2
             }
            },
            "type": "barpolar"
           }
          ],
          "carpet": [
           {
            "aaxis": {
             "endlinecolor": "#2a3f5f",
             "gridcolor": "white",
             "linecolor": "white",
             "minorgridcolor": "white",
             "startlinecolor": "#2a3f5f"
            },
            "baxis": {
             "endlinecolor": "#2a3f5f",
             "gridcolor": "white",
             "linecolor": "white",
             "minorgridcolor": "white",
             "startlinecolor": "#2a3f5f"
            },
            "type": "carpet"
           }
          ],
          "choropleth": [
           {
            "colorbar": {
             "outlinewidth": 0,
             "ticks": ""
            },
            "type": "choropleth"
           }
          ],
          "contour": [
           {
            "colorbar": {
             "outlinewidth": 0,
             "ticks": ""
            },
            "colorscale": [
             [
              0,
              "#0d0887"
             ],
             [
              0.1111111111111111,
              "#46039f"
             ],
             [
              0.2222222222222222,
              "#7201a8"
             ],
             [
              0.3333333333333333,
              "#9c179e"
             ],
             [
              0.4444444444444444,
              "#bd3786"
             ],
             [
              0.5555555555555556,
              "#d8576b"
             ],
             [
              0.6666666666666666,
              "#ed7953"
             ],
             [
              0.7777777777777778,
              "#fb9f3a"
             ],
             [
              0.8888888888888888,
              "#fdca26"
             ],
             [
              1,
              "#f0f921"
             ]
            ],
            "type": "contour"
           }
          ],
          "contourcarpet": [
           {
            "colorbar": {
             "outlinewidth": 0,
             "ticks": ""
            },
            "type": "contourcarpet"
           }
          ],
          "heatmap": [
           {
            "colorbar": {
             "outlinewidth": 0,
             "ticks": ""
            },
            "colorscale": [
             [
              0,
              "#0d0887"
             ],
             [
              0.1111111111111111,
              "#46039f"
             ],
             [
              0.2222222222222222,
              "#7201a8"
             ],
             [
              0.3333333333333333,
              "#9c179e"
             ],
             [
              0.4444444444444444,
              "#bd3786"
             ],
             [
              0.5555555555555556,
              "#d8576b"
             ],
             [
              0.6666666666666666,
              "#ed7953"
             ],
             [
              0.7777777777777778,
              "#fb9f3a"
             ],
             [
              0.8888888888888888,
              "#fdca26"
             ],
             [
              1,
              "#f0f921"
             ]
            ],
            "type": "heatmap"
           }
          ],
          "heatmapgl": [
           {
            "colorbar": {
             "outlinewidth": 0,
             "ticks": ""
            },
            "colorscale": [
             [
              0,
              "#0d0887"
             ],
             [
              0.1111111111111111,
              "#46039f"
             ],
             [
              0.2222222222222222,
              "#7201a8"
             ],
             [
              0.3333333333333333,
              "#9c179e"
             ],
             [
              0.4444444444444444,
              "#bd3786"
             ],
             [
              0.5555555555555556,
              "#d8576b"
             ],
             [
              0.6666666666666666,
              "#ed7953"
             ],
             [
              0.7777777777777778,
              "#fb9f3a"
             ],
             [
              0.8888888888888888,
              "#fdca26"
             ],
             [
              1,
              "#f0f921"
             ]
            ],
            "type": "heatmapgl"
           }
          ],
          "histogram": [
           {
            "marker": {
             "pattern": {
              "fillmode": "overlay",
              "size": 10,
              "solidity": 0.2
             }
            },
            "type": "histogram"
           }
          ],
          "histogram2d": [
           {
            "colorbar": {
             "outlinewidth": 0,
             "ticks": ""
            },
            "colorscale": [
             [
              0,
              "#0d0887"
             ],
             [
              0.1111111111111111,
              "#46039f"
             ],
             [
              0.2222222222222222,
              "#7201a8"
             ],
             [
              0.3333333333333333,
              "#9c179e"
             ],
             [
              0.4444444444444444,
              "#bd3786"
             ],
             [
              0.5555555555555556,
              "#d8576b"
             ],
             [
              0.6666666666666666,
              "#ed7953"
             ],
             [
              0.7777777777777778,
              "#fb9f3a"
             ],
             [
              0.8888888888888888,
              "#fdca26"
             ],
             [
              1,
              "#f0f921"
             ]
            ],
            "type": "histogram2d"
           }
          ],
          "histogram2dcontour": [
           {
            "colorbar": {
             "outlinewidth": 0,
             "ticks": ""
            },
            "colorscale": [
             [
              0,
              "#0d0887"
             ],
             [
              0.1111111111111111,
              "#46039f"
             ],
             [
              0.2222222222222222,
              "#7201a8"
             ],
             [
              0.3333333333333333,
              "#9c179e"
             ],
             [
              0.4444444444444444,
              "#bd3786"
             ],
             [
              0.5555555555555556,
              "#d8576b"
             ],
             [
              0.6666666666666666,
              "#ed7953"
             ],
             [
              0.7777777777777778,
              "#fb9f3a"
             ],
             [
              0.8888888888888888,
              "#fdca26"
             ],
             [
              1,
              "#f0f921"
             ]
            ],
            "type": "histogram2dcontour"
           }
          ],
          "mesh3d": [
           {
            "colorbar": {
             "outlinewidth": 0,
             "ticks": ""
            },
            "type": "mesh3d"
           }
          ],
          "parcoords": [
           {
            "line": {
             "colorbar": {
              "outlinewidth": 0,
              "ticks": ""
             }
            },
            "type": "parcoords"
           }
          ],
          "pie": [
           {
            "automargin": true,
            "type": "pie"
           }
          ],
          "scatter": [
           {
            "fillpattern": {
             "fillmode": "overlay",
             "size": 10,
             "solidity": 0.2
            },
            "type": "scatter"
           }
          ],
          "scatter3d": [
           {
            "line": {
             "colorbar": {
              "outlinewidth": 0,
              "ticks": ""
             }
            },
            "marker": {
             "colorbar": {
              "outlinewidth": 0,
              "ticks": ""
             }
            },
            "type": "scatter3d"
           }
          ],
          "scattercarpet": [
           {
            "marker": {
             "colorbar": {
              "outlinewidth": 0,
              "ticks": ""
             }
            },
            "type": "scattercarpet"
           }
          ],
          "scattergeo": [
           {
            "marker": {
             "colorbar": {
              "outlinewidth": 0,
              "ticks": ""
             }
            },
            "type": "scattergeo"
           }
          ],
          "scattergl": [
           {
            "marker": {
             "colorbar": {
              "outlinewidth": 0,
              "ticks": ""
             }
            },
            "type": "scattergl"
           }
          ],
          "scattermapbox": [
           {
            "marker": {
             "colorbar": {
              "outlinewidth": 0,
              "ticks": ""
             }
            },
            "type": "scattermapbox"
           }
          ],
          "scatterpolar": [
           {
            "marker": {
             "colorbar": {
              "outlinewidth": 0,
              "ticks": ""
             }
            },
            "type": "scatterpolar"
           }
          ],
          "scatterpolargl": [
           {
            "marker": {
             "colorbar": {
              "outlinewidth": 0,
              "ticks": ""
             }
            },
            "type": "scatterpolargl"
           }
          ],
          "scatterternary": [
           {
            "marker": {
             "colorbar": {
              "outlinewidth": 0,
              "ticks": ""
             }
            },
            "type": "scatterternary"
           }
          ],
          "surface": [
           {
            "colorbar": {
             "outlinewidth": 0,
             "ticks": ""
            },
            "colorscale": [
             [
              0,
              "#0d0887"
             ],
             [
              0.1111111111111111,
              "#46039f"
             ],
             [
              0.2222222222222222,
              "#7201a8"
             ],
             [
              0.3333333333333333,
              "#9c179e"
             ],
             [
              0.4444444444444444,
              "#bd3786"
             ],
             [
              0.5555555555555556,
              "#d8576b"
             ],
             [
              0.6666666666666666,
              "#ed7953"
             ],
             [
              0.7777777777777778,
              "#fb9f3a"
             ],
             [
              0.8888888888888888,
              "#fdca26"
             ],
             [
              1,
              "#f0f921"
             ]
            ],
            "type": "surface"
           }
          ],
          "table": [
           {
            "cells": {
             "fill": {
              "color": "#EBF0F8"
             },
             "line": {
              "color": "white"
             }
            },
            "header": {
             "fill": {
              "color": "#C8D4E3"
             },
             "line": {
              "color": "white"
             }
            },
            "type": "table"
           }
          ]
         },
         "layout": {
          "annotationdefaults": {
           "arrowcolor": "#2a3f5f",
           "arrowhead": 0,
           "arrowwidth": 1
          },
          "autotypenumbers": "strict",
          "coloraxis": {
           "colorbar": {
            "outlinewidth": 0,
            "ticks": ""
           }
          },
          "colorscale": {
           "diverging": [
            [
             0,
             "#8e0152"
            ],
            [
             0.1,
             "#c51b7d"
            ],
            [
             0.2,
             "#de77ae"
            ],
            [
             0.3,
             "#f1b6da"
            ],
            [
             0.4,
             "#fde0ef"
            ],
            [
             0.5,
             "#f7f7f7"
            ],
            [
             0.6,
             "#e6f5d0"
            ],
            [
             0.7,
             "#b8e186"
            ],
            [
             0.8,
             "#7fbc41"
            ],
            [
             0.9,
             "#4d9221"
            ],
            [
             1,
             "#276419"
            ]
           ],
           "sequential": [
            [
             0,
             "#0d0887"
            ],
            [
             0.1111111111111111,
             "#46039f"
            ],
            [
             0.2222222222222222,
             "#7201a8"
            ],
            [
             0.3333333333333333,
             "#9c179e"
            ],
            [
             0.4444444444444444,
             "#bd3786"
            ],
            [
             0.5555555555555556,
             "#d8576b"
            ],
            [
             0.6666666666666666,
             "#ed7953"
            ],
            [
             0.7777777777777778,
             "#fb9f3a"
            ],
            [
             0.8888888888888888,
             "#fdca26"
            ],
            [
             1,
             "#f0f921"
            ]
           ],
           "sequentialminus": [
            [
             0,
             "#0d0887"
            ],
            [
             0.1111111111111111,
             "#46039f"
            ],
            [
             0.2222222222222222,
             "#7201a8"
            ],
            [
             0.3333333333333333,
             "#9c179e"
            ],
            [
             0.4444444444444444,
             "#bd3786"
            ],
            [
             0.5555555555555556,
             "#d8576b"
            ],
            [
             0.6666666666666666,
             "#ed7953"
            ],
            [
             0.7777777777777778,
             "#fb9f3a"
            ],
            [
             0.8888888888888888,
             "#fdca26"
            ],
            [
             1,
             "#f0f921"
            ]
           ]
          },
          "colorway": [
           "#636efa",
           "#EF553B",
           "#00cc96",
           "#ab63fa",
           "#FFA15A",
           "#19d3f3",
           "#FF6692",
           "#B6E880",
           "#FF97FF",
           "#FECB52"
          ],
          "font": {
           "color": "#2a3f5f"
          },
          "geo": {
           "bgcolor": "white",
           "lakecolor": "white",
           "landcolor": "#E5ECF6",
           "showlakes": true,
           "showland": true,
           "subunitcolor": "white"
          },
          "hoverlabel": {
           "align": "left"
          },
          "hovermode": "closest",
          "mapbox": {
           "style": "light"
          },
          "paper_bgcolor": "white",
          "plot_bgcolor": "#E5ECF6",
          "polar": {
           "angularaxis": {
            "gridcolor": "white",
            "linecolor": "white",
            "ticks": ""
           },
           "bgcolor": "#E5ECF6",
           "radialaxis": {
            "gridcolor": "white",
            "linecolor": "white",
            "ticks": ""
           }
          },
          "scene": {
           "xaxis": {
            "backgroundcolor": "#E5ECF6",
            "gridcolor": "white",
            "gridwidth": 2,
            "linecolor": "white",
            "showbackground": true,
            "ticks": "",
            "zerolinecolor": "white"
           },
           "yaxis": {
            "backgroundcolor": "#E5ECF6",
            "gridcolor": "white",
            "gridwidth": 2,
            "linecolor": "white",
            "showbackground": true,
            "ticks": "",
            "zerolinecolor": "white"
           },
           "zaxis": {
            "backgroundcolor": "#E5ECF6",
            "gridcolor": "white",
            "gridwidth": 2,
            "linecolor": "white",
            "showbackground": true,
            "ticks": "",
            "zerolinecolor": "white"
           }
          },
          "shapedefaults": {
           "line": {
            "color": "#2a3f5f"
           }
          },
          "ternary": {
           "aaxis": {
            "gridcolor": "white",
            "linecolor": "white",
            "ticks": ""
           },
           "baxis": {
            "gridcolor": "white",
            "linecolor": "white",
            "ticks": ""
           },
           "bgcolor": "#E5ECF6",
           "caxis": {
            "gridcolor": "white",
            "linecolor": "white",
            "ticks": ""
           }
          },
          "title": {
           "x": 0.05
          },
          "xaxis": {
           "automargin": true,
           "gridcolor": "white",
           "linecolor": "white",
           "ticks": "",
           "title": {
            "standoff": 15
           },
           "zerolinecolor": "white",
           "zerolinewidth": 2
          },
          "yaxis": {
           "automargin": true,
           "gridcolor": "white",
           "linecolor": "white",
           "ticks": "",
           "title": {
            "standoff": 15
           },
           "zerolinecolor": "white",
           "zerolinewidth": 2
          }
         }
        },
        "title": {
         "text": "fresh epsilon depending on existing eps (with Variance Reduction)"
        },
        "xaxis": {
         "anchor": "y",
         "domain": [
          0,
          0.48
         ],
         "title": {
          "text": "existing_eps"
         },
         "type": "log"
        },
        "xaxis2": {
         "anchor": "y2",
         "domain": [
          0.5,
          0.98
         ],
         "matches": "x",
         "title": {
          "text": "existing_eps"
         },
         "type": "log"
        },
        "xaxis3": {
         "anchor": "y3",
         "domain": [
          0,
          0.48
         ],
         "matches": "x",
         "showticklabels": false,
         "type": "log"
        },
        "xaxis4": {
         "anchor": "y4",
         "domain": [
          0.5,
          0.98
         ],
         "matches": "x",
         "showticklabels": false,
         "type": "log"
        },
        "yaxis": {
         "anchor": "x",
         "domain": [
          0,
          0.485
         ],
         "title": {
          "text": "epsilon"
         }
        },
        "yaxis2": {
         "anchor": "x2",
         "domain": [
          0,
          0.485
         ],
         "matches": "y",
         "showticklabels": false
        },
        "yaxis3": {
         "anchor": "x3",
         "domain": [
          0.515,
          1
         ],
         "matches": "y",
         "title": {
          "text": "epsilon"
         }
        },
        "yaxis4": {
         "anchor": "x4",
         "domain": [
          0.515,
          1
         ],
         "matches": "y",
         "showticklabels": false
        }
       }
      },
      "text/html": [
       "<div>                            <div id=\"830046ab-83ae-444c-8ca4-0a8f39b6badb\" class=\"plotly-graph-div\" style=\"height:525px; width:100%;\"></div>            <script type=\"text/javascript\">                require([\"plotly\"], function(Plotly) {                    window.PLOTLYENV=window.PLOTLYENV || {};                                    if (document.getElementById(\"830046ab-83ae-444c-8ca4-0a8f39b6badb\")) {                    Plotly.newPlot(                        \"830046ab-83ae-444c-8ca4-0a8f39b6badb\",                        [{\"hovertemplate\":\"bound=monte_carlo<br>beta=0.0001<br>alpha=0.001<br>existing_eps=%{x}<br>epsilon=%{y}<extra></extra>\",\"legendgroup\":\"monte_carlo\",\"line\":{\"color\":\"#636efa\",\"dash\":\"solid\"},\"marker\":{\"symbol\":\"circle\"},\"mode\":\"lines\",\"name\":\"monte_carlo\",\"orientation\":\"v\",\"showlegend\":true,\"x\":[0.0001,0.001,0.01,0.1,0.5,1.0,10.0],\"xaxis\":\"x3\",\"y\":[0.8564575209268119,0.8615221623515057,0.8529922399498746,0.852992239738759,0.5459150301573156,6.355287273430831e-11,6.355271544074578e-11],\"yaxis\":\"y3\",\"type\":\"scatter\"},{\"hovertemplate\":\"bound=monte_carlo<br>beta=0.0001<br>alpha=0.01<br>existing_eps=%{x}<br>epsilon=%{y}<extra></extra>\",\"legendgroup\":\"monte_carlo\",\"line\":{\"color\":\"#636efa\",\"dash\":\"solid\"},\"marker\":{\"symbol\":\"circle\"},\"mode\":\"lines\",\"name\":\"monte_carlo\",\"orientation\":\"v\",\"showlegend\":false,\"x\":[0.0001,0.001,0.01,0.1,0.5,1.0,10.0],\"xaxis\":\"x4\",\"y\":[0.08614815835626718,0.0863167457502894,0.08361934744352327,8.038873368363745e-11,8.038872886031326e-11,8.03887137874233e-11,8.038672414114006e-11],\"yaxis\":\"y4\",\"type\":\"scatter\"},{\"hovertemplate\":\"bound=monte_carlo<br>beta=0.001<br>alpha=0.001<br>existing_eps=%{x}<br>epsilon=%{y}<extra></extra>\",\"legendgroup\":\"monte_carlo\",\"line\":{\"color\":\"#636efa\",\"dash\":\"solid\"},\"marker\":{\"symbol\":\"circle\"},\"mode\":\"lines\",\"name\":\"monte_carlo\",\"orientation\":\"v\",\"showlegend\":false,\"x\":[0.0001,0.001,0.01,0.1,0.5,1.0,10.0],\"xaxis\":\"x\",\"y\":[0.6190591181451537,0.6220625069962986,0.6201253582900778,0.605197979115999,0.28768478112440693,5.084217235259662e-11,5.0829587294420335e-11],\"yaxis\":\"y\",\"type\":\"scatter\"},{\"hovertemplate\":\"bound=monte_carlo<br>beta=0.001<br>alpha=0.01<br>existing_eps=%{x}<br>epsilon=%{y}<extra></extra>\",\"legendgroup\":\"monte_carlo\",\"line\":{\"color\":\"#636efa\",\"dash\":\"solid\"},\"marker\":{\"symbol\":\"circle\"},\"mode\":\"lines\",\"name\":\"monte_carlo\",\"orientation\":\"v\",\"showlegend\":false,\"x\":[0.0001,0.001,0.01,0.1,0.5,1.0,10.0],\"xaxis\":\"x2\",\"y\":[0.062364708269477986,0.062197158017184166,0.06069146170395875,6.431097102993865e-11,6.431058516276192e-11,6.430937931291205e-11,6.41500081640783e-11],\"yaxis\":\"y2\",\"type\":\"scatter\"}],                        {\"template\":{\"data\":{\"histogram2dcontour\":[{\"type\":\"histogram2dcontour\",\"colorbar\":{\"outlinewidth\":0,\"ticks\":\"\"},\"colorscale\":[[0.0,\"#0d0887\"],[0.1111111111111111,\"#46039f\"],[0.2222222222222222,\"#7201a8\"],[0.3333333333333333,\"#9c179e\"],[0.4444444444444444,\"#bd3786\"],[0.5555555555555556,\"#d8576b\"],[0.6666666666666666,\"#ed7953\"],[0.7777777777777778,\"#fb9f3a\"],[0.8888888888888888,\"#fdca26\"],[1.0,\"#f0f921\"]]}],\"choropleth\":[{\"type\":\"choropleth\",\"colorbar\":{\"outlinewidth\":0,\"ticks\":\"\"}}],\"histogram2d\":[{\"type\":\"histogram2d\",\"colorbar\":{\"outlinewidth\":0,\"ticks\":\"\"},\"colorscale\":[[0.0,\"#0d0887\"],[0.1111111111111111,\"#46039f\"],[0.2222222222222222,\"#7201a8\"],[0.3333333333333333,\"#9c179e\"],[0.4444444444444444,\"#bd3786\"],[0.5555555555555556,\"#d8576b\"],[0.6666666666666666,\"#ed7953\"],[0.7777777777777778,\"#fb9f3a\"],[0.8888888888888888,\"#fdca26\"],[1.0,\"#f0f921\"]]}],\"heatmap\":[{\"type\":\"heatmap\",\"colorbar\":{\"outlinewidth\":0,\"ticks\":\"\"},\"colorscale\":[[0.0,\"#0d0887\"],[0.1111111111111111,\"#46039f\"],[0.2222222222222222,\"#7201a8\"],[0.3333333333333333,\"#9c179e\"],[0.4444444444444444,\"#bd3786\"],[0.5555555555555556,\"#d8576b\"],[0.6666666666666666,\"#ed7953\"],[0.7777777777777778,\"#fb9f3a\"],[0.8888888888888888,\"#fdca26\"],[1.0,\"#f0f921\"]]}],\"heatmapgl\":[{\"type\":\"heatmapgl\",\"colorbar\":{\"outlinewidth\":0,\"ticks\":\"\"},\"colorscale\":[[0.0,\"#0d0887\"],[0.1111111111111111,\"#46039f\"],[0.2222222222222222,\"#7201a8\"],[0.3333333333333333,\"#9c179e\"],[0.4444444444444444,\"#bd3786\"],[0.5555555555555556,\"#d8576b\"],[0.6666666666666666,\"#ed7953\"],[0.7777777777777778,\"#fb9f3a\"],[0.8888888888888888,\"#fdca26\"],[1.0,\"#f0f921\"]]}],\"contourcarpet\":[{\"type\":\"contourcarpet\",\"colorbar\":{\"outlinewidth\":0,\"ticks\":\"\"}}],\"contour\":[{\"type\":\"contour\",\"colorbar\":{\"outlinewidth\":0,\"ticks\":\"\"},\"colorscale\":[[0.0,\"#0d0887\"],[0.1111111111111111,\"#46039f\"],[0.2222222222222222,\"#7201a8\"],[0.3333333333333333,\"#9c179e\"],[0.4444444444444444,\"#bd3786\"],[0.5555555555555556,\"#d8576b\"],[0.6666666666666666,\"#ed7953\"],[0.7777777777777778,\"#fb9f3a\"],[0.8888888888888888,\"#fdca26\"],[1.0,\"#f0f921\"]]}],\"surface\":[{\"type\":\"surface\",\"colorbar\":{\"outlinewidth\":0,\"ticks\":\"\"},\"colorscale\":[[0.0,\"#0d0887\"],[0.1111111111111111,\"#46039f\"],[0.2222222222222222,\"#7201a8\"],[0.3333333333333333,\"#9c179e\"],[0.4444444444444444,\"#bd3786\"],[0.5555555555555556,\"#d8576b\"],[0.6666666666666666,\"#ed7953\"],[0.7777777777777778,\"#fb9f3a\"],[0.8888888888888888,\"#fdca26\"],[1.0,\"#f0f921\"]]}],\"mesh3d\":[{\"type\":\"mesh3d\",\"colorbar\":{\"outlinewidth\":0,\"ticks\":\"\"}}],\"scatter\":[{\"fillpattern\":{\"fillmode\":\"overlay\",\"size\":10,\"solidity\":0.2},\"type\":\"scatter\"}],\"parcoords\":[{\"type\":\"parcoords\",\"line\":{\"colorbar\":{\"outlinewidth\":0,\"ticks\":\"\"}}}],\"scatterpolargl\":[{\"type\":\"scatterpolargl\",\"marker\":{\"colorbar\":{\"outlinewidth\":0,\"ticks\":\"\"}}}],\"bar\":[{\"error_x\":{\"color\":\"#2a3f5f\"},\"error_y\":{\"color\":\"#2a3f5f\"},\"marker\":{\"line\":{\"color\":\"#E5ECF6\",\"width\":0.5},\"pattern\":{\"fillmode\":\"overlay\",\"size\":10,\"solidity\":0.2}},\"type\":\"bar\"}],\"scattergeo\":[{\"type\":\"scattergeo\",\"marker\":{\"colorbar\":{\"outlinewidth\":0,\"ticks\":\"\"}}}],\"scatterpolar\":[{\"type\":\"scatterpolar\",\"marker\":{\"colorbar\":{\"outlinewidth\":0,\"ticks\":\"\"}}}],\"histogram\":[{\"marker\":{\"pattern\":{\"fillmode\":\"overlay\",\"size\":10,\"solidity\":0.2}},\"type\":\"histogram\"}],\"scattergl\":[{\"type\":\"scattergl\",\"marker\":{\"colorbar\":{\"outlinewidth\":0,\"ticks\":\"\"}}}],\"scatter3d\":[{\"type\":\"scatter3d\",\"line\":{\"colorbar\":{\"outlinewidth\":0,\"ticks\":\"\"}},\"marker\":{\"colorbar\":{\"outlinewidth\":0,\"ticks\":\"\"}}}],\"scattermapbox\":[{\"type\":\"scattermapbox\",\"marker\":{\"colorbar\":{\"outlinewidth\":0,\"ticks\":\"\"}}}],\"scatterternary\":[{\"type\":\"scatterternary\",\"marker\":{\"colorbar\":{\"outlinewidth\":0,\"ticks\":\"\"}}}],\"scattercarpet\":[{\"type\":\"scattercarpet\",\"marker\":{\"colorbar\":{\"outlinewidth\":0,\"ticks\":\"\"}}}],\"carpet\":[{\"aaxis\":{\"endlinecolor\":\"#2a3f5f\",\"gridcolor\":\"white\",\"linecolor\":\"white\",\"minorgridcolor\":\"white\",\"startlinecolor\":\"#2a3f5f\"},\"baxis\":{\"endlinecolor\":\"#2a3f5f\",\"gridcolor\":\"white\",\"linecolor\":\"white\",\"minorgridcolor\":\"white\",\"startlinecolor\":\"#2a3f5f\"},\"type\":\"carpet\"}],\"table\":[{\"cells\":{\"fill\":{\"color\":\"#EBF0F8\"},\"line\":{\"color\":\"white\"}},\"header\":{\"fill\":{\"color\":\"#C8D4E3\"},\"line\":{\"color\":\"white\"}},\"type\":\"table\"}],\"barpolar\":[{\"marker\":{\"line\":{\"color\":\"#E5ECF6\",\"width\":0.5},\"pattern\":{\"fillmode\":\"overlay\",\"size\":10,\"solidity\":0.2}},\"type\":\"barpolar\"}],\"pie\":[{\"automargin\":true,\"type\":\"pie\"}]},\"layout\":{\"autotypenumbers\":\"strict\",\"colorway\":[\"#636efa\",\"#EF553B\",\"#00cc96\",\"#ab63fa\",\"#FFA15A\",\"#19d3f3\",\"#FF6692\",\"#B6E880\",\"#FF97FF\",\"#FECB52\"],\"font\":{\"color\":\"#2a3f5f\"},\"hovermode\":\"closest\",\"hoverlabel\":{\"align\":\"left\"},\"paper_bgcolor\":\"white\",\"plot_bgcolor\":\"#E5ECF6\",\"polar\":{\"bgcolor\":\"#E5ECF6\",\"angularaxis\":{\"gridcolor\":\"white\",\"linecolor\":\"white\",\"ticks\":\"\"},\"radialaxis\":{\"gridcolor\":\"white\",\"linecolor\":\"white\",\"ticks\":\"\"}},\"ternary\":{\"bgcolor\":\"#E5ECF6\",\"aaxis\":{\"gridcolor\":\"white\",\"linecolor\":\"white\",\"ticks\":\"\"},\"baxis\":{\"gridcolor\":\"white\",\"linecolor\":\"white\",\"ticks\":\"\"},\"caxis\":{\"gridcolor\":\"white\",\"linecolor\":\"white\",\"ticks\":\"\"}},\"coloraxis\":{\"colorbar\":{\"outlinewidth\":0,\"ticks\":\"\"}},\"colorscale\":{\"sequential\":[[0.0,\"#0d0887\"],[0.1111111111111111,\"#46039f\"],[0.2222222222222222,\"#7201a8\"],[0.3333333333333333,\"#9c179e\"],[0.4444444444444444,\"#bd3786\"],[0.5555555555555556,\"#d8576b\"],[0.6666666666666666,\"#ed7953\"],[0.7777777777777778,\"#fb9f3a\"],[0.8888888888888888,\"#fdca26\"],[1.0,\"#f0f921\"]],\"sequentialminus\":[[0.0,\"#0d0887\"],[0.1111111111111111,\"#46039f\"],[0.2222222222222222,\"#7201a8\"],[0.3333333333333333,\"#9c179e\"],[0.4444444444444444,\"#bd3786\"],[0.5555555555555556,\"#d8576b\"],[0.6666666666666666,\"#ed7953\"],[0.7777777777777778,\"#fb9f3a\"],[0.8888888888888888,\"#fdca26\"],[1.0,\"#f0f921\"]],\"diverging\":[[0,\"#8e0152\"],[0.1,\"#c51b7d\"],[0.2,\"#de77ae\"],[0.3,\"#f1b6da\"],[0.4,\"#fde0ef\"],[0.5,\"#f7f7f7\"],[0.6,\"#e6f5d0\"],[0.7,\"#b8e186\"],[0.8,\"#7fbc41\"],[0.9,\"#4d9221\"],[1,\"#276419\"]]},\"xaxis\":{\"gridcolor\":\"white\",\"linecolor\":\"white\",\"ticks\":\"\",\"title\":{\"standoff\":15},\"zerolinecolor\":\"white\",\"automargin\":true,\"zerolinewidth\":2},\"yaxis\":{\"gridcolor\":\"white\",\"linecolor\":\"white\",\"ticks\":\"\",\"title\":{\"standoff\":15},\"zerolinecolor\":\"white\",\"automargin\":true,\"zerolinewidth\":2},\"scene\":{\"xaxis\":{\"backgroundcolor\":\"#E5ECF6\",\"gridcolor\":\"white\",\"linecolor\":\"white\",\"showbackground\":true,\"ticks\":\"\",\"zerolinecolor\":\"white\",\"gridwidth\":2},\"yaxis\":{\"backgroundcolor\":\"#E5ECF6\",\"gridcolor\":\"white\",\"linecolor\":\"white\",\"showbackground\":true,\"ticks\":\"\",\"zerolinecolor\":\"white\",\"gridwidth\":2},\"zaxis\":{\"backgroundcolor\":\"#E5ECF6\",\"gridcolor\":\"white\",\"linecolor\":\"white\",\"showbackground\":true,\"ticks\":\"\",\"zerolinecolor\":\"white\",\"gridwidth\":2}},\"shapedefaults\":{\"line\":{\"color\":\"#2a3f5f\"}},\"annotationdefaults\":{\"arrowcolor\":\"#2a3f5f\",\"arrowhead\":0,\"arrowwidth\":1},\"geo\":{\"bgcolor\":\"white\",\"landcolor\":\"#E5ECF6\",\"subunitcolor\":\"white\",\"showland\":true,\"showlakes\":true,\"lakecolor\":\"white\"},\"title\":{\"x\":0.05},\"mapbox\":{\"style\":\"light\"}}},\"xaxis\":{\"anchor\":\"y\",\"domain\":[0.0,0.48],\"title\":{\"text\":\"existing_eps\"},\"type\":\"log\"},\"yaxis\":{\"anchor\":\"x\",\"domain\":[0.0,0.485],\"title\":{\"text\":\"epsilon\"}},\"xaxis2\":{\"anchor\":\"y2\",\"domain\":[0.5,0.98],\"matches\":\"x\",\"title\":{\"text\":\"existing_eps\"},\"type\":\"log\"},\"yaxis2\":{\"anchor\":\"x2\",\"domain\":[0.0,0.485],\"matches\":\"y\",\"showticklabels\":false},\"xaxis3\":{\"anchor\":\"y3\",\"domain\":[0.0,0.48],\"matches\":\"x\",\"showticklabels\":false,\"type\":\"log\"},\"yaxis3\":{\"anchor\":\"x3\",\"domain\":[0.515,1.0],\"matches\":\"y\",\"title\":{\"text\":\"epsilon\"}},\"xaxis4\":{\"anchor\":\"y4\",\"domain\":[0.5,0.98],\"matches\":\"x\",\"showticklabels\":false,\"type\":\"log\"},\"yaxis4\":{\"anchor\":\"x4\",\"domain\":[0.515,1.0],\"matches\":\"y\",\"showticklabels\":false},\"annotations\":[{\"font\":{},\"showarrow\":false,\"text\":\"alpha=0.001\",\"x\":0.24,\"xanchor\":\"center\",\"xref\":\"paper\",\"y\":1.0,\"yanchor\":\"bottom\",\"yref\":\"paper\"},{\"font\":{},\"showarrow\":false,\"text\":\"alpha=0.01\",\"x\":0.74,\"xanchor\":\"center\",\"xref\":\"paper\",\"y\":1.0,\"yanchor\":\"bottom\",\"yref\":\"paper\"},{\"font\":{},\"showarrow\":false,\"text\":\"beta=0.001\",\"textangle\":90,\"x\":0.98,\"xanchor\":\"left\",\"xref\":\"paper\",\"y\":0.2425,\"yanchor\":\"middle\",\"yref\":\"paper\"},{\"font\":{},\"showarrow\":false,\"text\":\"beta=0.0001\",\"textangle\":90,\"x\":0.98,\"xanchor\":\"left\",\"xref\":\"paper\",\"y\":0.7575000000000001,\"yanchor\":\"middle\",\"yref\":\"paper\"}],\"legend\":{\"title\":{\"text\":\"bound\"},\"tracegroupgap\":0},\"title\":{\"text\":\"fresh epsilon depending on existing eps (with Variance Reduction)\"}},                        {\"responsive\": true}                    ).then(function(){\n",
       "                            \n",
       "var gd = document.getElementById('830046ab-83ae-444c-8ca4-0a8f39b6badb');\n",
       "var x = new MutationObserver(function (mutations, observer) {{\n",
       "        var display = window.getComputedStyle(gd).display;\n",
       "        if (!display || display === 'none') {{\n",
       "            console.log([gd, 'removed!']);\n",
       "            Plotly.purge(gd);\n",
       "            observer.disconnect();\n",
       "        }}\n",
       "}});\n",
       "\n",
       "// Listen for the removal of the full notebook cells\n",
       "var notebookContainer = gd.closest('#notebook-container');\n",
       "if (notebookContainer) {{\n",
       "    x.observe(notebookContainer, {childList: true});\n",
       "}}\n",
       "\n",
       "// Listen for the clearing of the current output cell\n",
       "var outputEl = gd.closest('.output');\n",
       "if (outputEl) {{\n",
       "    x.observe(outputEl, {childList: true});\n",
       "}}\n",
       "\n",
       "                        })                };                });            </script>        </div>"
      ]
     },
     "metadata": {},
     "output_type": "display_data"
    }
   ],
   "source": [
    "px.line(df, log_x=True, x='existing_eps', y='epsilon', color='bound', facet_col=\"alpha\", facet_row=\"beta\", title=f'fresh epsilon depending on existing eps (with Variance Reduction)')"
   ]
  },
  {
   "attachments": {},
   "cell_type": "markdown",
   "metadata": {},
   "source": [
    "## Now, let's do VR on multiple chunks\n"
   ]
  },
  {
   "cell_type": "code",
   "execution_count": 50,
   "metadata": {},
   "outputs": [
    {
     "name": "stdout",
     "output_type": "stream",
     "text": [
      "Sufficient fresh eps for chunk 0: 23.273733406281565\n",
      "Sufficient fresh eps for chunk 1: 25.819887038224365\n",
      "Fresh epsilons: [25.81988704 25.81988704]\n",
      "Chunk 0 laplace scale: [2.10526342e-06 4.21052685e-06 1.08715328e-05]\n",
      "Chunk 1 laplace scale: [5.00000000e-09 1.29099435e-05]\n",
      "Fresh epsilons: [12.90994352 12.90994352]\n",
      "Chunk 0 laplace scale: [5.71428620e-06 1.14285724e-05 1.47542224e-05]\n",
      "Chunk 1 laplace scale: [1.99999910e-08 2.58198754e-05]\n",
      "0 < 12.909943519112183 < 25.819887038224365 gives beta=0.0. Target 0.01\n",
      "Fresh epsilons: [6.45497176 6.45497176]\n",
      "Chunk 0 laplace scale: [1.00000004e-05 2.00000008e-05 1.29099440e-05]\n",
      "Chunk 1 laplace scale: [7.99998200e-08 5.16396579e-05]\n",
      "0 < 6.454971759556091 < 12.909943519112183 gives beta=0.0. Target 0.01\n",
      "Fresh epsilons: [3.22748588 3.22748588]\n",
      "Chunk 0 laplace scale: [1.23076924e-05 2.46153849e-05 7.94458072e-06]\n",
      "Chunk 1 laplace scale: [3.19996976e-07 1.03278572e-04]\n",
      "0 < 3.2274858797780457 < 6.454971759556091 gives beta=0.0. Target 0.01\n",
      "Fresh epsilons: [1.61374294 1.61374294]\n",
      "Chunk 0 laplace scale: [1.30612245e-05 2.61224491e-05 4.21549177e-06]\n",
      "Chunk 1 laplace scale: [1.27995104e-06 2.06551196e-04]\n",
      "0 < 1.6137429398890228 < 3.2274858797780457 gives beta=0.0. Target 0.01\n",
      "Fresh epsilons: [0.80687147 0.80687147]\n",
      "Chunk 0 laplace scale: [1.32642487e-05 2.65284974e-05 2.14050877e-06]\n",
      "Chunk 1 laplace scale: [5.11921446e-06 4.13054809e-04]\n",
      "0 < 0.8068714699445114 < 1.6137429398890228 gives beta=0.0. Target 0.01\n",
      "Fresh epsilons: [0.40343573 0.40343573]\n",
      "Chunk 0 laplace scale: [1.33159948e-05 2.66319896e-05 1.07442963e-06]\n",
      "Chunk 1 laplace scale: [2.04674279e-05 8.25729181e-04]\n",
      "0 < 0.4034357349722557 < 0.8068714699445114 gives beta=3e-06. Target 0.01\n",
      "Fresh epsilons: [0.20171787 0.20171787]\n",
      "Chunk 0 laplace scale: [1.33289945e-05 2.66579889e-05 5.37739268e-07]\n",
      "Chunk 1 laplace scale: [8.17191792e-05 1.64842186e-03]\n",
      "0 < 0.20171786748612786 < 0.4034357349722557 gives beta=0.001197. Target 0.01\n",
      "Fresh epsilons: [0.10085893 0.10085893]\n",
      "Chunk 0 laplace scale: [1.33322484e-05 2.66644967e-05 2.68935271e-07]\n",
      "Chunk 1 laplace scale: [0.00032449 0.00327277]\n",
      "0 < 0.10085893374306393 < 0.20171786748612786 gives beta=0.023846. Target 0.01\n",
      "Fresh epsilons: [0.1512884 0.1512884]\n",
      "Chunk 0 laplace scale: [1.33308924e-05 2.66617847e-05 4.03361877e-07]\n",
      "Chunk 1 laplace scale: [0.000145   0.00219371]\n",
      "0.10085893374306393 < 0.1512884006145959 < 0.20171786748612786 gives beta=0.005122. Target 0.01\n",
      "Fresh epsilons: [0.12607367 0.12607367]\n",
      "Chunk 0 laplace scale: [1.33316381e-05 2.66632763e-05 3.36153702e-07]\n",
      "Chunk 1 laplace scale: [0.0002084  0.00262743]\n",
      "0.10085893374306393 < 0.1260736671788299 < 0.1512884006145959 gives beta=0.01129. Target 0.01\n",
      "Fresh epsilons: [0.13868103 0.13868103]\n",
      "Chunk 0 laplace scale: [1.33312822e-05 2.66625644e-05 3.69759199e-07]\n",
      "Chunk 1 laplace scale: [0.00017242 0.00239116]\n",
      "0.1260736671788299 < 0.13868103389671288 < 0.1512884006145959 gives beta=0.007668. Target 0.01\n",
      "Fresh epsilons: [0.13237735 0.13237735]\n",
      "Chunk 0 laplace scale: [1.33314644e-05 2.66629288e-05 3.52956787e-07]\n",
      "Chunk 1 laplace scale: [0.00018914 0.00250377]\n",
      "0.1260736671788299 < 0.1323773505377714 < 0.13868103389671288 gives beta=0.009212. Target 0.01\n",
      "Fresh epsilons: [0.12922551 0.12922551]\n",
      "Chunk 0 laplace scale: [1.33315523e-05 2.66631046e-05 3.44555326e-07]\n",
      "Chunk 1 laplace scale: [0.00019842 0.00256412]\n",
      "0.1260736671788299 < 0.12922550885830064 < 0.1323773505377714 gives beta=0.010087. Target 0.01\n",
      "Fresh epsilons: [0.13080143 0.13080143]\n",
      "Chunk 0 laplace scale: [1.33315086e-05 2.66630172e-05 3.48756078e-07]\n",
      "Chunk 1 laplace scale: [0.0001937  0.00253358]\n",
      "0.12922550885830064 < 0.13080142969803601 < 0.1323773505377714 gives beta=0.009517. Target 0.01\n",
      "Fresh epsilons: [0.13001347 0.13001347]\n",
      "Chunk 0 laplace scale: [1.33315305e-05 2.66630611e-05 3.46655707e-07]\n",
      "Chunk 1 laplace scale: [0.00019604 0.00254876]\n",
      "0.12922550885830064 < 0.13001346927816831 < 0.13080142969803601 gives beta=0.010023. Target 0.01\n",
      "Fresh epsilons: [0.13040745 0.13040745]\n",
      "Chunk 0 laplace scale: [1.33315196e-05 2.66630392e-05 3.47705894e-07]\n",
      "Chunk 1 laplace scale: [0.00019486 0.00254115]\n",
      "0.13001346927816831 < 0.13040744948810218 < 0.13080142969803601 gives beta=0.009952. Target 0.01\n",
      "Fresh epsilons: [0.13021046 0.13021046]\n",
      "Chunk 0 laplace scale: [1.33315251e-05 2.66630501e-05 3.47180801e-07]\n",
      "Chunk 1 laplace scale: [0.00019545 0.00254495]\n",
      "0.13001346927816831 < 0.13021045938313525 < 0.13040744948810218 gives beta=0.009989. Target 0.01\n",
      "Fresh epsilons: [0.13011196 0.13011196]\n",
      "Chunk 0 laplace scale: [1.33315278e-05 2.66630556e-05 3.46918254e-07]\n",
      "Chunk 1 laplace scale: [0.00019574 0.00254685]\n",
      "0.13001346927816831 < 0.13011196433065178 < 0.13021045938313525 gives beta=0.009801. Target 0.01\n",
      "Fresh epsilons: [0.13006272 0.13006272]\n",
      "Chunk 0 laplace scale: [1.33315292e-05 2.66630583e-05 3.46786981e-07]\n",
      "Chunk 1 laplace scale: [0.00019589 0.0025478 ]\n",
      "0.13001346927816831 < 0.13006271680441006 < 0.13011196433065178 gives beta=0.009865. Target 0.01\n",
      "Fresh epsilons: [0.13003809 0.13003809]\n",
      "Chunk 0 laplace scale: [1.33315299e-05 2.66630597e-05 3.46721344e-07]\n",
      "Chunk 1 laplace scale: [0.00019596 0.00254828]\n",
      "0.13001346927816831 < 0.1300380930412892 < 0.13006271680441006 gives beta=0.009859. Target 0.01\n",
      "Fresh epsilons: [0.13002578 0.13002578]\n",
      "Chunk 0 laplace scale: [1.33315302e-05 2.66630604e-05 3.46688526e-07]\n",
      "Chunk 1 laplace scale: [0.000196   0.00254852]\n",
      "0.13001346927816831 < 0.13002578115972874 < 0.1300380930412892 gives beta=0.009954. Target 0.01\n",
      "Fresh epsilons: [0.13001963 0.13001963]\n",
      "Chunk 0 laplace scale: [1.33315304e-05 2.66630607e-05 3.46672116e-07]\n",
      "Chunk 1 laplace scale: [0.00019602 0.00254864]\n",
      "0.13001346927816831 < 0.13001962521894853 < 0.13002578115972874 gives beta=0.010149. Target 0.01\n",
      "Fresh epsilons: [0.1300227 0.1300227]\n",
      "Chunk 0 laplace scale: [1.33315303e-05 2.66630606e-05 3.46680321e-07]\n",
      "Chunk 1 laplace scale: [0.00019601 0.00254858]\n",
      "0.13001962521894853 < 0.13002270318933862 < 0.13002578115972874 gives beta=0.009858. Target 0.01\n",
      "Fresh epsilons: [0.13002116 0.13002116]\n",
      "Chunk 0 laplace scale: [1.33315303e-05 2.66630606e-05 3.46676219e-07]\n",
      "Chunk 1 laplace scale: [0.00019601 0.00254861]\n",
      "0.13001962521894853 < 0.13002116420414356 < 0.13002270318933862 gives beta=0.009978. Target 0.01\n",
      "Fresh epsilons: [0.13002039 0.13002039]\n",
      "Chunk 0 laplace scale: [1.33315303e-05 2.66630607e-05 3.46674168e-07]\n",
      "Chunk 1 laplace scale: [0.00019602 0.00254862]\n",
      "0.13001962521894853 < 0.13002039471154603 < 0.13002116420414356 gives beta=0.009919. Target 0.01\n",
      "Fresh epsilons: [0.13002001 0.13002001]\n",
      "Chunk 0 laplace scale: [1.33315304e-05 2.66630607e-05 3.46673142e-07]\n",
      "Chunk 1 laplace scale: [0.00019602 0.00254863]\n",
      "0.13001962521894853 < 0.13002000996524726 < 0.13002039471154603 gives beta=0.009818. Target 0.01\n",
      "Fresh epsilons: [0.13001982 0.13001982]\n",
      "Chunk 0 laplace scale: [1.33315304e-05 2.66630607e-05 3.46672629e-07]\n",
      "Chunk 1 laplace scale: [0.00019602 0.00254864]\n",
      "0.13001962521894853 < 0.1300198175920979 < 0.13002000996524726 gives beta=0.01011. Target 0.01\n",
      "Fresh epsilons: [0.13001991 0.13001991]\n",
      "Chunk 0 laplace scale: [1.33315304e-05 2.66630607e-05 3.46672886e-07]\n",
      "Chunk 1 laplace scale: [0.00019602 0.00254863]\n",
      "0.1300198175920979 < 0.13001991377867259 < 0.13002000996524726 gives beta=0.009842. Target 0.01\n",
      "Fresh epsilons: [0.13001987 0.13001987]\n",
      "Chunk 0 laplace scale: [1.33315304e-05 2.66630607e-05 3.46672757e-07]\n",
      "Chunk 1 laplace scale: [0.00019602 0.00254863]\n",
      "0.1300198175920979 < 0.13001986568538526 < 0.13001991377867259 gives beta=0.010006. Target 0.01\n",
      "Fresh epsilons: [0.13001989 0.13001989]\n",
      "Chunk 0 laplace scale: [1.33315304e-05 2.66630607e-05 3.46672821e-07]\n",
      "Chunk 1 laplace scale: [0.00019602 0.00254863]\n",
      "0.13001986568538526 < 0.13001988973202894 < 0.13001991377867259 gives beta=0.010015. Target 0.01\n",
      "Fresh epsilons: [0.1300199 0.1300199]\n",
      "Chunk 0 laplace scale: [1.33315304e-05 2.66630607e-05 3.46672853e-07]\n",
      "Chunk 1 laplace scale: [0.00019602 0.00254863]\n",
      "0.13001988973202894 < 0.13001990175535078 < 0.13001991377867259 gives beta=0.009737. Target 0.01\n",
      "Fresh epsilons: [0.1300199 0.1300199]\n",
      "Chunk 0 laplace scale: [1.33315304e-05 2.66630607e-05 3.46672837e-07]\n",
      "Chunk 1 laplace scale: [0.00019602 0.00254863]\n",
      "0.13001988973202894 < 0.13001989574368986 < 0.13001990175535078 gives beta=0.009979. Target 0.01\n",
      "Fresh epsilons: [0.13001989 0.13001989]\n",
      "Chunk 0 laplace scale: [1.33315304e-05 2.66630607e-05 3.46672829e-07]\n",
      "Chunk 1 laplace scale: [0.00019602 0.00254863]\n",
      "0.13001988973202894 < 0.1300198927378594 < 0.13001989574368986 gives beta=0.009863. Target 0.01\n",
      "Fresh epsilons: [0.13001989 0.13001989]\n",
      "Chunk 0 laplace scale: [1.33315304e-05 2.66630607e-05 3.46672825e-07]\n",
      "Chunk 1 laplace scale: [0.00019602 0.00254863]\n",
      "0.13001988973202894 < 0.13001989123494417 < 0.1300198927378594 gives beta=0.00991. Target 0.01\n",
      "Fresh epsilons: [0.13001989 0.13001989]\n",
      "Chunk 0 laplace scale: [1.33315304e-05 2.66630607e-05 3.46672823e-07]\n",
      "Chunk 1 laplace scale: [0.00019602 0.00254863]\n",
      "0.13001988973202894 < 0.13001989048348656 < 0.13001989123494417 gives beta=0.009845. Target 0.01\n",
      "Fresh epsilons: [0.13001989 0.13001989]\n",
      "Chunk 0 laplace scale: [1.33315304e-05 2.66630607e-05 3.46672822e-07]\n",
      "Chunk 1 laplace scale: [0.00019602 0.00254863]\n",
      "0.13001988973202894 < 0.13001989010775775 < 0.13001989048348656 gives beta=0.009797. Target 0.01\n",
      "Fresh epsilons: [0.13001989 0.13001989]\n",
      "Chunk 0 laplace scale: [1.33315304e-05 2.66630607e-05 3.46672822e-07]\n",
      "Chunk 1 laplace scale: [0.00019602 0.00254863]\n",
      "0.13001988973202894 < 0.13001988991989333 < 0.13001989010775775 gives beta=0.009864. Target 0.01\n",
      "Fresh epsilons: [0.13001989 0.13001989]\n",
      "Chunk 0 laplace scale: [1.33315304e-05 2.66630607e-05 3.46672822e-07]\n",
      "Chunk 1 laplace scale: [0.00019602 0.00254863]\n",
      "0.13001988973202894 < 0.13001988982596113 < 0.13001988991989333 gives beta=0.00987. Target 0.01\n"
     ]
    },
    {
     "data": {
      "text/plain": [
       "(0.13001988982596113, array([1., 1.]))"
      ]
     },
     "execution_count": 50,
     "metadata": {},
     "output_type": "execute_result"
    }
   ],
   "source": [
    "existing_epsilons = [np.array([5, 10]), np.array([0.01])]\n",
    "chunk_sizes = [1_000, 2_000]\n",
    "alpha = 0.01\n",
    "beta = 0.01\n",
    "get_epsilon_vr_monte_carlo(existing_epsilons, chunk_sizes, alpha=alpha, beta=beta, N=1_000_000)"
   ]
  },
  {
   "cell_type": "code",
   "execution_count": 51,
   "metadata": {},
   "outputs": [
    {
     "name": "stdout",
     "output_type": "stream",
     "text": [
      "Sufficient fresh eps for chunk 0: 23.273733406281565\n",
      "Sufficient fresh eps for chunk 1: 25.81969532482261\n",
      "Fresh epsilons: [25.81969532 25.81969532]\n",
      "Chunk 0 laplace scale: [2.10528975e-06 4.21057950e-06 1.08715880e-05]\n",
      "Chunk 1 laplace scale: [5.00000000e-08 1.29098477e-05]\n",
      "Fresh epsilons: [12.90984766 12.90984766]\n",
      "Chunk 0 laplace scale: [5.71433469e-06 1.14286694e-05 1.47542381e-05]\n",
      "Chunk 1 laplace scale: [1.99991000e-07 2.58185335e-05]\n",
      "0 < 12.909847662411305 < 25.81969532482261 gives beta=0.0. Target 0.01\n",
      "Fresh epsilons: [6.45492383 6.45492383]\n",
      "Chunk 0 laplace scale: [1.00000375e-05 2.00000750e-05 1.29098961e-05]\n",
      "Chunk 1 laplace scale: [7.99820040e-07 5.16277744e-05]\n",
      "0 < 6.454923831205653 < 12.909847662411305 gives beta=0.0. Target 0.01\n",
      "Fresh epsilons: [3.22746192 3.22746192]\n",
      "Chunk 0 laplace scale: [1.23077065e-05 2.46154130e-05 7.94453081e-06]\n",
      "Chunk 1 laplace scale: [3.19697885e-06 1.03181275e-04]\n",
      "0 < 3.2274619156028264 < 6.454923831205653 gives beta=0.0. Target 0.01\n",
      "Fresh epsilons: [1.61373096 1.61373096]\n",
      "Chunk 0 laplace scale: [1.30612285e-05 2.61224570e-05 4.21546175e-06]\n",
      "Chunk 1 laplace scale: [1.27512266e-05 2.05770490e-04]\n",
      "0 < 1.6137309578014132 < 3.2274619156028264 gives beta=0.0. Target 0.01\n",
      "Fresh epsilons: [0.80686548 0.80686548]\n",
      "Chunk 0 laplace scale: [1.32642497e-05 2.65284995e-05 2.14049304e-06]\n",
      "Chunk 1 laplace scale: [5.04262098e-05 4.06871679e-04]\n",
      "0 < 0.8068654789007066 < 1.6137309578014132 gives beta=0.0. Target 0.01\n",
      "Fresh epsilons: [0.40343274 0.40343274]\n",
      "Chunk 0 laplace scale: [1.33159951e-05 2.66319901e-05 1.07442167e-06]\n",
      "Chunk 1 laplace scale: [0.00019295 0.00077842]\n",
      "0 < 0.4034327394503533 < 0.8068654789007066 gives beta=1e-06. Target 0.01\n",
      "Fresh epsilons: [0.20171637 0.20171637]\n",
      "Chunk 0 laplace scale: [1.33289945e-05 2.66579891e-05 5.37735278e-07]\n",
      "Chunk 1 laplace scale: [0.0006576  0.00132648]\n",
      "0 < 0.20171636972517665 < 0.4034327394503533 gives beta=0.000323. Target 0.01\n",
      "Fresh epsilons: [0.10085818 0.10085818]\n",
      "Chunk 0 laplace scale: [1.33322484e-05 2.66644967e-05 2.68933274e-07]\n",
      "Chunk 1 laplace scale: [0.00165242 0.00166661]\n",
      "0 < 0.10085818486258832 < 0.20171636972517665 gives beta=0.004932. Target 0.01\n",
      "Fresh epsilons: [0.05042909 0.05042909]\n",
      "Chunk 0 laplace scale: [1.33330621e-05 2.66661242e-05 1.34474844e-07]\n",
      "Chunk 1 laplace scale: [0.00265751 0.00134016]\n",
      "0 < 0.05042909243129416 < 0.10085818486258832 gives beta=0.015422. Target 0.01\n",
      "Fresh epsilons: [0.07564364 0.07564364]\n",
      "Chunk 0 laplace scale: [1.33327230e-05 2.66654460e-05 2.01707136e-07]\n",
      "Chunk 1 laplace scale: [0.00212018 0.00160378]\n",
      "0.05042909243129416 < 0.07564363864694124 < 0.10085818486258832 gives beta=0.00913. Target 0.01\n",
      "Fresh epsilons: [0.06303637 0.06303637]\n",
      "Chunk 0 laplace scale: [1.33329095e-05 2.66658190e-05 1.68091631e-07]\n",
      "Chunk 1 laplace scale: [0.00238545 0.0015037 ]\n",
      "0.05042909243129416 < 0.0630363655391177 < 0.07564363864694124 gives beta=0.012089. Target 0.01\n",
      "Fresh epsilons: [0.06934 0.06934]\n",
      "Chunk 0 laplace scale: [1.33328205e-05 2.66656410e-05 1.84899560e-07]\n",
      "Chunk 1 laplace scale: [0.00225103 0.00156086]\n",
      "0.0630363655391177 < 0.06934000209302947 < 0.07564363864694124 gives beta=0.010691. Target 0.01\n",
      "Fresh epsilons: [0.07249182 0.07249182]\n",
      "Chunk 0 laplace scale: [1.33327728e-05 2.66655456e-05 1.93303394e-07]\n",
      "Chunk 1 laplace scale: [0.00218507 0.00158399]\n",
      "0.06934000209302947 < 0.07249182036998536 < 0.07564363864694124 gives beta=0.009755. Target 0.01\n",
      "Fresh epsilons: [0.07091591 0.07091591]\n",
      "Chunk 0 laplace scale: [1.33327969e-05 2.66655938e-05 1.89101489e-07]\n",
      "Chunk 1 laplace scale: [0.00221792 0.00157286]\n",
      "0.06934000209302947 < 0.07091591123150742 < 0.07249182036998536 gives beta=0.010123. Target 0.01\n",
      "Fresh epsilons: [0.07170387 0.07170387]\n",
      "Chunk 0 laplace scale: [1.33327849e-05 2.66655699e-05 1.91202444e-07]\n",
      "Chunk 1 laplace scale: [0.00220146 0.00157853]\n",
      "0.07091591123150742 < 0.07170386580074639 < 0.07249182036998536 gives beta=0.009987. Target 0.01\n",
      "Fresh epsilons: [0.07130989 0.07130989]\n",
      "Chunk 0 laplace scale: [1.33327909e-05 2.66655819e-05 1.90151967e-07]\n",
      "Chunk 1 laplace scale: [0.00220969 0.00157572]\n",
      "0.07091591123150742 < 0.0713098885161269 < 0.07170386580074639 gives beta=0.010139. Target 0.01\n",
      "Fresh epsilons: [0.07150688 0.07150688]\n",
      "Chunk 0 laplace scale: [1.33327879e-05 2.66655759e-05 1.90677206e-07]\n",
      "Chunk 1 laplace scale: [0.00220557 0.00157714]\n",
      "0.0713098885161269 < 0.07150687715843665 < 0.07170386580074639 gives beta=0.010163. Target 0.01\n",
      "Fresh epsilons: [0.07160537 0.07160537]\n",
      "Chunk 0 laplace scale: [1.33327864e-05 2.66655729e-05 1.90939825e-07]\n",
      "Chunk 1 laplace scale: [0.00220352 0.00157784]\n",
      "0.07150687715843665 < 0.07160537147959152 < 0.07170386580074639 gives beta=0.01008. Target 0.01\n",
      "Fresh epsilons: [0.07165462 0.07165462]\n",
      "Chunk 0 laplace scale: [1.33327857e-05 2.66655714e-05 1.91071135e-07]\n",
      "Chunk 1 laplace scale: [0.00220249 0.00157819]\n",
      "0.07160537147959152 < 0.07165461864016895 < 0.07170386580074639 gives beta=0.010056. Target 0.01\n",
      "Fresh epsilons: [0.07167924 0.07167924]\n",
      "Chunk 0 laplace scale: [1.33327853e-05 2.66655706e-05 1.91136790e-07]\n",
      "Chunk 1 laplace scale: [0.00220198 0.00157836]\n",
      "0.07165461864016895 < 0.07167924222045767 < 0.07170386580074639 gives beta=0.010079. Target 0.01\n",
      "Fresh epsilons: [0.07169155 0.07169155]\n",
      "Chunk 0 laplace scale: [1.33327851e-05 2.66655702e-05 1.91169617e-07]\n",
      "Chunk 1 laplace scale: [0.00220172 0.00157845]\n",
      "0.07167924222045767 < 0.07169155401060204 < 0.07170386580074639 gives beta=0.009856. Target 0.01\n",
      "Fresh epsilons: [0.0716854 0.0716854]\n",
      "Chunk 0 laplace scale: [1.33327852e-05 2.66655704e-05 1.91153203e-07]\n",
      "Chunk 1 laplace scale: [0.00220185 0.0015784 ]\n",
      "0.07167924222045767 < 0.07168539811552985 < 0.07169155401060204 gives beta=0.009921. Target 0.01\n",
      "Fresh epsilons: [0.07168232 0.07168232]\n",
      "Chunk 0 laplace scale: [1.33327853e-05 2.66655705e-05 1.91144996e-07]\n",
      "Chunk 1 laplace scale: [0.00220191 0.00157838]\n",
      "0.07167924222045767 < 0.07168232016799375 < 0.07168539811552985 gives beta=0.009841. Target 0.01\n",
      "Fresh epsilons: [0.07168078 0.07168078]\n",
      "Chunk 0 laplace scale: [1.33327853e-05 2.66655706e-05 1.91140893e-07]\n",
      "Chunk 1 laplace scale: [0.00220194 0.00157837]\n",
      "0.07167924222045767 < 0.07168078119422572 < 0.07168232016799375 gives beta=0.010041. Target 0.01\n",
      "Fresh epsilons: [0.07168155 0.07168155]\n",
      "Chunk 0 laplace scale: [1.33327853e-05 2.66655706e-05 1.91142945e-07]\n",
      "Chunk 1 laplace scale: [0.00220193 0.00157838]\n",
      "0.07168078119422572 < 0.07168155068110973 < 0.07168232016799375 gives beta=0.009998. Target 0.01\n"
     ]
    },
    {
     "data": {
      "text/plain": [
       "(0.07168155068110973, array([1., 1.]))"
      ]
     },
     "execution_count": 51,
     "metadata": {},
     "output_type": "execute_result"
    }
   ],
   "source": [
    "existing_epsilons = [np.array([5, 10]), np.array([0.1])]\n",
    "chunk_sizes = [1_000, 2_000]\n",
    "alpha = 0.01\n",
    "beta = 0.01\n",
    "get_epsilon_vr_monte_carlo(existing_epsilons, chunk_sizes, alpha=alpha, beta=beta, N=1_000_000)"
   ]
  },
  {
   "cell_type": "code",
   "execution_count": 52,
   "metadata": {},
   "outputs": [
    {
     "name": "stdout",
     "output_type": "stream",
     "text": [
      "Sufficient fresh eps for chunk 0: 23.273733406281565\n",
      "Sufficient fresh eps for chunk 1: 25.81911436642757\n",
      "Fresh epsilons: [25.81911437 25.81911437]\n",
      "Chunk 0 laplace scale: [2.10536953e-06 4.21073907e-06 1.08717554e-05]\n",
      "Chunk 1 laplace scale: [1.00000000e-07 1.29095572e-05]\n",
      "Fresh epsilons: [12.90955718 12.90955718]\n",
      "Chunk 0 laplace scale: [5.71448164e-06 1.14289633e-05 1.47542855e-05]\n",
      "Chunk 1 laplace scale: [3.99928013e-07 2.58144678e-05]\n",
      "0 < 12.909557183213785 < 25.81911436642757 gives beta=0.0. Target 0.01\n",
      "Fresh epsilons: [6.45477859 6.45477859]\n",
      "Chunk 0 laplace scale: [1.00001500e-05 2.00003000e-05 1.29097508e-05]\n",
      "Chunk 1 laplace scale: [1.59856129e-06 5.15917961e-05]\n",
      "0 < 6.4547785916068925 < 12.909557183213785 gives beta=0.0. Target 0.01\n",
      "Fresh epsilons: [3.2273893 3.2273893]\n",
      "Chunk 0 laplace scale: [1.23077491e-05 2.46154982e-05 7.94437955e-06]\n",
      "Chunk 1 laplace scale: [6.37589910e-06 1.02887543e-04]\n",
      "0 < 3.2273892958034462 < 6.4547785916068925 gives beta=0.0. Target 0.01\n",
      "Fresh epsilons: [1.61369465 1.61369465]\n",
      "Chunk 0 laplace scale: [1.30612405e-05 2.61224810e-05 4.21537077e-06]\n",
      "Chunk 1 laplace scale: [2.52142224e-05 2.03440279e-04]\n",
      "0 < 1.6136946479017231 < 3.2273892958034462 gives beta=0.0. Target 0.01\n",
      "Fresh epsilons: [0.80684732 0.80684732]\n",
      "Chunk 0 laplace scale: [1.32642528e-05 2.65285057e-05 2.14044538e-06]\n",
      "Chunk 1 laplace scale: [9.64781699e-05 3.89215766e-04]\n",
      "0 < 0.8068473239508616 < 1.6136946479017231 gives beta=0.0. Target 0.01\n",
      "Fresh epsilons: [0.40342366 0.40342366]\n",
      "Chunk 0 laplace scale: [1.33159958e-05 2.66319917e-05 1.07439756e-06]\n",
      "Chunk 1 laplace scale: [0.00032881 0.00066325]\n",
      "0 < 0.4034236619754308 < 0.8068473239508616 gives beta=1e-06. Target 0.01\n",
      "Fresh epsilons: [0.20171183 0.20171183]\n",
      "Chunk 0 laplace scale: [1.33289947e-05 2.66579895e-05 5.37723186e-07]\n",
      "Chunk 1 laplace scale: [0.00082623 0.0008333 ]\n",
      "0 < 0.2017118309877154 < 0.4034236619754308 gives beta=1.4e-05. Target 0.01\n",
      "Fresh epsilons: [0.10085592 0.10085592]\n",
      "Chunk 0 laplace scale: [1.33322484e-05 2.66644968e-05 2.68927224e-07]\n",
      "Chunk 1 laplace scale: [0.00132876 0.00067007]\n",
      "0 < 0.1008559154938577 < 0.2017118309877154 gives beta=0.000368. Target 0.01\n",
      "Fresh epsilons: [0.05042796 0.05042796]\n",
      "Chunk 0 laplace scale: [1.33330621e-05 2.66661242e-05 1.34471818e-07]\n",
      "Chunk 1 laplace scale: [0.00156704 0.00039511]\n",
      "0 < 0.05042795774692885 < 0.1008559154938577 gives beta=0.000912. Target 0.01\n",
      "Fresh epsilons: [0.02521398 0.02521398]\n",
      "Chunk 0 laplace scale: [1.33332655e-05 2.66665310e-05 6.72369350e-08]\n",
      "Chunk 1 laplace scale: [0.00164059 0.00020683]\n",
      "0 < 0.025213978873464424 < 0.05042795774692885 gives beta=0.00114. Target 0.01\n",
      "Fresh epsilons: [0.01260699 0.01260699]\n",
      "Chunk 0 laplace scale: [1.33333164e-05 2.66666328e-05 3.36185958e-08]\n",
      "Chunk 1 laplace scale: [0.00166007 0.00010464]\n",
      "0 < 0.012606989436732212 < 0.025213978873464424 gives beta=0.001205. Target 0.01\n",
      "Fresh epsilons: [0.00630349 0.00630349]\n",
      "Chunk 0 laplace scale: [1.33333291e-05 2.66666582e-05 1.68093139e-08]\n",
      "Chunk 1 laplace scale: [1.66501272e-03 5.24769946e-05]\n",
      "0 < 0.006303494718366106 < 0.012606989436732212 gives beta=0.001194. Target 0.01\n",
      "Fresh epsilons: [0.00315175 0.00315175]\n",
      "Chunk 0 laplace scale: [1.33333323e-05 2.66666645e-05 8.40465896e-09]\n",
      "Chunk 1 laplace scale: [1.66625287e-03 2.62580405e-05]\n",
      "0 < 0.003151747359183053 < 0.006303494718366106 gives beta=0.001249. Target 0.01\n",
      "Fresh epsilons: [0.00157587 0.00157587]\n",
      "Chunk 0 laplace scale: [1.33333331e-05 2.66666661e-05 4.20232973e-09]\n",
      "Chunk 1 laplace scale: [1.66656320e-03 1.31314654e-05]\n",
      "0 < 0.0015758736795915265 < 0.003151747359183053 gives beta=0.001249. Target 0.01\n",
      "Fresh epsilons: [0.00078794 0.00078794]\n",
      "Chunk 0 laplace scale: [1.33333333e-05 2.66666665e-05 2.10116490e-09]\n",
      "Chunk 1 laplace scale: [1.66664080e-03 6.56603842e-06]\n",
      "0 < 0.0007879368397957632 < 0.0015758736795915265 gives beta=0.001227. Target 0.01\n",
      "Fresh epsilons: [0.00039397 0.00039397]\n",
      "Chunk 0 laplace scale: [1.33333333e-05 2.66666666e-05 1.05058245e-09]\n",
      "Chunk 1 laplace scale: [1.66666020e-03 3.28305743e-06]\n",
      "0 < 0.0003939684198978816 < 0.0007879368397957632 gives beta=0.001248. Target 0.01\n",
      "Fresh epsilons: [0.00019698 0.00019698]\n",
      "Chunk 0 laplace scale: [1.33333333e-05 2.66666667e-05 5.25291226e-10]\n",
      "Chunk 1 laplace scale: [1.66666505e-03 1.64153349e-06]\n",
      "0 < 0.0001969842099489408 < 0.0003939684198978816 gives beta=0.001267. Target 0.01\n",
      "Fresh epsilons: [9.8492105e-05 9.8492105e-05]\n",
      "Chunk 0 laplace scale: [1.33333333e-05 2.66666667e-05 2.62645613e-10]\n",
      "Chunk 1 laplace scale: [1.66666626e-03 8.20767342e-07]\n",
      "0 < 9.84921049744704e-05 < 0.0001969842099489408 gives beta=0.001202. Target 0.01\n",
      "Fresh epsilons: [4.92460525e-05 4.92460525e-05]\n",
      "Chunk 0 laplace scale: [1.33333333e-05 2.66666667e-05 1.31322807e-10]\n",
      "Chunk 1 laplace scale: [1.66666657e-03 4.10383746e-07]\n",
      "0 < 4.92460524872352e-05 < 9.84921049744704e-05 gives beta=0.001229. Target 0.01\n",
      "Fresh epsilons: [2.46230262e-05 2.46230262e-05]\n",
      "Chunk 0 laplace scale: [1.33333333e-05 2.66666667e-05 6.56614033e-11]\n",
      "Chunk 1 laplace scale: [1.66666664e-03 2.05191882e-07]\n",
      "0 < 2.46230262436176e-05 < 4.92460524872352e-05 gives beta=0.001221. Target 0.01\n",
      "Fresh epsilons: [1.23115131e-05 1.23115131e-05]\n",
      "Chunk 0 laplace scale: [1.33333333e-05 2.66666667e-05 3.28307017e-11]\n",
      "Chunk 1 laplace scale: [1.66666666e-03 1.02595942e-07]\n",
      "0 < 1.23115131218088e-05 < 2.46230262436176e-05 gives beta=0.001224. Target 0.01\n",
      "Fresh epsilons: [6.15575656e-06 6.15575656e-06]\n",
      "Chunk 0 laplace scale: [1.33333333e-05 2.66666667e-05 1.64153508e-11]\n",
      "Chunk 1 laplace scale: [1.66666667e-03 5.12979713e-08]\n",
      "0 < 6.1557565609044e-06 < 1.23115131218088e-05 gives beta=0.001278. Target 0.01\n",
      "Fresh epsilons: [3.07787828e-06 3.07787828e-06]\n",
      "Chunk 0 laplace scale: [1.33333333e-05 2.66666667e-05 8.20767541e-12]\n",
      "Chunk 1 laplace scale: [1.66666667e-03 2.56489857e-08]\n",
      "0 < 3.0778782804522e-06 < 6.1557565609044e-06 gives beta=0.001203. Target 0.01\n",
      "Fresh epsilons: [1.53893914e-06 1.53893914e-06]\n",
      "Chunk 0 laplace scale: [1.33333333e-05 2.66666667e-05 4.10383771e-12]\n",
      "Chunk 1 laplace scale: [1.66666667e-03 1.28244928e-08]\n",
      "0 < 1.5389391402261e-06 < 3.0778782804522e-06 gives beta=0.001269. Target 0.01\n",
      "Fresh epsilons: [7.6946957e-07 7.6946957e-07]\n",
      "Chunk 0 laplace scale: [1.33333333e-05 2.66666667e-05 2.05191885e-12]\n",
      "Chunk 1 laplace scale: [1.66666667e-03 6.41224642e-09]\n",
      "0 < 7.6946957011305e-07 < 1.5389391402261e-06 gives beta=0.001317. Target 0.01\n",
      "Fresh epsilons: [3.84734785e-07 3.84734785e-07]\n",
      "Chunk 0 laplace scale: [1.33333333e-05 2.66666667e-05 1.02595943e-12]\n",
      "Chunk 1 laplace scale: [1.66666667e-03 3.20612321e-09]\n",
      "0 < 3.84734785056525e-07 < 7.6946957011305e-07 gives beta=0.001184. Target 0.01\n",
      "Fresh epsilons: [1.92367393e-07 1.92367393e-07]\n",
      "Chunk 0 laplace scale: [1.33333333e-05 2.66666667e-05 5.12979713e-13]\n",
      "Chunk 1 laplace scale: [1.66666667e-03 1.60306160e-09]\n",
      "0 < 1.923673925282625e-07 < 3.84734785056525e-07 gives beta=0.00124. Target 0.01\n",
      "Fresh epsilons: [9.61836963e-08 9.61836963e-08]\n",
      "Chunk 0 laplace scale: [1.33333333e-05 2.66666667e-05 2.56489857e-13]\n",
      "Chunk 1 laplace scale: [1.66666667e-03 8.01530802e-10]\n",
      "0 < 9.618369626413126e-08 < 1.923673925282625e-07 gives beta=0.001202. Target 0.01\n",
      "Fresh epsilons: [4.80918481e-08 4.80918481e-08]\n",
      "Chunk 0 laplace scale: [1.33333333e-05 2.66666667e-05 1.28244928e-13]\n",
      "Chunk 1 laplace scale: [1.66666667e-03 4.00765401e-10]\n",
      "0 < 4.809184813206563e-08 < 9.618369626413126e-08 gives beta=0.001164. Target 0.01\n",
      "Fresh epsilons: [2.40459241e-08 2.40459241e-08]\n",
      "Chunk 0 laplace scale: [1.33333333e-05 2.66666667e-05 6.41224642e-14]\n",
      "Chunk 1 laplace scale: [1.66666667e-03 2.00382701e-10]\n",
      "0 < 2.4045924066032814e-08 < 4.809184813206563e-08 gives beta=0.00126. Target 0.01\n",
      "Fresh epsilons: [1.2022962e-08 1.2022962e-08]\n",
      "Chunk 0 laplace scale: [1.33333333e-05 2.66666667e-05 3.20612321e-14]\n",
      "Chunk 1 laplace scale: [1.66666667e-03 1.00191350e-10]\n",
      "0 < 1.2022962033016407e-08 < 2.4045924066032814e-08 gives beta=0.001266. Target 0.01\n",
      "Fresh epsilons: [6.01148102e-09 6.01148102e-09]\n",
      "Chunk 0 laplace scale: [1.33333333e-05 2.66666667e-05 1.60306160e-14]\n",
      "Chunk 1 laplace scale: [1.66666667e-03 5.00956751e-11]\n",
      "0 < 6.0114810165082035e-09 < 1.2022962033016407e-08 gives beta=0.001242. Target 0.01\n",
      "Fresh epsilons: [3.00574051e-09 3.00574051e-09]\n",
      "Chunk 0 laplace scale: [1.33333333e-05 2.66666667e-05 8.01530802e-15]\n",
      "Chunk 1 laplace scale: [1.66666667e-03 2.50478376e-11]\n",
      "0 < 3.0057405082541017e-09 < 6.0114810165082035e-09 gives beta=0.001234. Target 0.01\n",
      "Fresh epsilons: [1.50287025e-09 1.50287025e-09]\n",
      "Chunk 0 laplace scale: [1.33333333e-05 2.66666667e-05 4.00765401e-15]\n",
      "Chunk 1 laplace scale: [1.66666667e-03 1.25239188e-11]\n",
      "0 < 1.5028702541270509e-09 < 3.0057405082541017e-09 gives beta=0.001272. Target 0.01\n",
      "Fresh epsilons: [7.51435127e-10 7.51435127e-10]\n",
      "Chunk 0 laplace scale: [1.33333333e-05 2.66666667e-05 2.00382701e-15]\n",
      "Chunk 1 laplace scale: [1.66666667e-03 6.26195939e-12]\n",
      "0 < 7.514351270635254e-10 < 1.5028702541270509e-09 gives beta=0.001236. Target 0.01\n",
      "Fresh epsilons: [3.75717564e-10 3.75717564e-10]\n",
      "Chunk 0 laplace scale: [1.33333333e-05 2.66666667e-05 1.00191350e-15]\n",
      "Chunk 1 laplace scale: [1.66666667e-03 3.13097970e-12]\n",
      "0 < 3.757175635317627e-10 < 7.514351270635254e-10 gives beta=0.001241. Target 0.01\n",
      "Fresh epsilons: [1.87858782e-10 1.87858782e-10]\n",
      "Chunk 0 laplace scale: [1.33333333e-05 2.66666667e-05 5.00956751e-16]\n",
      "Chunk 1 laplace scale: [1.66666667e-03 1.56548985e-12]\n",
      "0 < 1.8785878176588136e-10 < 3.757175635317627e-10 gives beta=0.001259. Target 0.01\n",
      "Fresh epsilons: [9.39293909e-11 9.39293909e-11]\n",
      "Chunk 0 laplace scale: [1.33333333e-05 2.66666667e-05 2.50478376e-16]\n",
      "Chunk 1 laplace scale: [1.66666667e-03 7.82744924e-13]\n",
      "0 < 9.392939088294068e-11 < 1.8785878176588136e-10 gives beta=0.001277. Target 0.01\n"
     ]
    },
    {
     "data": {
      "text/plain": [
       "(9.392939088294068e-11, array([1., 1.]))"
      ]
     },
     "execution_count": 52,
     "metadata": {},
     "output_type": "execute_result"
    }
   ],
   "source": [
    "existing_epsilons = [np.array([5, 10]), np.array([0.2])]\n",
    "chunk_sizes = [1_000, 2_000]\n",
    "alpha = 0.01\n",
    "beta = 0.01\n",
    "get_epsilon_vr_monte_carlo(existing_epsilons, chunk_sizes, alpha=alpha, beta=beta, N=1_000_000)"
   ]
  },
  {
   "cell_type": "code",
   "execution_count": 53,
   "metadata": {},
   "outputs": [
    {
     "name": "stdout",
     "output_type": "stream",
     "text": [
      "Sufficient fresh eps for chunk 0: 23.273733406281565\n",
      "Sufficient fresh eps for chunk 1: 25.819501673476708\n",
      "Fresh epsilons: [25.81950167 25.81950167]\n",
      "Chunk 0 laplace scale: [2.10531634e-06 4.21063269e-06 1.08716438e-05]\n",
      "Chunk 1 laplace scale: [5.00000000e-08 5.00000000e-08 1.29097508e-05]\n",
      "Fresh epsilons: [12.90975084 12.90975084]\n",
      "Chunk 0 laplace scale: [5.71438368e-06 1.14287674e-05 1.47542539e-05]\n",
      "Chunk 1 laplace scale: [1.99982002e-07 1.99982002e-07 2.58171781e-05]\n",
      "0 < 12.909750836738354 < 25.819501673476708 gives beta=0.0. Target 0.01\n",
      "Fresh epsilons: [6.45487542 6.45487542]\n",
      "Chunk 0 laplace scale: [1.00000750e-05 2.00001500e-05 1.29098477e-05]\n",
      "Chunk 1 laplace scale: [7.99640162e-07 7.99640162e-07 5.16157762e-05]\n",
      "0 < 6.454875418369177 < 12.909750836738354 gives beta=0.0. Target 0.01\n",
      "Fresh epsilons: [3.22743771 3.22743771]\n",
      "Chunk 0 laplace scale: [1.23077207e-05 2.46154414e-05 7.94448039e-06]\n",
      "Chunk 1 laplace scale: [3.19396341e-06 3.19396341e-06 1.03083179e-04]\n",
      "0 < 3.2274377091845885 < 6.454875418369177 gives beta=0.0. Target 0.01\n",
      "Fresh epsilons: [1.61371885 1.61371885]\n",
      "Chunk 0 laplace scale: [1.30612325e-05 2.61224650e-05 4.21543143e-06]\n",
      "Chunk 1 laplace scale: [1.27028234e-05 1.27028234e-05 2.04987856e-04]\n",
      "0 < 1.6137188545922942 < 3.2274377091845885 gives beta=0.0. Target 0.01\n",
      "Fresh epsilons: [0.80685943 0.80685943]\n",
      "Chunk 0 laplace scale: [1.32642508e-05 2.65285015e-05 2.14047716e-06]\n",
      "Chunk 1 laplace scale: [4.96754601e-05 4.96754601e-05 4.00811133e-04]\n",
      "0 < 0.8068594272961471 < 1.6137188545922942 gives beta=0.0. Target 0.01\n",
      "Fresh epsilons: [0.40342971 0.40342971]\n",
      "Chunk 0 laplace scale: [1.33159953e-05 2.66319906e-05 1.07441364e-06]\n",
      "Chunk 1 laplace scale: [0.00018239 0.00018239 0.00073583]\n",
      "0 < 0.40342971364807356 < 0.8068594272961471 gives beta=3e-06. Target 0.01\n",
      "Fresh epsilons: [0.20171486 0.20171486]\n",
      "Chunk 0 laplace scale: [1.33289946e-05 2.66579892e-05 5.37731247e-07]\n",
      "Chunk 1 laplace scale: [0.00054925 0.00054925 0.00110792]\n",
      "0 < 0.20171485682403678 < 0.40342971364807356 gives beta=0.000103. Target 0.01\n",
      "Fresh epsilons: [0.10085743 0.10085743]\n",
      "Chunk 0 laplace scale: [1.33322484e-05 2.66644968e-05 2.68931257e-07]\n",
      "Chunk 1 laplace scale: [0.00110477 0.00110477 0.00111424]\n",
      "0 < 0.10085742841201839 < 0.20171485682403678 gives beta=0.001018. Target 0.01\n",
      "Fresh epsilons: [0.05042871 0.05042871]\n",
      "Chunk 0 laplace scale: [1.33330621e-05 2.66661242e-05 1.34473835e-07]\n",
      "Chunk 1 laplace scale: [0.00147865 0.00147865 0.00074567]\n",
      "0 < 0.050428714206009195 < 0.10085742841201839 gives beta=0.003047. Target 0.01\n",
      "Fresh epsilons: [0.02521436 0.02521436]\n",
      "Chunk 0 laplace scale: [1.33332655e-05 2.66665310e-05 6.72379436e-08]\n",
      "Chunk 1 laplace scale: [0.00161532 0.00161532 0.00040729]\n",
      "0 < 0.025214357103004598 < 0.050428714206009195 gives beta=0.004407. Target 0.01\n",
      "Fresh epsilons: [0.01260718 0.01260718]\n",
      "Chunk 0 laplace scale: [1.33333164e-05 2.66666328e-05 3.36191001e-08]\n",
      "Chunk 1 laplace scale: [0.00165353 0.00165353 0.00020846]\n",
      "0 < 0.012607178551502299 < 0.025214357103004598 gives beta=0.004885. Target 0.01\n",
      "Fresh epsilons: [0.00630359 0.00630359]\n",
      "Chunk 0 laplace scale: [1.33333291e-05 2.66666582e-05 1.68095661e-08]\n",
      "Chunk 1 laplace scale: [0.00166336 0.00166336 0.00010485]\n",
      "0 < 0.006303589275751149 < 0.012607178551502299 gives beta=0.004931. Target 0.01\n",
      "Fresh epsilons: [0.00315179 0.00315179]\n",
      "Chunk 0 laplace scale: [1.33333323e-05 2.66666645e-05 8.40478503e-09]\n",
      "Chunk 1 laplace scale: [1.66583926e-03 1.66583926e-03 5.25038325e-05]\n",
      "0 < 0.0031517946378755747 < 0.006303589275751149 gives beta=0.005013. Target 0.01\n",
      "Fresh epsilons: [0.0015759 0.0015759]\n",
      "Chunk 0 laplace scale: [1.33333331e-05 2.66666661e-05 4.20239277e-09]\n",
      "Chunk 1 laplace scale: [1.66645974e-03 1.66645974e-03 2.62616943e-05]\n",
      "0 < 0.0015758973189377874 < 0.0031517946378755747 gives beta=0.004952. Target 0.01\n",
      "Fresh epsilons: [0.00078795 0.00078795]\n",
      "Chunk 0 laplace scale: [1.33333333e-05 2.66666665e-05 2.10119641e-09]\n",
      "Chunk 1 laplace scale: [1.66661493e-03 1.66661493e-03 1.31320700e-05]\n",
      "0 < 0.0007879486594688937 < 0.0015758973189377874 gives beta=0.00499. Target 0.01\n",
      "Fresh epsilons: [0.00039397 0.00039397]\n",
      "Chunk 0 laplace scale: [1.33333333e-05 2.66666666e-05 1.05059821e-09]\n",
      "Chunk 1 laplace scale: [1.66665373e-03 1.66665373e-03 6.56618787e-06]\n",
      "0 < 0.00039397432973444684 < 0.0007879486594688937 gives beta=0.005022. Target 0.01\n",
      "Fresh epsilons: [0.00019699 0.00019699]\n",
      "Chunk 0 laplace scale: [1.33333333e-05 2.66666667e-05 5.25299106e-10]\n",
      "Chunk 1 laplace scale: [1.66666343e-03 1.66666343e-03 3.28311304e-06]\n",
      "0 < 0.00019698716486722342 < 0.00039397432973444684 gives beta=0.005054. Target 0.01\n",
      "Fresh epsilons: [9.84935824e-05 9.84935824e-05]\n",
      "Chunk 0 laplace scale: [1.33333333e-05 2.66666667e-05 2.62649553e-10]\n",
      "Chunk 1 laplace scale: [1.66666586e-03 1.66666586e-03 1.64155891e-06]\n",
      "0 < 9.849358243361171e-05 < 0.00019698716486722342 gives beta=0.004952. Target 0.01\n",
      "Fresh epsilons: [4.92467912e-05 4.92467912e-05]\n",
      "Chunk 0 laplace scale: [1.33333333e-05 2.66666667e-05 1.31324777e-10]\n",
      "Chunk 1 laplace scale: [1.66666646e-03 1.66666646e-03 8.20779754e-07]\n",
      "0 < 4.9246791216805855e-05 < 9.849358243361171e-05 gives beta=0.005021. Target 0.01\n",
      "Fresh epsilons: [2.46233956e-05 2.46233956e-05]\n",
      "Chunk 0 laplace scale: [1.33333333e-05 2.66666667e-05 6.56623883e-11]\n",
      "Chunk 1 laplace scale: [1.66666662e-03 1.66666662e-03 4.10389914e-07]\n",
      "0 < 2.4623395608402927e-05 < 4.9246791216805855e-05 gives beta=0.005013. Target 0.01\n",
      "Fresh epsilons: [1.23116978e-05 1.23116978e-05]\n",
      "Chunk 0 laplace scale: [1.33333333e-05 2.66666667e-05 3.28311941e-11]\n",
      "Chunk 1 laplace scale: [1.66666665e-03 1.66666665e-03 2.05194962e-07]\n",
      "0 < 1.2311697804201464e-05 < 2.4623395608402927e-05 gives beta=0.004983. Target 0.01\n",
      "Fresh epsilons: [6.1558489e-06 6.1558489e-06]\n",
      "Chunk 0 laplace scale: [1.33333333e-05 2.66666667e-05 1.64155971e-11]\n",
      "Chunk 1 laplace scale: [1.66666666e-03 1.66666666e-03 1.02597482e-07]\n",
      "0 < 6.155848902100732e-06 < 1.2311697804201464e-05 gives beta=0.00491. Target 0.01\n",
      "Fresh epsilons: [3.07792445e-06 3.07792445e-06]\n",
      "Chunk 0 laplace scale: [1.33333333e-05 2.66666667e-05 8.20779854e-12]\n",
      "Chunk 1 laplace scale: [1.66666667e-03 1.66666667e-03 5.12987408e-08]\n",
      "0 < 3.077924451050366e-06 < 6.155848902100732e-06 gives beta=0.004934. Target 0.01\n",
      "Fresh epsilons: [1.53896223e-06 1.53896223e-06]\n",
      "Chunk 0 laplace scale: [1.33333333e-05 2.66666667e-05 4.10389927e-12]\n",
      "Chunk 1 laplace scale: [1.66666667e-03 1.66666667e-03 2.56493704e-08]\n",
      "0 < 1.538962225525183e-06 < 3.077924451050366e-06 gives beta=0.00502. Target 0.01\n",
      "Fresh epsilons: [7.69481113e-07 7.69481113e-07]\n",
      "Chunk 0 laplace scale: [1.33333333e-05 2.66666667e-05 2.05194963e-12]\n",
      "Chunk 1 laplace scale: [1.66666667e-03 1.66666667e-03 1.28246852e-08]\n",
      "0 < 7.694811127625915e-07 < 1.538962225525183e-06 gives beta=0.005018. Target 0.01\n",
      "Fresh epsilons: [3.84740556e-07 3.84740556e-07]\n",
      "Chunk 0 laplace scale: [1.33333333e-05 2.66666667e-05 1.02597482e-12]\n",
      "Chunk 1 laplace scale: [1.66666667e-03 1.66666667e-03 6.41234261e-09]\n",
      "0 < 3.8474055638129574e-07 < 7.694811127625915e-07 gives beta=0.005029. Target 0.01\n",
      "Fresh epsilons: [1.92370278e-07 1.92370278e-07]\n",
      "Chunk 0 laplace scale: [1.33333333e-05 2.66666667e-05 5.12987409e-13]\n",
      "Chunk 1 laplace scale: [1.66666667e-03 1.66666667e-03 3.20617130e-09]\n",
      "0 < 1.9237027819064787e-07 < 3.8474055638129574e-07 gives beta=0.005. Target 0.01\n",
      "Fresh epsilons: [9.61851391e-08 9.61851391e-08]\n",
      "Chunk 0 laplace scale: [1.33333333e-05 2.66666667e-05 2.56493704e-13]\n",
      "Chunk 1 laplace scale: [1.66666667e-03 1.66666667e-03 1.60308565e-09]\n",
      "0 < 9.618513909532394e-08 < 1.9237027819064787e-07 gives beta=0.004993. Target 0.01\n",
      "Fresh epsilons: [4.80925695e-08 4.80925695e-08]\n",
      "Chunk 0 laplace scale: [1.33333333e-05 2.66666667e-05 1.28246852e-13]\n",
      "Chunk 1 laplace scale: [1.66666667e-03 1.66666667e-03 8.01542826e-10]\n",
      "0 < 4.809256954766197e-08 < 9.618513909532394e-08 gives beta=0.004961. Target 0.01\n",
      "Fresh epsilons: [2.40462848e-08 2.40462848e-08]\n",
      "Chunk 0 laplace scale: [1.33333333e-05 2.66666667e-05 6.41234261e-14]\n",
      "Chunk 1 laplace scale: [1.66666667e-03 1.66666667e-03 4.00771413e-10]\n",
      "0 < 2.4046284773830984e-08 < 4.809256954766197e-08 gives beta=0.00491. Target 0.01\n",
      "Fresh epsilons: [1.20231424e-08 1.20231424e-08]\n",
      "Chunk 0 laplace scale: [1.33333333e-05 2.66666667e-05 3.20617130e-14]\n",
      "Chunk 1 laplace scale: [1.66666667e-03 1.66666667e-03 2.00385706e-10]\n",
      "0 < 1.2023142386915492e-08 < 2.4046284773830984e-08 gives beta=0.004974. Target 0.01\n",
      "Fresh epsilons: [6.01157119e-09 6.01157119e-09]\n",
      "Chunk 0 laplace scale: [1.33333333e-05 2.66666667e-05 1.60308565e-14]\n",
      "Chunk 1 laplace scale: [1.66666667e-03 1.66666667e-03 1.00192853e-10]\n",
      "0 < 6.011571193457746e-09 < 1.2023142386915492e-08 gives beta=0.004906. Target 0.01\n",
      "Fresh epsilons: [3.0057856e-09 3.0057856e-09]\n",
      "Chunk 0 laplace scale: [1.33333333e-05 2.66666667e-05 8.01542826e-15]\n",
      "Chunk 1 laplace scale: [1.66666667e-03 1.66666667e-03 5.00964266e-11]\n",
      "0 < 3.005785596728873e-09 < 6.011571193457746e-09 gives beta=0.004994. Target 0.01\n",
      "Fresh epsilons: [1.5028928e-09 1.5028928e-09]\n",
      "Chunk 0 laplace scale: [1.33333333e-05 2.66666667e-05 4.00771413e-15]\n",
      "Chunk 1 laplace scale: [1.66666667e-03 1.66666667e-03 2.50482133e-11]\n",
      "0 < 1.5028927983644365e-09 < 3.005785596728873e-09 gives beta=0.005114. Target 0.01\n",
      "Fresh epsilons: [7.51446399e-10 7.51446399e-10]\n",
      "Chunk 0 laplace scale: [1.33333333e-05 2.66666667e-05 2.00385706e-15]\n",
      "Chunk 1 laplace scale: [1.66666667e-03 1.66666667e-03 1.25241067e-11]\n",
      "0 < 7.514463991822182e-10 < 1.5028927983644365e-09 gives beta=0.004964. Target 0.01\n",
      "Fresh epsilons: [3.757232e-10 3.757232e-10]\n",
      "Chunk 0 laplace scale: [1.33333333e-05 2.66666667e-05 1.00192853e-15]\n",
      "Chunk 1 laplace scale: [1.66666667e-03 1.66666667e-03 6.26205333e-12]\n",
      "0 < 3.757231995911091e-10 < 7.514463991822182e-10 gives beta=0.005002. Target 0.01\n",
      "Fresh epsilons: [1.878616e-10 1.878616e-10]\n",
      "Chunk 0 laplace scale: [1.33333333e-05 2.66666667e-05 5.00964266e-16]\n",
      "Chunk 1 laplace scale: [1.66666667e-03 1.66666667e-03 3.13102666e-12]\n",
      "0 < 1.8786159979555456e-10 < 3.757231995911091e-10 gives beta=0.004979. Target 0.01\n",
      "Fresh epsilons: [9.39307999e-11 9.39307999e-11]\n",
      "Chunk 0 laplace scale: [1.33333333e-05 2.66666667e-05 2.50482133e-16]\n",
      "Chunk 1 laplace scale: [1.66666667e-03 1.66666667e-03 1.56551333e-12]\n",
      "0 < 9.393079989777728e-11 < 1.8786159979555456e-10 gives beta=0.004916. Target 0.01\n"
     ]
    },
    {
     "data": {
      "text/plain": [
       "(9.393079989777728e-11, array([1., 1.]))"
      ]
     },
     "execution_count": 53,
     "metadata": {},
     "output_type": "execute_result"
    }
   ],
   "source": [
    "existing_epsilons = [np.array([5, 10]), np.array([0.1, 0.1])]\n",
    "chunk_sizes = [1_000, 2_000]\n",
    "alpha = 0.01\n",
    "beta = 0.01\n",
    "get_epsilon_vr_monte_carlo(existing_epsilons, chunk_sizes, alpha=alpha, beta=beta, N=1_000_000)"
   ]
  },
  {
   "attachments": {},
   "cell_type": "markdown",
   "metadata": {},
   "source": [
    "I don't know how to plot it but it looks good I think!"
   ]
  }
 ],
 "metadata": {
  "kernelspec": {
   "display_name": "precycle-GKqJt2VE-py3.8",
   "language": "python",
   "name": "python3"
  },
  "language_info": {
   "codemirror_mode": {
    "name": "ipython",
    "version": 3
   },
   "file_extension": ".py",
   "mimetype": "text/x-python",
   "name": "python",
   "nbconvert_exporter": "python",
   "pygments_lexer": "ipython3",
   "version": "3.8.5"
  },
  "orig_nbformat": 4
 },
 "nbformat": 4,
 "nbformat_minor": 2
}
