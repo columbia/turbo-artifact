{
 "cells": [
  {
   "cell_type": "code",
   "execution_count": null,
   "metadata": {},
   "outputs": [],
   "source": [
    "%load_ext autoreload\n",
    "%autoreload 2"
   ]
  },
  {
   "cell_type": "code",
   "execution_count": null,
   "metadata": {},
   "outputs": [],
   "source": [
    "import json\n",
    "from privacypacking.utils.utils import load_logs, global_metrics\n",
    "import pandas as pd\n",
    "from experiments.ray.analysis import load_ray_experiment, load_latest_ray_experiment, load_latest_scheduling_results, load_latest_scheduling_results, load_latest_ray_experiment\n",
    "import plotly.express as px\n",
    "from privacypacking.budget.curves import  LaplaceCurve, GaussianCurve, SubsampledGaussianCurve\n",
    "from privacypacking.budget import Budget, Task, Block\n",
    "from privacypacking.schedulers.metrics import OverflowRelevance, FlatRelevance\n",
    "from privacypacking.budget.block_selection import RandomBlocks\n",
    "from privacypacking.utils.plot import plot_budgets\n",
    "import yaml\n",
    "from pathlib import Path\n",
    "import plotly.graph_objects as go\n",
    "from plotly.subplots import make_subplots\n",
    "import numpy as np\n",
    "from experiments.ray.analysis import get_percentiles"
   ]
  },
  {
   "cell_type": "code",
   "execution_count": null,
   "metadata": {},
   "outputs": [],
   "source": [
    "rdf = load_ray_experiment(Path(\"/home/pierre/privacypacking/logs/ray/run_and_report_2021-12-07_09-14-39\"))"
   ]
  },
  {
   "cell_type": "code",
   "execution_count": null,
   "metadata": {},
   "outputs": [],
   "source": [
    "rdf.head()"
   ]
  },
  {
   "cell_type": "code",
   "execution_count": null,
   "metadata": {},
   "outputs": [],
   "source": [
    "px.line(\n",
    "    rdf.sort_values([\"T\", \"scheduler_metric\"]),\n",
    "    x=\"T\",\n",
    "    y=\"n_allocated_tasks\",\n",
    "    color=\"scheduler_metric\",\n",
    "    # log_x=True,\n",
    "    width=800,\n",
    "    height=600,\n",
    "    range_y=[0,1200],\n",
    "    title=\"20 blocks, no profits, mixed curves. Fully unlocked. Temperature = 1\",\n",
    "    # title=\"Number of allocated tasks depending on the scheduling step size<br><sup>Online mixed curves, 20 blocks, no initial blocks, 100 tasks per block on average, lifetime = 5 blocks</sup>\"\n",
    ")"
   ]
  },
  {
   "cell_type": "code",
   "execution_count": null,
   "metadata": {},
   "outputs": [],
   "source": [
    "rdf = load_ray_experiment(Path(\"/home/pierre/privacypacking/logs/ray/run_and_report_2021-12-06_20-25-51\"))\n",
    "px.line(\n",
    "    rdf.sort_values([\"T\", \"scheduler_metric\"]),\n",
    "    x=\"T\",\n",
    "    y=\"realized_profit\",\n",
    "    color=\"scheduler_metric\",\n",
    "    # log_x=True,\n",
    "    width=800,\n",
    "    height=600,\n",
    "    range_y=[0,1200],\n",
    "    title=\"20 blocks, with profits, mixed curves. Fully unlocked. Temperature = 1\",\n",
    "    # title=\"Number of allocated tasks depending on the scheduling step size<br><sup>Online mixed curves, 20 blocks, no initial blocks, 100 tasks per block on average, lifetime = 5 blocks</sup>\"\n",
    ")"
   ]
  },
  {
   "cell_type": "code",
   "execution_count": null,
   "metadata": {},
   "outputs": [],
   "source": [
    "rdf = load_ray_experiment(Path(\"/home/pierre/privacypacking/logs/ray/run_and_report_2021-12-07_09-22-04\"))\n",
    "px.line(\n",
    "    rdf.sort_values([\"T\", \"scheduler_metric\"]),\n",
    "    x=\"T\",\n",
    "    y=\"n_allocated_tasks\",\n",
    "    color=\"scheduler_metric\",\n",
    "    # log_x=True,\n",
    "    width=800,\n",
    "    height=600,\n",
    "    range_y=[0,1200],\n",
    "    title=\"20 blocks, no profits, mixed curves. Unlocking with lifetime 5. Temperature = 1\",\n",
    "    # title=\"Number of allocated tasks depending on the scheduling step size<br><sup>Online mixed curves, 20 blocks, no initial blocks, 100 tasks per block on average, lifetime = 5 blocks</sup>\"\n",
    ")\n",
    "\n"
   ]
  },
  {
   "cell_type": "code",
   "execution_count": null,
   "metadata": {},
   "outputs": [],
   "source": [
    "rdf = load_ray_experiment(Path(\"/home/pierre/privacypacking/logs/ray/run_and_report_2021-12-07_09-39-00\"))\n",
    "px.line(\n",
    "    rdf.query(\"scheduler_metric != 'FlatRelevance'\").sort_values([\"T\", \"scheduler_metric\"]),\n",
    "    x=\"T\",\n",
    "    y=\"realized_profit\",\n",
    "    color=\"scheduler_metric\",\n",
    "    # log_x=True,\n",
    "    width=800,\n",
    "    height=600,\n",
    "    range_y=[0,1200],\n",
    "    title=\"20 blocks, with profits, mixed curves. Unlocking with lifetime 5. Temperature = 1\",\n",
    "    # title=\"Number of allocated tasks depending on the scheduling step size<br><sup>Online mixed curves, 20 blocks, no initial blocks, 100 tasks per block on average, lifetime = 5 blocks</sup>\"\n",
    ")"
   ]
  },
  {
   "cell_type": "code",
   "execution_count": null,
   "metadata": {},
   "outputs": [],
   "source": [
    "# Tuning\n",
    "rdf = load_ray_experiment(Path(\"/home/pierre/privacypacking/logs/ray/run_and_report_2021-12-07_10-32-11\"))\n",
    "rdf.columns\n",
    "px.line(\n",
    "    rdf.sort_values([\"temperature\", \"metric_recomputation_period\"]),\n",
    "    x=\"temperature\",\n",
    "    y=\"n_allocated_tasks\",\n",
    "    color=\"metric_recomputation_period\",\n",
    "    # log_x=True,\n",
    "    width=800,\n",
    "    height=600,\n",
    "    range_y=[0,1200],\n",
    "    facet_col=\"normalize_by\",\n",
    "    facet_col_wrap=1,\n",
    "    title=\"20 blocks, no profits, mixed curves. Offline. Changing hyperparameters\",\n",
    "    # title=\"Number of allocated tasks depending on the scheduling step size<br><sup>Online mixed curves, 20 blocks, no initial blocks, 100 tasks per block on average, lifetime = 5 blocks</sup>\"\n",
    ")\n"
   ]
  },
  {
   "cell_type": "code",
   "execution_count": null,
   "metadata": {},
   "outputs": [],
   "source": [
    "# Tuning\n",
    "rdf = load_ray_experiment(Path(\"/home/pierre/privacypacking/logs/ray/run_and_report_2021-12-07_14-28-33\"))\n",
    "rdf.columns\n",
    "px.line(\n",
    "    rdf.sort_values([\"temperature\", \"metric_recomputation_period\"]),\n",
    "    x=\"temperature\",\n",
    "    y=\"n_allocated_tasks\",\n",
    "    color=\"metric_recomputation_period\",\n",
    "    # log_x=True,\n",
    "    width=800,\n",
    "    height=600,\n",
    "    range_y=[0,1200],\n",
    "    facet_col=\"normalize_by\",\n",
    "    facet_col_wrap=1,\n",
    "    title=\"20 blocks, no profits, mixed curves. Offline. Changing hyperparameters\",\n",
    "    # title=\"Number of allocated tasks depending on the scheduling step size<br><sup>Online mixed curves, 20 blocks, no initial blocks, 100 tasks per block on average, lifetime = 5 blocks</sup>\"\n",
    ")"
   ]
  },
  {
   "cell_type": "code",
   "execution_count": null,
   "metadata": {},
   "outputs": [],
   "source": [
    "rdf = load_ray_experiment(Path(\"/home/pierre/privacypacking/logs/ray/run_and_report_2021-12-10_02-11-12\"))\n",
    "rdf = pd.concat([rdf, load_ray_experiment(Path(\"/home/pierre/privacypacking/logs/ray/run_and_report_2021-12-10_02-25-54\"))])\n",
    "# rdf.head()\n",
    "# rdf.columns\n",
    "px.line(\n",
    "    rdf.sort_values([\"temperature\", \"metric_recomputation_period\"]),\n",
    "    x=\"temperature\",\n",
    "    y=\"realized_profit\",\n",
    "    color=\"metric_recomputation_period\",\n",
    "    log_x=True,\n",
    "    width=800,\n",
    "    height=600,\n",
    "    # range_y=[0,1200],\n",
    "    facet_col=\"normalize_by\",\n",
    "    facet_col_wrap=1,\n",
    "    title=\"10 initial + 20 online blocks, (large) profits, mixed curves. Offline. Changing hyperparameters\",\n",
    "    # title=\"Number of allocated tasks depending on the scheduling step size<br><sup>Online mixed curves, 20 blocks, no initial blocks, 100 tasks per block on average, lifetime = 5 blocks</sup>\"\n",
    ")"
   ]
  },
  {
   "cell_type": "code",
   "execution_count": null,
   "metadata": {},
   "outputs": [],
   "source": [
    "# Okay I have a good temperature now (0.01). What is a good load?\n",
    "# WIP on C2\n",
    "rdf = load_ray_experiment(Path(\"/home/pierre/privacypacking/logs/ray/run_and_report_2021-12-10_02-31-44\"))\n",
    "rdf = pd.concat([rdf, load_ray_experiment(Path(\"/home/pierre/privacypacking/logs/ray/run_and_report_2021-12-10_02-44-34\"))])\n",
    "px.line(\n",
    "    rdf.sort_values([\"mean_task_per_block\", \"scheduler_metric\"]),\n",
    "    x=\"mean_task_per_block\",\n",
    "    y=\"realized_profit\",\n",
    "    color=\"scheduler_metric\",\n",
    "    # log_x=True,\n",
    "    width=800,\n",
    "    height=600,\n",
    "    # range_y=[0,1200],\n",
    "    facet_col=\"normalize_by\",\n",
    "    facet_col_wrap=1,\n",
    "    title=\"10 initial + 20 online blocks, (large) profits, mixed curves. Offline. Changing hyperparameters\",\n",
    "    # title=\"Number of allocated tasks depending on the scheduling step size<br><sup>Online mixed curves, 20 blocks, no initial blocks, 100 tasks per block on average, lifetime = 5 blocks</sup>\"\n",
    ")"
   ]
  },
  {
   "cell_type": "code",
   "execution_count": null,
   "metadata": {},
   "outputs": [],
   "source": [
    "# Temp tuning with profits\n",
    "# rdf = load_ray_experiment(Path(\"/home/pierre/privacypacking/logs/ray/run_and_report_2021-12-07_14-55-57\"))\n",
    "rdf = load_ray_experiment(Path(\"/home/pierre/privacypacking/logs/ray/run_and_report_2021-12-07_15-04-36\"))\n",
    "\n",
    "px.line(\n",
    "    rdf.sort_values([\"temperature\", \"metric_recomputation_period\"]),\n",
    "    x=\"temperature\",\n",
    "    y=\"realized_profit\",\n",
    "    color=\"metric_recomputation_period\",\n",
    "    # log_x=True,\n",
    "    width=800,\n",
    "    height=600,\n",
    "    range_y=[0,1200],\n",
    "    facet_col=\"normalize_by\",\n",
    "    facet_col_wrap=1,\n",
    "    title=\"20 blocks, with profits, mixed curves. Offline. Changing hyperparameters\",\n",
    "    # title=\"Number of allocated tasks depending on the scheduling step size<br><sup>Online mixed curves, 20 blocks, no initial blocks, 100 tasks per block on average, lifetime = 5 blocks</sup>\"\n",
    ")"
   ]
  },
  {
   "cell_type": "code",
   "execution_count": null,
   "metadata": {},
   "outputs": [],
   "source": [
    "# rdf = load_ray_experiment(Path(\"/home/pierre/privacypacking/logs/ray/run_and_report_2021-12-07_15-08-13\"))\n",
    "\n",
    "rdf = load_ray_experiment(Path(\"/home/pierre/privacypacking/logs/ray/run_and_report_2021-12-07_15-18-48\"))\n",
    "\n",
    "\n",
    "px.line(\n",
    "    rdf.sort_values([\"temperature\", \"metric_recomputation_period\"]),\n",
    "    x=\"temperature\",\n",
    "    y=\"realized_profit\",\n",
    "    log_x=True,\n",
    "    color=\"metric_recomputation_period\",\n",
    "    # log_x=True,\n",
    "    width=800,\n",
    "    height=600,\n",
    "    range_y=[0,1200],\n",
    "    facet_col=\"normalize_by\",\n",
    "    facet_col_wrap=1,\n",
    "    title=\"20 blocks, with profits, mixed curves. Offline. Changing hyperparameters\",\n",
    "    # title=\"Number of allocated tasks depending on the scheduling step size<br><sup>Online mixed curves, 20 blocks, no initial blocks, 100 tasks per block on average, lifetime = 5 blocks</sup>\"\n",
    ")"
   ]
  },
  {
   "cell_type": "code",
   "execution_count": null,
   "metadata": {},
   "outputs": [],
   "source": [
    "rdf = load_ray_experiment(Path(\"/home/pierre/privacypacking/logs/ray/run_and_report_2021-12-07_15-52-12\"))\n",
    "\n",
    "\n",
    "px.line(\n",
    "    rdf.sort_values([\"temperature\", \"metric_recomputation_period\"]),\n",
    "    x=\"temperature\",\n",
    "    y=\"realized_profit\",\n",
    "    log_x=True,\n",
    "    color=\"metric_recomputation_period\",\n",
    "    # log_x=True,\n",
    "    width=800,\n",
    "    height=600,\n",
    "    range_y=[0,1200],\n",
    "    facet_col=\"normalize_by\",\n",
    "    facet_col_wrap=1,\n",
    "    title=\"20 blocks, with profits, mixed curves. Offline.  Poly ratio. Changing hyperparameters\",\n",
    "    # title=\"Number of allocated tasks depending on the scheduling step size<br><sup>Online mixed curves, 20 blocks, no initial blocks, 100 tasks per block on average, lifetime = 5 blocks</sup>\"\n",
    ")"
   ]
  },
  {
   "cell_type": "code",
   "execution_count": null,
   "metadata": {},
   "outputs": [],
   "source": [
    "\n",
    "rdf = load_ray_experiment(Path(\"/home/pierre/privacypacking/logs/ray/run_and_report_2021-12-07_18-34-39\"))\n",
    "\n",
    "\n",
    "px.line(\n",
    "    rdf.sort_values([\"temperature\", \"metric_recomputation_period\"]),\n",
    "    x=\"temperature\",\n",
    "    y=\"realized_profit\",\n",
    "    log_x=True,\n",
    "    color=\"metric_recomputation_period\",\n",
    "    # log_x=True,\n",
    "    width=800,\n",
    "    height=600,\n",
    "    range_y=[0,1200],\n",
    "    facet_col=\"normalize_by\",\n",
    "    facet_col_wrap=1,\n",
    "    title=\"20 blocks, with profits, mixed curves. Offline. Softmax with subtracting the max.\",\n",
    "    # title=\"Number of allocated tasks depending on the scheduling step size<br><sup>Online mixed curves, 20 blocks, no initial blocks, 100 tasks per block on average, lifetime = 5 blocks</sup>\"\n",
    ")"
   ]
  },
  {
   "cell_type": "code",
   "execution_count": null,
   "metadata": {},
   "outputs": [],
   "source": [
    "rdf = load_ray_experiment(Path(\"/home/pierre/privacypacking/logs/ray/run_and_report_2021-12-07_19-32-46\"))\n",
    "\n",
    "\n",
    "px.line(\n",
    "    rdf.sort_values([\"temperature\", \"metric_recomputation_period\"]),\n",
    "    x=\"temperature\",\n",
    "    y=\"n_allocated_tasks\",\n",
    "    log_x=True,\n",
    "    color=\"metric_recomputation_period\",\n",
    "    # log_x=True,\n",
    "    width=800,\n",
    "    height=600,\n",
    "    range_y=[0,1200],\n",
    "    facet_col=\"normalize_by\",\n",
    "    facet_col_wrap=1,\n",
    "    title=\"20 blocks, no profits, mixed curves. Offline. Softmax with subtracting the max.\",\n",
    "    # title=\"Number of allocated tasks depending on the scheduling step size<br><sup>Online mixed curves, 20 blocks, no initial blocks, 100 tasks per block on average, lifetime = 5 blocks</sup>\"\n",
    ")"
   ]
  },
  {
   "cell_type": "code",
   "execution_count": null,
   "metadata": {},
   "outputs": [],
   "source": [
    "rdf = load_ray_experiment(Path(\"/home/pierre/privacypacking/logs/ray/run_and_report_2021-12-07_20-34-49\"))\n",
    "\n",
    "\n",
    "px.line(\n",
    "    rdf.sort_values([\"temperature\", \"metric_recomputation_period\"]),\n",
    "    x=\"temperature\",\n",
    "    y=\"n_allocated_tasks\",\n",
    "    log_x=True,\n",
    "    color=\"metric_recomputation_period\",\n",
    "    # log_x=True,\n",
    "    width=800,\n",
    "    height=600,\n",
    "    range_y=[0,1200],\n",
    "    facet_col=\"normalize_by\",\n",
    "    facet_col_wrap=1,\n",
    "    title=\"20 blocks, no profits, mixed curves. Offline. Softmax with subtracting the max.\",\n",
    "    # title=\"Number of allocated tasks depending on the scheduling step size<br><sup>Online mixed curves, 20 blocks, no initial blocks, 100 tasks per block on average, lifetime = 5 blocks</sup>\"\n",
    ")"
   ]
  },
  {
   "cell_type": "code",
   "execution_count": null,
   "metadata": {},
   "outputs": [],
   "source": [
    "# On privatekube now!!\n",
    "\n",
    "\n",
    "rdf = load_ray_experiment(Path(\"/home/pierre/privacypacking/logs/ray/run_and_report_2021-12-07_21-29-50\"))\n",
    "rdf = pd.concat([rdf, load_ray_experiment(Path(\"/home/pierre/privacypacking/logs/ray/run_and_report_2021-12-07_21-42-40\"))])\n",
    "px.bar(\n",
    "    rdf.sort_values([\"T\", \"scheduler_metric\"]),\n",
    "    # x=\"T\",\n",
    "    x=\"scheduler_metric\",    \n",
    "    y=\"realized_profit\",\n",
    "    # color=\"scheduler_metric\",\n",
    "    # log_x=True,\n",
    "    width=1000,\n",
    "    height=600,\n",
    "    range_y=[0,6_000],\n",
    "    title=\"10 initial blocks + 20 online blocks, with profits, PrivateKube. Unlocking with lifetime 10. Temperature = 1\",\n",
    "    # title=\"Number of allocated tasks depending on the scheduling step size<br><sup>Online mixed curves, 20 blocks, no initial blocks, 100 tasks per block on average, lifetime = 5 blocks</sup>\"\n",
    ")\n"
   ]
  },
  {
   "cell_type": "code",
   "execution_count": null,
   "metadata": {},
   "outputs": [],
   "source": [
    "rdf = load_ray_experiment(Path(\"/home/pierre/privacypacking/logs/ray/run_and_report_2021-12-07_21-40-36\"))\n",
    "rdf = pd.concat([rdf, load_ray_experiment(Path(\"/home/pierre/privacypacking/logs/ray/run_and_report_2021-12-07_21-43-03\"))])\n",
    "px.bar(\n",
    "    rdf.sort_values([\"T\", \"scheduler_metric\"]),\n",
    "    x=\"scheduler_metric\",\n",
    "    y=\"n_allocated_tasks\",\n",
    "    # log_x=True,\n",
    "    width=1000,\n",
    "    height=600,\n",
    "    range_y=[0,10_000],\n",
    "    title=\"10 initial blocks + 20 online blocks, NO profits, PrivateKube. Unlocking with lifetime 10. Temperature = 1\",\n",
    "    # title=\"Number of allocated tasks depending on the scheduling step size<br><sup>Online mixed curves, 20 blocks, no initial blocks, 100 tasks per block on average, lifetime = 5 blocks</sup>\"\n",
    ")"
   ]
  }
 ],
 "metadata": {
  "interpreter": {
   "hash": "8eab72c90ef7b6cf7a47cf9058599fe69878ae5c291bf7d8c10fb9498bc1b89e"
  },
  "kernelspec": {
   "display_name": "Python 3.8.5 64-bit ('privacypacking-DDudTmDF-py3.8': poetry)",
   "language": "python",
   "name": "python3"
  },
  "language_info": {
   "codemirror_mode": {
    "name": "ipython",
    "version": 3
   },
   "file_extension": ".py",
   "mimetype": "text/x-python",
   "name": "python",
   "nbconvert_exporter": "python",
   "pygments_lexer": "ipython3"
  }
 },
 "nbformat": 4,
 "nbformat_minor": 2
}
