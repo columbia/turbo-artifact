{
 "cells": [
  {
   "cell_type": "code",
   "execution_count": null,
   "metadata": {},
   "outputs": [],
   "source": [
    "%load_ext autoreload \n",
    "%autoreload 2"
   ]
  },
  {
   "cell_type": "code",
   "execution_count": null,
   "metadata": {},
   "outputs": [],
   "source": [
    "import json\n",
    "from privacypacking.utils.utils import load_logs\n",
    "import pandas as pd\n",
    "from experiments.ray.analysis import load_tasks, load_ray_experiment, load_latest_ray_experiment, load_latest_scheduling_results, load_latest_scheduling_results, load_latest_ray_experiment, load_scheduling_queue\n",
    "import plotly.express as px\n",
    "from privacypacking.budget.curves import  LaplaceCurve, GaussianCurve, SubsampledGaussianCurve, SyntheticPolynomialCurve\n",
    "from privacypacking.budget import Budget, Task, Block\n",
    "from privacypacking.schedulers.metrics import OverflowRelevance, FlatRelevance\n",
    "from privacypacking.budget.block_selection import RandomBlocks\n",
    "from privacypacking.utils.plot import plot_budgets\n",
    "import yaml\n",
    "from pathlib import Path\n",
    "import plotly.graph_objects as go\n",
    "from plotly.subplots import make_subplots\n",
    "import numpy as np\n",
    "\n",
    "from omegaconf import OmegaConf\n",
    "from pathlib import Path\n",
    "from collections import defaultdict"
   ]
  },
  {
   "cell_type": "code",
   "execution_count": null,
   "metadata": {},
   "outputs": [],
   "source": [
    "from privacypacking.budget import ALPHAS\n",
    "from privacypacking.utils.utils import add_workload_args_to_results"
   ]
  },
  {
   "cell_type": "markdown",
   "metadata": {},
   "source": [
    "Let's see what curves are allocated by different schedulers"
   ]
  },
  {
   "cell_type": "code",
   "execution_count": null,
   "metadata": {},
   "outputs": [],
   "source": [
    "df = load_latest_ray_experiment()\n",
    "# df = load_ray_experiment(Path(\"/home/pierre/privacypacking/logs/ray/run_and_report_2022-04-07_09-58-57\"))\n",
    "# df = load_latest_ray_experiment(\"/home/pierre/privacypacking/logs/ray/run_and_report_2022-04-07_10-07-26\")\n",
    "\n"
   ]
  },
  {
   "cell_type": "code",
   "execution_count": null,
   "metadata": {},
   "outputs": [],
   "source": [
    "df.columns"
   ]
  },
  {
   "cell_type": "code",
   "execution_count": null,
   "metadata": {},
   "outputs": [],
   "source": [
    "df = add_workload_args_to_results(df)"
   ]
  },
  {
   "cell_type": "code",
   "execution_count": null,
   "metadata": {},
   "outputs": [],
   "source": [
    "df.describe()"
   ]
  },
  {
   "cell_type": "markdown",
   "metadata": {},
   "source": [
    "df.describe"
   ]
  },
  {
   "cell_type": "code",
   "execution_count": null,
   "metadata": {},
   "outputs": [],
   "source": [
    "fig = px.line(\n",
    "    # rdf.query(\"data_lifetime == 50 and max_blocks == 400\").sort_values(\"T\"),\n",
    "    df.query(\"epsilon_min_std == 0 and range_std == 0 and range_min == 0.005\").sort_values([\"total_tasks\", \"alpha_std\"]),\n",
    "    x=\"alpha_std\",\n",
    "    y=\"n_allocated_tasks\",\n",
    "    color=\"scheduler_metric\",\n",
    "    # log_x=True,\n",
    "    width=800,\n",
    "    height=600,\n",
    "    markers=True,\n",
    "    facet_col=\"epsilon_min_avg\",\n",
    "    facet_row=\"total_tasks\",\n",
    ")\n",
    "fig.update_yaxes(rangemode=\"tozero\")\n",
    "fig"
   ]
  },
  {
   "cell_type": "code",
   "execution_count": null,
   "metadata": {},
   "outputs": [],
   "source": [
    "fig = px.line(\n",
    "    # rdf.query(\"data_lifetime == 50 and max_blocks == 400\").sort_values(\"T\"),\n",
    "    df.sort_values([\"total_tasks\", \"alpha_std\"]),\n",
    "    x=\"alpha_std\",\n",
    "    y=\"n_allocated_tasks\",\n",
    "    color=\"scheduler_metric\",\n",
    "    # log_x=True,\n",
    "    width=800,\n",
    "    height=600,\n",
    "    markers=True,\n",
    "    # facet_col=\"data_lifetime\",\n",
    "    facet_row=\"total_tasks\",\n",
    ")\n",
    "fig.update_yaxes(rangemode=\"tozero\")\n",
    "fig"
   ]
  },
  {
   "cell_type": "code",
   "execution_count": null,
   "metadata": {},
   "outputs": [],
   "source": [
    "# df = load_latest_scheduling_results(expname=\"ray/run_and_report_2022-04-05_22-11-57\")\n",
    "# TODO: custom load from Zoo"
   ]
  }
 ],
 "metadata": {
  "interpreter": {
   "hash": "8eab72c90ef7b6cf7a47cf9058599fe69878ae5c291bf7d8c10fb9498bc1b89e"
  },
  "kernelspec": {
   "display_name": "Python 3.8.5 ('privacypacking-DDudTmDF-py3.8')",
   "language": "python",
   "name": "python3"
  },
  "language_info": {
   "codemirror_mode": {
    "name": "ipython",
    "version": 3
   },
   "file_extension": ".py",
   "mimetype": "text/x-python",
   "name": "python",
   "nbconvert_exporter": "python",
   "pygments_lexer": "ipython3"
  }
 },
 "nbformat": 4,
 "nbformat_minor": 2
}
