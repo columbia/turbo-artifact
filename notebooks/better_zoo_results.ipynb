{
 "cells": [
  {
   "cell_type": "code",
   "execution_count": null,
   "metadata": {},
   "outputs": [],
   "source": [
    "%load_ext autoreload \n",
    "%autoreload 2"
   ]
  },
  {
   "cell_type": "code",
   "execution_count": null,
   "metadata": {},
   "outputs": [],
   "source": [
    "import json\n",
    "from privacypacking.utils.utils import load_logs\n",
    "import pandas as pd\n",
    "from experiments.ray.analysis import load_tasks, load_ray_experiment, load_latest_ray_experiment, load_latest_scheduling_results, load_latest_scheduling_results, load_latest_ray_experiment, load_scheduling_queue\n",
    "import plotly.express as px\n",
    "from privacypacking.budget.curves import  LaplaceCurve, GaussianCurve, SubsampledGaussianCurve, SyntheticPolynomialCurve\n",
    "from privacypacking.budget import Budget, Task, Block\n",
    "from privacypacking.schedulers.metrics import OverflowRelevance, FlatRelevance\n",
    "from privacypacking.budget.block_selection import RandomBlocks\n",
    "from privacypacking.utils.plot import plot_budgets\n",
    "import yaml\n",
    "from pathlib import Path\n",
    "import plotly.graph_objects as go\n",
    "from plotly.subplots import make_subplots\n",
    "import numpy as np\n",
    "\n",
    "from omegaconf import OmegaConf\n",
    "from pathlib import Path\n",
    "from collections import defaultdict"
   ]
  },
  {
   "cell_type": "code",
   "execution_count": null,
   "metadata": {},
   "outputs": [],
   "source": [
    "from privacypacking.budget import ALPHAS\n",
    "from privacypacking.utils.utils import add_workload_args_to_results"
   ]
  },
  {
   "cell_type": "markdown",
   "metadata": {},
   "source": [
    "Let's see what curves are allocated by different schedulers"
   ]
  },
  {
   "cell_type": "code",
   "execution_count": null,
   "metadata": {},
   "outputs": [],
   "source": [
    "# /home/pierre/privacypacking/logs/ray/run_and_report_2022-04-12_10-19-10\n",
    "\n",
    "\n",
    "df = load_latest_ray_experiment()\n",
    "# df = load_ray_experiment(Path(\"/home/pierre/privacypacking/logs/ray/run_and_report_2022-04-07_09-58-57\"))\n",
    "# df = load_latest_ray_experiment(\"/home/pierre/privacypacking/logs/ray/run_and_report_2022-04-07_10-07-26\")\n",
    "\n"
   ]
  },
  {
   "cell_type": "code",
   "execution_count": null,
   "metadata": {},
   "outputs": [],
   "source": [
    "df.columns"
   ]
  },
  {
   "cell_type": "code",
   "execution_count": null,
   "metadata": {},
   "outputs": [],
   "source": [
    "df = add_workload_args_to_results(df)"
   ]
  },
  {
   "cell_type": "code",
   "execution_count": null,
   "metadata": {},
   "outputs": [],
   "source": [
    "df.describe()"
   ]
  },
  {
   "cell_type": "code",
   "execution_count": null,
   "metadata": {},
   "outputs": [],
   "source": [
    "df.epsilon_min_avg.unique()"
   ]
  },
  {
   "cell_type": "code",
   "execution_count": null,
   "metadata": {},
   "outputs": [],
   "source": [
    "df.epsilon_min_std.unique()"
   ]
  },
  {
   "cell_type": "code",
   "execution_count": null,
   "metadata": {},
   "outputs": [],
   "source": [
    "df.range_std.unique()"
   ]
  },
  {
   "cell_type": "code",
   "execution_count": null,
   "metadata": {},
   "outputs": [],
   "source": [
    "df.range_avg.unique()"
   ]
  },
  {
   "cell_type": "markdown",
   "metadata": {},
   "source": [
    "df.describe"
   ]
  },
  {
   "cell_type": "code",
   "execution_count": null,
   "metadata": {},
   "outputs": [],
   "source": [
    "fig = px.line(\n",
    "    # rdf.query(\"data_lifetime == 50 and max_blocks == 400\").sort_values(\"T\"),\n",
    "    df.query(\"epsilon_min_avg == 0.05 and range_std == 0 and range_avg == 0.05\").sort_values([\"epsilon_min_std\", \"total_tasks\", \"alpha_std\"]),\n",
    "    x=\"alpha_std\",\n",
    "    y=\"n_allocated_tasks\",\n",
    "    color=\"scheduler_metric\",\n",
    "    # log_x=True,\n",
    "    width=800,\n",
    "    height=600,\n",
    "    markers=True,\n",
    "    facet_col=\"epsilon_min_std\",\n",
    "    facet_row=\"total_tasks\",\n",
    "    title=\"We keep the avg size (0.05) and change the variance (not only zero).\"\n",
    ")\n",
    "fig.update_yaxes(rangemode=\"tozero\")\n",
    "fig"
   ]
  },
  {
   "cell_type": "code",
   "execution_count": null,
   "metadata": {},
   "outputs": [],
   "source": [
    "fig = px.line(\n",
    "    # rdf.query(\"data_lifetime == 50 and max_blocks == 400\").sort_values(\"T\"),\n",
    "    df.query(\"epsilon_min_avg == 0.05 and range_std == 0.03 and range_avg == 0.05\").sort_values([\"epsilon_min_std\", \"total_tasks\", \"alpha_std\"]),\n",
    "    x=\"alpha_std\",\n",
    "    y=\"n_allocated_tasks\",\n",
    "    color=\"scheduler_metric\",\n",
    "    # log_x=True,\n",
    "    width=800,\n",
    "    height=600,\n",
    "    markers=True,\n",
    "    facet_col=\"epsilon_min_std\",\n",
    "    facet_row=\"total_tasks\",\n",
    "    title=\"We keep the avg size (0.05) and change the variance (not only zero). Rang std = 0.03 instead of 0\"\n",
    ")\n",
    "fig.update_yaxes(rangemode=\"tozero\")\n",
    "fig"
   ]
  },
  {
   "cell_type": "code",
   "execution_count": null,
   "metadata": {},
   "outputs": [],
   "source": [
    "fig = px.line(\n",
    "    # rdf.query(\"data_lifetime == 50 and max_blocks == 400\").sort_values(\"T\"),\n",
    "    df.query(\"epsilon_min_avg == 0.05 and epsilon_min_std == 0.01 and alpha_std == 4\").sort_values([\"range_std\", \"total_tasks\", \"range_avg\"]),\n",
    "    x=\"range_avg\",\n",
    "    y=\"n_allocated_tasks\",\n",
    "    color=\"scheduler_metric\",\n",
    "    # log_x=True,\n",
    "    width=800,\n",
    "    height=600,\n",
    "    markers=True,\n",
    "    facet_col=\"range_std\",\n",
    "    facet_row=\"total_tasks\",\n",
    "    title=\"We keep the avg size (0.05) and variance (0.01) and alpha std (4). We play with range.\"\n",
    ")\n",
    "fig.update_yaxes(rangemode=\"tozero\")\n",
    "fig"
   ]
  },
  {
   "cell_type": "code",
   "execution_count": null,
   "metadata": {},
   "outputs": [],
   "source": [
    "fig = px.line(\n",
    "    # rdf.query(\"data_lifetime == 50 and max_blocks == 400\").sort_values(\"T\"),\n",
    "    df.query(\"epsilon_min_avg == 0.05 and epsilon_min_std == 0.01 and total_tasks == 2000\").sort_values([\"range_std\", \"alpha_std\", \"range_avg\"]),\n",
    "    x=\"range_avg\",\n",
    "    y=\"n_allocated_tasks\",\n",
    "    color=\"scheduler_metric\",\n",
    "    # log_x=True,\n",
    "    width=800,\n",
    "    height=600,\n",
    "    markers=True,\n",
    "    facet_col=\"range_std\",\n",
    "    facet_row=\"alpha_std\",\n",
    "    title=\"We keep the avg size (0.05) and variance (0.01) and total tasks (2k). We play with range.\"\n",
    ")\n",
    "fig.update_yaxes(rangemode=\"tozero\")\n",
    "fig"
   ]
  },
  {
   "cell_type": "code",
   "execution_count": null,
   "metadata": {},
   "outputs": [],
   "source": [
    "fig = px.line(\n",
    "    # rdf.query(\"data_lifetime == 50 and max_blocks == 400\").sort_values(\"T\"),\n",
    "    df.query(\"epsilon_min_avg == 0.05 and epsilon_min_std == 0 and total_tasks == 2000\").sort_values([\"range_std\", \"alpha_std\", \"range_avg\"]),\n",
    "    x=\"range_avg\",\n",
    "    y=\"n_allocated_tasks\",\n",
    "    color=\"scheduler_metric\",\n",
    "    # log_x=True,\n",
    "    width=800,\n",
    "    height=600,\n",
    "    markers=True,\n",
    "    facet_col=\"range_std\",\n",
    "    facet_row=\"alpha_std\",\n",
    "    title=\"We keep the avg size (0.05) and variance (0) and total tasks (2k). We play with range.\"\n",
    ")\n",
    "fig.update_yaxes(rangemode=\"tozero\")\n",
    "fig"
   ]
  },
  {
   "cell_type": "code",
   "execution_count": null,
   "metadata": {},
   "outputs": [],
   "source": [
    "fig = px.line(\n",
    "    # rdf.query(\"data_lifetime == 50 and max_blocks == 400\").sort_values(\"T\"),\n",
    "    df.query(\"alpha_std == 0 and epsilon_min_avg == 0.05 and total_tasks == 2000\").sort_values([\"range_std\", \"range_avg\", \"epsilon_min_std\"]),\n",
    "    x=\"epsilon_min_std\",\n",
    "    y=\"n_allocated_tasks\",\n",
    "    color=\"scheduler_metric\",\n",
    "    # log_x=True,\n",
    "    width=800,\n",
    "    height=600,\n",
    "    markers=True,\n",
    "    facet_col=\"range_std\",\n",
    "    facet_row=\"range_avg\",\n",
    "    title=\"We keep a single alpha (alpha std == 0) and total tasks (2k). epsilon_min_avg == 0.05.  We play with the rest.\"\n",
    ")\n",
    "fig.update_yaxes(rangemode=\"tozero\")\n",
    "fig"
   ]
  },
  {
   "cell_type": "code",
   "execution_count": null,
   "metadata": {},
   "outputs": [],
   "source": [
    "fig = px.line(\n",
    "    # rdf.query(\"data_lifetime == 50 and max_blocks == 400\").sort_values(\"T\"),\n",
    "    df.query(\"alpha_std == 8 and epsilon_min_avg == 0.05 and total_tasks == 2000\").sort_values([\"range_std\", \"range_avg\", \"epsilon_min_std\"]),\n",
    "    x=\"epsilon_min_std\",\n",
    "    y=\"n_allocated_tasks\",\n",
    "    color=\"scheduler_metric\",\n",
    "    # log_x=True,\n",
    "    width=800,\n",
    "    height=600,\n",
    "    markers=True,\n",
    "    facet_col=\"range_std\",\n",
    "    facet_row=\"range_avg\",\n",
    "    title=\"We keep a single alpha (alpha std == 8) and total tasks (2k). epsilon_min_avg == 0.05.  We play with the rest.\"\n",
    ")\n",
    "fig.update_yaxes(rangemode=\"tozero\")\n",
    "fig"
   ]
  },
  {
   "cell_type": "code",
   "execution_count": null,
   "metadata": {},
   "outputs": [],
   "source": [
    "df = load_latest_ray_experiment()\n",
    "# /home/pierre/privacypacking/logs/ray/run_and_report_2022-04-12_17-15-38\n",
    "# Two alphas only: /home/pierre/privacypacking/logs/ray/run_and_report_2022-04-18_13-52-46\n",
    "\n",
    "df = add_workload_args_to_results(df)"
   ]
  },
  {
   "cell_type": "code",
   "execution_count": null,
   "metadata": {},
   "outputs": [],
   "source": [
    "df.tasks_path[0]"
   ]
  },
  {
   "cell_type": "code",
   "execution_count": null,
   "metadata": {},
   "outputs": [],
   "source": [
    "fig = px.line(\n",
    "    # rdf.query(\"data_lifetime == 50 and max_blocks == 400\").sort_values(\"T\"),\n",
    "    df.sort_values([\"scheduler_metric\", \"total_tasks\", \"alpha_std\"]),\n",
    "    x=\"alpha_std\",\n",
    "    y=\"n_allocated_tasks\",\n",
    "    color=\"scheduler_metric\",\n",
    "    # log_x=True,\n",
    "    width=1200,\n",
    "    height=1200,\n",
    "    markers=True,\n",
    "    facet_col=\"epsilon_min_avg\",\n",
    "    facet_row=\"total_tasks\",\n",
    "    title=\"Diversity in best alpha, for different loads. <br><sup> Other knobs are fixed: epsilon_min_avg: [0.05] \\\n",
    "epsilon_min_std: [0.01]\\\n",
    "range_avg: [0.05]\\\n",
    "range_std: [0.03]\\\n",
    "block_avg: 1\\\n",
    "block_std: 0</sup>\"\n",
    ")\n",
    "fig.update_yaxes(rangemode=\"tozero\")\n",
    "fig"
   ]
  },
  {
   "cell_type": "code",
   "execution_count": null,
   "metadata": {},
   "outputs": [],
   "source": [
    "df = load_latest_ray_experiment()\n",
    "df = add_workload_args_to_results(df)"
   ]
  },
  {
   "cell_type": "code",
   "execution_count": null,
   "metadata": {},
   "outputs": [],
   "source": [
    "fig = px.line(\n",
    "    # rdf.query(\"data_lifetime == 50 and max_blocks == 400\").sort_values(\"T\"),\n",
    "    df.sort_values([\"scheduler_metric\", \"total_tasks\", \"alpha_std\"]),\n",
    "    x=\"alpha_std\",\n",
    "    y=\"n_allocated_tasks\",\n",
    "    color=\"scheduler_metric\",\n",
    "    # log_x=True,\n",
    "    width=1200,\n",
    "    height=1200,\n",
    "    markers=True,\n",
    "    facet_col=\"epsilon_min_avg\",\n",
    "    facet_row=\"total_tasks\",\n",
    "    title=\"Diversity in best alpha, for different loads. <br><sup> Other knobs are fixed: epsilon_min_avg: [0.05] \\\n",
    "epsilon_min_std: [0.01]\\\n",
    "range_avg: [0.05]\\\n",
    "range_std: [0.03]\\\n",
    "block_avg: 1\\\n",
    "block_std: 0</sup>\"\n",
    ")\n",
    "fig.update_yaxes(rangemode=\"tozero\")\n",
    "fig"
   ]
  },
  {
   "cell_type": "code",
   "execution_count": null,
   "metadata": {},
   "outputs": [],
   "source": [
    "df = load_latest_ray_experiment()\n",
    "df = add_workload_args_to_results(df)\n",
    "# /home/pierre/privacypacking/logs/ray/run_and_report_2022-04-14_05-05-32"
   ]
  },
  {
   "cell_type": "code",
   "execution_count": null,
   "metadata": {},
   "outputs": [],
   "source": [
    "fig = px.line(\n",
    "    # rdf.query(\"data_lifetime == 50 and max_blocks == 400\").sort_values(\"T\"),\n",
    "    df.sort_values([\"scheduler_metric\", \"total_tasks\", \"epsilon_min_std\"]),\n",
    "    x=\"epsilon_min_std\",\n",
    "    y=\"n_allocated_tasks\",\n",
    "    color=\"scheduler_metric\",\n",
    "    # log_x=True,\n",
    "    width=800,\n",
    "    height=800,\n",
    "    markers=True,\n",
    "    # facet_col=\"epsilon_min_std\",\n",
    "    facet_row=\"total_tasks\",\n",
    "    title=\"Diversity in epsilon_min, for different loads. <br><sup> Other knobs are fixed: epsilon_min_avg: [0.05] \\\n",
    "best_alpha: [0]\\\n",
    "range_avg: [0.05]\\\n",
    "range_std: [0.03]\\\n",
    "block_avg: 1\\\n",
    "block_std: 0</sup>\"\n",
    ")\n",
    "fig.update_yaxes(rangemode=\"tozero\")\n",
    "fig"
   ]
  },
  {
   "cell_type": "code",
   "execution_count": null,
   "metadata": {},
   "outputs": [],
   "source": [
    "df = load_latest_ray_experiment()\n",
    "df = add_workload_args_to_results(df)\n",
    "# /home/pierre/privacypacking/logs/ray/run_and_report_2022-04-14_06-24-16"
   ]
  },
  {
   "cell_type": "code",
   "execution_count": null,
   "metadata": {},
   "outputs": [],
   "source": [
    "fig = px.line(\n",
    "    df.sort_values([\"scheduler_metric\", \"total_tasks\", \"range_avg\"]),\n",
    "    x=\"range_avg\",\n",
    "    y=\"n_allocated_tasks\",\n",
    "    color=\"scheduler_metric\",\n",
    "    # log_x=True,\n",
    "    width=800,\n",
    "    height=800,\n",
    "    markers=True,\n",
    "    # facet_col=\"epsilon_min_std\",\n",
    "    facet_row=\"total_tasks\",\n",
    "    title=\"Diversity in range_avg, for different loads. <br><sup> Other knobs are fixed: epsilon_min_avg: [0.05] \\\n",
    "best_alpha: [0]\\\n",
    "epsilon_min_std: [0.01] \\\n",
    "range_avg: [0.05]\\\n",
    "range_std: [0.03]\\\n",
    "block_avg: 1\\\n",
    "block_std: 0</sup>\"\n",
    ")\n",
    "fig.update_yaxes(rangemode=\"tozero\")\n",
    "fig"
   ]
  },
  {
   "cell_type": "code",
   "execution_count": null,
   "metadata": {},
   "outputs": [],
   "source": [
    "df = load_latest_ray_experiment()\n",
    "df = add_workload_args_to_results(df)\n",
    "# /home/pierre/privacypacking/logs/ray/run_and_report_2022-04-14_09-05-31"
   ]
  },
  {
   "cell_type": "code",
   "execution_count": null,
   "metadata": {},
   "outputs": [],
   "source": [
    "fig = px.line(\n",
    "    df.sort_values([\"scheduler_metric\", \"total_tasks\", \"range_avg\"]),\n",
    "    x=\"range_avg\",\n",
    "    y=\"n_allocated_tasks\",\n",
    "    color=\"scheduler_metric\",\n",
    "    # log_x=True,\n",
    "    width=800,\n",
    "    height=800,\n",
    "    markers=True,\n",
    "    # facet_col=\"epsilon_min_std\",\n",
    "    facet_row=\"total_tasks\",\n",
    "    title=\"Diversity in range_avg, for different loads. <br><sup> Other knobs are fixed: epsilon_min_avg: [0.05] \\\n",
    "best_alpha: [all]\\\n",
    "epsilon_min_std: [0.01] \\\n",
    "range_avg: [0.05]\\\n",
    "range_std: [0.03]\\\n",
    "block_avg: 1\\\n",
    "block_std: 0</sup>\"\n",
    ")\n",
    "fig.update_yaxes(rangemode=\"tozero\")\n",
    "fig"
   ]
  },
  {
   "cell_type": "code",
   "execution_count": null,
   "metadata": {},
   "outputs": [],
   "source": [
    "df = load_latest_ray_experiment()\n",
    "df = add_workload_args_to_results(df)\n",
    "# /home/pierre/privacypacking/logs/ray/run_and_report_2022-04-14_09-29-33"
   ]
  },
  {
   "cell_type": "code",
   "execution_count": null,
   "metadata": {},
   "outputs": [],
   "source": [
    "fig = px.line(\n",
    "    df.sort_values([\"scheduler_metric\", \"total_tasks\", \"range_std\"]),\n",
    "    x=\"range_std\",\n",
    "    y=\"n_allocated_tasks\",\n",
    "    color=\"scheduler_metric\",\n",
    "    # log_x=True,\n",
    "    width=800,\n",
    "    height=800,\n",
    "    markers=True,\n",
    "    facet_col=\"alpha_std\",\n",
    "    facet_row=\"total_tasks\",\n",
    "    title=\"Diversity in range_std, for different loads. <br><sup> Other knobs are fixed: epsilon_min_avg: [0.05] \\\n",
    "best_alpha: [0 or all]\\\n",
    "epsilon_min_std: [0.01] \\\n",
    "range_avg: [0.01]\\\n",
    "range_std: [0.03]\\\n",
    "block_avg: 1\\\n",
    "block_std: 0</sup>\"\n",
    ")\n",
    "fig.update_yaxes(rangemode=\"tozero\")\n",
    "fig"
   ]
  },
  {
   "cell_type": "code",
   "execution_count": null,
   "metadata": {},
   "outputs": [],
   "source": [
    "df = load_latest_ray_experiment()\n",
    "df = add_workload_args_to_results(df)"
   ]
  },
  {
   "cell_type": "code",
   "execution_count": null,
   "metadata": {},
   "outputs": [],
   "source": [
    "fig = px.line(\n",
    "    df.sort_values([\"scheduler_metric\", \"total_tasks\", \"block_std\"]),\n",
    "    x=\"block_std\",\n",
    "    y=\"n_allocated_tasks\",\n",
    "    color=\"scheduler_metric\",\n",
    "    # log_x=True,\n",
    "    width=800,\n",
    "    height=800,\n",
    "    markers=True,\n",
    "    # facet_col=\"alpha_std\",\n",
    "    facet_row=\"total_tasks\",\n",
    "    title=\"Diversity in number of blocks requested, for different loads. <br><sup> Other knobs are fixed: epsilon_min_avg: [0.05] \\\n",
    "best_alpha: [0]\\\n",
    "epsilon_min_std: [0.01] \\\n",
    "range_avg: [0.01]\\\n",
    "range_std: [0.03]\\\n",
    "block_avg: 10</sup>\"\n",
    ")\n",
    "fig.update_yaxes(rangemode=\"tozero\")\n",
    "fig"
   ]
  },
  {
   "cell_type": "code",
   "execution_count": null,
   "metadata": {},
   "outputs": [],
   "source": [
    "df = load_latest_ray_experiment()\n",
    "df = add_workload_args_to_results(df)\n",
    "# Recomputing after every task this time! To be smart about blocks"
   ]
  },
  {
   "cell_type": "code",
   "execution_count": null,
   "metadata": {},
   "outputs": [],
   "source": [
    "fig = px.line(\n",
    "    df.query(\"total_tasks >= 0\").sort_values([\"scheduler_metric\", \"total_tasks\", \"block_std\"]),\n",
    "    x=\"block_std\",\n",
    "    y=\"n_allocated_tasks\",\n",
    "    color=\"scheduler_metric\",\n",
    "    # log_x=True,\n",
    "    width=800,\n",
    "    height=1200,\n",
    "    markers=True,\n",
    "    # facet_col=\"alpha_std\",\n",
    "    facet_row=\"total_tasks\",\n",
    "    title=\"Diversity in number of blocks requested, for different loads. <br><sup> Other knobs are fixed: epsilon_min_avg: [0.05] \\\n",
    "best_alpha: [0]\\\n",
    "epsilon_min_std: [0.01] \\\n",
    "range_avg: [0.01]\\\n",
    "range_std: [0.03]\\\n",
    "block_avg: 10</sup>\"\n",
    ")\n",
    "fig.update_yaxes(rangemode=\"tozero\")\n",
    "fig"
   ]
  }
 ],
 "metadata": {
  "interpreter": {
   "hash": "8eab72c90ef7b6cf7a47cf9058599fe69878ae5c291bf7d8c10fb9498bc1b89e"
  },
  "kernelspec": {
   "display_name": "Python 3.8.5 ('privacypacking-DDudTmDF-py3.8')",
   "language": "python",
   "name": "python3"
  },
  "language_info": {
   "codemirror_mode": {
    "name": "ipython",
    "version": 3
   },
   "file_extension": ".py",
   "mimetype": "text/x-python",
   "name": "python",
   "nbconvert_exporter": "python",
   "pygments_lexer": "ipython3"
  }
 },
 "nbformat": 4,
 "nbformat_minor": 2
}
