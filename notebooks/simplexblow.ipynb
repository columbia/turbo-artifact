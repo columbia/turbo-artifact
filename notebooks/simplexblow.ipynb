{
 "cells": [
  {
   "cell_type": "code",
   "execution_count": 1,
   "id": "cb1a5459-6eb7-405d-bd7b-19a13f631574",
   "metadata": {},
   "outputs": [],
   "source": [
    "import pandas as pd\n",
    "import numpy as np\n",
    "from privacypacking.utils.utils import LOGS_PATH\n",
    "from experiments.ray.analysis import load_ray_experiment\n",
    "import plotly.express as px\n",
    "import warnings\n",
    "warnings.filterwarnings('ignore')"
   ]
  },
  {
   "cell_type": "code",
   "execution_count": 7,
   "id": "b150e665-373b-488b-a3c0-721d756ac549",
   "metadata": {},
   "outputs": [
    {
     "data": {
      "text/html": [
       "<div>\n",
       "<style scoped>\n",
       "    .dataframe tbody tr th:only-of-type {\n",
       "        vertical-align: middle;\n",
       "    }\n",
       "\n",
       "    .dataframe tbody tr th {\n",
       "        vertical-align: top;\n",
       "    }\n",
       "\n",
       "    .dataframe thead th {\n",
       "        text-align: right;\n",
       "    }\n",
       "</style>\n",
       "<table border=\"1\" class=\"dataframe\">\n",
       "  <thead>\n",
       "    <tr style=\"text-align: right;\">\n",
       "      <th></th>\n",
       "      <th>n_tasks</th>\n",
       "      <th>n_blocks</th>\n",
       "      <th>time_total_s</th>\n",
       "    </tr>\n",
       "  </thead>\n",
       "  <tbody>\n",
       "    <tr>\n",
       "      <th>26</th>\n",
       "      <td>100</td>\n",
       "      <td>20</td>\n",
       "      <td>1.133033</td>\n",
       "    </tr>\n",
       "    <tr>\n",
       "      <th>23</th>\n",
       "      <td>100</td>\n",
       "      <td>20</td>\n",
       "      <td>1.079695</td>\n",
       "    </tr>\n",
       "    <tr>\n",
       "      <th>22</th>\n",
       "      <td>100</td>\n",
       "      <td>20</td>\n",
       "      <td>1.061213</td>\n",
       "    </tr>\n",
       "    <tr>\n",
       "      <th>29</th>\n",
       "      <td>100</td>\n",
       "      <td>20</td>\n",
       "      <td>1.074947</td>\n",
       "    </tr>\n",
       "    <tr>\n",
       "      <th>19</th>\n",
       "      <td>100</td>\n",
       "      <td>20</td>\n",
       "      <td>1.076486</td>\n",
       "    </tr>\n",
       "    <tr>\n",
       "      <th>5</th>\n",
       "      <td>200</td>\n",
       "      <td>20</td>\n",
       "      <td>88.465519</td>\n",
       "    </tr>\n",
       "    <tr>\n",
       "      <th>6</th>\n",
       "      <td>200</td>\n",
       "      <td>20</td>\n",
       "      <td>146.296829</td>\n",
       "    </tr>\n",
       "    <tr>\n",
       "      <th>24</th>\n",
       "      <td>200</td>\n",
       "      <td>20</td>\n",
       "      <td>115.643310</td>\n",
       "    </tr>\n",
       "    <tr>\n",
       "      <th>21</th>\n",
       "      <td>200</td>\n",
       "      <td>20</td>\n",
       "      <td>62.124979</td>\n",
       "    </tr>\n",
       "    <tr>\n",
       "      <th>20</th>\n",
       "      <td>200</td>\n",
       "      <td>20</td>\n",
       "      <td>34.768178</td>\n",
       "    </tr>\n",
       "    <tr>\n",
       "      <th>17</th>\n",
       "      <td>300</td>\n",
       "      <td>20</td>\n",
       "      <td>33944.041589</td>\n",
       "    </tr>\n",
       "    <tr>\n",
       "      <th>30</th>\n",
       "      <td>300</td>\n",
       "      <td>20</td>\n",
       "      <td>25676.320172</td>\n",
       "    </tr>\n",
       "    <tr>\n",
       "      <th>7</th>\n",
       "      <td>300</td>\n",
       "      <td>20</td>\n",
       "      <td>5429.874194</td>\n",
       "    </tr>\n",
       "    <tr>\n",
       "      <th>3</th>\n",
       "      <td>300</td>\n",
       "      <td>20</td>\n",
       "      <td>3515.290597</td>\n",
       "    </tr>\n",
       "    <tr>\n",
       "      <th>14</th>\n",
       "      <td>300</td>\n",
       "      <td>20</td>\n",
       "      <td>21168.409789</td>\n",
       "    </tr>\n",
       "    <tr>\n",
       "      <th>12</th>\n",
       "      <td>400</td>\n",
       "      <td>20</td>\n",
       "      <td>12364.710708</td>\n",
       "    </tr>\n",
       "    <tr>\n",
       "      <th>10</th>\n",
       "      <td>400</td>\n",
       "      <td>20</td>\n",
       "      <td>19537.080192</td>\n",
       "    </tr>\n",
       "    <tr>\n",
       "      <th>2</th>\n",
       "      <td>400</td>\n",
       "      <td>20</td>\n",
       "      <td>33521.069078</td>\n",
       "    </tr>\n",
       "  </tbody>\n",
       "</table>\n",
       "</div>"
      ],
      "text/plain": [
       "    n_tasks  n_blocks  time_total_s\n",
       "26      100        20      1.133033\n",
       "23      100        20      1.079695\n",
       "22      100        20      1.061213\n",
       "29      100        20      1.074947\n",
       "19      100        20      1.076486\n",
       "5       200        20     88.465519\n",
       "6       200        20    146.296829\n",
       "24      200        20    115.643310\n",
       "21      200        20     62.124979\n",
       "20      200        20     34.768178\n",
       "17      300        20  33944.041589\n",
       "30      300        20  25676.320172\n",
       "7       300        20   5429.874194\n",
       "3       300        20   3515.290597\n",
       "14      300        20  21168.409789\n",
       "12      400        20  12364.710708\n",
       "10      400        20  19537.080192\n",
       "2       400        20  33521.069078"
      ]
     },
     "execution_count": 7,
     "metadata": {},
     "output_type": "execute_result"
    }
   ],
   "source": [
    "# logs = LOGS_PATH.joinpath(\"ray/run_and_report_2021-11-05_13-28-31\")\n",
    "logs = LOGS_PATH.joinpath(\"ray/run_and_report_2021-11-06_15-46-10\")\n",
    "\n",
    "df = load_ray_experiment(logs)\n",
    "df.keys()\n",
    "# df['frequency_file'] = df['frequency_file'].str.replace(r'[^\\d+]', '')\n",
    "# df = df.astype({'frequency_file': 'float32'})\n",
    "# df['frequency_file'] /= 100\n",
    "df.query(\"solver=='gurobi'\")[[\"n_tasks\", \"n_blocks\", \"time_total_s\"]].sort_values(\"n_tasks\")\n",
    "# df = df.sort_values(['scheduler_metric', 'frequency_file'])\n",
    "# df = df[['frequency_file', 'realized_profit', 'scheduler_metric', 'n_allocated_tasks', 'n_tasks']]\n",
    "# df\n",
    "# df.to_csv(\"aaaa.csv\")"
   ]
  },
  {
   "cell_type": "code",
   "execution_count": null,
   "id": "2e134d28",
   "metadata": {},
   "outputs": [],
   "source": [
    "df.keys()"
   ]
  },
  {
   "cell_type": "markdown",
   "id": "8f34c56c",
   "metadata": {},
   "source": [
    " \n",
    "## Mice and Elephants example\n",
    " \n",
    "- Both types of tasks might ask 1 block with 0.5 probability, 5 blocks with 0.3 and 10 blocks with 0.2\n",
    "- Tasks arrive following a Poisson distribution\n",
    "- A block arrives every 1 second\n",
    "- The experiment lasts for 50 seconds\n",
    "- A total of 2000 tasks arrive"
   ]
  },
  {
   "cell_type": "markdown",
   "id": "3962be04",
   "metadata": {},
   "source": [
    "### Block Selection Policy: Random Blocks\n"
   ]
  },
  {
   "cell_type": "markdown",
   "id": "c2145369",
   "metadata": {},
   "source": [
    "#### Time-based Budget Unlocking - comparison of different metrics\n",
    "- N = 125\n",
    "\n"
   ]
  },
  {
   "cell_type": "code",
   "execution_count": null,
   "id": "9f44b088",
   "metadata": {},
   "outputs": [],
   "source": [
    "q1 = df.query(\"scheduler_n == 125\").sort_values([\"frequency_file\"])\n",
    "px.line(q1, x=\"frequency_file\", y=\"n_allocated_tasks\", color='scheduler_metric')"
   ]
  },
  {
   "cell_type": "markdown",
   "id": "ec28b29e",
   "metadata": {},
   "source": [
    "#### Time-based Budget Unlocking - comparison of different metrics\n",
    "- N = 500\n"
   ]
  },
  {
   "cell_type": "code",
   "execution_count": null,
   "id": "965d80e5-db1a-4a21-9f9b-2ab6267dfabe",
   "metadata": {},
   "outputs": [],
   "source": [
    "q2 = df.query(\"scheduler_n == 500\").sort_values([\"frequency_file\"])\n",
    "px.line(q2, x=\"frequency_file\", y=\"n_allocated_tasks\", color='scheduler_metric')"
   ]
  },
  {
   "cell_type": "markdown",
   "id": "26aef163",
   "metadata": {},
   "source": [
    "#### Time-based Budget Unlocking - comparison of different metrics\n",
    "- N = 1000\n"
   ]
  },
  {
   "cell_type": "code",
   "execution_count": null,
   "id": "7da7ff68",
   "metadata": {},
   "outputs": [],
   "source": [
    "q3 = df.query(\"scheduler_n == 1000\").sort_values([\"frequency_file\"])\n",
    "px.line(q3, x=\"frequency_file\", y=\"n_allocated_tasks\", color='scheduler_metric')"
   ]
  },
  {
   "cell_type": "markdown",
   "id": "9df25fdb-87a9-48ad-ab80-71dc5ebe8adc",
   "metadata": {},
   "source": [
    "\n",
    "\n"
   ]
  }
 ],
 "metadata": {
  "kernelspec": {
   "display_name": "Python 3 (ipykernel)",
   "language": "python",
   "name": "python3"
  },
  "language_info": {
   "codemirror_mode": {
    "name": "ipython",
    "version": 3
   },
   "file_extension": ".py",
   "mimetype": "text/x-python",
   "name": "python",
   "nbconvert_exporter": "python",
   "pygments_lexer": "ipython3",
   "version": "3.8.5"
  }
 },
 "nbformat": 4,
 "nbformat_minor": 5
}
