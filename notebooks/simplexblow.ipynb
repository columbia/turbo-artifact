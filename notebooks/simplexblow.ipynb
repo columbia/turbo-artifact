{
 "cells": [
  {
   "cell_type": "code",
   "execution_count": 1,
   "id": "cb1a5459-6eb7-405d-bd7b-19a13f631574",
   "metadata": {},
   "outputs": [],
   "source": [
    "import pandas as pd\n",
    "import numpy as np\n",
    "from privacypacking.utils.utils import LOGS_PATH\n",
    "from experiments.ray.analysis import load_ray_experiment\n",
    "import plotly.express as px\n",
    "import warnings\n",
    "warnings.filterwarnings('ignore')"
   ]
  },
  {
   "cell_type": "code",
   "execution_count": 2,
   "id": "b150e665-373b-488b-a3c0-721d756ac549",
   "metadata": {},
   "outputs": [
    {
     "data": {
      "text/html": [
       "<div>\n",
       "<style scoped>\n",
       "    .dataframe tbody tr th:only-of-type {\n",
       "        vertical-align: middle;\n",
       "    }\n",
       "\n",
       "    .dataframe tbody tr th {\n",
       "        vertical-align: top;\n",
       "    }\n",
       "\n",
       "    .dataframe thead th {\n",
       "        text-align: right;\n",
       "    }\n",
       "</style>\n",
       "<table border=\"1\" class=\"dataframe\">\n",
       "  <thead>\n",
       "    <tr style=\"text-align: right;\">\n",
       "      <th></th>\n",
       "      <th>scheduler</th>\n",
       "      <th>scheduler_n</th>\n",
       "      <th>scheduler_metric</th>\n",
       "      <th>scheduler_budget_unlocking_time</th>\n",
       "      <th>block_selecting_policy</th>\n",
       "      <th>frequency_file</th>\n",
       "      <th>n_allocated_tasks</th>\n",
       "      <th>total_tasks</th>\n",
       "      <th>realized_profit</th>\n",
       "      <th>n_tasks</th>\n",
       "      <th>...</th>\n",
       "      <th>timestamp</th>\n",
       "      <th>time_total_s</th>\n",
       "      <th>pid</th>\n",
       "      <th>hostname</th>\n",
       "      <th>node_ip</th>\n",
       "      <th>config</th>\n",
       "      <th>time_since_restore</th>\n",
       "      <th>timesteps_since_restore</th>\n",
       "      <th>iterations_since_restore</th>\n",
       "      <th>trial_id</th>\n",
       "    </tr>\n",
       "  </thead>\n",
       "  <tbody>\n",
       "    <tr>\n",
       "      <th>0</th>\n",
       "      <td>basic_scheduler</td>\n",
       "      <td>100</td>\n",
       "      <td>FlatRelevance</td>\n",
       "      <td>1</td>\n",
       "      <td>RandomBlocks</td>\n",
       "      <td>frequencies.yaml</td>\n",
       "      <td>1698</td>\n",
       "      <td>5000</td>\n",
       "      <td>1698.0</td>\n",
       "      <td>5000</td>\n",
       "      <td>...</td>\n",
       "      <td>1636133341</td>\n",
       "      <td>27.192047</td>\n",
       "      <td>7534</td>\n",
       "      <td>DESKTOP-QRM71QD</td>\n",
       "      <td>10.234.2.246</td>\n",
       "      <td>{'epsilon': 10, 'delta': 0.001, 'global_seed':...</td>\n",
       "      <td>27.192047</td>\n",
       "      <td>0</td>\n",
       "      <td>1</td>\n",
       "      <td>cbd23_00001</td>\n",
       "    </tr>\n",
       "    <tr>\n",
       "      <th>1</th>\n",
       "      <td>basic_scheduler</td>\n",
       "      <td>100</td>\n",
       "      <td>DominantShares</td>\n",
       "      <td>1</td>\n",
       "      <td>RandomBlocks</td>\n",
       "      <td>frequencies.yaml</td>\n",
       "      <td>365</td>\n",
       "      <td>5000</td>\n",
       "      <td>365.0</td>\n",
       "      <td>5000</td>\n",
       "      <td>...</td>\n",
       "      <td>1636133340</td>\n",
       "      <td>27.130573</td>\n",
       "      <td>7537</td>\n",
       "      <td>DESKTOP-QRM71QD</td>\n",
       "      <td>10.234.2.246</td>\n",
       "      <td>{'epsilon': 10, 'delta': 0.001, 'global_seed':...</td>\n",
       "      <td>27.130573</td>\n",
       "      <td>0</td>\n",
       "      <td>1</td>\n",
       "      <td>cbd23_00000</td>\n",
       "    </tr>\n",
       "  </tbody>\n",
       "</table>\n",
       "<p>2 rows × 31 columns</p>\n",
       "</div>"
      ],
      "text/plain": [
       "         scheduler  scheduler_n scheduler_metric  \\\n",
       "0  basic_scheduler          100    FlatRelevance   \n",
       "1  basic_scheduler          100   DominantShares   \n",
       "\n",
       "   scheduler_budget_unlocking_time block_selecting_policy    frequency_file  \\\n",
       "0                                1           RandomBlocks  frequencies.yaml   \n",
       "1                                1           RandomBlocks  frequencies.yaml   \n",
       "\n",
       "   n_allocated_tasks  total_tasks  realized_profit  n_tasks  ...   timestamp  \\\n",
       "0               1698         5000           1698.0     5000  ...  1636133341   \n",
       "1                365         5000            365.0     5000  ...  1636133340   \n",
       "\n",
       "   time_total_s   pid         hostname       node_ip  \\\n",
       "0     27.192047  7534  DESKTOP-QRM71QD  10.234.2.246   \n",
       "1     27.130573  7537  DESKTOP-QRM71QD  10.234.2.246   \n",
       "\n",
       "                                              config time_since_restore  \\\n",
       "0  {'epsilon': 10, 'delta': 0.001, 'global_seed':...          27.192047   \n",
       "1  {'epsilon': 10, 'delta': 0.001, 'global_seed':...          27.130573   \n",
       "\n",
       "  timesteps_since_restore  iterations_since_restore     trial_id  \n",
       "0                       0                         1  cbd23_00001  \n",
       "1                       0                         1  cbd23_00000  \n",
       "\n",
       "[2 rows x 31 columns]"
      ]
     },
     "execution_count": 2,
     "metadata": {},
     "output_type": "execute_result"
    }
   ],
   "source": [
    "logs = LOGS_PATH.joinpath(\"ray/run_and_report_2021-11-05_13-28-31\")\n",
    "df = load_ray_experiment(logs)\n",
    "df.keys()\n",
    "# df['frequency_file'] = df['frequency_file'].str.replace(r'[^\\d+]', '')\n",
    "# df = df.astype({'frequency_file': 'float32'})\n",
    "# df['frequency_file'] /= 100\n",
    "df\n",
    "# df = df.sort_values(['scheduler_metric', 'frequency_file'])\n",
    "# df = df[['frequency_file', 'realized_profit', 'scheduler_metric', 'n_allocated_tasks', 'n_tasks']]\n",
    "# df\n",
    "# df.to_csv(\"aaaa.csv\")"
   ]
  },
  {
   "cell_type": "code",
   "execution_count": null,
   "id": "2e134d28",
   "metadata": {},
   "outputs": [],
   "source": [
    "df.keys()"
   ]
  },
  {
   "cell_type": "markdown",
   "id": "8f34c56c",
   "metadata": {},
   "source": [
    " \n",
    "## Mice and Elephants example\n",
    " \n",
    "- Both types of tasks might ask 1 block with 0.5 probability, 5 blocks with 0.3 and 10 blocks with 0.2\n",
    "- Tasks arrive following a Poisson distribution\n",
    "- A block arrives every 1 second\n",
    "- The experiment lasts for 50 seconds\n",
    "- A total of 2000 tasks arrive"
   ]
  },
  {
   "cell_type": "markdown",
   "id": "3962be04",
   "metadata": {},
   "source": [
    "### Block Selection Policy: Random Blocks\n"
   ]
  },
  {
   "cell_type": "markdown",
   "id": "c2145369",
   "metadata": {},
   "source": [
    "#### Time-based Budget Unlocking - comparison of different metrics\n",
    "- N = 125\n",
    "\n"
   ]
  },
  {
   "cell_type": "code",
   "execution_count": null,
   "id": "9f44b088",
   "metadata": {},
   "outputs": [],
   "source": [
    "q1 = df.query(\"scheduler_n == 125\").sort_values([\"frequency_file\"])\n",
    "px.line(q1, x=\"frequency_file\", y=\"n_allocated_tasks\", color='scheduler_metric')"
   ]
  },
  {
   "cell_type": "markdown",
   "id": "ec28b29e",
   "metadata": {},
   "source": [
    "#### Time-based Budget Unlocking - comparison of different metrics\n",
    "- N = 500\n"
   ]
  },
  {
   "cell_type": "code",
   "execution_count": null,
   "id": "965d80e5-db1a-4a21-9f9b-2ab6267dfabe",
   "metadata": {},
   "outputs": [],
   "source": [
    "q2 = df.query(\"scheduler_n == 500\").sort_values([\"frequency_file\"])\n",
    "px.line(q2, x=\"frequency_file\", y=\"n_allocated_tasks\", color='scheduler_metric')"
   ]
  },
  {
   "cell_type": "markdown",
   "id": "26aef163",
   "metadata": {},
   "source": [
    "#### Time-based Budget Unlocking - comparison of different metrics\n",
    "- N = 1000\n"
   ]
  },
  {
   "cell_type": "code",
   "execution_count": null,
   "id": "7da7ff68",
   "metadata": {},
   "outputs": [],
   "source": [
    "q3 = df.query(\"scheduler_n == 1000\").sort_values([\"frequency_file\"])\n",
    "px.line(q3, x=\"frequency_file\", y=\"n_allocated_tasks\", color='scheduler_metric')"
   ]
  },
  {
   "cell_type": "markdown",
   "id": "9df25fdb-87a9-48ad-ab80-71dc5ebe8adc",
   "metadata": {},
   "source": [
    "\n",
    "\n"
   ]
  }
 ],
 "metadata": {
  "kernelspec": {
   "display_name": "Python 3 (ipykernel)",
   "language": "python",
   "name": "python3"
  },
  "language_info": {
   "codemirror_mode": {
    "name": "ipython",
    "version": 3
   },
   "file_extension": ".py",
   "mimetype": "text/x-python",
   "name": "python",
   "nbconvert_exporter": "python",
   "pygments_lexer": "ipython3",
   "version": "3.8.5"
  }
 },
 "nbformat": 4,
 "nbformat_minor": 5
}