{
 "cells": [
  {
   "cell_type": "code",
   "execution_count": 7,
   "id": "cbfa8a34-d6e4-407c-8041-14016c11967e",
   "metadata": {},
   "outputs": [],
   "source": [
    "import json\n",
    "from privacypacking.utils.utils import load_logs, global_metrics\n",
    "import pandas as pd"
   ]
  },
  {
   "cell_type": "code",
   "execution_count": 15,
   "id": "11054aec-e510-4d6e-b174-a0590eb2c457",
   "metadata": {},
   "outputs": [],
   "source": [
    "logs = load_logs(\"offline/OverflowRelevance/0811-102732.json\")"
   ]
  },
  {
   "cell_type": "code",
   "execution_count": 23,
   "id": "c97c7e88-b6f9-4441-86e6-712bcfe57f07",
   "metadata": {},
   "outputs": [],
   "source": [
    "b1 = global_metrics(logs)"
   ]
  },
  {
   "cell_type": "code",
   "execution_count": 24,
   "id": "796e5817-2fdc-436d-9677-248453a80c14",
   "metadata": {},
   "outputs": [],
   "source": [
    "b2 =  global_metrics(logs)\n",
    "b2[\"scheduler\"] = \"test\""
   ]
  },
  {
   "cell_type": "code",
   "execution_count": 25,
   "id": "f29b69a3-bc58-4990-b312-dd7fc767936e",
   "metadata": {},
   "outputs": [
    {
     "data": {
      "text/html": [
       "<div>\n",
       "<style scoped>\n",
       "    .dataframe tbody tr th:only-of-type {\n",
       "        vertical-align: middle;\n",
       "    }\n",
       "\n",
       "    .dataframe tbody tr th {\n",
       "        vertical-align: top;\n",
       "    }\n",
       "\n",
       "    .dataframe thead th {\n",
       "        text-align: right;\n",
       "    }\n",
       "</style>\n",
       "<table border=\"1\" class=\"dataframe\">\n",
       "  <thead>\n",
       "    <tr style=\"text-align: right;\">\n",
       "      <th></th>\n",
       "      <th>scheduler</th>\n",
       "      <th>n_allocated_tasks</th>\n",
       "      <th>realized_profit</th>\n",
       "      <th>n_tasks</th>\n",
       "      <th>maximum_profit</th>\n",
       "    </tr>\n",
       "  </thead>\n",
       "  <tbody>\n",
       "    <tr>\n",
       "      <th>0</th>\n",
       "      <td>OverflowRelevance</td>\n",
       "      <td>791</td>\n",
       "      <td>1115</td>\n",
       "      <td>1150</td>\n",
       "      <td>1500</td>\n",
       "    </tr>\n",
       "    <tr>\n",
       "      <th>1</th>\n",
       "      <td>test</td>\n",
       "      <td>791</td>\n",
       "      <td>1115</td>\n",
       "      <td>1150</td>\n",
       "      <td>1500</td>\n",
       "    </tr>\n",
       "  </tbody>\n",
       "</table>\n",
       "</div>"
      ],
      "text/plain": [
       "           scheduler  n_allocated_tasks  realized_profit  n_tasks  \\\n",
       "0  OverflowRelevance                791             1115     1150   \n",
       "1               test                791             1115     1150   \n",
       "\n",
       "   maximum_profit  \n",
       "0            1500  \n",
       "1            1500  "
      ]
     },
     "execution_count": 25,
     "metadata": {},
     "output_type": "execute_result"
    }
   ],
   "source": [
    "pd.DataFrame([b1, b2])"
   ]
  }
 ],
 "metadata": {
  "kernelspec": {
   "display_name": "Python 3 (ipykernel)",
   "language": "python",
   "name": "python3"
  },
  "language_info": {
   "codemirror_mode": {
    "name": "ipython",
    "version": 3
   },
   "file_extension": ".py",
   "mimetype": "text/x-python",
   "name": "python",
   "nbconvert_exporter": "python",
   "pygments_lexer": "ipython3",
   "version": "3.8.10"
  }
 },
 "nbformat": 4,
 "nbformat_minor": 5
}
