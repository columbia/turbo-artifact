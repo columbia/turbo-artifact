{
 "cells": [
  {
   "cell_type": "code",
   "execution_count": null,
   "id": "5a84ac5a",
   "metadata": {},
   "outputs": [],
   "source": [
    "import pandas as pd\n",
    "import numpy as np\n",
    "from privacypacking.utils.utils import LOGS_PATH\n",
    "from experiments.ray.analysis import load_ray_experiment\n",
    "import plotly.express as px\n",
    "import warnings\n",
    "warnings.filterwarnings('ignore')"
   ]
  },
  {
   "cell_type": "code",
   "execution_count": null,
   "id": "58874e90",
   "metadata": {},
   "outputs": [],
   "source": [
    "logs = LOGS_PATH.joinpath(\"ray/offline_dpf_killer/single_block/run_and_report\")\n",
    "df = load_ray_experiment(logs)"
   ]
  },
  {
   "cell_type": "code",
   "execution_count": null,
   "id": "2887414c",
   "metadata": {},
   "outputs": [],
   "source": [
    "df['n_tasks']"
   ]
  },
  {
   "cell_type": "code",
   "execution_count": null,
   "id": "c421cc94",
   "metadata": {},
   "outputs": [],
   "source": [
    "px.line(df.sort_values(\"n_tasks\"), x=\"n_tasks\", y=\"n_allocated_tasks\", color=\"scheduler\", title=\"Single block DPF killer\")\n"
   ]
  }
 ],
 "metadata": {
  "interpreter": {
   "hash": "b98cccd71a9051ff030220fe5db0bf051313c0a8551f4431c6a98276f0db3ddd"
  },
  "kernelspec": {
   "display_name": "Python 3 (ipykernel)",
   "language": "python",
   "name": "python3"
  },
  "language_info": {
   "codemirror_mode": {
    "name": "ipython",
    "version": 3
   },
   "file_extension": ".py",
   "mimetype": "text/x-python",
   "name": "python",
   "nbconvert_exporter": "python",
   "pygments_lexer": "ipython3"
  }
 },
 "nbformat": 4,
 "nbformat_minor": 5
}
