{
 "cells": [
  {
   "cell_type": "code",
   "execution_count": null,
   "metadata": {},
   "outputs": [],
   "source": [
    "%load_ext autoreload \n",
    "%autoreload 2"
   ]
  },
  {
   "cell_type": "code",
   "execution_count": null,
   "metadata": {},
   "outputs": [],
   "source": [
    "import pandas as pd\n",
    "import numpy as np\n",
    "from privacypacking.utils.utils import LOGS_PATH\n",
    "from experiments.ray.analysis import load_ray_experiment, load_latest_ray_experiment, load_latest_scheduling_results\n",
    "import plotly.express as px\n",
    "from privacypacking.budget.curves import  LaplaceCurve\n",
    "import yaml"
   ]
  },
  {
   "cell_type": "code",
   "execution_count": null,
   "metadata": {},
   "outputs": [],
   "source": [
    "print(yaml.dump(LaplaceCurve(1/4.9).epsilons))\n",
    "print()\n",
    "print(yaml.dump(LaplaceCurve(1/1.9).epsilons))"
   ]
  },
  {
   "cell_type": "code",
   "execution_count": null,
   "metadata": {},
   "outputs": [],
   "source": [
    "# logs = LOGS_PATH.joinpath(\"ray/run_and_report_2021-10-29_17-22-50\")\n",
    "\n",
    "# df = load_ray_experiment(logs)\n",
    "\n",
    "df = load_latest_ray_experiment()"
   ]
  },
  {
   "cell_type": "code",
   "execution_count": null,
   "metadata": {},
   "outputs": [],
   "source": [
    "df.head()"
   ]
  },
  {
   "cell_type": "code",
   "execution_count": null,
   "metadata": {},
   "outputs": [],
   "source": [
    "df.describe()"
   ]
  },
  {
   "cell_type": "code",
   "execution_count": null,
   "metadata": {},
   "outputs": [],
   "source": [
    "px.line(df.sort_values('n_blocks'), x=\"n_blocks\", y=\"n_allocated_tasks\", color=\"scheduler\", title=\"Multiblock DPF killer\", facet_col=\"block_selecting_policy\")"
   ]
  },
  {
   "cell_type": "code",
   "execution_count": null,
   "metadata": {},
   "outputs": [],
   "source": []
  },
  {
   "cell_type": "code",
   "execution_count": null,
   "metadata": {},
   "outputs": [],
   "source": [
    "# Zeta\n",
    "alpha = 0.1\n",
    "n_blocks = 10\n",
    "density = np.array([1 / (i + 1) ** (alpha) for i in range(n_blocks)])\n",
    "density /= sum(density)\n",
    "\n",
    "px.line(density)"
   ]
  },
  {
   "cell_type": "code",
   "execution_count": null,
   "metadata": {},
   "outputs": [],
   "source": [
    "import json\n",
    "from collections import defaultdict"
   ]
  },
  {
   "cell_type": "code",
   "execution_count": null,
   "metadata": {},
   "outputs": [],
   "source": [
    "p1 = \"/home/pierre/privacypacking/logs/basic_scheduler_DominantShares/1029-184048.json\"\n",
    "p2 = \"/home/pierre/privacypacking/logs/simplex_DominantShares/1029-184048.json\"\n",
    "\n",
    "with open(p1) as f:\n",
    "    d1 = json.load(f)\n",
    "    \n",
    "df = pd.DataFrame(d1[\"tasks\"])\n",
    "\n",
    "\n",
    "\n",
    "json_log_paths = [p1,p2]"
   ]
  },
  {
   "cell_type": "code",
   "execution_count": null,
   "metadata": {},
   "outputs": [],
   "source": [
    "list(LOGS_PATH.glob(\"exp_*\"))"
   ]
  },
  {
   "cell_type": "code",
   "execution_count": null,
   "metadata": {},
   "outputs": [],
   "source": [
    "def color_from_row(row):\n",
    "    return 100* list(row[\"budget_per_block\"].values())[0][\"dp_budget\"][\"epsilon\"] + row[\"id\"]\n",
    "\n",
    "d = defaultdict(list)\n",
    "\n",
    "for p in json_log_paths:\n",
    "    with open(p) as f:\n",
    "        run_dict = json.load(f)\n",
    "    for t in run_dict[\"tasks\"]:\n",
    "        task_color = color_from_row(t)\n",
    "        for block_id, block_budget in t[\"budget_per_block\"].items():\n",
    "\n",
    "            d[\"id\"].append(t[\"id\"])\n",
    "            d[\"log_id\"].append(np.log(t[\"id\"] + 1))\n",
    "\n",
    "            d[\"hashed_id\"].append(hash(str(t[\"id\"])) % 100)\n",
    "            d[\"allocated\"].append(t[\"allocated\"])\n",
    "            d[\"scheduler\"].append(run_dict[\"simulator_config\"][\"scheduler_spec\"][\"method\"])\n",
    "            d[\"task_type\"].append(task_color)\n",
    "            d[\"total_blocks\"].append(len(run_dict[\"blocks\"]))\n",
    "            d[\"n_blocks\"].append(len(t[\"budget_per_block\"]))\n",
    "\n",
    "            d[\"block\"].append(int(block_id))\n",
    "            d[\"epsilon\"].append(block_budget[\"dp_budget\"][\"epsilon\"])\n",
    "            d[\"block_selection\"].append(run_dict[\"simulator_config\"][\"tasks_spec\"][\"curve_distributions\"][\"custom\"][\"read_block_selecting_policy_from_config\"][\"block_selecting_policy\"])\n",
    "            d[\"totalblocks_scheduler_selection\"].append(f\"{d['total_blocks'][-1]}-{d['scheduler'][-1]}-{d['block_selection'][-1]}\")\n",
    "            \n",
    "            \n",
    "df = pd.DataFrame(d).sort_values([\"block\", \"id\", \"allocated\"], ascending=[True, True, False])\n",
    "        "
   ]
  },
  {
   "cell_type": "code",
   "execution_count": null,
   "metadata": {},
   "outputs": [],
   "source": [
    "df.head()"
   ]
  },
  {
   "cell_type": "code",
   "execution_count": null,
   "metadata": {},
   "outputs": [],
   "source": [
    "fig = px.bar(\n",
    "#     df,\n",
    "    df.query(\"allocated\"),\n",
    "    x=\"block\",\n",
    "    y=\"epsilon\",\n",
    "#     color=\"log_id\",\n",
    "    color=\"id\",\n",
    "    # barmode=\"group\",\n",
    "    pattern_shape=\"n_blocks\",\n",
    "    facet_col=\"totalblocks_scheduler_selection\",\n",
    "#     animation_frame=\"id\"\n",
    ")\n",
    "\n",
    "fig"
   ]
  },
  {
   "cell_type": "code",
   "execution_count": null,
   "metadata": {},
   "outputs": [],
   "source": [
    "dumps = load_latest_scheduling_results()\n"
   ]
  },
  {
   "cell_type": "code",
   "execution_count": null,
   "metadata": {},
   "outputs": [],
   "source": [
    "px.histogram(dumps.query(\"total_blocks == 10 and scheduler == 'simplex' and block_selection == 'RandomBlocks' \"), x=\"n_blocks\")"
   ]
  },
  {
   "cell_type": "code",
   "execution_count": null,
   "metadata": {},
   "outputs": [],
   "source": [
    "fig = px.bar(\n",
    "    dumps.query(\"allocated and total_blocks == 10\"),\n",
    "#     dumps.query(\"total_blocks == 10\"),    \n",
    "    x=\"block\",\n",
    "    y=\"epsilon\",\n",
    "#     color=\"log_id\",\n",
    "    color=\"id\",\n",
    "    # barmode=\"group\",\n",
    "    pattern_shape=\"n_blocks\",\n",
    "    facet_col=\"totalblocks_scheduler_selection\",\n",
    "    facet_col_wrap=3,\n",
    "    height=2000,\n",
    "#     animation_frame=\"id\"\n",
    ")\n",
    "\n",
    "fig"
   ]
  },
  {
   "cell_type": "code",
   "execution_count": null,
   "metadata": {},
   "outputs": [],
   "source": [
    "df = load_latest_ray_experiment()"
   ]
  },
  {
   "cell_type": "code",
   "execution_count": null,
   "metadata": {},
   "outputs": [],
   "source": [
    "px.line(df.sort_values('n_blocks'), x=\"n_blocks\", y=\"n_allocated_tasks\", color=\"scheduler\", title=\"Multiblock DPF killer\", facet_col=\"block_selecting_policy\")"
   ]
  }
 ],
 "metadata": {
  "interpreter": {
   "hash": "8eab72c90ef7b6cf7a47cf9058599fe69878ae5c291bf7d8c10fb9498bc1b89e"
  },
  "kernelspec": {
   "display_name": "Python 3 (ipykernel)",
   "language": "python",
   "name": "python3"
  },
  "language_info": {
   "codemirror_mode": {
    "name": "ipython",
    "version": 3
   },
   "file_extension": ".py",
   "mimetype": "text/x-python",
   "name": "python",
   "nbconvert_exporter": "python",
   "pygments_lexer": "ipython3"
  }
 },
 "nbformat": 4,
 "nbformat_minor": 4
}
