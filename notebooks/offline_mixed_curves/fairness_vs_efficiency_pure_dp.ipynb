{
 "cells": [
  {
   "cell_type": "code",
   "execution_count": null,
   "id": "cb1a5459-6eb7-405d-bd7b-19a13f631574",
   "metadata": {},
   "outputs": [],
   "source": [
    "import pandas as pd\n",
    "import numpy as np\n",
    "from privacypacking.utils.utils import LOGS_PATH\n",
    "from experiments.ray.analysis import load_ray_experiment\n",
    "import plotly.express as px\n",
    "import warnings\n",
    "warnings.filterwarnings('ignore')\n",
    "import copy"
   ]
  },
  {
   "cell_type": "code",
   "execution_count": null,
   "id": "b150e665-373b-488b-a3c0-721d756ac549",
   "metadata": {},
   "outputs": [],
   "source": [
    "logs = LOGS_PATH.joinpath(\"ray/run_and_report_2022-02-02_22-07-33\")\n",
    "df = load_ray_experiment(logs)\n",
    "df.keys()\n",
    "df = df[['scheduler_metric', 'tasks']]\n",
    "\n",
    "dfs = []\n",
    "ds = None\n",
    "for i in range(len(df)):\n",
    "    row = df.iloc[i]\n",
    "    tasks = pd.DataFrame(row['tasks'])\n",
    "    tasks = tasks[tasks['allocated'] == True]\n",
    "    tasks.sort_values(['allocation_index'])\n",
    "    dominant_shares = {}\n",
    "    scheduler = [row['scheduler_metric']]\n",
    "\n",
    "    for j in range(len(tasks)):\n",
    "        dominant_share_per_alpha = {}\n",
    "        budget_per_block = tasks.iloc[j].budget_per_block\n",
    "        for block_id in budget_per_block:\n",
    "            for alpha, epsilon in budget_per_block[block_id]['orders'].items():\n",
    "\n",
    "                if alpha not in dominant_share_per_alpha:                 \n",
    "                    dominant_share_per_alpha[alpha] = epsilon\n",
    "                elif dominant_share_per_alpha[alpha] < epsilon:\n",
    "                    dominant_share_per_alpha[alpha] = epsilon\n",
    "        \n",
    "        for key,value in dominant_share_per_alpha.items():\n",
    "            if key not in dominant_shares:\n",
    "                dominant_shares[key] = []\n",
    "            dominant_shares[key] += [value]\n",
    "\n",
    "    ds = pd.DataFrame.from_dict(dominant_shares)\n",
    "    ds['scheduler_metric'] = scheduler*len(tasks)\n",
    "    ds['task_id'] = range(0, len(tasks))\n",
    "    dfs.append(ds)\n",
    "    \n",
    "\n",
    "dfs = pd.concat(dfs)\n",
    "# print(dfs)\n",
    "\n"
   ]
  },
  {
   "cell_type": "markdown",
   "id": "8f34c56c",
   "metadata": {},
   "source": [
    " \n",
    "## Fairness vs Efficienty\n"
   ]
  },
  {
   "cell_type": "markdown",
   "id": "3962be04",
   "metadata": {},
   "source": [
    "\n"
   ]
  },
  {
   "cell_type": "code",
   "execution_count": null,
   "id": "470784d0",
   "metadata": {},
   "outputs": [],
   "source": [
    "px.line(dfs, x=\"task_id\", y=\"3\", color='scheduler_metric')"
   ]
  },
  {
   "cell_type": "markdown",
   "id": "9df25fdb-87a9-48ad-ab80-71dc5ebe8adc",
   "metadata": {},
   "source": [
    "\n",
    "\n"
   ]
  }
 ],
 "metadata": {
  "kernelspec": {
   "display_name": "Python 3 (ipykernel)",
   "language": "python",
   "name": "python3"
  },
  "language_info": {
   "codemirror_mode": {
    "name": "ipython",
    "version": 3
   },
   "file_extension": ".py",
   "mimetype": "text/x-python",
   "name": "python",
   "nbconvert_exporter": "python",
   "pygments_lexer": "ipython3"
  }
 },
 "nbformat": 4,
 "nbformat_minor": 5
}
