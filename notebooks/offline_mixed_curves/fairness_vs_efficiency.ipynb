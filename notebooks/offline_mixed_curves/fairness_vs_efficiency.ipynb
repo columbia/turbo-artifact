{
 "cells": [
  {
   "cell_type": "code",
   "execution_count": null,
   "id": "cb1a5459-6eb7-405d-bd7b-19a13f631574",
   "metadata": {},
   "outputs": [],
   "source": [
    "import pandas as pd\n",
    "import numpy as np\n",
    "from privacypacking.utils.utils import LOGS_PATH\n",
    "from experiments.ray.analysis import load_ray_experiment\n",
    "import plotly.express as px\n",
    "import warnings\n",
    "warnings.filterwarnings('ignore')"
   ]
  },
  {
   "cell_type": "code",
   "execution_count": 1,
   "id": "b150e665-373b-488b-a3c0-721d756ac549",
   "metadata": {},
   "outputs": [
    {
     "ename": "NameError",
     "evalue": "name 'LOGS_PATH' is not defined",
     "output_type": "error",
     "traceback": [
      "\u001B[0;31m---------------------------------------------------------------------------\u001B[0m",
      "\u001B[0;31mNameError\u001B[0m                                 Traceback (most recent call last)",
      "\u001B[0;32m/tmp/ipykernel_7622/2228469117.py\u001B[0m in \u001B[0;36m<module>\u001B[0;34m\u001B[0m\n\u001B[0;32m----> 1\u001B[0;31m \u001B[0mlogs\u001B[0m \u001B[0;34m=\u001B[0m \u001B[0mLOGS_PATH\u001B[0m\u001B[0;34m.\u001B[0m\u001B[0mjoinpath\u001B[0m\u001B[0;34m(\u001B[0m\u001B[0;34m\"ray/run_and_report_2022-02-01_19-32-18\"\u001B[0m\u001B[0;34m)\u001B[0m\u001B[0;34m\u001B[0m\u001B[0;34m\u001B[0m\u001B[0m\n\u001B[0m\u001B[1;32m      2\u001B[0m \u001B[0mdf\u001B[0m \u001B[0;34m=\u001B[0m \u001B[0mload_ray_experiment\u001B[0m\u001B[0;34m(\u001B[0m\u001B[0mlogs\u001B[0m\u001B[0;34m)\u001B[0m\u001B[0;34m\u001B[0m\u001B[0;34m\u001B[0m\u001B[0m\n\u001B[1;32m      3\u001B[0m \u001B[0mdf\u001B[0m\u001B[0;34m.\u001B[0m\u001B[0mkeys\u001B[0m\u001B[0;34m(\u001B[0m\u001B[0;34m)\u001B[0m\u001B[0;34m\u001B[0m\u001B[0;34m\u001B[0m\u001B[0m\n\u001B[1;32m      4\u001B[0m \u001B[0mdf\u001B[0m \u001B[0;34m=\u001B[0m \u001B[0mdf\u001B[0m\u001B[0;34m.\u001B[0m\u001B[0msort_values\u001B[0m\u001B[0;34m(\u001B[0m\u001B[0;34m[\u001B[0m\u001B[0;34m'scheduler_metric'\u001B[0m\u001B[0;34m,\u001B[0m \u001B[0;34m'n_tasks'\u001B[0m\u001B[0;34m]\u001B[0m\u001B[0;34m)\u001B[0m\u001B[0;34m\u001B[0m\u001B[0;34m\u001B[0m\u001B[0m\n\u001B[1;32m      5\u001B[0m \u001B[0mdf\u001B[0m \u001B[0;34m=\u001B[0m \u001B[0mdf\u001B[0m\u001B[0;34m[\u001B[0m\u001B[0;34m[\u001B[0m\u001B[0;34m'n_tasks'\u001B[0m\u001B[0;34m,\u001B[0m \u001B[0;34m'realized_profit'\u001B[0m\u001B[0;34m,\u001B[0m \u001B[0;34m'n_tasks'\u001B[0m\u001B[0;34m,\u001B[0m \u001B[0;34m'n_allocated_tasks'\u001B[0m\u001B[0;34m,\u001B[0m \u001B[0;34m'scheduler'\u001B[0m\u001B[0;34m,\u001B[0m \u001B[0;34m'scheduler_metric'\u001B[0m\u001B[0;34m,\u001B[0m\u001B[0;34m]\u001B[0m\u001B[0;34m]\u001B[0m\u001B[0;34m\u001B[0m\u001B[0;34m\u001B[0m\u001B[0m\n",
      "\u001B[0;31mNameError\u001B[0m: name 'LOGS_PATH' is not defined"
     ]
    }
   ],
   "source": [
    "logs = LOGS_PATH.joinpath(\"ray/run_and_report_2022-02-01_19-32-18\")\n",
    "df = load_ray_experiment(logs)\n",
    "df.keys()\n",
    "df = df.sort_values(['scheduler_metric', 'n_tasks'])\n",
    "df = df[['n_tasks', 'realized_profit', 'n_tasks', 'n_allocated_tasks', 'scheduler', 'scheduler_metric',]]\n",
    "# df.to_csv(\"aaaa.csv\")\n"
   ]
  },
  {
   "cell_type": "code",
   "execution_count": null,
   "id": "2e134d28",
   "metadata": {},
   "outputs": [],
   "source": [
    "df.keys()"
   ]
  },
  {
   "cell_type": "markdown",
   "id": "8f34c56c",
   "metadata": {},
   "source": [
    " \n",
    "## Mice and Elephants example\n",
    " \n",
    "- Both types of tasks might ask 1 block with 0.5 probability, 5 blocks with 0.3 and 10 blocks with 0.2\n",
    "- Tasks arrive following a Poisson distribution\n",
    "- A block arrives every 1 second\n",
    "- The experiment lasts for 50 seconds\n",
    "- A total of 2000 tasks arrive"
   ]
  },
  {
   "cell_type": "markdown",
   "id": "3962be04",
   "metadata": {},
   "source": [
    "### Block Selection Policy: Random Blocks\n"
   ]
  },
  {
   "cell_type": "markdown",
   "id": "c2145369",
   "metadata": {},
   "source": [
    "#### Time-based Budget Unlocking - comparison of different metrics\n",
    "- N = 125\n",
    "\n"
   ]
  },
  {
   "cell_type": "code",
   "execution_count": null,
   "id": "9f44b088",
   "metadata": {},
   "outputs": [],
   "source": [
    "q1 = df.query(\"scheduler_n == 125\").sort_values([\"frequency_file\"])\n",
    "px.line(q1, x=\"frequency_file\", y=\"n_allocated_tasks\", color='scheduler_metric')"
   ]
  },
  {
   "cell_type": "markdown",
   "id": "ec28b29e",
   "metadata": {},
   "source": [
    "#### Time-based Budget Unlocking - comparison of different metrics\n",
    "- N = 500\n"
   ]
  },
  {
   "cell_type": "code",
   "execution_count": null,
   "id": "965d80e5-db1a-4a21-9f9b-2ab6267dfabe",
   "metadata": {},
   "outputs": [],
   "source": [
    "q2 = df.query(\"scheduler_n == 500\").sort_values([\"frequency_file\"])\n",
    "px.line(q2, x=\"frequency_file\", y=\"n_allocated_tasks\", color='scheduler_metric')"
   ]
  },
  {
   "cell_type": "markdown",
   "id": "26aef163",
   "metadata": {},
   "source": [
    "#### Time-based Budget Unlocking - comparison of different metrics\n",
    "- N = 1000\n"
   ]
  },
  {
   "cell_type": "code",
   "execution_count": null,
   "id": "7da7ff68",
   "metadata": {},
   "outputs": [],
   "source": [
    "q3 = df.query(\"scheduler_n == 1000\").sort_values([\"frequency_file\"])\n",
    "px.line(q3, x=\"frequency_file\", y=\"n_allocated_tasks\", color='scheduler_metric')"
   ]
  },
  {
   "cell_type": "markdown",
   "id": "9df25fdb-87a9-48ad-ab80-71dc5ebe8adc",
   "metadata": {},
   "source": [
    "\n",
    "\n"
   ]
  }
 ],
 "metadata": {
  "kernelspec": {
   "display_name": "Python 3 (ipykernel)",
   "language": "python",
   "name": "python3"
  },
  "language_info": {
   "codemirror_mode": {
    "name": "ipython",
    "version": 3
   },
   "file_extension": ".py",
   "mimetype": "text/x-python",
   "name": "python",
   "nbconvert_exporter": "python",
   "pygments_lexer": "ipython3",
   "version": "3.8.5"
  }
 },
 "nbformat": 4,
 "nbformat_minor": 5
}