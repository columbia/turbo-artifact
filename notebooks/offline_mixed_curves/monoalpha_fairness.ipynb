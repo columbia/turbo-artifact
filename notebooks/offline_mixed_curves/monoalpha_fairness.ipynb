{
 "cells": [
  {
   "cell_type": "code",
   "execution_count": null,
   "metadata": {},
   "outputs": [],
   "source": [
    "%load_ext autoreload \n",
    "%autoreload 2"
   ]
  },
  {
   "cell_type": "code",
   "execution_count": null,
   "metadata": {},
   "outputs": [],
   "source": [
    "\n",
    "\n",
    "import pandas as pd\n",
    "import numpy as np\n",
    "from privacypacking.utils.utils import LOGS_PATH\n",
    "from experiments.ray.analysis import load_ray_experiment,load_latest_scheduling_results\n",
    "import plotly.express as px\n",
    "import warnings\n",
    "warnings.filterwarnings('ignore')\n",
    "import copy\n",
    "\n"
   ]
  },
  {
   "cell_type": "code",
   "execution_count": null,
   "metadata": {},
   "outputs": [],
   "source": [
    "logs = LOGS_PATH.joinpath(\"ray/run_and_report_2022-02-02_23-09-56\")\n",
    "df = load_ray_experiment(logs)"
   ]
  },
  {
   "cell_type": "code",
   "execution_count": null,
   "metadata": {},
   "outputs": [],
   "source": [
    "sdf = load_latest_scheduling_results(alphas=\"monoalpha\")"
   ]
  },
  {
   "cell_type": "code",
   "execution_count": null,
   "metadata": {},
   "outputs": [],
   "source": [
    "dominant_shares = sdf.groupby(\"id\")[\"normalized_epsilon\"].agg(max)\n",
    "dominant_shares = pd.DataFrame(dominant_shares).reset_index()\n",
    "dominant_shares[\"dominant_shares\"] = dominant_shares[\"normalized_epsilon\"]\n",
    "dominant_shares= dominant_shares.drop(\"normalized_epsilon\", axis=1)\n",
    "dominant_shares"
   ]
  },
  {
   "cell_type": "code",
   "execution_count": null,
   "metadata": {},
   "outputs": [],
   "source": [
    "merged = sdf.join(dominant_shares, on=\"id\", how=\"inner\", rsuffix=\"r\")"
   ]
  },
  {
   "cell_type": "code",
   "execution_count": null,
   "metadata": {},
   "outputs": [],
   "source": [
    "px.scatter(\n",
    "    # df,\n",
    "    merged.sort_values([\"id\", \"alpha\"]).query(\"allocated\"),\n",
    "    x=\"id\",\n",
    "    y=\"normalized_epsilon\",\n",
    "    # range_y=[0,20],\n",
    "#     color=\"log_id\",\n",
    "    color=\"metric\",\n",
    "    # barmode=\"group\",\n",
    "    # pattern_shape=\"allocated\",\n",
    "    log_y=True,\n",
    "    range_x=[0,20],\n",
    "    range_y=[0.001, 1],\n",
    "    facet_col=\"alpha\",\n",
    "    facet_col_wrap=1,\n",
    "    height=1200,\n",
    "    width=800,\n",
    "    title=\"Dominant shares of all tasks\"\n",
    "#     animation_frame=\"id\"\n",
    ")"
   ]
  },
  {
   "cell_type": "code",
   "execution_count": null,
   "metadata": {},
   "outputs": [],
   "source": []
  },
  {
   "cell_type": "code",
   "execution_count": null,
   "metadata": {},
   "outputs": [],
   "source": []
  },
  {
   "cell_type": "code",
   "execution_count": null,
   "metadata": {},
   "outputs": [],
   "source": []
  },
  {
   "cell_type": "code",
   "execution_count": null,
   "metadata": {},
   "outputs": [],
   "source": [
    "sdf.columns"
   ]
  },
  {
   "cell_type": "code",
   "execution_count": null,
   "metadata": {},
   "outputs": [],
   "source": [
    "df.columns"
   ]
  },
  {
   "cell_type": "code",
   "execution_count": null,
   "metadata": {},
   "outputs": [],
   "source": [
    "df.config.iloc[0][\"omegaconf\"][\"alphas\"][0]"
   ]
  },
  {
   "cell_type": "code",
   "execution_count": null,
   "metadata": {},
   "outputs": [],
   "source": [
    "df[\"monoalpha\"] = df.config.apply(lambda c: c[\"omegaconf\"][\"alphas\"][0])"
   ]
  },
  {
   "cell_type": "code",
   "execution_count": null,
   "metadata": {},
   "outputs": [],
   "source": [
    "df[\"tasks\"].iloc[0]"
   ]
  },
  {
   "cell_type": "code",
   "execution_count": null,
   "metadata": {},
   "outputs": [],
   "source": [
    "df[\"dominant_shares\"] = df.tasks.apply()"
   ]
  }
 ],
 "metadata": {
  "interpreter": {
   "hash": "8eab72c90ef7b6cf7a47cf9058599fe69878ae5c291bf7d8c10fb9498bc1b89e"
  },
  "kernelspec": {
   "display_name": "Python 3.8.5 64-bit ('privacypacking-DDudTmDF-py3.8': poetry)",
   "language": "python",
   "name": "python3"
  },
  "language_info": {
   "codemirror_mode": {
    "name": "ipython",
    "version": 3
   },
   "file_extension": ".py",
   "mimetype": "text/x-python",
   "name": "python",
   "nbconvert_exporter": "python",
   "pygments_lexer": "ipython3"
  }
 },
 "nbformat": 4,
 "nbformat_minor": 2
}
