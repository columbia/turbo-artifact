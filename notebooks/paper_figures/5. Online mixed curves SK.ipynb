{
 "cells": [
  {
   "cell_type": "code",
   "execution_count": null,
   "metadata": {},
   "outputs": [],
   "source": [
    "%load_ext autoreload \n",
    "%autoreload 2"
   ]
  },
  {
   "cell_type": "code",
   "execution_count": null,
   "metadata": {},
   "outputs": [],
   "source": [
    "import json\n",
    "from privacypacking.utils.utils import load_logs, global_metrics\n",
    "import pandas as pd\n",
    "from experiments.ray.analysis import load_ray_experiment, load_latest_ray_experiment, load_latest_scheduling_results, load_latest_scheduling_results, load_latest_ray_experiment\n",
    "import plotly.express as px\n",
    "from privacypacking.budget.curves import  LaplaceCurve, GaussianCurve, SubsampledGaussianCurve\n",
    "from privacypacking.budget import Budget, Task, Block\n",
    "from privacypacking.schedulers.metrics import OverflowRelevance, FlatRelevance\n",
    "from privacypacking.budget.block_selection import RandomBlocks\n",
    "from privacypacking.utils.plot import plot_budgets\n",
    "import yaml\n",
    "from pathlib import Path\n",
    "import plotly.graph_objects as go\n",
    "from plotly.subplots import make_subplots\n",
    "import numpy as np\n",
    "from experiments.ray.analysis import get_percentiles"
   ]
  },
  {
   "cell_type": "code",
   "execution_count": null,
   "metadata": {},
   "outputs": [],
   "source": [
    "# Budget totally unlocked from the beginning\n",
    "# TODO: plot the delay. And before saving, add a line for Original DPF.\n",
    "# rdf = load_ray_experiment(Path(\"/home/pierre/privacypacking/logs/ray/run_and_report_2021-12-09_15-35-44\"))"
   ]
  },
  {
   "cell_type": "code",
   "execution_count": null,
   "metadata": {},
   "outputs": [],
   "source": [
    "# rdf.iloc[0].config"
   ]
  },
  {
   "cell_type": "code",
   "execution_count": null,
   "metadata": {},
   "outputs": [],
   "source": [
    "# Older version with 100 mean tasks, no initial blocks, smaller profits.\n",
    "rdf = load_ray_experiment(Path(\"/home/pierre/privacypacking/logs/ray/run_and_report_2021-12-09_15-35-44\"))\n",
    "\n",
    "\n",
    "# Unlocked, 500 mean tasks, running on C2 (mixed curves online.py)\n",
    "# rdf = load_ray_experiment(Path(\"/home/pierre/privacypacking/logs/ray/run_and_report_2021-12-10_03-35-42\")) # incomplete (crashed)\n",
    "# rdf = load_ray_experiment(Path(\"/home/pierre/privacypacking/logs/ray/run_and_report_2021-12-10_13-46-19\"))\n",
    "\n",
    "\n",
    "px.line(\n",
    "    rdf.query(\"T <= 10\").sort_values(\"T\"),\n",
    "    x=\"T\",\n",
    "    y=\"realized_profit\",\n",
    "    color=\"scheduler_metric\",\n",
    "    # log_x=True,\n",
    "    width=800,\n",
    "    height=600,\n",
    "    # range_y=[0,1_000],\n",
    "    # range_y=[0,25_000],\n",
    "    # title=\"Number of allocated tasks depending on the scheduling step size<br><sup>Online mixed curves, 20 blocks, no initial blocks, 100 tasks per block on average, lifetime = 5 blocks</sup>\"\n",
    ")"
   ]
  },
  {
   "cell_type": "code",
   "execution_count": null,
   "metadata": {},
   "outputs": [],
   "source": [
    "# rdf.query(\"T ==1\").explode(\"allocated_tasks_scheduling_delays\")\n",
    "rdf[\"T\"].unique()"
   ]
  },
  {
   "cell_type": "code",
   "execution_count": null,
   "metadata": {},
   "outputs": [],
   "source": [
    "delays = rdf.query(\"T ==1\").explode(\"allocated_tasks_scheduling_delays\")\n",
    "dpf = rdf.query(\"T == 0.01 and scheduler_metric == 'DominantShares'\").explode(\"allocated_tasks_scheduling_delays\")\n",
    "dpf[\"scheduler_metric\"] = \"Original DPF\"\n",
    "delays = pd.concat([delays, dpf]).sort_values([\"T\", \"scheduler_metric\"])\n",
    "\n",
    "px.ecdf(\n",
    "    delays,\n",
    "    x=\"allocated_tasks_scheduling_delays\",\n",
    "    color=\"scheduler_metric\",\n",
    "\n",
    ")"
   ]
  },
  {
   "cell_type": "code",
   "execution_count": null,
   "metadata": {},
   "outputs": [],
   "source": [
    "delays.query(\"scheduler_metric == 'Fcfs'\").allocated_tasks_scheduling_delays"
   ]
  },
  {
   "cell_type": "code",
   "execution_count": null,
   "metadata": {},
   "outputs": [],
   "source": [
    "sq=delays.query(f\"scheduler_metric == 'Original DPF'\").allocated_tasks_scheduling_delays.value_counts()\n",
    "series = sq.sort_index().cumsum()*1./len(sq)\n",
    "indices = [0,100, 200, 300, 400, 500, 600]\n",
    "d = pd.DataFrame(series).reset_index()\n",
    "d[\"delay\"] = d[\"index\"]\n",
    "d[\"fraction\"] = d[\"allocated_tasks_scheduling_delays\"]\n",
    "d = d.drop([\"index\",\"allocated_tasks_scheduling_delays\"], axis=1)\n",
    "d"
   ]
  },
  {
   "cell_type": "code",
   "execution_count": null,
   "metadata": {},
   "outputs": [],
   "source": [
    "\n",
    "\n"
   ]
  },
  {
   "cell_type": "code",
   "execution_count": null,
   "metadata": {},
   "outputs": [],
   "source": [
    "sq=delays.query(f\"scheduler_metric == 'Original DPF'\").allocated_tasks_scheduling_delays.value_counts()\n",
    "series = sq.sort_index().cumsum()*1./len(sq)\n",
    "indices = [0,100, 200, 300, 400, 500, 600, 689]\n",
    "d = pd.DataFrame(series).reset_index()\n",
    "# d = pd.DataFrame(series).iloc[indices].reset_index()\n",
    "d[\"delay\"] = d[\"index\"]\n",
    "d[\"fraction\"] = d[\"allocated_tasks_scheduling_delays\"]\n",
    "d = d.drop([\"index\",\"allocated_tasks_scheduling_delays\"], axis=1)\n",
    "d = d.append({\"delay\": 5, \"fraction\": 1},ignore_index=True)\n",
    "d[\"scheduler_metric\"] = \"Original DPF\"\n",
    "cdf = d\n",
    "\n",
    "indices = [0,100, 200, 300, 400, 500, 600, -1]\n",
    "for m in delays.scheduler_metric.unique():\n",
    "    if m != \"Original DPF\":\n",
    "        sq=delays.query(f\"scheduler_metric == '{m}'\").allocated_tasks_scheduling_delays.value_counts()\n",
    "        series = sq.sort_index().cumsum()*1./len(sq)\n",
    "        d = pd.DataFrame(series).reset_index()\n",
    "        d[\"delay\"] = d[\"index\"]\n",
    "        d[\"fraction\"] = d[\"allocated_tasks_scheduling_delays\"]\n",
    "        d = d.drop([\"index\",\"allocated_tasks_scheduling_delays\"], axis=1)\n",
    "        d = d.append({\"delay\": 5, \"fraction\": 1},ignore_index=True)\n",
    "        d[\"scheduler_metric\"] = m\n",
    "        cdf = pd.concat([cdf, d])\n",
    "cdf\n"
   ]
  },
  {
   "cell_type": "code",
   "execution_count": null,
   "metadata": {},
   "outputs": [],
   "source": [
    "px.line(\n",
    "    cdf,\n",
    "    x=\"delay\",\n",
    "    y=\"fraction\",\n",
    "    color=\"scheduler_metric\",\n",
    ")"
   ]
  },
  {
   "cell_type": "code",
   "execution_count": null,
   "metadata": {},
   "outputs": [],
   "source": [
    "def map_metric_to_id(row):\n",
    "    d = {\n",
    "        \"DominantShares\": 0,\n",
    "        \"DynamicFlatRelevance\": 1,\n",
    "        \"BatchOverflowRelevance\":2,\n",
    "        \"SoftKnapsack\":3,\n",
    "        \"Original DPF\":4,\n",
    "    }\n",
    "    return d[row]\n",
    "\n",
    "gnuplot_df = cdf.query(\"scheduler_metric not in ['Fcfs', 'FlatRelevance']\")\n",
    "gnuplot_df[\"id\"] = gnuplot_df.scheduler_metric.apply(map_metric_to_id)\n",
    "gnuplot_df = gnuplot_df[[\"delay\", \"fraction\", \"id\", \"scheduler_metric\"]].sort_values([\"id\",\"delay\"])\n",
    "gnuplot_df.to_csv(\"/home/pierre/privacypacking-paper/results/online_batched_mixed_curves/delay_cdf_unlocked_T1.csv\", index=False)"
   ]
  },
  {
   "cell_type": "code",
   "execution_count": null,
   "metadata": {},
   "outputs": [],
   "source": [
    "rdf = load_ray_experiment(Path(\"/home/pierre/privacypacking/logs/ray/run_and_report_2021-12-09_15-35-44\"))\n",
    "# rdf = load_ray_experiment(Path(\"/home/pierre/privacypacking/logs/ray/run_and_report_2021-12-10_13-46-19\"))\n",
    "\n",
    "rdf.columns\n",
    "rdf[\"avg_delay\"] = rdf.allocated_tasks_scheduling_delays.apply(lambda x: np.mean(x))\n",
    "rdf[\"p95\"] = rdf.allocated_tasks_scheduling_delays.apply(lambda x: np.percentile(x, 95))\n",
    "\n",
    "fig = px.line(\n",
    "    rdf.sort_values([\"T\", \"scheduler_metric\"]).query(\"T <= 6\"),\n",
    "    x=\"T\",\n",
    "    y=\"avg_delay\",\n",
    "    color=\"scheduler_metric\",\n",
    "    log_x=True,\n",
    "    width=1200,\n",
    "    height=1000,\n",
    "    # range_y=[0,15_000],\n",
    "    title=\"10 + 20 blocks, privatekube, online. With and without profits.\",\n",
    "    facet_col=\"metric_recomputation_period\",\n",
    "    facet_row=\"data_path\",\n",
    "    facet_col_wrap=2,\n",
    ")\n",
    "fig"
   ]
  },
  {
   "cell_type": "code",
   "execution_count": null,
   "metadata": {},
   "outputs": [],
   "source": [
    "# TODO: copy and add original DPF, then dump to gnuplot. No need actually?\n",
    "def map_metric_to_id(row):\n",
    "    d = {\n",
    "        \"DominantShares\": 0,\n",
    "        \"DynamicFlatRelevance\": 1,\n",
    "        \"BatchOverflowRelevance\":2,\n",
    "        \"SoftKnapsack\":3\n",
    "\n",
    "    }\n",
    "    return d[row]\n",
    "\n",
    "gnuplot_df = rdf.query(\"T <= 10 and scheduler_metric not in ['Fcfs', 'FlatRelevance']\")\n",
    "gnuplot_df[\"id\"] = gnuplot_df.scheduler_metric.apply(map_metric_to_id)\n",
    "gnuplot_df = gnuplot_df[[\"T\", \"avg_delay\", \"id\", \"n_tasks\", \"scheduler\", \"scheduler_metric\"]].sort_values([\"id\",\"T\"])\n",
    "gnuplot_df.to_csv(\"/home/pierre/privacypacking-paper/results/online_batched_mixed_curves/delay_online_batched_mixed_curves_N_without_profits_unlocked.csv\", index=False)"
   ]
  },
  {
   "cell_type": "code",
   "execution_count": null,
   "metadata": {},
   "outputs": [],
   "source": [
    "def map_metric_to_id(row):\n",
    "    d = {\n",
    "        \"DominantShares\": 0,\n",
    "        \"FlatRelevance\": 1,\n",
    "        \"VectorizedBatchOverflowRelevance\":2\n",
    "    }\n",
    "    return d[row]\n",
    "\n",
    "gnuplot_df = rdf.query(\"T <= 10 and scheduler_metric not in ['Fcfs', 'DynamicFlatRelevance']\")\n",
    "gnuplot_df[\"id\"] = gnuplot_df.scheduler_metric.apply(map_metric_to_id)\n",
    "gnuplot_df = gnuplot_df[[\"T\", \"n_allocated_tasks\", \"id\", \"n_tasks\", \"scheduler\", \"scheduler_metric\"]].sort_values([\"id\",\"T\"])\n",
    "gnuplot_df.to_csv(\"/home/pierre/privacypacking-paper/results/online_batched_mixed_curves/online_batched_mixed_curves_N_without_profits_unlocked.csv\", index=False)"
   ]
  },
  {
   "cell_type": "code",
   "execution_count": null,
   "metadata": {},
   "outputs": [],
   "source": [
    "gnuplot_df = rdf.query(\"T <= 10 and scheduler_metric != 'Fcfs'\")"
   ]
  },
  {
   "cell_type": "code",
   "execution_count": null,
   "metadata": {},
   "outputs": [],
   "source": [
    "def map_metric_to_id(m):\n",
    "    d = {\n",
    "        \"DominantShares\": 0,\n",
    "        \"FlatRelevance\": 1,\n",
    "        \"VectorizedBatchOverflowRelevance\":2\n",
    "    }\n",
    "    return d[m]"
   ]
  },
  {
   "cell_type": "code",
   "execution_count": null,
   "metadata": {},
   "outputs": [],
   "source": [
    "gnuplot_df[\"id\"] = gnuplot_df.scheduler_metric.apply(map_metric_to_id)"
   ]
  },
  {
   "cell_type": "code",
   "execution_count": null,
   "metadata": {},
   "outputs": [],
   "source": [
    "gnuplot_df = gnuplot_df[[\"T\", \"n_allocated_tasks\", \"id\", \"n_tasks\", \"scheduler\", \"scheduler_metric\"]].sort_values([\"id\",\"T\"])"
   ]
  },
  {
   "cell_type": "code",
   "execution_count": null,
   "metadata": {},
   "outputs": [],
   "source": [
    "gnuplot_df.to_csv(\"/home/pierre/privacypacking-paper/results/online_batched_mixed_curves/online_batched_mixed_curves_N_without_profits_unlocked.csv\", index=False)"
   ]
  },
  {
   "cell_type": "code",
   "execution_count": null,
   "metadata": {},
   "outputs": [],
   "source": []
  },
  {
   "cell_type": "code",
   "execution_count": null,
   "metadata": {},
   "outputs": [],
   "source": [
    "px.line(\n",
    "    percentile_df.query(\"T <= 10 and scheduler != 'Fcfs'\"),\n",
    "    x=\"T\",\n",
    "    y=\"delay\",\n",
    "    color=\"scheduler\",\n",
    "    line_dash=\"percentile\",\n",
    "    width=800,\n",
    "    height=600,\n",
    "    line_dash_map={50:\"solid\",25:\"dash\",99:\"dash\", 95:\"dash\"},\n",
    "    title=\"Scheduling delay of allocated tasks, depending on the scheduling step size<br><sup>Online mixed curves, 20 blocks, no initial blocks, 100 tasks per block on average, lifetime = 5 blocks<br> FCFS is 'batched FCFS'</sup>\"\n",
    ")"
   ]
  },
  {
   "cell_type": "code",
   "execution_count": null,
   "metadata": {},
   "outputs": [],
   "source": [
    "def map_metric_to_id(row):\n",
    "    d = {\n",
    "        (\"VectorizedBatchOverflowRelevance\", 95):0,\n",
    "        (\"FlatRelevance\", 95): 1,\n",
    "        (\"DominantShares\", 95): 2,\n",
    "        (\"VectorizedBatchOverflowRelevance\", 50):3,\n",
    "        (\"FlatRelevance\", 50): 4,\n",
    "        (\"DominantShares\", 50): 5,\n",
    "    }\n",
    "    return d[(row.scheduler, row.percentile)]\n",
    "\n",
    "gnuplot_df = percentile_df.query(\"T <= 10 and scheduler not in ['Fcfs', 'DynamicFlatRelevance']\")\n",
    "gnuplot_df[\"id\"] = gnuplot_df.apply(map_metric_to_id, axis=1)\n",
    "gnuplot_df = gnuplot_df[[\"T\", \"delay\", \"id\", \"scheduler\", \"percentile\"]].sort_values([\"id\",\"T\"])\n",
    "gnuplot_df.to_csv(\"/home/pierre/privacypacking-paper/results/online_batched_mixed_curves/delay_online_batched_mixed_curves_N_without_profits_unlocked.csv\", index=False)"
   ]
  },
  {
   "cell_type": "code",
   "execution_count": null,
   "metadata": {},
   "outputs": [],
   "source": [
    "# Gradual unlocking\n",
    "# Old version\n",
    "rdf = load_ray_experiment(Path(\"/home/pierre/privacypacking/logs/ray/run_and_report_2021-12-09_18-51-49\"))\n",
    "# Running on C2 at 22:41\n",
    "\n",
    "# Initial blocks, profits and 500 mean tasks\n",
    "# rdf = load_ray_experiment(Path(\"/home/pierre/privacypacking/logs/ray/run_and_report_2021-12-10_03-39-52\")) # incomplete\n",
    "# rdf = load_ray_experiment(Path(\"/home/pierre/privacypacking/logs/ray/run_and_report_2021-12-10_13-47-44\"))\n",
    "# Just not so great in the end. What is the point of unlocking in this case?\n",
    "px.line(\n",
    "    rdf.sort_values(\"T\"),\n",
    "    x=\"T\",\n",
    "    y=\"realized_profit\",\n",
    "    color=\"scheduler_metric\",\n",
    "    # log_x=True,\n",
    "    width=800,\n",
    "    height=600,\n",
    "    range_x=[0.1, 10],\n",
    "    range_y=[0,1_000],\n",
    "    # range_y=[0,25_000],\n",
    "    # title=\"Number of allocated tasks depending on the scheduling step size<br><sup>Online mixed curves, 20 blocks, no initial blocks, 100 tasks per block on average, lifetime = 5 blocks</sup>\"\n",
    ")"
   ]
  },
  {
   "cell_type": "code",
   "execution_count": null,
   "metadata": {},
   "outputs": [],
   "source": [
    "delays = rdf.query(\"T ==1\").explode(\"allocated_tasks_scheduling_delays\")\n",
    "dpf = rdf.query(\"T == 0.01 and scheduler_metric == 'DominantShares'\").explode(\"allocated_tasks_scheduling_delays\")\n",
    "dpf[\"scheduler_metric\"] = \"Original DPF\"\n",
    "delays = pd.concat([delays, dpf]).sort_values([\"T\", \"scheduler_metric\"])\n",
    "\n",
    "px.ecdf(\n",
    "    delays,\n",
    "    x=\"allocated_tasks_scheduling_delays\",\n",
    "    color=\"scheduler_metric\",\n",
    "\n",
    ")"
   ]
  },
  {
   "cell_type": "code",
   "execution_count": null,
   "metadata": {},
   "outputs": [],
   "source": [
    "sq=delays.query(f\"scheduler_metric == 'Original DPF'\").allocated_tasks_scheduling_delays.value_counts()\n",
    "series = sq.sort_index().cumsum()*1./len(sq)\n",
    "indices = [0,100, 200, 300, 400, 500, 600, 689]\n",
    "d = pd.DataFrame(series).reset_index()\n",
    "# d = pd.DataFrame(series).iloc[indices].reset_index()\n",
    "d[\"delay\"] = d[\"index\"]\n",
    "d[\"fraction\"] = d[\"allocated_tasks_scheduling_delays\"]\n",
    "d = d.drop([\"index\",\"allocated_tasks_scheduling_delays\"], axis=1)\n",
    "d = d.append({\"delay\": 5, \"fraction\": 1},ignore_index=True)\n",
    "d[\"scheduler_metric\"] = \"Original DPF\"\n",
    "cdf = d\n",
    "\n",
    "indices = [0,100, 200, 300, 400, 500, 600, -1]\n",
    "for m in delays.scheduler_metric.unique():\n",
    "    if m != \"Original DPF\":\n",
    "        sq=delays.query(f\"scheduler_metric == '{m}'\").allocated_tasks_scheduling_delays.value_counts()\n",
    "        series = sq.sort_index().cumsum()*1./len(sq)\n",
    "        d = pd.DataFrame(series).reset_index()\n",
    "        d[\"delay\"] = d[\"index\"]\n",
    "        d[\"fraction\"] = d[\"allocated_tasks_scheduling_delays\"]\n",
    "        d = d.drop([\"index\",\"allocated_tasks_scheduling_delays\"], axis=1)\n",
    "        d = d.append({\"delay\": 5, \"fraction\": 1},ignore_index=True)\n",
    "        d[\"scheduler_metric\"] = m\n",
    "        cdf = pd.concat([cdf, d])\n",
    "cdf"
   ]
  },
  {
   "cell_type": "code",
   "execution_count": null,
   "metadata": {},
   "outputs": [],
   "source": [
    "px.line(\n",
    "    cdf,\n",
    "    x=\"delay\",\n",
    "    y=\"fraction\",\n",
    "    color=\"scheduler_metric\",\n",
    ")"
   ]
  },
  {
   "cell_type": "code",
   "execution_count": null,
   "metadata": {},
   "outputs": [],
   "source": [
    "def map_metric_to_id(row):\n",
    "    d = {\n",
    "        \"DominantShares\": 0,\n",
    "        \"DynamicFlatRelevance\": 1,\n",
    "        \"BatchOverflowRelevance\":2,\n",
    "        \"SoftKnapsack\":3,\n",
    "        \"Original DPF\":4,\n",
    "    }\n",
    "    return d[row]\n",
    "\n",
    "gnuplot_df = cdf.query(\"scheduler_metric not in ['Fcfs', 'FlatRelevance']\")\n",
    "gnuplot_df[\"id\"] = gnuplot_df.scheduler_metric.apply(map_metric_to_id)\n",
    "gnuplot_df = gnuplot_df[[\"delay\", \"fraction\", \"id\", \"scheduler_metric\"]].sort_values([\"id\",\"delay\"])\n",
    "gnuplot_df.to_csv(\"/home/pierre/privacypacking-paper/results/online_batched_mixed_curves/delay_cdf_locked_T1.csv\", index=False)"
   ]
  },
  {
   "cell_type": "code",
   "execution_count": null,
   "metadata": {},
   "outputs": [],
   "source": [
    "# TODO: copy and add original DPF, then dump to gnuplot. No need actually?\n",
    "def map_metric_to_id(row):\n",
    "    d = {\n",
    "        \"DominantShares\": 0,\n",
    "        \"DynamicFlatRelevance\": 1,\n",
    "        \"BatchOverflowRelevance\":2,\n",
    "        \"SoftKnapsack\":3\n",
    "\n",
    "    }\n",
    "    return d[row]\n",
    "\n",
    "gnuplot_df = rdf.query(\"T <= 10 and scheduler_metric not in ['Fcfs', 'FlatRelevance']\")\n",
    "gnuplot_df[\"id\"] = gnuplot_df.scheduler_metric.apply(map_metric_to_id)\n",
    "gnuplot_df = gnuplot_df[[\"T\", \"n_allocated_tasks\", \"id\", \"n_tasks\", \"scheduler\", \"scheduler_metric\"]].sort_values([\"id\",\"T\"])\n",
    "gnuplot_df.to_csv(\"/home/pierre/privacypacking-paper/results/online_batched_mixed_curves/online_batched_mixed_curves_N_without_profits_locked.csv\", index=False)"
   ]
  },
  {
   "cell_type": "code",
   "execution_count": null,
   "metadata": {},
   "outputs": [],
   "source": [
    "# Gradual unlocking.\n",
    "# Diff seed (1)\n",
    "rdf = load_ray_experiment(Path(\"/home/pierre/privacypacking/logs/ray/run_and_report_2021-12-09_20-55-13\"))\n",
    "px.line(\n",
    "    rdf.sort_values(\"T\"),\n",
    "    x=\"T\",\n",
    "    y=\"n_allocated_tasks\",\n",
    "    color=\"scheduler_metric\",\n",
    "    # log_x=True,\n",
    "    width=800,\n",
    "    height=600,\n",
    "    range_y=[0,1000],\n",
    "    title=\"Number of allocated tasks depending on the scheduling step size<br><sup>Online mixed curves, 20 blocks, no initial blocks, 100 tasks per block on average, lifetime = 5 blocks</sup>\"\n",
    ")"
   ]
  },
  {
   "cell_type": "code",
   "execution_count": null,
   "metadata": {},
   "outputs": [],
   "source": [
    "# Delay\n",
    "rdf = load_ray_experiment(Path(\"/home/pierre/privacypacking/logs/ray/run_and_report_2021-12-09_18-51-49\"))\n",
    "\n",
    "\n",
    "# rdf = load_ray_experiment(Path(\"/home/pierre/privacypacking/logs/ray/run_and_report_2021-12-09_20-55-13\"))\n",
    "# rdf = load_ray_experiment(Path(\"/home/pierre/privacypacking/logs/ray/run_and_report_2021-12-10_13-46-19\"))\n",
    "\n",
    "rdf.columns\n",
    "rdf[\"avg_delay\"] = rdf.allocated_tasks_scheduling_delays.apply(lambda x: np.mean(x))\n",
    "rdf[\"p95\"] = rdf.allocated_tasks_scheduling_delays.apply(lambda x: np.percentile(x, 95))\n",
    "\n",
    "fig = px.line(\n",
    "    rdf.sort_values([\"T\", \"scheduler_metric\"]),\n",
    "    x=\"T\",\n",
    "    y=\"avg_delay\",\n",
    "    color=\"scheduler_metric\",\n",
    "    # log_x=True,\n",
    "    width=1200,\n",
    "    height=1000,\n",
    "    # range_y=[0,15_000],\n",
    "    title=\"10 + 20 blocks, privatekube, online. With and without profits.\",\n",
    "    facet_col=\"metric_recomputation_period\",\n",
    "    facet_row=\"data_path\",\n",
    "    facet_col_wrap=2,\n",
    ")\n",
    "fig"
   ]
  },
  {
   "cell_type": "code",
   "execution_count": null,
   "metadata": {},
   "outputs": [],
   "source": [
    "# TODO: copy and add original DPF, then dump to gnuplot. No need actually?\n",
    "def map_metric_to_id(row):\n",
    "    d = {\n",
    "        \"DominantShares\": 0,\n",
    "        \"DynamicFlatRelevance\": 1,\n",
    "        \"BatchOverflowRelevance\":2,\n",
    "        \"SoftKnapsack\":3\n",
    "\n",
    "    }\n",
    "    return d[row]\n",
    "\n",
    "gnuplot_df = rdf.query(\"T <= 10 and scheduler_metric not in ['Fcfs', 'FlatRelevance']\")\n",
    "gnuplot_df[\"id\"] = gnuplot_df.scheduler_metric.apply(map_metric_to_id)\n",
    "gnuplot_df = gnuplot_df[[\"T\", \"avg_delay\", \"id\", \"n_tasks\", \"scheduler\", \"scheduler_metric\"]].sort_values([\"id\",\"T\"])\n",
    "gnuplot_df.to_csv(\"/home/pierre/privacypacking-paper/results/online_batched_mixed_curves/delay_online_batched_mixed_curves_N_without_profits_locked.csv\", index=False)"
   ]
  },
  {
   "cell_type": "code",
   "execution_count": null,
   "metadata": {},
   "outputs": [],
   "source": [
    "# Gradual unlocking.\n",
    "# Diff seed (1) and 10 initial blocks.\n",
    "rdf = load_ray_experiment(Path(\"/home/pierre/privacypacking/logs/ray/run_and_report_2021-12-09_20-55-13\"))\n",
    "px.line(\n",
    "    rdf.sort_values(\"T\"),\n",
    "    x=\"T\",\n",
    "    y=\"n_allocated_tasks\",\n",
    "    color=\"scheduler_metric\",\n",
    "    # log_x=True,\n",
    "    width=800,\n",
    "    height=600,\n",
    "    range_y=[0,1000],\n",
    "    title=\"Number of allocated tasks depending on the scheduling step size<br><sup>Online mixed curves, 20 blocks, no initial blocks, 100 tasks per block on average, lifetime = 5 blocks</sup>\"\n",
    ")"
   ]
  },
  {
   "cell_type": "code",
   "execution_count": null,
   "metadata": {},
   "outputs": [],
   "source": [
    "def map_metric_to_id(row):\n",
    "    d = {\n",
    "        \"DominantShares\": 0,\n",
    "        \"FlatRelevance\": 1,\n",
    "        \"VectorizedBatchOverflowRelevance\":2\n",
    "    }\n",
    "    return d[row]\n",
    "\n",
    "gnuplot_df = rdf.query(\"T <= 10 and scheduler_metric not in ['Fcfs', 'DynamicFlatRelevance']\")\n",
    "gnuplot_df[\"id\"] = gnuplot_df.scheduler_metric.apply(map_metric_to_id)\n",
    "gnuplot_df = gnuplot_df[[\"T\", \"n_allocated_tasks\", \"id\", \"n_tasks\", \"scheduler\", \"scheduler_metric\"]].sort_values([\"id\",\"T\"])\n",
    "gnuplot_df.to_csv(\"/home/pierre/privacypacking-paper/results/online_batched_mixed_curves/online_batched_mixed_curves_N_without_profits_locked.csv\", index=False)"
   ]
  },
  {
   "cell_type": "code",
   "execution_count": null,
   "metadata": {},
   "outputs": [],
   "source": [
    "px.line(\n",
    "    percentile_df.query(\"T <= 10 and scheduler != 'Fcfs'\"),\n",
    "    x=\"T\",\n",
    "    y=\"delay\",\n",
    "    color=\"scheduler\",\n",
    "    line_dash=\"percentile\",\n",
    "    width=800,\n",
    "    height=600,\n",
    "    line_dash_map={50:\"solid\",25:\"dash\",99:\"dash\", 95:\"dash\"},\n",
    "    title=\"Scheduling delay of allocated tasks, depending on the scheduling step size<br><sup>Online mixed curves, 20 blocks, no initial blocks, 100 tasks per block on average, lifetime = 5 blocks<br> FCFS is 'batched FCFS'</sup>\"\n",
    ")"
   ]
  },
  {
   "cell_type": "code",
   "execution_count": null,
   "metadata": {},
   "outputs": [],
   "source": [
    "def map_metric_to_id(row):\n",
    "    d = {\n",
    "        (\"VectorizedBatchOverflowRelevance\", 95):0,\n",
    "        (\"FlatRelevance\", 95): 1,\n",
    "        (\"DominantShares\", 95): 2,\n",
    "        (\"VectorizedBatchOverflowRelevance\", 50):3,\n",
    "        (\"FlatRelevance\", 50): 4,\n",
    "        (\"DominantShares\", 50): 5,\n",
    "    }\n",
    "    return d[(row.scheduler, row.percentile)]\n",
    "\n",
    "gnuplot_df = percentile_df.query(\"T <= 10 and scheduler not in ['Fcfs', 'DynamicFlatRelevance']\")\n",
    "gnuplot_df[\"id\"] = gnuplot_df.apply(map_metric_to_id, axis=1)\n",
    "gnuplot_df = gnuplot_df[[\"T\", \"delay\", \"id\", \"scheduler\", \"percentile\"]].sort_values([\"id\",\"T\"])\n",
    "gnuplot_df.to_csv(\"/home/pierre/privacypacking-paper/results/online_batched_mixed_curves/delay_online_batched_mixed_curves_N_without_profits_locked.csv\", index=False)"
   ]
  }
 ],
 "metadata": {
  "interpreter": {
   "hash": "8eab72c90ef7b6cf7a47cf9058599fe69878ae5c291bf7d8c10fb9498bc1b89e"
  },
  "kernelspec": {
   "display_name": "Python 3 (ipykernel)",
   "language": "python",
   "name": "python3"
  },
  "language_info": {
   "codemirror_mode": {
    "name": "ipython",
    "version": 3
   },
   "file_extension": ".py",
   "mimetype": "text/x-python",
   "name": "python",
   "nbconvert_exporter": "python",
   "pygments_lexer": "ipython3"
  }
 },
 "nbformat": 4,
 "nbformat_minor": 4
}
