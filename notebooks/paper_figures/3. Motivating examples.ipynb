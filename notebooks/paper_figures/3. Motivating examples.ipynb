{
 "cells": [
  {
   "cell_type": "code",
   "execution_count": null,
   "metadata": {},
   "outputs": [],
   "source": [
    "import json\n",
    "from privacypacking.utils.utils import load_logs, global_metrics\n",
    "import pandas as pd\n",
    "from experiments.ray.analysis import load_ray_experiment, load_latest_ray_experiment, load_latest_scheduling_results, load_latest_scheduling_results, load_latest_ray_experiment\n",
    "import plotly.express as px\n",
    "from privacypacking.budget.curves import  LaplaceCurve, GaussianCurve, SubsampledGaussianCurve\n",
    "from privacypacking.budget import Budget, Task, Block\n",
    "from privacypacking.schedulers.metrics import OverflowRelevance, FlatRelevance\n",
    "from privacypacking.budget.block_selection import RandomBlocks\n",
    "from privacypacking.utils.plot import plot_budgets\n",
    "import yaml\n",
    "from pathlib import Path\n",
    "import plotly.graph_objects as go\n",
    "from plotly.subplots import make_subplots\n",
    "import numpy as np\n",
    "from experiments.ray.analysis import get_percentiles"
   ]
  },
  {
   "cell_type": "code",
   "execution_count": null,
   "metadata": {},
   "outputs": [],
   "source": [
    "rdf = load_ray_experiment(Path(\"/home/pierre/privacypacking/logs/ray/run_and_report_2021-12-11_11-22-47\"))\n",
    "rdf[\"scheduler_metric\"] = rdf.apply(lambda row: row.scheduler_metric if row.scheduler == \"basic_scheduler\" else \"Simplex\", axis=1)\n",
    "px.line(\n",
    "    rdf.sort_values(\"n_tasks\"),\n",
    "    x=\"n_tasks\",\n",
    "    y=\"n_allocated_tasks\",\n",
    "    color=\"scheduler_metric\",\n",
    "    log_x=True,\n",
    "    width=800,\n",
    "    height=600,\n",
    "    # range_y=[0,1_500],\n",
    "    # title=\"Number of allocated tasks depending on the scheduling step size<br><sup>Online mixed curves, 20 blocks, no initial blocks, 100 tasks per block on average, lifetime = 5 blocks</sup>\"\n",
    ")"
   ]
  },
  {
   "cell_type": "code",
   "execution_count": null,
   "metadata": {},
   "outputs": [],
   "source": [
    "def map_metric_to_id(row):\n",
    "    d = {\n",
    "        \"DominantShares\": 0,\n",
    "        \"FlatRelevance\": 1,\n",
    "        \"OverflowRelevance\":2,\n",
    "        \"SoftKnapsack\":3,\n",
    "        \"Simplex\":4,\n",
    "    }\n",
    "    return d[row]\n",
    "\n",
    "gnuplot_df = rdf.query(\"scheduler_metric not in ['Fcfs'] and n_tasks not in [8,9,300,500]\")\n",
    "gnuplot_df[\"id\"] = gnuplot_df.scheduler_metric.apply(map_metric_to_id)\n",
    "gnuplot_df = gnuplot_df[[\"n_tasks\", \"n_allocated_tasks\", \"id\", \"scheduler\", \"scheduler_metric\"]].sort_values([\"id\",\"n_tasks\"]).drop_duplicates()\n",
    "gnuplot_df.to_csv(\"/home/pierre/privacypacking-paper/results/motivating_examples_simulation/problem_2.csv\", index=False)"
   ]
  },
  {
   "cell_type": "code",
   "execution_count": null,
   "metadata": {},
   "outputs": [],
   "source": [
    "\n",
    "rdf = load_ray_experiment(Path(\"/home/pierre/privacypacking/logs/ray/run_and_report_2021-12-11_11-50-03\"))\n",
    "rdf[\"scheduler_metric\"] = rdf.apply(lambda row: row.scheduler_metric if row.scheduler == \"basic_scheduler\" else \"Simplex\", axis=1)\n",
    "px.line(\n",
    "    rdf.sort_values(\"n_initial_blocks\"),\n",
    "    x=\"n_initial_blocks\",\n",
    "    y=\"n_allocated_tasks\",\n",
    "    color=\"scheduler_metric\",\n",
    "    # log_x=True,\n",
    "    width=800,\n",
    "    height=600,\n",
    "    # range_y=[0,1_500],\n",
    "    # title=\"Number of allocated tasks depending on the scheduling step size<br><sup>Online mixed curves, 20 blocks, no initial blocks, 100 tasks per block on average, lifetime = 5 blocks</sup>\"\n",
    ")\n"
   ]
  },
  {
   "cell_type": "code",
   "execution_count": null,
   "metadata": {},
   "outputs": [],
   "source": [
    "def map_metric_to_id(row):\n",
    "    d = {\n",
    "        \"DominantShares\": 0,\n",
    "        \"FlatRelevance\": 1,\n",
    "        \"OverflowRelevance\":2,\n",
    "        \"SoftKnapsack\":3,\n",
    "        \"Simplex\":4,\n",
    "    }\n",
    "    return d[row]\n",
    "\n",
    "gnuplot_df = rdf.query(\"scheduler_metric not in ['Fcfs'] and n_tasks not in [-1]\")\n",
    "gnuplot_df[\"id\"] = gnuplot_df.scheduler_metric.apply(map_metric_to_id)\n",
    "gnuplot_df = gnuplot_df[[\"n_initial_blocks\", \"n_allocated_tasks\", \"id\", \"scheduler\", \"scheduler_metric\"]].sort_values([\"id\",\"n_initial_blocks\"]).drop_duplicates()\n",
    "gnuplot_df.to_csv(\"/home/pierre/privacypacking-paper/results/motivating_examples_simulation/problem_1.csv\", index=False)"
   ]
  }
 ],
 "metadata": {
  "interpreter": {
   "hash": "eb9f88a12e8f66ffa940aa96de4342344a602b0c71bf9fbb297683183e48a1a1"
  },
  "kernelspec": {
   "display_name": "Python 3.8.5 64-bit ('base': conda)",
   "language": "python",
   "name": "python3"
  },
  "language_info": {
   "codemirror_mode": {
    "name": "ipython",
    "version": 3
   },
   "file_extension": ".py",
   "mimetype": "text/x-python",
   "name": "python",
   "nbconvert_exporter": "python",
   "pygments_lexer": "ipython3"
  }
 },
 "nbformat": 4,
 "nbformat_minor": 2
}
