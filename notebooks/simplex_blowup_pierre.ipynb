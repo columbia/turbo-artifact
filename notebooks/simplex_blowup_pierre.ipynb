{
 "cells": [
  {
   "cell_type": "code",
   "execution_count": null,
   "id": "cbfa8a34-d6e4-407c-8041-14016c11967e",
   "metadata": {},
   "outputs": [],
   "source": [
    "import json\n",
    "from privacypacking.utils.utils import load_logs, global_metrics\n",
    "import pandas as pd"
   ]
  },
  {
   "cell_type": "code",
   "execution_count": null,
   "id": "f6183bc0-0aa5-4357-b118-e067cb665f6e",
   "metadata": {},
   "outputs": [],
   "source": [
    "import plotly.express as px"
   ]
  },
  {
   "cell_type": "code",
   "execution_count": null,
   "id": "bfb3f39b-dc5e-4bbf-acc3-41170704f4cf",
   "metadata": {},
   "outputs": [],
   "source": [
    "names = [\n",
    "    \"0811-135355\",\n",
    "    \"0811-135407\",\n",
    "    \"0811-135417\",\n",
    "    \"0811-135430\",\n",
    "    \"0811-135445\",\n",
    "    \"0811-135610\",\n",
    "]\n",
    "metrics = []\n",
    "for name in names:\n",
    "    metrics.append(global_metrics(load_logs(f\"offline/Simplex/{name}.json\")))\n",
    "df = pd.DataFrame(metrics)"
   ]
  },
  {
   "cell_type": "code",
   "execution_count": null,
   "id": "e6657d78-ea64-42af-9c33-7a4416775b8a",
   "metadata": {},
   "outputs": [],
   "source": [
    "df"
   ]
  },
  {
   "cell_type": "markdown",
   "id": "e0477e1c-1c2a-437b-b0f4-dfb1fe3a6e4b",
   "metadata": {},
   "source": [
    "### Setup\n",
    "\n",
    "- 10 blocks\n",
    "- Mix of Laplace, Gaussian, Subsampled gaussian \n",
    "\n",
    "```yaml\n",
    "  tasks_spec:\n",
    "    curve_distributions:\n",
    "      laplace:\n",
    "        num: 100\n",
    "        num_blocks: 3\n",
    "        noise_start: 0.1\n",
    "        noise_stop: 5\n",
    "      gaussian:\n",
    "        num: 100\n",
    "        num_blocks: 4\n",
    "        sigma_start: 1\n",
    "        sigma_stop: 5\n",
    "      SubsampledGaussian:\n",
    "        num: 100\n",
    "        num_blocks: 5\n",
    "        sigma_start: 1\n",
    "        sigma_stop: 5\n",
    "        dataset_size: 60_000\n",
    "        batch_size: 64\n",
    "        epochs: 10\n",
    "```"
   ]
  },
  {
   "cell_type": "code",
   "execution_count": null,
   "id": "4a8ffd26-30cd-46f9-8a61-849bab5e9489",
   "metadata": {},
   "outputs": [],
   "source": [
    "px.line(df, x=\"n_tasks\", y=\"scheduling_time\", title=\"Time (in seconds) to solve the ILP depending on the number of tasks.\", range_y=[0,300])"
   ]
  }
 ],
 "metadata": {
  "kernelspec": {
   "display_name": "Python 3 (ipykernel)",
   "language": "python",
   "name": "python3"
  },
  "language_info": {
   "codemirror_mode": {
    "name": "ipython",
    "version": 3
   },
   "file_extension": ".py",
   "mimetype": "text/x-python",
   "name": "python",
   "nbconvert_exporter": "python",
   "pygments_lexer": "ipython3"
  }
 },
 "nbformat": 4,
 "nbformat_minor": 5
}
