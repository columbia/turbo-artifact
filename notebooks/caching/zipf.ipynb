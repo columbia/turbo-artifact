{
 "cells": [
  {
   "cell_type": "code",
   "execution_count": null,
   "id": "547735ff",
   "metadata": {},
   "outputs": [],
   "source": [
    "import numpy as np\n",
    "import pandas as pd\n",
    "import plotly.express as px\n",
    "\n",
    "\n",
    "def Zipf(a: np.float64, min: np.uint64, max: np.uint64, size=None):\n",
    "    \"\"\"\n",
    "    Generate Zipf-like random variables,\n",
    "    but in inclusive [min...max] interval\n",
    "    \"\"\"\n",
    "    if min == 0:\n",
    "        raise ZeroDivisionError(\"\")\n",
    "\n",
    "    v = np.arange(min, max+1) # values to sample\n",
    "    p = 1.0 / np.power(v, a)  # probabilities\n",
    "    p /= np.sum(p)\n",
    "    return np.random.choice(v, size=size, replace=True, p=p)\n",
    "\n",
    "min_ = np.uint64(1)\n",
    "max_ = np.uint64(34000)\n",
    "q = Zipf(1, min_, max_, 50000)\n",
    "df = pd.DataFrame.from_dict({\"q\": q})\n",
    "fig = px.histogram(df, x=\"q\", )\n",
    "fig.show()"
   ]
  }
 ],
 "metadata": {
  "kernelspec": {
   "display_name": "Python 3 (ipykernel)",
   "language": "python",
   "name": "python3"
  },
  "language_info": {
   "codemirror_mode": {
    "name": "ipython",
    "version": 3
   },
   "file_extension": ".py",
   "mimetype": "text/x-python",
   "name": "python",
   "nbconvert_exporter": "python",
   "pygments_lexer": "ipython3",
   "version": "3.8.10"
  }
 },
 "nbformat": 4,
 "nbformat_minor": 5
}
