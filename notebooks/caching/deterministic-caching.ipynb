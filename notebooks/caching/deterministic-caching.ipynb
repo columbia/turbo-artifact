{
 "cells": [
  {
   "cell_type": "markdown",
   "id": "90b5509f",
   "metadata": {},
   "source": [
    "## Experiment Setup\n",
    "\n",
    "### Algorithm\n",
    "    - Scheduling time T: 1 (in block-time e.g once per day if block arrival is once per day)\n",
    "    - Scheduling policy: FCFS\n",
    "    - No budget unlocking: data-lifetime=0.1, n=1 (At time 0.1 block gets fully unlocked)       "
   ]
  },
  {
   "cell_type": "markdown",
   "id": "b4425652",
   "metadata": {},
   "source": [
    "### Workload\n",
    "    - Total number of blocks: 600 (initial blocks=1)\n",
    "    - One task per block-unit\n",
    "    - Blocks arrival time: 1 (e.g. 1 day)\n",
    "    - Number of blocks: all previous blocks\n",
    "    - Tasks lifetime: 1 (block-time e.g. 1 day = after that the task can't run)\n",
    "    - Budget demand (epsilon): 1 (fixed for all incoming tasks for now)\n",
    "    - Block budget initial capacity: 10\n",
    "    - Number of tasks: (See task arrival time below)\n",
    "    - Number of distinct queries: 1\n",
    "    - Query types: Count only\n",
    "    - RDP\n",
    "   \n",
    "### Cost Model for dynamic programming planner as of now\n",
    "    - Minimizing aggregations + binary structure constraint"
   ]
  },
  {
   "cell_type": "code",
   "execution_count": null,
   "id": "d9b1ceb8",
   "metadata": {},
   "outputs": [],
   "source": [
    "from notebooks.caching.utils import analyze_experiment\n",
    "tasks_path = \"~/privacypacking/data/covid19/covid19_workload/privacy_tasks.csv\""
   ]
  },
  {
   "cell_type": "code",
   "execution_count": null,
   "id": "0fad66bc",
   "metadata": {},
   "outputs": [],
   "source": [
    "# analyze_experiment(tasks_path, \"run_and_report_2022-11-09_17-25-58\")"
   ]
  },
  {
   "cell_type": "code",
   "execution_count": null,
   "id": "f3b3e63a",
   "metadata": {},
   "outputs": [],
   "source": [
    "# Cound of positive covid cases\n",
    "# analyze_experiment(tasks_path, \"run_and_report_2022-11-09_23-27-12\")"
   ]
  },
  {
   "cell_type": "code",
   "execution_count": null,
   "id": "76d48baf",
   "metadata": {},
   "outputs": [],
   "source": [
    "#  600 blocks\n",
    "\n",
    "# Count of positive covid cases for black ppl who are between 0 and 18 years old\n",
    "analyze_experiment(tasks_path, \"run_and_report_2022-11-10_02-41-45/\")"
   ]
  },
  {
   "cell_type": "code",
   "execution_count": null,
   "id": "be5c4a3a",
   "metadata": {},
   "outputs": [],
   "source": [
    "#  600 blocks\n",
    "\n",
    "# Count of positive covid cases for Indian ppl who are between 0 and 18 years old\n",
    "analyze_experiment(tasks_path, \"run_and_report_2022-11-10_02-58-42/\")\n"
   ]
  },
  {
   "cell_type": "code",
   "execution_count": null,
   "id": "b3fe2c82",
   "metadata": {},
   "outputs": [],
   "source": []
  }
 ],
 "metadata": {
  "kernelspec": {
   "display_name": "Python 3",
   "language": "python",
   "name": "python3"
  },
  "language_info": {
   "codemirror_mode": {
    "name": "ipython",
    "version": 3
   },
   "file_extension": ".py",
   "mimetype": "text/x-python",
   "name": "python",
   "nbconvert_exporter": "python",
   "pygments_lexer": "ipython3"
  }
 },
 "nbformat": 4,
 "nbformat_minor": 5
}
