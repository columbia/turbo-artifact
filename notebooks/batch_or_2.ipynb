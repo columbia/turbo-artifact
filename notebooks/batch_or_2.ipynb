{
 "cells": [
  {
   "cell_type": "code",
   "execution_count": null,
   "id": "3682b627-c8b7-414c-9765-6652809081e0",
   "metadata": {},
   "outputs": [],
   "source": [
    "%load_ext autoreload \n",
    "%autoreload 2"
   ]
  },
  {
   "cell_type": "code",
   "execution_count": null,
   "id": "c5b6c19b-0db4-43c6-a914-ef89ed2129db",
   "metadata": {},
   "outputs": [],
   "source": [
    "import json\n",
    "from privacypacking.utils.utils import load_logs, global_metrics\n",
    "import pandas as pd\n",
    "from experiments.ray.analysis import load_ray_experiment, load_latest_ray_experiment, load_latest_scheduling_results, load_latest_scheduling_results\n",
    "import plotly.express as px\n",
    "from privacypacking.budget.curves import  LaplaceCurve, GaussianCurve, SubsampledGaussianCurve\n",
    "from privacypacking.budget import Budget, Task, Block\n",
    "from privacypacking.schedulers.metrics import OverflowRelevance, FlatRelevance\n",
    "from privacypacking.budget.block_selection import RandomBlocks\n",
    "from privacypacking.utils.plot import plot_budgets\n",
    "import yaml\n",
    "from pathlib import Path\n",
    "import plotly.graph_objects as go\n",
    "from plotly.subplots import make_subplots\n",
    "import numpy as np"
   ]
  },
  {
   "cell_type": "code",
   "execution_count": null,
   "id": "14a65d54-2bbc-4a8a-9cf1-b952d8d48ee4",
   "metadata": {},
   "outputs": [],
   "source": [
    "df = load_latest_scheduling_results(alphas=True)"
   ]
  },
  {
   "cell_type": "code",
   "execution_count": null,
   "id": "e6cc450b",
   "metadata": {},
   "outputs": [],
   "source": [
    "df.allocated.nunique()"
   ]
  },
  {
   "cell_type": "code",
   "execution_count": null,
   "id": "b4fbd0a5-502f-4631-90d7-1d4e118df8ce",
   "metadata": {},
   "outputs": [],
   "source": [
    "maxeps = {}\n",
    "for task_file in Path(\"/home/pierre/privacypacking/data/mixed_curves/tasks\").glob(\"*.yaml\"):\n",
    "    task_dict = yaml.safe_load(task_file.open(\"r\"))\n",
    "    maxeps[f\"{task_dict['rdp_epsilons'][-1]:.3f}\"]=task_file.stem\n",
    "maxeps"
   ]
  },
  {
   "cell_type": "code",
   "execution_count": null,
   "id": "aeb264c4-b7a4-4759-8ae8-6a180c7c49a8",
   "metadata": {},
   "outputs": [],
   "source": [
    "def get_task_name(s):\n",
    "    n,m = s.split(\"-\")\n",
    "    return f\"{n}-{maxeps[m]}\""
   ]
  },
  {
   "cell_type": "code",
   "execution_count": null,
   "id": "3aaaedd6-2a88-4e1d-bd82-db24ec2918b9",
   "metadata": {},
   "outputs": [],
   "source": [
    "df[\"task\"] = df[\"nblocks_maxeps\"].apply(get_task_name)"
   ]
  },
  {
   "cell_type": "code",
   "execution_count": null,
   "id": "134ee09b-7725-4852-b677-e0115cd2607f",
   "metadata": {},
   "outputs": [],
   "source": [
    "grouped = df[[\"id\",\"task\",\"allocated\",\"metric\"]].drop_duplicates(subset=['id', 'metric']).groupby([\"task\",\"metric\"]).agg([np.sum, \"count\"])\n",
    "grouped = grouped.reset_index()\n",
    "grouped[\"n_allocated\"] = grouped[\"allocated\"][\"sum\"]\n",
    "grouped[\"total\"] = grouped[\"allocated\"][\"count\"]\n",
    "grouped = grouped.drop([\"id\", \"allocated\"], axis=1)\n",
    "grouped[\"n_rejected\"] = grouped[\"total\"] - grouped[\"n_allocated\"]\n",
    "# grouped"
   ]
  },
  {
   "cell_type": "code",
   "execution_count": null,
   "id": "a6b8cca5",
   "metadata": {},
   "outputs": [],
   "source": [
    "grouped[[\"metric\", \"n_allocated\"]].groupby(\"metric\").sum().reset_index()"
   ]
  },
  {
   "cell_type": "code",
   "execution_count": null,
   "id": "96875490",
   "metadata": {},
   "outputs": [],
   "source": [
    "px.bar(grouped[[\"metric\", \"n_allocated\"]].groupby(\"metric\").sum().reset_index(), \n",
    "         x = \"metric\",\n",
    "         y = \"n_allocated\",\n",
    "         title = 'Total number of tasks allocated per scheduler', \n",
    "        # facet_col=\"metric\",\n",
    "        #     facet_col_wrap=2,\n",
    "            # height=600,\n",
    "            width=1000\n",
    "             )"
   ]
  },
  {
   "cell_type": "code",
   "execution_count": null,
   "id": "267ef985-d1fb-4243-891a-cce6c1a7c1bf",
   "metadata": {},
   "outputs": [],
   "source": [
    "px.bar(grouped, \n",
    "         x = \"task\",\n",
    "         y = [\"n_allocated\", \"n_rejected\"],\n",
    "         title = 'Type of task allocated per scheduler', \n",
    "        facet_col=\"metric\",\n",
    "            facet_col_wrap=2,\n",
    "            height=600,\n",
    "             )"
   ]
  },
  {
   "cell_type": "code",
   "execution_count": null,
   "id": "34872ee2-529e-4968-91a4-a534aeb7be44",
   "metadata": {},
   "outputs": [],
   "source": [
    "# Sanity check: verify that the workload is the same for all the schedulers for fair comparison\n",
    "\n",
    "px.bar(\n",
    "    df,\n",
    "    # df.query(\"metric == 'BatchOverflowRelevance'\"),\n",
    "    x=\"blockid_alpha\",\n",
    "    y=\"normalized_epsilon\",\n",
    "    range_y=[0,20],\n",
    "#     color=\"log_id\",\n",
    "    color=\"task\",\n",
    "    # barmode=\"group\",\n",
    "    # pattern_shape=\"allocated\",\n",
    "    facet_col=\"metric\",\n",
    "    facet_col_wrap=1,\n",
    "    height=500,\n",
    "    title=\"All demands per block and alpha (workload)\"\n",
    "#     animation_frame=\"id\"\n",
    ")"
   ]
  },
  {
   "cell_type": "code",
   "execution_count": null,
   "id": "fe92fc6d",
   "metadata": {},
   "outputs": [],
   "source": [
    "df.scheduling_time.nunique()"
   ]
  },
  {
   "cell_type": "code",
   "execution_count": null,
   "id": "77d1628e",
   "metadata": {},
   "outputs": [],
   "source": [
    "# df = df.sample(frac=1).reset_index(drop=True)"
   ]
  },
  {
   "cell_type": "code",
   "execution_count": null,
   "id": "44463221",
   "metadata": {},
   "outputs": [],
   "source": [
    "df.head()"
   ]
  },
  {
   "cell_type": "code",
   "execution_count": null,
   "id": "ec7120b5",
   "metadata": {},
   "outputs": [],
   "source": [
    "df[\"task_and_id\"] = df[\"task\"] + \"#\" + df[\"id\"].apply(str)"
   ]
  },
  {
   "cell_type": "code",
   "execution_count": null,
   "id": "6a187e52",
   "metadata": {},
   "outputs": [],
   "source": [
    "class LazyMap():\n",
    "    def __getitem__(self, task_and_id):\n",
    "        # print(task_and_id)\n",
    "        # task_name = task_and_id.split(\"#\")[0]\n",
    "        # n_blocks, type_eps = task_name.split(\"-\")\n",
    "        # task_type, eps = type_eps.split(\"_\")\n",
    "        \n",
    "        return [0.5, \"rgb(165,0,38)\"]\n",
    "    \n",
    "    def copy(self):\n",
    "        return self\n",
    "        \n",
    "        "
   ]
  },
  {
   "cell_type": "code",
   "execution_count": null,
   "id": "ddc8d50a",
   "metadata": {},
   "outputs": [],
   "source": [
    "def get_color(task_and_id):\n",
    "        # print(task_and_id)\n",
    "        # task_name = task_and_id.split(\"#\")[0]\n",
    "        # n_blocks, type_eps = task_name.split(\"-\")\n",
    "        # task_type, eps = type_eps.split(\"_\")\n",
    "        \n",
    "        return [0.5, \"rgb(0,256,0)\"]"
   ]
  },
  {
   "cell_type": "code",
   "execution_count": null,
   "id": "1fdf5eac",
   "metadata": {},
   "outputs": [],
   "source": [
    "cached_colors = {}\n",
    "for task_and_id in df.query(\"allocated\").task_and_id:\n",
    "    cached_colors[task_and_id] = get_color(task_and_id) "
   ]
  },
  {
   "cell_type": "code",
   "execution_count": null,
   "id": "c239e733",
   "metadata": {},
   "outputs": [],
   "source": [
    "len(cached_colors)"
   ]
  },
  {
   "cell_type": "code",
   "execution_count": null,
   "id": "2aeb7a35-e2c5-4157-922f-c3659604ac0a",
   "metadata": {},
   "outputs": [],
   "source": [
    "px.bar(\n",
    "    # df,\n",
    "    # df.query(\"allocated and scheduling_time <= 15\"),\n",
    "    df.query(\"allocated\").sort_values(\"creation_time\"),\n",
    "    x=\"blockid_alpha\",\n",
    "    y=\"normalized_epsilon\",\n",
    "    hover_name=\"id\",\n",
    "    range_y=[0,3],\n",
    "    range_x = [0, 20 * 5],\n",
    "#     color=\"log_id\",\n",
    "    color=\"task_and_id\",\n",
    "    # barmode=\"group\",\n",
    "    # pattern_shape=\"allocated\",\n",
    "    facet_col=\"metric\",\n",
    "    facet_col_wrap=1,\n",
    "    height=1200,\n",
    "    title=\"Allocated demands for each scheduler\",\n",
    "    color_discrete_map=cached_colors,\n",
    "    # animation_frame=\"scheduling_time\"\n",
    "#     animation_frame=\"id\"\n",
    ")"
   ]
  }
 ],
 "metadata": {
  "kernelspec": {
   "display_name": "Python 3 (ipykernel)",
   "language": "python",
   "name": "python3"
  },
  "language_info": {
   "codemirror_mode": {
    "name": "ipython",
    "version": 3
   },
   "file_extension": ".py",
   "mimetype": "text/x-python",
   "name": "python",
   "nbconvert_exporter": "python",
   "pygments_lexer": "ipython3",
   "version": "3.8.5"
  }
 },
 "nbformat": 4,
 "nbformat_minor": 5
}
