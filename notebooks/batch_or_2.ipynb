{
 "cells": [
  {
   "cell_type": "code",
   "execution_count": 1,
   "id": "3682b627-c8b7-414c-9765-6652809081e0",
   "metadata": {},
   "outputs": [],
   "source": [
    "%load_ext autoreload \n",
    "%autoreload 2"
   ]
  },
  {
   "cell_type": "code",
   "execution_count": 2,
   "id": "c5b6c19b-0db4-43c6-a914-ef89ed2129db",
   "metadata": {},
   "outputs": [],
   "source": [
    "import json\n",
    "from privacypacking.utils.utils import load_logs, global_metrics\n",
    "import pandas as pd\n",
    "from experiments.ray.analysis import load_ray_experiment, load_latest_ray_experiment, load_latest_scheduling_results, load_latest_scheduling_results\n",
    "import plotly.express as px\n",
    "from privacypacking.budget.curves import  LaplaceCurve, GaussianCurve, SubsampledGaussianCurve\n",
    "from privacypacking.budget import Budget, Task, Block\n",
    "from privacypacking.schedulers.metrics import OverflowRelevance, FlatRelevance\n",
    "from privacypacking.budget.block_selection import RandomBlocks\n",
    "from privacypacking.utils.plot import plot_budgets\n",
    "import yaml\n",
    "from pathlib import Path\n",
    "import plotly.graph_objects as go\n",
    "from plotly.subplots import make_subplots\n",
    "import numpy as np"
   ]
  },
  {
   "cell_type": "code",
   "execution_count": 44,
   "id": "14a65d54-2bbc-4a8a-9cf1-b952d8d48ee4",
   "metadata": {},
   "outputs": [
    {
     "name": "stdout",
     "output_type": "stream",
     "text": [
      "/home/pierre/privacypacking/logs/exp_1118-144249/time_based_budget_unlocking_DominantShares/1118-144254_ddd0f8.json\n",
      "/home/pierre/privacypacking/logs/exp_1118-144249/time_based_budget_unlocking_BatchOverflowRelevance/1118-144253_fce1da.json\n",
      "/home/pierre/privacypacking/logs/exp_1118-144249/time_based_budget_unlocking_DynamicFlatRelevance/1118-144254_940b45.json\n",
      "/home/pierre/privacypacking/logs/exp_1118-144249/time_based_budget_unlocking_FlatRelevance/1118-144254_049600.json\n",
      "/home/pierre/privacypacking/logs/exp_1118-144249/time_based_budget_unlocking_Fcfs/1118-144254_7967dd.json\n"
     ]
    }
   ],
   "source": [
    "df = load_latest_scheduling_results(alphas=True)"
   ]
  },
  {
   "cell_type": "code",
   "execution_count": 45,
   "id": "b4fbd0a5-502f-4631-90d7-1d4e118df8ce",
   "metadata": {},
   "outputs": [
    {
     "data": {
      "text/plain": [
       "{'34.083': 'gaussian_5.0',\n",
       " '12.270': 'gaussian_3.0',\n",
       " '1.989': 'laplace_2.0',\n",
       " '5.453': 'gaussian_2.0',\n",
       " '1611676.972': 'subsampled_gaussian_5.0',\n",
       " '2.989': 'laplace_3.0',\n",
       " '679315.804': 'subsampled_gaussian_2.0',\n",
       " '3.989': 'laplace_4.0',\n",
       " '1085676.505': 'subsampled_gaussian_3.0',\n",
       " '4.989': 'laplace_5.0',\n",
       " '1385079.754': 'subsampled_gaussian_4.0',\n",
       " '21.813': 'gaussian_4.0'}"
      ]
     },
     "execution_count": 45,
     "metadata": {},
     "output_type": "execute_result"
    }
   ],
   "source": [
    "maxeps = {}\n",
    "for task_file in Path(\"/home/pierre/privacypacking/data/mixed_curves_large/tasks\").glob(\"*.yaml\"):\n",
    "    task_dict = yaml.safe_load(task_file.open(\"r\"))\n",
    "    maxeps[f\"{task_dict['rdp_epsilons'][-1]:.3f}\"]=task_file.stem\n",
    "maxeps"
   ]
  },
  {
   "cell_type": "code",
   "execution_count": 46,
   "id": "aeb264c4-b7a4-4759-8ae8-6a180c7c49a8",
   "metadata": {},
   "outputs": [],
   "source": [
    "def get_task_name(s):\n",
    "    n,m = s.split(\"-\")\n",
    "    return f\"{n}-{maxeps[m]}\""
   ]
  },
  {
   "cell_type": "code",
   "execution_count": 47,
   "id": "3aaaedd6-2a88-4e1d-bd82-db24ec2918b9",
   "metadata": {},
   "outputs": [],
   "source": [
    "df[\"task\"] = df[\"nblocks_maxeps\"].apply(get_task_name)"
   ]
  },
  {
   "cell_type": "code",
   "execution_count": 48,
   "id": "134ee09b-7725-4852-b677-e0115cd2607f",
   "metadata": {},
   "outputs": [],
   "source": [
    "grouped = df[[\"id\",\"task\",\"allocated\",\"metric\"]].drop_duplicates(subset=['id', 'metric']).groupby([\"task\",\"metric\"]).agg([np.sum, \"count\"])\n",
    "grouped = grouped.reset_index()\n",
    "grouped[\"n_allocated\"] = grouped[\"allocated\"][\"sum\"]\n",
    "grouped[\"total\"] = grouped[\"allocated\"][\"count\"]\n",
    "grouped = grouped.drop([\"id\", \"allocated\"], axis=1)\n",
    "grouped[\"n_rejected\"] = grouped[\"total\"] - grouped[\"n_allocated\"]\n",
    "# grouped"
   ]
  },
  {
   "cell_type": "code",
   "execution_count": 52,
   "id": "267ef985-d1fb-4243-891a-cce6c1a7c1bf",
   "metadata": {},
   "outputs": [
    {
     "data": {
      "application/vnd.plotly.v1+json": {
       "config": {
        "plotlyServerURL": "https://plot.ly"
       },
       "data": [
        {
         "alignmentgroup": "True",
         "hovertemplate": "variable=n_allocated<br>metric=BatchOverflowRelevance<br>task=%{x}<br>value=%{y}<extra></extra>",
         "legendgroup": "n_allocated",
         "marker": {
          "color": "#636efa",
          "pattern": {
           "shape": ""
          }
         },
         "name": "n_allocated",
         "offsetgroup": "n_allocated",
         "orientation": "v",
         "showlegend": true,
         "textposition": "auto",
         "type": "bar",
         "x": [
          "1-gaussian_2.0",
          "1-gaussian_3.0",
          "1-laplace_2.0",
          "1-laplace_3.0",
          "1-subsampled_gaussian_2.0",
          "1-subsampled_gaussian_3.0",
          "5-gaussian_2.0",
          "5-gaussian_3.0",
          "5-laplace_2.0",
          "5-laplace_3.0",
          "5-subsampled_gaussian_2.0",
          "5-subsampled_gaussian_3.0"
         ],
         "xaxis": "x5",
         "y": [
          11,
          4,
          9,
          1,
          3,
          0,
          1,
          0,
          0,
          0,
          0,
          0
         ],
         "yaxis": "y5"
        },
        {
         "alignmentgroup": "True",
         "hovertemplate": "variable=n_allocated<br>metric=DominantShares<br>task=%{x}<br>value=%{y}<extra></extra>",
         "legendgroup": "n_allocated",
         "marker": {
          "color": "#636efa",
          "pattern": {
           "shape": ""
          }
         },
         "name": "n_allocated",
         "offsetgroup": "n_allocated",
         "orientation": "v",
         "showlegend": false,
         "textposition": "auto",
         "type": "bar",
         "x": [
          "1-gaussian_2.0",
          "1-gaussian_3.0",
          "1-laplace_2.0",
          "1-laplace_3.0",
          "1-subsampled_gaussian_2.0",
          "1-subsampled_gaussian_3.0",
          "5-gaussian_2.0",
          "5-gaussian_3.0",
          "5-laplace_2.0",
          "5-laplace_3.0",
          "5-subsampled_gaussian_2.0",
          "5-subsampled_gaussian_3.0"
         ],
         "xaxis": "x6",
         "y": [
          12,
          9,
          5,
          0,
          3,
          0,
          1,
          1,
          0,
          0,
          1,
          0
         ],
         "yaxis": "y6"
        },
        {
         "alignmentgroup": "True",
         "hovertemplate": "variable=n_allocated<br>metric=DynamicFlatRelevance<br>task=%{x}<br>value=%{y}<extra></extra>",
         "legendgroup": "n_allocated",
         "marker": {
          "color": "#636efa",
          "pattern": {
           "shape": ""
          }
         },
         "name": "n_allocated",
         "offsetgroup": "n_allocated",
         "orientation": "v",
         "showlegend": false,
         "textposition": "auto",
         "type": "bar",
         "x": [
          "1-gaussian_2.0",
          "1-gaussian_3.0",
          "1-laplace_2.0",
          "1-laplace_3.0",
          "1-subsampled_gaussian_2.0",
          "1-subsampled_gaussian_3.0",
          "5-gaussian_2.0",
          "5-gaussian_3.0",
          "5-laplace_2.0",
          "5-laplace_3.0",
          "5-subsampled_gaussian_2.0",
          "5-subsampled_gaussian_3.0"
         ],
         "xaxis": "x3",
         "y": [
          11,
          4,
          9,
          1,
          3,
          0,
          1,
          0,
          0,
          0,
          0,
          0
         ],
         "yaxis": "y3"
        },
        {
         "alignmentgroup": "True",
         "hovertemplate": "variable=n_allocated<br>metric=Fcfs<br>task=%{x}<br>value=%{y}<extra></extra>",
         "legendgroup": "n_allocated",
         "marker": {
          "color": "#636efa",
          "pattern": {
           "shape": ""
          }
         },
         "name": "n_allocated",
         "offsetgroup": "n_allocated",
         "orientation": "v",
         "showlegend": false,
         "textposition": "auto",
         "type": "bar",
         "x": [
          "1-gaussian_2.0",
          "1-gaussian_3.0",
          "1-laplace_2.0",
          "1-laplace_3.0",
          "1-subsampled_gaussian_2.0",
          "1-subsampled_gaussian_3.0",
          "5-gaussian_2.0",
          "5-gaussian_3.0",
          "5-laplace_2.0",
          "5-laplace_3.0",
          "5-subsampled_gaussian_2.0",
          "5-subsampled_gaussian_3.0"
         ],
         "xaxis": "x4",
         "y": [
          8,
          6,
          3,
          2,
          4,
          4,
          1,
          0,
          1,
          0,
          0,
          0
         ],
         "yaxis": "y4"
        },
        {
         "alignmentgroup": "True",
         "hovertemplate": "variable=n_allocated<br>metric=FlatRelevance<br>task=%{x}<br>value=%{y}<extra></extra>",
         "legendgroup": "n_allocated",
         "marker": {
          "color": "#636efa",
          "pattern": {
           "shape": ""
          }
         },
         "name": "n_allocated",
         "offsetgroup": "n_allocated",
         "orientation": "v",
         "showlegend": false,
         "textposition": "auto",
         "type": "bar",
         "x": [
          "1-gaussian_2.0",
          "1-gaussian_3.0",
          "1-laplace_2.0",
          "1-laplace_3.0",
          "1-subsampled_gaussian_2.0",
          "1-subsampled_gaussian_3.0",
          "5-gaussian_2.0",
          "5-gaussian_3.0",
          "5-laplace_2.0",
          "5-laplace_3.0",
          "5-subsampled_gaussian_2.0",
          "5-subsampled_gaussian_3.0"
         ],
         "xaxis": "x",
         "y": [
          12,
          9,
          6,
          0,
          3,
          0,
          1,
          0,
          0,
          0,
          0,
          0
         ],
         "yaxis": "y"
        },
        {
         "alignmentgroup": "True",
         "hovertemplate": "variable=n_rejected<br>metric=BatchOverflowRelevance<br>task=%{x}<br>value=%{y}<extra></extra>",
         "legendgroup": "n_rejected",
         "marker": {
          "color": "#EF553B",
          "pattern": {
           "shape": ""
          }
         },
         "name": "n_rejected",
         "offsetgroup": "n_rejected",
         "orientation": "v",
         "showlegend": true,
         "textposition": "auto",
         "type": "bar",
         "x": [
          "1-gaussian_2.0",
          "1-gaussian_3.0",
          "1-laplace_2.0",
          "1-laplace_3.0",
          "1-subsampled_gaussian_2.0",
          "1-subsampled_gaussian_3.0",
          "5-gaussian_2.0",
          "5-gaussian_3.0",
          "5-laplace_2.0",
          "5-laplace_3.0",
          "5-subsampled_gaussian_2.0",
          "5-subsampled_gaussian_3.0"
         ],
         "xaxis": "x5",
         "y": [
          1,
          6,
          4,
          7,
          5,
          7,
          6,
          7,
          9,
          4,
          9,
          6
         ],
         "yaxis": "y5"
        },
        {
         "alignmentgroup": "True",
         "hovertemplate": "variable=n_rejected<br>metric=DominantShares<br>task=%{x}<br>value=%{y}<extra></extra>",
         "legendgroup": "n_rejected",
         "marker": {
          "color": "#EF553B",
          "pattern": {
           "shape": ""
          }
         },
         "name": "n_rejected",
         "offsetgroup": "n_rejected",
         "orientation": "v",
         "showlegend": false,
         "textposition": "auto",
         "type": "bar",
         "x": [
          "1-gaussian_2.0",
          "1-gaussian_3.0",
          "1-laplace_2.0",
          "1-laplace_3.0",
          "1-subsampled_gaussian_2.0",
          "1-subsampled_gaussian_3.0",
          "5-gaussian_2.0",
          "5-gaussian_3.0",
          "5-laplace_2.0",
          "5-laplace_3.0",
          "5-subsampled_gaussian_2.0",
          "5-subsampled_gaussian_3.0"
         ],
         "xaxis": "x6",
         "y": [
          0,
          1,
          8,
          8,
          5,
          7,
          6,
          6,
          9,
          4,
          8,
          6
         ],
         "yaxis": "y6"
        },
        {
         "alignmentgroup": "True",
         "hovertemplate": "variable=n_rejected<br>metric=DynamicFlatRelevance<br>task=%{x}<br>value=%{y}<extra></extra>",
         "legendgroup": "n_rejected",
         "marker": {
          "color": "#EF553B",
          "pattern": {
           "shape": ""
          }
         },
         "name": "n_rejected",
         "offsetgroup": "n_rejected",
         "orientation": "v",
         "showlegend": false,
         "textposition": "auto",
         "type": "bar",
         "x": [
          "1-gaussian_2.0",
          "1-gaussian_3.0",
          "1-laplace_2.0",
          "1-laplace_3.0",
          "1-subsampled_gaussian_2.0",
          "1-subsampled_gaussian_3.0",
          "5-gaussian_2.0",
          "5-gaussian_3.0",
          "5-laplace_2.0",
          "5-laplace_3.0",
          "5-subsampled_gaussian_2.0",
          "5-subsampled_gaussian_3.0"
         ],
         "xaxis": "x3",
         "y": [
          1,
          6,
          4,
          7,
          5,
          7,
          6,
          7,
          9,
          4,
          9,
          6
         ],
         "yaxis": "y3"
        },
        {
         "alignmentgroup": "True",
         "hovertemplate": "variable=n_rejected<br>metric=Fcfs<br>task=%{x}<br>value=%{y}<extra></extra>",
         "legendgroup": "n_rejected",
         "marker": {
          "color": "#EF553B",
          "pattern": {
           "shape": ""
          }
         },
         "name": "n_rejected",
         "offsetgroup": "n_rejected",
         "orientation": "v",
         "showlegend": false,
         "textposition": "auto",
         "type": "bar",
         "x": [
          "1-gaussian_2.0",
          "1-gaussian_3.0",
          "1-laplace_2.0",
          "1-laplace_3.0",
          "1-subsampled_gaussian_2.0",
          "1-subsampled_gaussian_3.0",
          "5-gaussian_2.0",
          "5-gaussian_3.0",
          "5-laplace_2.0",
          "5-laplace_3.0",
          "5-subsampled_gaussian_2.0",
          "5-subsampled_gaussian_3.0"
         ],
         "xaxis": "x4",
         "y": [
          4,
          4,
          10,
          6,
          4,
          3,
          6,
          7,
          8,
          4,
          9,
          6
         ],
         "yaxis": "y4"
        },
        {
         "alignmentgroup": "True",
         "hovertemplate": "variable=n_rejected<br>metric=FlatRelevance<br>task=%{x}<br>value=%{y}<extra></extra>",
         "legendgroup": "n_rejected",
         "marker": {
          "color": "#EF553B",
          "pattern": {
           "shape": ""
          }
         },
         "name": "n_rejected",
         "offsetgroup": "n_rejected",
         "orientation": "v",
         "showlegend": false,
         "textposition": "auto",
         "type": "bar",
         "x": [
          "1-gaussian_2.0",
          "1-gaussian_3.0",
          "1-laplace_2.0",
          "1-laplace_3.0",
          "1-subsampled_gaussian_2.0",
          "1-subsampled_gaussian_3.0",
          "5-gaussian_2.0",
          "5-gaussian_3.0",
          "5-laplace_2.0",
          "5-laplace_3.0",
          "5-subsampled_gaussian_2.0",
          "5-subsampled_gaussian_3.0"
         ],
         "xaxis": "x",
         "y": [
          0,
          1,
          7,
          8,
          5,
          7,
          6,
          7,
          9,
          4,
          9,
          6
         ],
         "yaxis": "y"
        }
       ],
       "layout": {
        "annotations": [
         {
          "font": {},
          "showarrow": false,
          "text": "metric=FlatRelevance",
          "x": 0.245,
          "xanchor": "center",
          "xref": "paper",
          "y": 0.2866666666666666,
          "yanchor": "bottom",
          "yref": "paper"
         },
         {
          "font": {},
          "showarrow": false,
          "text": "metric=DynamicFlatRelevance",
          "x": 0.245,
          "xanchor": "center",
          "xref": "paper",
          "y": 0.6433333333333333,
          "yanchor": "bottom",
          "yref": "paper"
         },
         {
          "font": {},
          "showarrow": false,
          "text": "metric=Fcfs",
          "x": 0.755,
          "xanchor": "center",
          "xref": "paper",
          "y": 0.6433333333333333,
          "yanchor": "bottom",
          "yref": "paper"
         },
         {
          "font": {},
          "showarrow": false,
          "text": "metric=BatchOverflowRelevance",
          "x": 0.245,
          "xanchor": "center",
          "xref": "paper",
          "y": 0.9999999999999999,
          "yanchor": "bottom",
          "yref": "paper"
         },
         {
          "font": {},
          "showarrow": false,
          "text": "metric=DominantShares",
          "x": 0.755,
          "xanchor": "center",
          "xref": "paper",
          "y": 0.9999999999999999,
          "yanchor": "bottom",
          "yref": "paper"
         }
        ],
        "autosize": true,
        "barmode": "relative",
        "legend": {
         "title": {
          "text": "variable"
         },
         "tracegroupgap": 0
        },
        "template": {
         "data": {
          "bar": [
           {
            "error_x": {
             "color": "#2a3f5f"
            },
            "error_y": {
             "color": "#2a3f5f"
            },
            "marker": {
             "line": {
              "color": "#E5ECF6",
              "width": 0.5
             },
             "pattern": {
              "fillmode": "overlay",
              "size": 10,
              "solidity": 0.2
             }
            },
            "type": "bar"
           }
          ],
          "barpolar": [
           {
            "marker": {
             "line": {
              "color": "#E5ECF6",
              "width": 0.5
             },
             "pattern": {
              "fillmode": "overlay",
              "size": 10,
              "solidity": 0.2
             }
            },
            "type": "barpolar"
           }
          ],
          "carpet": [
           {
            "aaxis": {
             "endlinecolor": "#2a3f5f",
             "gridcolor": "white",
             "linecolor": "white",
             "minorgridcolor": "white",
             "startlinecolor": "#2a3f5f"
            },
            "baxis": {
             "endlinecolor": "#2a3f5f",
             "gridcolor": "white",
             "linecolor": "white",
             "minorgridcolor": "white",
             "startlinecolor": "#2a3f5f"
            },
            "type": "carpet"
           }
          ],
          "choropleth": [
           {
            "colorbar": {
             "outlinewidth": 0,
             "ticks": ""
            },
            "type": "choropleth"
           }
          ],
          "contour": [
           {
            "colorbar": {
             "outlinewidth": 0,
             "ticks": ""
            },
            "colorscale": [
             [
              0,
              "#0d0887"
             ],
             [
              0.1111111111111111,
              "#46039f"
             ],
             [
              0.2222222222222222,
              "#7201a8"
             ],
             [
              0.3333333333333333,
              "#9c179e"
             ],
             [
              0.4444444444444444,
              "#bd3786"
             ],
             [
              0.5555555555555556,
              "#d8576b"
             ],
             [
              0.6666666666666666,
              "#ed7953"
             ],
             [
              0.7777777777777778,
              "#fb9f3a"
             ],
             [
              0.8888888888888888,
              "#fdca26"
             ],
             [
              1,
              "#f0f921"
             ]
            ],
            "type": "contour"
           }
          ],
          "contourcarpet": [
           {
            "colorbar": {
             "outlinewidth": 0,
             "ticks": ""
            },
            "type": "contourcarpet"
           }
          ],
          "heatmap": [
           {
            "colorbar": {
             "outlinewidth": 0,
             "ticks": ""
            },
            "colorscale": [
             [
              0,
              "#0d0887"
             ],
             [
              0.1111111111111111,
              "#46039f"
             ],
             [
              0.2222222222222222,
              "#7201a8"
             ],
             [
              0.3333333333333333,
              "#9c179e"
             ],
             [
              0.4444444444444444,
              "#bd3786"
             ],
             [
              0.5555555555555556,
              "#d8576b"
             ],
             [
              0.6666666666666666,
              "#ed7953"
             ],
             [
              0.7777777777777778,
              "#fb9f3a"
             ],
             [
              0.8888888888888888,
              "#fdca26"
             ],
             [
              1,
              "#f0f921"
             ]
            ],
            "type": "heatmap"
           }
          ],
          "heatmapgl": [
           {
            "colorbar": {
             "outlinewidth": 0,
             "ticks": ""
            },
            "colorscale": [
             [
              0,
              "#0d0887"
             ],
             [
              0.1111111111111111,
              "#46039f"
             ],
             [
              0.2222222222222222,
              "#7201a8"
             ],
             [
              0.3333333333333333,
              "#9c179e"
             ],
             [
              0.4444444444444444,
              "#bd3786"
             ],
             [
              0.5555555555555556,
              "#d8576b"
             ],
             [
              0.6666666666666666,
              "#ed7953"
             ],
             [
              0.7777777777777778,
              "#fb9f3a"
             ],
             [
              0.8888888888888888,
              "#fdca26"
             ],
             [
              1,
              "#f0f921"
             ]
            ],
            "type": "heatmapgl"
           }
          ],
          "histogram": [
           {
            "marker": {
             "pattern": {
              "fillmode": "overlay",
              "size": 10,
              "solidity": 0.2
             }
            },
            "type": "histogram"
           }
          ],
          "histogram2d": [
           {
            "colorbar": {
             "outlinewidth": 0,
             "ticks": ""
            },
            "colorscale": [
             [
              0,
              "#0d0887"
             ],
             [
              0.1111111111111111,
              "#46039f"
             ],
             [
              0.2222222222222222,
              "#7201a8"
             ],
             [
              0.3333333333333333,
              "#9c179e"
             ],
             [
              0.4444444444444444,
              "#bd3786"
             ],
             [
              0.5555555555555556,
              "#d8576b"
             ],
             [
              0.6666666666666666,
              "#ed7953"
             ],
             [
              0.7777777777777778,
              "#fb9f3a"
             ],
             [
              0.8888888888888888,
              "#fdca26"
             ],
             [
              1,
              "#f0f921"
             ]
            ],
            "type": "histogram2d"
           }
          ],
          "histogram2dcontour": [
           {
            "colorbar": {
             "outlinewidth": 0,
             "ticks": ""
            },
            "colorscale": [
             [
              0,
              "#0d0887"
             ],
             [
              0.1111111111111111,
              "#46039f"
             ],
             [
              0.2222222222222222,
              "#7201a8"
             ],
             [
              0.3333333333333333,
              "#9c179e"
             ],
             [
              0.4444444444444444,
              "#bd3786"
             ],
             [
              0.5555555555555556,
              "#d8576b"
             ],
             [
              0.6666666666666666,
              "#ed7953"
             ],
             [
              0.7777777777777778,
              "#fb9f3a"
             ],
             [
              0.8888888888888888,
              "#fdca26"
             ],
             [
              1,
              "#f0f921"
             ]
            ],
            "type": "histogram2dcontour"
           }
          ],
          "mesh3d": [
           {
            "colorbar": {
             "outlinewidth": 0,
             "ticks": ""
            },
            "type": "mesh3d"
           }
          ],
          "parcoords": [
           {
            "line": {
             "colorbar": {
              "outlinewidth": 0,
              "ticks": ""
             }
            },
            "type": "parcoords"
           }
          ],
          "pie": [
           {
            "automargin": true,
            "type": "pie"
           }
          ],
          "scatter": [
           {
            "marker": {
             "colorbar": {
              "outlinewidth": 0,
              "ticks": ""
             }
            },
            "type": "scatter"
           }
          ],
          "scatter3d": [
           {
            "line": {
             "colorbar": {
              "outlinewidth": 0,
              "ticks": ""
             }
            },
            "marker": {
             "colorbar": {
              "outlinewidth": 0,
              "ticks": ""
             }
            },
            "type": "scatter3d"
           }
          ],
          "scattercarpet": [
           {
            "marker": {
             "colorbar": {
              "outlinewidth": 0,
              "ticks": ""
             }
            },
            "type": "scattercarpet"
           }
          ],
          "scattergeo": [
           {
            "marker": {
             "colorbar": {
              "outlinewidth": 0,
              "ticks": ""
             }
            },
            "type": "scattergeo"
           }
          ],
          "scattergl": [
           {
            "marker": {
             "colorbar": {
              "outlinewidth": 0,
              "ticks": ""
             }
            },
            "type": "scattergl"
           }
          ],
          "scattermapbox": [
           {
            "marker": {
             "colorbar": {
              "outlinewidth": 0,
              "ticks": ""
             }
            },
            "type": "scattermapbox"
           }
          ],
          "scatterpolar": [
           {
            "marker": {
             "colorbar": {
              "outlinewidth": 0,
              "ticks": ""
             }
            },
            "type": "scatterpolar"
           }
          ],
          "scatterpolargl": [
           {
            "marker": {
             "colorbar": {
              "outlinewidth": 0,
              "ticks": ""
             }
            },
            "type": "scatterpolargl"
           }
          ],
          "scatterternary": [
           {
            "marker": {
             "colorbar": {
              "outlinewidth": 0,
              "ticks": ""
             }
            },
            "type": "scatterternary"
           }
          ],
          "surface": [
           {
            "colorbar": {
             "outlinewidth": 0,
             "ticks": ""
            },
            "colorscale": [
             [
              0,
              "#0d0887"
             ],
             [
              0.1111111111111111,
              "#46039f"
             ],
             [
              0.2222222222222222,
              "#7201a8"
             ],
             [
              0.3333333333333333,
              "#9c179e"
             ],
             [
              0.4444444444444444,
              "#bd3786"
             ],
             [
              0.5555555555555556,
              "#d8576b"
             ],
             [
              0.6666666666666666,
              "#ed7953"
             ],
             [
              0.7777777777777778,
              "#fb9f3a"
             ],
             [
              0.8888888888888888,
              "#fdca26"
             ],
             [
              1,
              "#f0f921"
             ]
            ],
            "type": "surface"
           }
          ],
          "table": [
           {
            "cells": {
             "fill": {
              "color": "#EBF0F8"
             },
             "line": {
              "color": "white"
             }
            },
            "header": {
             "fill": {
              "color": "#C8D4E3"
             },
             "line": {
              "color": "white"
             }
            },
            "type": "table"
           }
          ]
         },
         "layout": {
          "annotationdefaults": {
           "arrowcolor": "#2a3f5f",
           "arrowhead": 0,
           "arrowwidth": 1
          },
          "autotypenumbers": "strict",
          "coloraxis": {
           "colorbar": {
            "outlinewidth": 0,
            "ticks": ""
           }
          },
          "colorscale": {
           "diverging": [
            [
             0,
             "#8e0152"
            ],
            [
             0.1,
             "#c51b7d"
            ],
            [
             0.2,
             "#de77ae"
            ],
            [
             0.3,
             "#f1b6da"
            ],
            [
             0.4,
             "#fde0ef"
            ],
            [
             0.5,
             "#f7f7f7"
            ],
            [
             0.6,
             "#e6f5d0"
            ],
            [
             0.7,
             "#b8e186"
            ],
            [
             0.8,
             "#7fbc41"
            ],
            [
             0.9,
             "#4d9221"
            ],
            [
             1,
             "#276419"
            ]
           ],
           "sequential": [
            [
             0,
             "#0d0887"
            ],
            [
             0.1111111111111111,
             "#46039f"
            ],
            [
             0.2222222222222222,
             "#7201a8"
            ],
            [
             0.3333333333333333,
             "#9c179e"
            ],
            [
             0.4444444444444444,
             "#bd3786"
            ],
            [
             0.5555555555555556,
             "#d8576b"
            ],
            [
             0.6666666666666666,
             "#ed7953"
            ],
            [
             0.7777777777777778,
             "#fb9f3a"
            ],
            [
             0.8888888888888888,
             "#fdca26"
            ],
            [
             1,
             "#f0f921"
            ]
           ],
           "sequentialminus": [
            [
             0,
             "#0d0887"
            ],
            [
             0.1111111111111111,
             "#46039f"
            ],
            [
             0.2222222222222222,
             "#7201a8"
            ],
            [
             0.3333333333333333,
             "#9c179e"
            ],
            [
             0.4444444444444444,
             "#bd3786"
            ],
            [
             0.5555555555555556,
             "#d8576b"
            ],
            [
             0.6666666666666666,
             "#ed7953"
            ],
            [
             0.7777777777777778,
             "#fb9f3a"
            ],
            [
             0.8888888888888888,
             "#fdca26"
            ],
            [
             1,
             "#f0f921"
            ]
           ]
          },
          "colorway": [
           "#636efa",
           "#EF553B",
           "#00cc96",
           "#ab63fa",
           "#FFA15A",
           "#19d3f3",
           "#FF6692",
           "#B6E880",
           "#FF97FF",
           "#FECB52"
          ],
          "font": {
           "color": "#2a3f5f"
          },
          "geo": {
           "bgcolor": "white",
           "lakecolor": "white",
           "landcolor": "#E5ECF6",
           "showlakes": true,
           "showland": true,
           "subunitcolor": "white"
          },
          "hoverlabel": {
           "align": "left"
          },
          "hovermode": "closest",
          "mapbox": {
           "style": "light"
          },
          "paper_bgcolor": "white",
          "plot_bgcolor": "#E5ECF6",
          "polar": {
           "angularaxis": {
            "gridcolor": "white",
            "linecolor": "white",
            "ticks": ""
           },
           "bgcolor": "#E5ECF6",
           "radialaxis": {
            "gridcolor": "white",
            "linecolor": "white",
            "ticks": ""
           }
          },
          "scene": {
           "xaxis": {
            "backgroundcolor": "#E5ECF6",
            "gridcolor": "white",
            "gridwidth": 2,
            "linecolor": "white",
            "showbackground": true,
            "ticks": "",
            "zerolinecolor": "white"
           },
           "yaxis": {
            "backgroundcolor": "#E5ECF6",
            "gridcolor": "white",
            "gridwidth": 2,
            "linecolor": "white",
            "showbackground": true,
            "ticks": "",
            "zerolinecolor": "white"
           },
           "zaxis": {
            "backgroundcolor": "#E5ECF6",
            "gridcolor": "white",
            "gridwidth": 2,
            "linecolor": "white",
            "showbackground": true,
            "ticks": "",
            "zerolinecolor": "white"
           }
          },
          "shapedefaults": {
           "line": {
            "color": "#2a3f5f"
           }
          },
          "ternary": {
           "aaxis": {
            "gridcolor": "white",
            "linecolor": "white",
            "ticks": ""
           },
           "baxis": {
            "gridcolor": "white",
            "linecolor": "white",
            "ticks": ""
           },
           "bgcolor": "#E5ECF6",
           "caxis": {
            "gridcolor": "white",
            "linecolor": "white",
            "ticks": ""
           }
          },
          "title": {
           "x": 0.05
          },
          "xaxis": {
           "automargin": true,
           "gridcolor": "white",
           "linecolor": "white",
           "ticks": "",
           "title": {
            "standoff": 15
           },
           "zerolinecolor": "white",
           "zerolinewidth": 2
          },
          "yaxis": {
           "automargin": true,
           "gridcolor": "white",
           "linecolor": "white",
           "ticks": "",
           "title": {
            "standoff": 15
           },
           "zerolinecolor": "white",
           "zerolinewidth": 2
          }
         }
        },
        "title": {
         "text": "Stacked bar chart using px.bar()"
        },
        "xaxis": {
         "anchor": "y",
         "autorange": true,
         "domain": [
          0,
          0.49
         ],
         "range": [
          -0.5,
          11.5
         ],
         "title": {
          "text": "task"
         },
         "type": "category"
        },
        "xaxis2": {
         "anchor": "y2",
         "domain": [
          0.51,
          1
         ],
         "matches": "x",
         "title": {
          "text": "task"
         }
        },
        "xaxis3": {
         "anchor": "y3",
         "autorange": true,
         "domain": [
          0,
          0.49
         ],
         "matches": "x",
         "range": [
          -0.5,
          11.5
         ],
         "showticklabels": false,
         "type": "category"
        },
        "xaxis4": {
         "anchor": "y4",
         "autorange": true,
         "domain": [
          0.51,
          1
         ],
         "matches": "x",
         "range": [
          -0.5,
          11.5
         ],
         "showticklabels": false,
         "type": "category"
        },
        "xaxis5": {
         "anchor": "y5",
         "autorange": true,
         "domain": [
          0,
          0.49
         ],
         "matches": "x",
         "range": [
          -0.5,
          11.5
         ],
         "showticklabels": false,
         "type": "category"
        },
        "xaxis6": {
         "anchor": "y6",
         "autorange": true,
         "domain": [
          0.51,
          1
         ],
         "matches": "x",
         "range": [
          -0.5,
          11.5
         ],
         "showticklabels": false,
         "type": "category"
        },
        "yaxis": {
         "anchor": "x",
         "autorange": true,
         "domain": [
          0,
          0.2866666666666666
         ],
         "range": [
          0,
          13.68421052631579
         ],
         "title": {
          "text": "value"
         },
         "type": "linear"
        },
        "yaxis2": {
         "anchor": "x2",
         "domain": [
          0,
          0.2866666666666666
         ],
         "matches": "y",
         "showticklabels": false
        },
        "yaxis3": {
         "anchor": "x3",
         "autorange": true,
         "domain": [
          0.35666666666666663,
          0.6433333333333333
         ],
         "matches": "y",
         "range": [
          0,
          13.68421052631579
         ],
         "title": {
          "text": "value"
         },
         "type": "linear"
        },
        "yaxis4": {
         "anchor": "x4",
         "autorange": true,
         "domain": [
          0.35666666666666663,
          0.6433333333333333
         ],
         "matches": "y",
         "range": [
          0,
          13.68421052631579
         ],
         "showticklabels": false,
         "type": "linear"
        },
        "yaxis5": {
         "anchor": "x5",
         "autorange": true,
         "domain": [
          0.7133333333333333,
          0.9999999999999999
         ],
         "matches": "y",
         "range": [
          0,
          13.68421052631579
         ],
         "title": {
          "text": "value"
         },
         "type": "linear"
        },
        "yaxis6": {
         "anchor": "x6",
         "autorange": true,
         "domain": [
          0.7133333333333333,
          0.9999999999999999
         ],
         "matches": "y",
         "range": [
          0,
          13.68421052631579
         ],
         "showticklabels": false,
         "type": "linear"
        }
       }
      },
      "image/png": "[encoded data removed]",
      "text/html": [
       "<div>                            <div id=\"7eaded74-0c66-4727-b98c-eaabf82f3fde\" class=\"plotly-graph-div\" style=\"height:600px; width:100%;\"></div>            <script type=\"text/javascript\">                require([\"plotly\"], function(Plotly) {                    window.PLOTLYENV=window.PLOTLYENV || {};                                    if (document.getElementById(\"7eaded74-0c66-4727-b98c-eaabf82f3fde\")) {                    Plotly.newPlot(                        \"7eaded74-0c66-4727-b98c-eaabf82f3fde\",                        [{\"alignmentgroup\":\"True\",\"hovertemplate\":\"variable=n_allocated<br>metric=BatchOverflowRelevance<br>task=%{x}<br>value=%{y}<extra></extra>\",\"legendgroup\":\"n_allocated\",\"marker\":{\"color\":\"#636efa\",\"pattern\":{\"shape\":\"\"}},\"name\":\"n_allocated\",\"offsetgroup\":\"n_allocated\",\"orientation\":\"v\",\"showlegend\":true,\"textposition\":\"auto\",\"type\":\"bar\",\"x\":[\"1-gaussian_2.0\",\"1-gaussian_3.0\",\"1-laplace_2.0\",\"1-laplace_3.0\",\"1-subsampled_gaussian_2.0\",\"1-subsampled_gaussian_3.0\",\"5-gaussian_2.0\",\"5-gaussian_3.0\",\"5-laplace_2.0\",\"5-laplace_3.0\",\"5-subsampled_gaussian_2.0\",\"5-subsampled_gaussian_3.0\"],\"xaxis\":\"x5\",\"y\":[11,4,9,1,3,0,1,0,0,0,0,0],\"yaxis\":\"y5\"},{\"alignmentgroup\":\"True\",\"hovertemplate\":\"variable=n_allocated<br>metric=DominantShares<br>task=%{x}<br>value=%{y}<extra></extra>\",\"legendgroup\":\"n_allocated\",\"marker\":{\"color\":\"#636efa\",\"pattern\":{\"shape\":\"\"}},\"name\":\"n_allocated\",\"offsetgroup\":\"n_allocated\",\"orientation\":\"v\",\"showlegend\":false,\"textposition\":\"auto\",\"type\":\"bar\",\"x\":[\"1-gaussian_2.0\",\"1-gaussian_3.0\",\"1-laplace_2.0\",\"1-laplace_3.0\",\"1-subsampled_gaussian_2.0\",\"1-subsampled_gaussian_3.0\",\"5-gaussian_2.0\",\"5-gaussian_3.0\",\"5-laplace_2.0\",\"5-laplace_3.0\",\"5-subsampled_gaussian_2.0\",\"5-subsampled_gaussian_3.0\"],\"xaxis\":\"x6\",\"y\":[12,9,5,0,3,0,1,1,0,0,1,0],\"yaxis\":\"y6\"},{\"alignmentgroup\":\"True\",\"hovertemplate\":\"variable=n_allocated<br>metric=DynamicFlatRelevance<br>task=%{x}<br>value=%{y}<extra></extra>\",\"legendgroup\":\"n_allocated\",\"marker\":{\"color\":\"#636efa\",\"pattern\":{\"shape\":\"\"}},\"name\":\"n_allocated\",\"offsetgroup\":\"n_allocated\",\"orientation\":\"v\",\"showlegend\":false,\"textposition\":\"auto\",\"type\":\"bar\",\"x\":[\"1-gaussian_2.0\",\"1-gaussian_3.0\",\"1-laplace_2.0\",\"1-laplace_3.0\",\"1-subsampled_gaussian_2.0\",\"1-subsampled_gaussian_3.0\",\"5-gaussian_2.0\",\"5-gaussian_3.0\",\"5-laplace_2.0\",\"5-laplace_3.0\",\"5-subsampled_gaussian_2.0\",\"5-subsampled_gaussian_3.0\"],\"xaxis\":\"x3\",\"y\":[11,4,9,1,3,0,1,0,0,0,0,0],\"yaxis\":\"y3\"},{\"alignmentgroup\":\"True\",\"hovertemplate\":\"variable=n_allocated<br>metric=Fcfs<br>task=%{x}<br>value=%{y}<extra></extra>\",\"legendgroup\":\"n_allocated\",\"marker\":{\"color\":\"#636efa\",\"pattern\":{\"shape\":\"\"}},\"name\":\"n_allocated\",\"offsetgroup\":\"n_allocated\",\"orientation\":\"v\",\"showlegend\":false,\"textposition\":\"auto\",\"type\":\"bar\",\"x\":[\"1-gaussian_2.0\",\"1-gaussian_3.0\",\"1-laplace_2.0\",\"1-laplace_3.0\",\"1-subsampled_gaussian_2.0\",\"1-subsampled_gaussian_3.0\",\"5-gaussian_2.0\",\"5-gaussian_3.0\",\"5-laplace_2.0\",\"5-laplace_3.0\",\"5-subsampled_gaussian_2.0\",\"5-subsampled_gaussian_3.0\"],\"xaxis\":\"x4\",\"y\":[8,6,3,2,4,4,1,0,1,0,0,0],\"yaxis\":\"y4\"},{\"alignmentgroup\":\"True\",\"hovertemplate\":\"variable=n_allocated<br>metric=FlatRelevance<br>task=%{x}<br>value=%{y}<extra></extra>\",\"legendgroup\":\"n_allocated\",\"marker\":{\"color\":\"#636efa\",\"pattern\":{\"shape\":\"\"}},\"name\":\"n_allocated\",\"offsetgroup\":\"n_allocated\",\"orientation\":\"v\",\"showlegend\":false,\"textposition\":\"auto\",\"type\":\"bar\",\"x\":[\"1-gaussian_2.0\",\"1-gaussian_3.0\",\"1-laplace_2.0\",\"1-laplace_3.0\",\"1-subsampled_gaussian_2.0\",\"1-subsampled_gaussian_3.0\",\"5-gaussian_2.0\",\"5-gaussian_3.0\",\"5-laplace_2.0\",\"5-laplace_3.0\",\"5-subsampled_gaussian_2.0\",\"5-subsampled_gaussian_3.0\"],\"xaxis\":\"x\",\"y\":[12,9,6,0,3,0,1,0,0,0,0,0],\"yaxis\":\"y\"},{\"alignmentgroup\":\"True\",\"hovertemplate\":\"variable=n_rejected<br>metric=BatchOverflowRelevance<br>task=%{x}<br>value=%{y}<extra></extra>\",\"legendgroup\":\"n_rejected\",\"marker\":{\"color\":\"#EF553B\",\"pattern\":{\"shape\":\"\"}},\"name\":\"n_rejected\",\"offsetgroup\":\"n_rejected\",\"orientation\":\"v\",\"showlegend\":true,\"textposition\":\"auto\",\"type\":\"bar\",\"x\":[\"1-gaussian_2.0\",\"1-gaussian_3.0\",\"1-laplace_2.0\",\"1-laplace_3.0\",\"1-subsampled_gaussian_2.0\",\"1-subsampled_gaussian_3.0\",\"5-gaussian_2.0\",\"5-gaussian_3.0\",\"5-laplace_2.0\",\"5-laplace_3.0\",\"5-subsampled_gaussian_2.0\",\"5-subsampled_gaussian_3.0\"],\"xaxis\":\"x5\",\"y\":[1,6,4,7,5,7,6,7,9,4,9,6],\"yaxis\":\"y5\"},{\"alignmentgroup\":\"True\",\"hovertemplate\":\"variable=n_rejected<br>metric=DominantShares<br>task=%{x}<br>value=%{y}<extra></extra>\",\"legendgroup\":\"n_rejected\",\"marker\":{\"color\":\"#EF553B\",\"pattern\":{\"shape\":\"\"}},\"name\":\"n_rejected\",\"offsetgroup\":\"n_rejected\",\"orientation\":\"v\",\"showlegend\":false,\"textposition\":\"auto\",\"type\":\"bar\",\"x\":[\"1-gaussian_2.0\",\"1-gaussian_3.0\",\"1-laplace_2.0\",\"1-laplace_3.0\",\"1-subsampled_gaussian_2.0\",\"1-subsampled_gaussian_3.0\",\"5-gaussian_2.0\",\"5-gaussian_3.0\",\"5-laplace_2.0\",\"5-laplace_3.0\",\"5-subsampled_gaussian_2.0\",\"5-subsampled_gaussian_3.0\"],\"xaxis\":\"x6\",\"y\":[0,1,8,8,5,7,6,6,9,4,8,6],\"yaxis\":\"y6\"},{\"alignmentgroup\":\"True\",\"hovertemplate\":\"variable=n_rejected<br>metric=DynamicFlatRelevance<br>task=%{x}<br>value=%{y}<extra></extra>\",\"legendgroup\":\"n_rejected\",\"marker\":{\"color\":\"#EF553B\",\"pattern\":{\"shape\":\"\"}},\"name\":\"n_rejected\",\"offsetgroup\":\"n_rejected\",\"orientation\":\"v\",\"showlegend\":false,\"textposition\":\"auto\",\"type\":\"bar\",\"x\":[\"1-gaussian_2.0\",\"1-gaussian_3.0\",\"1-laplace_2.0\",\"1-laplace_3.0\",\"1-subsampled_gaussian_2.0\",\"1-subsampled_gaussian_3.0\",\"5-gaussian_2.0\",\"5-gaussian_3.0\",\"5-laplace_2.0\",\"5-laplace_3.0\",\"5-subsampled_gaussian_2.0\",\"5-subsampled_gaussian_3.0\"],\"xaxis\":\"x3\",\"y\":[1,6,4,7,5,7,6,7,9,4,9,6],\"yaxis\":\"y3\"},{\"alignmentgroup\":\"True\",\"hovertemplate\":\"variable=n_rejected<br>metric=Fcfs<br>task=%{x}<br>value=%{y}<extra></extra>\",\"legendgroup\":\"n_rejected\",\"marker\":{\"color\":\"#EF553B\",\"pattern\":{\"shape\":\"\"}},\"name\":\"n_rejected\",\"offsetgroup\":\"n_rejected\",\"orientation\":\"v\",\"showlegend\":false,\"textposition\":\"auto\",\"type\":\"bar\",\"x\":[\"1-gaussian_2.0\",\"1-gaussian_3.0\",\"1-laplace_2.0\",\"1-laplace_3.0\",\"1-subsampled_gaussian_2.0\",\"1-subsampled_gaussian_3.0\",\"5-gaussian_2.0\",\"5-gaussian_3.0\",\"5-laplace_2.0\",\"5-laplace_3.0\",\"5-subsampled_gaussian_2.0\",\"5-subsampled_gaussian_3.0\"],\"xaxis\":\"x4\",\"y\":[4,4,10,6,4,3,6,7,8,4,9,6],\"yaxis\":\"y4\"},{\"alignmentgroup\":\"True\",\"hovertemplate\":\"variable=n_rejected<br>metric=FlatRelevance<br>task=%{x}<br>value=%{y}<extra></extra>\",\"legendgroup\":\"n_rejected\",\"marker\":{\"color\":\"#EF553B\",\"pattern\":{\"shape\":\"\"}},\"name\":\"n_rejected\",\"offsetgroup\":\"n_rejected\",\"orientation\":\"v\",\"showlegend\":false,\"textposition\":\"auto\",\"type\":\"bar\",\"x\":[\"1-gaussian_2.0\",\"1-gaussian_3.0\",\"1-laplace_2.0\",\"1-laplace_3.0\",\"1-subsampled_gaussian_2.0\",\"1-subsampled_gaussian_3.0\",\"5-gaussian_2.0\",\"5-gaussian_3.0\",\"5-laplace_2.0\",\"5-laplace_3.0\",\"5-subsampled_gaussian_2.0\",\"5-subsampled_gaussian_3.0\"],\"xaxis\":\"x\",\"y\":[0,1,7,8,5,7,6,7,9,4,9,6],\"yaxis\":\"y\"}],                        {\"annotations\":[{\"font\":{},\"showarrow\":false,\"text\":\"metric=FlatRelevance\",\"x\":0.245,\"xanchor\":\"center\",\"xref\":\"paper\",\"y\":0.2866666666666666,\"yanchor\":\"bottom\",\"yref\":\"paper\"},{\"font\":{},\"showarrow\":false,\"text\":\"metric=DynamicFlatRelevance\",\"x\":0.245,\"xanchor\":\"center\",\"xref\":\"paper\",\"y\":0.6433333333333333,\"yanchor\":\"bottom\",\"yref\":\"paper\"},{\"font\":{},\"showarrow\":false,\"text\":\"metric=Fcfs\",\"x\":0.755,\"xanchor\":\"center\",\"xref\":\"paper\",\"y\":0.6433333333333333,\"yanchor\":\"bottom\",\"yref\":\"paper\"},{\"font\":{},\"showarrow\":false,\"text\":\"metric=BatchOverflowRelevance\",\"x\":0.245,\"xanchor\":\"center\",\"xref\":\"paper\",\"y\":0.9999999999999999,\"yanchor\":\"bottom\",\"yref\":\"paper\"},{\"font\":{},\"showarrow\":false,\"text\":\"metric=DominantShares\",\"x\":0.755,\"xanchor\":\"center\",\"xref\":\"paper\",\"y\":0.9999999999999999,\"yanchor\":\"bottom\",\"yref\":\"paper\"}],\"barmode\":\"relative\",\"height\":600,\"legend\":{\"title\":{\"text\":\"variable\"},\"tracegroupgap\":0},\"template\":{\"data\":{\"bar\":[{\"error_x\":{\"color\":\"#2a3f5f\"},\"error_y\":{\"color\":\"#2a3f5f\"},\"marker\":{\"line\":{\"color\":\"#E5ECF6\",\"width\":0.5},\"pattern\":{\"fillmode\":\"overlay\",\"size\":10,\"solidity\":0.2}},\"type\":\"bar\"}],\"barpolar\":[{\"marker\":{\"line\":{\"color\":\"#E5ECF6\",\"width\":0.5},\"pattern\":{\"fillmode\":\"overlay\",\"size\":10,\"solidity\":0.2}},\"type\":\"barpolar\"}],\"carpet\":[{\"aaxis\":{\"endlinecolor\":\"#2a3f5f\",\"gridcolor\":\"white\",\"linecolor\":\"white\",\"minorgridcolor\":\"white\",\"startlinecolor\":\"#2a3f5f\"},\"baxis\":{\"endlinecolor\":\"#2a3f5f\",\"gridcolor\":\"white\",\"linecolor\":\"white\",\"minorgridcolor\":\"white\",\"startlinecolor\":\"#2a3f5f\"},\"type\":\"carpet\"}],\"choropleth\":[{\"colorbar\":{\"outlinewidth\":0,\"ticks\":\"\"},\"type\":\"choropleth\"}],\"contour\":[{\"colorbar\":{\"outlinewidth\":0,\"ticks\":\"\"},\"colorscale\":[[0.0,\"#0d0887\"],[0.1111111111111111,\"#46039f\"],[0.2222222222222222,\"#7201a8\"],[0.3333333333333333,\"#9c179e\"],[0.4444444444444444,\"#bd3786\"],[0.5555555555555556,\"#d8576b\"],[0.6666666666666666,\"#ed7953\"],[0.7777777777777778,\"#fb9f3a\"],[0.8888888888888888,\"#fdca26\"],[1.0,\"#f0f921\"]],\"type\":\"contour\"}],\"contourcarpet\":[{\"colorbar\":{\"outlinewidth\":0,\"ticks\":\"\"},\"type\":\"contourcarpet\"}],\"heatmap\":[{\"colorbar\":{\"outlinewidth\":0,\"ticks\":\"\"},\"colorscale\":[[0.0,\"#0d0887\"],[0.1111111111111111,\"#46039f\"],[0.2222222222222222,\"#7201a8\"],[0.3333333333333333,\"#9c179e\"],[0.4444444444444444,\"#bd3786\"],[0.5555555555555556,\"#d8576b\"],[0.6666666666666666,\"#ed7953\"],[0.7777777777777778,\"#fb9f3a\"],[0.8888888888888888,\"#fdca26\"],[1.0,\"#f0f921\"]],\"type\":\"heatmap\"}],\"heatmapgl\":[{\"colorbar\":{\"outlinewidth\":0,\"ticks\":\"\"},\"colorscale\":[[0.0,\"#0d0887\"],[0.1111111111111111,\"#46039f\"],[0.2222222222222222,\"#7201a8\"],[0.3333333333333333,\"#9c179e\"],[0.4444444444444444,\"#bd3786\"],[0.5555555555555556,\"#d8576b\"],[0.6666666666666666,\"#ed7953\"],[0.7777777777777778,\"#fb9f3a\"],[0.8888888888888888,\"#fdca26\"],[1.0,\"#f0f921\"]],\"type\":\"heatmapgl\"}],\"histogram\":[{\"marker\":{\"pattern\":{\"fillmode\":\"overlay\",\"size\":10,\"solidity\":0.2}},\"type\":\"histogram\"}],\"histogram2d\":[{\"colorbar\":{\"outlinewidth\":0,\"ticks\":\"\"},\"colorscale\":[[0.0,\"#0d0887\"],[0.1111111111111111,\"#46039f\"],[0.2222222222222222,\"#7201a8\"],[0.3333333333333333,\"#9c179e\"],[0.4444444444444444,\"#bd3786\"],[0.5555555555555556,\"#d8576b\"],[0.6666666666666666,\"#ed7953\"],[0.7777777777777778,\"#fb9f3a\"],[0.8888888888888888,\"#fdca26\"],[1.0,\"#f0f921\"]],\"type\":\"histogram2d\"}],\"histogram2dcontour\":[{\"colorbar\":{\"outlinewidth\":0,\"ticks\":\"\"},\"colorscale\":[[0.0,\"#0d0887\"],[0.1111111111111111,\"#46039f\"],[0.2222222222222222,\"#7201a8\"],[0.3333333333333333,\"#9c179e\"],[0.4444444444444444,\"#bd3786\"],[0.5555555555555556,\"#d8576b\"],[0.6666666666666666,\"#ed7953\"],[0.7777777777777778,\"#fb9f3a\"],[0.8888888888888888,\"#fdca26\"],[1.0,\"#f0f921\"]],\"type\":\"histogram2dcontour\"}],\"mesh3d\":[{\"colorbar\":{\"outlinewidth\":0,\"ticks\":\"\"},\"type\":\"mesh3d\"}],\"parcoords\":[{\"line\":{\"colorbar\":{\"outlinewidth\":0,\"ticks\":\"\"}},\"type\":\"parcoords\"}],\"pie\":[{\"automargin\":true,\"type\":\"pie\"}],\"scatter\":[{\"marker\":{\"colorbar\":{\"outlinewidth\":0,\"ticks\":\"\"}},\"type\":\"scatter\"}],\"scatter3d\":[{\"line\":{\"colorbar\":{\"outlinewidth\":0,\"ticks\":\"\"}},\"marker\":{\"colorbar\":{\"outlinewidth\":0,\"ticks\":\"\"}},\"type\":\"scatter3d\"}],\"scattercarpet\":[{\"marker\":{\"colorbar\":{\"outlinewidth\":0,\"ticks\":\"\"}},\"type\":\"scattercarpet\"}],\"scattergeo\":[{\"marker\":{\"colorbar\":{\"outlinewidth\":0,\"ticks\":\"\"}},\"type\":\"scattergeo\"}],\"scattergl\":[{\"marker\":{\"colorbar\":{\"outlinewidth\":0,\"ticks\":\"\"}},\"type\":\"scattergl\"}],\"scattermapbox\":[{\"marker\":{\"colorbar\":{\"outlinewidth\":0,\"ticks\":\"\"}},\"type\":\"scattermapbox\"}],\"scatterpolar\":[{\"marker\":{\"colorbar\":{\"outlinewidth\":0,\"ticks\":\"\"}},\"type\":\"scatterpolar\"}],\"scatterpolargl\":[{\"marker\":{\"colorbar\":{\"outlinewidth\":0,\"ticks\":\"\"}},\"type\":\"scatterpolargl\"}],\"scatterternary\":[{\"marker\":{\"colorbar\":{\"outlinewidth\":0,\"ticks\":\"\"}},\"type\":\"scatterternary\"}],\"surface\":[{\"colorbar\":{\"outlinewidth\":0,\"ticks\":\"\"},\"colorscale\":[[0.0,\"#0d0887\"],[0.1111111111111111,\"#46039f\"],[0.2222222222222222,\"#7201a8\"],[0.3333333333333333,\"#9c179e\"],[0.4444444444444444,\"#bd3786\"],[0.5555555555555556,\"#d8576b\"],[0.6666666666666666,\"#ed7953\"],[0.7777777777777778,\"#fb9f3a\"],[0.8888888888888888,\"#fdca26\"],[1.0,\"#f0f921\"]],\"type\":\"surface\"}],\"table\":[{\"cells\":{\"fill\":{\"color\":\"#EBF0F8\"},\"line\":{\"color\":\"white\"}},\"header\":{\"fill\":{\"color\":\"#C8D4E3\"},\"line\":{\"color\":\"white\"}},\"type\":\"table\"}]},\"layout\":{\"annotationdefaults\":{\"arrowcolor\":\"#2a3f5f\",\"arrowhead\":0,\"arrowwidth\":1},\"autotypenumbers\":\"strict\",\"coloraxis\":{\"colorbar\":{\"outlinewidth\":0,\"ticks\":\"\"}},\"colorscale\":{\"diverging\":[[0,\"#8e0152\"],[0.1,\"#c51b7d\"],[0.2,\"#de77ae\"],[0.3,\"#f1b6da\"],[0.4,\"#fde0ef\"],[0.5,\"#f7f7f7\"],[0.6,\"#e6f5d0\"],[0.7,\"#b8e186\"],[0.8,\"#7fbc41\"],[0.9,\"#4d9221\"],[1,\"#276419\"]],\"sequential\":[[0.0,\"#0d0887\"],[0.1111111111111111,\"#46039f\"],[0.2222222222222222,\"#7201a8\"],[0.3333333333333333,\"#9c179e\"],[0.4444444444444444,\"#bd3786\"],[0.5555555555555556,\"#d8576b\"],[0.6666666666666666,\"#ed7953\"],[0.7777777777777778,\"#fb9f3a\"],[0.8888888888888888,\"#fdca26\"],[1.0,\"#f0f921\"]],\"sequentialminus\":[[0.0,\"#0d0887\"],[0.1111111111111111,\"#46039f\"],[0.2222222222222222,\"#7201a8\"],[0.3333333333333333,\"#9c179e\"],[0.4444444444444444,\"#bd3786\"],[0.5555555555555556,\"#d8576b\"],[0.6666666666666666,\"#ed7953\"],[0.7777777777777778,\"#fb9f3a\"],[0.8888888888888888,\"#fdca26\"],[1.0,\"#f0f921\"]]},\"colorway\":[\"#636efa\",\"#EF553B\",\"#00cc96\",\"#ab63fa\",\"#FFA15A\",\"#19d3f3\",\"#FF6692\",\"#B6E880\",\"#FF97FF\",\"#FECB52\"],\"font\":{\"color\":\"#2a3f5f\"},\"geo\":{\"bgcolor\":\"white\",\"lakecolor\":\"white\",\"landcolor\":\"#E5ECF6\",\"showlakes\":true,\"showland\":true,\"subunitcolor\":\"white\"},\"hoverlabel\":{\"align\":\"left\"},\"hovermode\":\"closest\",\"mapbox\":{\"style\":\"light\"},\"paper_bgcolor\":\"white\",\"plot_bgcolor\":\"#E5ECF6\",\"polar\":{\"angularaxis\":{\"gridcolor\":\"white\",\"linecolor\":\"white\",\"ticks\":\"\"},\"bgcolor\":\"#E5ECF6\",\"radialaxis\":{\"gridcolor\":\"white\",\"linecolor\":\"white\",\"ticks\":\"\"}},\"scene\":{\"xaxis\":{\"backgroundcolor\":\"#E5ECF6\",\"gridcolor\":\"white\",\"gridwidth\":2,\"linecolor\":\"white\",\"showbackground\":true,\"ticks\":\"\",\"zerolinecolor\":\"white\"},\"yaxis\":{\"backgroundcolor\":\"#E5ECF6\",\"gridcolor\":\"white\",\"gridwidth\":2,\"linecolor\":\"white\",\"showbackground\":true,\"ticks\":\"\",\"zerolinecolor\":\"white\"},\"zaxis\":{\"backgroundcolor\":\"#E5ECF6\",\"gridcolor\":\"white\",\"gridwidth\":2,\"linecolor\":\"white\",\"showbackground\":true,\"ticks\":\"\",\"zerolinecolor\":\"white\"}},\"shapedefaults\":{\"line\":{\"color\":\"#2a3f5f\"}},\"ternary\":{\"aaxis\":{\"gridcolor\":\"white\",\"linecolor\":\"white\",\"ticks\":\"\"},\"baxis\":{\"gridcolor\":\"white\",\"linecolor\":\"white\",\"ticks\":\"\"},\"bgcolor\":\"#E5ECF6\",\"caxis\":{\"gridcolor\":\"white\",\"linecolor\":\"white\",\"ticks\":\"\"}},\"title\":{\"x\":0.05},\"xaxis\":{\"automargin\":true,\"gridcolor\":\"white\",\"linecolor\":\"white\",\"ticks\":\"\",\"title\":{\"standoff\":15},\"zerolinecolor\":\"white\",\"zerolinewidth\":2},\"yaxis\":{\"automargin\":true,\"gridcolor\":\"white\",\"linecolor\":\"white\",\"ticks\":\"\",\"title\":{\"standoff\":15},\"zerolinecolor\":\"white\",\"zerolinewidth\":2}}},\"title\":{\"text\":\"Stacked bar chart using px.bar()\"},\"xaxis\":{\"anchor\":\"y\",\"domain\":[0.0,0.49],\"title\":{\"text\":\"task\"}},\"xaxis2\":{\"anchor\":\"y2\",\"domain\":[0.51,1.0],\"matches\":\"x\",\"title\":{\"text\":\"task\"}},\"xaxis3\":{\"anchor\":\"y3\",\"domain\":[0.0,0.49],\"matches\":\"x\",\"showticklabels\":false},\"xaxis4\":{\"anchor\":\"y4\",\"domain\":[0.51,1.0],\"matches\":\"x\",\"showticklabels\":false},\"xaxis5\":{\"anchor\":\"y5\",\"domain\":[0.0,0.49],\"matches\":\"x\",\"showticklabels\":false},\"xaxis6\":{\"anchor\":\"y6\",\"domain\":[0.51,1.0],\"matches\":\"x\",\"showticklabels\":false},\"yaxis\":{\"anchor\":\"x\",\"domain\":[0.0,0.2866666666666666],\"title\":{\"text\":\"value\"}},\"yaxis2\":{\"anchor\":\"x2\",\"domain\":[0.0,0.2866666666666666],\"matches\":\"y\",\"showticklabels\":false},\"yaxis3\":{\"anchor\":\"x3\",\"domain\":[0.35666666666666663,0.6433333333333333],\"matches\":\"y\",\"title\":{\"text\":\"value\"}},\"yaxis4\":{\"anchor\":\"x4\",\"domain\":[0.35666666666666663,0.6433333333333333],\"matches\":\"y\",\"showticklabels\":false},\"yaxis5\":{\"anchor\":\"x5\",\"domain\":[0.7133333333333333,0.9999999999999999],\"matches\":\"y\",\"title\":{\"text\":\"value\"}},\"yaxis6\":{\"anchor\":\"x6\",\"domain\":[0.7133333333333333,0.9999999999999999],\"matches\":\"y\",\"showticklabels\":false}},                        {\"responsive\": true}                    ).then(function(){\n",
       "                            \n",
       "var gd = document.getElementById('7eaded74-0c66-4727-b98c-eaabf82f3fde');\n",
       "var x = new MutationObserver(function (mutations, observer) {{\n",
       "        var display = window.getComputedStyle(gd).display;\n",
       "        if (!display || display === 'none') {{\n",
       "            console.log([gd, 'removed!']);\n",
       "            Plotly.purge(gd);\n",
       "            observer.disconnect();\n",
       "        }}\n",
       "}});\n",
       "\n",
       "// Listen for the removal of the full notebook cells\n",
       "var notebookContainer = gd.closest('#notebook-container');\n",
       "if (notebookContainer) {{\n",
       "    x.observe(notebookContainer, {childList: true});\n",
       "}}\n",
       "\n",
       "// Listen for the clearing of the current output cell\n",
       "var outputEl = gd.closest('.output');\n",
       "if (outputEl) {{\n",
       "    x.observe(outputEl, {childList: true});\n",
       "}}\n",
       "\n",
       "                        })                };                });            </script>        </div>"
      ]
     },
     "metadata": {},
     "output_type": "display_data"
    }
   ],
   "source": [
    "px.bar(grouped, \n",
    "         x = \"task\",\n",
    "         y = [\"n_allocated\", \"n_rejected\"],\n",
    "         title = 'Stacked bar chart using px.bar()', \n",
    "        facet_col=\"metric\",\n",
    "            facet_col_wrap=2,\n",
    "            height=600,\n",
    "             )"
   ]
  },
  {
   "cell_type": "code",
   "execution_count": 50,
   "id": "34872ee2-529e-4968-91a4-a534aeb7be44",
   "metadata": {},
   "outputs": [
    {
     "data": {
      "application/vnd.plotly.v1+json": {
       "config": {
        "plotlyServerURL": "https://plot.ly"
       },
       "data": [
        {
         "alignmentgroup": "True",
         "hovertemplate": "task=5-laplace_3.0<br>blockid_alpha=%{x}<br>normalized_epsilon=%{y}<extra></extra>",
         "legendgroup": "5-laplace_3.0",
         "marker": {
          "color": "#636efa",
          "pattern": {
           "shape": ""
          }
         },
         "name": "5-laplace_3.0",
         "offsetgroup": "5-laplace_3.0",
         "orientation": "v",
         "showlegend": true,
         "textposition": "auto",
         "type": "bar",
         "x": [
          "001-00",
          "001-03",
          "001-05",
          "001-08",
          "001-64",
          "002-00",
          "002-00",
          "002-03",
          "002-03",
          "002-05",
          "002-05",
          "002-08",
          "002-08",
          "002-64",
          "002-64",
          "003-00",
          "003-00",
          "003-00",
          "003-03",
          "003-03",
          "003-03",
          "003-05",
          "003-05",
          "003-05",
          "003-08",
          "003-08",
          "003-08",
          "003-64",
          "003-64",
          "003-64",
          "004-00",
          "004-00",
          "004-00",
          "004-03",
          "004-03",
          "004-03",
          "004-05",
          "004-05",
          "004-05",
          "004-08",
          "004-08",
          "004-08",
          "004-64",
          "004-64",
          "004-64",
          "005-00",
          "005-00",
          "005-00",
          "005-03",
          "005-03",
          "005-03",
          "005-05",
          "005-05",
          "005-05",
          "005-08",
          "005-08",
          "005-08",
          "005-64",
          "005-64",
          "005-64",
          "006-00",
          "006-00",
          "006-03",
          "006-03",
          "006-05",
          "006-05",
          "006-08",
          "006-08",
          "006-64",
          "006-64",
          "007-00",
          "007-00",
          "007-03",
          "007-03",
          "007-05",
          "007-05",
          "007-08",
          "007-08",
          "007-64",
          "007-64",
          "008-00",
          "008-03",
          "008-05",
          "008-08",
          "008-64",
          "009-00",
          "009-03",
          "009-05",
          "009-08",
          "009-64",
          "010-00",
          "010-03",
          "010-05",
          "010-08",
          "010-64",
          "011-00",
          "011-03",
          "011-05",
          "011-08",
          "011-64"
         ],
         "xaxis": "x",
         "y": [
          0,
          11.269680891515618,
          0.9139220962511998,
          0.6681976428132131,
          0.5138372103185906,
          0,
          0,
          11.269680891515618,
          11.269680891515618,
          0.9139220962511998,
          0.9139220962511998,
          0.6681976428132131,
          0.6681976428132131,
          0.5138372103185906,
          0.5138372103185906,
          0,
          0,
          0,
          11.269680891515618,
          11.269680891515618,
          11.269680891515618,
          0.9139220962511998,
          0.9139220962511998,
          0.9139220962511998,
          0.6681976428132131,
          0.6681976428132131,
          0.6681976428132131,
          0.5138372103185906,
          0.5138372103185906,
          0.5138372103185906,
          0,
          0,
          0,
          11.269680891515618,
          11.269680891515618,
          11.269680891515618,
          0.9139220962511998,
          0.9139220962511998,
          0.9139220962511998,
          0.6681976428132131,
          0.6681976428132131,
          0.6681976428132131,
          0.5138372103185906,
          0.5138372103185906,
          0.5138372103185906,
          0,
          0,
          0,
          11.269680891515618,
          11.269680891515618,
          11.269680891515618,
          0.9139220962511998,
          0.9139220962511998,
          0.9139220962511998,
          0.6681976428132131,
          0.6681976428132131,
          0.6681976428132131,
          0.5138372103185906,
          0.5138372103185906,
          0.5138372103185906,
          0,
          0,
          11.269680891515618,
          11.269680891515618,
          0.9139220962511998,
          0.9139220962511998,
          0.6681976428132131,
          0.6681976428132131,
          0.5138372103185906,
          0.5138372103185906,
          0,
          0,
          11.269680891515618,
          11.269680891515618,
          0.9139220962511998,
          0.9139220962511998,
          0.6681976428132131,
          0.6681976428132131,
          0.5138372103185906,
          0.5138372103185906,
          0,
          11.269680891515618,
          0.9139220962511998,
          0.6681976428132131,
          0.5138372103185906,
          0,
          11.269680891515618,
          0.9139220962511998,
          0.6681976428132131,
          0.5138372103185906,
          0,
          11.269680891515618,
          0.9139220962511998,
          0.6681976428132131,
          0.5138372103185906,
          0,
          11.269680891515618,
          0.9139220962511998,
          0.6681976428132131,
          0.5138372103185906
         ],
         "yaxis": "y"
        },
        {
         "alignmentgroup": "True",
         "hovertemplate": "task=5-gaussian_3.0<br>blockid_alpha=%{x}<br>normalized_epsilon=%{y}<extra></extra>",
         "legendgroup": "5-gaussian_3.0",
         "marker": {
          "color": "#EF553B",
          "pattern": {
           "shape": ""
          }
         },
         "name": "5-gaussian_3.0",
         "offsetgroup": "5-gaussian_3.0",
         "orientation": "v",
         "showlegend": true,
         "textposition": "auto",
         "type": "bar",
         "x": [
          "001-00",
          "001-03",
          "001-05",
          "001-08",
          "001-64",
          "002-00",
          "002-00",
          "002-03",
          "002-03",
          "002-05",
          "002-05",
          "002-08",
          "002-08",
          "002-64",
          "002-64",
          "003-00",
          "003-00",
          "003-03",
          "003-03",
          "003-05",
          "003-05",
          "003-08",
          "003-08",
          "003-64",
          "003-64",
          "004-00",
          "004-00",
          "004-00",
          "004-03",
          "004-03",
          "004-03",
          "004-05",
          "004-05",
          "004-05",
          "004-08",
          "004-08",
          "004-08",
          "004-64",
          "004-64",
          "004-64",
          "005-00",
          "005-00",
          "005-00",
          "005-03",
          "005-03",
          "005-03",
          "005-05",
          "005-05",
          "005-05",
          "005-08",
          "005-08",
          "005-08",
          "005-64",
          "005-64",
          "005-64",
          "006-00",
          "006-00",
          "006-03",
          "006-03",
          "006-05",
          "006-05",
          "006-08",
          "006-08",
          "006-64",
          "006-64",
          "007-00",
          "007-00",
          "007-00",
          "007-03",
          "007-03",
          "007-03",
          "007-05",
          "007-05",
          "007-05",
          "007-08",
          "007-08",
          "007-08",
          "007-64",
          "007-64",
          "007-64",
          "008-00",
          "008-00",
          "008-00",
          "008-00",
          "008-03",
          "008-03",
          "008-03",
          "008-03",
          "008-05",
          "008-05",
          "008-05",
          "008-05",
          "008-08",
          "008-08",
          "008-08",
          "008-08",
          "008-64",
          "008-64",
          "008-64",
          "008-64",
          "009-00",
          "009-00",
          "009-00",
          "009-03",
          "009-03",
          "009-03",
          "009-05",
          "009-05",
          "009-05",
          "009-08",
          "009-08",
          "009-08",
          "009-64",
          "009-64",
          "009-64",
          "010-00",
          "010-00",
          "010-00",
          "010-00",
          "010-03",
          "010-03",
          "010-03",
          "010-03",
          "010-05",
          "010-05",
          "010-05",
          "010-05",
          "010-08",
          "010-08",
          "010-08",
          "010-08",
          "010-64",
          "010-64",
          "010-64",
          "010-64",
          "011-00",
          "011-00",
          "011-00",
          "011-00",
          "011-03",
          "011-03",
          "011-03",
          "011-03",
          "011-05",
          "011-05",
          "011-05",
          "011-05",
          "011-08",
          "011-08",
          "011-08",
          "011-08",
          "011-64",
          "011-64",
          "011-64",
          "011-64",
          "012-00",
          "012-00",
          "012-03",
          "012-03",
          "012-05",
          "012-05",
          "012-08",
          "012-08",
          "012-64",
          "012-64",
          "013-00",
          "013-03",
          "013-05",
          "013-08",
          "013-64",
          "014-00",
          "014-03",
          "014-05",
          "014-08",
          "014-64"
         ],
         "xaxis": "x",
         "y": [
          0,
          2.3616508380769323,
          0.3070641781446555,
          0.3521536043200231,
          2.1092192409076547,
          0,
          0,
          2.3616508380769323,
          2.3616508380769323,
          0.3070641781446555,
          0.3070641781446555,
          0.3521536043200231,
          0.3521536043200231,
          2.1092192409076547,
          2.1092192409076547,
          0,
          0,
          2.3616508380769323,
          2.3616508380769323,
          0.3070641781446555,
          0.3070641781446555,
          0.3521536043200231,
          0.3521536043200231,
          2.1092192409076547,
          2.1092192409076547,
          0,
          0,
          0,
          2.3616508380769323,
          2.3616508380769323,
          2.3616508380769323,
          0.3070641781446555,
          0.3070641781446555,
          0.3070641781446555,
          0.3521536043200231,
          0.3521536043200231,
          0.3521536043200231,
          2.1092192409076547,
          2.1092192409076547,
          2.1092192409076547,
          0,
          0,
          0,
          2.3616508380769323,
          2.3616508380769323,
          2.3616508380769323,
          0.3070641781446555,
          0.3070641781446555,
          0.3070641781446555,
          0.3521536043200231,
          0.3521536043200231,
          0.3521536043200231,
          2.1092192409076547,
          2.1092192409076547,
          2.1092192409076547,
          0,
          0,
          2.3616508380769323,
          2.3616508380769323,
          0.3070641781446555,
          0.3070641781446555,
          0.3521536043200231,
          0.3521536043200231,
          2.1092192409076547,
          2.1092192409076547,
          0,
          0,
          0,
          2.3616508380769323,
          2.3616508380769323,
          2.3616508380769323,
          0.3070641781446555,
          0.3070641781446555,
          0.3070641781446555,
          0.3521536043200231,
          0.3521536043200231,
          0.3521536043200231,
          2.1092192409076547,
          2.1092192409076547,
          2.1092192409076547,
          0,
          0,
          0,
          0,
          2.3616508380769323,
          2.3616508380769323,
          2.3616508380769323,
          2.3616508380769323,
          0.3070641781446555,
          0.3070641781446555,
          0.3070641781446555,
          0.3070641781446555,
          0.3521536043200231,
          0.3521536043200231,
          0.3521536043200231,
          0.3521536043200231,
          2.1092192409076547,
          2.1092192409076547,
          2.1092192409076547,
          2.1092192409076547,
          0,
          0,
          0,
          2.3616508380769323,
          2.3616508380769323,
          2.3616508380769323,
          0.3070641781446555,
          0.3070641781446555,
          0.3070641781446555,
          0.3521536043200231,
          0.3521536043200231,
          0.3521536043200231,
          2.1092192409076547,
          2.1092192409076547,
          2.1092192409076547,
          0,
          0,
          0,
          0,
          2.3616508380769323,
          2.3616508380769323,
          2.3616508380769323,
          2.3616508380769323,
          0.3070641781446555,
          0.3070641781446555,
          0.3070641781446555,
          0.3070641781446555,
          0.3521536043200231,
          0.3521536043200231,
          0.3521536043200231,
          0.3521536043200231,
          2.1092192409076547,
          2.1092192409076547,
          2.1092192409076547,
          2.1092192409076547,
          0,
          0,
          0,
          0,
          2.3616508380769323,
          2.3616508380769323,
          2.3616508380769323,
          2.3616508380769323,
          0.3070641781446555,
          0.3070641781446555,
          0.3070641781446555,
          0.3070641781446555,
          0.3521536043200231,
          0.3521536043200231,
          0.3521536043200231,
          0.3521536043200231,
          2.1092192409076547,
          2.1092192409076547,
          2.1092192409076547,
          2.1092192409076547,
          0,
          0,
          2.3616508380769323,
          2.3616508380769323,
          0.3070641781446555,
          0.3070641781446555,
          0.3521536043200231,
          0.3521536043200231,
          2.1092192409076547,
          2.1092192409076547,
          0,
          2.3616508380769323,
          0.3070641781446555,
          0.3521536043200231,
          2.1092192409076547,
          0,
          2.3616508380769323,
          0.3070641781446555,
          0.3521536043200231,
          2.1092192409076547
         ],
         "yaxis": "y"
        },
        {
         "alignmentgroup": "True",
         "hovertemplate": "task=5-subsampled_gaussian_2.0<br>blockid_alpha=%{x}<br>normalized_epsilon=%{y}<extra></extra>",
         "legendgroup": "5-subsampled_gaussian_2.0",
         "marker": {
          "color": "#00cc96",
          "pattern": {
           "shape": ""
          }
         },
         "name": "5-subsampled_gaussian_2.0",
         "offsetgroup": "5-subsampled_gaussian_2.0",
         "orientation": "v",
         "showlegend": true,
         "textposition": "auto",
         "type": "bar",
         "x": [
          "001-00",
          "001-03",
          "001-05",
          "001-08",
          "001-64",
          "002-00",
          "002-03",
          "002-05",
          "002-08",
          "002-64",
          "003-00",
          "003-03",
          "003-05",
          "003-08",
          "003-64",
          "004-00",
          "004-00",
          "004-00",
          "004-03",
          "004-03",
          "004-03",
          "004-05",
          "004-05",
          "004-05",
          "004-08",
          "004-08",
          "004-08",
          "004-64",
          "004-64",
          "004-64",
          "005-00",
          "005-00",
          "005-00",
          "005-03",
          "005-03",
          "005-03",
          "005-05",
          "005-05",
          "005-05",
          "005-08",
          "005-08",
          "005-08",
          "005-64",
          "005-64",
          "005-64",
          "006-00",
          "006-00",
          "006-00",
          "006-03",
          "006-03",
          "006-03",
          "006-05",
          "006-05",
          "006-05",
          "006-08",
          "006-08",
          "006-08",
          "006-64",
          "006-64",
          "006-64",
          "007-00",
          "007-00",
          "007-00",
          "007-03",
          "007-03",
          "007-03",
          "007-05",
          "007-05",
          "007-05",
          "007-08",
          "007-08",
          "007-08",
          "007-64",
          "007-64",
          "007-64",
          "008-00",
          "008-00",
          "008-00",
          "008-03",
          "008-03",
          "008-03",
          "008-05",
          "008-05",
          "008-05",
          "008-08",
          "008-08",
          "008-08",
          "008-64",
          "008-64",
          "008-64",
          "009-00",
          "009-00",
          "009-00",
          "009-00",
          "009-03",
          "009-03",
          "009-03",
          "009-03",
          "009-05",
          "009-05",
          "009-05",
          "009-05",
          "009-08",
          "009-08",
          "009-08",
          "009-08",
          "009-64",
          "009-64",
          "009-64",
          "009-64",
          "010-00",
          "010-00",
          "010-00",
          "010-00",
          "010-00",
          "010-00",
          "010-03",
          "010-03",
          "010-03",
          "010-03",
          "010-03",
          "010-03",
          "010-05",
          "010-05",
          "010-05",
          "010-05",
          "010-05",
          "010-05",
          "010-08",
          "010-08",
          "010-08",
          "010-08",
          "010-08",
          "010-08",
          "010-64",
          "010-64",
          "010-64",
          "010-64",
          "010-64",
          "010-64",
          "011-00",
          "011-00",
          "011-00",
          "011-00",
          "011-00",
          "011-03",
          "011-03",
          "011-03",
          "011-03",
          "011-03",
          "011-05",
          "011-05",
          "011-05",
          "011-05",
          "011-05",
          "011-08",
          "011-08",
          "011-08",
          "011-08",
          "011-08",
          "011-64",
          "011-64",
          "011-64",
          "011-64",
          "011-64",
          "012-00",
          "012-00",
          "012-00",
          "012-00",
          "012-00",
          "012-03",
          "012-03",
          "012-03",
          "012-03",
          "012-03",
          "012-05",
          "012-05",
          "012-05",
          "012-05",
          "012-05",
          "012-08",
          "012-08",
          "012-08",
          "012-08",
          "012-08",
          "012-64",
          "012-64",
          "012-64",
          "012-64",
          "012-64",
          "013-00",
          "013-00",
          "013-00",
          "013-00",
          "013-00",
          "013-03",
          "013-03",
          "013-03",
          "013-03",
          "013-03",
          "013-05",
          "013-05",
          "013-05",
          "013-05",
          "013-05",
          "013-08",
          "013-08",
          "013-08",
          "013-08",
          "013-08",
          "013-64",
          "013-64",
          "013-64",
          "013-64",
          "013-64",
          "014-00",
          "014-00",
          "014-03",
          "014-03",
          "014-05",
          "014-05",
          "014-08",
          "014-08",
          "014-64",
          "014-64"
         ],
         "xaxis": "x",
         "y": [
          0,
          1.144683992913701,
          0.1506705215069613,
          0.1762147011874783,
          116776.00284542797,
          0,
          1.144683992913701,
          0.1506705215069613,
          0.1762147011874783,
          116776.00284542797,
          0,
          1.144683992913701,
          0.1506705215069613,
          0.1762147011874783,
          116776.00284542797,
          0,
          0,
          0,
          1.144683992913701,
          1.144683992913701,
          1.144683992913701,
          0.1506705215069613,
          0.1506705215069613,
          0.1506705215069613,
          0.1762147011874783,
          0.1762147011874783,
          0.1762147011874783,
          116776.00284542797,
          116776.00284542797,
          116776.00284542797,
          0,
          0,
          0,
          1.144683992913701,
          1.144683992913701,
          1.144683992913701,
          0.1506705215069613,
          0.1506705215069613,
          0.1506705215069613,
          0.1762147011874783,
          0.1762147011874783,
          0.1762147011874783,
          116776.00284542797,
          116776.00284542797,
          116776.00284542797,
          0,
          0,
          0,
          1.144683992913701,
          1.144683992913701,
          1.144683992913701,
          0.1506705215069613,
          0.1506705215069613,
          0.1506705215069613,
          0.1762147011874783,
          0.1762147011874783,
          0.1762147011874783,
          116776.00284542797,
          116776.00284542797,
          116776.00284542797,
          0,
          0,
          0,
          1.144683992913701,
          1.144683992913701,
          1.144683992913701,
          0.1506705215069613,
          0.1506705215069613,
          0.1506705215069613,
          0.1762147011874783,
          0.1762147011874783,
          0.1762147011874783,
          116776.00284542797,
          116776.00284542797,
          116776.00284542797,
          0,
          0,
          0,
          1.144683992913701,
          1.144683992913701,
          1.144683992913701,
          0.1506705215069613,
          0.1506705215069613,
          0.1506705215069613,
          0.1762147011874783,
          0.1762147011874783,
          0.1762147011874783,
          116776.00284542797,
          116776.00284542797,
          116776.00284542797,
          0,
          0,
          0,
          0,
          1.144683992913701,
          1.144683992913701,
          1.144683992913701,
          1.144683992913701,
          0.1506705215069613,
          0.1506705215069613,
          0.1506705215069613,
          0.1506705215069613,
          0.1762147011874783,
          0.1762147011874783,
          0.1762147011874783,
          0.1762147011874783,
          116776.00284542797,
          116776.00284542797,
          116776.00284542797,
          116776.00284542797,
          0,
          0,
          0,
          0,
          0,
          0,
          1.144683992913701,
          1.144683992913701,
          1.144683992913701,
          1.144683992913701,
          1.144683992913701,
          1.144683992913701,
          0.1506705215069613,
          0.1506705215069613,
          0.1506705215069613,
          0.1506705215069613,
          0.1506705215069613,
          0.1506705215069613,
          0.1762147011874783,
          0.1762147011874783,
          0.1762147011874783,
          0.1762147011874783,
          0.1762147011874783,
          0.1762147011874783,
          116776.00284542797,
          116776.00284542797,
          116776.00284542797,
          116776.00284542797,
          116776.00284542797,
          116776.00284542797,
          0,
          0,
          0,
          0,
          0,
          1.144683992913701,
          1.144683992913701,
          1.144683992913701,
          1.144683992913701,
          1.144683992913701,
          0.1506705215069613,
          0.1506705215069613,
          0.1506705215069613,
          0.1506705215069613,
          0.1506705215069613,
          0.1762147011874783,
          0.1762147011874783,
          0.1762147011874783,
          0.1762147011874783,
          0.1762147011874783,
          116776.00284542797,
          116776.00284542797,
          116776.00284542797,
          116776.00284542797,
          116776.00284542797,
          0,
          0,
          0,
          0,
          0,
          1.144683992913701,
          1.144683992913701,
          1.144683992913701,
          1.144683992913701,
          1.144683992913701,
          0.1506705215069613,
          0.1506705215069613,
          0.1506705215069613,
          0.1506705215069613,
          0.1506705215069613,
          0.1762147011874783,
          0.1762147011874783,
          0.1762147011874783,
          0.1762147011874783,
          0.1762147011874783,
          116776.00284542797,
          116776.00284542797,
          116776.00284542797,
          116776.00284542797,
          116776.00284542797,
          0,
          0,
          0,
          0,
          0,
          1.144683992913701,
          1.144683992913701,
          1.144683992913701,
          1.144683992913701,
          1.144683992913701,
          0.1506705215069613,
          0.1506705215069613,
          0.1506705215069613,
          0.1506705215069613,
          0.1506705215069613,
          0.1762147011874783,
          0.1762147011874783,
          0.1762147011874783,
          0.1762147011874783,
          0.1762147011874783,
          116776.00284542797,
          116776.00284542797,
          116776.00284542797,
          116776.00284542797,
          116776.00284542797,
          0,
          0,
          1.144683992913701,
          1.144683992913701,
          0.1506705215069613,
          0.1506705215069613,
          0.1762147011874783,
          0.1762147011874783,
          116776.00284542797,
          116776.00284542797
         ],
         "yaxis": "y"
        },
        {
         "alignmentgroup": "True",
         "hovertemplate": "task=5-gaussian_2.0<br>blockid_alpha=%{x}<br>normalized_epsilon=%{y}<extra></extra>",
         "legendgroup": "5-gaussian_2.0",
         "marker": {
          "color": "#ab63fa",
          "pattern": {
           "shape": ""
          }
         },
         "name": "5-gaussian_2.0",
         "offsetgroup": "5-gaussian_2.0",
         "orientation": "v",
         "showlegend": true,
         "textposition": "auto",
         "type": "bar",
         "x": [
          "001-00",
          "001-03",
          "001-05",
          "001-08",
          "001-64",
          "002-00",
          "002-03",
          "002-05",
          "002-08",
          "002-64",
          "003-00",
          "003-00",
          "003-00",
          "003-03",
          "003-03",
          "003-03",
          "003-05",
          "003-05",
          "003-05",
          "003-08",
          "003-08",
          "003-08",
          "003-64",
          "003-64",
          "003-64",
          "004-00",
          "004-00",
          "004-00",
          "004-00",
          "004-03",
          "004-03",
          "004-03",
          "004-03",
          "004-05",
          "004-05",
          "004-05",
          "004-05",
          "004-08",
          "004-08",
          "004-08",
          "004-08",
          "004-64",
          "004-64",
          "004-64",
          "004-64",
          "005-00",
          "005-00",
          "005-00",
          "005-00",
          "005-03",
          "005-03",
          "005-03",
          "005-03",
          "005-05",
          "005-05",
          "005-05",
          "005-05",
          "005-08",
          "005-08",
          "005-08",
          "005-08",
          "005-64",
          "005-64",
          "005-64",
          "005-64",
          "006-00",
          "006-00",
          "006-00",
          "006-00",
          "006-03",
          "006-03",
          "006-03",
          "006-03",
          "006-05",
          "006-05",
          "006-05",
          "006-05",
          "006-08",
          "006-08",
          "006-08",
          "006-08",
          "006-64",
          "006-64",
          "006-64",
          "006-64",
          "007-00",
          "007-00",
          "007-00",
          "007-00",
          "007-03",
          "007-03",
          "007-03",
          "007-03",
          "007-05",
          "007-05",
          "007-05",
          "007-05",
          "007-08",
          "007-08",
          "007-08",
          "007-08",
          "007-64",
          "007-64",
          "007-64",
          "007-64",
          "008-00",
          "008-00",
          "008-03",
          "008-03",
          "008-05",
          "008-05",
          "008-08",
          "008-08",
          "008-64",
          "008-64",
          "009-00",
          "009-00",
          "009-03",
          "009-03",
          "009-05",
          "009-05",
          "009-08",
          "009-08",
          "009-64",
          "009-64",
          "010-00",
          "010-00",
          "010-00",
          "010-03",
          "010-03",
          "010-03",
          "010-05",
          "010-05",
          "010-05",
          "010-08",
          "010-08",
          "010-08",
          "010-64",
          "010-64",
          "010-64",
          "011-00",
          "011-00",
          "011-03",
          "011-03",
          "011-05",
          "011-05",
          "011-08",
          "011-08",
          "011-64",
          "011-64",
          "012-00",
          "012-00",
          "012-03",
          "012-03",
          "012-05",
          "012-05",
          "012-08",
          "012-08",
          "012-64",
          "012-64",
          "013-00",
          "013-00",
          "013-03",
          "013-03",
          "013-05",
          "013-05",
          "013-08",
          "013-08",
          "013-64",
          "013-64",
          "014-00",
          "014-03",
          "014-05",
          "014-08",
          "014-64"
         ],
         "xaxis": "x",
         "y": [
          0,
          1.0496225947008588,
          0.13647296806429132,
          0.15651271303112135,
          0.9374307737367353,
          0,
          1.0496225947008588,
          0.13647296806429132,
          0.15651271303112135,
          0.9374307737367353,
          0,
          0,
          0,
          1.0496225947008588,
          1.0496225947008588,
          1.0496225947008588,
          0.13647296806429132,
          0.13647296806429132,
          0.13647296806429132,
          0.15651271303112135,
          0.15651271303112135,
          0.15651271303112135,
          0.9374307737367353,
          0.9374307737367353,
          0.9374307737367353,
          0,
          0,
          0,
          0,
          1.0496225947008588,
          1.0496225947008588,
          1.0496225947008588,
          1.0496225947008588,
          0.13647296806429132,
          0.13647296806429132,
          0.13647296806429132,
          0.13647296806429132,
          0.15651271303112135,
          0.15651271303112135,
          0.15651271303112135,
          0.15651271303112135,
          0.9374307737367353,
          0.9374307737367353,
          0.9374307737367353,
          0.9374307737367353,
          0,
          0,
          0,
          0,
          1.0496225947008588,
          1.0496225947008588,
          1.0496225947008588,
          1.0496225947008588,
          0.13647296806429132,
          0.13647296806429132,
          0.13647296806429132,
          0.13647296806429132,
          0.15651271303112135,
          0.15651271303112135,
          0.15651271303112135,
          0.15651271303112135,
          0.9374307737367353,
          0.9374307737367353,
          0.9374307737367353,
          0.9374307737367353,
          0,
          0,
          0,
          0,
          1.0496225947008588,
          1.0496225947008588,
          1.0496225947008588,
          1.0496225947008588,
          0.13647296806429132,
          0.13647296806429132,
          0.13647296806429132,
          0.13647296806429132,
          0.15651271303112135,
          0.15651271303112135,
          0.15651271303112135,
          0.15651271303112135,
          0.9374307737367353,
          0.9374307737367353,
          0.9374307737367353,
          0.9374307737367353,
          0,
          0,
          0,
          0,
          1.0496225947008588,
          1.0496225947008588,
          1.0496225947008588,
          1.0496225947008588,
          0.13647296806429132,
          0.13647296806429132,
          0.13647296806429132,
          0.13647296806429132,
          0.15651271303112135,
          0.15651271303112135,
          0.15651271303112135,
          0.15651271303112135,
          0.9374307737367353,
          0.9374307737367353,
          0.9374307737367353,
          0.9374307737367353,
          0,
          0,
          1.0496225947008588,
          1.0496225947008588,
          0.13647296806429132,
          0.13647296806429132,
          0.15651271303112135,
          0.15651271303112135,
          0.9374307737367353,
          0.9374307737367353,
          0,
          0,
          1.0496225947008588,
          1.0496225947008588,
          0.13647296806429132,
          0.13647296806429132,
          0.15651271303112135,
          0.15651271303112135,
          0.9374307737367353,
          0.9374307737367353,
          0,
          0,
          0,
          1.0496225947008588,
          1.0496225947008588,
          1.0496225947008588,
          0.13647296806429132,
          0.13647296806429132,
          0.13647296806429132,
          0.15651271303112135,
          0.15651271303112135,
          0.15651271303112135,
          0.9374307737367353,
          0.9374307737367353,
          0.9374307737367353,
          0,
          0,
          1.0496225947008588,
          1.0496225947008588,
          0.13647296806429132,
          0.13647296806429132,
          0.15651271303112135,
          0.15651271303112135,
          0.9374307737367353,
          0.9374307737367353,
          0,
          0,
          1.0496225947008588,
          1.0496225947008588,
          0.13647296806429132,
          0.13647296806429132,
          0.15651271303112135,
          0.15651271303112135,
          0.9374307737367353,
          0.9374307737367353,
          0,
          0,
          1.0496225947008588,
          1.0496225947008588,
          0.13647296806429132,
          0.13647296806429132,
          0.15651271303112135,
          0.15651271303112135,
          0.9374307737367353,
          0.9374307737367353,
          0,
          1.0496225947008588,
          0.13647296806429132,
          0.15651271303112135,
          0.9374307737367353
         ],
         "yaxis": "y"
        },
        {
         "alignmentgroup": "True",
         "hovertemplate": "task=5-laplace_2.0<br>blockid_alpha=%{x}<br>normalized_epsilon=%{y}<extra></extra>",
         "legendgroup": "5-laplace_2.0",
         "marker": {
          "color": "#FFA15A",
          "pattern": {
           "shape": ""
          }
         },
         "name": "5-laplace_2.0",
         "offsetgroup": "5-laplace_2.0",
         "orientation": "v",
         "showlegend": true,
         "textposition": "auto",
         "type": "bar",
         "x": [
          "001-00",
          "001-03",
          "001-05",
          "001-08",
          "001-64",
          "002-00",
          "002-00",
          "002-03",
          "002-03",
          "002-05",
          "002-05",
          "002-08",
          "002-08",
          "002-64",
          "002-64",
          "003-00",
          "003-00",
          "003-00",
          "003-00",
          "003-03",
          "003-03",
          "003-03",
          "003-03",
          "003-05",
          "003-05",
          "003-05",
          "003-05",
          "003-08",
          "003-08",
          "003-08",
          "003-08",
          "003-64",
          "003-64",
          "003-64",
          "003-64",
          "004-00",
          "004-00",
          "004-00",
          "004-00",
          "004-03",
          "004-03",
          "004-03",
          "004-03",
          "004-05",
          "004-05",
          "004-05",
          "004-05",
          "004-08",
          "004-08",
          "004-08",
          "004-08",
          "004-64",
          "004-64",
          "004-64",
          "004-64",
          "005-00",
          "005-00",
          "005-00",
          "005-00",
          "005-00",
          "005-03",
          "005-03",
          "005-03",
          "005-03",
          "005-03",
          "005-05",
          "005-05",
          "005-05",
          "005-05",
          "005-05",
          "005-08",
          "005-08",
          "005-08",
          "005-08",
          "005-08",
          "005-64",
          "005-64",
          "005-64",
          "005-64",
          "005-64",
          "006-00",
          "006-00",
          "006-00",
          "006-00",
          "006-00",
          "006-03",
          "006-03",
          "006-03",
          "006-03",
          "006-03",
          "006-05",
          "006-05",
          "006-05",
          "006-05",
          "006-05",
          "006-08",
          "006-08",
          "006-08",
          "006-08",
          "006-08",
          "006-64",
          "006-64",
          "006-64",
          "006-64",
          "006-64",
          "007-00",
          "007-00",
          "007-00",
          "007-00",
          "007-00",
          "007-03",
          "007-03",
          "007-03",
          "007-03",
          "007-03",
          "007-05",
          "007-05",
          "007-05",
          "007-05",
          "007-05",
          "007-08",
          "007-08",
          "007-08",
          "007-08",
          "007-08",
          "007-64",
          "007-64",
          "007-64",
          "007-64",
          "007-64",
          "008-00",
          "008-00",
          "008-00",
          "008-00",
          "008-03",
          "008-03",
          "008-03",
          "008-03",
          "008-05",
          "008-05",
          "008-05",
          "008-05",
          "008-08",
          "008-08",
          "008-08",
          "008-08",
          "008-64",
          "008-64",
          "008-64",
          "008-64",
          "009-00",
          "009-00",
          "009-00",
          "009-00",
          "009-00",
          "009-03",
          "009-03",
          "009-03",
          "009-03",
          "009-03",
          "009-05",
          "009-05",
          "009-05",
          "009-05",
          "009-05",
          "009-08",
          "009-08",
          "009-08",
          "009-08",
          "009-08",
          "009-64",
          "009-64",
          "009-64",
          "009-64",
          "009-64",
          "010-00",
          "010-00",
          "010-00",
          "010-00",
          "010-03",
          "010-03",
          "010-03",
          "010-03",
          "010-05",
          "010-05",
          "010-05",
          "010-05",
          "010-08",
          "010-08",
          "010-08",
          "010-08",
          "010-64",
          "010-64",
          "010-64",
          "010-64",
          "011-00",
          "011-00",
          "011-00",
          "011-03",
          "011-03",
          "011-03",
          "011-05",
          "011-05",
          "011-05",
          "011-08",
          "011-08",
          "011-08",
          "011-64",
          "011-64",
          "011-64",
          "012-00",
          "012-00",
          "012-03",
          "012-03",
          "012-05",
          "012-05",
          "012-08",
          "012-08",
          "012-64",
          "012-64",
          "013-00",
          "013-03",
          "013-05",
          "013-08",
          "013-64"
         ],
         "xaxis": "x",
         "y": [
          0,
          7.163594874001278,
          0.5935908628148661,
          0.4385921425558207,
          0.34193483127853985,
          0,
          0,
          7.163594874001278,
          7.163594874001278,
          0.5935908628148661,
          0.5935908628148661,
          0.4385921425558207,
          0.4385921425558207,
          0.34193483127853985,
          0.34193483127853985,
          0,
          0,
          0,
          0,
          7.163594874001278,
          7.163594874001278,
          7.163594874001278,
          7.163594874001278,
          0.5935908628148661,
          0.5935908628148661,
          0.5935908628148661,
          0.5935908628148661,
          0.4385921425558207,
          0.4385921425558207,
          0.4385921425558207,
          0.4385921425558207,
          0.34193483127853985,
          0.34193483127853985,
          0.34193483127853985,
          0.34193483127853985,
          0,
          0,
          0,
          0,
          7.163594874001278,
          7.163594874001278,
          7.163594874001278,
          7.163594874001278,
          0.5935908628148661,
          0.5935908628148661,
          0.5935908628148661,
          0.5935908628148661,
          0.4385921425558207,
          0.4385921425558207,
          0.4385921425558207,
          0.4385921425558207,
          0.34193483127853985,
          0.34193483127853985,
          0.34193483127853985,
          0.34193483127853985,
          0,
          0,
          0,
          0,
          0,
          7.163594874001278,
          7.163594874001278,
          7.163594874001278,
          7.163594874001278,
          7.163594874001278,
          0.5935908628148661,
          0.5935908628148661,
          0.5935908628148661,
          0.5935908628148661,
          0.5935908628148661,
          0.4385921425558207,
          0.4385921425558207,
          0.4385921425558207,
          0.4385921425558207,
          0.4385921425558207,
          0.34193483127853985,
          0.34193483127853985,
          0.34193483127853985,
          0.34193483127853985,
          0.34193483127853985,
          0,
          0,
          0,
          0,
          0,
          7.163594874001278,
          7.163594874001278,
          7.163594874001278,
          7.163594874001278,
          7.163594874001278,
          0.5935908628148661,
          0.5935908628148661,
          0.5935908628148661,
          0.5935908628148661,
          0.5935908628148661,
          0.4385921425558207,
          0.4385921425558207,
          0.4385921425558207,
          0.4385921425558207,
          0.4385921425558207,
          0.34193483127853985,
          0.34193483127853985,
          0.34193483127853985,
          0.34193483127853985,
          0.34193483127853985,
          0,
          0,
          0,
          0,
          0,
          7.163594874001278,
          7.163594874001278,
          7.163594874001278,
          7.163594874001278,
          7.163594874001278,
          0.5935908628148661,
          0.5935908628148661,
          0.5935908628148661,
          0.5935908628148661,
          0.5935908628148661,
          0.4385921425558207,
          0.4385921425558207,
          0.4385921425558207,
          0.4385921425558207,
          0.4385921425558207,
          0.34193483127853985,
          0.34193483127853985,
          0.34193483127853985,
          0.34193483127853985,
          0.34193483127853985,
          0,
          0,
          0,
          0,
          7.163594874001278,
          7.163594874001278,
          7.163594874001278,
          7.163594874001278,
          0.5935908628148661,
          0.5935908628148661,
          0.5935908628148661,
          0.5935908628148661,
          0.4385921425558207,
          0.4385921425558207,
          0.4385921425558207,
          0.4385921425558207,
          0.34193483127853985,
          0.34193483127853985,
          0.34193483127853985,
          0.34193483127853985,
          0,
          0,
          0,
          0,
          0,
          7.163594874001278,
          7.163594874001278,
          7.163594874001278,
          7.163594874001278,
          7.163594874001278,
          0.5935908628148661,
          0.5935908628148661,
          0.5935908628148661,
          0.5935908628148661,
          0.5935908628148661,
          0.4385921425558207,
          0.4385921425558207,
          0.4385921425558207,
          0.4385921425558207,
          0.4385921425558207,
          0.34193483127853985,
          0.34193483127853985,
          0.34193483127853985,
          0.34193483127853985,
          0.34193483127853985,
          0,
          0,
          0,
          0,
          7.163594874001278,
          7.163594874001278,
          7.163594874001278,
          7.163594874001278,
          0.5935908628148661,
          0.5935908628148661,
          0.5935908628148661,
          0.5935908628148661,
          0.4385921425558207,
          0.4385921425558207,
          0.4385921425558207,
          0.4385921425558207,
          0.34193483127853985,
          0.34193483127853985,
          0.34193483127853985,
          0.34193483127853985,
          0,
          0,
          0,
          7.163594874001278,
          7.163594874001278,
          7.163594874001278,
          0.5935908628148661,
          0.5935908628148661,
          0.5935908628148661,
          0.4385921425558207,
          0.4385921425558207,
          0.4385921425558207,
          0.34193483127853985,
          0.34193483127853985,
          0.34193483127853985,
          0,
          0,
          7.163594874001278,
          7.163594874001278,
          0.5935908628148661,
          0.5935908628148661,
          0.4385921425558207,
          0.4385921425558207,
          0.34193483127853985,
          0.34193483127853985,
          0,
          7.163594874001278,
          0.5935908628148661,
          0.4385921425558207,
          0.34193483127853985
         ],
         "yaxis": "y"
        },
        {
         "alignmentgroup": "True",
         "hovertemplate": "task=5-subsampled_gaussian_3.0<br>blockid_alpha=%{x}<br>normalized_epsilon=%{y}<extra></extra>",
         "legendgroup": "5-subsampled_gaussian_3.0",
         "marker": {
          "color": "#19d3f3",
          "pattern": {
           "shape": ""
          }
         },
         "name": "5-subsampled_gaussian_3.0",
         "offsetgroup": "5-subsampled_gaussian_3.0",
         "orientation": "v",
         "showlegend": true,
         "textposition": "auto",
         "type": "bar",
         "x": [
          "002-00",
          "002-03",
          "002-05",
          "002-08",
          "002-64",
          "003-00",
          "003-00",
          "003-00",
          "003-03",
          "003-03",
          "003-03",
          "003-05",
          "003-05",
          "003-05",
          "003-08",
          "003-08",
          "003-08",
          "003-64",
          "003-64",
          "003-64",
          "004-00",
          "004-00",
          "004-00",
          "004-03",
          "004-03",
          "004-03",
          "004-05",
          "004-05",
          "004-05",
          "004-08",
          "004-08",
          "004-08",
          "004-64",
          "004-64",
          "004-64",
          "005-00",
          "005-00",
          "005-00",
          "005-03",
          "005-03",
          "005-03",
          "005-05",
          "005-05",
          "005-05",
          "005-08",
          "005-08",
          "005-08",
          "005-64",
          "005-64",
          "005-64",
          "006-00",
          "006-00",
          "006-00",
          "006-03",
          "006-03",
          "006-03",
          "006-05",
          "006-05",
          "006-05",
          "006-08",
          "006-08",
          "006-08",
          "006-64",
          "006-64",
          "006-64",
          "007-00",
          "007-00",
          "007-00",
          "007-00",
          "007-03",
          "007-03",
          "007-03",
          "007-03",
          "007-05",
          "007-05",
          "007-05",
          "007-05",
          "007-08",
          "007-08",
          "007-08",
          "007-08",
          "007-64",
          "007-64",
          "007-64",
          "007-64",
          "008-00",
          "008-00",
          "008-00",
          "008-03",
          "008-03",
          "008-03",
          "008-05",
          "008-05",
          "008-05",
          "008-08",
          "008-08",
          "008-08",
          "008-64",
          "008-64",
          "008-64",
          "009-00",
          "009-00",
          "009-00",
          "009-03",
          "009-03",
          "009-03",
          "009-05",
          "009-05",
          "009-05",
          "009-08",
          "009-08",
          "009-08",
          "009-64",
          "009-64",
          "009-64",
          "010-00",
          "010-00",
          "010-00",
          "010-03",
          "010-03",
          "010-03",
          "010-05",
          "010-05",
          "010-05",
          "010-08",
          "010-08",
          "010-08",
          "010-64",
          "010-64",
          "010-64",
          "011-00",
          "011-00",
          "011-00",
          "011-03",
          "011-03",
          "011-03",
          "011-05",
          "011-05",
          "011-05",
          "011-08",
          "011-08",
          "011-08",
          "011-64",
          "011-64",
          "011-64",
          "012-00",
          "012-03",
          "012-05",
          "012-08",
          "012-64"
         ],
         "xaxis": "x",
         "y": [
          0,
          2.3371803395374218,
          0.3159693379699305,
          2.2116779863073015,
          186630.37408144632,
          0,
          0,
          0,
          2.3371803395374218,
          2.3371803395374218,
          2.3371803395374218,
          0.3159693379699305,
          0.3159693379699305,
          0.3159693379699305,
          2.2116779863073015,
          2.2116779863073015,
          2.2116779863073015,
          186630.37408144632,
          186630.37408144632,
          186630.37408144632,
          0,
          0,
          0,
          2.3371803395374218,
          2.3371803395374218,
          2.3371803395374218,
          0.3159693379699305,
          0.3159693379699305,
          0.3159693379699305,
          2.2116779863073015,
          2.2116779863073015,
          2.2116779863073015,
          186630.37408144632,
          186630.37408144632,
          186630.37408144632,
          0,
          0,
          0,
          2.3371803395374218,
          2.3371803395374218,
          2.3371803395374218,
          0.3159693379699305,
          0.3159693379699305,
          0.3159693379699305,
          2.2116779863073015,
          2.2116779863073015,
          2.2116779863073015,
          186630.37408144632,
          186630.37408144632,
          186630.37408144632,
          0,
          0,
          0,
          2.3371803395374218,
          2.3371803395374218,
          2.3371803395374218,
          0.3159693379699305,
          0.3159693379699305,
          0.3159693379699305,
          2.2116779863073015,
          2.2116779863073015,
          2.2116779863073015,
          186630.37408144632,
          186630.37408144632,
          186630.37408144632,
          0,
          0,
          0,
          0,
          2.3371803395374218,
          2.3371803395374218,
          2.3371803395374218,
          2.3371803395374218,
          0.3159693379699305,
          0.3159693379699305,
          0.3159693379699305,
          0.3159693379699305,
          2.2116779863073015,
          2.2116779863073015,
          2.2116779863073015,
          2.2116779863073015,
          186630.37408144632,
          186630.37408144632,
          186630.37408144632,
          186630.37408144632,
          0,
          0,
          0,
          2.3371803395374218,
          2.3371803395374218,
          2.3371803395374218,
          0.3159693379699305,
          0.3159693379699305,
          0.3159693379699305,
          2.2116779863073015,
          2.2116779863073015,
          2.2116779863073015,
          186630.37408144632,
          186630.37408144632,
          186630.37408144632,
          0,
          0,
          0,
          2.3371803395374218,
          2.3371803395374218,
          2.3371803395374218,
          0.3159693379699305,
          0.3159693379699305,
          0.3159693379699305,
          2.2116779863073015,
          2.2116779863073015,
          2.2116779863073015,
          186630.37408144632,
          186630.37408144632,
          186630.37408144632,
          0,
          0,
          0,
          2.3371803395374218,
          2.3371803395374218,
          2.3371803395374218,
          0.3159693379699305,
          0.3159693379699305,
          0.3159693379699305,
          2.2116779863073015,
          2.2116779863073015,
          2.2116779863073015,
          186630.37408144632,
          186630.37408144632,
          186630.37408144632,
          0,
          0,
          0,
          2.3371803395374218,
          2.3371803395374218,
          2.3371803395374218,
          0.3159693379699305,
          0.3159693379699305,
          0.3159693379699305,
          2.2116779863073015,
          2.2116779863073015,
          2.2116779863073015,
          186630.37408144632,
          186630.37408144632,
          186630.37408144632,
          0,
          2.3371803395374218,
          0.3159693379699305,
          2.2116779863073015,
          186630.37408144632
         ],
         "yaxis": "y"
        },
        {
         "alignmentgroup": "True",
         "hovertemplate": "task=1-laplace_2.0<br>blockid_alpha=%{x}<br>normalized_epsilon=%{y}<extra></extra>",
         "legendgroup": "1-laplace_2.0",
         "marker": {
          "color": "#FF6692",
          "pattern": {
           "shape": ""
          }
         },
         "name": "1-laplace_2.0",
         "offsetgroup": "1-laplace_2.0",
         "orientation": "v",
         "showlegend": true,
         "textposition": "auto",
         "type": "bar",
         "x": [
          "005-00",
          "005-03",
          "005-05",
          "005-08",
          "005-64",
          "006-00",
          "006-03",
          "006-05",
          "006-08",
          "006-64",
          "008-00",
          "008-00",
          "008-03",
          "008-03",
          "008-05",
          "008-05",
          "008-08",
          "008-08",
          "008-64",
          "008-64",
          "009-00",
          "009-03",
          "009-05",
          "009-08",
          "009-64",
          "010-00",
          "010-00",
          "010-00",
          "010-03",
          "010-03",
          "010-03",
          "010-05",
          "010-05",
          "010-05",
          "010-08",
          "010-08",
          "010-08",
          "010-64",
          "010-64",
          "010-64",
          "011-00",
          "011-00",
          "011-03",
          "011-03",
          "011-05",
          "011-05",
          "011-08",
          "011-08",
          "011-64",
          "011-64",
          "012-00",
          "012-03",
          "012-05",
          "012-08",
          "012-64",
          "013-00",
          "013-00",
          "013-03",
          "013-03",
          "013-05",
          "013-05",
          "013-08",
          "013-08",
          "013-64",
          "013-64"
         ],
         "xaxis": "x",
         "y": [
          0,
          7.163594874001278,
          0.5935908628148661,
          0.4385921425558207,
          0.34193483127853985,
          0,
          7.163594874001278,
          0.5935908628148661,
          0.4385921425558207,
          0.34193483127853985,
          0,
          0,
          7.163594874001278,
          7.163594874001278,
          0.5935908628148661,
          0.5935908628148661,
          0.4385921425558207,
          0.4385921425558207,
          0.34193483127853985,
          0.34193483127853985,
          0,
          7.163594874001278,
          0.5935908628148661,
          0.4385921425558207,
          0.34193483127853985,
          0,
          0,
          0,
          7.163594874001278,
          7.163594874001278,
          7.163594874001278,
          0.5935908628148661,
          0.5935908628148661,
          0.5935908628148661,
          0.4385921425558207,
          0.4385921425558207,
          0.4385921425558207,
          0.34193483127853985,
          0.34193483127853985,
          0.34193483127853985,
          0,
          0,
          7.163594874001278,
          7.163594874001278,
          0.5935908628148661,
          0.5935908628148661,
          0.4385921425558207,
          0.4385921425558207,
          0.34193483127853985,
          0.34193483127853985,
          0,
          7.163594874001278,
          0.5935908628148661,
          0.4385921425558207,
          0.34193483127853985,
          0,
          0,
          7.163594874001278,
          7.163594874001278,
          0.5935908628148661,
          0.5935908628148661,
          0.4385921425558207,
          0.4385921425558207,
          0.34193483127853985,
          0.34193483127853985
         ],
         "yaxis": "y"
        },
        {
         "alignmentgroup": "True",
         "hovertemplate": "task=1-gaussian_3.0<br>blockid_alpha=%{x}<br>normalized_epsilon=%{y}<extra></extra>",
         "legendgroup": "1-gaussian_3.0",
         "marker": {
          "color": "#B6E880",
          "pattern": {
           "shape": ""
          }
         },
         "name": "1-gaussian_3.0",
         "offsetgroup": "1-gaussian_3.0",
         "orientation": "v",
         "showlegend": true,
         "textposition": "auto",
         "type": "bar",
         "x": [
          "005-00",
          "005-03",
          "005-05",
          "005-08",
          "005-64",
          "006-00",
          "006-00",
          "006-03",
          "006-03",
          "006-05",
          "006-05",
          "006-08",
          "006-08",
          "006-64",
          "006-64",
          "007-00",
          "007-00",
          "007-03",
          "007-03",
          "007-05",
          "007-05",
          "007-08",
          "007-08",
          "007-64",
          "007-64",
          "008-00",
          "008-00",
          "008-03",
          "008-03",
          "008-05",
          "008-05",
          "008-08",
          "008-08",
          "008-64",
          "008-64",
          "010-00",
          "010-03",
          "010-05",
          "010-08",
          "010-64",
          "011-00",
          "011-03",
          "011-05",
          "011-08",
          "011-64",
          "012-00",
          "012-03",
          "012-05",
          "012-08",
          "012-64"
         ],
         "xaxis": "x",
         "y": [
          0,
          2.3616508380769323,
          0.3070641781446555,
          0.3521536043200231,
          2.1092192409076547,
          0,
          0,
          2.3616508380769323,
          2.3616508380769323,
          0.3070641781446555,
          0.3070641781446555,
          0.3521536043200231,
          0.3521536043200231,
          2.1092192409076547,
          2.1092192409076547,
          0,
          0,
          2.3616508380769323,
          2.3616508380769323,
          0.3070641781446555,
          0.3070641781446555,
          0.3521536043200231,
          0.3521536043200231,
          2.1092192409076547,
          2.1092192409076547,
          0,
          0,
          2.3616508380769323,
          2.3616508380769323,
          0.3070641781446555,
          0.3070641781446555,
          0.3521536043200231,
          0.3521536043200231,
          2.1092192409076547,
          2.1092192409076547,
          0,
          2.3616508380769323,
          0.3070641781446555,
          0.3521536043200231,
          2.1092192409076547,
          0,
          2.3616508380769323,
          0.3070641781446555,
          0.3521536043200231,
          2.1092192409076547,
          0,
          2.3616508380769323,
          0.3070641781446555,
          0.3521536043200231,
          2.1092192409076547
         ],
         "yaxis": "y"
        },
        {
         "alignmentgroup": "True",
         "hovertemplate": "task=1-gaussian_2.0<br>blockid_alpha=%{x}<br>normalized_epsilon=%{y}<extra></extra>",
         "legendgroup": "1-gaussian_2.0",
         "marker": {
          "color": "#FF97FF",
          "pattern": {
           "shape": ""
          }
         },
         "name": "1-gaussian_2.0",
         "offsetgroup": "1-gaussian_2.0",
         "orientation": "v",
         "showlegend": true,
         "textposition": "auto",
         "type": "bar",
         "x": [
          "006-00",
          "006-03",
          "006-05",
          "006-08",
          "006-64",
          "007-00",
          "007-00",
          "007-03",
          "007-03",
          "007-05",
          "007-05",
          "007-08",
          "007-08",
          "007-64",
          "007-64",
          "008-00",
          "008-00",
          "008-00",
          "008-00",
          "008-03",
          "008-03",
          "008-03",
          "008-03",
          "008-05",
          "008-05",
          "008-05",
          "008-05",
          "008-08",
          "008-08",
          "008-08",
          "008-08",
          "008-64",
          "008-64",
          "008-64",
          "008-64",
          "009-00",
          "009-03",
          "009-05",
          "009-08",
          "009-64",
          "011-00",
          "011-03",
          "011-05",
          "011-08",
          "011-64",
          "012-00",
          "012-00",
          "012-03",
          "012-03",
          "012-05",
          "012-05",
          "012-08",
          "012-08",
          "012-64",
          "012-64",
          "014-00",
          "014-03",
          "014-05",
          "014-08",
          "014-64"
         ],
         "xaxis": "x",
         "y": [
          0,
          1.0496225947008588,
          0.13647296806429132,
          0.15651271303112135,
          0.9374307737367353,
          0,
          0,
          1.0496225947008588,
          1.0496225947008588,
          0.13647296806429132,
          0.13647296806429132,
          0.15651271303112135,
          0.15651271303112135,
          0.9374307737367353,
          0.9374307737367353,
          0,
          0,
          0,
          0,
          1.0496225947008588,
          1.0496225947008588,
          1.0496225947008588,
          1.0496225947008588,
          0.13647296806429132,
          0.13647296806429132,
          0.13647296806429132,
          0.13647296806429132,
          0.15651271303112135,
          0.15651271303112135,
          0.15651271303112135,
          0.15651271303112135,
          0.9374307737367353,
          0.9374307737367353,
          0.9374307737367353,
          0.9374307737367353,
          0,
          1.0496225947008588,
          0.13647296806429132,
          0.15651271303112135,
          0.9374307737367353,
          0,
          1.0496225947008588,
          0.13647296806429132,
          0.15651271303112135,
          0.9374307737367353,
          0,
          0,
          1.0496225947008588,
          1.0496225947008588,
          0.13647296806429132,
          0.13647296806429132,
          0.15651271303112135,
          0.15651271303112135,
          0.9374307737367353,
          0.9374307737367353,
          0,
          1.0496225947008588,
          0.13647296806429132,
          0.15651271303112135,
          0.9374307737367353
         ],
         "yaxis": "y"
        },
        {
         "alignmentgroup": "True",
         "hovertemplate": "task=1-laplace_3.0<br>blockid_alpha=%{x}<br>normalized_epsilon=%{y}<extra></extra>",
         "legendgroup": "1-laplace_3.0",
         "marker": {
          "color": "#FECB52",
          "pattern": {
           "shape": ""
          }
         },
         "name": "1-laplace_3.0",
         "offsetgroup": "1-laplace_3.0",
         "orientation": "v",
         "showlegend": true,
         "textposition": "auto",
         "type": "bar",
         "x": [
          "006-00",
          "006-03",
          "006-05",
          "006-08",
          "006-64",
          "007-00",
          "007-00",
          "007-00",
          "007-03",
          "007-03",
          "007-03",
          "007-05",
          "007-05",
          "007-05",
          "007-08",
          "007-08",
          "007-08",
          "007-64",
          "007-64",
          "007-64",
          "008-00",
          "008-00",
          "008-03",
          "008-03",
          "008-05",
          "008-05",
          "008-08",
          "008-08",
          "008-64",
          "008-64",
          "009-00",
          "009-00",
          "009-03",
          "009-03",
          "009-05",
          "009-05",
          "009-08",
          "009-08",
          "009-64",
          "009-64"
         ],
         "xaxis": "x",
         "y": [
          0,
          11.269680891515618,
          0.9139220962511998,
          0.6681976428132131,
          0.5138372103185906,
          0,
          0,
          0,
          11.269680891515618,
          11.269680891515618,
          11.269680891515618,
          0.9139220962511998,
          0.9139220962511998,
          0.9139220962511998,
          0.6681976428132131,
          0.6681976428132131,
          0.6681976428132131,
          0.5138372103185906,
          0.5138372103185906,
          0.5138372103185906,
          0,
          0,
          11.269680891515618,
          11.269680891515618,
          0.9139220962511998,
          0.9139220962511998,
          0.6681976428132131,
          0.6681976428132131,
          0.5138372103185906,
          0.5138372103185906,
          0,
          0,
          11.269680891515618,
          11.269680891515618,
          0.9139220962511998,
          0.9139220962511998,
          0.6681976428132131,
          0.6681976428132131,
          0.5138372103185906,
          0.5138372103185906
         ],
         "yaxis": "y"
        },
        {
         "alignmentgroup": "True",
         "hovertemplate": "task=1-subsampled_gaussian_2.0<br>blockid_alpha=%{x}<br>normalized_epsilon=%{y}<extra></extra>",
         "legendgroup": "1-subsampled_gaussian_2.0",
         "marker": {
          "color": "#636efa",
          "pattern": {
           "shape": ""
          }
         },
         "name": "1-subsampled_gaussian_2.0",
         "offsetgroup": "1-subsampled_gaussian_2.0",
         "orientation": "v",
         "showlegend": true,
         "textposition": "auto",
         "type": "bar",
         "x": [
          "007-00",
          "007-03",
          "007-05",
          "007-08",
          "007-64",
          "009-00",
          "009-00",
          "009-03",
          "009-03",
          "009-05",
          "009-05",
          "009-08",
          "009-08",
          "009-64",
          "009-64",
          "010-00",
          "010-00",
          "010-03",
          "010-03",
          "010-05",
          "010-05",
          "010-08",
          "010-08",
          "010-64",
          "010-64",
          "013-00",
          "013-00",
          "013-00",
          "013-03",
          "013-03",
          "013-03",
          "013-05",
          "013-05",
          "013-05",
          "013-08",
          "013-08",
          "013-08",
          "013-64",
          "013-64",
          "013-64"
         ],
         "xaxis": "x",
         "y": [
          0,
          1.144683992913701,
          0.1506705215069613,
          0.1762147011874783,
          116776.00284542797,
          0,
          0,
          1.144683992913701,
          1.144683992913701,
          0.1506705215069613,
          0.1506705215069613,
          0.1762147011874783,
          0.1762147011874783,
          116776.00284542797,
          116776.00284542797,
          0,
          0,
          1.144683992913701,
          1.144683992913701,
          0.1506705215069613,
          0.1506705215069613,
          0.1762147011874783,
          0.1762147011874783,
          116776.00284542797,
          116776.00284542797,
          0,
          0,
          0,
          1.144683992913701,
          1.144683992913701,
          1.144683992913701,
          0.1506705215069613,
          0.1506705215069613,
          0.1506705215069613,
          0.1762147011874783,
          0.1762147011874783,
          0.1762147011874783,
          116776.00284542797,
          116776.00284542797,
          116776.00284542797
         ],
         "yaxis": "y"
        },
        {
         "alignmentgroup": "True",
         "hovertemplate": "task=1-subsampled_gaussian_3.0<br>blockid_alpha=%{x}<br>normalized_epsilon=%{y}<extra></extra>",
         "legendgroup": "1-subsampled_gaussian_3.0",
         "marker": {
          "color": "#EF553B",
          "pattern": {
           "shape": ""
          }
         },
         "name": "1-subsampled_gaussian_3.0",
         "offsetgroup": "1-subsampled_gaussian_3.0",
         "orientation": "v",
         "showlegend": true,
         "textposition": "auto",
         "type": "bar",
         "x": [
          "007-00",
          "007-00",
          "007-03",
          "007-03",
          "007-05",
          "007-05",
          "007-08",
          "007-08",
          "007-64",
          "007-64",
          "008-00",
          "008-03",
          "008-05",
          "008-08",
          "008-64",
          "010-00",
          "010-00",
          "010-03",
          "010-03",
          "010-05",
          "010-05",
          "010-08",
          "010-08",
          "010-64",
          "010-64",
          "013-00",
          "013-00",
          "013-03",
          "013-03",
          "013-05",
          "013-05",
          "013-08",
          "013-08",
          "013-64",
          "013-64"
         ],
         "xaxis": "x",
         "y": [
          0,
          0,
          2.3371803395374218,
          2.3371803395374218,
          0.3159693379699305,
          0.3159693379699305,
          2.2116779863073015,
          2.2116779863073015,
          186630.37408144632,
          186630.37408144632,
          0,
          2.3371803395374218,
          0.3159693379699305,
          2.2116779863073015,
          186630.37408144632,
          0,
          0,
          2.3371803395374218,
          2.3371803395374218,
          0.3159693379699305,
          0.3159693379699305,
          2.2116779863073015,
          2.2116779863073015,
          186630.37408144632,
          186630.37408144632,
          0,
          0,
          2.3371803395374218,
          2.3371803395374218,
          0.3159693379699305,
          0.3159693379699305,
          2.2116779863073015,
          2.2116779863073015,
          186630.37408144632,
          186630.37408144632
         ],
         "yaxis": "y"
        }
       ],
       "layout": {
        "autosize": true,
        "barmode": "relative",
        "legend": {
         "title": {
          "text": "task"
         },
         "tracegroupgap": 0
        },
        "template": {
         "data": {
          "bar": [
           {
            "error_x": {
             "color": "#2a3f5f"
            },
            "error_y": {
             "color": "#2a3f5f"
            },
            "marker": {
             "line": {
              "color": "#E5ECF6",
              "width": 0.5
             },
             "pattern": {
              "fillmode": "overlay",
              "size": 10,
              "solidity": 0.2
             }
            },
            "type": "bar"
           }
          ],
          "barpolar": [
           {
            "marker": {
             "line": {
              "color": "#E5ECF6",
              "width": 0.5
             },
             "pattern": {
              "fillmode": "overlay",
              "size": 10,
              "solidity": 0.2
             }
            },
            "type": "barpolar"
           }
          ],
          "carpet": [
           {
            "aaxis": {
             "endlinecolor": "#2a3f5f",
             "gridcolor": "white",
             "linecolor": "white",
             "minorgridcolor": "white",
             "startlinecolor": "#2a3f5f"
            },
            "baxis": {
             "endlinecolor": "#2a3f5f",
             "gridcolor": "white",
             "linecolor": "white",
             "minorgridcolor": "white",
             "startlinecolor": "#2a3f5f"
            },
            "type": "carpet"
           }
          ],
          "choropleth": [
           {
            "colorbar": {
             "outlinewidth": 0,
             "ticks": ""
            },
            "type": "choropleth"
           }
          ],
          "contour": [
           {
            "colorbar": {
             "outlinewidth": 0,
             "ticks": ""
            },
            "colorscale": [
             [
              0,
              "#0d0887"
             ],
             [
              0.1111111111111111,
              "#46039f"
             ],
             [
              0.2222222222222222,
              "#7201a8"
             ],
             [
              0.3333333333333333,
              "#9c179e"
             ],
             [
              0.4444444444444444,
              "#bd3786"
             ],
             [
              0.5555555555555556,
              "#d8576b"
             ],
             [
              0.6666666666666666,
              "#ed7953"
             ],
             [
              0.7777777777777778,
              "#fb9f3a"
             ],
             [
              0.8888888888888888,
              "#fdca26"
             ],
             [
              1,
              "#f0f921"
             ]
            ],
            "type": "contour"
           }
          ],
          "contourcarpet": [
           {
            "colorbar": {
             "outlinewidth": 0,
             "ticks": ""
            },
            "type": "contourcarpet"
           }
          ],
          "heatmap": [
           {
            "colorbar": {
             "outlinewidth": 0,
             "ticks": ""
            },
            "colorscale": [
             [
              0,
              "#0d0887"
             ],
             [
              0.1111111111111111,
              "#46039f"
             ],
             [
              0.2222222222222222,
              "#7201a8"
             ],
             [
              0.3333333333333333,
              "#9c179e"
             ],
             [
              0.4444444444444444,
              "#bd3786"
             ],
             [
              0.5555555555555556,
              "#d8576b"
             ],
             [
              0.6666666666666666,
              "#ed7953"
             ],
             [
              0.7777777777777778,
              "#fb9f3a"
             ],
             [
              0.8888888888888888,
              "#fdca26"
             ],
             [
              1,
              "#f0f921"
             ]
            ],
            "type": "heatmap"
           }
          ],
          "heatmapgl": [
           {
            "colorbar": {
             "outlinewidth": 0,
             "ticks": ""
            },
            "colorscale": [
             [
              0,
              "#0d0887"
             ],
             [
              0.1111111111111111,
              "#46039f"
             ],
             [
              0.2222222222222222,
              "#7201a8"
             ],
             [
              0.3333333333333333,
              "#9c179e"
             ],
             [
              0.4444444444444444,
              "#bd3786"
             ],
             [
              0.5555555555555556,
              "#d8576b"
             ],
             [
              0.6666666666666666,
              "#ed7953"
             ],
             [
              0.7777777777777778,
              "#fb9f3a"
             ],
             [
              0.8888888888888888,
              "#fdca26"
             ],
             [
              1,
              "#f0f921"
             ]
            ],
            "type": "heatmapgl"
           }
          ],
          "histogram": [
           {
            "marker": {
             "pattern": {
              "fillmode": "overlay",
              "size": 10,
              "solidity": 0.2
             }
            },
            "type": "histogram"
           }
          ],
          "histogram2d": [
           {
            "colorbar": {
             "outlinewidth": 0,
             "ticks": ""
            },
            "colorscale": [
             [
              0,
              "#0d0887"
             ],
             [
              0.1111111111111111,
              "#46039f"
             ],
             [
              0.2222222222222222,
              "#7201a8"
             ],
             [
              0.3333333333333333,
              "#9c179e"
             ],
             [
              0.4444444444444444,
              "#bd3786"
             ],
             [
              0.5555555555555556,
              "#d8576b"
             ],
             [
              0.6666666666666666,
              "#ed7953"
             ],
             [
              0.7777777777777778,
              "#fb9f3a"
             ],
             [
              0.8888888888888888,
              "#fdca26"
             ],
             [
              1,
              "#f0f921"
             ]
            ],
            "type": "histogram2d"
           }
          ],
          "histogram2dcontour": [
           {
            "colorbar": {
             "outlinewidth": 0,
             "ticks": ""
            },
            "colorscale": [
             [
              0,
              "#0d0887"
             ],
             [
              0.1111111111111111,
              "#46039f"
             ],
             [
              0.2222222222222222,
              "#7201a8"
             ],
             [
              0.3333333333333333,
              "#9c179e"
             ],
             [
              0.4444444444444444,
              "#bd3786"
             ],
             [
              0.5555555555555556,
              "#d8576b"
             ],
             [
              0.6666666666666666,
              "#ed7953"
             ],
             [
              0.7777777777777778,
              "#fb9f3a"
             ],
             [
              0.8888888888888888,
              "#fdca26"
             ],
             [
              1,
              "#f0f921"
             ]
            ],
            "type": "histogram2dcontour"
           }
          ],
          "mesh3d": [
           {
            "colorbar": {
             "outlinewidth": 0,
             "ticks": ""
            },
            "type": "mesh3d"
           }
          ],
          "parcoords": [
           {
            "line": {
             "colorbar": {
              "outlinewidth": 0,
              "ticks": ""
             }
            },
            "type": "parcoords"
           }
          ],
          "pie": [
           {
            "automargin": true,
            "type": "pie"
           }
          ],
          "scatter": [
           {
            "marker": {
             "colorbar": {
              "outlinewidth": 0,
              "ticks": ""
             }
            },
            "type": "scatter"
           }
          ],
          "scatter3d": [
           {
            "line": {
             "colorbar": {
              "outlinewidth": 0,
              "ticks": ""
             }
            },
            "marker": {
             "colorbar": {
              "outlinewidth": 0,
              "ticks": ""
             }
            },
            "type": "scatter3d"
           }
          ],
          "scattercarpet": [
           {
            "marker": {
             "colorbar": {
              "outlinewidth": 0,
              "ticks": ""
             }
            },
            "type": "scattercarpet"
           }
          ],
          "scattergeo": [
           {
            "marker": {
             "colorbar": {
              "outlinewidth": 0,
              "ticks": ""
             }
            },
            "type": "scattergeo"
           }
          ],
          "scattergl": [
           {
            "marker": {
             "colorbar": {
              "outlinewidth": 0,
              "ticks": ""
             }
            },
            "type": "scattergl"
           }
          ],
          "scattermapbox": [
           {
            "marker": {
             "colorbar": {
              "outlinewidth": 0,
              "ticks": ""
             }
            },
            "type": "scattermapbox"
           }
          ],
          "scatterpolar": [
           {
            "marker": {
             "colorbar": {
              "outlinewidth": 0,
              "ticks": ""
             }
            },
            "type": "scatterpolar"
           }
          ],
          "scatterpolargl": [
           {
            "marker": {
             "colorbar": {
              "outlinewidth": 0,
              "ticks": ""
             }
            },
            "type": "scatterpolargl"
           }
          ],
          "scatterternary": [
           {
            "marker": {
             "colorbar": {
              "outlinewidth": 0,
              "ticks": ""
             }
            },
            "type": "scatterternary"
           }
          ],
          "surface": [
           {
            "colorbar": {
             "outlinewidth": 0,
             "ticks": ""
            },
            "colorscale": [
             [
              0,
              "#0d0887"
             ],
             [
              0.1111111111111111,
              "#46039f"
             ],
             [
              0.2222222222222222,
              "#7201a8"
             ],
             [
              0.3333333333333333,
              "#9c179e"
             ],
             [
              0.4444444444444444,
              "#bd3786"
             ],
             [
              0.5555555555555556,
              "#d8576b"
             ],
             [
              0.6666666666666666,
              "#ed7953"
             ],
             [
              0.7777777777777778,
              "#fb9f3a"
             ],
             [
              0.8888888888888888,
              "#fdca26"
             ],
             [
              1,
              "#f0f921"
             ]
            ],
            "type": "surface"
           }
          ],
          "table": [
           {
            "cells": {
             "fill": {
              "color": "#EBF0F8"
             },
             "line": {
              "color": "white"
             }
            },
            "header": {
             "fill": {
              "color": "#C8D4E3"
             },
             "line": {
              "color": "white"
             }
            },
            "type": "table"
           }
          ]
         },
         "layout": {
          "annotationdefaults": {
           "arrowcolor": "#2a3f5f",
           "arrowhead": 0,
           "arrowwidth": 1
          },
          "autotypenumbers": "strict",
          "coloraxis": {
           "colorbar": {
            "outlinewidth": 0,
            "ticks": ""
           }
          },
          "colorscale": {
           "diverging": [
            [
             0,
             "#8e0152"
            ],
            [
             0.1,
             "#c51b7d"
            ],
            [
             0.2,
             "#de77ae"
            ],
            [
             0.3,
             "#f1b6da"
            ],
            [
             0.4,
             "#fde0ef"
            ],
            [
             0.5,
             "#f7f7f7"
            ],
            [
             0.6,
             "#e6f5d0"
            ],
            [
             0.7,
             "#b8e186"
            ],
            [
             0.8,
             "#7fbc41"
            ],
            [
             0.9,
             "#4d9221"
            ],
            [
             1,
             "#276419"
            ]
           ],
           "sequential": [
            [
             0,
             "#0d0887"
            ],
            [
             0.1111111111111111,
             "#46039f"
            ],
            [
             0.2222222222222222,
             "#7201a8"
            ],
            [
             0.3333333333333333,
             "#9c179e"
            ],
            [
             0.4444444444444444,
             "#bd3786"
            ],
            [
             0.5555555555555556,
             "#d8576b"
            ],
            [
             0.6666666666666666,
             "#ed7953"
            ],
            [
             0.7777777777777778,
             "#fb9f3a"
            ],
            [
             0.8888888888888888,
             "#fdca26"
            ],
            [
             1,
             "#f0f921"
            ]
           ],
           "sequentialminus": [
            [
             0,
             "#0d0887"
            ],
            [
             0.1111111111111111,
             "#46039f"
            ],
            [
             0.2222222222222222,
             "#7201a8"
            ],
            [
             0.3333333333333333,
             "#9c179e"
            ],
            [
             0.4444444444444444,
             "#bd3786"
            ],
            [
             0.5555555555555556,
             "#d8576b"
            ],
            [
             0.6666666666666666,
             "#ed7953"
            ],
            [
             0.7777777777777778,
             "#fb9f3a"
            ],
            [
             0.8888888888888888,
             "#fdca26"
            ],
            [
             1,
             "#f0f921"
            ]
           ]
          },
          "colorway": [
           "#636efa",
           "#EF553B",
           "#00cc96",
           "#ab63fa",
           "#FFA15A",
           "#19d3f3",
           "#FF6692",
           "#B6E880",
           "#FF97FF",
           "#FECB52"
          ],
          "font": {
           "color": "#2a3f5f"
          },
          "geo": {
           "bgcolor": "white",
           "lakecolor": "white",
           "landcolor": "#E5ECF6",
           "showlakes": true,
           "showland": true,
           "subunitcolor": "white"
          },
          "hoverlabel": {
           "align": "left"
          },
          "hovermode": "closest",
          "mapbox": {
           "style": "light"
          },
          "paper_bgcolor": "white",
          "plot_bgcolor": "#E5ECF6",
          "polar": {
           "angularaxis": {
            "gridcolor": "white",
            "linecolor": "white",
            "ticks": ""
           },
           "bgcolor": "#E5ECF6",
           "radialaxis": {
            "gridcolor": "white",
            "linecolor": "white",
            "ticks": ""
           }
          },
          "scene": {
           "xaxis": {
            "backgroundcolor": "#E5ECF6",
            "gridcolor": "white",
            "gridwidth": 2,
            "linecolor": "white",
            "showbackground": true,
            "ticks": "",
            "zerolinecolor": "white"
           },
           "yaxis": {
            "backgroundcolor": "#E5ECF6",
            "gridcolor": "white",
            "gridwidth": 2,
            "linecolor": "white",
            "showbackground": true,
            "ticks": "",
            "zerolinecolor": "white"
           },
           "zaxis": {
            "backgroundcolor": "#E5ECF6",
            "gridcolor": "white",
            "gridwidth": 2,
            "linecolor": "white",
            "showbackground": true,
            "ticks": "",
            "zerolinecolor": "white"
           }
          },
          "shapedefaults": {
           "line": {
            "color": "#2a3f5f"
           }
          },
          "ternary": {
           "aaxis": {
            "gridcolor": "white",
            "linecolor": "white",
            "ticks": ""
           },
           "baxis": {
            "gridcolor": "white",
            "linecolor": "white",
            "ticks": ""
           },
           "bgcolor": "#E5ECF6",
           "caxis": {
            "gridcolor": "white",
            "linecolor": "white",
            "ticks": ""
           }
          },
          "title": {
           "x": 0.05
          },
          "xaxis": {
           "automargin": true,
           "gridcolor": "white",
           "linecolor": "white",
           "ticks": "",
           "title": {
            "standoff": 15
           },
           "zerolinecolor": "white",
           "zerolinewidth": 2
          },
          "yaxis": {
           "automargin": true,
           "gridcolor": "white",
           "linecolor": "white",
           "ticks": "",
           "title": {
            "standoff": 15
           },
           "zerolinecolor": "white",
           "zerolinewidth": 2
          }
         }
        },
        "title": {
         "text": "All demands (workload)"
        },
        "xaxis": {
         "anchor": "y",
         "autorange": true,
         "domain": [
          0,
          1
         ],
         "range": [
          -0.5,
          69.5
         ],
         "title": {
          "text": "blockid_alpha"
         },
         "type": "category"
        },
        "yaxis": {
         "anchor": "x",
         "domain": [
          0,
          1
         ],
         "range": [
          0,
          20
         ],
         "title": {
          "text": "normalized_epsilon"
         },
         "type": "linear"
        }
       }
      },
      "image/png": "[encoded data removed]",
      "text/html": [
       "<div>                            <div id=\"67d2ee97-4acc-4ec0-b43a-7fcc8b80088f\" class=\"plotly-graph-div\" style=\"height:300px; width:100%;\"></div>            <script type=\"text/javascript\">                require([\"plotly\"], function(Plotly) {                    window.PLOTLYENV=window.PLOTLYENV || {};                                    if (document.getElementById(\"67d2ee97-4acc-4ec0-b43a-7fcc8b80088f\")) {                    Plotly.newPlot(                        \"67d2ee97-4acc-4ec0-b43a-7fcc8b80088f\",                        [{\"alignmentgroup\":\"True\",\"hovertemplate\":\"task=5-laplace_3.0<br>blockid_alpha=%{x}<br>normalized_epsilon=%{y}<extra></extra>\",\"legendgroup\":\"5-laplace_3.0\",\"marker\":{\"color\":\"#636efa\",\"pattern\":{\"shape\":\"\"}},\"name\":\"5-laplace_3.0\",\"offsetgroup\":\"5-laplace_3.0\",\"orientation\":\"v\",\"showlegend\":true,\"textposition\":\"auto\",\"type\":\"bar\",\"x\":[\"001-00\",\"001-03\",\"001-05\",\"001-08\",\"001-64\",\"002-00\",\"002-00\",\"002-03\",\"002-03\",\"002-05\",\"002-05\",\"002-08\",\"002-08\",\"002-64\",\"002-64\",\"003-00\",\"003-00\",\"003-00\",\"003-03\",\"003-03\",\"003-03\",\"003-05\",\"003-05\",\"003-05\",\"003-08\",\"003-08\",\"003-08\",\"003-64\",\"003-64\",\"003-64\",\"004-00\",\"004-00\",\"004-00\",\"004-03\",\"004-03\",\"004-03\",\"004-05\",\"004-05\",\"004-05\",\"004-08\",\"004-08\",\"004-08\",\"004-64\",\"004-64\",\"004-64\",\"005-00\",\"005-00\",\"005-00\",\"005-03\",\"005-03\",\"005-03\",\"005-05\",\"005-05\",\"005-05\",\"005-08\",\"005-08\",\"005-08\",\"005-64\",\"005-64\",\"005-64\",\"006-00\",\"006-00\",\"006-03\",\"006-03\",\"006-05\",\"006-05\",\"006-08\",\"006-08\",\"006-64\",\"006-64\",\"007-00\",\"007-00\",\"007-03\",\"007-03\",\"007-05\",\"007-05\",\"007-08\",\"007-08\",\"007-64\",\"007-64\",\"008-00\",\"008-03\",\"008-05\",\"008-08\",\"008-64\",\"009-00\",\"009-03\",\"009-05\",\"009-08\",\"009-64\",\"010-00\",\"010-03\",\"010-05\",\"010-08\",\"010-64\",\"011-00\",\"011-03\",\"011-05\",\"011-08\",\"011-64\"],\"xaxis\":\"x\",\"y\":[0.0,11.269680891515618,0.9139220962511998,0.6681976428132131,0.5138372103185906,0.0,0.0,11.269680891515618,11.269680891515618,0.9139220962511998,0.9139220962511998,0.6681976428132131,0.6681976428132131,0.5138372103185906,0.5138372103185906,0.0,0.0,0.0,11.269680891515618,11.269680891515618,11.269680891515618,0.9139220962511998,0.9139220962511998,0.9139220962511998,0.6681976428132131,0.6681976428132131,0.6681976428132131,0.5138372103185906,0.5138372103185906,0.5138372103185906,0.0,0.0,0.0,11.269680891515618,11.269680891515618,11.269680891515618,0.9139220962511998,0.9139220962511998,0.9139220962511998,0.6681976428132131,0.6681976428132131,0.6681976428132131,0.5138372103185906,0.5138372103185906,0.5138372103185906,0.0,0.0,0.0,11.269680891515618,11.269680891515618,11.269680891515618,0.9139220962511998,0.9139220962511998,0.9139220962511998,0.6681976428132131,0.6681976428132131,0.6681976428132131,0.5138372103185906,0.5138372103185906,0.5138372103185906,0.0,0.0,11.269680891515618,11.269680891515618,0.9139220962511998,0.9139220962511998,0.6681976428132131,0.6681976428132131,0.5138372103185906,0.5138372103185906,0.0,0.0,11.269680891515618,11.269680891515618,0.9139220962511998,0.9139220962511998,0.6681976428132131,0.6681976428132131,0.5138372103185906,0.5138372103185906,0.0,11.269680891515618,0.9139220962511998,0.6681976428132131,0.5138372103185906,0.0,11.269680891515618,0.9139220962511998,0.6681976428132131,0.5138372103185906,0.0,11.269680891515618,0.9139220962511998,0.6681976428132131,0.5138372103185906,0.0,11.269680891515618,0.9139220962511998,0.6681976428132131,0.5138372103185906],\"yaxis\":\"y\"},{\"alignmentgroup\":\"True\",\"hovertemplate\":\"task=5-gaussian_3.0<br>blockid_alpha=%{x}<br>normalized_epsilon=%{y}<extra></extra>\",\"legendgroup\":\"5-gaussian_3.0\",\"marker\":{\"color\":\"#EF553B\",\"pattern\":{\"shape\":\"\"}},\"name\":\"5-gaussian_3.0\",\"offsetgroup\":\"5-gaussian_3.0\",\"orientation\":\"v\",\"showlegend\":true,\"textposition\":\"auto\",\"type\":\"bar\",\"x\":[\"001-00\",\"001-03\",\"001-05\",\"001-08\",\"001-64\",\"002-00\",\"002-00\",\"002-03\",\"002-03\",\"002-05\",\"002-05\",\"002-08\",\"002-08\",\"002-64\",\"002-64\",\"003-00\",\"003-00\",\"003-03\",\"003-03\",\"003-05\",\"003-05\",\"003-08\",\"003-08\",\"003-64\",\"003-64\",\"004-00\",\"004-00\",\"004-00\",\"004-03\",\"004-03\",\"004-03\",\"004-05\",\"004-05\",\"004-05\",\"004-08\",\"004-08\",\"004-08\",\"004-64\",\"004-64\",\"004-64\",\"005-00\",\"005-00\",\"005-00\",\"005-03\",\"005-03\",\"005-03\",\"005-05\",\"005-05\",\"005-05\",\"005-08\",\"005-08\",\"005-08\",\"005-64\",\"005-64\",\"005-64\",\"006-00\",\"006-00\",\"006-03\",\"006-03\",\"006-05\",\"006-05\",\"006-08\",\"006-08\",\"006-64\",\"006-64\",\"007-00\",\"007-00\",\"007-00\",\"007-03\",\"007-03\",\"007-03\",\"007-05\",\"007-05\",\"007-05\",\"007-08\",\"007-08\",\"007-08\",\"007-64\",\"007-64\",\"007-64\",\"008-00\",\"008-00\",\"008-00\",\"008-00\",\"008-03\",\"008-03\",\"008-03\",\"008-03\",\"008-05\",\"008-05\",\"008-05\",\"008-05\",\"008-08\",\"008-08\",\"008-08\",\"008-08\",\"008-64\",\"008-64\",\"008-64\",\"008-64\",\"009-00\",\"009-00\",\"009-00\",\"009-03\",\"009-03\",\"009-03\",\"009-05\",\"009-05\",\"009-05\",\"009-08\",\"009-08\",\"009-08\",\"009-64\",\"009-64\",\"009-64\",\"010-00\",\"010-00\",\"010-00\",\"010-00\",\"010-03\",\"010-03\",\"010-03\",\"010-03\",\"010-05\",\"010-05\",\"010-05\",\"010-05\",\"010-08\",\"010-08\",\"010-08\",\"010-08\",\"010-64\",\"010-64\",\"010-64\",\"010-64\",\"011-00\",\"011-00\",\"011-00\",\"011-00\",\"011-03\",\"011-03\",\"011-03\",\"011-03\",\"011-05\",\"011-05\",\"011-05\",\"011-05\",\"011-08\",\"011-08\",\"011-08\",\"011-08\",\"011-64\",\"011-64\",\"011-64\",\"011-64\",\"012-00\",\"012-00\",\"012-03\",\"012-03\",\"012-05\",\"012-05\",\"012-08\",\"012-08\",\"012-64\",\"012-64\",\"013-00\",\"013-03\",\"013-05\",\"013-08\",\"013-64\",\"014-00\",\"014-03\",\"014-05\",\"014-08\",\"014-64\"],\"xaxis\":\"x\",\"y\":[0.0,2.3616508380769323,0.3070641781446555,0.3521536043200231,2.1092192409076547,0.0,0.0,2.3616508380769323,2.3616508380769323,0.3070641781446555,0.3070641781446555,0.3521536043200231,0.3521536043200231,2.1092192409076547,2.1092192409076547,0.0,0.0,2.3616508380769323,2.3616508380769323,0.3070641781446555,0.3070641781446555,0.3521536043200231,0.3521536043200231,2.1092192409076547,2.1092192409076547,0.0,0.0,0.0,2.3616508380769323,2.3616508380769323,2.3616508380769323,0.3070641781446555,0.3070641781446555,0.3070641781446555,0.3521536043200231,0.3521536043200231,0.3521536043200231,2.1092192409076547,2.1092192409076547,2.1092192409076547,0.0,0.0,0.0,2.3616508380769323,2.3616508380769323,2.3616508380769323,0.3070641781446555,0.3070641781446555,0.3070641781446555,0.3521536043200231,0.3521536043200231,0.3521536043200231,2.1092192409076547,2.1092192409076547,2.1092192409076547,0.0,0.0,2.3616508380769323,2.3616508380769323,0.3070641781446555,0.3070641781446555,0.3521536043200231,0.3521536043200231,2.1092192409076547,2.1092192409076547,0.0,0.0,0.0,2.3616508380769323,2.3616508380769323,2.3616508380769323,0.3070641781446555,0.3070641781446555,0.3070641781446555,0.3521536043200231,0.3521536043200231,0.3521536043200231,2.1092192409076547,2.1092192409076547,2.1092192409076547,0.0,0.0,0.0,0.0,2.3616508380769323,2.3616508380769323,2.3616508380769323,2.3616508380769323,0.3070641781446555,0.3070641781446555,0.3070641781446555,0.3070641781446555,0.3521536043200231,0.3521536043200231,0.3521536043200231,0.3521536043200231,2.1092192409076547,2.1092192409076547,2.1092192409076547,2.1092192409076547,0.0,0.0,0.0,2.3616508380769323,2.3616508380769323,2.3616508380769323,0.3070641781446555,0.3070641781446555,0.3070641781446555,0.3521536043200231,0.3521536043200231,0.3521536043200231,2.1092192409076547,2.1092192409076547,2.1092192409076547,0.0,0.0,0.0,0.0,2.3616508380769323,2.3616508380769323,2.3616508380769323,2.3616508380769323,0.3070641781446555,0.3070641781446555,0.3070641781446555,0.3070641781446555,0.3521536043200231,0.3521536043200231,0.3521536043200231,0.3521536043200231,2.1092192409076547,2.1092192409076547,2.1092192409076547,2.1092192409076547,0.0,0.0,0.0,0.0,2.3616508380769323,2.3616508380769323,2.3616508380769323,2.3616508380769323,0.3070641781446555,0.3070641781446555,0.3070641781446555,0.3070641781446555,0.3521536043200231,0.3521536043200231,0.3521536043200231,0.3521536043200231,2.1092192409076547,2.1092192409076547,2.1092192409076547,2.1092192409076547,0.0,0.0,2.3616508380769323,2.3616508380769323,0.3070641781446555,0.3070641781446555,0.3521536043200231,0.3521536043200231,2.1092192409076547,2.1092192409076547,0.0,2.3616508380769323,0.3070641781446555,0.3521536043200231,2.1092192409076547,0.0,2.3616508380769323,0.3070641781446555,0.3521536043200231,2.1092192409076547],\"yaxis\":\"y\"},{\"alignmentgroup\":\"True\",\"hovertemplate\":\"task=5-subsampled_gaussian_2.0<br>blockid_alpha=%{x}<br>normalized_epsilon=%{y}<extra></extra>\",\"legendgroup\":\"5-subsampled_gaussian_2.0\",\"marker\":{\"color\":\"#00cc96\",\"pattern\":{\"shape\":\"\"}},\"name\":\"5-subsampled_gaussian_2.0\",\"offsetgroup\":\"5-subsampled_gaussian_2.0\",\"orientation\":\"v\",\"showlegend\":true,\"textposition\":\"auto\",\"type\":\"bar\",\"x\":[\"001-00\",\"001-03\",\"001-05\",\"001-08\",\"001-64\",\"002-00\",\"002-03\",\"002-05\",\"002-08\",\"002-64\",\"003-00\",\"003-03\",\"003-05\",\"003-08\",\"003-64\",\"004-00\",\"004-00\",\"004-00\",\"004-03\",\"004-03\",\"004-03\",\"004-05\",\"004-05\",\"004-05\",\"004-08\",\"004-08\",\"004-08\",\"004-64\",\"004-64\",\"004-64\",\"005-00\",\"005-00\",\"005-00\",\"005-03\",\"005-03\",\"005-03\",\"005-05\",\"005-05\",\"005-05\",\"005-08\",\"005-08\",\"005-08\",\"005-64\",\"005-64\",\"005-64\",\"006-00\",\"006-00\",\"006-00\",\"006-03\",\"006-03\",\"006-03\",\"006-05\",\"006-05\",\"006-05\",\"006-08\",\"006-08\",\"006-08\",\"006-64\",\"006-64\",\"006-64\",\"007-00\",\"007-00\",\"007-00\",\"007-03\",\"007-03\",\"007-03\",\"007-05\",\"007-05\",\"007-05\",\"007-08\",\"007-08\",\"007-08\",\"007-64\",\"007-64\",\"007-64\",\"008-00\",\"008-00\",\"008-00\",\"008-03\",\"008-03\",\"008-03\",\"008-05\",\"008-05\",\"008-05\",\"008-08\",\"008-08\",\"008-08\",\"008-64\",\"008-64\",\"008-64\",\"009-00\",\"009-00\",\"009-00\",\"009-00\",\"009-03\",\"009-03\",\"009-03\",\"009-03\",\"009-05\",\"009-05\",\"009-05\",\"009-05\",\"009-08\",\"009-08\",\"009-08\",\"009-08\",\"009-64\",\"009-64\",\"009-64\",\"009-64\",\"010-00\",\"010-00\",\"010-00\",\"010-00\",\"010-00\",\"010-00\",\"010-03\",\"010-03\",\"010-03\",\"010-03\",\"010-03\",\"010-03\",\"010-05\",\"010-05\",\"010-05\",\"010-05\",\"010-05\",\"010-05\",\"010-08\",\"010-08\",\"010-08\",\"010-08\",\"010-08\",\"010-08\",\"010-64\",\"010-64\",\"010-64\",\"010-64\",\"010-64\",\"010-64\",\"011-00\",\"011-00\",\"011-00\",\"011-00\",\"011-00\",\"011-03\",\"011-03\",\"011-03\",\"011-03\",\"011-03\",\"011-05\",\"011-05\",\"011-05\",\"011-05\",\"011-05\",\"011-08\",\"011-08\",\"011-08\",\"011-08\",\"011-08\",\"011-64\",\"011-64\",\"011-64\",\"011-64\",\"011-64\",\"012-00\",\"012-00\",\"012-00\",\"012-00\",\"012-00\",\"012-03\",\"012-03\",\"012-03\",\"012-03\",\"012-03\",\"012-05\",\"012-05\",\"012-05\",\"012-05\",\"012-05\",\"012-08\",\"012-08\",\"012-08\",\"012-08\",\"012-08\",\"012-64\",\"012-64\",\"012-64\",\"012-64\",\"012-64\",\"013-00\",\"013-00\",\"013-00\",\"013-00\",\"013-00\",\"013-03\",\"013-03\",\"013-03\",\"013-03\",\"013-03\",\"013-05\",\"013-05\",\"013-05\",\"013-05\",\"013-05\",\"013-08\",\"013-08\",\"013-08\",\"013-08\",\"013-08\",\"013-64\",\"013-64\",\"013-64\",\"013-64\",\"013-64\",\"014-00\",\"014-00\",\"014-03\",\"014-03\",\"014-05\",\"014-05\",\"014-08\",\"014-08\",\"014-64\",\"014-64\"],\"xaxis\":\"x\",\"y\":[0.0,1.144683992913701,0.1506705215069613,0.1762147011874783,116776.00284542797,0.0,1.144683992913701,0.1506705215069613,0.1762147011874783,116776.00284542797,0.0,1.144683992913701,0.1506705215069613,0.1762147011874783,116776.00284542797,0.0,0.0,0.0,1.144683992913701,1.144683992913701,1.144683992913701,0.1506705215069613,0.1506705215069613,0.1506705215069613,0.1762147011874783,0.1762147011874783,0.1762147011874783,116776.00284542797,116776.00284542797,116776.00284542797,0.0,0.0,0.0,1.144683992913701,1.144683992913701,1.144683992913701,0.1506705215069613,0.1506705215069613,0.1506705215069613,0.1762147011874783,0.1762147011874783,0.1762147011874783,116776.00284542797,116776.00284542797,116776.00284542797,0.0,0.0,0.0,1.144683992913701,1.144683992913701,1.144683992913701,0.1506705215069613,0.1506705215069613,0.1506705215069613,0.1762147011874783,0.1762147011874783,0.1762147011874783,116776.00284542797,116776.00284542797,116776.00284542797,0.0,0.0,0.0,1.144683992913701,1.144683992913701,1.144683992913701,0.1506705215069613,0.1506705215069613,0.1506705215069613,0.1762147011874783,0.1762147011874783,0.1762147011874783,116776.00284542797,116776.00284542797,116776.00284542797,0.0,0.0,0.0,1.144683992913701,1.144683992913701,1.144683992913701,0.1506705215069613,0.1506705215069613,0.1506705215069613,0.1762147011874783,0.1762147011874783,0.1762147011874783,116776.00284542797,116776.00284542797,116776.00284542797,0.0,0.0,0.0,0.0,1.144683992913701,1.144683992913701,1.144683992913701,1.144683992913701,0.1506705215069613,0.1506705215069613,0.1506705215069613,0.1506705215069613,0.1762147011874783,0.1762147011874783,0.1762147011874783,0.1762147011874783,116776.00284542797,116776.00284542797,116776.00284542797,116776.00284542797,0.0,0.0,0.0,0.0,0.0,0.0,1.144683992913701,1.144683992913701,1.144683992913701,1.144683992913701,1.144683992913701,1.144683992913701,0.1506705215069613,0.1506705215069613,0.1506705215069613,0.1506705215069613,0.1506705215069613,0.1506705215069613,0.1762147011874783,0.1762147011874783,0.1762147011874783,0.1762147011874783,0.1762147011874783,0.1762147011874783,116776.00284542797,116776.00284542797,116776.00284542797,116776.00284542797,116776.00284542797,116776.00284542797,0.0,0.0,0.0,0.0,0.0,1.144683992913701,1.144683992913701,1.144683992913701,1.144683992913701,1.144683992913701,0.1506705215069613,0.1506705215069613,0.1506705215069613,0.1506705215069613,0.1506705215069613,0.1762147011874783,0.1762147011874783,0.1762147011874783,0.1762147011874783,0.1762147011874783,116776.00284542797,116776.00284542797,116776.00284542797,116776.00284542797,116776.00284542797,0.0,0.0,0.0,0.0,0.0,1.144683992913701,1.144683992913701,1.144683992913701,1.144683992913701,1.144683992913701,0.1506705215069613,0.1506705215069613,0.1506705215069613,0.1506705215069613,0.1506705215069613,0.1762147011874783,0.1762147011874783,0.1762147011874783,0.1762147011874783,0.1762147011874783,116776.00284542797,116776.00284542797,116776.00284542797,116776.00284542797,116776.00284542797,0.0,0.0,0.0,0.0,0.0,1.144683992913701,1.144683992913701,1.144683992913701,1.144683992913701,1.144683992913701,0.1506705215069613,0.1506705215069613,0.1506705215069613,0.1506705215069613,0.1506705215069613,0.1762147011874783,0.1762147011874783,0.1762147011874783,0.1762147011874783,0.1762147011874783,116776.00284542797,116776.00284542797,116776.00284542797,116776.00284542797,116776.00284542797,0.0,0.0,1.144683992913701,1.144683992913701,0.1506705215069613,0.1506705215069613,0.1762147011874783,0.1762147011874783,116776.00284542797,116776.00284542797],\"yaxis\":\"y\"},{\"alignmentgroup\":\"True\",\"hovertemplate\":\"task=5-gaussian_2.0<br>blockid_alpha=%{x}<br>normalized_epsilon=%{y}<extra></extra>\",\"legendgroup\":\"5-gaussian_2.0\",\"marker\":{\"color\":\"#ab63fa\",\"pattern\":{\"shape\":\"\"}},\"name\":\"5-gaussian_2.0\",\"offsetgroup\":\"5-gaussian_2.0\",\"orientation\":\"v\",\"showlegend\":true,\"textposition\":\"auto\",\"type\":\"bar\",\"x\":[\"001-00\",\"001-03\",\"001-05\",\"001-08\",\"001-64\",\"002-00\",\"002-03\",\"002-05\",\"002-08\",\"002-64\",\"003-00\",\"003-00\",\"003-00\",\"003-03\",\"003-03\",\"003-03\",\"003-05\",\"003-05\",\"003-05\",\"003-08\",\"003-08\",\"003-08\",\"003-64\",\"003-64\",\"003-64\",\"004-00\",\"004-00\",\"004-00\",\"004-00\",\"004-03\",\"004-03\",\"004-03\",\"004-03\",\"004-05\",\"004-05\",\"004-05\",\"004-05\",\"004-08\",\"004-08\",\"004-08\",\"004-08\",\"004-64\",\"004-64\",\"004-64\",\"004-64\",\"005-00\",\"005-00\",\"005-00\",\"005-00\",\"005-03\",\"005-03\",\"005-03\",\"005-03\",\"005-05\",\"005-05\",\"005-05\",\"005-05\",\"005-08\",\"005-08\",\"005-08\",\"005-08\",\"005-64\",\"005-64\",\"005-64\",\"005-64\",\"006-00\",\"006-00\",\"006-00\",\"006-00\",\"006-03\",\"006-03\",\"006-03\",\"006-03\",\"006-05\",\"006-05\",\"006-05\",\"006-05\",\"006-08\",\"006-08\",\"006-08\",\"006-08\",\"006-64\",\"006-64\",\"006-64\",\"006-64\",\"007-00\",\"007-00\",\"007-00\",\"007-00\",\"007-03\",\"007-03\",\"007-03\",\"007-03\",\"007-05\",\"007-05\",\"007-05\",\"007-05\",\"007-08\",\"007-08\",\"007-08\",\"007-08\",\"007-64\",\"007-64\",\"007-64\",\"007-64\",\"008-00\",\"008-00\",\"008-03\",\"008-03\",\"008-05\",\"008-05\",\"008-08\",\"008-08\",\"008-64\",\"008-64\",\"009-00\",\"009-00\",\"009-03\",\"009-03\",\"009-05\",\"009-05\",\"009-08\",\"009-08\",\"009-64\",\"009-64\",\"010-00\",\"010-00\",\"010-00\",\"010-03\",\"010-03\",\"010-03\",\"010-05\",\"010-05\",\"010-05\",\"010-08\",\"010-08\",\"010-08\",\"010-64\",\"010-64\",\"010-64\",\"011-00\",\"011-00\",\"011-03\",\"011-03\",\"011-05\",\"011-05\",\"011-08\",\"011-08\",\"011-64\",\"011-64\",\"012-00\",\"012-00\",\"012-03\",\"012-03\",\"012-05\",\"012-05\",\"012-08\",\"012-08\",\"012-64\",\"012-64\",\"013-00\",\"013-00\",\"013-03\",\"013-03\",\"013-05\",\"013-05\",\"013-08\",\"013-08\",\"013-64\",\"013-64\",\"014-00\",\"014-03\",\"014-05\",\"014-08\",\"014-64\"],\"xaxis\":\"x\",\"y\":[0.0,1.0496225947008588,0.13647296806429132,0.15651271303112135,0.9374307737367353,0.0,1.0496225947008588,0.13647296806429132,0.15651271303112135,0.9374307737367353,0.0,0.0,0.0,1.0496225947008588,1.0496225947008588,1.0496225947008588,0.13647296806429132,0.13647296806429132,0.13647296806429132,0.15651271303112135,0.15651271303112135,0.15651271303112135,0.9374307737367353,0.9374307737367353,0.9374307737367353,0.0,0.0,0.0,0.0,1.0496225947008588,1.0496225947008588,1.0496225947008588,1.0496225947008588,0.13647296806429132,0.13647296806429132,0.13647296806429132,0.13647296806429132,0.15651271303112135,0.15651271303112135,0.15651271303112135,0.15651271303112135,0.9374307737367353,0.9374307737367353,0.9374307737367353,0.9374307737367353,0.0,0.0,0.0,0.0,1.0496225947008588,1.0496225947008588,1.0496225947008588,1.0496225947008588,0.13647296806429132,0.13647296806429132,0.13647296806429132,0.13647296806429132,0.15651271303112135,0.15651271303112135,0.15651271303112135,0.15651271303112135,0.9374307737367353,0.9374307737367353,0.9374307737367353,0.9374307737367353,0.0,0.0,0.0,0.0,1.0496225947008588,1.0496225947008588,1.0496225947008588,1.0496225947008588,0.13647296806429132,0.13647296806429132,0.13647296806429132,0.13647296806429132,0.15651271303112135,0.15651271303112135,0.15651271303112135,0.15651271303112135,0.9374307737367353,0.9374307737367353,0.9374307737367353,0.9374307737367353,0.0,0.0,0.0,0.0,1.0496225947008588,1.0496225947008588,1.0496225947008588,1.0496225947008588,0.13647296806429132,0.13647296806429132,0.13647296806429132,0.13647296806429132,0.15651271303112135,0.15651271303112135,0.15651271303112135,0.15651271303112135,0.9374307737367353,0.9374307737367353,0.9374307737367353,0.9374307737367353,0.0,0.0,1.0496225947008588,1.0496225947008588,0.13647296806429132,0.13647296806429132,0.15651271303112135,0.15651271303112135,0.9374307737367353,0.9374307737367353,0.0,0.0,1.0496225947008588,1.0496225947008588,0.13647296806429132,0.13647296806429132,0.15651271303112135,0.15651271303112135,0.9374307737367353,0.9374307737367353,0.0,0.0,0.0,1.0496225947008588,1.0496225947008588,1.0496225947008588,0.13647296806429132,0.13647296806429132,0.13647296806429132,0.15651271303112135,0.15651271303112135,0.15651271303112135,0.9374307737367353,0.9374307737367353,0.9374307737367353,0.0,0.0,1.0496225947008588,1.0496225947008588,0.13647296806429132,0.13647296806429132,0.15651271303112135,0.15651271303112135,0.9374307737367353,0.9374307737367353,0.0,0.0,1.0496225947008588,1.0496225947008588,0.13647296806429132,0.13647296806429132,0.15651271303112135,0.15651271303112135,0.9374307737367353,0.9374307737367353,0.0,0.0,1.0496225947008588,1.0496225947008588,0.13647296806429132,0.13647296806429132,0.15651271303112135,0.15651271303112135,0.9374307737367353,0.9374307737367353,0.0,1.0496225947008588,0.13647296806429132,0.15651271303112135,0.9374307737367353],\"yaxis\":\"y\"},{\"alignmentgroup\":\"True\",\"hovertemplate\":\"task=5-laplace_2.0<br>blockid_alpha=%{x}<br>normalized_epsilon=%{y}<extra></extra>\",\"legendgroup\":\"5-laplace_2.0\",\"marker\":{\"color\":\"#FFA15A\",\"pattern\":{\"shape\":\"\"}},\"name\":\"5-laplace_2.0\",\"offsetgroup\":\"5-laplace_2.0\",\"orientation\":\"v\",\"showlegend\":true,\"textposition\":\"auto\",\"type\":\"bar\",\"x\":[\"001-00\",\"001-03\",\"001-05\",\"001-08\",\"001-64\",\"002-00\",\"002-00\",\"002-03\",\"002-03\",\"002-05\",\"002-05\",\"002-08\",\"002-08\",\"002-64\",\"002-64\",\"003-00\",\"003-00\",\"003-00\",\"003-00\",\"003-03\",\"003-03\",\"003-03\",\"003-03\",\"003-05\",\"003-05\",\"003-05\",\"003-05\",\"003-08\",\"003-08\",\"003-08\",\"003-08\",\"003-64\",\"003-64\",\"003-64\",\"003-64\",\"004-00\",\"004-00\",\"004-00\",\"004-00\",\"004-03\",\"004-03\",\"004-03\",\"004-03\",\"004-05\",\"004-05\",\"004-05\",\"004-05\",\"004-08\",\"004-08\",\"004-08\",\"004-08\",\"004-64\",\"004-64\",\"004-64\",\"004-64\",\"005-00\",\"005-00\",\"005-00\",\"005-00\",\"005-00\",\"005-03\",\"005-03\",\"005-03\",\"005-03\",\"005-03\",\"005-05\",\"005-05\",\"005-05\",\"005-05\",\"005-05\",\"005-08\",\"005-08\",\"005-08\",\"005-08\",\"005-08\",\"005-64\",\"005-64\",\"005-64\",\"005-64\",\"005-64\",\"006-00\",\"006-00\",\"006-00\",\"006-00\",\"006-00\",\"006-03\",\"006-03\",\"006-03\",\"006-03\",\"006-03\",\"006-05\",\"006-05\",\"006-05\",\"006-05\",\"006-05\",\"006-08\",\"006-08\",\"006-08\",\"006-08\",\"006-08\",\"006-64\",\"006-64\",\"006-64\",\"006-64\",\"006-64\",\"007-00\",\"007-00\",\"007-00\",\"007-00\",\"007-00\",\"007-03\",\"007-03\",\"007-03\",\"007-03\",\"007-03\",\"007-05\",\"007-05\",\"007-05\",\"007-05\",\"007-05\",\"007-08\",\"007-08\",\"007-08\",\"007-08\",\"007-08\",\"007-64\",\"007-64\",\"007-64\",\"007-64\",\"007-64\",\"008-00\",\"008-00\",\"008-00\",\"008-00\",\"008-03\",\"008-03\",\"008-03\",\"008-03\",\"008-05\",\"008-05\",\"008-05\",\"008-05\",\"008-08\",\"008-08\",\"008-08\",\"008-08\",\"008-64\",\"008-64\",\"008-64\",\"008-64\",\"009-00\",\"009-00\",\"009-00\",\"009-00\",\"009-00\",\"009-03\",\"009-03\",\"009-03\",\"009-03\",\"009-03\",\"009-05\",\"009-05\",\"009-05\",\"009-05\",\"009-05\",\"009-08\",\"009-08\",\"009-08\",\"009-08\",\"009-08\",\"009-64\",\"009-64\",\"009-64\",\"009-64\",\"009-64\",\"010-00\",\"010-00\",\"010-00\",\"010-00\",\"010-03\",\"010-03\",\"010-03\",\"010-03\",\"010-05\",\"010-05\",\"010-05\",\"010-05\",\"010-08\",\"010-08\",\"010-08\",\"010-08\",\"010-64\",\"010-64\",\"010-64\",\"010-64\",\"011-00\",\"011-00\",\"011-00\",\"011-03\",\"011-03\",\"011-03\",\"011-05\",\"011-05\",\"011-05\",\"011-08\",\"011-08\",\"011-08\",\"011-64\",\"011-64\",\"011-64\",\"012-00\",\"012-00\",\"012-03\",\"012-03\",\"012-05\",\"012-05\",\"012-08\",\"012-08\",\"012-64\",\"012-64\",\"013-00\",\"013-03\",\"013-05\",\"013-08\",\"013-64\"],\"xaxis\":\"x\",\"y\":[0.0,7.163594874001278,0.5935908628148661,0.4385921425558207,0.34193483127853985,0.0,0.0,7.163594874001278,7.163594874001278,0.5935908628148661,0.5935908628148661,0.4385921425558207,0.4385921425558207,0.34193483127853985,0.34193483127853985,0.0,0.0,0.0,0.0,7.163594874001278,7.163594874001278,7.163594874001278,7.163594874001278,0.5935908628148661,0.5935908628148661,0.5935908628148661,0.5935908628148661,0.4385921425558207,0.4385921425558207,0.4385921425558207,0.4385921425558207,0.34193483127853985,0.34193483127853985,0.34193483127853985,0.34193483127853985,0.0,0.0,0.0,0.0,7.163594874001278,7.163594874001278,7.163594874001278,7.163594874001278,0.5935908628148661,0.5935908628148661,0.5935908628148661,0.5935908628148661,0.4385921425558207,0.4385921425558207,0.4385921425558207,0.4385921425558207,0.34193483127853985,0.34193483127853985,0.34193483127853985,0.34193483127853985,0.0,0.0,0.0,0.0,0.0,7.163594874001278,7.163594874001278,7.163594874001278,7.163594874001278,7.163594874001278,0.5935908628148661,0.5935908628148661,0.5935908628148661,0.5935908628148661,0.5935908628148661,0.4385921425558207,0.4385921425558207,0.4385921425558207,0.4385921425558207,0.4385921425558207,0.34193483127853985,0.34193483127853985,0.34193483127853985,0.34193483127853985,0.34193483127853985,0.0,0.0,0.0,0.0,0.0,7.163594874001278,7.163594874001278,7.163594874001278,7.163594874001278,7.163594874001278,0.5935908628148661,0.5935908628148661,0.5935908628148661,0.5935908628148661,0.5935908628148661,0.4385921425558207,0.4385921425558207,0.4385921425558207,0.4385921425558207,0.4385921425558207,0.34193483127853985,0.34193483127853985,0.34193483127853985,0.34193483127853985,0.34193483127853985,0.0,0.0,0.0,0.0,0.0,7.163594874001278,7.163594874001278,7.163594874001278,7.163594874001278,7.163594874001278,0.5935908628148661,0.5935908628148661,0.5935908628148661,0.5935908628148661,0.5935908628148661,0.4385921425558207,0.4385921425558207,0.4385921425558207,0.4385921425558207,0.4385921425558207,0.34193483127853985,0.34193483127853985,0.34193483127853985,0.34193483127853985,0.34193483127853985,0.0,0.0,0.0,0.0,7.163594874001278,7.163594874001278,7.163594874001278,7.163594874001278,0.5935908628148661,0.5935908628148661,0.5935908628148661,0.5935908628148661,0.4385921425558207,0.4385921425558207,0.4385921425558207,0.4385921425558207,0.34193483127853985,0.34193483127853985,0.34193483127853985,0.34193483127853985,0.0,0.0,0.0,0.0,0.0,7.163594874001278,7.163594874001278,7.163594874001278,7.163594874001278,7.163594874001278,0.5935908628148661,0.5935908628148661,0.5935908628148661,0.5935908628148661,0.5935908628148661,0.4385921425558207,0.4385921425558207,0.4385921425558207,0.4385921425558207,0.4385921425558207,0.34193483127853985,0.34193483127853985,0.34193483127853985,0.34193483127853985,0.34193483127853985,0.0,0.0,0.0,0.0,7.163594874001278,7.163594874001278,7.163594874001278,7.163594874001278,0.5935908628148661,0.5935908628148661,0.5935908628148661,0.5935908628148661,0.4385921425558207,0.4385921425558207,0.4385921425558207,0.4385921425558207,0.34193483127853985,0.34193483127853985,0.34193483127853985,0.34193483127853985,0.0,0.0,0.0,7.163594874001278,7.163594874001278,7.163594874001278,0.5935908628148661,0.5935908628148661,0.5935908628148661,0.4385921425558207,0.4385921425558207,0.4385921425558207,0.34193483127853985,0.34193483127853985,0.34193483127853985,0.0,0.0,7.163594874001278,7.163594874001278,0.5935908628148661,0.5935908628148661,0.4385921425558207,0.4385921425558207,0.34193483127853985,0.34193483127853985,0.0,7.163594874001278,0.5935908628148661,0.4385921425558207,0.34193483127853985],\"yaxis\":\"y\"},{\"alignmentgroup\":\"True\",\"hovertemplate\":\"task=5-subsampled_gaussian_3.0<br>blockid_alpha=%{x}<br>normalized_epsilon=%{y}<extra></extra>\",\"legendgroup\":\"5-subsampled_gaussian_3.0\",\"marker\":{\"color\":\"#19d3f3\",\"pattern\":{\"shape\":\"\"}},\"name\":\"5-subsampled_gaussian_3.0\",\"offsetgroup\":\"5-subsampled_gaussian_3.0\",\"orientation\":\"v\",\"showlegend\":true,\"textposition\":\"auto\",\"type\":\"bar\",\"x\":[\"002-00\",\"002-03\",\"002-05\",\"002-08\",\"002-64\",\"003-00\",\"003-00\",\"003-00\",\"003-03\",\"003-03\",\"003-03\",\"003-05\",\"003-05\",\"003-05\",\"003-08\",\"003-08\",\"003-08\",\"003-64\",\"003-64\",\"003-64\",\"004-00\",\"004-00\",\"004-00\",\"004-03\",\"004-03\",\"004-03\",\"004-05\",\"004-05\",\"004-05\",\"004-08\",\"004-08\",\"004-08\",\"004-64\",\"004-64\",\"004-64\",\"005-00\",\"005-00\",\"005-00\",\"005-03\",\"005-03\",\"005-03\",\"005-05\",\"005-05\",\"005-05\",\"005-08\",\"005-08\",\"005-08\",\"005-64\",\"005-64\",\"005-64\",\"006-00\",\"006-00\",\"006-00\",\"006-03\",\"006-03\",\"006-03\",\"006-05\",\"006-05\",\"006-05\",\"006-08\",\"006-08\",\"006-08\",\"006-64\",\"006-64\",\"006-64\",\"007-00\",\"007-00\",\"007-00\",\"007-00\",\"007-03\",\"007-03\",\"007-03\",\"007-03\",\"007-05\",\"007-05\",\"007-05\",\"007-05\",\"007-08\",\"007-08\",\"007-08\",\"007-08\",\"007-64\",\"007-64\",\"007-64\",\"007-64\",\"008-00\",\"008-00\",\"008-00\",\"008-03\",\"008-03\",\"008-03\",\"008-05\",\"008-05\",\"008-05\",\"008-08\",\"008-08\",\"008-08\",\"008-64\",\"008-64\",\"008-64\",\"009-00\",\"009-00\",\"009-00\",\"009-03\",\"009-03\",\"009-03\",\"009-05\",\"009-05\",\"009-05\",\"009-08\",\"009-08\",\"009-08\",\"009-64\",\"009-64\",\"009-64\",\"010-00\",\"010-00\",\"010-00\",\"010-03\",\"010-03\",\"010-03\",\"010-05\",\"010-05\",\"010-05\",\"010-08\",\"010-08\",\"010-08\",\"010-64\",\"010-64\",\"010-64\",\"011-00\",\"011-00\",\"011-00\",\"011-03\",\"011-03\",\"011-03\",\"011-05\",\"011-05\",\"011-05\",\"011-08\",\"011-08\",\"011-08\",\"011-64\",\"011-64\",\"011-64\",\"012-00\",\"012-03\",\"012-05\",\"012-08\",\"012-64\"],\"xaxis\":\"x\",\"y\":[0.0,2.3371803395374218,0.3159693379699305,2.2116779863073015,186630.37408144632,0.0,0.0,0.0,2.3371803395374218,2.3371803395374218,2.3371803395374218,0.3159693379699305,0.3159693379699305,0.3159693379699305,2.2116779863073015,2.2116779863073015,2.2116779863073015,186630.37408144632,186630.37408144632,186630.37408144632,0.0,0.0,0.0,2.3371803395374218,2.3371803395374218,2.3371803395374218,0.3159693379699305,0.3159693379699305,0.3159693379699305,2.2116779863073015,2.2116779863073015,2.2116779863073015,186630.37408144632,186630.37408144632,186630.37408144632,0.0,0.0,0.0,2.3371803395374218,2.3371803395374218,2.3371803395374218,0.3159693379699305,0.3159693379699305,0.3159693379699305,2.2116779863073015,2.2116779863073015,2.2116779863073015,186630.37408144632,186630.37408144632,186630.37408144632,0.0,0.0,0.0,2.3371803395374218,2.3371803395374218,2.3371803395374218,0.3159693379699305,0.3159693379699305,0.3159693379699305,2.2116779863073015,2.2116779863073015,2.2116779863073015,186630.37408144632,186630.37408144632,186630.37408144632,0.0,0.0,0.0,0.0,2.3371803395374218,2.3371803395374218,2.3371803395374218,2.3371803395374218,0.3159693379699305,0.3159693379699305,0.3159693379699305,0.3159693379699305,2.2116779863073015,2.2116779863073015,2.2116779863073015,2.2116779863073015,186630.37408144632,186630.37408144632,186630.37408144632,186630.37408144632,0.0,0.0,0.0,2.3371803395374218,2.3371803395374218,2.3371803395374218,0.3159693379699305,0.3159693379699305,0.3159693379699305,2.2116779863073015,2.2116779863073015,2.2116779863073015,186630.37408144632,186630.37408144632,186630.37408144632,0.0,0.0,0.0,2.3371803395374218,2.3371803395374218,2.3371803395374218,0.3159693379699305,0.3159693379699305,0.3159693379699305,2.2116779863073015,2.2116779863073015,2.2116779863073015,186630.37408144632,186630.37408144632,186630.37408144632,0.0,0.0,0.0,2.3371803395374218,2.3371803395374218,2.3371803395374218,0.3159693379699305,0.3159693379699305,0.3159693379699305,2.2116779863073015,2.2116779863073015,2.2116779863073015,186630.37408144632,186630.37408144632,186630.37408144632,0.0,0.0,0.0,2.3371803395374218,2.3371803395374218,2.3371803395374218,0.3159693379699305,0.3159693379699305,0.3159693379699305,2.2116779863073015,2.2116779863073015,2.2116779863073015,186630.37408144632,186630.37408144632,186630.37408144632,0.0,2.3371803395374218,0.3159693379699305,2.2116779863073015,186630.37408144632],\"yaxis\":\"y\"},{\"alignmentgroup\":\"True\",\"hovertemplate\":\"task=1-laplace_2.0<br>blockid_alpha=%{x}<br>normalized_epsilon=%{y}<extra></extra>\",\"legendgroup\":\"1-laplace_2.0\",\"marker\":{\"color\":\"#FF6692\",\"pattern\":{\"shape\":\"\"}},\"name\":\"1-laplace_2.0\",\"offsetgroup\":\"1-laplace_2.0\",\"orientation\":\"v\",\"showlegend\":true,\"textposition\":\"auto\",\"type\":\"bar\",\"x\":[\"005-00\",\"005-03\",\"005-05\",\"005-08\",\"005-64\",\"006-00\",\"006-03\",\"006-05\",\"006-08\",\"006-64\",\"008-00\",\"008-00\",\"008-03\",\"008-03\",\"008-05\",\"008-05\",\"008-08\",\"008-08\",\"008-64\",\"008-64\",\"009-00\",\"009-03\",\"009-05\",\"009-08\",\"009-64\",\"010-00\",\"010-00\",\"010-00\",\"010-03\",\"010-03\",\"010-03\",\"010-05\",\"010-05\",\"010-05\",\"010-08\",\"010-08\",\"010-08\",\"010-64\",\"010-64\",\"010-64\",\"011-00\",\"011-00\",\"011-03\",\"011-03\",\"011-05\",\"011-05\",\"011-08\",\"011-08\",\"011-64\",\"011-64\",\"012-00\",\"012-03\",\"012-05\",\"012-08\",\"012-64\",\"013-00\",\"013-00\",\"013-03\",\"013-03\",\"013-05\",\"013-05\",\"013-08\",\"013-08\",\"013-64\",\"013-64\"],\"xaxis\":\"x\",\"y\":[0.0,7.163594874001278,0.5935908628148661,0.4385921425558207,0.34193483127853985,0.0,7.163594874001278,0.5935908628148661,0.4385921425558207,0.34193483127853985,0.0,0.0,7.163594874001278,7.163594874001278,0.5935908628148661,0.5935908628148661,0.4385921425558207,0.4385921425558207,0.34193483127853985,0.34193483127853985,0.0,7.163594874001278,0.5935908628148661,0.4385921425558207,0.34193483127853985,0.0,0.0,0.0,7.163594874001278,7.163594874001278,7.163594874001278,0.5935908628148661,0.5935908628148661,0.5935908628148661,0.4385921425558207,0.4385921425558207,0.4385921425558207,0.34193483127853985,0.34193483127853985,0.34193483127853985,0.0,0.0,7.163594874001278,7.163594874001278,0.5935908628148661,0.5935908628148661,0.4385921425558207,0.4385921425558207,0.34193483127853985,0.34193483127853985,0.0,7.163594874001278,0.5935908628148661,0.4385921425558207,0.34193483127853985,0.0,0.0,7.163594874001278,7.163594874001278,0.5935908628148661,0.5935908628148661,0.4385921425558207,0.4385921425558207,0.34193483127853985,0.34193483127853985],\"yaxis\":\"y\"},{\"alignmentgroup\":\"True\",\"hovertemplate\":\"task=1-gaussian_3.0<br>blockid_alpha=%{x}<br>normalized_epsilon=%{y}<extra></extra>\",\"legendgroup\":\"1-gaussian_3.0\",\"marker\":{\"color\":\"#B6E880\",\"pattern\":{\"shape\":\"\"}},\"name\":\"1-gaussian_3.0\",\"offsetgroup\":\"1-gaussian_3.0\",\"orientation\":\"v\",\"showlegend\":true,\"textposition\":\"auto\",\"type\":\"bar\",\"x\":[\"005-00\",\"005-03\",\"005-05\",\"005-08\",\"005-64\",\"006-00\",\"006-00\",\"006-03\",\"006-03\",\"006-05\",\"006-05\",\"006-08\",\"006-08\",\"006-64\",\"006-64\",\"007-00\",\"007-00\",\"007-03\",\"007-03\",\"007-05\",\"007-05\",\"007-08\",\"007-08\",\"007-64\",\"007-64\",\"008-00\",\"008-00\",\"008-03\",\"008-03\",\"008-05\",\"008-05\",\"008-08\",\"008-08\",\"008-64\",\"008-64\",\"010-00\",\"010-03\",\"010-05\",\"010-08\",\"010-64\",\"011-00\",\"011-03\",\"011-05\",\"011-08\",\"011-64\",\"012-00\",\"012-03\",\"012-05\",\"012-08\",\"012-64\"],\"xaxis\":\"x\",\"y\":[0.0,2.3616508380769323,0.3070641781446555,0.3521536043200231,2.1092192409076547,0.0,0.0,2.3616508380769323,2.3616508380769323,0.3070641781446555,0.3070641781446555,0.3521536043200231,0.3521536043200231,2.1092192409076547,2.1092192409076547,0.0,0.0,2.3616508380769323,2.3616508380769323,0.3070641781446555,0.3070641781446555,0.3521536043200231,0.3521536043200231,2.1092192409076547,2.1092192409076547,0.0,0.0,2.3616508380769323,2.3616508380769323,0.3070641781446555,0.3070641781446555,0.3521536043200231,0.3521536043200231,2.1092192409076547,2.1092192409076547,0.0,2.3616508380769323,0.3070641781446555,0.3521536043200231,2.1092192409076547,0.0,2.3616508380769323,0.3070641781446555,0.3521536043200231,2.1092192409076547,0.0,2.3616508380769323,0.3070641781446555,0.3521536043200231,2.1092192409076547],\"yaxis\":\"y\"},{\"alignmentgroup\":\"True\",\"hovertemplate\":\"task=1-gaussian_2.0<br>blockid_alpha=%{x}<br>normalized_epsilon=%{y}<extra></extra>\",\"legendgroup\":\"1-gaussian_2.0\",\"marker\":{\"color\":\"#FF97FF\",\"pattern\":{\"shape\":\"\"}},\"name\":\"1-gaussian_2.0\",\"offsetgroup\":\"1-gaussian_2.0\",\"orientation\":\"v\",\"showlegend\":true,\"textposition\":\"auto\",\"type\":\"bar\",\"x\":[\"006-00\",\"006-03\",\"006-05\",\"006-08\",\"006-64\",\"007-00\",\"007-00\",\"007-03\",\"007-03\",\"007-05\",\"007-05\",\"007-08\",\"007-08\",\"007-64\",\"007-64\",\"008-00\",\"008-00\",\"008-00\",\"008-00\",\"008-03\",\"008-03\",\"008-03\",\"008-03\",\"008-05\",\"008-05\",\"008-05\",\"008-05\",\"008-08\",\"008-08\",\"008-08\",\"008-08\",\"008-64\",\"008-64\",\"008-64\",\"008-64\",\"009-00\",\"009-03\",\"009-05\",\"009-08\",\"009-64\",\"011-00\",\"011-03\",\"011-05\",\"011-08\",\"011-64\",\"012-00\",\"012-00\",\"012-03\",\"012-03\",\"012-05\",\"012-05\",\"012-08\",\"012-08\",\"012-64\",\"012-64\",\"014-00\",\"014-03\",\"014-05\",\"014-08\",\"014-64\"],\"xaxis\":\"x\",\"y\":[0.0,1.0496225947008588,0.13647296806429132,0.15651271303112135,0.9374307737367353,0.0,0.0,1.0496225947008588,1.0496225947008588,0.13647296806429132,0.13647296806429132,0.15651271303112135,0.15651271303112135,0.9374307737367353,0.9374307737367353,0.0,0.0,0.0,0.0,1.0496225947008588,1.0496225947008588,1.0496225947008588,1.0496225947008588,0.13647296806429132,0.13647296806429132,0.13647296806429132,0.13647296806429132,0.15651271303112135,0.15651271303112135,0.15651271303112135,0.15651271303112135,0.9374307737367353,0.9374307737367353,0.9374307737367353,0.9374307737367353,0.0,1.0496225947008588,0.13647296806429132,0.15651271303112135,0.9374307737367353,0.0,1.0496225947008588,0.13647296806429132,0.15651271303112135,0.9374307737367353,0.0,0.0,1.0496225947008588,1.0496225947008588,0.13647296806429132,0.13647296806429132,0.15651271303112135,0.15651271303112135,0.9374307737367353,0.9374307737367353,0.0,1.0496225947008588,0.13647296806429132,0.15651271303112135,0.9374307737367353],\"yaxis\":\"y\"},{\"alignmentgroup\":\"True\",\"hovertemplate\":\"task=1-laplace_3.0<br>blockid_alpha=%{x}<br>normalized_epsilon=%{y}<extra></extra>\",\"legendgroup\":\"1-laplace_3.0\",\"marker\":{\"color\":\"#FECB52\",\"pattern\":{\"shape\":\"\"}},\"name\":\"1-laplace_3.0\",\"offsetgroup\":\"1-laplace_3.0\",\"orientation\":\"v\",\"showlegend\":true,\"textposition\":\"auto\",\"type\":\"bar\",\"x\":[\"006-00\",\"006-03\",\"006-05\",\"006-08\",\"006-64\",\"007-00\",\"007-00\",\"007-00\",\"007-03\",\"007-03\",\"007-03\",\"007-05\",\"007-05\",\"007-05\",\"007-08\",\"007-08\",\"007-08\",\"007-64\",\"007-64\",\"007-64\",\"008-00\",\"008-00\",\"008-03\",\"008-03\",\"008-05\",\"008-05\",\"008-08\",\"008-08\",\"008-64\",\"008-64\",\"009-00\",\"009-00\",\"009-03\",\"009-03\",\"009-05\",\"009-05\",\"009-08\",\"009-08\",\"009-64\",\"009-64\"],\"xaxis\":\"x\",\"y\":[0.0,11.269680891515618,0.9139220962511998,0.6681976428132131,0.5138372103185906,0.0,0.0,0.0,11.269680891515618,11.269680891515618,11.269680891515618,0.9139220962511998,0.9139220962511998,0.9139220962511998,0.6681976428132131,0.6681976428132131,0.6681976428132131,0.5138372103185906,0.5138372103185906,0.5138372103185906,0.0,0.0,11.269680891515618,11.269680891515618,0.9139220962511998,0.9139220962511998,0.6681976428132131,0.6681976428132131,0.5138372103185906,0.5138372103185906,0.0,0.0,11.269680891515618,11.269680891515618,0.9139220962511998,0.9139220962511998,0.6681976428132131,0.6681976428132131,0.5138372103185906,0.5138372103185906],\"yaxis\":\"y\"},{\"alignmentgroup\":\"True\",\"hovertemplate\":\"task=1-subsampled_gaussian_2.0<br>blockid_alpha=%{x}<br>normalized_epsilon=%{y}<extra></extra>\",\"legendgroup\":\"1-subsampled_gaussian_2.0\",\"marker\":{\"color\":\"#636efa\",\"pattern\":{\"shape\":\"\"}},\"name\":\"1-subsampled_gaussian_2.0\",\"offsetgroup\":\"1-subsampled_gaussian_2.0\",\"orientation\":\"v\",\"showlegend\":true,\"textposition\":\"auto\",\"type\":\"bar\",\"x\":[\"007-00\",\"007-03\",\"007-05\",\"007-08\",\"007-64\",\"009-00\",\"009-00\",\"009-03\",\"009-03\",\"009-05\",\"009-05\",\"009-08\",\"009-08\",\"009-64\",\"009-64\",\"010-00\",\"010-00\",\"010-03\",\"010-03\",\"010-05\",\"010-05\",\"010-08\",\"010-08\",\"010-64\",\"010-64\",\"013-00\",\"013-00\",\"013-00\",\"013-03\",\"013-03\",\"013-03\",\"013-05\",\"013-05\",\"013-05\",\"013-08\",\"013-08\",\"013-08\",\"013-64\",\"013-64\",\"013-64\"],\"xaxis\":\"x\",\"y\":[0.0,1.144683992913701,0.1506705215069613,0.1762147011874783,116776.00284542797,0.0,0.0,1.144683992913701,1.144683992913701,0.1506705215069613,0.1506705215069613,0.1762147011874783,0.1762147011874783,116776.00284542797,116776.00284542797,0.0,0.0,1.144683992913701,1.144683992913701,0.1506705215069613,0.1506705215069613,0.1762147011874783,0.1762147011874783,116776.00284542797,116776.00284542797,0.0,0.0,0.0,1.144683992913701,1.144683992913701,1.144683992913701,0.1506705215069613,0.1506705215069613,0.1506705215069613,0.1762147011874783,0.1762147011874783,0.1762147011874783,116776.00284542797,116776.00284542797,116776.00284542797],\"yaxis\":\"y\"},{\"alignmentgroup\":\"True\",\"hovertemplate\":\"task=1-subsampled_gaussian_3.0<br>blockid_alpha=%{x}<br>normalized_epsilon=%{y}<extra></extra>\",\"legendgroup\":\"1-subsampled_gaussian_3.0\",\"marker\":{\"color\":\"#EF553B\",\"pattern\":{\"shape\":\"\"}},\"name\":\"1-subsampled_gaussian_3.0\",\"offsetgroup\":\"1-subsampled_gaussian_3.0\",\"orientation\":\"v\",\"showlegend\":true,\"textposition\":\"auto\",\"type\":\"bar\",\"x\":[\"007-00\",\"007-00\",\"007-03\",\"007-03\",\"007-05\",\"007-05\",\"007-08\",\"007-08\",\"007-64\",\"007-64\",\"008-00\",\"008-03\",\"008-05\",\"008-08\",\"008-64\",\"010-00\",\"010-00\",\"010-03\",\"010-03\",\"010-05\",\"010-05\",\"010-08\",\"010-08\",\"010-64\",\"010-64\",\"013-00\",\"013-00\",\"013-03\",\"013-03\",\"013-05\",\"013-05\",\"013-08\",\"013-08\",\"013-64\",\"013-64\"],\"xaxis\":\"x\",\"y\":[0.0,0.0,2.3371803395374218,2.3371803395374218,0.3159693379699305,0.3159693379699305,2.2116779863073015,2.2116779863073015,186630.37408144632,186630.37408144632,0.0,2.3371803395374218,0.3159693379699305,2.2116779863073015,186630.37408144632,0.0,0.0,2.3371803395374218,2.3371803395374218,0.3159693379699305,0.3159693379699305,2.2116779863073015,2.2116779863073015,186630.37408144632,186630.37408144632,0.0,0.0,2.3371803395374218,2.3371803395374218,0.3159693379699305,0.3159693379699305,2.2116779863073015,2.2116779863073015,186630.37408144632,186630.37408144632],\"yaxis\":\"y\"}],                        {\"barmode\":\"relative\",\"height\":300,\"legend\":{\"title\":{\"text\":\"task\"},\"tracegroupgap\":0},\"template\":{\"data\":{\"bar\":[{\"error_x\":{\"color\":\"#2a3f5f\"},\"error_y\":{\"color\":\"#2a3f5f\"},\"marker\":{\"line\":{\"color\":\"#E5ECF6\",\"width\":0.5},\"pattern\":{\"fillmode\":\"overlay\",\"size\":10,\"solidity\":0.2}},\"type\":\"bar\"}],\"barpolar\":[{\"marker\":{\"line\":{\"color\":\"#E5ECF6\",\"width\":0.5},\"pattern\":{\"fillmode\":\"overlay\",\"size\":10,\"solidity\":0.2}},\"type\":\"barpolar\"}],\"carpet\":[{\"aaxis\":{\"endlinecolor\":\"#2a3f5f\",\"gridcolor\":\"white\",\"linecolor\":\"white\",\"minorgridcolor\":\"white\",\"startlinecolor\":\"#2a3f5f\"},\"baxis\":{\"endlinecolor\":\"#2a3f5f\",\"gridcolor\":\"white\",\"linecolor\":\"white\",\"minorgridcolor\":\"white\",\"startlinecolor\":\"#2a3f5f\"},\"type\":\"carpet\"}],\"choropleth\":[{\"colorbar\":{\"outlinewidth\":0,\"ticks\":\"\"},\"type\":\"choropleth\"}],\"contour\":[{\"colorbar\":{\"outlinewidth\":0,\"ticks\":\"\"},\"colorscale\":[[0.0,\"#0d0887\"],[0.1111111111111111,\"#46039f\"],[0.2222222222222222,\"#7201a8\"],[0.3333333333333333,\"#9c179e\"],[0.4444444444444444,\"#bd3786\"],[0.5555555555555556,\"#d8576b\"],[0.6666666666666666,\"#ed7953\"],[0.7777777777777778,\"#fb9f3a\"],[0.8888888888888888,\"#fdca26\"],[1.0,\"#f0f921\"]],\"type\":\"contour\"}],\"contourcarpet\":[{\"colorbar\":{\"outlinewidth\":0,\"ticks\":\"\"},\"type\":\"contourcarpet\"}],\"heatmap\":[{\"colorbar\":{\"outlinewidth\":0,\"ticks\":\"\"},\"colorscale\":[[0.0,\"#0d0887\"],[0.1111111111111111,\"#46039f\"],[0.2222222222222222,\"#7201a8\"],[0.3333333333333333,\"#9c179e\"],[0.4444444444444444,\"#bd3786\"],[0.5555555555555556,\"#d8576b\"],[0.6666666666666666,\"#ed7953\"],[0.7777777777777778,\"#fb9f3a\"],[0.8888888888888888,\"#fdca26\"],[1.0,\"#f0f921\"]],\"type\":\"heatmap\"}],\"heatmapgl\":[{\"colorbar\":{\"outlinewidth\":0,\"ticks\":\"\"},\"colorscale\":[[0.0,\"#0d0887\"],[0.1111111111111111,\"#46039f\"],[0.2222222222222222,\"#7201a8\"],[0.3333333333333333,\"#9c179e\"],[0.4444444444444444,\"#bd3786\"],[0.5555555555555556,\"#d8576b\"],[0.6666666666666666,\"#ed7953\"],[0.7777777777777778,\"#fb9f3a\"],[0.8888888888888888,\"#fdca26\"],[1.0,\"#f0f921\"]],\"type\":\"heatmapgl\"}],\"histogram\":[{\"marker\":{\"pattern\":{\"fillmode\":\"overlay\",\"size\":10,\"solidity\":0.2}},\"type\":\"histogram\"}],\"histogram2d\":[{\"colorbar\":{\"outlinewidth\":0,\"ticks\":\"\"},\"colorscale\":[[0.0,\"#0d0887\"],[0.1111111111111111,\"#46039f\"],[0.2222222222222222,\"#7201a8\"],[0.3333333333333333,\"#9c179e\"],[0.4444444444444444,\"#bd3786\"],[0.5555555555555556,\"#d8576b\"],[0.6666666666666666,\"#ed7953\"],[0.7777777777777778,\"#fb9f3a\"],[0.8888888888888888,\"#fdca26\"],[1.0,\"#f0f921\"]],\"type\":\"histogram2d\"}],\"histogram2dcontour\":[{\"colorbar\":{\"outlinewidth\":0,\"ticks\":\"\"},\"colorscale\":[[0.0,\"#0d0887\"],[0.1111111111111111,\"#46039f\"],[0.2222222222222222,\"#7201a8\"],[0.3333333333333333,\"#9c179e\"],[0.4444444444444444,\"#bd3786\"],[0.5555555555555556,\"#d8576b\"],[0.6666666666666666,\"#ed7953\"],[0.7777777777777778,\"#fb9f3a\"],[0.8888888888888888,\"#fdca26\"],[1.0,\"#f0f921\"]],\"type\":\"histogram2dcontour\"}],\"mesh3d\":[{\"colorbar\":{\"outlinewidth\":0,\"ticks\":\"\"},\"type\":\"mesh3d\"}],\"parcoords\":[{\"line\":{\"colorbar\":{\"outlinewidth\":0,\"ticks\":\"\"}},\"type\":\"parcoords\"}],\"pie\":[{\"automargin\":true,\"type\":\"pie\"}],\"scatter\":[{\"marker\":{\"colorbar\":{\"outlinewidth\":0,\"ticks\":\"\"}},\"type\":\"scatter\"}],\"scatter3d\":[{\"line\":{\"colorbar\":{\"outlinewidth\":0,\"ticks\":\"\"}},\"marker\":{\"colorbar\":{\"outlinewidth\":0,\"ticks\":\"\"}},\"type\":\"scatter3d\"}],\"scattercarpet\":[{\"marker\":{\"colorbar\":{\"outlinewidth\":0,\"ticks\":\"\"}},\"type\":\"scattercarpet\"}],\"scattergeo\":[{\"marker\":{\"colorbar\":{\"outlinewidth\":0,\"ticks\":\"\"}},\"type\":\"scattergeo\"}],\"scattergl\":[{\"marker\":{\"colorbar\":{\"outlinewidth\":0,\"ticks\":\"\"}},\"type\":\"scattergl\"}],\"scattermapbox\":[{\"marker\":{\"colorbar\":{\"outlinewidth\":0,\"ticks\":\"\"}},\"type\":\"scattermapbox\"}],\"scatterpolar\":[{\"marker\":{\"colorbar\":{\"outlinewidth\":0,\"ticks\":\"\"}},\"type\":\"scatterpolar\"}],\"scatterpolargl\":[{\"marker\":{\"colorbar\":{\"outlinewidth\":0,\"ticks\":\"\"}},\"type\":\"scatterpolargl\"}],\"scatterternary\":[{\"marker\":{\"colorbar\":{\"outlinewidth\":0,\"ticks\":\"\"}},\"type\":\"scatterternary\"}],\"surface\":[{\"colorbar\":{\"outlinewidth\":0,\"ticks\":\"\"},\"colorscale\":[[0.0,\"#0d0887\"],[0.1111111111111111,\"#46039f\"],[0.2222222222222222,\"#7201a8\"],[0.3333333333333333,\"#9c179e\"],[0.4444444444444444,\"#bd3786\"],[0.5555555555555556,\"#d8576b\"],[0.6666666666666666,\"#ed7953\"],[0.7777777777777778,\"#fb9f3a\"],[0.8888888888888888,\"#fdca26\"],[1.0,\"#f0f921\"]],\"type\":\"surface\"}],\"table\":[{\"cells\":{\"fill\":{\"color\":\"#EBF0F8\"},\"line\":{\"color\":\"white\"}},\"header\":{\"fill\":{\"color\":\"#C8D4E3\"},\"line\":{\"color\":\"white\"}},\"type\":\"table\"}]},\"layout\":{\"annotationdefaults\":{\"arrowcolor\":\"#2a3f5f\",\"arrowhead\":0,\"arrowwidth\":1},\"autotypenumbers\":\"strict\",\"coloraxis\":{\"colorbar\":{\"outlinewidth\":0,\"ticks\":\"\"}},\"colorscale\":{\"diverging\":[[0,\"#8e0152\"],[0.1,\"#c51b7d\"],[0.2,\"#de77ae\"],[0.3,\"#f1b6da\"],[0.4,\"#fde0ef\"],[0.5,\"#f7f7f7\"],[0.6,\"#e6f5d0\"],[0.7,\"#b8e186\"],[0.8,\"#7fbc41\"],[0.9,\"#4d9221\"],[1,\"#276419\"]],\"sequential\":[[0.0,\"#0d0887\"],[0.1111111111111111,\"#46039f\"],[0.2222222222222222,\"#7201a8\"],[0.3333333333333333,\"#9c179e\"],[0.4444444444444444,\"#bd3786\"],[0.5555555555555556,\"#d8576b\"],[0.6666666666666666,\"#ed7953\"],[0.7777777777777778,\"#fb9f3a\"],[0.8888888888888888,\"#fdca26\"],[1.0,\"#f0f921\"]],\"sequentialminus\":[[0.0,\"#0d0887\"],[0.1111111111111111,\"#46039f\"],[0.2222222222222222,\"#7201a8\"],[0.3333333333333333,\"#9c179e\"],[0.4444444444444444,\"#bd3786\"],[0.5555555555555556,\"#d8576b\"],[0.6666666666666666,\"#ed7953\"],[0.7777777777777778,\"#fb9f3a\"],[0.8888888888888888,\"#fdca26\"],[1.0,\"#f0f921\"]]},\"colorway\":[\"#636efa\",\"#EF553B\",\"#00cc96\",\"#ab63fa\",\"#FFA15A\",\"#19d3f3\",\"#FF6692\",\"#B6E880\",\"#FF97FF\",\"#FECB52\"],\"font\":{\"color\":\"#2a3f5f\"},\"geo\":{\"bgcolor\":\"white\",\"lakecolor\":\"white\",\"landcolor\":\"#E5ECF6\",\"showlakes\":true,\"showland\":true,\"subunitcolor\":\"white\"},\"hoverlabel\":{\"align\":\"left\"},\"hovermode\":\"closest\",\"mapbox\":{\"style\":\"light\"},\"paper_bgcolor\":\"white\",\"plot_bgcolor\":\"#E5ECF6\",\"polar\":{\"angularaxis\":{\"gridcolor\":\"white\",\"linecolor\":\"white\",\"ticks\":\"\"},\"bgcolor\":\"#E5ECF6\",\"radialaxis\":{\"gridcolor\":\"white\",\"linecolor\":\"white\",\"ticks\":\"\"}},\"scene\":{\"xaxis\":{\"backgroundcolor\":\"#E5ECF6\",\"gridcolor\":\"white\",\"gridwidth\":2,\"linecolor\":\"white\",\"showbackground\":true,\"ticks\":\"\",\"zerolinecolor\":\"white\"},\"yaxis\":{\"backgroundcolor\":\"#E5ECF6\",\"gridcolor\":\"white\",\"gridwidth\":2,\"linecolor\":\"white\",\"showbackground\":true,\"ticks\":\"\",\"zerolinecolor\":\"white\"},\"zaxis\":{\"backgroundcolor\":\"#E5ECF6\",\"gridcolor\":\"white\",\"gridwidth\":2,\"linecolor\":\"white\",\"showbackground\":true,\"ticks\":\"\",\"zerolinecolor\":\"white\"}},\"shapedefaults\":{\"line\":{\"color\":\"#2a3f5f\"}},\"ternary\":{\"aaxis\":{\"gridcolor\":\"white\",\"linecolor\":\"white\",\"ticks\":\"\"},\"baxis\":{\"gridcolor\":\"white\",\"linecolor\":\"white\",\"ticks\":\"\"},\"bgcolor\":\"#E5ECF6\",\"caxis\":{\"gridcolor\":\"white\",\"linecolor\":\"white\",\"ticks\":\"\"}},\"title\":{\"x\":0.05},\"xaxis\":{\"automargin\":true,\"gridcolor\":\"white\",\"linecolor\":\"white\",\"ticks\":\"\",\"title\":{\"standoff\":15},\"zerolinecolor\":\"white\",\"zerolinewidth\":2},\"yaxis\":{\"automargin\":true,\"gridcolor\":\"white\",\"linecolor\":\"white\",\"ticks\":\"\",\"title\":{\"standoff\":15},\"zerolinecolor\":\"white\",\"zerolinewidth\":2}}},\"title\":{\"text\":\"All demands (workload)\"},\"xaxis\":{\"anchor\":\"y\",\"domain\":[0.0,1.0],\"title\":{\"text\":\"blockid_alpha\"}},\"yaxis\":{\"anchor\":\"x\",\"domain\":[0.0,1.0],\"range\":[0,20],\"title\":{\"text\":\"normalized_epsilon\"}}},                        {\"responsive\": true}                    ).then(function(){\n",
       "                            \n",
       "var gd = document.getElementById('67d2ee97-4acc-4ec0-b43a-7fcc8b80088f');\n",
       "var x = new MutationObserver(function (mutations, observer) {{\n",
       "        var display = window.getComputedStyle(gd).display;\n",
       "        if (!display || display === 'none') {{\n",
       "            console.log([gd, 'removed!']);\n",
       "            Plotly.purge(gd);\n",
       "            observer.disconnect();\n",
       "        }}\n",
       "}});\n",
       "\n",
       "// Listen for the removal of the full notebook cells\n",
       "var notebookContainer = gd.closest('#notebook-container');\n",
       "if (notebookContainer) {{\n",
       "    x.observe(notebookContainer, {childList: true});\n",
       "}}\n",
       "\n",
       "// Listen for the clearing of the current output cell\n",
       "var outputEl = gd.closest('.output');\n",
       "if (outputEl) {{\n",
       "    x.observe(outputEl, {childList: true});\n",
       "}}\n",
       "\n",
       "                        })                };                });            </script>        </div>"
      ]
     },
     "metadata": {},
     "output_type": "display_data"
    }
   ],
   "source": [
    "px.bar(\n",
    "    # df,\n",
    "    df.query(\"metric == 'DominantShares'\"),\n",
    "    x=\"blockid_alpha\",\n",
    "    y=\"normalized_epsilon\",\n",
    "    range_y=[0,20],\n",
    "#     color=\"log_id\",\n",
    "    color=\"task\",\n",
    "    # barmode=\"group\",\n",
    "    # pattern_shape=\"allocated\",\n",
    "    # facet_col=\"metric\",\n",
    "    # facet_col_wrap=1,\n",
    "    height=300,\n",
    "    title=\"All demands (workload)\"\n",
    "#     animation_frame=\"id\"\n",
    ")"
   ]
  },
  {
   "cell_type": "code",
   "execution_count": 51,
   "id": "2aeb7a35-e2c5-4157-922f-c3659604ac0a",
   "metadata": {},
   "outputs": [
    {
     "data": {
      "application/vnd.plotly.v1+json": {
       "config": {
        "plotlyServerURL": "https://plot.ly"
       },
       "data": [
        {
         "alignmentgroup": "True",
         "hovertemplate": "task=5-gaussian_3.0<br>metric=DominantShares<br>blockid_alpha=%{x}<br>normalized_epsilon=%{y}<extra></extra>",
         "legendgroup": "5-gaussian_3.0",
         "marker": {
          "color": "#636efa",
          "pattern": {
           "shape": ""
          }
         },
         "name": "5-gaussian_3.0",
         "offsetgroup": "5-gaussian_3.0",
         "orientation": "v",
         "showlegend": true,
         "textposition": "auto",
         "type": "bar",
         "x": [
          "001-00",
          "001-03",
          "001-05",
          "001-08",
          "001-64",
          "002-00",
          "002-03",
          "002-05",
          "002-08",
          "002-64",
          "003-00",
          "003-03",
          "003-05",
          "003-08",
          "003-64",
          "004-00",
          "004-03",
          "004-05",
          "004-08",
          "004-64",
          "005-00",
          "005-03",
          "005-05",
          "005-08",
          "005-64"
         ],
         "xaxis": "x5",
         "y": [
          0,
          2.3616508380769323,
          0.3070641781446555,
          0.3521536043200231,
          2.1092192409076547,
          0,
          2.3616508380769323,
          0.3070641781446555,
          0.3521536043200231,
          2.1092192409076547,
          0,
          2.3616508380769323,
          0.3070641781446555,
          0.3521536043200231,
          2.1092192409076547,
          0,
          2.3616508380769323,
          0.3070641781446555,
          0.3521536043200231,
          2.1092192409076547,
          0,
          2.3616508380769323,
          0.3070641781446555,
          0.3521536043200231,
          2.1092192409076547
         ],
         "yaxis": "y5"
        },
        {
         "alignmentgroup": "True",
         "hovertemplate": "task=5-subsampled_gaussian_2.0<br>metric=DominantShares<br>blockid_alpha=%{x}<br>normalized_epsilon=%{y}<extra></extra>",
         "legendgroup": "5-subsampled_gaussian_2.0",
         "marker": {
          "color": "#EF553B",
          "pattern": {
           "shape": ""
          }
         },
         "name": "5-subsampled_gaussian_2.0",
         "offsetgroup": "5-subsampled_gaussian_2.0",
         "orientation": "v",
         "showlegend": true,
         "textposition": "auto",
         "type": "bar",
         "x": [
          "001-00",
          "001-03",
          "001-05",
          "001-08",
          "001-64",
          "002-00",
          "002-03",
          "002-05",
          "002-08",
          "002-64",
          "003-00",
          "003-03",
          "003-05",
          "003-08",
          "003-64",
          "004-00",
          "004-03",
          "004-05",
          "004-08",
          "004-64",
          "005-00",
          "005-03",
          "005-05",
          "005-08",
          "005-64"
         ],
         "xaxis": "x5",
         "y": [
          0,
          1.144683992913701,
          0.1506705215069613,
          0.1762147011874783,
          116776.00284542797,
          0,
          1.144683992913701,
          0.1506705215069613,
          0.1762147011874783,
          116776.00284542797,
          0,
          1.144683992913701,
          0.1506705215069613,
          0.1762147011874783,
          116776.00284542797,
          0,
          1.144683992913701,
          0.1506705215069613,
          0.1762147011874783,
          116776.00284542797,
          0,
          1.144683992913701,
          0.1506705215069613,
          0.1762147011874783,
          116776.00284542797
         ],
         "yaxis": "y5"
        },
        {
         "alignmentgroup": "True",
         "hovertemplate": "task=5-gaussian_2.0<br>metric=DominantShares<br>blockid_alpha=%{x}<br>normalized_epsilon=%{y}<extra></extra>",
         "legendgroup": "5-gaussian_2.0",
         "marker": {
          "color": "#00cc96",
          "pattern": {
           "shape": ""
          }
         },
         "name": "5-gaussian_2.0",
         "offsetgroup": "5-gaussian_2.0",
         "orientation": "v",
         "showlegend": true,
         "textposition": "auto",
         "type": "bar",
         "x": [
          "001-00",
          "001-03",
          "001-05",
          "001-08",
          "001-64",
          "002-00",
          "002-03",
          "002-05",
          "002-08",
          "002-64",
          "003-00",
          "003-03",
          "003-05",
          "003-08",
          "003-64",
          "004-00",
          "004-03",
          "004-05",
          "004-08",
          "004-64",
          "005-00",
          "005-03",
          "005-05",
          "005-08",
          "005-64"
         ],
         "xaxis": "x5",
         "y": [
          0,
          1.0496225947008588,
          0.13647296806429132,
          0.15651271303112135,
          0.9374307737367353,
          0,
          1.0496225947008588,
          0.13647296806429132,
          0.15651271303112135,
          0.9374307737367353,
          0,
          1.0496225947008588,
          0.13647296806429132,
          0.15651271303112135,
          0.9374307737367353,
          0,
          1.0496225947008588,
          0.13647296806429132,
          0.15651271303112135,
          0.9374307737367353,
          0,
          1.0496225947008588,
          0.13647296806429132,
          0.15651271303112135,
          0.9374307737367353
         ],
         "yaxis": "y5"
        },
        {
         "alignmentgroup": "True",
         "hovertemplate": "task=5-gaussian_2.0<br>metric=BatchOverflowRelevance<br>blockid_alpha=%{x}<br>normalized_epsilon=%{y}<extra></extra>",
         "legendgroup": "5-gaussian_2.0",
         "marker": {
          "color": "#00cc96",
          "pattern": {
           "shape": ""
          }
         },
         "name": "5-gaussian_2.0",
         "offsetgroup": "5-gaussian_2.0",
         "orientation": "v",
         "showlegend": false,
         "textposition": "auto",
         "type": "bar",
         "x": [
          "001-00",
          "001-03",
          "001-05",
          "001-08",
          "001-64",
          "002-00",
          "002-03",
          "002-05",
          "002-08",
          "002-64",
          "003-00",
          "003-03",
          "003-05",
          "003-08",
          "003-64",
          "004-00",
          "004-03",
          "004-05",
          "004-08",
          "004-64",
          "005-00",
          "005-03",
          "005-05",
          "005-08",
          "005-64"
         ],
         "xaxis": "x4",
         "y": [
          0,
          1.0496225947008588,
          0.13647296806429132,
          0.15651271303112135,
          0.9374307737367353,
          0,
          1.0496225947008588,
          0.13647296806429132,
          0.15651271303112135,
          0.9374307737367353,
          0,
          1.0496225947008588,
          0.13647296806429132,
          0.15651271303112135,
          0.9374307737367353,
          0,
          1.0496225947008588,
          0.13647296806429132,
          0.15651271303112135,
          0.9374307737367353,
          0,
          1.0496225947008588,
          0.13647296806429132,
          0.15651271303112135,
          0.9374307737367353
         ],
         "yaxis": "y4"
        },
        {
         "alignmentgroup": "True",
         "hovertemplate": "task=5-gaussian_2.0<br>metric=DynamicFlatRelevance<br>blockid_alpha=%{x}<br>normalized_epsilon=%{y}<extra></extra>",
         "legendgroup": "5-gaussian_2.0",
         "marker": {
          "color": "#00cc96",
          "pattern": {
           "shape": ""
          }
         },
         "name": "5-gaussian_2.0",
         "offsetgroup": "5-gaussian_2.0",
         "orientation": "v",
         "showlegend": false,
         "textposition": "auto",
         "type": "bar",
         "x": [
          "001-00",
          "001-03",
          "001-05",
          "001-08",
          "001-64",
          "002-00",
          "002-03",
          "002-05",
          "002-08",
          "002-64",
          "003-00",
          "003-03",
          "003-05",
          "003-08",
          "003-64",
          "004-00",
          "004-03",
          "004-05",
          "004-08",
          "004-64",
          "005-00",
          "005-03",
          "005-05",
          "005-08",
          "005-64"
         ],
         "xaxis": "x3",
         "y": [
          0,
          1.0496225947008588,
          0.13647296806429132,
          0.15651271303112135,
          0.9374307737367353,
          0,
          1.0496225947008588,
          0.13647296806429132,
          0.15651271303112135,
          0.9374307737367353,
          0,
          1.0496225947008588,
          0.13647296806429132,
          0.15651271303112135,
          0.9374307737367353,
          0,
          1.0496225947008588,
          0.13647296806429132,
          0.15651271303112135,
          0.9374307737367353,
          0,
          1.0496225947008588,
          0.13647296806429132,
          0.15651271303112135,
          0.9374307737367353
         ],
         "yaxis": "y3"
        },
        {
         "alignmentgroup": "True",
         "hovertemplate": "task=5-gaussian_2.0<br>metric=FlatRelevance<br>blockid_alpha=%{x}<br>normalized_epsilon=%{y}<extra></extra>",
         "legendgroup": "5-gaussian_2.0",
         "marker": {
          "color": "#00cc96",
          "pattern": {
           "shape": ""
          }
         },
         "name": "5-gaussian_2.0",
         "offsetgroup": "5-gaussian_2.0",
         "orientation": "v",
         "showlegend": false,
         "textposition": "auto",
         "type": "bar",
         "x": [
          "001-00",
          "001-03",
          "001-05",
          "001-08",
          "001-64",
          "002-00",
          "002-03",
          "002-05",
          "002-08",
          "002-64",
          "003-00",
          "003-03",
          "003-05",
          "003-08",
          "003-64",
          "004-00",
          "004-03",
          "004-05",
          "004-08",
          "004-64",
          "005-00",
          "005-03",
          "005-05",
          "005-08",
          "005-64"
         ],
         "xaxis": "x2",
         "y": [
          0,
          1.0496225947008588,
          0.13647296806429132,
          0.15651271303112135,
          0.9374307737367353,
          0,
          1.0496225947008588,
          0.13647296806429132,
          0.15651271303112135,
          0.9374307737367353,
          0,
          1.0496225947008588,
          0.13647296806429132,
          0.15651271303112135,
          0.9374307737367353,
          0,
          1.0496225947008588,
          0.13647296806429132,
          0.15651271303112135,
          0.9374307737367353,
          0,
          1.0496225947008588,
          0.13647296806429132,
          0.15651271303112135,
          0.9374307737367353
         ],
         "yaxis": "y2"
        },
        {
         "alignmentgroup": "True",
         "hovertemplate": "task=5-gaussian_2.0<br>metric=Fcfs<br>blockid_alpha=%{x}<br>normalized_epsilon=%{y}<extra></extra>",
         "legendgroup": "5-gaussian_2.0",
         "marker": {
          "color": "#00cc96",
          "pattern": {
           "shape": ""
          }
         },
         "name": "5-gaussian_2.0",
         "offsetgroup": "5-gaussian_2.0",
         "orientation": "v",
         "showlegend": false,
         "textposition": "auto",
         "type": "bar",
         "x": [
          "001-00",
          "001-03",
          "001-05",
          "001-08",
          "001-64",
          "002-00",
          "002-03",
          "002-05",
          "002-08",
          "002-64",
          "003-00",
          "003-03",
          "003-05",
          "003-08",
          "003-64",
          "004-00",
          "004-03",
          "004-05",
          "004-08",
          "004-64",
          "005-00",
          "005-03",
          "005-05",
          "005-08",
          "005-64"
         ],
         "xaxis": "x",
         "y": [
          0,
          1.0496225947008588,
          0.13647296806429132,
          0.15651271303112135,
          0.9374307737367353,
          0,
          1.0496225947008588,
          0.13647296806429132,
          0.15651271303112135,
          0.9374307737367353,
          0,
          1.0496225947008588,
          0.13647296806429132,
          0.15651271303112135,
          0.9374307737367353,
          0,
          1.0496225947008588,
          0.13647296806429132,
          0.15651271303112135,
          0.9374307737367353,
          0,
          1.0496225947008588,
          0.13647296806429132,
          0.15651271303112135,
          0.9374307737367353
         ],
         "yaxis": "y"
        },
        {
         "alignmentgroup": "True",
         "hovertemplate": "task=5-laplace_2.0<br>metric=Fcfs<br>blockid_alpha=%{x}<br>normalized_epsilon=%{y}<extra></extra>",
         "legendgroup": "5-laplace_2.0",
         "marker": {
          "color": "#ab63fa",
          "pattern": {
           "shape": ""
          }
         },
         "name": "5-laplace_2.0",
         "offsetgroup": "5-laplace_2.0",
         "orientation": "v",
         "showlegend": true,
         "textposition": "auto",
         "type": "bar",
         "x": [
          "001-00",
          "001-03",
          "001-05",
          "001-08",
          "001-64",
          "002-00",
          "002-03",
          "002-05",
          "002-08",
          "002-64",
          "003-00",
          "003-03",
          "003-05",
          "003-08",
          "003-64",
          "004-00",
          "004-03",
          "004-05",
          "004-08",
          "004-64",
          "005-00",
          "005-03",
          "005-05",
          "005-08",
          "005-64"
         ],
         "xaxis": "x",
         "y": [
          0,
          7.163594874001278,
          0.5935908628148661,
          0.4385921425558207,
          0.34193483127853985,
          0,
          7.163594874001278,
          0.5935908628148661,
          0.4385921425558207,
          0.34193483127853985,
          0,
          7.163594874001278,
          0.5935908628148661,
          0.4385921425558207,
          0.34193483127853985,
          0,
          7.163594874001278,
          0.5935908628148661,
          0.4385921425558207,
          0.34193483127853985,
          0,
          7.163594874001278,
          0.5935908628148661,
          0.4385921425558207,
          0.34193483127853985
         ],
         "yaxis": "y"
        },
        {
         "alignmentgroup": "True",
         "hovertemplate": "task=1-laplace_2.0<br>metric=DominantShares<br>blockid_alpha=%{x}<br>normalized_epsilon=%{y}<extra></extra>",
         "legendgroup": "1-laplace_2.0",
         "marker": {
          "color": "#FFA15A",
          "pattern": {
           "shape": ""
          }
         },
         "name": "1-laplace_2.0",
         "offsetgroup": "1-laplace_2.0",
         "orientation": "v",
         "showlegend": true,
         "textposition": "auto",
         "type": "bar",
         "x": [
          "009-00",
          "009-03",
          "009-05",
          "009-08",
          "009-64",
          "010-00",
          "010-03",
          "010-05",
          "010-08",
          "010-64",
          "011-00",
          "011-03",
          "011-05",
          "011-08",
          "011-64",
          "013-00",
          "013-00",
          "013-03",
          "013-03",
          "013-05",
          "013-05",
          "013-08",
          "013-08",
          "013-64",
          "013-64"
         ],
         "xaxis": "x5",
         "y": [
          0,
          7.163594874001278,
          0.5935908628148661,
          0.4385921425558207,
          0.34193483127853985,
          0,
          7.163594874001278,
          0.5935908628148661,
          0.4385921425558207,
          0.34193483127853985,
          0,
          7.163594874001278,
          0.5935908628148661,
          0.4385921425558207,
          0.34193483127853985,
          0,
          0,
          7.163594874001278,
          7.163594874001278,
          0.5935908628148661,
          0.5935908628148661,
          0.4385921425558207,
          0.4385921425558207,
          0.34193483127853985,
          0.34193483127853985
         ],
         "yaxis": "y5"
        },
        {
         "alignmentgroup": "True",
         "hovertemplate": "task=1-laplace_2.0<br>metric=BatchOverflowRelevance<br>blockid_alpha=%{x}<br>normalized_epsilon=%{y}<extra></extra>",
         "legendgroup": "1-laplace_2.0",
         "marker": {
          "color": "#FFA15A",
          "pattern": {
           "shape": ""
          }
         },
         "name": "1-laplace_2.0",
         "offsetgroup": "1-laplace_2.0",
         "orientation": "v",
         "showlegend": false,
         "textposition": "auto",
         "type": "bar",
         "x": [
          "005-00",
          "005-03",
          "005-05",
          "005-08",
          "005-64",
          "006-00",
          "006-03",
          "006-05",
          "006-08",
          "006-64",
          "008-00",
          "008-03",
          "008-05",
          "008-08",
          "008-64",
          "009-00",
          "009-03",
          "009-05",
          "009-08",
          "009-64",
          "010-00",
          "010-03",
          "010-05",
          "010-08",
          "010-64",
          "011-00",
          "011-03",
          "011-05",
          "011-08",
          "011-64",
          "012-00",
          "012-03",
          "012-05",
          "012-08",
          "012-64",
          "013-00",
          "013-00",
          "013-03",
          "013-03",
          "013-05",
          "013-05",
          "013-08",
          "013-08",
          "013-64",
          "013-64"
         ],
         "xaxis": "x4",
         "y": [
          0,
          7.163594874001278,
          0.5935908628148661,
          0.4385921425558207,
          0.34193483127853985,
          0,
          7.163594874001278,
          0.5935908628148661,
          0.4385921425558207,
          0.34193483127853985,
          0,
          7.163594874001278,
          0.5935908628148661,
          0.4385921425558207,
          0.34193483127853985,
          0,
          7.163594874001278,
          0.5935908628148661,
          0.4385921425558207,
          0.34193483127853985,
          0,
          7.163594874001278,
          0.5935908628148661,
          0.4385921425558207,
          0.34193483127853985,
          0,
          7.163594874001278,
          0.5935908628148661,
          0.4385921425558207,
          0.34193483127853985,
          0,
          7.163594874001278,
          0.5935908628148661,
          0.4385921425558207,
          0.34193483127853985,
          0,
          0,
          7.163594874001278,
          7.163594874001278,
          0.5935908628148661,
          0.5935908628148661,
          0.4385921425558207,
          0.4385921425558207,
          0.34193483127853985,
          0.34193483127853985
         ],
         "yaxis": "y4"
        },
        {
         "alignmentgroup": "True",
         "hovertemplate": "task=1-laplace_2.0<br>metric=DynamicFlatRelevance<br>blockid_alpha=%{x}<br>normalized_epsilon=%{y}<extra></extra>",
         "legendgroup": "1-laplace_2.0",
         "marker": {
          "color": "#FFA15A",
          "pattern": {
           "shape": ""
          }
         },
         "name": "1-laplace_2.0",
         "offsetgroup": "1-laplace_2.0",
         "orientation": "v",
         "showlegend": false,
         "textposition": "auto",
         "type": "bar",
         "x": [
          "005-00",
          "005-03",
          "005-05",
          "005-08",
          "005-64",
          "006-00",
          "006-03",
          "006-05",
          "006-08",
          "006-64",
          "008-00",
          "008-03",
          "008-05",
          "008-08",
          "008-64",
          "009-00",
          "009-03",
          "009-05",
          "009-08",
          "009-64",
          "010-00",
          "010-03",
          "010-05",
          "010-08",
          "010-64",
          "011-00",
          "011-03",
          "011-05",
          "011-08",
          "011-64",
          "012-00",
          "012-03",
          "012-05",
          "012-08",
          "012-64",
          "013-00",
          "013-00",
          "013-03",
          "013-03",
          "013-05",
          "013-05",
          "013-08",
          "013-08",
          "013-64",
          "013-64"
         ],
         "xaxis": "x3",
         "y": [
          0,
          7.163594874001278,
          0.5935908628148661,
          0.4385921425558207,
          0.34193483127853985,
          0,
          7.163594874001278,
          0.5935908628148661,
          0.4385921425558207,
          0.34193483127853985,
          0,
          7.163594874001278,
          0.5935908628148661,
          0.4385921425558207,
          0.34193483127853985,
          0,
          7.163594874001278,
          0.5935908628148661,
          0.4385921425558207,
          0.34193483127853985,
          0,
          7.163594874001278,
          0.5935908628148661,
          0.4385921425558207,
          0.34193483127853985,
          0,
          7.163594874001278,
          0.5935908628148661,
          0.4385921425558207,
          0.34193483127853985,
          0,
          7.163594874001278,
          0.5935908628148661,
          0.4385921425558207,
          0.34193483127853985,
          0,
          0,
          7.163594874001278,
          7.163594874001278,
          0.5935908628148661,
          0.5935908628148661,
          0.4385921425558207,
          0.4385921425558207,
          0.34193483127853985,
          0.34193483127853985
         ],
         "yaxis": "y3"
        },
        {
         "alignmentgroup": "True",
         "hovertemplate": "task=1-laplace_2.0<br>metric=FlatRelevance<br>blockid_alpha=%{x}<br>normalized_epsilon=%{y}<extra></extra>",
         "legendgroup": "1-laplace_2.0",
         "marker": {
          "color": "#FFA15A",
          "pattern": {
           "shape": ""
          }
         },
         "name": "1-laplace_2.0",
         "offsetgroup": "1-laplace_2.0",
         "orientation": "v",
         "showlegend": false,
         "textposition": "auto",
         "type": "bar",
         "x": [
          "005-00",
          "005-03",
          "005-05",
          "005-08",
          "005-64",
          "009-00",
          "009-03",
          "009-05",
          "009-08",
          "009-64",
          "010-00",
          "010-03",
          "010-05",
          "010-08",
          "010-64",
          "011-00",
          "011-03",
          "011-05",
          "011-08",
          "011-64",
          "013-00",
          "013-00",
          "013-03",
          "013-03",
          "013-05",
          "013-05",
          "013-08",
          "013-08",
          "013-64",
          "013-64"
         ],
         "xaxis": "x2",
         "y": [
          0,
          7.163594874001278,
          0.5935908628148661,
          0.4385921425558207,
          0.34193483127853985,
          0,
          7.163594874001278,
          0.5935908628148661,
          0.4385921425558207,
          0.34193483127853985,
          0,
          7.163594874001278,
          0.5935908628148661,
          0.4385921425558207,
          0.34193483127853985,
          0,
          7.163594874001278,
          0.5935908628148661,
          0.4385921425558207,
          0.34193483127853985,
          0,
          0,
          7.163594874001278,
          7.163594874001278,
          0.5935908628148661,
          0.5935908628148661,
          0.4385921425558207,
          0.4385921425558207,
          0.34193483127853985,
          0.34193483127853985
         ],
         "yaxis": "y2"
        },
        {
         "alignmentgroup": "True",
         "hovertemplate": "task=1-laplace_2.0<br>metric=Fcfs<br>blockid_alpha=%{x}<br>normalized_epsilon=%{y}<extra></extra>",
         "legendgroup": "1-laplace_2.0",
         "marker": {
          "color": "#FFA15A",
          "pattern": {
           "shape": ""
          }
         },
         "name": "1-laplace_2.0",
         "offsetgroup": "1-laplace_2.0",
         "orientation": "v",
         "showlegend": false,
         "textposition": "auto",
         "type": "bar",
         "x": [
          "010-00",
          "010-03",
          "010-05",
          "010-08",
          "010-64",
          "011-00",
          "011-03",
          "011-05",
          "011-08",
          "011-64",
          "012-00",
          "012-03",
          "012-05",
          "012-08",
          "012-64"
         ],
         "xaxis": "x",
         "y": [
          0,
          7.163594874001278,
          0.5935908628148661,
          0.4385921425558207,
          0.34193483127853985,
          0,
          7.163594874001278,
          0.5935908628148661,
          0.4385921425558207,
          0.34193483127853985,
          0,
          7.163594874001278,
          0.5935908628148661,
          0.4385921425558207,
          0.34193483127853985
         ],
         "yaxis": "y"
        },
        {
         "alignmentgroup": "True",
         "hovertemplate": "task=1-gaussian_3.0<br>metric=DominantShares<br>blockid_alpha=%{x}<br>normalized_epsilon=%{y}<extra></extra>",
         "legendgroup": "1-gaussian_3.0",
         "marker": {
          "color": "#19d3f3",
          "pattern": {
           "shape": ""
          }
         },
         "name": "1-gaussian_3.0",
         "offsetgroup": "1-gaussian_3.0",
         "orientation": "v",
         "showlegend": true,
         "textposition": "auto",
         "type": "bar",
         "x": [
          "005-00",
          "005-03",
          "005-05",
          "005-08",
          "005-64",
          "006-00",
          "006-00",
          "006-03",
          "006-03",
          "006-05",
          "006-05",
          "006-08",
          "006-08",
          "006-64",
          "006-64",
          "007-00",
          "007-00",
          "007-03",
          "007-03",
          "007-05",
          "007-05",
          "007-08",
          "007-08",
          "007-64",
          "007-64",
          "008-00",
          "008-03",
          "008-05",
          "008-08",
          "008-64",
          "010-00",
          "010-03",
          "010-05",
          "010-08",
          "010-64",
          "011-00",
          "011-03",
          "011-05",
          "011-08",
          "011-64",
          "012-00",
          "012-03",
          "012-05",
          "012-08",
          "012-64"
         ],
         "xaxis": "x5",
         "y": [
          0,
          2.3616508380769323,
          0.3070641781446555,
          0.3521536043200231,
          2.1092192409076547,
          0,
          0,
          2.3616508380769323,
          2.3616508380769323,
          0.3070641781446555,
          0.3070641781446555,
          0.3521536043200231,
          0.3521536043200231,
          2.1092192409076547,
          2.1092192409076547,
          0,
          0,
          2.3616508380769323,
          2.3616508380769323,
          0.3070641781446555,
          0.3070641781446555,
          0.3521536043200231,
          0.3521536043200231,
          2.1092192409076547,
          2.1092192409076547,
          0,
          2.3616508380769323,
          0.3070641781446555,
          0.3521536043200231,
          2.1092192409076547,
          0,
          2.3616508380769323,
          0.3070641781446555,
          0.3521536043200231,
          2.1092192409076547,
          0,
          2.3616508380769323,
          0.3070641781446555,
          0.3521536043200231,
          2.1092192409076547,
          0,
          2.3616508380769323,
          0.3070641781446555,
          0.3521536043200231,
          2.1092192409076547
         ],
         "yaxis": "y5"
        },
        {
         "alignmentgroup": "True",
         "hovertemplate": "task=1-gaussian_3.0<br>metric=BatchOverflowRelevance<br>blockid_alpha=%{x}<br>normalized_epsilon=%{y}<extra></extra>",
         "legendgroup": "1-gaussian_3.0",
         "marker": {
          "color": "#19d3f3",
          "pattern": {
           "shape": ""
          }
         },
         "name": "1-gaussian_3.0",
         "offsetgroup": "1-gaussian_3.0",
         "orientation": "v",
         "showlegend": false,
         "textposition": "auto",
         "type": "bar",
         "x": [
          "005-00",
          "005-03",
          "005-05",
          "005-08",
          "005-64",
          "006-00",
          "006-03",
          "006-05",
          "006-08",
          "006-64",
          "010-00",
          "010-03",
          "010-05",
          "010-08",
          "010-64",
          "011-00",
          "011-03",
          "011-05",
          "011-08",
          "011-64"
         ],
         "xaxis": "x4",
         "y": [
          0,
          2.3616508380769323,
          0.3070641781446555,
          0.3521536043200231,
          2.1092192409076547,
          0,
          2.3616508380769323,
          0.3070641781446555,
          0.3521536043200231,
          2.1092192409076547,
          0,
          2.3616508380769323,
          0.3070641781446555,
          0.3521536043200231,
          2.1092192409076547,
          0,
          2.3616508380769323,
          0.3070641781446555,
          0.3521536043200231,
          2.1092192409076547
         ],
         "yaxis": "y4"
        },
        {
         "alignmentgroup": "True",
         "hovertemplate": "task=1-gaussian_3.0<br>metric=DynamicFlatRelevance<br>blockid_alpha=%{x}<br>normalized_epsilon=%{y}<extra></extra>",
         "legendgroup": "1-gaussian_3.0",
         "marker": {
          "color": "#19d3f3",
          "pattern": {
           "shape": ""
          }
         },
         "name": "1-gaussian_3.0",
         "offsetgroup": "1-gaussian_3.0",
         "orientation": "v",
         "showlegend": false,
         "textposition": "auto",
         "type": "bar",
         "x": [
          "005-00",
          "005-03",
          "005-05",
          "005-08",
          "005-64",
          "006-00",
          "006-03",
          "006-05",
          "006-08",
          "006-64",
          "010-00",
          "010-03",
          "010-05",
          "010-08",
          "010-64",
          "011-00",
          "011-03",
          "011-05",
          "011-08",
          "011-64"
         ],
         "xaxis": "x3",
         "y": [
          0,
          2.3616508380769323,
          0.3070641781446555,
          0.3521536043200231,
          2.1092192409076547,
          0,
          2.3616508380769323,
          0.3070641781446555,
          0.3521536043200231,
          2.1092192409076547,
          0,
          2.3616508380769323,
          0.3070641781446555,
          0.3521536043200231,
          2.1092192409076547,
          0,
          2.3616508380769323,
          0.3070641781446555,
          0.3521536043200231,
          2.1092192409076547
         ],
         "yaxis": "y3"
        },
        {
         "alignmentgroup": "True",
         "hovertemplate": "task=1-gaussian_3.0<br>metric=FlatRelevance<br>blockid_alpha=%{x}<br>normalized_epsilon=%{y}<extra></extra>",
         "legendgroup": "1-gaussian_3.0",
         "marker": {
          "color": "#19d3f3",
          "pattern": {
           "shape": ""
          }
         },
         "name": "1-gaussian_3.0",
         "offsetgroup": "1-gaussian_3.0",
         "orientation": "v",
         "showlegend": false,
         "textposition": "auto",
         "type": "bar",
         "x": [
          "005-00",
          "005-03",
          "005-05",
          "005-08",
          "005-64",
          "006-00",
          "006-00",
          "006-03",
          "006-03",
          "006-05",
          "006-05",
          "006-08",
          "006-08",
          "006-64",
          "006-64",
          "007-00",
          "007-00",
          "007-03",
          "007-03",
          "007-05",
          "007-05",
          "007-08",
          "007-08",
          "007-64",
          "007-64",
          "008-00",
          "008-03",
          "008-05",
          "008-08",
          "008-64",
          "010-00",
          "010-03",
          "010-05",
          "010-08",
          "010-64",
          "011-00",
          "011-03",
          "011-05",
          "011-08",
          "011-64",
          "012-00",
          "012-03",
          "012-05",
          "012-08",
          "012-64"
         ],
         "xaxis": "x2",
         "y": [
          0,
          2.3616508380769323,
          0.3070641781446555,
          0.3521536043200231,
          2.1092192409076547,
          0,
          0,
          2.3616508380769323,
          2.3616508380769323,
          0.3070641781446555,
          0.3070641781446555,
          0.3521536043200231,
          0.3521536043200231,
          2.1092192409076547,
          2.1092192409076547,
          0,
          0,
          2.3616508380769323,
          2.3616508380769323,
          0.3070641781446555,
          0.3070641781446555,
          0.3521536043200231,
          0.3521536043200231,
          2.1092192409076547,
          2.1092192409076547,
          0,
          2.3616508380769323,
          0.3070641781446555,
          0.3521536043200231,
          2.1092192409076547,
          0,
          2.3616508380769323,
          0.3070641781446555,
          0.3521536043200231,
          2.1092192409076547,
          0,
          2.3616508380769323,
          0.3070641781446555,
          0.3521536043200231,
          2.1092192409076547,
          0,
          2.3616508380769323,
          0.3070641781446555,
          0.3521536043200231,
          2.1092192409076547
         ],
         "yaxis": "y2"
        },
        {
         "alignmentgroup": "True",
         "hovertemplate": "task=1-gaussian_3.0<br>metric=Fcfs<br>blockid_alpha=%{x}<br>normalized_epsilon=%{y}<extra></extra>",
         "legendgroup": "1-gaussian_3.0",
         "marker": {
          "color": "#19d3f3",
          "pattern": {
           "shape": ""
          }
         },
         "name": "1-gaussian_3.0",
         "offsetgroup": "1-gaussian_3.0",
         "orientation": "v",
         "showlegend": false,
         "textposition": "auto",
         "type": "bar",
         "x": [
          "005-00",
          "005-03",
          "005-05",
          "005-08",
          "005-64",
          "006-00",
          "006-00",
          "006-03",
          "006-03",
          "006-05",
          "006-05",
          "006-08",
          "006-08",
          "006-64",
          "006-64",
          "008-00",
          "008-03",
          "008-05",
          "008-08",
          "008-64",
          "011-00",
          "011-03",
          "011-05",
          "011-08",
          "011-64",
          "012-00",
          "012-03",
          "012-05",
          "012-08",
          "012-64"
         ],
         "xaxis": "x",
         "y": [
          0,
          2.3616508380769323,
          0.3070641781446555,
          0.3521536043200231,
          2.1092192409076547,
          0,
          0,
          2.3616508380769323,
          2.3616508380769323,
          0.3070641781446555,
          0.3070641781446555,
          0.3521536043200231,
          0.3521536043200231,
          2.1092192409076547,
          2.1092192409076547,
          0,
          2.3616508380769323,
          0.3070641781446555,
          0.3521536043200231,
          2.1092192409076547,
          0,
          2.3616508380769323,
          0.3070641781446555,
          0.3521536043200231,
          2.1092192409076547,
          0,
          2.3616508380769323,
          0.3070641781446555,
          0.3521536043200231,
          2.1092192409076547
         ],
         "yaxis": "y"
        },
        {
         "alignmentgroup": "True",
         "hovertemplate": "task=1-gaussian_2.0<br>metric=DominantShares<br>blockid_alpha=%{x}<br>normalized_epsilon=%{y}<extra></extra>",
         "legendgroup": "1-gaussian_2.0",
         "marker": {
          "color": "#FF6692",
          "pattern": {
           "shape": ""
          }
         },
         "name": "1-gaussian_2.0",
         "offsetgroup": "1-gaussian_2.0",
         "orientation": "v",
         "showlegend": true,
         "textposition": "auto",
         "type": "bar",
         "x": [
          "006-00",
          "006-03",
          "006-05",
          "006-08",
          "006-64",
          "007-00",
          "007-00",
          "007-03",
          "007-03",
          "007-05",
          "007-05",
          "007-08",
          "007-08",
          "007-64",
          "007-64",
          "008-00",
          "008-00",
          "008-00",
          "008-00",
          "008-03",
          "008-03",
          "008-03",
          "008-03",
          "008-05",
          "008-05",
          "008-05",
          "008-05",
          "008-08",
          "008-08",
          "008-08",
          "008-08",
          "008-64",
          "008-64",
          "008-64",
          "008-64",
          "009-00",
          "009-03",
          "009-05",
          "009-08",
          "009-64",
          "011-00",
          "011-03",
          "011-05",
          "011-08",
          "011-64",
          "012-00",
          "012-00",
          "012-03",
          "012-03",
          "012-05",
          "012-05",
          "012-08",
          "012-08",
          "012-64",
          "012-64",
          "014-00",
          "014-03",
          "014-05",
          "014-08",
          "014-64"
         ],
         "xaxis": "x5",
         "y": [
          0,
          1.0496225947008588,
          0.13647296806429132,
          0.15651271303112135,
          0.9374307737367353,
          0,
          0,
          1.0496225947008588,
          1.0496225947008588,
          0.13647296806429132,
          0.13647296806429132,
          0.15651271303112135,
          0.15651271303112135,
          0.9374307737367353,
          0.9374307737367353,
          0,
          0,
          0,
          0,
          1.0496225947008588,
          1.0496225947008588,
          1.0496225947008588,
          1.0496225947008588,
          0.13647296806429132,
          0.13647296806429132,
          0.13647296806429132,
          0.13647296806429132,
          0.15651271303112135,
          0.15651271303112135,
          0.15651271303112135,
          0.15651271303112135,
          0.9374307737367353,
          0.9374307737367353,
          0.9374307737367353,
          0.9374307737367353,
          0,
          1.0496225947008588,
          0.13647296806429132,
          0.15651271303112135,
          0.9374307737367353,
          0,
          1.0496225947008588,
          0.13647296806429132,
          0.15651271303112135,
          0.9374307737367353,
          0,
          0,
          1.0496225947008588,
          1.0496225947008588,
          0.13647296806429132,
          0.13647296806429132,
          0.15651271303112135,
          0.15651271303112135,
          0.9374307737367353,
          0.9374307737367353,
          0,
          1.0496225947008588,
          0.13647296806429132,
          0.15651271303112135,
          0.9374307737367353
         ],
         "yaxis": "y5"
        },
        {
         "alignmentgroup": "True",
         "hovertemplate": "task=1-gaussian_2.0<br>metric=BatchOverflowRelevance<br>blockid_alpha=%{x}<br>normalized_epsilon=%{y}<extra></extra>",
         "legendgroup": "1-gaussian_2.0",
         "marker": {
          "color": "#FF6692",
          "pattern": {
           "shape": ""
          }
         },
         "name": "1-gaussian_2.0",
         "offsetgroup": "1-gaussian_2.0",
         "orientation": "v",
         "showlegend": false,
         "textposition": "auto",
         "type": "bar",
         "x": [
          "006-00",
          "006-03",
          "006-05",
          "006-08",
          "006-64",
          "007-00",
          "007-00",
          "007-03",
          "007-03",
          "007-05",
          "007-05",
          "007-08",
          "007-08",
          "007-64",
          "007-64",
          "008-00",
          "008-00",
          "008-00",
          "008-03",
          "008-03",
          "008-03",
          "008-05",
          "008-05",
          "008-05",
          "008-08",
          "008-08",
          "008-08",
          "008-64",
          "008-64",
          "008-64",
          "009-00",
          "009-03",
          "009-05",
          "009-08",
          "009-64",
          "011-00",
          "011-03",
          "011-05",
          "011-08",
          "011-64",
          "012-00",
          "012-00",
          "012-03",
          "012-03",
          "012-05",
          "012-05",
          "012-08",
          "012-08",
          "012-64",
          "012-64",
          "014-00",
          "014-03",
          "014-05",
          "014-08",
          "014-64"
         ],
         "xaxis": "x4",
         "y": [
          0,
          1.0496225947008588,
          0.13647296806429132,
          0.15651271303112135,
          0.9374307737367353,
          0,
          0,
          1.0496225947008588,
          1.0496225947008588,
          0.13647296806429132,
          0.13647296806429132,
          0.15651271303112135,
          0.15651271303112135,
          0.9374307737367353,
          0.9374307737367353,
          0,
          0,
          0,
          1.0496225947008588,
          1.0496225947008588,
          1.0496225947008588,
          0.13647296806429132,
          0.13647296806429132,
          0.13647296806429132,
          0.15651271303112135,
          0.15651271303112135,
          0.15651271303112135,
          0.9374307737367353,
          0.9374307737367353,
          0.9374307737367353,
          0,
          1.0496225947008588,
          0.13647296806429132,
          0.15651271303112135,
          0.9374307737367353,
          0,
          1.0496225947008588,
          0.13647296806429132,
          0.15651271303112135,
          0.9374307737367353,
          0,
          0,
          1.0496225947008588,
          1.0496225947008588,
          0.13647296806429132,
          0.13647296806429132,
          0.15651271303112135,
          0.15651271303112135,
          0.9374307737367353,
          0.9374307737367353,
          0,
          1.0496225947008588,
          0.13647296806429132,
          0.15651271303112135,
          0.9374307737367353
         ],
         "yaxis": "y4"
        },
        {
         "alignmentgroup": "True",
         "hovertemplate": "task=1-gaussian_2.0<br>metric=DynamicFlatRelevance<br>blockid_alpha=%{x}<br>normalized_epsilon=%{y}<extra></extra>",
         "legendgroup": "1-gaussian_2.0",
         "marker": {
          "color": "#FF6692",
          "pattern": {
           "shape": ""
          }
         },
         "name": "1-gaussian_2.0",
         "offsetgroup": "1-gaussian_2.0",
         "orientation": "v",
         "showlegend": false,
         "textposition": "auto",
         "type": "bar",
         "x": [
          "006-00",
          "006-03",
          "006-05",
          "006-08",
          "006-64",
          "007-00",
          "007-00",
          "007-03",
          "007-03",
          "007-05",
          "007-05",
          "007-08",
          "007-08",
          "007-64",
          "007-64",
          "008-00",
          "008-00",
          "008-00",
          "008-03",
          "008-03",
          "008-03",
          "008-05",
          "008-05",
          "008-05",
          "008-08",
          "008-08",
          "008-08",
          "008-64",
          "008-64",
          "008-64",
          "009-00",
          "009-03",
          "009-05",
          "009-08",
          "009-64",
          "011-00",
          "011-03",
          "011-05",
          "011-08",
          "011-64",
          "012-00",
          "012-00",
          "012-03",
          "012-03",
          "012-05",
          "012-05",
          "012-08",
          "012-08",
          "012-64",
          "012-64",
          "014-00",
          "014-03",
          "014-05",
          "014-08",
          "014-64"
         ],
         "xaxis": "x3",
         "y": [
          0,
          1.0496225947008588,
          0.13647296806429132,
          0.15651271303112135,
          0.9374307737367353,
          0,
          0,
          1.0496225947008588,
          1.0496225947008588,
          0.13647296806429132,
          0.13647296806429132,
          0.15651271303112135,
          0.15651271303112135,
          0.9374307737367353,
          0.9374307737367353,
          0,
          0,
          0,
          1.0496225947008588,
          1.0496225947008588,
          1.0496225947008588,
          0.13647296806429132,
          0.13647296806429132,
          0.13647296806429132,
          0.15651271303112135,
          0.15651271303112135,
          0.15651271303112135,
          0.9374307737367353,
          0.9374307737367353,
          0.9374307737367353,
          0,
          1.0496225947008588,
          0.13647296806429132,
          0.15651271303112135,
          0.9374307737367353,
          0,
          1.0496225947008588,
          0.13647296806429132,
          0.15651271303112135,
          0.9374307737367353,
          0,
          0,
          1.0496225947008588,
          1.0496225947008588,
          0.13647296806429132,
          0.13647296806429132,
          0.15651271303112135,
          0.15651271303112135,
          0.9374307737367353,
          0.9374307737367353,
          0,
          1.0496225947008588,
          0.13647296806429132,
          0.15651271303112135,
          0.9374307737367353
         ],
         "yaxis": "y3"
        },
        {
         "alignmentgroup": "True",
         "hovertemplate": "task=1-gaussian_2.0<br>metric=FlatRelevance<br>blockid_alpha=%{x}<br>normalized_epsilon=%{y}<extra></extra>",
         "legendgroup": "1-gaussian_2.0",
         "marker": {
          "color": "#FF6692",
          "pattern": {
           "shape": ""
          }
         },
         "name": "1-gaussian_2.0",
         "offsetgroup": "1-gaussian_2.0",
         "orientation": "v",
         "showlegend": false,
         "textposition": "auto",
         "type": "bar",
         "x": [
          "006-00",
          "006-03",
          "006-05",
          "006-08",
          "006-64",
          "007-00",
          "007-00",
          "007-03",
          "007-03",
          "007-05",
          "007-05",
          "007-08",
          "007-08",
          "007-64",
          "007-64",
          "008-00",
          "008-00",
          "008-00",
          "008-00",
          "008-03",
          "008-03",
          "008-03",
          "008-03",
          "008-05",
          "008-05",
          "008-05",
          "008-05",
          "008-08",
          "008-08",
          "008-08",
          "008-08",
          "008-64",
          "008-64",
          "008-64",
          "008-64",
          "009-00",
          "009-03",
          "009-05",
          "009-08",
          "009-64",
          "011-00",
          "011-03",
          "011-05",
          "011-08",
          "011-64",
          "012-00",
          "012-00",
          "012-03",
          "012-03",
          "012-05",
          "012-05",
          "012-08",
          "012-08",
          "012-64",
          "012-64",
          "014-00",
          "014-03",
          "014-05",
          "014-08",
          "014-64"
         ],
         "xaxis": "x2",
         "y": [
          0,
          1.0496225947008588,
          0.13647296806429132,
          0.15651271303112135,
          0.9374307737367353,
          0,
          0,
          1.0496225947008588,
          1.0496225947008588,
          0.13647296806429132,
          0.13647296806429132,
          0.15651271303112135,
          0.15651271303112135,
          0.9374307737367353,
          0.9374307737367353,
          0,
          0,
          0,
          0,
          1.0496225947008588,
          1.0496225947008588,
          1.0496225947008588,
          1.0496225947008588,
          0.13647296806429132,
          0.13647296806429132,
          0.13647296806429132,
          0.13647296806429132,
          0.15651271303112135,
          0.15651271303112135,
          0.15651271303112135,
          0.15651271303112135,
          0.9374307737367353,
          0.9374307737367353,
          0.9374307737367353,
          0.9374307737367353,
          0,
          1.0496225947008588,
          0.13647296806429132,
          0.15651271303112135,
          0.9374307737367353,
          0,
          1.0496225947008588,
          0.13647296806429132,
          0.15651271303112135,
          0.9374307737367353,
          0,
          0,
          1.0496225947008588,
          1.0496225947008588,
          0.13647296806429132,
          0.13647296806429132,
          0.15651271303112135,
          0.15651271303112135,
          0.9374307737367353,
          0.9374307737367353,
          0,
          1.0496225947008588,
          0.13647296806429132,
          0.15651271303112135,
          0.9374307737367353
         ],
         "yaxis": "y2"
        },
        {
         "alignmentgroup": "True",
         "hovertemplate": "task=1-gaussian_2.0<br>metric=Fcfs<br>blockid_alpha=%{x}<br>normalized_epsilon=%{y}<extra></extra>",
         "legendgroup": "1-gaussian_2.0",
         "marker": {
          "color": "#FF6692",
          "pattern": {
           "shape": ""
          }
         },
         "name": "1-gaussian_2.0",
         "offsetgroup": "1-gaussian_2.0",
         "orientation": "v",
         "showlegend": false,
         "textposition": "auto",
         "type": "bar",
         "x": [
          "006-00",
          "006-03",
          "006-05",
          "006-08",
          "006-64",
          "007-00",
          "007-00",
          "007-03",
          "007-03",
          "007-05",
          "007-05",
          "007-08",
          "007-08",
          "007-64",
          "007-64",
          "008-00",
          "008-00",
          "008-03",
          "008-03",
          "008-05",
          "008-05",
          "008-08",
          "008-08",
          "008-64",
          "008-64",
          "011-00",
          "011-03",
          "011-05",
          "011-08",
          "011-64",
          "012-00",
          "012-03",
          "012-05",
          "012-08",
          "012-64",
          "014-00",
          "014-03",
          "014-05",
          "014-08",
          "014-64"
         ],
         "xaxis": "x",
         "y": [
          0,
          1.0496225947008588,
          0.13647296806429132,
          0.15651271303112135,
          0.9374307737367353,
          0,
          0,
          1.0496225947008588,
          1.0496225947008588,
          0.13647296806429132,
          0.13647296806429132,
          0.15651271303112135,
          0.15651271303112135,
          0.9374307737367353,
          0.9374307737367353,
          0,
          0,
          1.0496225947008588,
          1.0496225947008588,
          0.13647296806429132,
          0.13647296806429132,
          0.15651271303112135,
          0.15651271303112135,
          0.9374307737367353,
          0.9374307737367353,
          0,
          1.0496225947008588,
          0.13647296806429132,
          0.15651271303112135,
          0.9374307737367353,
          0,
          1.0496225947008588,
          0.13647296806429132,
          0.15651271303112135,
          0.9374307737367353,
          0,
          1.0496225947008588,
          0.13647296806429132,
          0.15651271303112135,
          0.9374307737367353
         ],
         "yaxis": "y"
        },
        {
         "alignmentgroup": "True",
         "hovertemplate": "task=1-laplace_3.0<br>metric=BatchOverflowRelevance<br>blockid_alpha=%{x}<br>normalized_epsilon=%{y}<extra></extra>",
         "legendgroup": "1-laplace_3.0",
         "marker": {
          "color": "#B6E880",
          "pattern": {
           "shape": ""
          }
         },
         "name": "1-laplace_3.0",
         "offsetgroup": "1-laplace_3.0",
         "orientation": "v",
         "showlegend": true,
         "textposition": "auto",
         "type": "bar",
         "x": [
          "007-00",
          "007-03",
          "007-05",
          "007-08",
          "007-64"
         ],
         "xaxis": "x4",
         "y": [
          0,
          11.269680891515618,
          0.9139220962511998,
          0.6681976428132131,
          0.5138372103185906
         ],
         "yaxis": "y4"
        },
        {
         "alignmentgroup": "True",
         "hovertemplate": "task=1-laplace_3.0<br>metric=DynamicFlatRelevance<br>blockid_alpha=%{x}<br>normalized_epsilon=%{y}<extra></extra>",
         "legendgroup": "1-laplace_3.0",
         "marker": {
          "color": "#B6E880",
          "pattern": {
           "shape": ""
          }
         },
         "name": "1-laplace_3.0",
         "offsetgroup": "1-laplace_3.0",
         "orientation": "v",
         "showlegend": false,
         "textposition": "auto",
         "type": "bar",
         "x": [
          "007-00",
          "007-03",
          "007-05",
          "007-08",
          "007-64"
         ],
         "xaxis": "x3",
         "y": [
          0,
          11.269680891515618,
          0.9139220962511998,
          0.6681976428132131,
          0.5138372103185906
         ],
         "yaxis": "y3"
        },
        {
         "alignmentgroup": "True",
         "hovertemplate": "task=1-laplace_3.0<br>metric=Fcfs<br>blockid_alpha=%{x}<br>normalized_epsilon=%{y}<extra></extra>",
         "legendgroup": "1-laplace_3.0",
         "marker": {
          "color": "#B6E880",
          "pattern": {
           "shape": ""
          }
         },
         "name": "1-laplace_3.0",
         "offsetgroup": "1-laplace_3.0",
         "orientation": "v",
         "showlegend": false,
         "textposition": "auto",
         "type": "bar",
         "x": [
          "007-00",
          "007-03",
          "007-05",
          "007-08",
          "007-64",
          "009-00",
          "009-03",
          "009-05",
          "009-08",
          "009-64"
         ],
         "xaxis": "x",
         "y": [
          0,
          11.269680891515618,
          0.9139220962511998,
          0.6681976428132131,
          0.5138372103185906,
          0,
          11.269680891515618,
          0.9139220962511998,
          0.6681976428132131,
          0.5138372103185906
         ],
         "yaxis": "y"
        },
        {
         "alignmentgroup": "True",
         "hovertemplate": "task=1-subsampled_gaussian_3.0<br>metric=Fcfs<br>blockid_alpha=%{x}<br>normalized_epsilon=%{y}<extra></extra>",
         "legendgroup": "1-subsampled_gaussian_3.0",
         "marker": {
          "color": "#FF97FF",
          "pattern": {
           "shape": ""
          }
         },
         "name": "1-subsampled_gaussian_3.0",
         "offsetgroup": "1-subsampled_gaussian_3.0",
         "orientation": "v",
         "showlegend": true,
         "textposition": "auto",
         "type": "bar",
         "x": [
          "008-00",
          "008-03",
          "008-05",
          "008-08",
          "008-64",
          "010-00",
          "010-03",
          "010-05",
          "010-08",
          "010-64",
          "013-00",
          "013-00",
          "013-03",
          "013-03",
          "013-05",
          "013-05",
          "013-08",
          "013-08",
          "013-64",
          "013-64"
         ],
         "xaxis": "x",
         "y": [
          0,
          2.3371803395374218,
          0.3159693379699305,
          2.2116779863073015,
          186630.37408144632,
          0,
          2.3371803395374218,
          0.3159693379699305,
          2.2116779863073015,
          186630.37408144632,
          0,
          0,
          2.3371803395374218,
          2.3371803395374218,
          0.3159693379699305,
          0.3159693379699305,
          2.2116779863073015,
          2.2116779863073015,
          186630.37408144632,
          186630.37408144632
         ],
         "yaxis": "y"
        },
        {
         "alignmentgroup": "True",
         "hovertemplate": "task=1-subsampled_gaussian_2.0<br>metric=DominantShares<br>blockid_alpha=%{x}<br>normalized_epsilon=%{y}<extra></extra>",
         "legendgroup": "1-subsampled_gaussian_2.0",
         "marker": {
          "color": "#FECB52",
          "pattern": {
           "shape": ""
          }
         },
         "name": "1-subsampled_gaussian_2.0",
         "offsetgroup": "1-subsampled_gaussian_2.0",
         "orientation": "v",
         "showlegend": true,
         "textposition": "auto",
         "type": "bar",
         "x": [
          "009-00",
          "009-00",
          "009-03",
          "009-03",
          "009-05",
          "009-05",
          "009-08",
          "009-08",
          "009-64",
          "009-64",
          "010-00",
          "010-03",
          "010-05",
          "010-08",
          "010-64"
         ],
         "xaxis": "x5",
         "y": [
          0,
          0,
          1.144683992913701,
          1.144683992913701,
          0.1506705215069613,
          0.1506705215069613,
          0.1762147011874783,
          0.1762147011874783,
          116776.00284542797,
          116776.00284542797,
          0,
          1.144683992913701,
          0.1506705215069613,
          0.1762147011874783,
          116776.00284542797
         ],
         "yaxis": "y5"
        },
        {
         "alignmentgroup": "True",
         "hovertemplate": "task=1-subsampled_gaussian_2.0<br>metric=BatchOverflowRelevance<br>blockid_alpha=%{x}<br>normalized_epsilon=%{y}<extra></extra>",
         "legendgroup": "1-subsampled_gaussian_2.0",
         "marker": {
          "color": "#FECB52",
          "pattern": {
           "shape": ""
          }
         },
         "name": "1-subsampled_gaussian_2.0",
         "offsetgroup": "1-subsampled_gaussian_2.0",
         "orientation": "v",
         "showlegend": false,
         "textposition": "auto",
         "type": "bar",
         "x": [
          "009-00",
          "009-00",
          "009-03",
          "009-03",
          "009-05",
          "009-05",
          "009-08",
          "009-08",
          "009-64",
          "009-64",
          "010-00",
          "010-03",
          "010-05",
          "010-08",
          "010-64"
         ],
         "xaxis": "x4",
         "y": [
          0,
          0,
          1.144683992913701,
          1.144683992913701,
          0.1506705215069613,
          0.1506705215069613,
          0.1762147011874783,
          0.1762147011874783,
          116776.00284542797,
          116776.00284542797,
          0,
          1.144683992913701,
          0.1506705215069613,
          0.1762147011874783,
          116776.00284542797
         ],
         "yaxis": "y4"
        },
        {
         "alignmentgroup": "True",
         "hovertemplate": "task=1-subsampled_gaussian_2.0<br>metric=DynamicFlatRelevance<br>blockid_alpha=%{x}<br>normalized_epsilon=%{y}<extra></extra>",
         "legendgroup": "1-subsampled_gaussian_2.0",
         "marker": {
          "color": "#FECB52",
          "pattern": {
           "shape": ""
          }
         },
         "name": "1-subsampled_gaussian_2.0",
         "offsetgroup": "1-subsampled_gaussian_2.0",
         "orientation": "v",
         "showlegend": false,
         "textposition": "auto",
         "type": "bar",
         "x": [
          "009-00",
          "009-00",
          "009-03",
          "009-03",
          "009-05",
          "009-05",
          "009-08",
          "009-08",
          "009-64",
          "009-64",
          "010-00",
          "010-03",
          "010-05",
          "010-08",
          "010-64"
         ],
         "xaxis": "x3",
         "y": [
          0,
          0,
          1.144683992913701,
          1.144683992913701,
          0.1506705215069613,
          0.1506705215069613,
          0.1762147011874783,
          0.1762147011874783,
          116776.00284542797,
          116776.00284542797,
          0,
          1.144683992913701,
          0.1506705215069613,
          0.1762147011874783,
          116776.00284542797
         ],
         "yaxis": "y3"
        },
        {
         "alignmentgroup": "True",
         "hovertemplate": "task=1-subsampled_gaussian_2.0<br>metric=FlatRelevance<br>blockid_alpha=%{x}<br>normalized_epsilon=%{y}<extra></extra>",
         "legendgroup": "1-subsampled_gaussian_2.0",
         "marker": {
          "color": "#FECB52",
          "pattern": {
           "shape": ""
          }
         },
         "name": "1-subsampled_gaussian_2.0",
         "offsetgroup": "1-subsampled_gaussian_2.0",
         "orientation": "v",
         "showlegend": false,
         "textposition": "auto",
         "type": "bar",
         "x": [
          "009-00",
          "009-00",
          "009-03",
          "009-03",
          "009-05",
          "009-05",
          "009-08",
          "009-08",
          "009-64",
          "009-64",
          "010-00",
          "010-03",
          "010-05",
          "010-08",
          "010-64"
         ],
         "xaxis": "x2",
         "y": [
          0,
          0,
          1.144683992913701,
          1.144683992913701,
          0.1506705215069613,
          0.1506705215069613,
          0.1762147011874783,
          0.1762147011874783,
          116776.00284542797,
          116776.00284542797,
          0,
          1.144683992913701,
          0.1506705215069613,
          0.1762147011874783,
          116776.00284542797
         ],
         "yaxis": "y2"
        },
        {
         "alignmentgroup": "True",
         "hovertemplate": "task=1-subsampled_gaussian_2.0<br>metric=Fcfs<br>blockid_alpha=%{x}<br>normalized_epsilon=%{y}<extra></extra>",
         "legendgroup": "1-subsampled_gaussian_2.0",
         "marker": {
          "color": "#FECB52",
          "pattern": {
           "shape": ""
          }
         },
         "name": "1-subsampled_gaussian_2.0",
         "offsetgroup": "1-subsampled_gaussian_2.0",
         "orientation": "v",
         "showlegend": false,
         "textposition": "auto",
         "type": "bar",
         "x": [
          "009-00",
          "009-03",
          "009-05",
          "009-08",
          "009-64",
          "010-00",
          "010-03",
          "010-05",
          "010-08",
          "010-64",
          "013-00",
          "013-00",
          "013-03",
          "013-03",
          "013-05",
          "013-05",
          "013-08",
          "013-08",
          "013-64",
          "013-64"
         ],
         "xaxis": "x",
         "y": [
          0,
          1.144683992913701,
          0.1506705215069613,
          0.1762147011874783,
          116776.00284542797,
          0,
          1.144683992913701,
          0.1506705215069613,
          0.1762147011874783,
          116776.00284542797,
          0,
          0,
          1.144683992913701,
          1.144683992913701,
          0.1506705215069613,
          0.1506705215069613,
          0.1762147011874783,
          0.1762147011874783,
          116776.00284542797,
          116776.00284542797
         ],
         "yaxis": "y"
        }
       ],
       "layout": {
        "annotations": [
         {
          "font": {},
          "showarrow": false,
          "text": "metric=Fcfs",
          "x": 0.5,
          "xanchor": "center",
          "xref": "paper",
          "y": 0.144,
          "yanchor": "bottom",
          "yref": "paper"
         },
         {
          "font": {},
          "showarrow": false,
          "text": "metric=FlatRelevance",
          "x": 0.5,
          "xanchor": "center",
          "xref": "paper",
          "y": 0.358,
          "yanchor": "bottom",
          "yref": "paper"
         },
         {
          "font": {},
          "showarrow": false,
          "text": "metric=DynamicFlatRelevance",
          "x": 0.5,
          "xanchor": "center",
          "xref": "paper",
          "y": 0.572,
          "yanchor": "bottom",
          "yref": "paper"
         },
         {
          "font": {},
          "showarrow": false,
          "text": "metric=BatchOverflowRelevance",
          "x": 0.5,
          "xanchor": "center",
          "xref": "paper",
          "y": 0.7859999999999999,
          "yanchor": "bottom",
          "yref": "paper"
         },
         {
          "font": {},
          "showarrow": false,
          "text": "metric=DominantShares",
          "x": 0.5,
          "xanchor": "center",
          "xref": "paper",
          "y": 1,
          "yanchor": "bottom",
          "yref": "paper"
         }
        ],
        "autosize": true,
        "barmode": "relative",
        "legend": {
         "title": {
          "text": "task"
         },
         "tracegroupgap": 0
        },
        "margin": {
         "t": 60
        },
        "template": {
         "data": {
          "bar": [
           {
            "error_x": {
             "color": "#2a3f5f"
            },
            "error_y": {
             "color": "#2a3f5f"
            },
            "marker": {
             "line": {
              "color": "#E5ECF6",
              "width": 0.5
             },
             "pattern": {
              "fillmode": "overlay",
              "size": 10,
              "solidity": 0.2
             }
            },
            "type": "bar"
           }
          ],
          "barpolar": [
           {
            "marker": {
             "line": {
              "color": "#E5ECF6",
              "width": 0.5
             },
             "pattern": {
              "fillmode": "overlay",
              "size": 10,
              "solidity": 0.2
             }
            },
            "type": "barpolar"
           }
          ],
          "carpet": [
           {
            "aaxis": {
             "endlinecolor": "#2a3f5f",
             "gridcolor": "white",
             "linecolor": "white",
             "minorgridcolor": "white",
             "startlinecolor": "#2a3f5f"
            },
            "baxis": {
             "endlinecolor": "#2a3f5f",
             "gridcolor": "white",
             "linecolor": "white",
             "minorgridcolor": "white",
             "startlinecolor": "#2a3f5f"
            },
            "type": "carpet"
           }
          ],
          "choropleth": [
           {
            "colorbar": {
             "outlinewidth": 0,
             "ticks": ""
            },
            "type": "choropleth"
           }
          ],
          "contour": [
           {
            "colorbar": {
             "outlinewidth": 0,
             "ticks": ""
            },
            "colorscale": [
             [
              0,
              "#0d0887"
             ],
             [
              0.1111111111111111,
              "#46039f"
             ],
             [
              0.2222222222222222,
              "#7201a8"
             ],
             [
              0.3333333333333333,
              "#9c179e"
             ],
             [
              0.4444444444444444,
              "#bd3786"
             ],
             [
              0.5555555555555556,
              "#d8576b"
             ],
             [
              0.6666666666666666,
              "#ed7953"
             ],
             [
              0.7777777777777778,
              "#fb9f3a"
             ],
             [
              0.8888888888888888,
              "#fdca26"
             ],
             [
              1,
              "#f0f921"
             ]
            ],
            "type": "contour"
           }
          ],
          "contourcarpet": [
           {
            "colorbar": {
             "outlinewidth": 0,
             "ticks": ""
            },
            "type": "contourcarpet"
           }
          ],
          "heatmap": [
           {
            "colorbar": {
             "outlinewidth": 0,
             "ticks": ""
            },
            "colorscale": [
             [
              0,
              "#0d0887"
             ],
             [
              0.1111111111111111,
              "#46039f"
             ],
             [
              0.2222222222222222,
              "#7201a8"
             ],
             [
              0.3333333333333333,
              "#9c179e"
             ],
             [
              0.4444444444444444,
              "#bd3786"
             ],
             [
              0.5555555555555556,
              "#d8576b"
             ],
             [
              0.6666666666666666,
              "#ed7953"
             ],
             [
              0.7777777777777778,
              "#fb9f3a"
             ],
             [
              0.8888888888888888,
              "#fdca26"
             ],
             [
              1,
              "#f0f921"
             ]
            ],
            "type": "heatmap"
           }
          ],
          "heatmapgl": [
           {
            "colorbar": {
             "outlinewidth": 0,
             "ticks": ""
            },
            "colorscale": [
             [
              0,
              "#0d0887"
             ],
             [
              0.1111111111111111,
              "#46039f"
             ],
             [
              0.2222222222222222,
              "#7201a8"
             ],
             [
              0.3333333333333333,
              "#9c179e"
             ],
             [
              0.4444444444444444,
              "#bd3786"
             ],
             [
              0.5555555555555556,
              "#d8576b"
             ],
             [
              0.6666666666666666,
              "#ed7953"
             ],
             [
              0.7777777777777778,
              "#fb9f3a"
             ],
             [
              0.8888888888888888,
              "#fdca26"
             ],
             [
              1,
              "#f0f921"
             ]
            ],
            "type": "heatmapgl"
           }
          ],
          "histogram": [
           {
            "marker": {
             "pattern": {
              "fillmode": "overlay",
              "size": 10,
              "solidity": 0.2
             }
            },
            "type": "histogram"
           }
          ],
          "histogram2d": [
           {
            "colorbar": {
             "outlinewidth": 0,
             "ticks": ""
            },
            "colorscale": [
             [
              0,
              "#0d0887"
             ],
             [
              0.1111111111111111,
              "#46039f"
             ],
             [
              0.2222222222222222,
              "#7201a8"
             ],
             [
              0.3333333333333333,
              "#9c179e"
             ],
             [
              0.4444444444444444,
              "#bd3786"
             ],
             [
              0.5555555555555556,
              "#d8576b"
             ],
             [
              0.6666666666666666,
              "#ed7953"
             ],
             [
              0.7777777777777778,
              "#fb9f3a"
             ],
             [
              0.8888888888888888,
              "#fdca26"
             ],
             [
              1,
              "#f0f921"
             ]
            ],
            "type": "histogram2d"
           }
          ],
          "histogram2dcontour": [
           {
            "colorbar": {
             "outlinewidth": 0,
             "ticks": ""
            },
            "colorscale": [
             [
              0,
              "#0d0887"
             ],
             [
              0.1111111111111111,
              "#46039f"
             ],
             [
              0.2222222222222222,
              "#7201a8"
             ],
             [
              0.3333333333333333,
              "#9c179e"
             ],
             [
              0.4444444444444444,
              "#bd3786"
             ],
             [
              0.5555555555555556,
              "#d8576b"
             ],
             [
              0.6666666666666666,
              "#ed7953"
             ],
             [
              0.7777777777777778,
              "#fb9f3a"
             ],
             [
              0.8888888888888888,
              "#fdca26"
             ],
             [
              1,
              "#f0f921"
             ]
            ],
            "type": "histogram2dcontour"
           }
          ],
          "mesh3d": [
           {
            "colorbar": {
             "outlinewidth": 0,
             "ticks": ""
            },
            "type": "mesh3d"
           }
          ],
          "parcoords": [
           {
            "line": {
             "colorbar": {
              "outlinewidth": 0,
              "ticks": ""
             }
            },
            "type": "parcoords"
           }
          ],
          "pie": [
           {
            "automargin": true,
            "type": "pie"
           }
          ],
          "scatter": [
           {
            "marker": {
             "colorbar": {
              "outlinewidth": 0,
              "ticks": ""
             }
            },
            "type": "scatter"
           }
          ],
          "scatter3d": [
           {
            "line": {
             "colorbar": {
              "outlinewidth": 0,
              "ticks": ""
             }
            },
            "marker": {
             "colorbar": {
              "outlinewidth": 0,
              "ticks": ""
             }
            },
            "type": "scatter3d"
           }
          ],
          "scattercarpet": [
           {
            "marker": {
             "colorbar": {
              "outlinewidth": 0,
              "ticks": ""
             }
            },
            "type": "scattercarpet"
           }
          ],
          "scattergeo": [
           {
            "marker": {
             "colorbar": {
              "outlinewidth": 0,
              "ticks": ""
             }
            },
            "type": "scattergeo"
           }
          ],
          "scattergl": [
           {
            "marker": {
             "colorbar": {
              "outlinewidth": 0,
              "ticks": ""
             }
            },
            "type": "scattergl"
           }
          ],
          "scattermapbox": [
           {
            "marker": {
             "colorbar": {
              "outlinewidth": 0,
              "ticks": ""
             }
            },
            "type": "scattermapbox"
           }
          ],
          "scatterpolar": [
           {
            "marker": {
             "colorbar": {
              "outlinewidth": 0,
              "ticks": ""
             }
            },
            "type": "scatterpolar"
           }
          ],
          "scatterpolargl": [
           {
            "marker": {
             "colorbar": {
              "outlinewidth": 0,
              "ticks": ""
             }
            },
            "type": "scatterpolargl"
           }
          ],
          "scatterternary": [
           {
            "marker": {
             "colorbar": {
              "outlinewidth": 0,
              "ticks": ""
             }
            },
            "type": "scatterternary"
           }
          ],
          "surface": [
           {
            "colorbar": {
             "outlinewidth": 0,
             "ticks": ""
            },
            "colorscale": [
             [
              0,
              "#0d0887"
             ],
             [
              0.1111111111111111,
              "#46039f"
             ],
             [
              0.2222222222222222,
              "#7201a8"
             ],
             [
              0.3333333333333333,
              "#9c179e"
             ],
             [
              0.4444444444444444,
              "#bd3786"
             ],
             [
              0.5555555555555556,
              "#d8576b"
             ],
             [
              0.6666666666666666,
              "#ed7953"
             ],
             [
              0.7777777777777778,
              "#fb9f3a"
             ],
             [
              0.8888888888888888,
              "#fdca26"
             ],
             [
              1,
              "#f0f921"
             ]
            ],
            "type": "surface"
           }
          ],
          "table": [
           {
            "cells": {
             "fill": {
              "color": "#EBF0F8"
             },
             "line": {
              "color": "white"
             }
            },
            "header": {
             "fill": {
              "color": "#C8D4E3"
             },
             "line": {
              "color": "white"
             }
            },
            "type": "table"
           }
          ]
         },
         "layout": {
          "annotationdefaults": {
           "arrowcolor": "#2a3f5f",
           "arrowhead": 0,
           "arrowwidth": 1
          },
          "autotypenumbers": "strict",
          "coloraxis": {
           "colorbar": {
            "outlinewidth": 0,
            "ticks": ""
           }
          },
          "colorscale": {
           "diverging": [
            [
             0,
             "#8e0152"
            ],
            [
             0.1,
             "#c51b7d"
            ],
            [
             0.2,
             "#de77ae"
            ],
            [
             0.3,
             "#f1b6da"
            ],
            [
             0.4,
             "#fde0ef"
            ],
            [
             0.5,
             "#f7f7f7"
            ],
            [
             0.6,
             "#e6f5d0"
            ],
            [
             0.7,
             "#b8e186"
            ],
            [
             0.8,
             "#7fbc41"
            ],
            [
             0.9,
             "#4d9221"
            ],
            [
             1,
             "#276419"
            ]
           ],
           "sequential": [
            [
             0,
             "#0d0887"
            ],
            [
             0.1111111111111111,
             "#46039f"
            ],
            [
             0.2222222222222222,
             "#7201a8"
            ],
            [
             0.3333333333333333,
             "#9c179e"
            ],
            [
             0.4444444444444444,
             "#bd3786"
            ],
            [
             0.5555555555555556,
             "#d8576b"
            ],
            [
             0.6666666666666666,
             "#ed7953"
            ],
            [
             0.7777777777777778,
             "#fb9f3a"
            ],
            [
             0.8888888888888888,
             "#fdca26"
            ],
            [
             1,
             "#f0f921"
            ]
           ],
           "sequentialminus": [
            [
             0,
             "#0d0887"
            ],
            [
             0.1111111111111111,
             "#46039f"
            ],
            [
             0.2222222222222222,
             "#7201a8"
            ],
            [
             0.3333333333333333,
             "#9c179e"
            ],
            [
             0.4444444444444444,
             "#bd3786"
            ],
            [
             0.5555555555555556,
             "#d8576b"
            ],
            [
             0.6666666666666666,
             "#ed7953"
            ],
            [
             0.7777777777777778,
             "#fb9f3a"
            ],
            [
             0.8888888888888888,
             "#fdca26"
            ],
            [
             1,
             "#f0f921"
            ]
           ]
          },
          "colorway": [
           "#636efa",
           "#EF553B",
           "#00cc96",
           "#ab63fa",
           "#FFA15A",
           "#19d3f3",
           "#FF6692",
           "#B6E880",
           "#FF97FF",
           "#FECB52"
          ],
          "font": {
           "color": "#2a3f5f"
          },
          "geo": {
           "bgcolor": "white",
           "lakecolor": "white",
           "landcolor": "#E5ECF6",
           "showlakes": true,
           "showland": true,
           "subunitcolor": "white"
          },
          "hoverlabel": {
           "align": "left"
          },
          "hovermode": "closest",
          "mapbox": {
           "style": "light"
          },
          "paper_bgcolor": "white",
          "plot_bgcolor": "#E5ECF6",
          "polar": {
           "angularaxis": {
            "gridcolor": "white",
            "linecolor": "white",
            "ticks": ""
           },
           "bgcolor": "#E5ECF6",
           "radialaxis": {
            "gridcolor": "white",
            "linecolor": "white",
            "ticks": ""
           }
          },
          "scene": {
           "xaxis": {
            "backgroundcolor": "#E5ECF6",
            "gridcolor": "white",
            "gridwidth": 2,
            "linecolor": "white",
            "showbackground": true,
            "ticks": "",
            "zerolinecolor": "white"
           },
           "yaxis": {
            "backgroundcolor": "#E5ECF6",
            "gridcolor": "white",
            "gridwidth": 2,
            "linecolor": "white",
            "showbackground": true,
            "ticks": "",
            "zerolinecolor": "white"
           },
           "zaxis": {
            "backgroundcolor": "#E5ECF6",
            "gridcolor": "white",
            "gridwidth": 2,
            "linecolor": "white",
            "showbackground": true,
            "ticks": "",
            "zerolinecolor": "white"
           }
          },
          "shapedefaults": {
           "line": {
            "color": "#2a3f5f"
           }
          },
          "ternary": {
           "aaxis": {
            "gridcolor": "white",
            "linecolor": "white",
            "ticks": ""
           },
           "baxis": {
            "gridcolor": "white",
            "linecolor": "white",
            "ticks": ""
           },
           "bgcolor": "#E5ECF6",
           "caxis": {
            "gridcolor": "white",
            "linecolor": "white",
            "ticks": ""
           }
          },
          "title": {
           "x": 0.05
          },
          "xaxis": {
           "automargin": true,
           "gridcolor": "white",
           "linecolor": "white",
           "ticks": "",
           "title": {
            "standoff": 15
           },
           "zerolinecolor": "white",
           "zerolinewidth": 2
          },
          "yaxis": {
           "automargin": true,
           "gridcolor": "white",
           "linecolor": "white",
           "ticks": "",
           "title": {
            "standoff": 15
           },
           "zerolinecolor": "white",
           "zerolinewidth": 2
          }
         }
        },
        "xaxis": {
         "anchor": "y",
         "autorange": true,
         "domain": [
          0,
          1
         ],
         "range": [
          -0.5,
          69.5
         ],
         "title": {
          "text": "blockid_alpha"
         },
         "type": "category"
        },
        "xaxis2": {
         "anchor": "y2",
         "autorange": true,
         "domain": [
          0,
          1
         ],
         "matches": "x",
         "range": [
          -0.5,
          69.5
         ],
         "showticklabels": false,
         "type": "category"
        },
        "xaxis3": {
         "anchor": "y3",
         "autorange": true,
         "domain": [
          0,
          1
         ],
         "matches": "x",
         "range": [
          -0.5,
          69.5
         ],
         "showticklabels": false,
         "type": "category"
        },
        "xaxis4": {
         "anchor": "y4",
         "autorange": true,
         "domain": [
          0,
          1
         ],
         "matches": "x",
         "range": [
          -0.5,
          69.5
         ],
         "showticklabels": false,
         "type": "category"
        },
        "xaxis5": {
         "anchor": "y5",
         "autorange": true,
         "domain": [
          0,
          1
         ],
         "matches": "x",
         "range": [
          -0.5,
          69.5
         ],
         "showticklabels": false,
         "type": "category"
        },
        "yaxis": {
         "anchor": "x",
         "domain": [
          0,
          0.144
         ],
         "range": [
          0,
          3
         ],
         "title": {
          "text": "normalized_epsilon"
         },
         "type": "linear"
        },
        "yaxis2": {
         "anchor": "x2",
         "domain": [
          0.214,
          0.358
         ],
         "matches": "y",
         "range": [
          0,
          3
         ],
         "title": {
          "text": "normalized_epsilon"
         },
         "type": "linear"
        },
        "yaxis3": {
         "anchor": "x3",
         "domain": [
          0.428,
          0.572
         ],
         "matches": "y",
         "range": [
          0,
          3
         ],
         "title": {
          "text": "normalized_epsilon"
         },
         "type": "linear"
        },
        "yaxis4": {
         "anchor": "x4",
         "domain": [
          0.6419999999999999,
          0.7859999999999999
         ],
         "matches": "y",
         "range": [
          0,
          3
         ],
         "title": {
          "text": "normalized_epsilon"
         },
         "type": "linear"
        },
        "yaxis5": {
         "anchor": "x5",
         "domain": [
          0.856,
          1
         ],
         "matches": "y",
         "range": [
          0,
          3
         ],
         "title": {
          "text": "normalized_epsilon"
         },
         "type": "linear"
        }
       }
      },
      "image/png": "[encoded data removed]",
      "text/html": [
       "<div>                            <div id=\"d8406232-252c-4927-8986-e4cca7440ccc\" class=\"plotly-graph-div\" style=\"height:1200px; width:100%;\"></div>            <script type=\"text/javascript\">                require([\"plotly\"], function(Plotly) {                    window.PLOTLYENV=window.PLOTLYENV || {};                                    if (document.getElementById(\"d8406232-252c-4927-8986-e4cca7440ccc\")) {                    Plotly.newPlot(                        \"d8406232-252c-4927-8986-e4cca7440ccc\",                        [{\"alignmentgroup\":\"True\",\"hovertemplate\":\"task=5-gaussian_3.0<br>metric=DominantShares<br>blockid_alpha=%{x}<br>normalized_epsilon=%{y}<extra></extra>\",\"legendgroup\":\"5-gaussian_3.0\",\"marker\":{\"color\":\"#636efa\",\"pattern\":{\"shape\":\"\"}},\"name\":\"5-gaussian_3.0\",\"offsetgroup\":\"5-gaussian_3.0\",\"orientation\":\"v\",\"showlegend\":true,\"textposition\":\"auto\",\"type\":\"bar\",\"x\":[\"001-00\",\"001-03\",\"001-05\",\"001-08\",\"001-64\",\"002-00\",\"002-03\",\"002-05\",\"002-08\",\"002-64\",\"003-00\",\"003-03\",\"003-05\",\"003-08\",\"003-64\",\"004-00\",\"004-03\",\"004-05\",\"004-08\",\"004-64\",\"005-00\",\"005-03\",\"005-05\",\"005-08\",\"005-64\"],\"xaxis\":\"x5\",\"y\":[0.0,2.3616508380769323,0.3070641781446555,0.3521536043200231,2.1092192409076547,0.0,2.3616508380769323,0.3070641781446555,0.3521536043200231,2.1092192409076547,0.0,2.3616508380769323,0.3070641781446555,0.3521536043200231,2.1092192409076547,0.0,2.3616508380769323,0.3070641781446555,0.3521536043200231,2.1092192409076547,0.0,2.3616508380769323,0.3070641781446555,0.3521536043200231,2.1092192409076547],\"yaxis\":\"y5\"},{\"alignmentgroup\":\"True\",\"hovertemplate\":\"task=5-subsampled_gaussian_2.0<br>metric=DominantShares<br>blockid_alpha=%{x}<br>normalized_epsilon=%{y}<extra></extra>\",\"legendgroup\":\"5-subsampled_gaussian_2.0\",\"marker\":{\"color\":\"#EF553B\",\"pattern\":{\"shape\":\"\"}},\"name\":\"5-subsampled_gaussian_2.0\",\"offsetgroup\":\"5-subsampled_gaussian_2.0\",\"orientation\":\"v\",\"showlegend\":true,\"textposition\":\"auto\",\"type\":\"bar\",\"x\":[\"001-00\",\"001-03\",\"001-05\",\"001-08\",\"001-64\",\"002-00\",\"002-03\",\"002-05\",\"002-08\",\"002-64\",\"003-00\",\"003-03\",\"003-05\",\"003-08\",\"003-64\",\"004-00\",\"004-03\",\"004-05\",\"004-08\",\"004-64\",\"005-00\",\"005-03\",\"005-05\",\"005-08\",\"005-64\"],\"xaxis\":\"x5\",\"y\":[0.0,1.144683992913701,0.1506705215069613,0.1762147011874783,116776.00284542797,0.0,1.144683992913701,0.1506705215069613,0.1762147011874783,116776.00284542797,0.0,1.144683992913701,0.1506705215069613,0.1762147011874783,116776.00284542797,0.0,1.144683992913701,0.1506705215069613,0.1762147011874783,116776.00284542797,0.0,1.144683992913701,0.1506705215069613,0.1762147011874783,116776.00284542797],\"yaxis\":\"y5\"},{\"alignmentgroup\":\"True\",\"hovertemplate\":\"task=5-gaussian_2.0<br>metric=DominantShares<br>blockid_alpha=%{x}<br>normalized_epsilon=%{y}<extra></extra>\",\"legendgroup\":\"5-gaussian_2.0\",\"marker\":{\"color\":\"#00cc96\",\"pattern\":{\"shape\":\"\"}},\"name\":\"5-gaussian_2.0\",\"offsetgroup\":\"5-gaussian_2.0\",\"orientation\":\"v\",\"showlegend\":true,\"textposition\":\"auto\",\"type\":\"bar\",\"x\":[\"001-00\",\"001-03\",\"001-05\",\"001-08\",\"001-64\",\"002-00\",\"002-03\",\"002-05\",\"002-08\",\"002-64\",\"003-00\",\"003-03\",\"003-05\",\"003-08\",\"003-64\",\"004-00\",\"004-03\",\"004-05\",\"004-08\",\"004-64\",\"005-00\",\"005-03\",\"005-05\",\"005-08\",\"005-64\"],\"xaxis\":\"x5\",\"y\":[0.0,1.0496225947008588,0.13647296806429132,0.15651271303112135,0.9374307737367353,0.0,1.0496225947008588,0.13647296806429132,0.15651271303112135,0.9374307737367353,0.0,1.0496225947008588,0.13647296806429132,0.15651271303112135,0.9374307737367353,0.0,1.0496225947008588,0.13647296806429132,0.15651271303112135,0.9374307737367353,0.0,1.0496225947008588,0.13647296806429132,0.15651271303112135,0.9374307737367353],\"yaxis\":\"y5\"},{\"alignmentgroup\":\"True\",\"hovertemplate\":\"task=5-gaussian_2.0<br>metric=BatchOverflowRelevance<br>blockid_alpha=%{x}<br>normalized_epsilon=%{y}<extra></extra>\",\"legendgroup\":\"5-gaussian_2.0\",\"marker\":{\"color\":\"#00cc96\",\"pattern\":{\"shape\":\"\"}},\"name\":\"5-gaussian_2.0\",\"offsetgroup\":\"5-gaussian_2.0\",\"orientation\":\"v\",\"showlegend\":false,\"textposition\":\"auto\",\"type\":\"bar\",\"x\":[\"001-00\",\"001-03\",\"001-05\",\"001-08\",\"001-64\",\"002-00\",\"002-03\",\"002-05\",\"002-08\",\"002-64\",\"003-00\",\"003-03\",\"003-05\",\"003-08\",\"003-64\",\"004-00\",\"004-03\",\"004-05\",\"004-08\",\"004-64\",\"005-00\",\"005-03\",\"005-05\",\"005-08\",\"005-64\"],\"xaxis\":\"x4\",\"y\":[0.0,1.0496225947008588,0.13647296806429132,0.15651271303112135,0.9374307737367353,0.0,1.0496225947008588,0.13647296806429132,0.15651271303112135,0.9374307737367353,0.0,1.0496225947008588,0.13647296806429132,0.15651271303112135,0.9374307737367353,0.0,1.0496225947008588,0.13647296806429132,0.15651271303112135,0.9374307737367353,0.0,1.0496225947008588,0.13647296806429132,0.15651271303112135,0.9374307737367353],\"yaxis\":\"y4\"},{\"alignmentgroup\":\"True\",\"hovertemplate\":\"task=5-gaussian_2.0<br>metric=DynamicFlatRelevance<br>blockid_alpha=%{x}<br>normalized_epsilon=%{y}<extra></extra>\",\"legendgroup\":\"5-gaussian_2.0\",\"marker\":{\"color\":\"#00cc96\",\"pattern\":{\"shape\":\"\"}},\"name\":\"5-gaussian_2.0\",\"offsetgroup\":\"5-gaussian_2.0\",\"orientation\":\"v\",\"showlegend\":false,\"textposition\":\"auto\",\"type\":\"bar\",\"x\":[\"001-00\",\"001-03\",\"001-05\",\"001-08\",\"001-64\",\"002-00\",\"002-03\",\"002-05\",\"002-08\",\"002-64\",\"003-00\",\"003-03\",\"003-05\",\"003-08\",\"003-64\",\"004-00\",\"004-03\",\"004-05\",\"004-08\",\"004-64\",\"005-00\",\"005-03\",\"005-05\",\"005-08\",\"005-64\"],\"xaxis\":\"x3\",\"y\":[0.0,1.0496225947008588,0.13647296806429132,0.15651271303112135,0.9374307737367353,0.0,1.0496225947008588,0.13647296806429132,0.15651271303112135,0.9374307737367353,0.0,1.0496225947008588,0.13647296806429132,0.15651271303112135,0.9374307737367353,0.0,1.0496225947008588,0.13647296806429132,0.15651271303112135,0.9374307737367353,0.0,1.0496225947008588,0.13647296806429132,0.15651271303112135,0.9374307737367353],\"yaxis\":\"y3\"},{\"alignmentgroup\":\"True\",\"hovertemplate\":\"task=5-gaussian_2.0<br>metric=FlatRelevance<br>blockid_alpha=%{x}<br>normalized_epsilon=%{y}<extra></extra>\",\"legendgroup\":\"5-gaussian_2.0\",\"marker\":{\"color\":\"#00cc96\",\"pattern\":{\"shape\":\"\"}},\"name\":\"5-gaussian_2.0\",\"offsetgroup\":\"5-gaussian_2.0\",\"orientation\":\"v\",\"showlegend\":false,\"textposition\":\"auto\",\"type\":\"bar\",\"x\":[\"001-00\",\"001-03\",\"001-05\",\"001-08\",\"001-64\",\"002-00\",\"002-03\",\"002-05\",\"002-08\",\"002-64\",\"003-00\",\"003-03\",\"003-05\",\"003-08\",\"003-64\",\"004-00\",\"004-03\",\"004-05\",\"004-08\",\"004-64\",\"005-00\",\"005-03\",\"005-05\",\"005-08\",\"005-64\"],\"xaxis\":\"x2\",\"y\":[0.0,1.0496225947008588,0.13647296806429132,0.15651271303112135,0.9374307737367353,0.0,1.0496225947008588,0.13647296806429132,0.15651271303112135,0.9374307737367353,0.0,1.0496225947008588,0.13647296806429132,0.15651271303112135,0.9374307737367353,0.0,1.0496225947008588,0.13647296806429132,0.15651271303112135,0.9374307737367353,0.0,1.0496225947008588,0.13647296806429132,0.15651271303112135,0.9374307737367353],\"yaxis\":\"y2\"},{\"alignmentgroup\":\"True\",\"hovertemplate\":\"task=5-gaussian_2.0<br>metric=Fcfs<br>blockid_alpha=%{x}<br>normalized_epsilon=%{y}<extra></extra>\",\"legendgroup\":\"5-gaussian_2.0\",\"marker\":{\"color\":\"#00cc96\",\"pattern\":{\"shape\":\"\"}},\"name\":\"5-gaussian_2.0\",\"offsetgroup\":\"5-gaussian_2.0\",\"orientation\":\"v\",\"showlegend\":false,\"textposition\":\"auto\",\"type\":\"bar\",\"x\":[\"001-00\",\"001-03\",\"001-05\",\"001-08\",\"001-64\",\"002-00\",\"002-03\",\"002-05\",\"002-08\",\"002-64\",\"003-00\",\"003-03\",\"003-05\",\"003-08\",\"003-64\",\"004-00\",\"004-03\",\"004-05\",\"004-08\",\"004-64\",\"005-00\",\"005-03\",\"005-05\",\"005-08\",\"005-64\"],\"xaxis\":\"x\",\"y\":[0.0,1.0496225947008588,0.13647296806429132,0.15651271303112135,0.9374307737367353,0.0,1.0496225947008588,0.13647296806429132,0.15651271303112135,0.9374307737367353,0.0,1.0496225947008588,0.13647296806429132,0.15651271303112135,0.9374307737367353,0.0,1.0496225947008588,0.13647296806429132,0.15651271303112135,0.9374307737367353,0.0,1.0496225947008588,0.13647296806429132,0.15651271303112135,0.9374307737367353],\"yaxis\":\"y\"},{\"alignmentgroup\":\"True\",\"hovertemplate\":\"task=5-laplace_2.0<br>metric=Fcfs<br>blockid_alpha=%{x}<br>normalized_epsilon=%{y}<extra></extra>\",\"legendgroup\":\"5-laplace_2.0\",\"marker\":{\"color\":\"#ab63fa\",\"pattern\":{\"shape\":\"\"}},\"name\":\"5-laplace_2.0\",\"offsetgroup\":\"5-laplace_2.0\",\"orientation\":\"v\",\"showlegend\":true,\"textposition\":\"auto\",\"type\":\"bar\",\"x\":[\"001-00\",\"001-03\",\"001-05\",\"001-08\",\"001-64\",\"002-00\",\"002-03\",\"002-05\",\"002-08\",\"002-64\",\"003-00\",\"003-03\",\"003-05\",\"003-08\",\"003-64\",\"004-00\",\"004-03\",\"004-05\",\"004-08\",\"004-64\",\"005-00\",\"005-03\",\"005-05\",\"005-08\",\"005-64\"],\"xaxis\":\"x\",\"y\":[0.0,7.163594874001278,0.5935908628148661,0.4385921425558207,0.34193483127853985,0.0,7.163594874001278,0.5935908628148661,0.4385921425558207,0.34193483127853985,0.0,7.163594874001278,0.5935908628148661,0.4385921425558207,0.34193483127853985,0.0,7.163594874001278,0.5935908628148661,0.4385921425558207,0.34193483127853985,0.0,7.163594874001278,0.5935908628148661,0.4385921425558207,0.34193483127853985],\"yaxis\":\"y\"},{\"alignmentgroup\":\"True\",\"hovertemplate\":\"task=1-laplace_2.0<br>metric=DominantShares<br>blockid_alpha=%{x}<br>normalized_epsilon=%{y}<extra></extra>\",\"legendgroup\":\"1-laplace_2.0\",\"marker\":{\"color\":\"#FFA15A\",\"pattern\":{\"shape\":\"\"}},\"name\":\"1-laplace_2.0\",\"offsetgroup\":\"1-laplace_2.0\",\"orientation\":\"v\",\"showlegend\":true,\"textposition\":\"auto\",\"type\":\"bar\",\"x\":[\"009-00\",\"009-03\",\"009-05\",\"009-08\",\"009-64\",\"010-00\",\"010-03\",\"010-05\",\"010-08\",\"010-64\",\"011-00\",\"011-03\",\"011-05\",\"011-08\",\"011-64\",\"013-00\",\"013-00\",\"013-03\",\"013-03\",\"013-05\",\"013-05\",\"013-08\",\"013-08\",\"013-64\",\"013-64\"],\"xaxis\":\"x5\",\"y\":[0.0,7.163594874001278,0.5935908628148661,0.4385921425558207,0.34193483127853985,0.0,7.163594874001278,0.5935908628148661,0.4385921425558207,0.34193483127853985,0.0,7.163594874001278,0.5935908628148661,0.4385921425558207,0.34193483127853985,0.0,0.0,7.163594874001278,7.163594874001278,0.5935908628148661,0.5935908628148661,0.4385921425558207,0.4385921425558207,0.34193483127853985,0.34193483127853985],\"yaxis\":\"y5\"},{\"alignmentgroup\":\"True\",\"hovertemplate\":\"task=1-laplace_2.0<br>metric=BatchOverflowRelevance<br>blockid_alpha=%{x}<br>normalized_epsilon=%{y}<extra></extra>\",\"legendgroup\":\"1-laplace_2.0\",\"marker\":{\"color\":\"#FFA15A\",\"pattern\":{\"shape\":\"\"}},\"name\":\"1-laplace_2.0\",\"offsetgroup\":\"1-laplace_2.0\",\"orientation\":\"v\",\"showlegend\":false,\"textposition\":\"auto\",\"type\":\"bar\",\"x\":[\"005-00\",\"005-03\",\"005-05\",\"005-08\",\"005-64\",\"006-00\",\"006-03\",\"006-05\",\"006-08\",\"006-64\",\"008-00\",\"008-03\",\"008-05\",\"008-08\",\"008-64\",\"009-00\",\"009-03\",\"009-05\",\"009-08\",\"009-64\",\"010-00\",\"010-03\",\"010-05\",\"010-08\",\"010-64\",\"011-00\",\"011-03\",\"011-05\",\"011-08\",\"011-64\",\"012-00\",\"012-03\",\"012-05\",\"012-08\",\"012-64\",\"013-00\",\"013-00\",\"013-03\",\"013-03\",\"013-05\",\"013-05\",\"013-08\",\"013-08\",\"013-64\",\"013-64\"],\"xaxis\":\"x4\",\"y\":[0.0,7.163594874001278,0.5935908628148661,0.4385921425558207,0.34193483127853985,0.0,7.163594874001278,0.5935908628148661,0.4385921425558207,0.34193483127853985,0.0,7.163594874001278,0.5935908628148661,0.4385921425558207,0.34193483127853985,0.0,7.163594874001278,0.5935908628148661,0.4385921425558207,0.34193483127853985,0.0,7.163594874001278,0.5935908628148661,0.4385921425558207,0.34193483127853985,0.0,7.163594874001278,0.5935908628148661,0.4385921425558207,0.34193483127853985,0.0,7.163594874001278,0.5935908628148661,0.4385921425558207,0.34193483127853985,0.0,0.0,7.163594874001278,7.163594874001278,0.5935908628148661,0.5935908628148661,0.4385921425558207,0.4385921425558207,0.34193483127853985,0.34193483127853985],\"yaxis\":\"y4\"},{\"alignmentgroup\":\"True\",\"hovertemplate\":\"task=1-laplace_2.0<br>metric=DynamicFlatRelevance<br>blockid_alpha=%{x}<br>normalized_epsilon=%{y}<extra></extra>\",\"legendgroup\":\"1-laplace_2.0\",\"marker\":{\"color\":\"#FFA15A\",\"pattern\":{\"shape\":\"\"}},\"name\":\"1-laplace_2.0\",\"offsetgroup\":\"1-laplace_2.0\",\"orientation\":\"v\",\"showlegend\":false,\"textposition\":\"auto\",\"type\":\"bar\",\"x\":[\"005-00\",\"005-03\",\"005-05\",\"005-08\",\"005-64\",\"006-00\",\"006-03\",\"006-05\",\"006-08\",\"006-64\",\"008-00\",\"008-03\",\"008-05\",\"008-08\",\"008-64\",\"009-00\",\"009-03\",\"009-05\",\"009-08\",\"009-64\",\"010-00\",\"010-03\",\"010-05\",\"010-08\",\"010-64\",\"011-00\",\"011-03\",\"011-05\",\"011-08\",\"011-64\",\"012-00\",\"012-03\",\"012-05\",\"012-08\",\"012-64\",\"013-00\",\"013-00\",\"013-03\",\"013-03\",\"013-05\",\"013-05\",\"013-08\",\"013-08\",\"013-64\",\"013-64\"],\"xaxis\":\"x3\",\"y\":[0.0,7.163594874001278,0.5935908628148661,0.4385921425558207,0.34193483127853985,0.0,7.163594874001278,0.5935908628148661,0.4385921425558207,0.34193483127853985,0.0,7.163594874001278,0.5935908628148661,0.4385921425558207,0.34193483127853985,0.0,7.163594874001278,0.5935908628148661,0.4385921425558207,0.34193483127853985,0.0,7.163594874001278,0.5935908628148661,0.4385921425558207,0.34193483127853985,0.0,7.163594874001278,0.5935908628148661,0.4385921425558207,0.34193483127853985,0.0,7.163594874001278,0.5935908628148661,0.4385921425558207,0.34193483127853985,0.0,0.0,7.163594874001278,7.163594874001278,0.5935908628148661,0.5935908628148661,0.4385921425558207,0.4385921425558207,0.34193483127853985,0.34193483127853985],\"yaxis\":\"y3\"},{\"alignmentgroup\":\"True\",\"hovertemplate\":\"task=1-laplace_2.0<br>metric=FlatRelevance<br>blockid_alpha=%{x}<br>normalized_epsilon=%{y}<extra></extra>\",\"legendgroup\":\"1-laplace_2.0\",\"marker\":{\"color\":\"#FFA15A\",\"pattern\":{\"shape\":\"\"}},\"name\":\"1-laplace_2.0\",\"offsetgroup\":\"1-laplace_2.0\",\"orientation\":\"v\",\"showlegend\":false,\"textposition\":\"auto\",\"type\":\"bar\",\"x\":[\"005-00\",\"005-03\",\"005-05\",\"005-08\",\"005-64\",\"009-00\",\"009-03\",\"009-05\",\"009-08\",\"009-64\",\"010-00\",\"010-03\",\"010-05\",\"010-08\",\"010-64\",\"011-00\",\"011-03\",\"011-05\",\"011-08\",\"011-64\",\"013-00\",\"013-00\",\"013-03\",\"013-03\",\"013-05\",\"013-05\",\"013-08\",\"013-08\",\"013-64\",\"013-64\"],\"xaxis\":\"x2\",\"y\":[0.0,7.163594874001278,0.5935908628148661,0.4385921425558207,0.34193483127853985,0.0,7.163594874001278,0.5935908628148661,0.4385921425558207,0.34193483127853985,0.0,7.163594874001278,0.5935908628148661,0.4385921425558207,0.34193483127853985,0.0,7.163594874001278,0.5935908628148661,0.4385921425558207,0.34193483127853985,0.0,0.0,7.163594874001278,7.163594874001278,0.5935908628148661,0.5935908628148661,0.4385921425558207,0.4385921425558207,0.34193483127853985,0.34193483127853985],\"yaxis\":\"y2\"},{\"alignmentgroup\":\"True\",\"hovertemplate\":\"task=1-laplace_2.0<br>metric=Fcfs<br>blockid_alpha=%{x}<br>normalized_epsilon=%{y}<extra></extra>\",\"legendgroup\":\"1-laplace_2.0\",\"marker\":{\"color\":\"#FFA15A\",\"pattern\":{\"shape\":\"\"}},\"name\":\"1-laplace_2.0\",\"offsetgroup\":\"1-laplace_2.0\",\"orientation\":\"v\",\"showlegend\":false,\"textposition\":\"auto\",\"type\":\"bar\",\"x\":[\"010-00\",\"010-03\",\"010-05\",\"010-08\",\"010-64\",\"011-00\",\"011-03\",\"011-05\",\"011-08\",\"011-64\",\"012-00\",\"012-03\",\"012-05\",\"012-08\",\"012-64\"],\"xaxis\":\"x\",\"y\":[0.0,7.163594874001278,0.5935908628148661,0.4385921425558207,0.34193483127853985,0.0,7.163594874001278,0.5935908628148661,0.4385921425558207,0.34193483127853985,0.0,7.163594874001278,0.5935908628148661,0.4385921425558207,0.34193483127853985],\"yaxis\":\"y\"},{\"alignmentgroup\":\"True\",\"hovertemplate\":\"task=1-gaussian_3.0<br>metric=DominantShares<br>blockid_alpha=%{x}<br>normalized_epsilon=%{y}<extra></extra>\",\"legendgroup\":\"1-gaussian_3.0\",\"marker\":{\"color\":\"#19d3f3\",\"pattern\":{\"shape\":\"\"}},\"name\":\"1-gaussian_3.0\",\"offsetgroup\":\"1-gaussian_3.0\",\"orientation\":\"v\",\"showlegend\":true,\"textposition\":\"auto\",\"type\":\"bar\",\"x\":[\"005-00\",\"005-03\",\"005-05\",\"005-08\",\"005-64\",\"006-00\",\"006-00\",\"006-03\",\"006-03\",\"006-05\",\"006-05\",\"006-08\",\"006-08\",\"006-64\",\"006-64\",\"007-00\",\"007-00\",\"007-03\",\"007-03\",\"007-05\",\"007-05\",\"007-08\",\"007-08\",\"007-64\",\"007-64\",\"008-00\",\"008-03\",\"008-05\",\"008-08\",\"008-64\",\"010-00\",\"010-03\",\"010-05\",\"010-08\",\"010-64\",\"011-00\",\"011-03\",\"011-05\",\"011-08\",\"011-64\",\"012-00\",\"012-03\",\"012-05\",\"012-08\",\"012-64\"],\"xaxis\":\"x5\",\"y\":[0.0,2.3616508380769323,0.3070641781446555,0.3521536043200231,2.1092192409076547,0.0,0.0,2.3616508380769323,2.3616508380769323,0.3070641781446555,0.3070641781446555,0.3521536043200231,0.3521536043200231,2.1092192409076547,2.1092192409076547,0.0,0.0,2.3616508380769323,2.3616508380769323,0.3070641781446555,0.3070641781446555,0.3521536043200231,0.3521536043200231,2.1092192409076547,2.1092192409076547,0.0,2.3616508380769323,0.3070641781446555,0.3521536043200231,2.1092192409076547,0.0,2.3616508380769323,0.3070641781446555,0.3521536043200231,2.1092192409076547,0.0,2.3616508380769323,0.3070641781446555,0.3521536043200231,2.1092192409076547,0.0,2.3616508380769323,0.3070641781446555,0.3521536043200231,2.1092192409076547],\"yaxis\":\"y5\"},{\"alignmentgroup\":\"True\",\"hovertemplate\":\"task=1-gaussian_3.0<br>metric=BatchOverflowRelevance<br>blockid_alpha=%{x}<br>normalized_epsilon=%{y}<extra></extra>\",\"legendgroup\":\"1-gaussian_3.0\",\"marker\":{\"color\":\"#19d3f3\",\"pattern\":{\"shape\":\"\"}},\"name\":\"1-gaussian_3.0\",\"offsetgroup\":\"1-gaussian_3.0\",\"orientation\":\"v\",\"showlegend\":false,\"textposition\":\"auto\",\"type\":\"bar\",\"x\":[\"005-00\",\"005-03\",\"005-05\",\"005-08\",\"005-64\",\"006-00\",\"006-03\",\"006-05\",\"006-08\",\"006-64\",\"010-00\",\"010-03\",\"010-05\",\"010-08\",\"010-64\",\"011-00\",\"011-03\",\"011-05\",\"011-08\",\"011-64\"],\"xaxis\":\"x4\",\"y\":[0.0,2.3616508380769323,0.3070641781446555,0.3521536043200231,2.1092192409076547,0.0,2.3616508380769323,0.3070641781446555,0.3521536043200231,2.1092192409076547,0.0,2.3616508380769323,0.3070641781446555,0.3521536043200231,2.1092192409076547,0.0,2.3616508380769323,0.3070641781446555,0.3521536043200231,2.1092192409076547],\"yaxis\":\"y4\"},{\"alignmentgroup\":\"True\",\"hovertemplate\":\"task=1-gaussian_3.0<br>metric=DynamicFlatRelevance<br>blockid_alpha=%{x}<br>normalized_epsilon=%{y}<extra></extra>\",\"legendgroup\":\"1-gaussian_3.0\",\"marker\":{\"color\":\"#19d3f3\",\"pattern\":{\"shape\":\"\"}},\"name\":\"1-gaussian_3.0\",\"offsetgroup\":\"1-gaussian_3.0\",\"orientation\":\"v\",\"showlegend\":false,\"textposition\":\"auto\",\"type\":\"bar\",\"x\":[\"005-00\",\"005-03\",\"005-05\",\"005-08\",\"005-64\",\"006-00\",\"006-03\",\"006-05\",\"006-08\",\"006-64\",\"010-00\",\"010-03\",\"010-05\",\"010-08\",\"010-64\",\"011-00\",\"011-03\",\"011-05\",\"011-08\",\"011-64\"],\"xaxis\":\"x3\",\"y\":[0.0,2.3616508380769323,0.3070641781446555,0.3521536043200231,2.1092192409076547,0.0,2.3616508380769323,0.3070641781446555,0.3521536043200231,2.1092192409076547,0.0,2.3616508380769323,0.3070641781446555,0.3521536043200231,2.1092192409076547,0.0,2.3616508380769323,0.3070641781446555,0.3521536043200231,2.1092192409076547],\"yaxis\":\"y3\"},{\"alignmentgroup\":\"True\",\"hovertemplate\":\"task=1-gaussian_3.0<br>metric=FlatRelevance<br>blockid_alpha=%{x}<br>normalized_epsilon=%{y}<extra></extra>\",\"legendgroup\":\"1-gaussian_3.0\",\"marker\":{\"color\":\"#19d3f3\",\"pattern\":{\"shape\":\"\"}},\"name\":\"1-gaussian_3.0\",\"offsetgroup\":\"1-gaussian_3.0\",\"orientation\":\"v\",\"showlegend\":false,\"textposition\":\"auto\",\"type\":\"bar\",\"x\":[\"005-00\",\"005-03\",\"005-05\",\"005-08\",\"005-64\",\"006-00\",\"006-00\",\"006-03\",\"006-03\",\"006-05\",\"006-05\",\"006-08\",\"006-08\",\"006-64\",\"006-64\",\"007-00\",\"007-00\",\"007-03\",\"007-03\",\"007-05\",\"007-05\",\"007-08\",\"007-08\",\"007-64\",\"007-64\",\"008-00\",\"008-03\",\"008-05\",\"008-08\",\"008-64\",\"010-00\",\"010-03\",\"010-05\",\"010-08\",\"010-64\",\"011-00\",\"011-03\",\"011-05\",\"011-08\",\"011-64\",\"012-00\",\"012-03\",\"012-05\",\"012-08\",\"012-64\"],\"xaxis\":\"x2\",\"y\":[0.0,2.3616508380769323,0.3070641781446555,0.3521536043200231,2.1092192409076547,0.0,0.0,2.3616508380769323,2.3616508380769323,0.3070641781446555,0.3070641781446555,0.3521536043200231,0.3521536043200231,2.1092192409076547,2.1092192409076547,0.0,0.0,2.3616508380769323,2.3616508380769323,0.3070641781446555,0.3070641781446555,0.3521536043200231,0.3521536043200231,2.1092192409076547,2.1092192409076547,0.0,2.3616508380769323,0.3070641781446555,0.3521536043200231,2.1092192409076547,0.0,2.3616508380769323,0.3070641781446555,0.3521536043200231,2.1092192409076547,0.0,2.3616508380769323,0.3070641781446555,0.3521536043200231,2.1092192409076547,0.0,2.3616508380769323,0.3070641781446555,0.3521536043200231,2.1092192409076547],\"yaxis\":\"y2\"},{\"alignmentgroup\":\"True\",\"hovertemplate\":\"task=1-gaussian_3.0<br>metric=Fcfs<br>blockid_alpha=%{x}<br>normalized_epsilon=%{y}<extra></extra>\",\"legendgroup\":\"1-gaussian_3.0\",\"marker\":{\"color\":\"#19d3f3\",\"pattern\":{\"shape\":\"\"}},\"name\":\"1-gaussian_3.0\",\"offsetgroup\":\"1-gaussian_3.0\",\"orientation\":\"v\",\"showlegend\":false,\"textposition\":\"auto\",\"type\":\"bar\",\"x\":[\"005-00\",\"005-03\",\"005-05\",\"005-08\",\"005-64\",\"006-00\",\"006-00\",\"006-03\",\"006-03\",\"006-05\",\"006-05\",\"006-08\",\"006-08\",\"006-64\",\"006-64\",\"008-00\",\"008-03\",\"008-05\",\"008-08\",\"008-64\",\"011-00\",\"011-03\",\"011-05\",\"011-08\",\"011-64\",\"012-00\",\"012-03\",\"012-05\",\"012-08\",\"012-64\"],\"xaxis\":\"x\",\"y\":[0.0,2.3616508380769323,0.3070641781446555,0.3521536043200231,2.1092192409076547,0.0,0.0,2.3616508380769323,2.3616508380769323,0.3070641781446555,0.3070641781446555,0.3521536043200231,0.3521536043200231,2.1092192409076547,2.1092192409076547,0.0,2.3616508380769323,0.3070641781446555,0.3521536043200231,2.1092192409076547,0.0,2.3616508380769323,0.3070641781446555,0.3521536043200231,2.1092192409076547,0.0,2.3616508380769323,0.3070641781446555,0.3521536043200231,2.1092192409076547],\"yaxis\":\"y\"},{\"alignmentgroup\":\"True\",\"hovertemplate\":\"task=1-gaussian_2.0<br>metric=DominantShares<br>blockid_alpha=%{x}<br>normalized_epsilon=%{y}<extra></extra>\",\"legendgroup\":\"1-gaussian_2.0\",\"marker\":{\"color\":\"#FF6692\",\"pattern\":{\"shape\":\"\"}},\"name\":\"1-gaussian_2.0\",\"offsetgroup\":\"1-gaussian_2.0\",\"orientation\":\"v\",\"showlegend\":true,\"textposition\":\"auto\",\"type\":\"bar\",\"x\":[\"006-00\",\"006-03\",\"006-05\",\"006-08\",\"006-64\",\"007-00\",\"007-00\",\"007-03\",\"007-03\",\"007-05\",\"007-05\",\"007-08\",\"007-08\",\"007-64\",\"007-64\",\"008-00\",\"008-00\",\"008-00\",\"008-00\",\"008-03\",\"008-03\",\"008-03\",\"008-03\",\"008-05\",\"008-05\",\"008-05\",\"008-05\",\"008-08\",\"008-08\",\"008-08\",\"008-08\",\"008-64\",\"008-64\",\"008-64\",\"008-64\",\"009-00\",\"009-03\",\"009-05\",\"009-08\",\"009-64\",\"011-00\",\"011-03\",\"011-05\",\"011-08\",\"011-64\",\"012-00\",\"012-00\",\"012-03\",\"012-03\",\"012-05\",\"012-05\",\"012-08\",\"012-08\",\"012-64\",\"012-64\",\"014-00\",\"014-03\",\"014-05\",\"014-08\",\"014-64\"],\"xaxis\":\"x5\",\"y\":[0.0,1.0496225947008588,0.13647296806429132,0.15651271303112135,0.9374307737367353,0.0,0.0,1.0496225947008588,1.0496225947008588,0.13647296806429132,0.13647296806429132,0.15651271303112135,0.15651271303112135,0.9374307737367353,0.9374307737367353,0.0,0.0,0.0,0.0,1.0496225947008588,1.0496225947008588,1.0496225947008588,1.0496225947008588,0.13647296806429132,0.13647296806429132,0.13647296806429132,0.13647296806429132,0.15651271303112135,0.15651271303112135,0.15651271303112135,0.15651271303112135,0.9374307737367353,0.9374307737367353,0.9374307737367353,0.9374307737367353,0.0,1.0496225947008588,0.13647296806429132,0.15651271303112135,0.9374307737367353,0.0,1.0496225947008588,0.13647296806429132,0.15651271303112135,0.9374307737367353,0.0,0.0,1.0496225947008588,1.0496225947008588,0.13647296806429132,0.13647296806429132,0.15651271303112135,0.15651271303112135,0.9374307737367353,0.9374307737367353,0.0,1.0496225947008588,0.13647296806429132,0.15651271303112135,0.9374307737367353],\"yaxis\":\"y5\"},{\"alignmentgroup\":\"True\",\"hovertemplate\":\"task=1-gaussian_2.0<br>metric=BatchOverflowRelevance<br>blockid_alpha=%{x}<br>normalized_epsilon=%{y}<extra></extra>\",\"legendgroup\":\"1-gaussian_2.0\",\"marker\":{\"color\":\"#FF6692\",\"pattern\":{\"shape\":\"\"}},\"name\":\"1-gaussian_2.0\",\"offsetgroup\":\"1-gaussian_2.0\",\"orientation\":\"v\",\"showlegend\":false,\"textposition\":\"auto\",\"type\":\"bar\",\"x\":[\"006-00\",\"006-03\",\"006-05\",\"006-08\",\"006-64\",\"007-00\",\"007-00\",\"007-03\",\"007-03\",\"007-05\",\"007-05\",\"007-08\",\"007-08\",\"007-64\",\"007-64\",\"008-00\",\"008-00\",\"008-00\",\"008-03\",\"008-03\",\"008-03\",\"008-05\",\"008-05\",\"008-05\",\"008-08\",\"008-08\",\"008-08\",\"008-64\",\"008-64\",\"008-64\",\"009-00\",\"009-03\",\"009-05\",\"009-08\",\"009-64\",\"011-00\",\"011-03\",\"011-05\",\"011-08\",\"011-64\",\"012-00\",\"012-00\",\"012-03\",\"012-03\",\"012-05\",\"012-05\",\"012-08\",\"012-08\",\"012-64\",\"012-64\",\"014-00\",\"014-03\",\"014-05\",\"014-08\",\"014-64\"],\"xaxis\":\"x4\",\"y\":[0.0,1.0496225947008588,0.13647296806429132,0.15651271303112135,0.9374307737367353,0.0,0.0,1.0496225947008588,1.0496225947008588,0.13647296806429132,0.13647296806429132,0.15651271303112135,0.15651271303112135,0.9374307737367353,0.9374307737367353,0.0,0.0,0.0,1.0496225947008588,1.0496225947008588,1.0496225947008588,0.13647296806429132,0.13647296806429132,0.13647296806429132,0.15651271303112135,0.15651271303112135,0.15651271303112135,0.9374307737367353,0.9374307737367353,0.9374307737367353,0.0,1.0496225947008588,0.13647296806429132,0.15651271303112135,0.9374307737367353,0.0,1.0496225947008588,0.13647296806429132,0.15651271303112135,0.9374307737367353,0.0,0.0,1.0496225947008588,1.0496225947008588,0.13647296806429132,0.13647296806429132,0.15651271303112135,0.15651271303112135,0.9374307737367353,0.9374307737367353,0.0,1.0496225947008588,0.13647296806429132,0.15651271303112135,0.9374307737367353],\"yaxis\":\"y4\"},{\"alignmentgroup\":\"True\",\"hovertemplate\":\"task=1-gaussian_2.0<br>metric=DynamicFlatRelevance<br>blockid_alpha=%{x}<br>normalized_epsilon=%{y}<extra></extra>\",\"legendgroup\":\"1-gaussian_2.0\",\"marker\":{\"color\":\"#FF6692\",\"pattern\":{\"shape\":\"\"}},\"name\":\"1-gaussian_2.0\",\"offsetgroup\":\"1-gaussian_2.0\",\"orientation\":\"v\",\"showlegend\":false,\"textposition\":\"auto\",\"type\":\"bar\",\"x\":[\"006-00\",\"006-03\",\"006-05\",\"006-08\",\"006-64\",\"007-00\",\"007-00\",\"007-03\",\"007-03\",\"007-05\",\"007-05\",\"007-08\",\"007-08\",\"007-64\",\"007-64\",\"008-00\",\"008-00\",\"008-00\",\"008-03\",\"008-03\",\"008-03\",\"008-05\",\"008-05\",\"008-05\",\"008-08\",\"008-08\",\"008-08\",\"008-64\",\"008-64\",\"008-64\",\"009-00\",\"009-03\",\"009-05\",\"009-08\",\"009-64\",\"011-00\",\"011-03\",\"011-05\",\"011-08\",\"011-64\",\"012-00\",\"012-00\",\"012-03\",\"012-03\",\"012-05\",\"012-05\",\"012-08\",\"012-08\",\"012-64\",\"012-64\",\"014-00\",\"014-03\",\"014-05\",\"014-08\",\"014-64\"],\"xaxis\":\"x3\",\"y\":[0.0,1.0496225947008588,0.13647296806429132,0.15651271303112135,0.9374307737367353,0.0,0.0,1.0496225947008588,1.0496225947008588,0.13647296806429132,0.13647296806429132,0.15651271303112135,0.15651271303112135,0.9374307737367353,0.9374307737367353,0.0,0.0,0.0,1.0496225947008588,1.0496225947008588,1.0496225947008588,0.13647296806429132,0.13647296806429132,0.13647296806429132,0.15651271303112135,0.15651271303112135,0.15651271303112135,0.9374307737367353,0.9374307737367353,0.9374307737367353,0.0,1.0496225947008588,0.13647296806429132,0.15651271303112135,0.9374307737367353,0.0,1.0496225947008588,0.13647296806429132,0.15651271303112135,0.9374307737367353,0.0,0.0,1.0496225947008588,1.0496225947008588,0.13647296806429132,0.13647296806429132,0.15651271303112135,0.15651271303112135,0.9374307737367353,0.9374307737367353,0.0,1.0496225947008588,0.13647296806429132,0.15651271303112135,0.9374307737367353],\"yaxis\":\"y3\"},{\"alignmentgroup\":\"True\",\"hovertemplate\":\"task=1-gaussian_2.0<br>metric=FlatRelevance<br>blockid_alpha=%{x}<br>normalized_epsilon=%{y}<extra></extra>\",\"legendgroup\":\"1-gaussian_2.0\",\"marker\":{\"color\":\"#FF6692\",\"pattern\":{\"shape\":\"\"}},\"name\":\"1-gaussian_2.0\",\"offsetgroup\":\"1-gaussian_2.0\",\"orientation\":\"v\",\"showlegend\":false,\"textposition\":\"auto\",\"type\":\"bar\",\"x\":[\"006-00\",\"006-03\",\"006-05\",\"006-08\",\"006-64\",\"007-00\",\"007-00\",\"007-03\",\"007-03\",\"007-05\",\"007-05\",\"007-08\",\"007-08\",\"007-64\",\"007-64\",\"008-00\",\"008-00\",\"008-00\",\"008-00\",\"008-03\",\"008-03\",\"008-03\",\"008-03\",\"008-05\",\"008-05\",\"008-05\",\"008-05\",\"008-08\",\"008-08\",\"008-08\",\"008-08\",\"008-64\",\"008-64\",\"008-64\",\"008-64\",\"009-00\",\"009-03\",\"009-05\",\"009-08\",\"009-64\",\"011-00\",\"011-03\",\"011-05\",\"011-08\",\"011-64\",\"012-00\",\"012-00\",\"012-03\",\"012-03\",\"012-05\",\"012-05\",\"012-08\",\"012-08\",\"012-64\",\"012-64\",\"014-00\",\"014-03\",\"014-05\",\"014-08\",\"014-64\"],\"xaxis\":\"x2\",\"y\":[0.0,1.0496225947008588,0.13647296806429132,0.15651271303112135,0.9374307737367353,0.0,0.0,1.0496225947008588,1.0496225947008588,0.13647296806429132,0.13647296806429132,0.15651271303112135,0.15651271303112135,0.9374307737367353,0.9374307737367353,0.0,0.0,0.0,0.0,1.0496225947008588,1.0496225947008588,1.0496225947008588,1.0496225947008588,0.13647296806429132,0.13647296806429132,0.13647296806429132,0.13647296806429132,0.15651271303112135,0.15651271303112135,0.15651271303112135,0.15651271303112135,0.9374307737367353,0.9374307737367353,0.9374307737367353,0.9374307737367353,0.0,1.0496225947008588,0.13647296806429132,0.15651271303112135,0.9374307737367353,0.0,1.0496225947008588,0.13647296806429132,0.15651271303112135,0.9374307737367353,0.0,0.0,1.0496225947008588,1.0496225947008588,0.13647296806429132,0.13647296806429132,0.15651271303112135,0.15651271303112135,0.9374307737367353,0.9374307737367353,0.0,1.0496225947008588,0.13647296806429132,0.15651271303112135,0.9374307737367353],\"yaxis\":\"y2\"},{\"alignmentgroup\":\"True\",\"hovertemplate\":\"task=1-gaussian_2.0<br>metric=Fcfs<br>blockid_alpha=%{x}<br>normalized_epsilon=%{y}<extra></extra>\",\"legendgroup\":\"1-gaussian_2.0\",\"marker\":{\"color\":\"#FF6692\",\"pattern\":{\"shape\":\"\"}},\"name\":\"1-gaussian_2.0\",\"offsetgroup\":\"1-gaussian_2.0\",\"orientation\":\"v\",\"showlegend\":false,\"textposition\":\"auto\",\"type\":\"bar\",\"x\":[\"006-00\",\"006-03\",\"006-05\",\"006-08\",\"006-64\",\"007-00\",\"007-00\",\"007-03\",\"007-03\",\"007-05\",\"007-05\",\"007-08\",\"007-08\",\"007-64\",\"007-64\",\"008-00\",\"008-00\",\"008-03\",\"008-03\",\"008-05\",\"008-05\",\"008-08\",\"008-08\",\"008-64\",\"008-64\",\"011-00\",\"011-03\",\"011-05\",\"011-08\",\"011-64\",\"012-00\",\"012-03\",\"012-05\",\"012-08\",\"012-64\",\"014-00\",\"014-03\",\"014-05\",\"014-08\",\"014-64\"],\"xaxis\":\"x\",\"y\":[0.0,1.0496225947008588,0.13647296806429132,0.15651271303112135,0.9374307737367353,0.0,0.0,1.0496225947008588,1.0496225947008588,0.13647296806429132,0.13647296806429132,0.15651271303112135,0.15651271303112135,0.9374307737367353,0.9374307737367353,0.0,0.0,1.0496225947008588,1.0496225947008588,0.13647296806429132,0.13647296806429132,0.15651271303112135,0.15651271303112135,0.9374307737367353,0.9374307737367353,0.0,1.0496225947008588,0.13647296806429132,0.15651271303112135,0.9374307737367353,0.0,1.0496225947008588,0.13647296806429132,0.15651271303112135,0.9374307737367353,0.0,1.0496225947008588,0.13647296806429132,0.15651271303112135,0.9374307737367353],\"yaxis\":\"y\"},{\"alignmentgroup\":\"True\",\"hovertemplate\":\"task=1-laplace_3.0<br>metric=BatchOverflowRelevance<br>blockid_alpha=%{x}<br>normalized_epsilon=%{y}<extra></extra>\",\"legendgroup\":\"1-laplace_3.0\",\"marker\":{\"color\":\"#B6E880\",\"pattern\":{\"shape\":\"\"}},\"name\":\"1-laplace_3.0\",\"offsetgroup\":\"1-laplace_3.0\",\"orientation\":\"v\",\"showlegend\":true,\"textposition\":\"auto\",\"type\":\"bar\",\"x\":[\"007-00\",\"007-03\",\"007-05\",\"007-08\",\"007-64\"],\"xaxis\":\"x4\",\"y\":[0.0,11.269680891515618,0.9139220962511998,0.6681976428132131,0.5138372103185906],\"yaxis\":\"y4\"},{\"alignmentgroup\":\"True\",\"hovertemplate\":\"task=1-laplace_3.0<br>metric=DynamicFlatRelevance<br>blockid_alpha=%{x}<br>normalized_epsilon=%{y}<extra></extra>\",\"legendgroup\":\"1-laplace_3.0\",\"marker\":{\"color\":\"#B6E880\",\"pattern\":{\"shape\":\"\"}},\"name\":\"1-laplace_3.0\",\"offsetgroup\":\"1-laplace_3.0\",\"orientation\":\"v\",\"showlegend\":false,\"textposition\":\"auto\",\"type\":\"bar\",\"x\":[\"007-00\",\"007-03\",\"007-05\",\"007-08\",\"007-64\"],\"xaxis\":\"x3\",\"y\":[0.0,11.269680891515618,0.9139220962511998,0.6681976428132131,0.5138372103185906],\"yaxis\":\"y3\"},{\"alignmentgroup\":\"True\",\"hovertemplate\":\"task=1-laplace_3.0<br>metric=Fcfs<br>blockid_alpha=%{x}<br>normalized_epsilon=%{y}<extra></extra>\",\"legendgroup\":\"1-laplace_3.0\",\"marker\":{\"color\":\"#B6E880\",\"pattern\":{\"shape\":\"\"}},\"name\":\"1-laplace_3.0\",\"offsetgroup\":\"1-laplace_3.0\",\"orientation\":\"v\",\"showlegend\":false,\"textposition\":\"auto\",\"type\":\"bar\",\"x\":[\"007-00\",\"007-03\",\"007-05\",\"007-08\",\"007-64\",\"009-00\",\"009-03\",\"009-05\",\"009-08\",\"009-64\"],\"xaxis\":\"x\",\"y\":[0.0,11.269680891515618,0.9139220962511998,0.6681976428132131,0.5138372103185906,0.0,11.269680891515618,0.9139220962511998,0.6681976428132131,0.5138372103185906],\"yaxis\":\"y\"},{\"alignmentgroup\":\"True\",\"hovertemplate\":\"task=1-subsampled_gaussian_3.0<br>metric=Fcfs<br>blockid_alpha=%{x}<br>normalized_epsilon=%{y}<extra></extra>\",\"legendgroup\":\"1-subsampled_gaussian_3.0\",\"marker\":{\"color\":\"#FF97FF\",\"pattern\":{\"shape\":\"\"}},\"name\":\"1-subsampled_gaussian_3.0\",\"offsetgroup\":\"1-subsampled_gaussian_3.0\",\"orientation\":\"v\",\"showlegend\":true,\"textposition\":\"auto\",\"type\":\"bar\",\"x\":[\"008-00\",\"008-03\",\"008-05\",\"008-08\",\"008-64\",\"010-00\",\"010-03\",\"010-05\",\"010-08\",\"010-64\",\"013-00\",\"013-00\",\"013-03\",\"013-03\",\"013-05\",\"013-05\",\"013-08\",\"013-08\",\"013-64\",\"013-64\"],\"xaxis\":\"x\",\"y\":[0.0,2.3371803395374218,0.3159693379699305,2.2116779863073015,186630.37408144632,0.0,2.3371803395374218,0.3159693379699305,2.2116779863073015,186630.37408144632,0.0,0.0,2.3371803395374218,2.3371803395374218,0.3159693379699305,0.3159693379699305,2.2116779863073015,2.2116779863073015,186630.37408144632,186630.37408144632],\"yaxis\":\"y\"},{\"alignmentgroup\":\"True\",\"hovertemplate\":\"task=1-subsampled_gaussian_2.0<br>metric=DominantShares<br>blockid_alpha=%{x}<br>normalized_epsilon=%{y}<extra></extra>\",\"legendgroup\":\"1-subsampled_gaussian_2.0\",\"marker\":{\"color\":\"#FECB52\",\"pattern\":{\"shape\":\"\"}},\"name\":\"1-subsampled_gaussian_2.0\",\"offsetgroup\":\"1-subsampled_gaussian_2.0\",\"orientation\":\"v\",\"showlegend\":true,\"textposition\":\"auto\",\"type\":\"bar\",\"x\":[\"009-00\",\"009-00\",\"009-03\",\"009-03\",\"009-05\",\"009-05\",\"009-08\",\"009-08\",\"009-64\",\"009-64\",\"010-00\",\"010-03\",\"010-05\",\"010-08\",\"010-64\"],\"xaxis\":\"x5\",\"y\":[0.0,0.0,1.144683992913701,1.144683992913701,0.1506705215069613,0.1506705215069613,0.1762147011874783,0.1762147011874783,116776.00284542797,116776.00284542797,0.0,1.144683992913701,0.1506705215069613,0.1762147011874783,116776.00284542797],\"yaxis\":\"y5\"},{\"alignmentgroup\":\"True\",\"hovertemplate\":\"task=1-subsampled_gaussian_2.0<br>metric=BatchOverflowRelevance<br>blockid_alpha=%{x}<br>normalized_epsilon=%{y}<extra></extra>\",\"legendgroup\":\"1-subsampled_gaussian_2.0\",\"marker\":{\"color\":\"#FECB52\",\"pattern\":{\"shape\":\"\"}},\"name\":\"1-subsampled_gaussian_2.0\",\"offsetgroup\":\"1-subsampled_gaussian_2.0\",\"orientation\":\"v\",\"showlegend\":false,\"textposition\":\"auto\",\"type\":\"bar\",\"x\":[\"009-00\",\"009-00\",\"009-03\",\"009-03\",\"009-05\",\"009-05\",\"009-08\",\"009-08\",\"009-64\",\"009-64\",\"010-00\",\"010-03\",\"010-05\",\"010-08\",\"010-64\"],\"xaxis\":\"x4\",\"y\":[0.0,0.0,1.144683992913701,1.144683992913701,0.1506705215069613,0.1506705215069613,0.1762147011874783,0.1762147011874783,116776.00284542797,116776.00284542797,0.0,1.144683992913701,0.1506705215069613,0.1762147011874783,116776.00284542797],\"yaxis\":\"y4\"},{\"alignmentgroup\":\"True\",\"hovertemplate\":\"task=1-subsampled_gaussian_2.0<br>metric=DynamicFlatRelevance<br>blockid_alpha=%{x}<br>normalized_epsilon=%{y}<extra></extra>\",\"legendgroup\":\"1-subsampled_gaussian_2.0\",\"marker\":{\"color\":\"#FECB52\",\"pattern\":{\"shape\":\"\"}},\"name\":\"1-subsampled_gaussian_2.0\",\"offsetgroup\":\"1-subsampled_gaussian_2.0\",\"orientation\":\"v\",\"showlegend\":false,\"textposition\":\"auto\",\"type\":\"bar\",\"x\":[\"009-00\",\"009-00\",\"009-03\",\"009-03\",\"009-05\",\"009-05\",\"009-08\",\"009-08\",\"009-64\",\"009-64\",\"010-00\",\"010-03\",\"010-05\",\"010-08\",\"010-64\"],\"xaxis\":\"x3\",\"y\":[0.0,0.0,1.144683992913701,1.144683992913701,0.1506705215069613,0.1506705215069613,0.1762147011874783,0.1762147011874783,116776.00284542797,116776.00284542797,0.0,1.144683992913701,0.1506705215069613,0.1762147011874783,116776.00284542797],\"yaxis\":\"y3\"},{\"alignmentgroup\":\"True\",\"hovertemplate\":\"task=1-subsampled_gaussian_2.0<br>metric=FlatRelevance<br>blockid_alpha=%{x}<br>normalized_epsilon=%{y}<extra></extra>\",\"legendgroup\":\"1-subsampled_gaussian_2.0\",\"marker\":{\"color\":\"#FECB52\",\"pattern\":{\"shape\":\"\"}},\"name\":\"1-subsampled_gaussian_2.0\",\"offsetgroup\":\"1-subsampled_gaussian_2.0\",\"orientation\":\"v\",\"showlegend\":false,\"textposition\":\"auto\",\"type\":\"bar\",\"x\":[\"009-00\",\"009-00\",\"009-03\",\"009-03\",\"009-05\",\"009-05\",\"009-08\",\"009-08\",\"009-64\",\"009-64\",\"010-00\",\"010-03\",\"010-05\",\"010-08\",\"010-64\"],\"xaxis\":\"x2\",\"y\":[0.0,0.0,1.144683992913701,1.144683992913701,0.1506705215069613,0.1506705215069613,0.1762147011874783,0.1762147011874783,116776.00284542797,116776.00284542797,0.0,1.144683992913701,0.1506705215069613,0.1762147011874783,116776.00284542797],\"yaxis\":\"y2\"},{\"alignmentgroup\":\"True\",\"hovertemplate\":\"task=1-subsampled_gaussian_2.0<br>metric=Fcfs<br>blockid_alpha=%{x}<br>normalized_epsilon=%{y}<extra></extra>\",\"legendgroup\":\"1-subsampled_gaussian_2.0\",\"marker\":{\"color\":\"#FECB52\",\"pattern\":{\"shape\":\"\"}},\"name\":\"1-subsampled_gaussian_2.0\",\"offsetgroup\":\"1-subsampled_gaussian_2.0\",\"orientation\":\"v\",\"showlegend\":false,\"textposition\":\"auto\",\"type\":\"bar\",\"x\":[\"009-00\",\"009-03\",\"009-05\",\"009-08\",\"009-64\",\"010-00\",\"010-03\",\"010-05\",\"010-08\",\"010-64\",\"013-00\",\"013-00\",\"013-03\",\"013-03\",\"013-05\",\"013-05\",\"013-08\",\"013-08\",\"013-64\",\"013-64\"],\"xaxis\":\"x\",\"y\":[0.0,1.144683992913701,0.1506705215069613,0.1762147011874783,116776.00284542797,0.0,1.144683992913701,0.1506705215069613,0.1762147011874783,116776.00284542797,0.0,0.0,1.144683992913701,1.144683992913701,0.1506705215069613,0.1506705215069613,0.1762147011874783,0.1762147011874783,116776.00284542797,116776.00284542797],\"yaxis\":\"y\"}],                        {\"annotations\":[{\"font\":{},\"showarrow\":false,\"text\":\"metric=Fcfs\",\"x\":0.5,\"xanchor\":\"center\",\"xref\":\"paper\",\"y\":0.144,\"yanchor\":\"bottom\",\"yref\":\"paper\"},{\"font\":{},\"showarrow\":false,\"text\":\"metric=FlatRelevance\",\"x\":0.5,\"xanchor\":\"center\",\"xref\":\"paper\",\"y\":0.358,\"yanchor\":\"bottom\",\"yref\":\"paper\"},{\"font\":{},\"showarrow\":false,\"text\":\"metric=DynamicFlatRelevance\",\"x\":0.5,\"xanchor\":\"center\",\"xref\":\"paper\",\"y\":0.572,\"yanchor\":\"bottom\",\"yref\":\"paper\"},{\"font\":{},\"showarrow\":false,\"text\":\"metric=BatchOverflowRelevance\",\"x\":0.5,\"xanchor\":\"center\",\"xref\":\"paper\",\"y\":0.7859999999999999,\"yanchor\":\"bottom\",\"yref\":\"paper\"},{\"font\":{},\"showarrow\":false,\"text\":\"metric=DominantShares\",\"x\":0.5,\"xanchor\":\"center\",\"xref\":\"paper\",\"y\":1.0,\"yanchor\":\"bottom\",\"yref\":\"paper\"}],\"barmode\":\"relative\",\"height\":1200,\"legend\":{\"title\":{\"text\":\"task\"},\"tracegroupgap\":0},\"margin\":{\"t\":60},\"template\":{\"data\":{\"bar\":[{\"error_x\":{\"color\":\"#2a3f5f\"},\"error_y\":{\"color\":\"#2a3f5f\"},\"marker\":{\"line\":{\"color\":\"#E5ECF6\",\"width\":0.5},\"pattern\":{\"fillmode\":\"overlay\",\"size\":10,\"solidity\":0.2}},\"type\":\"bar\"}],\"barpolar\":[{\"marker\":{\"line\":{\"color\":\"#E5ECF6\",\"width\":0.5},\"pattern\":{\"fillmode\":\"overlay\",\"size\":10,\"solidity\":0.2}},\"type\":\"barpolar\"}],\"carpet\":[{\"aaxis\":{\"endlinecolor\":\"#2a3f5f\",\"gridcolor\":\"white\",\"linecolor\":\"white\",\"minorgridcolor\":\"white\",\"startlinecolor\":\"#2a3f5f\"},\"baxis\":{\"endlinecolor\":\"#2a3f5f\",\"gridcolor\":\"white\",\"linecolor\":\"white\",\"minorgridcolor\":\"white\",\"startlinecolor\":\"#2a3f5f\"},\"type\":\"carpet\"}],\"choropleth\":[{\"colorbar\":{\"outlinewidth\":0,\"ticks\":\"\"},\"type\":\"choropleth\"}],\"contour\":[{\"colorbar\":{\"outlinewidth\":0,\"ticks\":\"\"},\"colorscale\":[[0.0,\"#0d0887\"],[0.1111111111111111,\"#46039f\"],[0.2222222222222222,\"#7201a8\"],[0.3333333333333333,\"#9c179e\"],[0.4444444444444444,\"#bd3786\"],[0.5555555555555556,\"#d8576b\"],[0.6666666666666666,\"#ed7953\"],[0.7777777777777778,\"#fb9f3a\"],[0.8888888888888888,\"#fdca26\"],[1.0,\"#f0f921\"]],\"type\":\"contour\"}],\"contourcarpet\":[{\"colorbar\":{\"outlinewidth\":0,\"ticks\":\"\"},\"type\":\"contourcarpet\"}],\"heatmap\":[{\"colorbar\":{\"outlinewidth\":0,\"ticks\":\"\"},\"colorscale\":[[0.0,\"#0d0887\"],[0.1111111111111111,\"#46039f\"],[0.2222222222222222,\"#7201a8\"],[0.3333333333333333,\"#9c179e\"],[0.4444444444444444,\"#bd3786\"],[0.5555555555555556,\"#d8576b\"],[0.6666666666666666,\"#ed7953\"],[0.7777777777777778,\"#fb9f3a\"],[0.8888888888888888,\"#fdca26\"],[1.0,\"#f0f921\"]],\"type\":\"heatmap\"}],\"heatmapgl\":[{\"colorbar\":{\"outlinewidth\":0,\"ticks\":\"\"},\"colorscale\":[[0.0,\"#0d0887\"],[0.1111111111111111,\"#46039f\"],[0.2222222222222222,\"#7201a8\"],[0.3333333333333333,\"#9c179e\"],[0.4444444444444444,\"#bd3786\"],[0.5555555555555556,\"#d8576b\"],[0.6666666666666666,\"#ed7953\"],[0.7777777777777778,\"#fb9f3a\"],[0.8888888888888888,\"#fdca26\"],[1.0,\"#f0f921\"]],\"type\":\"heatmapgl\"}],\"histogram\":[{\"marker\":{\"pattern\":{\"fillmode\":\"overlay\",\"size\":10,\"solidity\":0.2}},\"type\":\"histogram\"}],\"histogram2d\":[{\"colorbar\":{\"outlinewidth\":0,\"ticks\":\"\"},\"colorscale\":[[0.0,\"#0d0887\"],[0.1111111111111111,\"#46039f\"],[0.2222222222222222,\"#7201a8\"],[0.3333333333333333,\"#9c179e\"],[0.4444444444444444,\"#bd3786\"],[0.5555555555555556,\"#d8576b\"],[0.6666666666666666,\"#ed7953\"],[0.7777777777777778,\"#fb9f3a\"],[0.8888888888888888,\"#fdca26\"],[1.0,\"#f0f921\"]],\"type\":\"histogram2d\"}],\"histogram2dcontour\":[{\"colorbar\":{\"outlinewidth\":0,\"ticks\":\"\"},\"colorscale\":[[0.0,\"#0d0887\"],[0.1111111111111111,\"#46039f\"],[0.2222222222222222,\"#7201a8\"],[0.3333333333333333,\"#9c179e\"],[0.4444444444444444,\"#bd3786\"],[0.5555555555555556,\"#d8576b\"],[0.6666666666666666,\"#ed7953\"],[0.7777777777777778,\"#fb9f3a\"],[0.8888888888888888,\"#fdca26\"],[1.0,\"#f0f921\"]],\"type\":\"histogram2dcontour\"}],\"mesh3d\":[{\"colorbar\":{\"outlinewidth\":0,\"ticks\":\"\"},\"type\":\"mesh3d\"}],\"parcoords\":[{\"line\":{\"colorbar\":{\"outlinewidth\":0,\"ticks\":\"\"}},\"type\":\"parcoords\"}],\"pie\":[{\"automargin\":true,\"type\":\"pie\"}],\"scatter\":[{\"marker\":{\"colorbar\":{\"outlinewidth\":0,\"ticks\":\"\"}},\"type\":\"scatter\"}],\"scatter3d\":[{\"line\":{\"colorbar\":{\"outlinewidth\":0,\"ticks\":\"\"}},\"marker\":{\"colorbar\":{\"outlinewidth\":0,\"ticks\":\"\"}},\"type\":\"scatter3d\"}],\"scattercarpet\":[{\"marker\":{\"colorbar\":{\"outlinewidth\":0,\"ticks\":\"\"}},\"type\":\"scattercarpet\"}],\"scattergeo\":[{\"marker\":{\"colorbar\":{\"outlinewidth\":0,\"ticks\":\"\"}},\"type\":\"scattergeo\"}],\"scattergl\":[{\"marker\":{\"colorbar\":{\"outlinewidth\":0,\"ticks\":\"\"}},\"type\":\"scattergl\"}],\"scattermapbox\":[{\"marker\":{\"colorbar\":{\"outlinewidth\":0,\"ticks\":\"\"}},\"type\":\"scattermapbox\"}],\"scatterpolar\":[{\"marker\":{\"colorbar\":{\"outlinewidth\":0,\"ticks\":\"\"}},\"type\":\"scatterpolar\"}],\"scatterpolargl\":[{\"marker\":{\"colorbar\":{\"outlinewidth\":0,\"ticks\":\"\"}},\"type\":\"scatterpolargl\"}],\"scatterternary\":[{\"marker\":{\"colorbar\":{\"outlinewidth\":0,\"ticks\":\"\"}},\"type\":\"scatterternary\"}],\"surface\":[{\"colorbar\":{\"outlinewidth\":0,\"ticks\":\"\"},\"colorscale\":[[0.0,\"#0d0887\"],[0.1111111111111111,\"#46039f\"],[0.2222222222222222,\"#7201a8\"],[0.3333333333333333,\"#9c179e\"],[0.4444444444444444,\"#bd3786\"],[0.5555555555555556,\"#d8576b\"],[0.6666666666666666,\"#ed7953\"],[0.7777777777777778,\"#fb9f3a\"],[0.8888888888888888,\"#fdca26\"],[1.0,\"#f0f921\"]],\"type\":\"surface\"}],\"table\":[{\"cells\":{\"fill\":{\"color\":\"#EBF0F8\"},\"line\":{\"color\":\"white\"}},\"header\":{\"fill\":{\"color\":\"#C8D4E3\"},\"line\":{\"color\":\"white\"}},\"type\":\"table\"}]},\"layout\":{\"annotationdefaults\":{\"arrowcolor\":\"#2a3f5f\",\"arrowhead\":0,\"arrowwidth\":1},\"autotypenumbers\":\"strict\",\"coloraxis\":{\"colorbar\":{\"outlinewidth\":0,\"ticks\":\"\"}},\"colorscale\":{\"diverging\":[[0,\"#8e0152\"],[0.1,\"#c51b7d\"],[0.2,\"#de77ae\"],[0.3,\"#f1b6da\"],[0.4,\"#fde0ef\"],[0.5,\"#f7f7f7\"],[0.6,\"#e6f5d0\"],[0.7,\"#b8e186\"],[0.8,\"#7fbc41\"],[0.9,\"#4d9221\"],[1,\"#276419\"]],\"sequential\":[[0.0,\"#0d0887\"],[0.1111111111111111,\"#46039f\"],[0.2222222222222222,\"#7201a8\"],[0.3333333333333333,\"#9c179e\"],[0.4444444444444444,\"#bd3786\"],[0.5555555555555556,\"#d8576b\"],[0.6666666666666666,\"#ed7953\"],[0.7777777777777778,\"#fb9f3a\"],[0.8888888888888888,\"#fdca26\"],[1.0,\"#f0f921\"]],\"sequentialminus\":[[0.0,\"#0d0887\"],[0.1111111111111111,\"#46039f\"],[0.2222222222222222,\"#7201a8\"],[0.3333333333333333,\"#9c179e\"],[0.4444444444444444,\"#bd3786\"],[0.5555555555555556,\"#d8576b\"],[0.6666666666666666,\"#ed7953\"],[0.7777777777777778,\"#fb9f3a\"],[0.8888888888888888,\"#fdca26\"],[1.0,\"#f0f921\"]]},\"colorway\":[\"#636efa\",\"#EF553B\",\"#00cc96\",\"#ab63fa\",\"#FFA15A\",\"#19d3f3\",\"#FF6692\",\"#B6E880\",\"#FF97FF\",\"#FECB52\"],\"font\":{\"color\":\"#2a3f5f\"},\"geo\":{\"bgcolor\":\"white\",\"lakecolor\":\"white\",\"landcolor\":\"#E5ECF6\",\"showlakes\":true,\"showland\":true,\"subunitcolor\":\"white\"},\"hoverlabel\":{\"align\":\"left\"},\"hovermode\":\"closest\",\"mapbox\":{\"style\":\"light\"},\"paper_bgcolor\":\"white\",\"plot_bgcolor\":\"#E5ECF6\",\"polar\":{\"angularaxis\":{\"gridcolor\":\"white\",\"linecolor\":\"white\",\"ticks\":\"\"},\"bgcolor\":\"#E5ECF6\",\"radialaxis\":{\"gridcolor\":\"white\",\"linecolor\":\"white\",\"ticks\":\"\"}},\"scene\":{\"xaxis\":{\"backgroundcolor\":\"#E5ECF6\",\"gridcolor\":\"white\",\"gridwidth\":2,\"linecolor\":\"white\",\"showbackground\":true,\"ticks\":\"\",\"zerolinecolor\":\"white\"},\"yaxis\":{\"backgroundcolor\":\"#E5ECF6\",\"gridcolor\":\"white\",\"gridwidth\":2,\"linecolor\":\"white\",\"showbackground\":true,\"ticks\":\"\",\"zerolinecolor\":\"white\"},\"zaxis\":{\"backgroundcolor\":\"#E5ECF6\",\"gridcolor\":\"white\",\"gridwidth\":2,\"linecolor\":\"white\",\"showbackground\":true,\"ticks\":\"\",\"zerolinecolor\":\"white\"}},\"shapedefaults\":{\"line\":{\"color\":\"#2a3f5f\"}},\"ternary\":{\"aaxis\":{\"gridcolor\":\"white\",\"linecolor\":\"white\",\"ticks\":\"\"},\"baxis\":{\"gridcolor\":\"white\",\"linecolor\":\"white\",\"ticks\":\"\"},\"bgcolor\":\"#E5ECF6\",\"caxis\":{\"gridcolor\":\"white\",\"linecolor\":\"white\",\"ticks\":\"\"}},\"title\":{\"x\":0.05},\"xaxis\":{\"automargin\":true,\"gridcolor\":\"white\",\"linecolor\":\"white\",\"ticks\":\"\",\"title\":{\"standoff\":15},\"zerolinecolor\":\"white\",\"zerolinewidth\":2},\"yaxis\":{\"automargin\":true,\"gridcolor\":\"white\",\"linecolor\":\"white\",\"ticks\":\"\",\"title\":{\"standoff\":15},\"zerolinecolor\":\"white\",\"zerolinewidth\":2}}},\"xaxis\":{\"anchor\":\"y\",\"domain\":[0.0,1.0],\"title\":{\"text\":\"blockid_alpha\"}},\"xaxis2\":{\"anchor\":\"y2\",\"domain\":[0.0,1.0],\"matches\":\"x\",\"showticklabels\":false},\"xaxis3\":{\"anchor\":\"y3\",\"domain\":[0.0,1.0],\"matches\":\"x\",\"showticklabels\":false},\"xaxis4\":{\"anchor\":\"y4\",\"domain\":[0.0,1.0],\"matches\":\"x\",\"showticklabels\":false},\"xaxis5\":{\"anchor\":\"y5\",\"domain\":[0.0,1.0],\"matches\":\"x\",\"showticklabels\":false},\"yaxis\":{\"anchor\":\"x\",\"domain\":[0.0,0.144],\"range\":[0,3],\"title\":{\"text\":\"normalized_epsilon\"}},\"yaxis2\":{\"anchor\":\"x2\",\"domain\":[0.214,0.358],\"matches\":\"y\",\"range\":[0,3],\"title\":{\"text\":\"normalized_epsilon\"}},\"yaxis3\":{\"anchor\":\"x3\",\"domain\":[0.428,0.572],\"matches\":\"y\",\"range\":[0,3],\"title\":{\"text\":\"normalized_epsilon\"}},\"yaxis4\":{\"anchor\":\"x4\",\"domain\":[0.6419999999999999,0.7859999999999999],\"matches\":\"y\",\"range\":[0,3],\"title\":{\"text\":\"normalized_epsilon\"}},\"yaxis5\":{\"anchor\":\"x5\",\"domain\":[0.856,1.0],\"matches\":\"y\",\"range\":[0,3],\"title\":{\"text\":\"normalized_epsilon\"}}},                        {\"responsive\": true}                    ).then(function(){\n",
       "                            \n",
       "var gd = document.getElementById('d8406232-252c-4927-8986-e4cca7440ccc');\n",
       "var x = new MutationObserver(function (mutations, observer) {{\n",
       "        var display = window.getComputedStyle(gd).display;\n",
       "        if (!display || display === 'none') {{\n",
       "            console.log([gd, 'removed!']);\n",
       "            Plotly.purge(gd);\n",
       "            observer.disconnect();\n",
       "        }}\n",
       "}});\n",
       "\n",
       "// Listen for the removal of the full notebook cells\n",
       "var notebookContainer = gd.closest('#notebook-container');\n",
       "if (notebookContainer) {{\n",
       "    x.observe(notebookContainer, {childList: true});\n",
       "}}\n",
       "\n",
       "// Listen for the clearing of the current output cell\n",
       "var outputEl = gd.closest('.output');\n",
       "if (outputEl) {{\n",
       "    x.observe(outputEl, {childList: true});\n",
       "}}\n",
       "\n",
       "                        })                };                });            </script>        </div>"
      ]
     },
     "metadata": {},
     "output_type": "display_data"
    }
   ],
   "source": [
    "px.bar(\n",
    "    # df,\n",
    "    df.query(\"allocated\"),\n",
    "    x=\"blockid_alpha\",\n",
    "    y=\"normalized_epsilon\",\n",
    "    range_y=[0,3],\n",
    "#     color=\"log_id\",\n",
    "    color=\"task\",\n",
    "    # barmode=\"group\",\n",
    "    # pattern_shape=\"allocated\",\n",
    "    facet_col=\"metric\",\n",
    "    facet_col_wrap=1,\n",
    "    height=1200,\n",
    "#     animation_frame=\"id\"\n",
    ")"
   ]
  }
 ],
 "metadata": {
  "kernelspec": {
   "display_name": "Python 3 (ipykernel)",
   "language": "python",
   "name": "python3"
  },
  "language_info": {
   "codemirror_mode": {
    "name": "ipython",
    "version": 3
   },
   "file_extension": ".py",
   "mimetype": "text/x-python",
   "name": "python",
   "nbconvert_exporter": "python",
   "pygments_lexer": "ipython3",
   "version": "3.8.5"
  }
 },
 "nbformat": 4,
 "nbformat_minor": 5
}
