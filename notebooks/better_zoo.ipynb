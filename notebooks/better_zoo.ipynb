{
 "cells": [
  {
   "cell_type": "code",
   "execution_count": null,
   "metadata": {},
   "outputs": [],
   "source": [
    "%load_ext autoreload \n",
    "%autoreload 2"
   ]
  },
  {
   "cell_type": "code",
   "execution_count": null,
   "metadata": {},
   "outputs": [],
   "source": [
    "import json\n",
    "from privacypacking.utils.utils import load_logs\n",
    "import pandas as pd\n",
    "from experiments.ray.analysis import load_tasks, load_ray_experiment, load_latest_ray_experiment, load_latest_scheduling_results, load_latest_scheduling_results, load_latest_ray_experiment, load_scheduling_queue\n",
    "import plotly.express as px\n",
    "from privacypacking.budget.curves import  LaplaceCurve, GaussianCurve, SubsampledGaussianCurve,SubsampledLaplaceCurve, SyntheticPolynomialCurve\n",
    "from privacypacking.budget import Budget, Task, Block\n",
    "from privacypacking.schedulers.metrics import OverflowRelevance, FlatRelevance\n",
    "from privacypacking.budget.block_selection import RandomBlocks\n",
    "from privacypacking.utils.plot import plot_budgets\n",
    "import yaml\n",
    "from pathlib import Path\n",
    "import plotly.graph_objects as go\n",
    "from plotly.subplots import make_subplots\n",
    "import numpy as np\n",
    "\n",
    "from omegaconf import OmegaConf\n",
    "from pathlib import Path\n",
    "from collections import defaultdict\n",
    "from privacypacking.budget import ALPHAS\n",
    "from privacypacking.utils.zoo import zoo_df, build_zoo, build_synthetic_zoo\n"
   ]
  },
  {
   "cell_type": "code",
   "execution_count": null,
   "metadata": {},
   "outputs": [],
   "source": [
    "block = Budget.from_epsilon_delta(epsilon=10, delta=1e-7)\n",
    "block.dump()"
   ]
  },
  {
   "cell_type": "code",
   "execution_count": null,
   "metadata": {},
   "outputs": [],
   "source": [
    "from itertools import product"
   ]
  },
  {
   "cell_type": "code",
   "execution_count": null,
   "metadata": {},
   "outputs": [],
   "source": [
    "r = [0.05,0.1, 0.5, 1, 2, 3, 4, 5]\n",
    "\n",
    "names_and_curves = [\n",
    "    # (\"sublaplace\", SubsampledLaplaceCurve(0.1, 1, 10) + LaplaceCurve(2)),\n",
    "    # (\"subgaussian\", SubsampledGaussianCurve(0.001, 0.8, 100)),\n",
    "    # (\"laplace\", LaplaceCurve(1))\n",
    "    # (f\"g-{k}\", LaplaceCurve(10) * k) for k in [1,10,50,100]\n",
    "    (f\"l{i}g{j}\", LaplaceCurve(i) +GaussianCurve(j)) for i,j in product(r,r)\n",
    "]\n",
    "\n",
    "# names_and_curves.extend([\n",
    "#     (f\"g{i}\", GaussianCurve(i)) for i in r\n",
    "# ])\n",
    "\n",
    "names_and_curves.extend([\n",
    "    (f\"l{i}l{j}\", LaplaceCurve(i) + LaplaceCurve(j)) for i,j in product(r,r)\n",
    "])\n",
    "for k in [1, 10, 100, 200]:\n",
    "    names_and_curves.extend([\n",
    "        (f\"sg-q{q}s{s}-k{k}\", SubsampledGaussianCurve(q,s,k/q)) for q,s in product([0.001, 0.01, 0.05, 0.1, 0.2, 0.5],[0.1, 0.5, 1,2])\n",
    "    ])\n",
    "# names_and_curves.extend([\n",
    "#     (f\"sl-q{q}s{s}\", SubsampledLaplaceCurve(q,s,100/q)) for q,s in product([0.01,0.05, 0.1, 0.2],[0.1, 0.5, 1,2])\n",
    "# ])\n",
    "alphas_df, tasks_df = zoo_df(names_and_curves, delta=1e-7)\n",
    "px.line(\n",
    "    # alphas_df.sort_values(\"alphas\").query(\"best_alpha_x == 6 and epsilon_min == 0.01\"),\n",
    "    # alphas_df.sort_values(\"alphas\").query(\"best_alpha_x == 6\"),\n",
    "    alphas_df.sort_values(\"alphas\"),\n",
    "    x=\"alphas\",\n",
    "    y=\"normalized_epsilons\",\n",
    "    color=\"task_name\",\n",
    "    log_y=True,\n",
    "    log_x=True,\n",
    ")"
   ]
  },
  {
   "cell_type": "code",
   "execution_count": null,
   "metadata": {},
   "outputs": [],
   "source": [
    "px.scatter(\n",
    "    alphas_df.query(\"alphas == best_alpha\"),\n",
    "    x=\"alphas\",\n",
    "    y=\"normalized_epsilons\",\n",
    "    color=\"task_id\",\n",
    "    log_y=True,\n",
    "    log_x=True,\n",
    "    title=\"Epsilon for the best alpha of each task\",\n",
    ")"
   ]
  },
  {
   "cell_type": "code",
   "execution_count": null,
   "metadata": {},
   "outputs": [],
   "source": [
    "px.scatter(\n",
    "    alphas_df.query(\"alphas == best_alpha\"),\n",
    "    x=\"alphas\",\n",
    "    y=\"epsilon_range\",\n",
    "    color=\"task_id\",\n",
    "    log_y=True,\n",
    "    log_x=True,\n",
    "    title=\"Range by best alpha\",\n",
    ")"
   ]
  },
  {
   "cell_type": "code",
   "execution_count": null,
   "metadata": {},
   "outputs": [],
   "source": [
    "offset = alphas_df.query(\"alphas == best_alpha\").groupby(\"alphas\").agg({\"normalized_epsilons\":\"mean\"}).reset_index().rename(columns={\"alphas\": \"best_alpha\", \"normalized_epsilons\": \"epsilon_min_avg\"})\n",
    "offset_2 = alphas_df.query(\"alphas == best_alpha\").groupby(\"alphas\").agg({\"normalized_epsilons\":\"std\"}).reset_index().rename(columns={\"alphas\": \"best_alpha\", \"normalized_epsilons\": \"epsilon_min_std\"})\n",
    "offset = offset.merge(offset_2)\n",
    "offset"
   ]
  },
  {
   "cell_type": "code",
   "execution_count": null,
   "metadata": {},
   "outputs": [],
   "source": [
    "alphas_df = alphas_df.merge(offset)\n",
    "alphas_df.head()"
   ]
  },
  {
   "cell_type": "code",
   "execution_count": null,
   "metadata": {},
   "outputs": [],
   "source": [
    "alphas_df.query(\"task_id in [90,91]\")"
   ]
  },
  {
   "cell_type": "code",
   "execution_count": null,
   "metadata": {},
   "outputs": [],
   "source": [
    "epsilon_min_avg = 0.5\n",
    "epsilon_min_std = 0.1\n",
    "rescaled = alphas_df.copy()\n",
    "# Vertical shift the whole curve depending on epsilon_min\n",
    "rescaled[\"normalized_epsilons\"] = alphas_df[\"normalized_epsilons\"] + (epsilon_min_avg - alphas_df[\"epsilon_min\"]) + epsilon_min_std * (alphas_df[\"epsilon_min\"] - alphas_df[\"epsilon_min_avg\"]) / alphas_df[\"epsilon_min_std\"]\n",
    "# alphas_df[\"normalized_epsilons\"] = (alphas_df[\"normalized_epsilons\"] - 0.2 * alphas_df[\"alphas\"]) \n",
    "# "
   ]
  },
  {
   "cell_type": "code",
   "execution_count": null,
   "metadata": {},
   "outputs": [],
   "source": [
    "rescaled.query(\"task_id in [1,2]\")"
   ]
  },
  {
   "cell_type": "code",
   "execution_count": null,
   "metadata": {},
   "outputs": [],
   "source": [
    "px.scatter(\n",
    "    rescaled.query(\"alphas == best_alpha\"),\n",
    "    x=\"alphas\",\n",
    "    y=\"normalized_epsilons\",\n",
    "    color=\"task_id\",\n",
    "    # log_y=True,\n",
    "    log_x=True,\n",
    "    title=\"Normalized eps by best alpha\",\n",
    ")"
   ]
  },
  {
   "cell_type": "code",
   "execution_count": null,
   "metadata": {},
   "outputs": [],
   "source": [
    "len(rescaled)"
   ]
  },
  {
   "cell_type": "code",
   "execution_count": null,
   "metadata": {},
   "outputs": [],
   "source": [
    "px.line(\n",
    "    # alphas_df.sort_values(\"alphas\").query(\"best_alpha_x == 6 and epsilon_min == 0.01\"),\n",
    "    # alphas_df.sort_values(\"alphas\").query(\"best_alpha_x == 6\"),\n",
    "    rescaled.sort_values(\"alphas\"),\n",
    "    x=\"alphas\",\n",
    "    y=\"normalized_epsilons\",\n",
    "    color=\"task_name\",\n",
    "    log_y=True,\n",
    "    log_x=True,\n",
    ")"
   ]
  },
  {
   "cell_type": "code",
   "execution_count": null,
   "metadata": {},
   "outputs": [],
   "source": [
    "alphas_df.query(\"task_id == 1\")"
   ]
  },
  {
   "cell_type": "code",
   "execution_count": null,
   "metadata": {},
   "outputs": [],
   "source": [
    "ranges = rescaled.query(\"alphas in [4,5,6,8]\").groupby(\"task_id\")[\"normalized_epsilons\"].agg(min).reset_index().rename(columns={\"normalized_epsilons\": \"epsilon_range_min\"})\n",
    "# rescaled.query(\"alphas in [4,5,6,8] and task_id == 90\").groupby(\"task_id\")[\"normalized_epsilons\"].agg(min)\n",
    "ranges = ranges.merge(rescaled.query(\"alphas in [4,5,6,8]\").groupby(\"task_id\")[\"normalized_epsilons\"].agg(max).reset_index().rename(columns={\"normalized_epsilons\": \"epsilon_range_max\"}))\n",
    "ranges = ranges.merge(\n",
    "    rescaled.groupby(\"task_id\")[\"normalized_epsilons\"].agg(min).reset_index().rename(columns={\"normalized_epsilons\": \"epsilon_min\"})\n",
    ")\n",
    "\n",
    "\n",
    "ranges[\"epsilon_range\"] = ranges[\"epsilon_range_max\"] - ranges[\"epsilon_range_min\"]\n",
    "\n",
    "ranges"
   ]
  },
  {
   "cell_type": "code",
   "execution_count": null,
   "metadata": {},
   "outputs": [],
   "source": [
    "ranges.describe()"
   ]
  },
  {
   "cell_type": "code",
   "execution_count": null,
   "metadata": {},
   "outputs": [],
   "source": [
    "# rescaled[\"epsilon_range\"] = (\n",
    "#     rescaled.query(\"alphas in [4,5,6,8]\")\n",
    "#     .groupby(\"task_id\")[\"normalized_epsilons\"]\n",
    "#     .agg(max)\n",
    "# ) - (\n",
    "#     rescaled.query(\"alphas in [4,5,6,8]\")\n",
    "#     .groupby(\"task_id\")[\"normalized_epsilons\"]\n",
    "#     .agg(min)\n",
    "# )"
   ]
  },
  {
   "cell_type": "code",
   "execution_count": null,
   "metadata": {},
   "outputs": [],
   "source": [
    "rescaled = rescaled.drop(columns=[\"epsilon_range\",\"epsilon_min\"]) # Obsolete since we rescaled\n",
    "rescaled = rescaled.merge(ranges, on=\"task_id\")"
   ]
  },
  {
   "cell_type": "code",
   "execution_count": null,
   "metadata": {},
   "outputs": [],
   "source": [
    "rescaled"
   ]
  },
  {
   "cell_type": "code",
   "execution_count": null,
   "metadata": {},
   "outputs": [],
   "source": [
    "offset_range = rescaled.query(\"alphas == 3\").groupby(\"best_alpha\").agg({\"epsilon_range\":\"mean\"}).reset_index().rename(columns={\"alphas\": \"best_alpha\", \"epsilon_range\": \"epsilon_range_avg\"})\n",
    "offset_range_2 = rescaled.query(\"alphas == 3\").groupby(\"best_alpha\").agg({\"epsilon_range\":\"std\"}).reset_index().rename(columns={\"alphas\": \"best_alpha\", \"epsilon_range\": \"epsilon_range_std\"})\n",
    "offset_range = offset_range.merge(offset_range_2)\n",
    "offset_range"
   ]
  },
  {
   "cell_type": "code",
   "execution_count": null,
   "metadata": {},
   "outputs": [],
   "source": [
    "rescaled = rescaled.merge(offset_range)"
   ]
  },
  {
   "cell_type": "code",
   "execution_count": null,
   "metadata": {},
   "outputs": [],
   "source": [
    "# rescaled_with_range = rescaled.copy()\n",
    "# rescaled_with_range[\"new_range\"] = -1 + "
   ]
  },
  {
   "cell_type": "code",
   "execution_count": null,
   "metadata": {},
   "outputs": [],
   "source": [
    "range_avg = 0.05\n",
    "range_std = 0.03\n",
    "rescaled_with_range = rescaled.copy()\n",
    "rescaled_with_range[\"new_range\"] = range_avg + range_std * (rescaled_with_range[\"epsilon_range\"] - rescaled_with_range[\"epsilon_range_avg\"]) / rescaled_with_range[\"epsilon_range_std\"]\n",
    "rescaled_with_range[\"normalized_epsilons\"] = rescaled_with_range[\"epsilon_min\"] + (rescaled_with_range[\"new_range\"] / rescaled_with_range[\"epsilon_range\"]) * (rescaled_with_range[\"normalized_epsilons\"] -  rescaled_with_range[\"epsilon_min\"]) "
   ]
  },
  {
   "cell_type": "code",
   "execution_count": null,
   "metadata": {},
   "outputs": [],
   "source": []
  },
  {
   "cell_type": "code",
   "execution_count": null,
   "metadata": {},
   "outputs": [],
   "source": [
    "px.scatter(\n",
    "    rescaled_with_range.query(\"alphas == best_alpha\"),\n",
    "    x=\"alphas\",\n",
    "    y=\"new_range\",\n",
    "    color=\"task_id\",\n",
    "    # log_y=True,\n",
    "    log_x=True,\n",
    "    title=\"Range by best alpha (in theory)\",\n",
    ")"
   ]
  },
  {
   "cell_type": "code",
   "execution_count": null,
   "metadata": {},
   "outputs": [],
   "source": [
    "px.line(\n",
    "    # alphas_df.sort_values(\"alphas\").query(\"best_alpha_x == 6 and epsilon_min == 0.01\"),\n",
    "    # alphas_df.sort_values(\"alphas\").query(\"best_alpha_x == 6\"),\n",
    "    rescaled_with_range.sort_values(\"alphas\"),\n",
    "    x=\"alphas\",\n",
    "    y=\"normalized_epsilons\",\n",
    "    color=\"task_name\",\n",
    "    log_y=True,\n",
    "    log_x=True,\n",
    "    range_y=[epsilon_min_avg - 3 * epsilon_min_std, 2]\n",
    ")"
   ]
  },
  {
   "cell_type": "code",
   "execution_count": null,
   "metadata": {},
   "outputs": [],
   "source": [
    "px.scatter(\n",
    "    rescaled_with_range.query(\"alphas == best_alpha\"),\n",
    "    x=\"alphas\",\n",
    "    y=\"normalized_epsilons\",\n",
    "    color=\"task_id\",\n",
    "    # log_y=True,\n",
    "    log_x=True,\n",
    "    title=\"Normalized eps by best alpha\",\n",
    ")"
   ]
  },
  {
   "cell_type": "code",
   "execution_count": null,
   "metadata": {},
   "outputs": [],
   "source": [
    "rescaled_with_range.query(\"alphas == best_alpha\").groupby(\"best_alpha\")[\"normalized_epsilons\"].describe()"
   ]
  },
  {
   "cell_type": "code",
   "execution_count": null,
   "metadata": {},
   "outputs": [],
   "source": [
    "rescaled_with_range.query(\"alphas == best_alpha\").groupby(\"best_alpha\")[\"new_range\"].describe()"
   ]
  },
  {
   "cell_type": "code",
   "execution_count": null,
   "metadata": {},
   "outputs": [],
   "source": [
    "ranges = rescaled_with_range.query(\"alphas in [4,5,6,8]\").groupby(\"task_id\")[\"normalized_epsilons\"].agg(min).reset_index().rename(columns={\"normalized_epsilons\": \"epsilon_range_min\"})\n",
    "# rescaled.query(\"alphas in [4,5,6,8] and task_id == 90\").groupby(\"task_id\")[\"normalized_epsilons\"].agg(min)\n",
    "ranges = ranges.merge(rescaled_with_range.query(\"alphas in [4,5,6,8]\").groupby(\"task_id\")[\"normalized_epsilons\"].agg(max).reset_index().rename(columns={\"normalized_epsilons\": \"epsilon_range_max\"}))\n",
    "ranges = ranges.merge(\n",
    "    rescaled_with_range.groupby(\"task_id\")[\"normalized_epsilons\"].agg(min).reset_index().rename(columns={\"normalized_epsilons\": \"epsilon_min\"})\n",
    ")\n",
    "\n",
    "\n",
    "ranges[\"epsilon_range\"] = ranges[\"epsilon_range_max\"] - ranges[\"epsilon_range_min\"]\n",
    "\n",
    "ranges"
   ]
  },
  {
   "cell_type": "code",
   "execution_count": null,
   "metadata": {},
   "outputs": [],
   "source": [
    "rescaled_with_range = rescaled_with_range.drop(columns=[\"epsilon_range\",\"epsilon_min\"]) # Obsolete since we rescaled\n",
    "rescaled_with_range = rescaled_with_range.merge(ranges, on=\"task_id\")"
   ]
  },
  {
   "cell_type": "code",
   "execution_count": null,
   "metadata": {},
   "outputs": [],
   "source": [
    "px.scatter(\n",
    "    rescaled_with_range.query(\"alphas == best_alpha\"),\n",
    "    x=\"alphas\",\n",
    "    y=\"epsilon_range\",\n",
    "    color=\"task_id\",\n",
    "    log_y=True,\n",
    "    log_x=True,\n",
    "    title=\"Range by best alpha (real)\",\n",
    ")"
   ]
  },
  {
   "cell_type": "code",
   "execution_count": null,
   "metadata": {},
   "outputs": [],
   "source": [
    "rescaled_with_range.query(\"alphas == best_alpha\").groupby(\"best_alpha\")[\"epsilon_range\"].describe()"
   ]
  },
  {
   "cell_type": "code",
   "execution_count": null,
   "metadata": {},
   "outputs": [],
   "source": [
    "offset_range = rescaled_with_range.query(\"alphas == 3\").groupby(\"best_alpha\").agg({\"epsilon_range\":\"mean\"}).reset_index().rename(columns={\"alphas\": \"best_alpha\", \"epsilon_range\": \"epsilon_range_avg\"})\n",
    "offset_range_2 = rescaled_with_range.query(\"alphas == 3\").groupby(\"best_alpha\").agg({\"epsilon_range\":\"std\"}).reset_index().rename(columns={\"alphas\": \"best_alpha\", \"epsilon_range\": \"epsilon_range_std\"})\n",
    "offset_range = offset_range.merge(offset_range_2)\n",
    "offset_range"
   ]
  },
  {
   "cell_type": "code",
   "execution_count": null,
   "metadata": {},
   "outputs": [],
   "source": [
    "# names_and_curves = build_zoo()\n",
    "# alphas_df, tasks_df = zoo_df(names_and_curves)\n",
    "# px.line(\n",
    "#     # alphas_df.sort_values(\"alphas\").query(\"best_alpha_x == 6 and epsilon_min == 0.01\"),\n",
    "#     # alphas_df.sort_values(\"alphas\").query(\"best_alpha_x == 6\"),\n",
    "#     alphas_df.sort_values(\"alphas\"),\n",
    "#     x=\"alphas\",\n",
    "#     y=\"normalized_epsilons\",\n",
    "#     color=\"task_name\",\n",
    "#     log_y=True,\n",
    "#     log_x=True,\n",
    "# )"
   ]
  },
  {
   "cell_type": "code",
   "execution_count": null,
   "metadata": {},
   "outputs": [],
   "source": [
    "for task_name in rescaled_with_range.task_name.unique():\n",
    "    for _, row in rescaled_with_range.query(f\"task_name == '{task_name}'\").iterrows():\n",
    "        print(row[\"alphas\"], row[\"normalized_epsilons\"])\n",
    "    break\n"
   ]
  },
  {
   "cell_type": "markdown",
   "metadata": {},
   "source": [
    "Okay let's try our new normalization function!"
   ]
  },
  {
   "cell_type": "code",
   "execution_count": null,
   "metadata": {},
   "outputs": [],
   "source": [
    "from privacypacking.utils.zoo import normalize_zoo, build_zoo"
   ]
  },
  {
   "cell_type": "code",
   "execution_count": null,
   "metadata": {},
   "outputs": [],
   "source": [
    "names_and_curves = build_zoo()"
   ]
  },
  {
   "cell_type": "code",
   "execution_count": null,
   "metadata": {},
   "outputs": [],
   "source": [
    "original_alphas_df, _ = zoo_df(names_and_curves)"
   ]
  },
  {
   "cell_type": "code",
   "execution_count": null,
   "metadata": {},
   "outputs": [],
   "source": [
    "px.line(\n",
    "\n",
    "    original_alphas_df.sort_values(\"alphas\"),\n",
    "    x=\"alphas\",\n",
    "    y=\"normalized_epsilons\",\n",
    "    color=\"task_name\",\n",
    "    log_y=True,\n",
    "    log_x=True,\n",
    ")"
   ]
  },
  {
   "cell_type": "code",
   "execution_count": null,
   "metadata": {},
   "outputs": [],
   "source": [
    "px.scatter(\n",
    "    original_alphas_df.query(\"alphas == best_alpha\"),\n",
    "    x=\"alphas\",\n",
    "    y=\"normalized_epsilons\",\n",
    "    color=\"task_id\",\n",
    "    log_y=True,\n",
    "    log_x=True,\n",
    "    title=\"Normalized eps by best alpha\",\n",
    ")"
   ]
  },
  {
   "cell_type": "code",
   "execution_count": null,
   "metadata": {},
   "outputs": [],
   "source": [
    "px.scatter(\n",
    "    original_alphas_df.query(\"alphas == best_alpha\"),\n",
    "    x=\"alphas\",\n",
    "    y=\"epsilon_max\",\n",
    "    color=\"task_id\",\n",
    "    log_y=True,\n",
    "    log_x=True,\n",
    "    title=\"Dominant share by best alpha\",\n",
    ")"
   ]
  },
  {
   "cell_type": "code",
   "execution_count": null,
   "metadata": {},
   "outputs": [],
   "source": [
    "px.scatter(\n",
    "    original_alphas_df.query(\"alphas == best_alpha\"),\n",
    "    x=\"alphas\",\n",
    "    y=\"epsilon_range\",\n",
    "    color=\"task_id\",\n",
    "    log_y=True,\n",
    "    log_x=True,\n",
    "    title=\"Range by best alpha\",\n",
    ")"
   ]
  },
  {
   "cell_type": "markdown",
   "metadata": {},
   "source": [
    "Now, let's normalize this and see how it looks like!"
   ]
  },
  {
   "cell_type": "code",
   "execution_count": null,
   "metadata": {},
   "outputs": [],
   "source": [
    "new_names_and_curves = normalize_zoo(\n",
    "    names_and_curves,\n",
    "    epsilon_min_avg=0.1,\n",
    "    epsilon_min_std=0.01,\n",
    "    range_avg=0.5,\n",
    "    range_std=0.03\n",
    ")"
   ]
  },
  {
   "cell_type": "code",
   "execution_count": null,
   "metadata": {},
   "outputs": [],
   "source": [
    "alphas_df, _ = zoo_df(new_names_and_curves)"
   ]
  },
  {
   "cell_type": "code",
   "execution_count": null,
   "metadata": {},
   "outputs": [],
   "source": [
    "px.line(\n",
    "    # alphas_df.sort_values(\"alphas\").query(\"best_alpha_x == 6 and epsilon_min == 0.01\"),\n",
    "    # alphas_df.sort_values(\"alphas\").query(\"best_alpha_x == 6\"),\n",
    "    alphas_df.sort_values(\"alphas\"),\n",
    "    x=\"alphas\",\n",
    "    y=\"normalized_epsilons\",\n",
    "    color=\"task_name\",\n",
    "    log_y=True,\n",
    "    log_x=True,\n",
    ")"
   ]
  },
  {
   "cell_type": "code",
   "execution_count": null,
   "metadata": {},
   "outputs": [],
   "source": [
    "fig = px.line(\n",
    "    # alphas_df.sort_values(\"alphas\").query(\"best_alpha_x == 6 and epsilon_min == 0.01\"),\n",
    "    # alphas_df.sort_values(\"alphas\").query(\"best_alpha_x == 6\"),\n",
    "    alphas_df.sort_values(\"alphas\"),\n",
    "    x=\"alphas\",\n",
    "    y=\"normalized_epsilons\",\n",
    "    color=\"task_name\",\n",
    "    log_y=True,\n",
    "    log_x=True,\n",
    "    height=1200,\n",
    "    facet_row=\"best_alpha\",\n",
    ")\n",
    "fig.update_layout(showlegend=False) \n",
    "fig"
   ]
  },
  {
   "cell_type": "code",
   "execution_count": null,
   "metadata": {},
   "outputs": [],
   "source": [
    "px.scatter(\n",
    "    alphas_df.query(\"alphas == best_alpha\"),\n",
    "    x=\"alphas\",\n",
    "    y=\"epsilon_min\",\n",
    "    # y=\"normalized_epsilons\",\n",
    "\n",
    "    color=\"task_type\",\n",
    "    log_y=True,\n",
    "    log_x=True,\n",
    "    title=\"Best eps by best alpha\",\n",
    ")"
   ]
  },
  {
   "cell_type": "code",
   "execution_count": null,
   "metadata": {},
   "outputs": [],
   "source": [
    "px.scatter(\n",
    "    alphas_df.query(\"alphas == best_alpha\"),\n",
    "    x=\"alphas\",\n",
    "    y=\"epsilon_max\",\n",
    "    color=\"task_type\",\n",
    "    log_y=True,\n",
    "    log_x=True,\n",
    "    title=\"Dominant share by best alpha\",\n",
    ")"
   ]
  },
  {
   "cell_type": "code",
   "execution_count": null,
   "metadata": {},
   "outputs": [],
   "source": [
    "px.scatter(\n",
    "    alphas_df.query(\"alphas == best_alpha\"),\n",
    "    x=\"alphas\",\n",
    "    y=\"epsilon_range\",\n",
    "    color=\"task_id\",\n",
    "    log_y=True,\n",
    "    log_x=True,\n",
    "    title=\"Range by best alpha\",\n",
    ")"
   ]
  },
  {
   "cell_type": "code",
   "execution_count": null,
   "metadata": {},
   "outputs": [],
   "source": [
    "def map_range_to_bin(alpha):\n",
    "\n",
    "    return ALPHAS.index(alpha)"
   ]
  },
  {
   "cell_type": "code",
   "execution_count": null,
   "metadata": {},
   "outputs": [],
   "source": [
    "tasks_df = alphas_df.query(\"alphas == 5\")"
   ]
  },
  {
   "cell_type": "code",
   "execution_count": null,
   "metadata": {},
   "outputs": [],
   "source": [
    "df = tasks_df.copy()\n",
    "df[\"bin_id\"] = df[\"best_alpha\"].apply(map_range_to_bin)\n",
    "\n",
    "count_by_bin = list(df.groupby(\"bin_id\").count().epsilon_range)"
   ]
  },
  {
   "cell_type": "code",
   "execution_count": null,
   "metadata": {},
   "outputs": [],
   "source": [
    "dict(df.groupby(\"bin_id\").count().alphas)"
   ]
  },
  {
   "cell_type": "code",
   "execution_count": null,
   "metadata": {},
   "outputs": [],
   "source": []
  }
 ],
 "metadata": {
  "interpreter": {
   "hash": "eb9f88a12e8f66ffa940aa96de4342344a602b0c71bf9fbb297683183e48a1a1"
  },
  "kernelspec": {
   "display_name": "Python 3.8.5 ('base')",
   "language": "python",
   "name": "python3"
  },
  "language_info": {
   "codemirror_mode": {
    "name": "ipython",
    "version": 3
   },
   "file_extension": ".py",
   "mimetype": "text/x-python",
   "name": "python",
   "nbconvert_exporter": "python",
   "pygments_lexer": "ipython3"
  }
 },
 "nbformat": 4,
 "nbformat_minor": 2
}
