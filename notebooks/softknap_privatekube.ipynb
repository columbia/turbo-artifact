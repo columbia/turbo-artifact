{
 "cells": [
  {
   "cell_type": "code",
   "execution_count": null,
   "metadata": {},
   "outputs": [],
   "source": [
    "%load_ext autoreload\n",
    "%autoreload 2"
   ]
  },
  {
   "cell_type": "code",
   "execution_count": null,
   "metadata": {},
   "outputs": [],
   "source": [
    "import json\n",
    "from privacypacking.utils.utils import load_logs, global_metrics\n",
    "import pandas as pd\n",
    "from experiments.ray.analysis import load_ray_experiment, load_latest_ray_experiment, load_latest_scheduling_results, load_latest_scheduling_results, load_latest_ray_experiment\n",
    "import plotly.express as px\n",
    "from privacypacking.budget.curves import  LaplaceCurve, GaussianCurve, SubsampledGaussianCurve\n",
    "from privacypacking.budget import Budget, Task, Block\n",
    "from privacypacking.schedulers.metrics import OverflowRelevance, FlatRelevance\n",
    "from privacypacking.budget.block_selection import RandomBlocks\n",
    "from privacypacking.utils.plot import plot_budgets\n",
    "import yaml\n",
    "from pathlib import Path\n",
    "import plotly.graph_objects as go\n",
    "from plotly.subplots import make_subplots\n",
    "import numpy as np\n",
    "from experiments.ray.analysis import get_percentiles"
   ]
  },
  {
   "cell_type": "code",
   "execution_count": null,
   "metadata": {},
   "outputs": [],
   "source": [
    "rdf = load_ray_experiment(Path(\"/home/pierre/privacypacking/logs/ray/run_and_report_2021-12-07_22-58-03\"))"
   ]
  },
  {
   "cell_type": "code",
   "execution_count": null,
   "metadata": {},
   "outputs": [],
   "source": [
    "rdf.columns"
   ]
  },
  {
   "cell_type": "code",
   "execution_count": null,
   "metadata": {},
   "outputs": [],
   "source": [
    "rdf[\"mean_task_per_block\"].unique()"
   ]
  },
  {
   "cell_type": "code",
   "execution_count": null,
   "metadata": {},
   "outputs": [],
   "source": [
    "(rdf[\"maximum_profit\"] / rdf[\"n_tasks\"]).unique()"
   ]
  },
  {
   "cell_type": "code",
   "execution_count": null,
   "metadata": {},
   "outputs": [],
   "source": [
    "px.line(\n",
    "    rdf.query(\"n_tasks == maximum_profit and scheduler_metric == 'SoftKnapsack' and mean_task_per_block == 250 \").sort_values(\"temperature\"),\n",
    "    x=\"temperature\",\n",
    "    y=\"n_allocated_tasks\",\n",
    "    color=\"metric_recomputation_period\",\n",
    "    # log_x=True,\n",
    "    width=800,\n",
    "    height=600,\n",
    "    # range_y=[0,1200],\n",
    "    log_x=True,\n",
    "    title=\"10 + 20 blocks, privatekube. No profits.\",\n",
    "    # title=\"Number of allocated tasks depending on the scheduling step size<br><sup>Online mixed curves, 20 blocks, no initial blocks, 100 tasks per block on average, lifetime = 5 blocks</sup>\"\n",
    ")"
   ]
  },
  {
   "cell_type": "code",
   "execution_count": null,
   "metadata": {},
   "outputs": [],
   "source": [
    "px.line(\n",
    "    rdf.query(\"n_tasks == maximum_profit and metric_recomputation_period == 10 and temperature == 0.01\").sort_values([\"mean_task_per_block\", \"scheduler_metric\"]),\n",
    "    x=\"mean_task_per_block\",\n",
    "    y=\"n_allocated_tasks\",\n",
    "    color=\"scheduler_metric\",\n",
    "    # log_x=True,\n",
    "    width=800,\n",
    "    height=600,\n",
    "    # range_y=[0,1200],\n",
    "    title=\"10 + 20 blocks, privatekube. No profits.\",\n",
    "    # title=\"Number of allocated tasks depending on the scheduling step size<br><sup>Online mixed curves, 20 blocks, no initial blocks, 100 tasks per block on average, lifetime = 5 blocks</sup>\"\n",
    ")"
   ]
  },
  {
   "cell_type": "code",
   "execution_count": null,
   "metadata": {},
   "outputs": [],
   "source": [
    "rdf[\"profits\"] = rdf.config.apply(lambda d: d[\"tasks_spec\"][\"curve_distributions\"][\"custom\"][\"data_path\"][-5:])"
   ]
  },
  {
   "cell_type": "code",
   "execution_count": null,
   "metadata": {},
   "outputs": [],
   "source": [
    "rdf.profits.unique()"
   ]
  },
  {
   "cell_type": "code",
   "execution_count": null,
   "metadata": {},
   "outputs": [],
   "source": [
    "px.line(\n",
    "    rdf.query(\"profits == '=size' and metric_recomputation_period == 10 and temperature == 0.01\").sort_values([\"mean_task_per_block\", \"scheduler_metric\"]),\n",
    "    x=\"mean_task_per_block\",\n",
    "    y=\"realized_profit\",\n",
    "    color=\"scheduler_metric\",\n",
    "    # log_x=True,\n",
    "    width=800,\n",
    "    height=600,\n",
    "    facet_col=\"profits\",\n",
    "    facet_col_wrap=1,\n",
    "    # range_y=[0,1200],\n",
    "    title=\"10 + 20 blocks, privatekube, offline.\",\n",
    "    # title=\"Number of allocated tasks depending on the scheduling step size<br><sup>Online mixed curves, 20 blocks, no initial blocks, 100 tasks per block on average, lifetime = 5 blocks</sup>\"\n",
    ")"
   ]
  },
  {
   "cell_type": "code",
   "execution_count": null,
   "metadata": {},
   "outputs": [],
   "source": [
    "px.line(\n",
    "    rdf.query(\"profits == '5_p=1' and metric_recomputation_period == 10 and temperature == 0.01\").sort_values([\"mean_task_per_block\", \"scheduler_metric\"]),\n",
    "    x=\"mean_task_per_block\",\n",
    "    y=\"realized_profit\",\n",
    "    color=\"scheduler_metric\",\n",
    "    # log_x=True,\n",
    "    width=800,\n",
    "    height=600,\n",
    "    facet_col=\"profits\",\n",
    "    facet_col_wrap=1,\n",
    "    # range_y=[0,1200],\n",
    "    title=\"10 + 20 blocks, privatekube, offline.\",\n",
    "    # title=\"Number of allocated tasks depending on the scheduling step size<br><sup>Online mixed curves, 20 blocks, no initial blocks, 100 tasks per block on average, lifetime = 5 blocks</sup>\"\n",
    ")"
   ]
  },
  {
   "cell_type": "code",
   "execution_count": null,
   "metadata": {},
   "outputs": [],
   "source": [
    "px.line(\n",
    "    rdf.query(\"profits == 'ksize' and metric_recomputation_period == 10 and temperature == 0.01\").sort_values([\"mean_task_per_block\", \"scheduler_metric\"]),\n",
    "    x=\"mean_task_per_block\",\n",
    "    y=\"realized_profit\",\n",
    "    color=\"scheduler_metric\",\n",
    "    # log_x=True,\n",
    "    width=800,\n",
    "    height=600,\n",
    "    facet_col=\"profits\",\n",
    "    facet_col_wrap=1,\n",
    "    # range_y=[0,1200],\n",
    "    title=\"10 + 20 blocks, privatekube, offline.\",\n",
    "    # title=\"Number of allocated tasks depending on the scheduling step size<br><sup>Online mixed curves, 20 blocks, no initial blocks, 100 tasks per block on average, lifetime = 5 blocks</sup>\"\n",
    ")"
   ]
  },
  {
   "cell_type": "code",
   "execution_count": null,
   "metadata": {},
   "outputs": [],
   "source": [
    "rdf = load_ray_experiment(Path(\"/home/pierre/privacypacking/logs/ray/run_and_report_2021-12-08_09-41-19\"))"
   ]
  },
  {
   "cell_type": "code",
   "execution_count": null,
   "metadata": {},
   "outputs": [],
   "source": [
    "fig = px.line(\n",
    "    rdf.sort_values([\"temperature\", \"data_path\"]),\n",
    "    x=\"temperature\",\n",
    "    y=\"realized_profit\",\n",
    "    color=\"scheduler_metric\",\n",
    "    # log_x=True,\n",
    "    width=800,\n",
    "    height=600,\n",
    "    log_x=True,\n",
    "    facet_col=\"data_path\",\n",
    "    facet_col_wrap=1,\n",
    "    # range_y=[0,1200],\n",
    "    title=\"10 + 20 blocks, privatekube, offline.\",\n",
    "    # title=\"Number of allocated tasks depending on the scheduling step size<br><sup>Online mixed curves, 20 blocks, no initial blocks, 100 tasks per block on average, lifetime = 5 blocks</sup>\"\n",
    ")\n",
    "fig.layout.yaxis1.update(matches=None)\n",
    "fig.layout.yaxis2.update(matches=None)\n",
    "fig.layout.yaxis3.update(matches=None)\n",
    "fig"
   ]
  },
  {
   "cell_type": "code",
   "execution_count": null,
   "metadata": {},
   "outputs": [],
   "source": [
    "rdf = load_ray_experiment(Path(\"/home/pierre/privacypacking/logs/ray/run_and_report_2021-12-08_11-58-57\"))\n",
    "# What is the impact of capping the demands? + double check load"
   ]
  },
  {
   "cell_type": "code",
   "execution_count": null,
   "metadata": {},
   "outputs": [],
   "source": [
    "rdf.config.iloc[0]"
   ]
  },
  {
   "cell_type": "code",
   "execution_count": null,
   "metadata": {},
   "outputs": [],
   "source": [
    "rdf[\"clip\"] =  rdf.config.apply(lambda d: d[\"omegaconf\"][\"metric\"][\"clip_demands_in_relevance\"])"
   ]
  },
  {
   "cell_type": "code",
   "execution_count": null,
   "metadata": {},
   "outputs": [],
   "source": [
    "rdf.total_tasks.unique()"
   ]
  },
  {
   "cell_type": "code",
   "execution_count": null,
   "metadata": {},
   "outputs": [],
   "source": [
    "fig = px.line(\n",
    "    rdf.sort_values([\"mean_task_per_block\", \"data_path\"]),\n",
    "    x=\"mean_task_per_block\",\n",
    "    y=\"n_allocated_tasks\",\n",
    "    color=\"clip\",\n",
    "    # log_x=True,\n",
    "    width=800,\n",
    "    height=600,\n",
    "    log_x=True,\n",
    "    facet_col=\"data_path\",\n",
    "    facet_col_wrap=1,\n",
    "    # range_y=[0,1200],\n",
    "    title=\"10 + 20 blocks, privatekube, offline. <br> Temp 0.1, norm by capacity. No profits. \",\n",
    "    # title=\"Number of allocated tasks depending on the scheduling step size<br><sup>Online mixed curves, 20 blocks, no initial blocks, 100 tasks per block on average, lifetime = 5 blocks</sup>\"\n",
    ")\n",
    "fig"
   ]
  },
  {
   "cell_type": "code",
   "execution_count": null,
   "metadata": {},
   "outputs": [],
   "source": [
    "rdf = load_ray_experiment(Path(\"/home/pierre/privacypacking/logs/ray/run_and_report_2021-12-08_11-15-18\"))\n"
   ]
  },
  {
   "cell_type": "code",
   "execution_count": null,
   "metadata": {},
   "outputs": [],
   "source": [
    "rdf"
   ]
  },
  {
   "cell_type": "code",
   "execution_count": null,
   "metadata": {},
   "outputs": [],
   "source": [
    "fig = px.line(\n",
    "    rdf.sort_values([\"temperature\", \"data_path\"]),\n",
    "    x=\"temperature\",\n",
    "    y=\"n_allocated_tasks\",\n",
    "    # color=\"clip\",\n",
    "    # log_x=True,\n",
    "    width=800,\n",
    "    height=600,\n",
    "    log_x=True,\n",
    "    facet_col=\"data_path\",\n",
    "    facet_col_wrap=1,\n",
    "    # range_y=[0,1200],\n",
    "    title=\"10 + 20 blocks, privatekube, offline. <br> No profits. 600 mean tasks per block\",\n",
    "    # title=\"Number of allocated tasks depending on the scheduling step size<br><sup>Online mixed curves, 20 blocks, no initial blocks, 100 tasks per block on average, lifetime = 5 blocks</sup>\"\n",
    ")\n",
    "fig"
   ]
  },
  {
   "cell_type": "markdown",
   "metadata": {},
   "source": [
    "Nice! The optimal temperature doesn't seem to depend on the load too much. But it does depend on the profits.\n",
    "\n",
    "- [ ] Check if it depends on the number of blocks"
   ]
  },
  {
   "cell_type": "code",
   "execution_count": null,
   "metadata": {},
   "outputs": [],
   "source": [
    "# Now, try different loads and see if we observe the slight dominance of SK over other schedulers. \n",
    "# No profits. Temperature = 0.1 (the best for this profit profile, at least for mean task 300 and 600)\n",
    "rdf = load_ray_experiment(Path(\"/home/pierre/privacypacking/logs/ray/run_and_report_2021-12-08_15-03-37\"))\n",
    "\n",
    "px.line(\n",
    "    rdf.sort_values([\"mean_task_per_block\", \"scheduler_metric\"]),\n",
    "    x=\"mean_task_per_block\",\n",
    "    y=\"n_allocated_tasks\",\n",
    "    color=\"scheduler_metric\",\n",
    "    # log_x=True,\n",
    "    width=800,\n",
    "    height=600,\n",
    "    range_y=[0,15_000],\n",
    "    title=\"10 + 20 blocks, privatekube, offline.\",\n",
    "    # title=\"Number of allocated tasks depending on the scheduling step size<br><sup>Online mixed curves, 20 blocks, no initial blocks, 100 tasks per block on average, lifetime = 5 blocks</sup>\"\n",
    ")"
   ]
  },
  {
   "cell_type": "code",
   "execution_count": null,
   "metadata": {},
   "outputs": [],
   "source": [
    "# Same but with profits = size.\n",
    "# Temp = 0.01 (the best for this profit profile, at least for mean task 300 and 600)\n",
    "rdf = load_ray_experiment(Path(\"/home/pierre/privacypacking/logs/ray/run_and_report_2021-12-08_15-09-25\"))\n",
    "\n",
    "px.line(\n",
    "    rdf.sort_values([\"mean_task_per_block\", \"scheduler_metric\"]),\n",
    "    x=\"mean_task_per_block\",\n",
    "    y=\"realized_profit\",\n",
    "    color=\"scheduler_metric\",\n",
    "    # log_x=True,\n",
    "    width=800,\n",
    "    height=600,\n",
    "    range_y=[0,15_000],\n",
    "    title=\"10 + 20 blocks, privatekube, offline. Profits.\",\n",
    "    # title=\"Number of allocated tasks depending on the scheduling step size<br><sup>Online mixed curves, 20 blocks, no initial blocks, 100 tasks per block on average, lifetime = 5 blocks</sup>\"\n",
    ")"
   ]
  },
  {
   "cell_type": "code",
   "execution_count": null,
   "metadata": {},
   "outputs": [],
   "source": [
    "# Temperature tuning for SK with two different load, with grid profits. Amplitude: 1000. Shift: 10.\n",
    "# - [ ] Smaller amplitude but bigger shift?\n",
    "\n",
    "rdf = load_ray_experiment(Path(\"/home/pierre/privacypacking/logs/ray/run_and_report_2021-12-08_15-27-59\"))\n",
    "\n",
    "px.line(\n",
    "    rdf.sort_values([\"temperature\", \"mean_task_per_block\"]),\n",
    "    x=\"temperature\",\n",
    "    y=\"realized_profit\",\n",
    "    color=\"mean_task_per_block\",\n",
    "    # log_x=True,\n",
    "    width=800,\n",
    "    height=600,\n",
    "    # range_y=[0,15_000],\n",
    "    log_x=True,\n",
    "    title=\"10 + 20 blocks, privatekube, offline. Profits.\",\n",
    "    # title=\"Number of allocated tasks depending on the scheduling step size<br><sup>Online mixed curves, 20 blocks, no initial blocks, 100 tasks per block on average, lifetime = 5 blocks</sup>\"\n",
    ")"
   ]
  },
  {
   "cell_type": "code",
   "execution_count": null,
   "metadata": {},
   "outputs": [],
   "source": [
    "# Temperature tuning for SK with two different load, with grid profits. \n",
    "# Integer grid. Amplitude: 500. Shift: 10.                     profit = \"500:0.25, 100:0.25, 50:0.25, 10:0.25\" / profit = \"50:0.25, 10:0.25, 5:0.25, 1:0.25\"\n",
    "\n",
    "rdf = load_ray_experiment(Path(\"/home/pierre/privacypacking/logs/ray/run_and_report_2021-12-08_16-24-54\"))\n",
    "\n",
    "px.line(\n",
    "    rdf.sort_values([\"temperature\", \"mean_task_per_block\"]),\n",
    "    x=\"temperature\",\n",
    "    y=\"realized_profit\",\n",
    "    color=\"mean_task_per_block\",\n",
    "    # log_x=True,\n",
    "    width=800,\n",
    "    height=600,\n",
    "    # range_y=[0,15_000],\n",
    "    log_x=True,\n",
    "    title=\"10 + 20 blocks, privatekube, offline. Profits.\",\n",
    "    # title=\"Number of allocated tasks depending on the scheduling step size<br><sup>Online mixed curves, 20 blocks, no initial blocks, 100 tasks per block on average, lifetime = 5 blocks</sup>\"\n",
    ")"
   ]
  },
  {
   "cell_type": "code",
   "execution_count": null,
   "metadata": {},
   "outputs": [],
   "source": [
    "# Check how it looks like when I increase the number of tasks. And compare with other metrics\n",
    "# Integer grid profits. Temperature: 1e-4 (the best)\n",
    "# - [ ] If it looks good, repeat and average a few seeds (if not smooth). Then, play with T and lifetime.\n",
    "# - [x] Sprinkle some Gaussian curves?? They seem pretty much useless (free). Unless I purposely give them profit 50x smaller than laplace, which is suspicious.\n",
    "# - [WIP] Play with the mice ratio?\n",
    "\n",
    "rdf = load_ray_experiment(Path(\"/home/pierre/privacypacking/logs/ray/run_and_report_2021-12-08_16-37-51\"))\n",
    "\n",
    "px.line(\n",
    "    rdf.sort_values([\"mean_task_per_block\", \"scheduler_metric\"]),\n",
    "    x=\"mean_task_per_block\",\n",
    "    y=\"realized_profit\",\n",
    "    color=\"scheduler_metric\",\n",
    "    # log_x=True,\n",
    "    width=800,\n",
    "    height=600,\n",
    "    # range_y=[0,15_000],\n",
    "    title=\"10 + 20 blocks, privatekube, offline. Profits.\",\n",
    "    # title=\"Number of allocated tasks depending on the scheduling step size<br><sup>Online mixed curves, 20 blocks, no initial blocks, 100 tasks per block on average, lifetime = 5 blocks</sup>\"\n",
    ")"
   ]
  },
  {
   "cell_type": "code",
   "execution_count": null,
   "metadata": {},
   "outputs": [],
   "source": [
    "# Same seed as above, just normalizing by available budget instead of capacity.\n",
    "rdf = load_ray_experiment(Path(\"/home/pierre/privacypacking/logs/ray/run_and_report_2021-12-08_17-17-08\"))\n",
    "\n",
    "px.line(\n",
    "    rdf.sort_values([\"mean_task_per_block\", \"scheduler_metric\"]),\n",
    "    x=\"mean_task_per_block\",\n",
    "    y=\"realized_profit\",\n",
    "    color=\"scheduler_metric\",\n",
    "    # log_x=True,\n",
    "    width=800,\n",
    "    height=600,\n",
    "    # range_y=[0,15_000],\n",
    "    title=\"10 + 20 blocks, privatekube, offline. Profits.\",\n",
    "    # title=\"Number of allocated tasks depending on the scheduling step size<br><sup>Online mixed curves, 20 blocks, no initial blocks, 100 tasks per block on average, lifetime = 5 blocks</sup>\"\n",
    ")"
   ]
  },
  {
   "cell_type": "code",
   "execution_count": null,
   "metadata": {},
   "outputs": [],
   "source": [
    "# Same as previous but with a different seed (1)\n",
    "rdf = load_ray_experiment(Path(\"/home/pierre/privacypacking/logs/ray/run_and_report_2021-12-08_18-37-31\"))\n",
    "\n",
    "px.line(\n",
    "    rdf.sort_values([\"mean_task_per_block\", \"scheduler_metric\"]),\n",
    "    x=\"mean_task_per_block\",\n",
    "    y=\"realized_profit\",\n",
    "    color=\"scheduler_metric\",\n",
    "    # log_x=True,\n",
    "    width=800,\n",
    "    height=600,\n",
    "    # range_y=[0,15_000],\n",
    "    title=\"10 + 20 blocks, privatekube, offline. Profits.\",\n",
    "    # title=\"Number of allocated tasks depending on the scheduling step size<br><sup>Online mixed curves, 20 blocks, no initial blocks, 100 tasks per block on average, lifetime = 5 blocks</sup>\"\n",
    ")"
   ]
  },
  {
   "cell_type": "code",
   "execution_count": null,
   "metadata": {},
   "outputs": [],
   "source": [
    "# Playing with the ratio! Seed 0, normalize by capacity. Warning: the optimal temperature might have changed? Maybe I should just compute it on paper.\n",
    "rdf = load_ray_experiment(Path(\"/home/pierre/privacypacking/logs/ray/run_and_report_2021-12-08_17-31-39\"))\n",
    "\n",
    "px.line(\n",
    "    rdf.sort_values([\"data_path\", \"mean_task_per_block\", \"scheduler_metric\"]),\n",
    "    x=\"mean_task_per_block\",\n",
    "    y=\"realized_profit\",\n",
    "    color=\"scheduler_metric\",\n",
    "    # log_x=True,\n",
    "    width=800,\n",
    "    height=600,\n",
    "    # range_y=[0,15_000],\n",
    "    facet_col=\"data_path\",\n",
    "    facet_col_wrap=1,    \n",
    "    title=\"10 + 20 blocks, privatekube, offline. Int grid Profits.\",\n",
    "    # title=\"Number of allocated tasks depending on the scheduling step size<br><sup>Online mixed curves, 20 blocks, no initial blocks, 100 tasks per block on average, lifetime = 5 blocks</sup>\"\n",
    ")\n",
    "\n"
   ]
  },
  {
   "cell_type": "code",
   "execution_count": null,
   "metadata": {},
   "outputs": [],
   "source": [
    "# Online, grid profits, 0.5 mice. L = 10. Different T.\n",
    "\n",
    "rdf = load_ray_experiment(Path(\"/home/pierre/privacypacking/logs/ray/run_and_report_2021-12-08_18-49-20\"))\n",
    "\n",
    "px.line(\n",
    "    rdf.sort_values([\"T\", \"scheduler_metric\"]),\n",
    "    x=\"T\",\n",
    "    y=\"realized_profit\",\n",
    "    color=\"scheduler_metric\",\n",
    "    # log_x=True,\n",
    "    width=800,\n",
    "    height=600,\n",
    "    # range_y=[0,15_000],\n",
    "    title=\"10 + 20 blocks, privatekube, online. Profits.\",\n",
    "    # title=\"Number of allocated tasks depending on the scheduling step size<br><sup>Online mixed curves, 20 blocks, no initial blocks, 100 tasks per block on average, lifetime = 5 blocks</sup>\"\n",
    ")"
   ]
  },
  {
   "cell_type": "code",
   "execution_count": null,
   "metadata": {},
   "outputs": [],
   "source": [
    "# Online, grid profits, 0.5 mice. L = 10. Different T. Different load: 500 instead of 700. \n",
    "# WARNING: normalize by capacity and not remaining budget!\n",
    "\n",
    "rdf = load_ray_experiment(Path(\"/home/pierre/privacypacking/logs/ray/run_and_report_2021-12-08_20-12-28\"))\n",
    "\n",
    "px.line(\n",
    "    rdf.sort_values([\"T\", \"scheduler_metric\"]),\n",
    "    x=\"T\",\n",
    "    y=\"realized_profit\",\n",
    "    color=\"scheduler_metric\",\n",
    "    # log_x=True,\n",
    "    width=800,\n",
    "    height=600,\n",
    "    # range_y=[0,15_000],\n",
    "    title=\"10 + 20 blocks, privatekube, online. Profits.\",\n",
    "    # title=\"Number of allocated tasks depending on the scheduling step size<br><sup>Online mixed curves, 20 blocks, no initial blocks, 100 tasks per block on average, lifetime = 5 blocks</sup>\"\n",
    ")"
   ]
  },
  {
   "cell_type": "code",
   "execution_count": null,
   "metadata": {},
   "outputs": [],
   "source": [
    "rdf.scheduling_times"
   ]
  },
  {
   "cell_type": "code",
   "execution_count": null,
   "metadata": {},
   "outputs": [],
   "source": [
    "# MASSIVE! Same as above but with normalization by available. And for both 500 and 1000 tasks per block, with more range for T.\n",
    "\n",
    "# TODO: \n",
    "# - [x] high refresh rate for 50. Try 5 and 1. (see below)\n",
    "# - [x] More low T, no need for more than 40. (see high cpu machine)\n",
    "# - [ ] Plot some runtimes\n",
    "# - [ ] The single-block reduction!\n",
    "\n",
    "rdf = load_ray_experiment(Path(\"/home/pierre/privacypacking/logs/ray/run_and_report_2021-12-08_21-38-25\"))\n",
    "\n",
    "px.line(\n",
    "    rdf.sort_values([\"T\", \"scheduler_metric\"]),\n",
    "    x=\"T\",\n",
    "    y=\"realized_profit\",\n",
    "    color=\"scheduler_metric\",\n",
    "    # log_x=True,\n",
    "    width=1600,\n",
    "    height=600,\n",
    "    range_y=[0,1.2e6],\n",
    "    log_x=True,\n",
    "    facet_col=\"mean_task_per_block\",\n",
    "    facet_col_wrap=2,\n",
    "    title=\"10 + 20 blocks, privatekube, online. Profits.\",\n",
    "    # title=\"Number of allocated tasks depending on the scheduling step size<br><sup>Online mixed curves, 20 blocks, no initial blocks, 100 tasks per block on average, lifetime = 5 blocks</sup>\"\n",
    ")"
   ]
  },
  {
   "cell_type": "code",
   "execution_count": null,
   "metadata": {},
   "outputs": [],
   "source": [
    "# rdf.iloc[0].config"
   ]
  },
  {
   "cell_type": "code",
   "execution_count": null,
   "metadata": {},
   "outputs": [],
   "source": [
    "# Different step sizes\n",
    "# - [ ] Try step 10 and 25\n",
    "\n",
    "rdf50 = load_ray_experiment(Path(\"/home/pierre/privacypacking/logs/ray/run_and_report_2021-12-08_21-38-25\")).query(\"T in [1, 20]\")\n",
    "rdf1_5 = load_ray_experiment(Path(\"/home/pierre/privacypacking/logs/ray/run_and_report_2021-12-09_07-24-37\"))\n",
    "rdf = pd.concat([rdf50, rdf1_5])\n",
    "px.line(\n",
    "    rdf.query(\"mean_task_per_block == 500\").sort_values([\"T\", \"scheduler_metric\"]),\n",
    "    x=\"T\",\n",
    "    y=\"realized_profit\",\n",
    "    color=\"scheduler_metric\",\n",
    "    # log_x=True,\n",
    "    width=1600,\n",
    "    height=600,\n",
    "    hover_data=[\"mean_task_per_block\"],\n",
    "    # range_y=[0,15_000],\n",
    "    facet_col=\"metric_recomputation_period\",\n",
    "    facet_col_wrap=2,\n",
    "    title=\"10 + 20 blocks, privatekube, online. Profits.\",\n",
    "    # title=\"Number of allocated tasks depending on the scheduling step size<br><sup>Online mixed curves, 20 blocks, no initial blocks, 100 tasks per block on average, lifetime = 5 blocks</sup>\"\n",
    ")"
   ]
  },
  {
   "cell_type": "code",
   "execution_count": null,
   "metadata": {},
   "outputs": [],
   "source": [
    "# Another CRAZY one. Realistic time frames. . Just plot T.\n",
    "rdf = load_ray_experiment(Path(\"/home/pierre/privacypacking/logs/ray/run_and_report_2021-12-08_21-50-57\"))\n",
    "\n",
    "px.line(\n",
    "    rdf.sort_values([\"T\", \"scheduler_metric\"]),\n",
    "    x=\"T\",\n",
    "    y=\"realized_profit\",\n",
    "    color=\"scheduler_metric\",\n",
    "    # log_x=True,\n",
    "    width=1600,\n",
    "    height=600,\n",
    "    # range_y=[0,15_000],\n",
    "    facet_col=\"mean_task_per_block\",\n",
    "    facet_col_wrap=2,\n",
    "    title=\"10 + 20 blocks, privatekube, online. Profits.\",\n",
    "    # title=\"Number of allocated tasks depending on the scheduling step size<br><sup>Online mixed curves, 20 blocks, no initial blocks, 100 tasks per block on average, lifetime = 5 blocks</sup>\"\n",
    ")"
   ]
  },
  {
   "cell_type": "code",
   "execution_count": null,
   "metadata": {},
   "outputs": [],
   "source": [
    "# Online, grid profits, 0.5 mice. L = 10. Different T. Different load: 500 instead of 700. Warning: normalize by capacity and not remaining budget!\n",
    "\n",
    "rdf = load_ray_experiment(Path(\"/home/pierre/privacypacking/logs/ray/run_and_report_2021-12-08_20-12-28\"))\n",
    "\n",
    "px.line(\n",
    "    rdf.sort_values([\"T\", \"scheduler_metric\"]),\n",
    "    x=\"T\",\n",
    "    y=\"realized_profit\",\n",
    "    color=\"scheduler_metric\",\n",
    "    # log_x=True,\n",
    "    width=800,\n",
    "    height=600,\n",
    "    # range_y=[0,15_000],\n",
    "    title=\"10 + 20 blocks, privatekube, online. Profits.\",\n",
    "    # title=\"Number of allocated tasks depending on the scheduling step size<br><sup>Online mixed curves, 20 blocks, no initial blocks, 100 tasks per block on average, lifetime = 5 blocks</sup>\"\n",
    ")"
   ]
  },
  {
   "cell_type": "code",
   "execution_count": null,
   "metadata": {},
   "outputs": [],
   "source": [
    "print(rdf.normalize_by.unique(), rdf.n_tasks.unique(), rdf.mean_task_per_block.unique())"
   ]
  },
  {
   "cell_type": "code",
   "execution_count": null,
   "metadata": {},
   "outputs": [],
   "source": [
    "# Online, grid profits, 0.5 mice. L = 10. Different T.\n",
    "# WARNING: normalize by capacity and not remaining budget!\n",
    "# Exactly same one, but with a 5-steps refresh (to see if it's better than 50) and more T.\n",
    "# CONCLUSION: significant improvement. Refreshing every 50 steps is too coarse (so the other figures can get even better, if we give them more time).\n",
    "# All the graphs are shifted (excpect FCFS), but DPF benefits less from the shift.\n",
    "# - [x] Any other lifetime that would make sense?\n",
    "# - [x] More blocks, e.g. 50 online blocks?\n",
    "# - [x] Just 500 tasks?\n",
    "rdf = load_ray_experiment(Path(\"/home/pierre/privacypacking/logs/ray/run_and_report_2021-12-08_20-09-52\"))\n",
    "\n",
    "px.line(\n",
    "    rdf.sort_values([\"T\", \"scheduler_metric\"]),\n",
    "    x=\"T\",\n",
    "    y=\"realized_profit\",\n",
    "    color=\"scheduler_metric\",\n",
    "    # log_x=True,\n",
    "    width=800,\n",
    "    height=600,\n",
    "    # range_y=[0,15_000],\n",
    "    title=\"10 + 20 blocks, privatekube, online. Profits.\",\n",
    "    # title=\"Number of allocated tasks depending on the scheduling step size<br><sup>Online mixed curves, 20 blocks, no initial blocks, 100 tasks per block on average, lifetime = 5 blocks</sup>\"\n",
    ")"
   ]
  },
  {
   "cell_type": "code",
   "execution_count": null,
   "metadata": {},
   "outputs": [],
   "source": [
    "# On the fast CPU (rsync'ed)\n",
    "# Some very small T\n",
    "rdf = load_ray_experiment(Path(\"/home/pierre/privacypacking/logs/ray/run_and_report_2021-12-09_14-30-40\"))\n",
    "print(rdf.metric_recomputation_period.unique(), rdf.normalize_by.unique(), rdf.data_path.unique(), rdf.mean_task_per_block.unique())\n",
    "px.line(\n",
    "    rdf.sort_values([\"T\", \"scheduler_metric\"]),\n",
    "    x=\"T\",\n",
    "    y=\"realized_profit\",\n",
    "    color=\"scheduler_metric\",\n",
    "    log_x=True,\n",
    "    width=800,\n",
    "    height=600,\n",
    "    # range_y=[0,15_000],\n",
    "    title=\"10 + 20 blocks, privatekube, online. Profits.\",\n",
    "    # title=\"Number of allocated tasks depending on the scheduling step size<br><sup>Online mixed curves, 20 blocks, no initial blocks, 100 tasks per block on average, lifetime = 5 blocks</sup>\"\n",
    ")"
   ]
  },
  {
   "cell_type": "code",
   "execution_count": null,
   "metadata": {},
   "outputs": [],
   "source": [
    "rdf = load_ray_experiment(Path(\"/home/pierre/privacypacking/logs/ray/run_and_report_2021-12-09_14-30-40\"))\n",
    "rdf.columns"
   ]
  },
  {
   "cell_type": "code",
   "execution_count": null,
   "metadata": {},
   "outputs": [],
   "source": [
    "# On the fast CPU (rsync'ed)\n",
    "# Intermediate metric steps, with and without profits.\n",
    "rdf = load_ray_experiment(Path(\"/home/pierre/privacypacking/logs/ray/run_and_report_2021-12-09_18-13-06\"))\n",
    "# .query(\"'grid' in data_path\")\n",
    "print(rdf.metric_recomputation_period.unique(), rdf.normalize_by.unique(), rdf.data_path.unique(), rdf.mean_task_per_block.unique())\n",
    "# print(\"=1\" in rdf.data_path.iloc[0])\n",
    "fig = px.line(\n",
    "    rdf.sort_values([\"T\", \"scheduler_metric\"]),\n",
    "    x=\"T\",\n",
    "    y=\"realized_profit\",\n",
    "    color=\"scheduler_metric\",\n",
    "    log_x=True,\n",
    "    width=1200,\n",
    "    height=1000,\n",
    "    # range_y=[0,15_000],\n",
    "    title=\"10 + 20 blocks, privatekube, online. With and without profits.\",\n",
    "    facet_col=\"metric_recomputation_period\",\n",
    "    facet_row=\"data_path\",\n",
    "    facet_col_wrap=2,\n",
    ")\n",
    "\n",
    "fig.layout.yaxis2.update(matches=None)\n",
    "fig.layout.yaxis1.update(matches=None)\n",
    "\n",
    "fig.layout.yaxis3.update(matches=None)\n",
    "fig.layout.yaxis4.update(matches=None)\n",
    "    # title=\"Number of allocated tasks depending on the scheduling step size<br><sup>Online mixed curves, 20 blocks, no initial blocks, 100 tasks per block on average, lifetime = 5 blocks</sup>\"\n",
    "\n",
    "fig"
   ]
  },
  {
   "cell_type": "code",
   "execution_count": null,
   "metadata": {},
   "outputs": [],
   "source": [
    "rdf = load_ray_experiment(Path(\"/home/pierre/privacypacking/logs/ray/run_and_report_2021-12-09_18-13-06\"))\n",
    "rdf.columns\n",
    "rdf[\"avg_delay\"] = rdf.allocated_tasks_scheduling_delays.apply(lambda x: np.mean(x))\n",
    "rdf[\"p95\"] = rdf.allocated_tasks_scheduling_delays.apply(lambda x: np.percentile(x, 95))\n",
    "\n",
    "fig = px.line(\n",
    "    rdf.sort_values([\"T\", \"scheduler_metric\"]),\n",
    "    x=\"T\",\n",
    "    y=\"avg_delay\",\n",
    "    color=\"scheduler_metric\",\n",
    "    # log_x=True,\n",
    "    width=1200,\n",
    "    height=1000,\n",
    "    # range_y=[0,15_000],\n",
    "    title=\"10 + 20 blocks, privatekube, online. With and without profits.\",\n",
    "    facet_col=\"metric_recomputation_period\",\n",
    "    facet_row=\"data_path\",\n",
    "    facet_col_wrap=2,\n",
    ")\n",
    "\n",
    "# fig.layout.yaxis2.update(matches=None)\n",
    "# fig.layout.yaxis1.update(matches=None)\n",
    "\n",
    "# fig.layout.yaxis3.update(matches=None)\n",
    "# fig.layout.yaxis4.update(matches=None)\n",
    "    # title=\"Number of allocated tasks depending on the scheduling step size<br><sup>Online mixed curves, 20 blocks, no initial blocks, 100 tasks per block on average, lifetime = 5 blocks</sup>\"\n",
    "\n",
    "fig"
   ]
  },
  {
   "cell_type": "code",
   "execution_count": null,
   "metadata": {},
   "outputs": [],
   "source": [
    "fig = px.line(\n",
    "    rdf.sort_values([\"T\", \"scheduler_metric\"]),\n",
    "    x=\"T\",\n",
    "    y=\"p95\",\n",
    "    color=\"scheduler_metric\",\n",
    "    # log_x=True,\n",
    "    width=1200,\n",
    "    height=1000,\n",
    "    # range_y=[0,15_000],\n",
    "    title=\"10 + 20 blocks, privatekube, online. With and without profits.\",\n",
    "    facet_col=\"metric_recomputation_period\",\n",
    "    facet_row=\"data_path\",\n",
    "    facet_col_wrap=2,\n",
    ")\n",
    "\n",
    "# fig.layout.yaxis2.update(matches=None)\n",
    "# fig.layout.yaxis1.update(matches=None)\n",
    "\n",
    "# fig.layout.yaxis3.update(matches=None)\n",
    "# fig.layout.yaxis4.update(matches=None)\n",
    "    # title=\"Number of allocated tasks depending on the scheduling step size<br><sup>Online mixed curves, 20 blocks, no initial blocks, 100 tasks per block on average, lifetime = 5 blocks</sup>\"\n",
    "\n",
    "fig"
   ]
  },
  {
   "cell_type": "code",
   "execution_count": null,
   "metadata": {},
   "outputs": [],
   "source": []
  },
  {
   "cell_type": "code",
   "execution_count": null,
   "metadata": {},
   "outputs": [],
   "source": []
  },
  {
   "cell_type": "code",
   "execution_count": null,
   "metadata": {},
   "outputs": [],
   "source": [
    "# Obsolete below"
   ]
  },
  {
   "cell_type": "code",
   "execution_count": null,
   "metadata": {},
   "outputs": [],
   "source": [
    "# Tuning\n",
    "rdf = load_ray_experiment(Path(\"/home/pierre/privacypacking/logs/ray/run_and_report_2021-12-07_10-32-11\"))\n",
    "rdf.columns\n",
    "px.line(\n",
    "    rdf.sort_values([\"temperature\", \"metric_recomputation_period\"]),\n",
    "    x=\"temperature\",\n",
    "    y=\"n_allocated_tasks\",\n",
    "    color=\"metric_recomputation_period\",\n",
    "    # log_x=True,\n",
    "    width=800,\n",
    "    height=600,\n",
    "    range_y=[0,1200],\n",
    "    facet_col=\"normalize_by\",\n",
    "    facet_col_wrap=1,\n",
    "    title=\"20 blocks, no profits, mixed curves. Offline. Changing hyperparameters\",\n",
    "    # title=\"Number of allocated tasks depending on the scheduling step size<br><sup>Online mixed curves, 20 blocks, no initial blocks, 100 tasks per block on average, lifetime = 5 blocks</sup>\"\n",
    ")\n"
   ]
  },
  {
   "cell_type": "code",
   "execution_count": null,
   "metadata": {},
   "outputs": [],
   "source": [
    "# Tuning\n",
    "rdf = load_ray_experiment(Path(\"/home/pierre/privacypacking/logs/ray/run_and_report_2021-12-07_14-28-33\"))\n",
    "rdf.columns\n",
    "px.line(\n",
    "    rdf.sort_values([\"temperature\", \"metric_recomputation_period\"]),\n",
    "    x=\"temperature\",\n",
    "    y=\"n_allocated_tasks\",\n",
    "    color=\"metric_recomputation_period\",\n",
    "    # log_x=True,\n",
    "    width=800,\n",
    "    height=600,\n",
    "    range_y=[0,1200],\n",
    "    facet_col=\"normalize_by\",\n",
    "    facet_col_wrap=1,\n",
    "    title=\"20 blocks, no profits, mixed curves. Offline. Changing hyperparameters\",\n",
    "    # title=\"Number of allocated tasks depending on the scheduling step size<br><sup>Online mixed curves, 20 blocks, no initial blocks, 100 tasks per block on average, lifetime = 5 blocks</sup>\"\n",
    ")"
   ]
  },
  {
   "cell_type": "code",
   "execution_count": null,
   "metadata": {},
   "outputs": [],
   "source": [
    "rdf.data_path.unique()"
   ]
  },
  {
   "cell_type": "code",
   "execution_count": null,
   "metadata": {},
   "outputs": [],
   "source": [
    "# Temp tuning with profits\n",
    "# rdf = load_ray_experiment(Path(\"/home/pierre/privacypacking/logs/ray/run_and_report_2021-12-07_14-55-57\"))\n",
    "rdf = load_ray_experiment(Path(\"/home/pierre/privacypacking/logs/ray/run_and_report_2021-12-07_15-04-36\"))\n",
    "\n",
    "px.line(\n",
    "    rdf.sort_values([\"temperature\", \"metric_recomputation_period\"]),\n",
    "    x=\"temperature\",\n",
    "    y=\"realized_profit\",\n",
    "    color=\"metric_recomputation_period\",\n",
    "    # log_x=True,\n",
    "    width=800,\n",
    "    height=600,\n",
    "    range_y=[0,1200],\n",
    "    facet_col=\"normalize_by\",\n",
    "    facet_col_wrap=1,\n",
    "    title=\"20 blocks, with profits, mixed curves. Offline. Changing hyperparameters\",\n",
    "    # title=\"Number of allocated tasks depending on the scheduling step size<br><sup>Online mixed curves, 20 blocks, no initial blocks, 100 tasks per block on average, lifetime = 5 blocks</sup>\"\n",
    ")"
   ]
  },
  {
   "cell_type": "code",
   "execution_count": null,
   "metadata": {},
   "outputs": [],
   "source": [
    "# rdf = load_ray_experiment(Path(\"/home/pierre/privacypacking/logs/ray/run_and_report_2021-12-07_15-08-13\"))\n",
    "\n",
    "rdf = load_ray_experiment(Path(\"/home/pierre/privacypacking/logs/ray/run_and_report_2021-12-07_15-18-48\"))\n",
    "\n",
    "\n",
    "px.line(\n",
    "    rdf.sort_values([\"temperature\", \"metric_recomputation_period\"]),\n",
    "    x=\"temperature\",\n",
    "    y=\"realized_profit\",\n",
    "    log_x=True,\n",
    "    color=\"metric_recomputation_period\",\n",
    "    # log_x=True,\n",
    "    width=800,\n",
    "    height=600,\n",
    "    range_y=[0,1200],\n",
    "    facet_col=\"normalize_by\",\n",
    "    facet_col_wrap=1,\n",
    "    title=\"20 blocks, with profits, mixed curves. Offline. Changing hyperparameters\",\n",
    "    # title=\"Number of allocated tasks depending on the scheduling step size<br><sup>Online mixed curves, 20 blocks, no initial blocks, 100 tasks per block on average, lifetime = 5 blocks</sup>\"\n",
    ")"
   ]
  },
  {
   "cell_type": "code",
   "execution_count": null,
   "metadata": {},
   "outputs": [],
   "source": [
    "rdf = load_ray_experiment(Path(\"/home/pierre/privacypacking/logs/ray/run_and_report_2021-12-07_15-52-12\"))\n",
    "\n",
    "\n",
    "px.line(\n",
    "    rdf.sort_values([\"temperature\", \"metric_recomputation_period\"]),\n",
    "    x=\"temperature\",\n",
    "    y=\"realized_profit\",\n",
    "    log_x=True,\n",
    "    color=\"metric_recomputation_period\",\n",
    "    # log_x=True,\n",
    "    width=800,\n",
    "    height=600,\n",
    "    range_y=[0,1200],\n",
    "    facet_col=\"normalize_by\",\n",
    "    facet_col_wrap=1,\n",
    "    title=\"20 blocks, with profits, mixed curves. Offline.  Poly ratio. Changing hyperparameters\",\n",
    "    # title=\"Number of allocated tasks depending on the scheduling step size<br><sup>Online mixed curves, 20 blocks, no initial blocks, 100 tasks per block on average, lifetime = 5 blocks</sup>\"\n",
    ")"
   ]
  },
  {
   "cell_type": "code",
   "execution_count": null,
   "metadata": {},
   "outputs": [],
   "source": [
    "\n",
    "rdf = load_ray_experiment(Path(\"/home/pierre/privacypacking/logs/ray/run_and_report_2021-12-07_18-34-39\"))\n",
    "\n",
    "\n",
    "px.line(\n",
    "    rdf.sort_values([\"temperature\", \"metric_recomputation_period\"]),\n",
    "    x=\"temperature\",\n",
    "    y=\"realized_profit\",\n",
    "    log_x=True,\n",
    "    color=\"metric_recomputation_period\",\n",
    "    # log_x=True,\n",
    "    width=800,\n",
    "    height=600,\n",
    "    range_y=[0,1200],\n",
    "    facet_col=\"normalize_by\",\n",
    "    facet_col_wrap=1,\n",
    "    title=\"20 blocks, with profits, mixed curves. Offline. Softmax with subtracting the max.\",\n",
    "    # title=\"Number of allocated tasks depending on the scheduling step size<br><sup>Online mixed curves, 20 blocks, no initial blocks, 100 tasks per block on average, lifetime = 5 blocks</sup>\"\n",
    ")"
   ]
  },
  {
   "cell_type": "code",
   "execution_count": null,
   "metadata": {},
   "outputs": [],
   "source": [
    "rdf = load_ray_experiment(Path(\"/home/pierre/privacypacking/logs/ray/run_and_report_2021-12-07_19-32-46\"))\n",
    "\n",
    "\n",
    "px.line(\n",
    "    rdf.sort_values([\"temperature\", \"metric_recomputation_period\"]),\n",
    "    x=\"temperature\",\n",
    "    y=\"n_allocated_tasks\",\n",
    "    log_x=True,\n",
    "    color=\"metric_recomputation_period\",\n",
    "    # log_x=True,\n",
    "    width=800,\n",
    "    height=600,\n",
    "    range_y=[0,1200],\n",
    "    facet_col=\"normalize_by\",\n",
    "    facet_col_wrap=1,\n",
    "    title=\"20 blocks, no profits, mixed curves. Offline. Softmax with subtracting the max.\",\n",
    "    # title=\"Number of allocated tasks depending on the scheduling step size<br><sup>Online mixed curves, 20 blocks, no initial blocks, 100 tasks per block on average, lifetime = 5 blocks</sup>\"\n",
    ")"
   ]
  },
  {
   "cell_type": "code",
   "execution_count": null,
   "metadata": {},
   "outputs": [],
   "source": [
    "rdf = load_ray_experiment(Path(\"/home/pierre/privacypacking/logs/ray/run_and_report_2021-12-07_20-34-49\"))\n",
    "\n",
    "\n",
    "px.line(\n",
    "    rdf.sort_values([\"temperature\", \"metric_recomputation_period\"]),\n",
    "    x=\"temperature\",\n",
    "    y=\"n_allocated_tasks\",\n",
    "    log_x=True,\n",
    "    color=\"metric_recomputation_period\",\n",
    "    # log_x=True,\n",
    "    width=800,\n",
    "    height=600,\n",
    "    range_y=[0,1200],\n",
    "    facet_col=\"normalize_by\",\n",
    "    facet_col_wrap=1,\n",
    "    title=\"20 blocks, no profits, mixed curves. Offline. Softmax with subtracting the max.\",\n",
    "    # title=\"Number of allocated tasks depending on the scheduling step size<br><sup>Online mixed curves, 20 blocks, no initial blocks, 100 tasks per block on average, lifetime = 5 blocks</sup>\"\n",
    ")"
   ]
  },
  {
   "cell_type": "code",
   "execution_count": null,
   "metadata": {},
   "outputs": [],
   "source": [
    "# On privatekube now!!\n",
    "\n",
    "\n",
    "rdf = load_ray_experiment(Path(\"/home/pierre/privacypacking/logs/ray/run_and_report_2021-12-07_21-29-50\"))\n",
    "rdf = pd.concat([rdf, load_ray_experiment(Path(\"/home/pierre/privacypacking/logs/ray/run_and_report_2021-12-07_21-42-40\"))])\n",
    "px.bar(\n",
    "    rdf.sort_values([\"T\", \"scheduler_metric\"]),\n",
    "    # x=\"T\",\n",
    "    x=\"scheduler_metric\",    \n",
    "    y=\"realized_profit\",\n",
    "    # color=\"scheduler_metric\",\n",
    "    # log_x=True,\n",
    "    width=1000,\n",
    "    height=600,\n",
    "    range_y=[0,6_000],\n",
    "    title=\"10 initial blocks + 20 online blocks, with profits, PrivateKube. Unlocking with lifetime 10. Temperature = 1\",\n",
    "    # title=\"Number of allocated tasks depending on the scheduling step size<br><sup>Online mixed curves, 20 blocks, no initial blocks, 100 tasks per block on average, lifetime = 5 blocks</sup>\"\n",
    ")\n"
   ]
  },
  {
   "cell_type": "code",
   "execution_count": null,
   "metadata": {},
   "outputs": [],
   "source": [
    "rdf = load_ray_experiment(Path(\"run_and_report_2022-03-27_19-45-38\"))\n",
    "# rdf = pd.concat([rdf, load_ray_experiment(Path(\"/home/pierre/privacypacking/logs/ray/run_and_report_2021-12-07_21-43-03\"))])\n",
    "rdf\n",
    "# px.bar(\n",
    "#     rdf.sort_values([\"T\", \"scheduler_metric\"]),\n",
    "#     x=\"scheduler_metric\",\n",
    "#     y=\"n_allocated_tasks\",\n",
    "#     # log_x=True,\n",
    "#     width=1000,\n",
    "#     height=600,\n",
    "#     range_y=[0,10_000],\n",
    "#     title=\"10 initial blocks + 20 online blocks, NO profits, PrivateKube. Unlocking with lifetime 10. Temperature = 1\",\n",
    "#     # title=\"Number of allocated tasks depending on the scheduling step size<br><sup>Online mixed curves, 20 blocks, no initial blocks, 100 tasks per block on average, lifetime = 5 blocks</sup>\"\n",
    "# )"
   ]
  }
 ],
 "metadata": {
  "interpreter": {
   "hash": "8eab72c90ef7b6cf7a47cf9058599fe69878ae5c291bf7d8c10fb9498bc1b89e"
  },
  "kernelspec": {
   "display_name": "Python 3",
   "language": "python",
   "name": "python3"
  },
  "language_info": {
   "codemirror_mode": {
    "name": "ipython",
    "version": 3
   },
   "file_extension": ".py",
   "mimetype": "text/x-python",
   "name": "python",
   "nbconvert_exporter": "python",
   "pygments_lexer": "ipython3"
  }
 },
 "nbformat": 4,
 "nbformat_minor": 2
}
