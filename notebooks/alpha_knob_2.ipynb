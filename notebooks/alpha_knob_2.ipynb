{
 "cells": [
  {
   "cell_type": "code",
   "execution_count": null,
   "metadata": {},
   "outputs": [],
   "source": [
    "%load_ext autoreload \n",
    "%autoreload 2"
   ]
  },
  {
   "cell_type": "code",
   "execution_count": null,
   "metadata": {},
   "outputs": [],
   "source": [
    "import json\n",
    "from privacypacking.utils.utils import load_logs\n",
    "import pandas as pd\n",
    "from experiments.ray.analysis import load_tasks, load_ray_experiment, load_latest_ray_experiment, load_latest_scheduling_results, load_latest_scheduling_results, load_latest_ray_experiment, load_scheduling_queue\n",
    "import plotly.express as px\n",
    "from privacypacking.budget.curves import  LaplaceCurve, GaussianCurve, SubsampledGaussianCurve, SyntheticPolynomialCurve\n",
    "from privacypacking.budget import Budget, Task, Block\n",
    "from privacypacking.schedulers.metrics import OverflowRelevance, FlatRelevance\n",
    "from privacypacking.budget.block_selection import RandomBlocks\n",
    "from privacypacking.utils.plot import plot_budgets\n",
    "import yaml\n",
    "from pathlib import Path\n",
    "import plotly.graph_objects as go\n",
    "from plotly.subplots import make_subplots\n",
    "import numpy as np\n",
    "\n",
    "from omegaconf import OmegaConf\n",
    "from pathlib import Path\n",
    "from collections import defaultdict"
   ]
  },
  {
   "cell_type": "code",
   "execution_count": null,
   "metadata": {},
   "outputs": [],
   "source": [
    "from privacypacking.budget import ALPHAS"
   ]
  },
  {
   "cell_type": "code",
   "execution_count": null,
   "metadata": {},
   "outputs": [],
   "source": [
    "block = Budget.from_epsilon_delta(epsilon=10, delta=1e-8)"
   ]
  },
  {
   "cell_type": "code",
   "execution_count": null,
   "metadata": {},
   "outputs": [],
   "source": [
    "block.epsilon(ALPHAS[4])"
   ]
  },
  {
   "cell_type": "code",
   "execution_count": null,
   "metadata": {},
   "outputs": [],
   "source": [
    "s = SyntheticPolynomialCurve(\n",
    "                                best_alpha=6,\n",
    "                                epsilon_min=0.1\n",
    "                                * block.epsilon(6),\n",
    "                                epsilon_left=1\n",
    "                                * block.epsilon(ALPHAS[4]),\n",
    "                                epsilon_right=1\n",
    "                                * block.epsilon(ALPHAS[-1]),\n",
    "                            )"
   ]
  },
  {
   "cell_type": "code",
   "execution_count": null,
   "metadata": {},
   "outputs": [],
   "source": [
    "s"
   ]
  },
  {
   "cell_type": "code",
   "execution_count": null,
   "metadata": {},
   "outputs": [],
   "source": [
    "from privacypacking.utils.zoo import zoo_df, build_zoo, build_synthetic_zoo"
   ]
  },
  {
   "cell_type": "code",
   "execution_count": null,
   "metadata": {},
   "outputs": [],
   "source": [
    "names_and_curves = build_synthetic_zoo()\n",
    "alphas_df, tasks_df = zoo_df(names_and_curves)"
   ]
  },
  {
   "cell_type": "code",
   "execution_count": null,
   "metadata": {},
   "outputs": [],
   "source": [
    "names_and_curves[0]"
   ]
  },
  {
   "cell_type": "code",
   "execution_count": null,
   "metadata": {},
   "outputs": [],
   "source": [
    "from scipy.interpolate import interp1d"
   ]
  },
  {
   "cell_type": "code",
   "execution_count": null,
   "metadata": {},
   "outputs": [],
   "source": [
    "x = np.array([ALPHAS[4], ALPHAS[6], ALPHAS[-1]])\n",
    "f = interp1d(x=x, y=[0.5, 0.1, 1.0], kind='slinear')\n",
    "px.line(\n",
    "    x=x,\n",
    "    y=f(x)\n",
    " )"
   ]
  },
  {
   "cell_type": "code",
   "execution_count": null,
   "metadata": {},
   "outputs": [],
   "source": [
    "alphas_df.head()"
   ]
  },
  {
   "cell_type": "code",
   "execution_count": null,
   "metadata": {},
   "outputs": [],
   "source": [
    "indx = alphas_df.groupby('task_id')['normalized_epsilons'].idxmin()\n",
    "best_alpha = alphas_df.loc[indx][[\"task_id\",\"alphas\"]]\n",
    "best_alpha = best_alpha.rename(columns={\"alphas\":\"best_alpha\"})\n",
    "best_alpha"
   ]
  },
  {
   "cell_type": "code",
   "execution_count": null,
   "metadata": {},
   "outputs": [],
   "source": [
    "alphas_df = alphas_df.merge(best_alpha, how=\"outer\", on=\"task_id\")"
   ]
  },
  {
   "cell_type": "code",
   "execution_count": null,
   "metadata": {},
   "outputs": [],
   "source": [
    "alphas_df.head(2)"
   ]
  },
  {
   "cell_type": "code",
   "execution_count": null,
   "metadata": {},
   "outputs": [],
   "source": [
    "px.line(\n",
    "    # alphas_df.sort_values(\"alphas\").query(\"best_alpha_x == 6 and epsilon_min == 0.01\"),\n",
    "    # alphas_df.sort_values(\"alphas\").query(\"best_alpha_x == 6\"),\n",
    "    alphas_df.sort_values(\"alphas\"),\n",
    "    x=\"alphas\",\n",
    "    y=\"normalized_epsilons\",\n",
    "    color=\"task_name\",\n",
    "    log_y=True,\n",
    "    log_x=True,\n",
    ")"
   ]
  },
  {
   "cell_type": "code",
   "execution_count": null,
   "metadata": {},
   "outputs": [],
   "source": [
    "indx = alphas_df.groupby('task_id')['normalized_epsilons'].idxmin()\n",
    "best_alpha = alphas_df.loc[indx]\n",
    "px.scatter(\n",
    "    best_alpha,\n",
    "    x=\"alphas\",\n",
    "    y=\"normalized_epsilons\",\n",
    "    color=\"task_id\",\n",
    "    log_y=True,\n",
    "    log_x=True,\n",
    "    title=\"Epsilon for the best alpha of each task\",\n",
    ")"
   ]
  },
  {
   "cell_type": "markdown",
   "metadata": {},
   "source": [
    "Let's see what curves are allocated by different schedulers"
   ]
  },
  {
   "cell_type": "code",
   "execution_count": null,
   "metadata": {},
   "outputs": [],
   "source": [
    "# \n",
    "df = load_ray_experiment(Path(\"/home/pierre/privacypacking/logs/ray/run_and_report_2022-04-07_09-58-57\"))\n",
    "# df = load_latest_ray_experiment(\"/home/pierre/privacypacking/logs/ray/run_and_report_2022-04-07_10-07-26\")\n",
    "def get_alpha_std(path):\n",
    "    _, d = path.split(\"-\")\n",
    "    p = float(d.replace(\".yaml\", \"\"))\n",
    "    return p\n",
    "df[\"alpha_std\"] = df[\"task_frequencies_path\"].apply(get_alpha_std)"
   ]
  },
  {
   "cell_type": "code",
   "execution_count": null,
   "metadata": {},
   "outputs": [],
   "source": [
    "df"
   ]
  },
  {
   "cell_type": "code",
   "execution_count": null,
   "metadata": {},
   "outputs": [],
   "source": [
    "fig = px.line(\n",
    "    # rdf.query(\"data_lifetime == 50 and max_blocks == 400\").sort_values(\"T\"),\n",
    "    df.sort_values([\"total_tasks\", \"alpha_std\"]),\n",
    "    x=\"alpha_std\",\n",
    "    y=\"n_allocated_tasks\",\n",
    "    color=\"scheduler_metric\",\n",
    "    # log_x=True,\n",
    "    width=800,\n",
    "    height=600,\n",
    "    markers=True,\n",
    "    # facet_col=\"data_lifetime\",\n",
    "    facet_row=\"total_tasks\",\n",
    ")\n",
    "fig.update_yaxes(rangemode=\"tozero\")\n",
    "fig"
   ]
  },
  {
   "cell_type": "code",
   "execution_count": null,
   "metadata": {},
   "outputs": [],
   "source": [
    "fig = px.line(\n",
    "    # rdf.query(\"data_lifetime == 50 and max_blocks == 400\").sort_values(\"T\"),\n",
    "    df.sort_values([\"total_tasks\", \"alpha_std\"]),\n",
    "    x=\"alpha_std\",\n",
    "    y=\"n_allocated_tasks\",\n",
    "    color=\"scheduler_metric\",\n",
    "    # log_x=True,\n",
    "    width=800,\n",
    "    height=600,\n",
    "    markers=True,\n",
    "    # facet_col=\"data_lifetime\",\n",
    "    facet_row=\"total_tasks\",\n",
    ")\n",
    "fig.update_yaxes(rangemode=\"tozero\")\n",
    "fig"
   ]
  },
  {
   "cell_type": "code",
   "execution_count": null,
   "metadata": {},
   "outputs": [],
   "source": [
    "# df = load_latest_scheduling_results(expname=\"ray/run_and_report_2022-04-05_22-11-57\")\n",
    "# TODO: custom load from Zoo"
   ]
  },
  {
   "cell_type": "code",
   "execution_count": null,
   "metadata": {},
   "outputs": [],
   "source": [
    "df.columns"
   ]
  }
 ],
 "metadata": {
  "interpreter": {
   "hash": "8eab72c90ef7b6cf7a47cf9058599fe69878ae5c291bf7d8c10fb9498bc1b89e"
  },
  "kernelspec": {
   "display_name": "Python 3.8.5 ('privacypacking-DDudTmDF-py3.8')",
   "language": "python",
   "name": "python3"
  },
  "language_info": {
   "codemirror_mode": {
    "name": "ipython",
    "version": 3
   },
   "file_extension": ".py",
   "mimetype": "text/x-python",
   "name": "python",
   "nbconvert_exporter": "python",
   "pygments_lexer": "ipython3"
  }
 },
 "nbformat": 4,
 "nbformat_minor": 2
}
