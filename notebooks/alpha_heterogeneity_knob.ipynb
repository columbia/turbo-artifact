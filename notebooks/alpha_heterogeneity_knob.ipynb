{
 "cells": [
  {
   "cell_type": "code",
   "execution_count": null,
   "metadata": {},
   "outputs": [],
   "source": [
    "%load_ext autoreload \n",
    "%autoreload 2"
   ]
  },
  {
   "cell_type": "code",
   "execution_count": null,
   "metadata": {},
   "outputs": [],
   "source": [
    "import json\n",
    "from privacypacking.utils.utils import load_logs, global_metrics\n",
    "import pandas as pd\n",
    "from experiments.ray.analysis import load_tasks, load_ray_experiment, load_latest_ray_experiment, load_latest_scheduling_results, load_latest_scheduling_results, load_latest_ray_experiment, load_scheduling_queue\n",
    "import plotly.express as px\n",
    "from privacypacking.budget.curves import  LaplaceCurve, GaussianCurve, SubsampledGaussianCurve\n",
    "from privacypacking.budget import Budget, Task, Block\n",
    "from privacypacking.schedulers.metrics import OverflowRelevance, FlatRelevance\n",
    "from privacypacking.budget.block_selection import RandomBlocks\n",
    "from privacypacking.utils.plot import plot_budgets\n",
    "import yaml\n",
    "from pathlib import Path\n",
    "import plotly.graph_objects as go\n",
    "from plotly.subplots import make_subplots\n",
    "import numpy as np"
   ]
  },
  {
   "cell_type": "code",
   "execution_count": null,
   "metadata": {},
   "outputs": [],
   "source": [
    "from omegaconf import OmegaConf\n",
    "from pathlib import Path\n",
    "from collections import defaultdict"
   ]
  },
  {
   "cell_type": "code",
   "execution_count": null,
   "metadata": {},
   "outputs": [],
   "source": [
    "block = Budget.from_epsilon_delta(epsilon=10, delta=1e-5)"
   ]
  },
  {
   "cell_type": "code",
   "execution_count": null,
   "metadata": {},
   "outputs": [],
   "source": [
    "block"
   ]
  },
  {
   "cell_type": "code",
   "execution_count": null,
   "metadata": {},
   "outputs": [],
   "source": [
    "def load_task_dir(path: str) -> pd.DataFrame:\n",
    "    dict_list = defaultdict(list)\n",
    "    for curve_file in Path(path).glob(\"*.yaml\"):\n",
    "        d = OmegaConf.load(curve_file)\n",
    "        for alpha, epsilon in zip(d[\"alphas\"], d[\"rdp_epsilons\"]):\n",
    "            if block.epsilon(alpha) > 0:\n",
    "                dict_list[\"alphas\"].append(alpha)\n",
    "                dict_list[\"rdp_epsilons\"].append(epsilon)\n",
    "                dict_list[\"normalized_epsilons\"].append(epsilon / block.epsilon(alpha))\n",
    "                dict_list[\"task\"].append(curve_file.name)\n",
    "    return pd.DataFrame(dict_list)"
   ]
  },
  {
   "cell_type": "code",
   "execution_count": null,
   "metadata": {},
   "outputs": [],
   "source": [
    "def sigma_range() -> pd.DataFrame:\n",
    "    dict_list = defaultdict(list)\n",
    "    for sigma in np.linspace(0.000001, 10, 30):\n",
    "        gaussian = GaussianCurve(sigma=sigma)\n",
    "        # d = OmegaConf.load(curve_file)\n",
    "        for alpha, epsilon in zip(gaussian.alphas, gaussian.epsilons):\n",
    "            if block.epsilon(alpha) > 0:\n",
    "                dict_list[\"alphas\"].append(alpha)\n",
    "                dict_list[\"rdp_epsilons\"].append(epsilon)\n",
    "                dict_list[\"normalized_epsilons\"].append(epsilon / block.epsilon(alpha))\n",
    "                dict_list[\"task\"].append(sigma)\n",
    "    return pd.DataFrame(dict_list)"
   ]
  },
  {
   "cell_type": "code",
   "execution_count": null,
   "metadata": {},
   "outputs": [],
   "source": [
    "# df = load_task_dir(\"/home/pierre/privacypacking/data/mixed_curves/tasks\")\n",
    "# df = load_task_dir(\"/home/pierre/privacypacking/data/privatekube_event_g0.0_l0.5_p=grid/tasks\")\n",
    "df = sigma_range()"
   ]
  },
  {
   "cell_type": "code",
   "execution_count": null,
   "metadata": {},
   "outputs": [],
   "source": [
    "# df.groupby(\"task\").agg({\"normalized_epsilons\": \"min\", \"alphas\": \"first\"})\n",
    "indx = df.groupby('task')['normalized_epsilons'].idxmin()\n",
    "best_alpha = df.loc[indx]"
   ]
  },
  {
   "cell_type": "code",
   "execution_count": null,
   "metadata": {},
   "outputs": [],
   "source": [
    "px.line(\n",
    "    df,\n",
    "    x=\"alphas\",\n",
    "    y=\"normalized_epsilons\",\n",
    "    color=\"task\",\n",
    "    log_y=True,\n",
    "    log_x=True,\n",
    ")"
   ]
  },
  {
   "cell_type": "code",
   "execution_count": null,
   "metadata": {},
   "outputs": [],
   "source": [
    "px.scatter(\n",
    "    best_alpha,\n",
    "    x=\"alphas\",\n",
    "    y=\"normalized_epsilons\",\n",
    "    color=\"task\",\n",
    "    log_y=True,\n",
    "    log_x=True,\n",
    "    title=\"Epsilon for the best alpha of each task\",\n",
    ")"
   ]
  },
  {
   "cell_type": "code",
   "execution_count": null,
   "metadata": {},
   "outputs": [],
   "source": []
  }
 ],
 "metadata": {
  "interpreter": {
   "hash": "eb9f88a12e8f66ffa940aa96de4342344a602b0c71bf9fbb297683183e48a1a1"
  },
  "kernelspec": {
   "display_name": "Python 3.8.5 ('base')",
   "language": "python",
   "name": "python3"
  },
  "language_info": {
   "codemirror_mode": {
    "name": "ipython",
    "version": 3
   },
   "file_extension": ".py",
   "mimetype": "text/x-python",
   "name": "python",
   "nbconvert_exporter": "python",
   "pygments_lexer": "ipython3"
  }
 },
 "nbformat": 4,
 "nbformat_minor": 2
}
