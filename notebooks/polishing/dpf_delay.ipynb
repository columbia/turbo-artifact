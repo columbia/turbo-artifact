{
 "cells": [
  {
   "cell_type": "code",
   "execution_count": null,
   "metadata": {},
   "outputs": [],
   "source": [
    "import json\n",
    "from privacypacking.utils.utils import load_logs, global_metrics\n",
    "import pandas as pd\n",
    "from experiments.ray.analysis import load_ray_experiment, load_latest_ray_experiment, load_latest_scheduling_results, load_latest_scheduling_results, load_latest_ray_experiment\n",
    "import plotly.express as px\n",
    "from privacypacking.budget.curves import  LaplaceCurve, GaussianCurve, SubsampledGaussianCurve\n",
    "from privacypacking.budget import Budget, Task, Block\n",
    "from privacypacking.schedulers.metrics import OverflowRelevance, FlatRelevance\n",
    "from privacypacking.budget.block_selection import RandomBlocks\n",
    "from privacypacking.utils.plot import plot_budgets\n",
    "import yaml\n",
    "from pathlib import Path\n",
    "import plotly.graph_objects as go\n",
    "from plotly.subplots import make_subplots\n",
    "import numpy as np\n",
    "from experiments.ray.analysis import get_percentiles"
   ]
  },
  {
   "cell_type": "code",
   "execution_count": null,
   "metadata": {},
   "outputs": [],
   "source": [
    "rdf = load_ray_experiment(Path(\"/home/pierre/privacypacking/logs/ray/run_and_report_2022-02-01_15-06-22\"))"
   ]
  },
  {
   "cell_type": "code",
   "execution_count": null,
   "metadata": {},
   "outputs": [],
   "source": [
    "rdf.columns"
   ]
  },
  {
   "cell_type": "code",
   "execution_count": null,
   "metadata": {},
   "outputs": [],
   "source": [
    "# Question: why does DPF have higher scheduling delay?"
   ]
  },
  {
   "cell_type": "code",
   "execution_count": null,
   "metadata": {},
   "outputs": [],
   "source": [
    "rdf[\"avg_delay\"] = rdf.allocated_tasks_scheduling_delays.apply(lambda x: np.mean(x))\n",
    "rdf[\"p95\"] = rdf.allocated_tasks_scheduling_delays.apply(lambda x: np.percentile(x, 95))\n",
    "rdf[\"p50\"] = rdf.allocated_tasks_scheduling_delays.apply(lambda x: np.percentile(x, 50))\n",
    "\n",
    "fig = px.line(\n",
    "    rdf.sort_values([\"T\", \"scheduler_metric\"]),\n",
    "    x=\"T\",\n",
    "    y=\"p50\",\n",
    "    color=\"scheduler_metric\",\n",
    "    # log_x=True,\n",
    "    # width=1200,\n",
    "    # height=1000,\n",
    "    # range_y=[0,15_000],\n",
    "    range_x=[0,10],\n",
    "    # title=\"10 + 20 blocks, privatekube, online. With and without profits.\",\n",
    "    facet_col=\"metric_recomputation_period\",\n",
    "    facet_row=\"data_path\",\n",
    "    facet_col_wrap=2,\n",
    ")\n",
    "fig"
   ]
  },
  {
   "cell_type": "code",
   "execution_count": null,
   "metadata": {},
   "outputs": [],
   "source": [
    "fig = px.line(\n",
    "    rdf.sort_values([\"T\", \"scheduler_metric\"]),\n",
    "    x=\"T\",\n",
    "    y=\"avg_delay\",\n",
    "    color=\"scheduler_metric\",\n",
    "    # log_x=True,\n",
    "    # width=1200,\n",
    "    # height=1000,\n",
    "    # range_y=[0,15_000],\n",
    "    range_x=[0,10],\n",
    "    # title=\"10 + 20 blocks, privatekube, online. With and without profits.\",\n",
    "    facet_col=\"metric_recomputation_period\",\n",
    "    facet_row=\"data_path\",\n",
    "    facet_col_wrap=2,\n",
    ")\n",
    "fig"
   ]
  }
 ],
 "metadata": {
  "interpreter": {
   "hash": "8eab72c90ef7b6cf7a47cf9058599fe69878ae5c291bf7d8c10fb9498bc1b89e"
  },
  "kernelspec": {
   "display_name": "Python 3.8.5 64-bit ('privacypacking-DDudTmDF-py3.8': poetry)",
   "language": "python",
   "name": "python3"
  },
  "language_info": {
   "codemirror_mode": {
    "name": "ipython",
    "version": 3
   },
   "file_extension": ".py",
   "mimetype": "text/x-python",
   "name": "python",
   "nbconvert_exporter": "python",
   "pygments_lexer": "ipython3"
  }
 },
 "nbformat": 4,
 "nbformat_minor": 2
}
