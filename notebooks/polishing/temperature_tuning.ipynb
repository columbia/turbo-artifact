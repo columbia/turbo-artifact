{
 "cells": [
  {
   "cell_type": "code",
   "execution_count": null,
   "metadata": {},
   "outputs": [],
   "source": [
    "%load_ext autoreload \n",
    "%autoreload 2"
   ]
  },
  {
   "cell_type": "code",
   "execution_count": null,
   "metadata": {},
   "outputs": [],
   "source": [
    "\n",
    "\n",
    "import pandas as pd\n",
    "import numpy as np\n",
    "from privacypacking.utils.utils import LOGS_PATH\n",
    "from experiments.ray.analysis import load_ray_experiment,load_latest_scheduling_results\n",
    "import plotly.express as px\n",
    "import warnings\n",
    "warnings.filterwarnings('ignore')\n",
    "import copy\n",
    "\n",
    "from collections import defaultdict"
   ]
  },
  {
   "cell_type": "code",
   "execution_count": null,
   "metadata": {},
   "outputs": [],
   "source": [
    "logs = LOGS_PATH.joinpath(\"ray/run_and_report_2022-02-16_14-34-27\")\n",
    "df = load_ray_experiment(logs)\n",
    "# df[\"alpha\"] = df.config.apply(lambda x: x[\"omegaconf\"][\"alphas\"][0])"
   ]
  },
  {
   "cell_type": "code",
   "execution_count": null,
   "metadata": {},
   "outputs": [],
   "source": [
    "px.bar(\n",
    "    df,\n",
    "    x=\"scheduler_metric\",\n",
    "    y=\"realized_profit\",\n",
    "    title=\"Profit<br> Offline multiblock, PrivateKube\",\n",
    "    width=800,\n",
    ")"
   ]
  },
  {
   "cell_type": "code",
   "execution_count": null,
   "metadata": {},
   "outputs": [],
   "source": [
    "logs = LOGS_PATH.joinpath(\"ray/run_and_report_2022-02-16_14-39-10\")\n",
    "df = load_ray_experiment(logs)"
   ]
  },
  {
   "cell_type": "code",
   "execution_count": null,
   "metadata": {},
   "outputs": [],
   "source": [
    "df.temperature"
   ]
  },
  {
   "cell_type": "code",
   "execution_count": null,
   "metadata": {},
   "outputs": [],
   "source": [
    "px.line(\n",
    "    df.sort_values(\"temperature\"),\n",
    "    x=\"temperature\",\n",
    "    y=\"realized_profit\",\n",
    "    title=\"Profit<br> Offline multiblock, PrivateKube\",\n",
    "    log_x=True,\n",
    "    width=800,\n",
    ")"
   ]
  },
  {
   "cell_type": "code",
   "execution_count": null,
   "metadata": {},
   "outputs": [],
   "source": [
    "logs = LOGS_PATH.joinpath(\"ray/run_and_report_2022-02-16_14-47-53\")\n",
    "df = load_ray_experiment(logs)\n",
    "px.line(\n",
    "    df.sort_values(\"temperature\"),\n",
    "    x=\"temperature\",\n",
    "    y=\"realized_profit\",\n",
    "    title=\"Profit<br> Offline multiblock, PrivateKube\",\n",
    "    log_x=True,\n",
    "    width=800,\n",
    ")"
   ]
  },
  {
   "cell_type": "code",
   "execution_count": null,
   "metadata": {},
   "outputs": [],
   "source": [
    "logs = LOGS_PATH.joinpath(\"ray/run_and_report_2022-02-16_19-08-49\")\n",
    "df = load_ray_experiment(logs)\n",
    "px.line(\n",
    "    df.sort_values(\"temperature\"),\n",
    "    x=\"temperature\",\n",
    "    y=\"realized_profit\",\n",
    "    title=\"Profit<br> Offline multiblock, PrivateKube\",\n",
    "    log_x=True,\n",
    "    width=800,\n",
    ")"
   ]
  },
  {
   "cell_type": "code",
   "execution_count": null,
   "metadata": {},
   "outputs": [],
   "source": [
    "logs = LOGS_PATH.joinpath(\"ray/run_and_report_2022-02-18_18-47-28\")\n",
    "df = load_ray_experiment(logs)\n",
    "px.line(\n",
    "    df.sort_values(\"temperature\"),\n",
    "    x=\"temperature\",\n",
    "    y=\"realized_profit\",\n",
    "    title=\"Profit<br> Online multiblock, PrivateKube. Softmax with numerical error.\",\n",
    "    log_x=True,\n",
    "    # width=800,\n",
    ")"
   ]
  },
  {
   "cell_type": "code",
   "execution_count": null,
   "metadata": {},
   "outputs": [],
   "source": [
    "logs = LOGS_PATH.joinpath(\"ray/run_and_report_2022-02-18_17-13-10\")\n",
    "df = load_ray_experiment(logs)\n",
    "px.line(\n",
    "    df.sort_values(\"temperature\"),\n",
    "    x=\"temperature\",\n",
    "    y=\"realized_profit\",\n",
    "    title=\"Profit<br> Online multiblock, PrivateKube. Correct softmax.\",\n",
    "    log_x=True,\n",
    "    range_y=[0.95e6,1e6]\n",
    "    # width=800,\n",
    ")"
   ]
  },
  {
   "cell_type": "code",
   "execution_count": null,
   "metadata": {},
   "outputs": [],
   "source": [
    "logs = LOGS_PATH.joinpath(\"ray/run_and_report_2022-02-23_20-44-27\")\n",
    "df = load_ray_experiment(logs)\n",
    "px.line(\n",
    "    df.sort_values(\"temperature\"),\n",
    "    x=\"temperature\",\n",
    "    y=\"realized_profit\",\n",
    "    title=\"Profit<br> Online multiblock, PrivateKube. Correct softmax, more datapoints.\",\n",
    "    log_x=True,\n",
    "    range_y=[0.95e6,1e6]\n",
    "    # width=800,\n",
    ")"
   ]
  },
  {
   "cell_type": "code",
   "execution_count": null,
   "metadata": {},
   "outputs": [],
   "source": [
    "from pathlib import Path\n",
    "import torch"
   ]
  },
  {
   "cell_type": "code",
   "execution_count": null,
   "metadata": {},
   "outputs": [],
   "source": [
    "npy_log_dir = Path(\"/home/pierre/privacypacking/logs/ray/run_and_report_2022-02-23_20-23-47/run_and_report_69e4a_00000_0_initial_num=10,max_blocks=30,global_seed=1,clip_demands_in_relevance=True,normalize_by=available_budg_2022-02-23_20-23-47\")\n",
    "efficiencies_per_block_alpha = torch.load(npy_log_dir.joinpath(\"efficiencies_per_block_alpha.pt\"))\n",
    "max_profits = np.load(npy_log_dir.joinpath(\"max_profits.npy\"), allow_pickle=True)\n",
    "min_profit_per_block = np.load(npy_log_dir.joinpath(\"min_profit_per_block.npy\"), allow_pickle=True)"
   ]
  },
  {
   "cell_type": "code",
   "execution_count": null,
   "metadata": {},
   "outputs": [],
   "source": [
    "efficiencies_per_block_alpha"
   ]
  },
  {
   "cell_type": "code",
   "execution_count": null,
   "metadata": {},
   "outputs": [],
   "source": [
    "max_profits"
   ]
  },
  {
   "cell_type": "code",
   "execution_count": null,
   "metadata": {},
   "outputs": [],
   "source": [
    "min_profit_per_block"
   ]
  },
  {
   "cell_type": "code",
   "execution_count": null,
   "metadata": {},
   "outputs": [],
   "source": [
    "def compute_theta_upper_bound(efficiencies_per_block_alpha, max_profits, min_profit_per_block, block_id=6):\n",
    "    best_alpha =  np.argmax(max_profits[block_id])\n",
    "    \n",
    "    best_profit = max_profits[block_id][best_alpha]\n",
    "    \n",
    "    # Suppose there is no tie\n",
    "    other_profits = set(max_profits[block_id])\n",
    "    other_profits.remove(best_profit)\n",
    "    second_best_profit = max(other_profits)\n",
    "    delta_p = second_best_profit - best_profit\n",
    "    \n",
    "    p_min = min_profit_per_block[block_id]\n",
    "    \n",
    "    efficiency_gaps = []\n",
    "    for w_1 in efficiencies_per_block_alpha[block_id][best_alpha]:\n",
    "        for w_2 in efficiencies_per_block_alpha[block_id][best_alpha]:\n",
    "            if w_2 - w_1 > 0:\n",
    "                efficiency_gaps.append(w_2 - w_1)\n",
    "    \n",
    "    S_min = min(efficiency_gaps)\n",
    "    \n",
    "    A = len(efficiencies_per_block_alpha[block_id])\n",
    "    \n",
    "    print(f\"S_min: {S_min}, p_min: {p_min}, delta_p: {delta_p}\")\n",
    "    \n",
    "    return delta_p / np.log(S_min * p_min / (A - 1))\n",
    "    "
   ]
  },
  {
   "cell_type": "code",
   "execution_count": null,
   "metadata": {},
   "outputs": [],
   "source": [
    "for block_id in range(10):\n",
    "    try:\n",
    "        print(compute_theta_upper_bound(efficiencies_per_block_alpha, max_profits, min_profit_per_block, block_id=block_id))\n",
    "    except:\n",
    "        pass"
   ]
  },
  {
   "cell_type": "code",
   "execution_count": null,
   "metadata": {},
   "outputs": [],
   "source": [
    "logs = LOGS_PATH.joinpath(\"ray/run_and_report_2022-02-18_19-20-53\")\n",
    "df = load_ray_experiment(logs)\n",
    "px.bar(\n",
    "    df.sort_values(\"realized_profit\"),\n",
    "    x=\"scheduler_metric\",\n",
    "    y=\"realized_profit\",\n",
    "    title=\"Profit<br> Online multiblock, PrivateKube. Correct softmax.\",\n",
    "    # log_x=True,\n",
    "    width=800,\n",
    ")"
   ]
  },
  {
   "cell_type": "code",
   "execution_count": null,
   "metadata": {},
   "outputs": [],
   "source": [
    "logs = LOGS_PATH.joinpath(\"ray/run_and_report_2022-02-16_16-20-47\")\n",
    "df = load_ray_experiment(logs)\n",
    "px.bar(\n",
    "    df,\n",
    "    x=\"scheduler_metric\",\n",
    "    y=\"realized_profit\",\n",
    "    title=\"Profit<br> Offline multiblock, PrivateKube. Broken softmax.\",\n",
    "    # log_x=True,\n",
    "    width=800,\n",
    ")"
   ]
  },
  {
   "cell_type": "code",
   "execution_count": null,
   "metadata": {},
   "outputs": [],
   "source": [
    "logs = LOGS_PATH.joinpath(\"ray/run_and_report_2022-02-16_16-20-47\")\n",
    "df = load_ray_experiment(logs)\n",
    "df\n",
    "# px.bar(\n",
    "#     df,\n",
    "#     x=\"scheduler_metric\",\n",
    "#     y=\"realized_profit\",\n",
    "#     title=\"Profit<br> Offline multiblock, PrivateKube\",\n",
    "#     log_x=True,\n",
    "#     width=800,\n",
    "# )"
   ]
  },
  {
   "cell_type": "code",
   "execution_count": null,
   "metadata": {},
   "outputs": [],
   "source": [
    "px.bar(\n",
    "    df,\n",
    "    x=\"scheduler_metric\",\n",
    "    y=\"realized_profit\",\n",
    "    title=\"Profit<br> Offline multiblock, PrivateKube\",\n",
    "    # log_x=True,\n",
    "    width=800,\n",
    ")"
   ]
  },
  {
   "cell_type": "code",
   "execution_count": null,
   "metadata": {},
   "outputs": [],
   "source": [
    "# TODO: get the results on multiple alphas\n",
    "# logs = LOGS_PATH.joinpath(\"ray/run_and_report_2022-02-09_16-01-07\")\n",
    "df = load_ray_experiment(logs)\n",
    "df[\"alpha\"] = df.config.apply(lambda x: x[\"omegaconf\"][\"alphas\"][0])"
   ]
  },
  {
   "cell_type": "code",
   "execution_count": null,
   "metadata": {},
   "outputs": [],
   "source": [
    "df"
   ]
  },
  {
   "cell_type": "code",
   "execution_count": null,
   "metadata": {},
   "outputs": [],
   "source": [
    "sdf = load_latest_scheduling_results(expname=\"ray/run_and_report_2022-02-10_09-38-20\", alphas=\"alphas\", verbose=True)\n",
    "# run_and_report_2022-02-03_10-01-17"
   ]
  },
  {
   "cell_type": "code",
   "execution_count": null,
   "metadata": {},
   "outputs": [],
   "source": [
    "sdf.head()"
   ]
  },
  {
   "cell_type": "code",
   "execution_count": null,
   "metadata": {},
   "outputs": [],
   "source": [
    "dominant_shares = sdf.query(\"metric == 'Fcfs'\").groupby([\"id\"])[\"normalized_epsilon\"].agg(max)\n",
    "dominant_shares = pd.DataFrame(dominant_shares).reset_index()\n",
    "dominant_shares[\"dominant_shares\"] = dominant_shares[\"normalized_epsilon\"]\n",
    "dominant_shares= dominant_shares.drop(\"normalized_epsilon\", axis=1)\n"
   ]
  },
  {
   "cell_type": "code",
   "execution_count": null,
   "metadata": {},
   "outputs": [],
   "source": [
    "dominant_shares.describe()"
   ]
  },
  {
   "cell_type": "code",
   "execution_count": null,
   "metadata": {},
   "outputs": [],
   "source": [
    "merged = pd.merge(sdf, dominant_shares, on=[\"id\"])"
   ]
  },
  {
   "cell_type": "code",
   "execution_count": null,
   "metadata": {},
   "outputs": [],
   "source": [
    "merged.columns"
   ]
  },
  {
   "cell_type": "markdown",
   "metadata": {},
   "source": [
    "# Fraction of fair pipelines"
   ]
  },
  {
   "cell_type": "code",
   "execution_count": null,
   "metadata": {},
   "outputs": [],
   "source": [
    "merged.head()"
   ]
  },
  {
   "cell_type": "code",
   "execution_count": null,
   "metadata": {},
   "outputs": [],
   "source": [
    "merged.describe()"
   ]
  },
  {
   "cell_type": "code",
   "execution_count": null,
   "metadata": {},
   "outputs": [],
   "source": [
    "# tasks = merged.groupby([\"id\",\"alpha\", \"metric\"])[\"id\", \"alpha\", \"metric\", \"dominant_shares\",\"allocated\"]\n",
    "tasks = merged.groupby([\"id\",\"metric\"]).first()\n",
    "tasks = tasks.reset_index()\n",
    "tasks = tasks[[\"id\", \"metric\", \"dominant_shares\",\"allocated\"]]"
   ]
  },
  {
   "cell_type": "code",
   "execution_count": null,
   "metadata": {},
   "outputs": [],
   "source": [
    "tasks.head(20)"
   ]
  },
  {
   "cell_type": "code",
   "execution_count": null,
   "metadata": {},
   "outputs": [],
   "source": [
    "d = defaultdict(list)\n",
    "for N in range(1,200,1):\n",
    "    # for alpha in [4,16,64]:\n",
    "    total_fair_tasks = tasks.query(f\"dominant_shares <= {1/N} and metric == 'Fcfs'\")[\"id\"].count()\n",
    "\n",
    "    d[\"N\"].append(N)\n",
    "    # d[\"alpha\"].append(alpha)\n",
    "    d[\"metric\"].append(\"total\")\n",
    "    d[\"n_fair_tasks\"].append(total_fair_tasks)\n",
    "\n",
    "\n",
    "    d[\"N\"].append(N)\n",
    "    # d[\"alpha\"].append(alpha)\n",
    "    d[\"metric\"].append(\"N\")\n",
    "    d[\"n_fair_tasks\"].append(N)\n",
    "\n",
    "    for metric in [\"DynamicFlatRelevance\", \"Fcfs\", \"Fcfs\", \"DominantShares\", \"SoftKnapsack\"]:\n",
    "        allocated_fair_tasks = tasks.query(f\"dominant_shares <= {1/N} and metric == '{metric}' and allocated\")[\"id\"].count()\n",
    "\n",
    "        d[\"N\"].append(N)\n",
    "        # d[\"alpha\"].append(alpha)\n",
    "        d[\"metric\"].append(metric)\n",
    "        d[\"n_fair_tasks\"].append(allocated_fair_tasks)\n",
    "            \n",
    "fair_tasks = pd.DataFrame(d)"
   ]
  },
  {
   "cell_type": "code",
   "execution_count": null,
   "metadata": {},
   "outputs": [],
   "source": [
    "px.line(\n",
    "    fair_tasks,\n",
    "    x=\"N\",\n",
    "    y=\"n_fair_tasks\",\n",
    "    # range_y=[0,20],\n",
    "#     color=\"log_id\",\n",
    "    color=\"metric\",\n",
    "    # barmode=\"group\",\n",
    "    # pattern_shape=\"allocated\",\n",
    "#     log_x=True,\n",
    "    # range_x=[0,20],\n",
    "    # range_y=[1e-3, 1e5],\n",
    "    # facet_col=\"alpha\",\n",
    "    # facet_col_wrap=1,\n",
    "    # height=1200,\n",
    "    width=800,\n",
    "    title=\"Number of fair tasks allocated\"\n",
    "#     animation_frame=\"id\"\n",
    ")"
   ]
  }
 ],
 "metadata": {
  "interpreter": {
   "hash": "8eab72c90ef7b6cf7a47cf9058599fe69878ae5c291bf7d8c10fb9498bc1b89e"
  },
  "kernelspec": {
   "display_name": "Python 3 (ipykernel)",
   "language": "python",
   "name": "python3"
  },
  "language_info": {
   "codemirror_mode": {
    "name": "ipython",
    "version": 3
   },
   "file_extension": ".py",
   "mimetype": "text/x-python",
   "name": "python",
   "nbconvert_exporter": "python",
   "pygments_lexer": "ipython3"
  }
 },
 "nbformat": 4,
 "nbformat_minor": 4
}
