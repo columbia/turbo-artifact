{
 "cells": [
  {
   "cell_type": "code",
   "execution_count": null,
   "metadata": {},
   "outputs": [],
   "source": [
    "%load_ext autoreload \n",
    "%autoreload 2"
   ]
  },
  {
   "cell_type": "code",
   "execution_count": null,
   "metadata": {},
   "outputs": [],
   "source": [
    "\n",
    "\n",
    "import pandas as pd\n",
    "import numpy as np\n",
    "from privacypacking.utils.utils import LOGS_PATH\n",
    "from experiments.ray.analysis import load_ray_experiment,load_latest_scheduling_results\n",
    "import plotly.express as px\n",
    "import warnings\n",
    "warnings.filterwarnings('ignore')\n",
    "import copy\n",
    "\n",
    "from collections import defaultdict"
   ]
  },
  {
   "cell_type": "code",
   "execution_count": null,
   "metadata": {},
   "outputs": [],
   "source": [
    "logs = LOGS_PATH.joinpath(\"ray/run_and_report_2022-02-16_14-34-27\")\n",
    "df = load_ray_experiment(logs)\n",
    "# df[\"alpha\"] = df.config.apply(lambda x: x[\"omegaconf\"][\"alphas\"][0])"
   ]
  },
  {
   "cell_type": "code",
   "execution_count": null,
   "metadata": {},
   "outputs": [],
   "source": [
    "px.bar(\n",
    "    df,\n",
    "    x=\"scheduler_metric\",\n",
    "    y=\"realized_profit\",\n",
    "    title=\"Profit<br> Offline multiblock, PrivateKube\",\n",
    "    width=800,\n",
    ")"
   ]
  },
  {
   "cell_type": "code",
   "execution_count": null,
   "metadata": {},
   "outputs": [],
   "source": [
    "logs = LOGS_PATH.joinpath(\"ray/run_and_report_2022-02-16_14-39-10\")\n",
    "df = load_ray_experiment(logs)"
   ]
  },
  {
   "cell_type": "code",
   "execution_count": null,
   "metadata": {},
   "outputs": [],
   "source": [
    "df.temperature"
   ]
  },
  {
   "cell_type": "code",
   "execution_count": null,
   "metadata": {},
   "outputs": [],
   "source": [
    "px.line(\n",
    "    df.sort_values(\"temperature\"),\n",
    "    x=\"temperature\",\n",
    "    y=\"realized_profit\",\n",
    "    title=\"Profit<br> Offline multiblock, PrivateKube\",\n",
    "    log_x=True,\n",
    "    width=800,\n",
    ")"
   ]
  },
  {
   "cell_type": "code",
   "execution_count": null,
   "metadata": {},
   "outputs": [],
   "source": [
    "logs = LOGS_PATH.joinpath(\"ray/run_and_report_2022-02-16_14-47-53\")\n",
    "df = load_ray_experiment(logs)\n",
    "px.line(\n",
    "    df.sort_values(\"temperature\"),\n",
    "    x=\"temperature\",\n",
    "    y=\"realized_profit\",\n",
    "    title=\"Profit<br> Offline multiblock, PrivateKube\",\n",
    "    log_x=True,\n",
    "    width=800,\n",
    ")"
   ]
  },
  {
   "cell_type": "code",
   "execution_count": null,
   "metadata": {},
   "outputs": [],
   "source": [
    "logs = LOGS_PATH.joinpath(\"ray/run_and_report_2022-02-16_19-08-49\")\n",
    "df = load_ray_experiment(logs)\n",
    "px.line(\n",
    "    df.sort_values(\"temperature\"),\n",
    "    x=\"temperature\",\n",
    "    y=\"realized_profit\",\n",
    "    title=\"Profit<br> Offline multiblock, PrivateKube\",\n",
    "    log_x=True,\n",
    "    width=800,\n",
    ")"
   ]
  },
  {
   "cell_type": "code",
   "execution_count": null,
   "metadata": {},
   "outputs": [],
   "source": [
    "logs = LOGS_PATH.joinpath(\"ray/run_and_report_2022-02-18_18-47-28\")\n",
    "df = load_ray_experiment(logs)\n",
    "px.line(\n",
    "    df.sort_values(\"temperature\"),\n",
    "    x=\"temperature\",\n",
    "    y=\"realized_profit\",\n",
    "    title=\"Profit<br> Online multiblock, PrivateKube. Softmax with numerical error.\",\n",
    "    log_x=True,\n",
    "    # width=800,\n",
    ")"
   ]
  },
  {
   "cell_type": "code",
   "execution_count": null,
   "metadata": {},
   "outputs": [],
   "source": [
    "logs = LOGS_PATH.joinpath(\"ray/run_and_report_2022-02-18_17-13-10\")\n",
    "df = load_ray_experiment(logs)\n",
    "px.line(\n",
    "    df.sort_values(\"temperature\"),\n",
    "    x=\"temperature\",\n",
    "    y=\"realized_profit\",\n",
    "    title=\"Profit<br> Online multiblock, PrivateKube. Correct softmax.\",\n",
    "    log_x=True,\n",
    "    range_y=[0.95e6,1e6]\n",
    "    # width=800,\n",
    ")"
   ]
  },
  {
   "cell_type": "code",
   "execution_count": null,
   "metadata": {},
   "outputs": [],
   "source": [
    "logs = LOGS_PATH.joinpath(\"ray/run_and_report_2022-02-18_19-20-53\")\n",
    "df = load_ray_experiment(logs)\n",
    "px.bar(\n",
    "    df.sort_values(\"realized_profit\"),\n",
    "    x=\"scheduler_metric\",\n",
    "    y=\"realized_profit\",\n",
    "    title=\"Profit<br> Online multiblock, PrivateKube. Correct softmax.\",\n",
    "    # log_x=True,\n",
    "    width=800,\n",
    ")"
   ]
  },
  {
   "cell_type": "code",
   "execution_count": null,
   "metadata": {},
   "outputs": [],
   "source": [
    "logs = LOGS_PATH.joinpath(\"ray/run_and_report_2022-02-16_16-20-47\")\n",
    "df = load_ray_experiment(logs)\n",
    "px.bar(\n",
    "    df,\n",
    "    x=\"scheduler_metric\",\n",
    "    y=\"realized_profit\",\n",
    "    title=\"Profit<br> Offline multiblock, PrivateKube. Broken softmax.\",\n",
    "    # log_x=True,\n",
    "    width=800,\n",
    ")"
   ]
  },
  {
   "cell_type": "code",
   "execution_count": null,
   "metadata": {},
   "outputs": [],
   "source": [
    "logs = LOGS_PATH.joinpath(\"ray/run_and_report_2022-02-16_16-20-47\")\n",
    "df = load_ray_experiment(logs)\n",
    "df\n",
    "# px.bar(\n",
    "#     df,\n",
    "#     x=\"scheduler_metric\",\n",
    "#     y=\"realized_profit\",\n",
    "#     title=\"Profit<br> Offline multiblock, PrivateKube\",\n",
    "#     log_x=True,\n",
    "#     width=800,\n",
    "# )"
   ]
  },
  {
   "cell_type": "code",
   "execution_count": null,
   "metadata": {},
   "outputs": [],
   "source": [
    "px.bar(\n",
    "    df,\n",
    "    x=\"scheduler_metric\",\n",
    "    y=\"realized_profit\",\n",
    "    title=\"Profit<br> Offline multiblock, PrivateKube\",\n",
    "    # log_x=True,\n",
    "    width=800,\n",
    ")"
   ]
  },
  {
   "cell_type": "code",
   "execution_count": null,
   "metadata": {},
   "outputs": [],
   "source": [
    "# TODO: get the results on multiple alphas\n",
    "# logs = LOGS_PATH.joinpath(\"ray/run_and_report_2022-02-09_16-01-07\")\n",
    "df = load_ray_experiment(logs)\n",
    "df[\"alpha\"] = df.config.apply(lambda x: x[\"omegaconf\"][\"alphas\"][0])"
   ]
  },
  {
   "cell_type": "code",
   "execution_count": null,
   "metadata": {},
   "outputs": [],
   "source": [
    "df"
   ]
  },
  {
   "cell_type": "code",
   "execution_count": null,
   "metadata": {},
   "outputs": [],
   "source": [
    "sdf = load_latest_scheduling_results(expname=\"ray/run_and_report_2022-02-10_09-38-20\", alphas=\"alphas\", verbose=True)\n",
    "# run_and_report_2022-02-03_10-01-17"
   ]
  },
  {
   "cell_type": "code",
   "execution_count": null,
   "metadata": {},
   "outputs": [],
   "source": [
    "sdf.head()"
   ]
  },
  {
   "cell_type": "code",
   "execution_count": null,
   "metadata": {},
   "outputs": [],
   "source": [
    "dominant_shares = sdf.query(\"metric == 'Fcfs'\").groupby([\"id\"])[\"normalized_epsilon\"].agg(max)\n",
    "dominant_shares = pd.DataFrame(dominant_shares).reset_index()\n",
    "dominant_shares[\"dominant_shares\"] = dominant_shares[\"normalized_epsilon\"]\n",
    "dominant_shares= dominant_shares.drop(\"normalized_epsilon\", axis=1)\n"
   ]
  },
  {
   "cell_type": "code",
   "execution_count": null,
   "metadata": {},
   "outputs": [],
   "source": [
    "dominant_shares.describe()"
   ]
  },
  {
   "cell_type": "code",
   "execution_count": null,
   "metadata": {},
   "outputs": [],
   "source": [
    "merged = pd.merge(sdf, dominant_shares, on=[\"id\"])"
   ]
  },
  {
   "cell_type": "code",
   "execution_count": null,
   "metadata": {},
   "outputs": [],
   "source": [
    "merged.columns"
   ]
  },
  {
   "cell_type": "markdown",
   "metadata": {},
   "source": [
    "# Fraction of fair pipelines"
   ]
  },
  {
   "cell_type": "code",
   "execution_count": null,
   "metadata": {},
   "outputs": [],
   "source": [
    "merged.head()"
   ]
  },
  {
   "cell_type": "code",
   "execution_count": null,
   "metadata": {},
   "outputs": [],
   "source": [
    "merged.describe()"
   ]
  },
  {
   "cell_type": "code",
   "execution_count": null,
   "metadata": {},
   "outputs": [],
   "source": [
    "# tasks = merged.groupby([\"id\",\"alpha\", \"metric\"])[\"id\", \"alpha\", \"metric\", \"dominant_shares\",\"allocated\"]\n",
    "tasks = merged.groupby([\"id\",\"metric\"]).first()\n",
    "tasks = tasks.reset_index()\n",
    "tasks = tasks[[\"id\", \"metric\", \"dominant_shares\",\"allocated\"]]"
   ]
  },
  {
   "cell_type": "code",
   "execution_count": null,
   "metadata": {},
   "outputs": [],
   "source": [
    "tasks.head(20)"
   ]
  },
  {
   "cell_type": "code",
   "execution_count": null,
   "metadata": {},
   "outputs": [],
   "source": [
    "d = defaultdict(list)\n",
    "for N in range(1,200,1):\n",
    "    # for alpha in [4,16,64]:\n",
    "    total_fair_tasks = tasks.query(f\"dominant_shares <= {1/N} and metric == 'Fcfs'\")[\"id\"].count()\n",
    "\n",
    "    d[\"N\"].append(N)\n",
    "    # d[\"alpha\"].append(alpha)\n",
    "    d[\"metric\"].append(\"total\")\n",
    "    d[\"n_fair_tasks\"].append(total_fair_tasks)\n",
    "\n",
    "\n",
    "    d[\"N\"].append(N)\n",
    "    # d[\"alpha\"].append(alpha)\n",
    "    d[\"metric\"].append(\"N\")\n",
    "    d[\"n_fair_tasks\"].append(N)\n",
    "\n",
    "    for metric in [\"DynamicFlatRelevance\", \"Fcfs\", \"Fcfs\", \"DominantShares\", \"SoftKnapsack\"]:\n",
    "        allocated_fair_tasks = tasks.query(f\"dominant_shares <= {1/N} and metric == '{metric}' and allocated\")[\"id\"].count()\n",
    "\n",
    "        d[\"N\"].append(N)\n",
    "        # d[\"alpha\"].append(alpha)\n",
    "        d[\"metric\"].append(metric)\n",
    "        d[\"n_fair_tasks\"].append(allocated_fair_tasks)\n",
    "            \n",
    "fair_tasks = pd.DataFrame(d)"
   ]
  },
  {
   "cell_type": "code",
   "execution_count": null,
   "metadata": {},
   "outputs": [],
   "source": [
    "px.line(\n",
    "    fair_tasks,\n",
    "    x=\"N\",\n",
    "    y=\"n_fair_tasks\",\n",
    "    # range_y=[0,20],\n",
    "#     color=\"log_id\",\n",
    "    color=\"metric\",\n",
    "    # barmode=\"group\",\n",
    "    # pattern_shape=\"allocated\",\n",
    "#     log_x=True,\n",
    "    # range_x=[0,20],\n",
    "    # range_y=[1e-3, 1e5],\n",
    "    # facet_col=\"alpha\",\n",
    "    # facet_col_wrap=1,\n",
    "    # height=1200,\n",
    "    width=800,\n",
    "    title=\"Number of fair tasks allocated\"\n",
    "#     animation_frame=\"id\"\n",
    ")"
   ]
  }
 ],
 "metadata": {
  "interpreter": {
   "hash": "8eab72c90ef7b6cf7a47cf9058599fe69878ae5c291bf7d8c10fb9498bc1b89e"
  },
  "kernelspec": {
   "display_name": "Python 3 (ipykernel)",
   "language": "python",
   "name": "python3"
  },
  "language_info": {
   "codemirror_mode": {
    "name": "ipython",
    "version": 3
   },
   "file_extension": ".py",
   "mimetype": "text/x-python",
   "name": "python",
   "nbconvert_exporter": "python",
   "pygments_lexer": "ipython3"
  }
 },
 "nbformat": 4,
 "nbformat_minor": 4
}
