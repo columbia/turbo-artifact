{
 "cells": [
  {
   "cell_type": "code",
   "execution_count": 95,
   "id": "62ec59cf-d875-41b6-82f1-77a0b98975f2",
   "metadata": {},
   "outputs": [],
   "source": [
    "import plotly.express as px\n",
    "import numpy as np\n",
    "from collections import defaultdict\n",
    "import pandas as pd\n",
    "\n",
    "px.defaults.width = 1000\n",
    "px.defaults.height = 600"
   ]
  },
  {
   "cell_type": "code",
   "execution_count": 26,
   "id": "2237ceac-4398-4d64-af0a-024561f604ce",
   "metadata": {},
   "outputs": [],
   "source": [
    "def pa1_bound(N,n,T,q,beta, delta, epsilon):\n",
    "    den = n * epsilon\n",
    "    num = np.sqrt(np.log(N)) * np.log(q*T/beta) * np.sqrt(np.log(1/delta))\n",
    "    return np.sqrt(num/den)"
   ]
  },
  {
   "cell_type": "code",
   "execution_count": 69,
   "id": "4dd08e0c-8767-4ea7-868d-0d7e695398b8",
   "metadata": {},
   "outputs": [],
   "source": [
    "def pa2_bound(N,n,T,q,beta, delta, epsilon):\n",
    "    den = T * n * epsilon\n",
    "    k = np.log(T)\n",
    "    num = np.sqrt(np.log(N)) * np.log(q*T/beta) * np.log(2 * k / delta) * 2 * np.sqrt(2 * k * np.log(2/delta))\n",
    "    return np.sqrt(num/den)"
   ]
  },
  {
   "cell_type": "code",
   "execution_count": 70,
   "id": "8e19891d-bce5-4f9c-94c0-e7bb3b2074d1",
   "metadata": {},
   "outputs": [],
   "source": [
    "def pmwg_bound(N,n,T,q,beta, delta, epsilon):\n",
    "    den = T * n * epsilon\n",
    "    # num = np.sqrt(np.log(T*N*n)) * (np.log(q*n*T*T/beta)) * np.sqrt(np.log(1/delta))\n",
    "    num = np.sqrt(np.log(T*N*n)) * (np.log(q*n*T*T/beta) - np.sqrt(T)) * np.sqrt(np.log(1/delta))\n",
    "    # TODO: separate the first block from the following ones (warmup -> no negative accuracy bound)\n",
    "    return np.sqrt(num/den)"
   ]
  },
  {
   "cell_type": "code",
   "execution_count": 71,
   "id": "d3c4a985-0253-4d42-9eda-5e713d67c171",
   "metadata": {},
   "outputs": [],
   "source": [
    "bounds = {\n",
    "    \"pmwg\": pmwg_bound,\n",
    "    \"one_pmw_per_block\": pa1_bound,\n",
    "    \"tree_of_pmws\": pa2_bound,\n",
    "}   "
   ]
  },
  {
   "cell_type": "code",
   "execution_count": 76,
   "id": "1df6d561-4bc3-43cb-8302-70f5627ec74e",
   "metadata": {},
   "outputs": [],
   "source": [
    "delta = 1e-6\n",
    "epsilon = 0.5\n",
    "n = 1000\n",
    "q = 100\n",
    "N = 2**5\n",
    "T = 100\n",
    "beta = 0.01"
   ]
  },
  {
   "cell_type": "code",
   "execution_count": 86,
   "id": "5a22e8c1-27b2-45af-86db-a2045ba15f71",
   "metadata": {},
   "outputs": [
    {
     "name": "stderr",
     "output_type": "stream",
     "text": [
      "/tmp/ipykernel_2633045/1214529332.py:6: RuntimeWarning:\n",
      "\n",
      "invalid value encountered in sqrt\n",
      "\n"
     ]
    }
   ],
   "source": [
    "d = defaultdict(list)\n",
    "size_dict = defaultdict(list)\n",
    "for T in np.linspace(2,1000, num=10):\n",
    "    for e in [1,0.9, 0.5]:\n",
    "        size_dict[\"exponent_size_limit\"].append(e)\n",
    "        size_dict[\"n_blocks\"].append(T)\n",
    "        size_dict[\"max_n_requested_blocks\"].append(T**e)\n",
    "        for n in np.linspace(100, 1000, num=10):\n",
    "            for algo, bound in bounds.items():\n",
    "\n",
    "                    scaling = 1 if algo == \"pmwg\" else T**(e-1)\n",
    "                    d[\"algo\"].append(algo)\n",
    "                    d[\"error\"].append(\n",
    "                        scaling * bound(N,n,T,q,beta, delta, epsilon)\n",
    "                    )\n",
    "                    d[\"block_size\"].append(n)\n",
    "                    d[\"n_blocks\"].append(T)\n",
    "                    d[\"exponent_size_limit\"].append(e)\n",
    "df = pd.DataFrame(d)\n",
    "size_df = pd.DataFrame(size_dict)"
   ]
  },
  {
   "cell_type": "code",
   "execution_count": 96,
   "id": "a592280f-a8f2-48b8-a540-7c4381b8bcd2",
   "metadata": {},
   "outputs": [
    {
     "data": {
      "application/vnd.plotly.v1+json": {
       "config": {
        "plotlyServerURL": "https://plot.ly"
       },
       "data": [
        {
         "hovertemplate": "algo=pmwg<br>block_size=1000.0<br>exponent_size_limit=1.0<br>n_blocks=%{x}<br>error=%{y}<extra></extra>",
         "legendgroup": "pmwg",
         "line": {
          "color": "#636efa",
          "dash": "solid"
         },
         "marker": {
          "symbol": "circle"
         },
         "mode": "lines",
         "name": "pmwg",
         "orientation": "v",
         "showlegend": true,
         "type": "scatter",
         "x": [
          2,
          112.88888888888889,
          223.77777777777777,
          334.66666666666663,
          445.55555555555554,
          556.4444444444445,
          667.3333333333333,
          778.2222222222222,
          889.1111111111111,
          1000
         ],
         "xaxis": "x",
         "y": [
          0.44604232169020874,
          0.0618424795971722,
          0.03976358485641082,
          0.029061381914672776,
          0.022093869270875196,
          0.016802681919166944,
          0.012273817958064011,
          0.007780089945649869,
          null,
          null
         ],
         "yaxis": "y"
        },
        {
         "hovertemplate": "algo=pmwg<br>block_size=1000.0<br>exponent_size_limit=0.9<br>n_blocks=%{x}<br>error=%{y}<extra></extra>",
         "legendgroup": "pmwg",
         "line": {
          "color": "#636efa",
          "dash": "solid"
         },
         "marker": {
          "symbol": "circle"
         },
         "mode": "lines",
         "name": "pmwg",
         "orientation": "v",
         "showlegend": false,
         "type": "scatter",
         "x": [
          2,
          112.88888888888889,
          223.77777777777777,
          334.66666666666663,
          445.55555555555554,
          556.4444444444445,
          667.3333333333333,
          778.2222222222222,
          889.1111111111111,
          1000
         ],
         "xaxis": "x2",
         "y": [
          0.44604232169020874,
          0.0618424795971722,
          0.03976358485641082,
          0.029061381914672776,
          0.022093869270875196,
          0.016802681919166944,
          0.012273817958064011,
          0.007780089945649869,
          null,
          null
         ],
         "yaxis": "y2"
        },
        {
         "hovertemplate": "algo=pmwg<br>block_size=1000.0<br>exponent_size_limit=0.5<br>n_blocks=%{x}<br>error=%{y}<extra></extra>",
         "legendgroup": "pmwg",
         "line": {
          "color": "#636efa",
          "dash": "solid"
         },
         "marker": {
          "symbol": "circle"
         },
         "mode": "lines",
         "name": "pmwg",
         "orientation": "v",
         "showlegend": false,
         "type": "scatter",
         "x": [
          2,
          112.88888888888889,
          223.77777777777777,
          334.66666666666663,
          445.55555555555554,
          556.4444444444445,
          667.3333333333333,
          778.2222222222222,
          889.1111111111111,
          1000
         ],
         "xaxis": "x3",
         "y": [
          0.44604232169020874,
          0.0618424795971722,
          0.03976358485641082,
          0.029061381914672776,
          0.022093869270875196,
          0.016802681919166944,
          0.012273817958064011,
          0.007780089945649869,
          null,
          null
         ],
         "yaxis": "y3"
        },
        {
         "hovertemplate": "algo=one_pmw_per_block<br>block_size=1000.0<br>exponent_size_limit=1.0<br>n_blocks=%{x}<br>error=%{y}<extra></extra>",
         "legendgroup": "one_pmw_per_block",
         "line": {
          "color": "#EF553B",
          "dash": "solid"
         },
         "marker": {
          "symbol": "circle"
         },
         "mode": "lines",
         "name": "one_pmw_per_block",
         "orientation": "v",
         "showlegend": true,
         "type": "scatter",
         "x": [
          2,
          112.88888888888889,
          223.77777777777777,
          334.66666666666663,
          445.55555555555554,
          556.4444444444445,
          667.3333333333333,
          778.2222222222222,
          889.1111111111111,
          1000
         ],
         "xaxis": "x",
         "y": [
          0.3702113071110651,
          0.4391736418182008,
          0.4498254741747314,
          0.45597476040863033,
          0.4602972759488301,
          0.4636262311221465,
          0.4663305428154834,
          0.4686059878630727,
          0.4705689045429245,
          0.47229403800709313
         ],
         "yaxis": "y"
        },
        {
         "hovertemplate": "algo=one_pmw_per_block<br>block_size=1000.0<br>exponent_size_limit=0.9<br>n_blocks=%{x}<br>error=%{y}<extra></extra>",
         "legendgroup": "one_pmw_per_block",
         "line": {
          "color": "#EF553B",
          "dash": "solid"
         },
         "marker": {
          "symbol": "circle"
         },
         "mode": "lines",
         "name": "one_pmw_per_block",
         "orientation": "v",
         "showlegend": false,
         "type": "scatter",
         "x": [
          2,
          112.88888888888889,
          223.77777777777777,
          334.66666666666663,
          445.55555555555554,
          556.4444444444445,
          667.3333333333333,
          778.2222222222222,
          889.1111111111111,
          1000
         ],
         "xaxis": "x2",
         "y": [
          0.3454193633745888,
          0.27376072795486034,
          0.26185589222805095,
          0.25496440746379795,
          0.2501198838991597,
          0.24639155503828478,
          0.24336581792920156,
          0.24082272757116893,
          0.23863141782496136,
          0.23670774236742884
         ],
         "yaxis": "y2"
        },
        {
         "hovertemplate": "algo=one_pmw_per_block<br>block_size=1000.0<br>exponent_size_limit=0.5<br>n_blocks=%{x}<br>error=%{y}<extra></extra>",
         "legendgroup": "one_pmw_per_block",
         "line": {
          "color": "#EF553B",
          "dash": "solid"
         },
         "marker": {
          "symbol": "circle"
         },
         "mode": "lines",
         "name": "one_pmw_per_block",
         "orientation": "v",
         "showlegend": false,
         "type": "scatter",
         "x": [
          2,
          112.88888888888889,
          223.77777777777777,
          334.66666666666663,
          445.55555555555554,
          556.4444444444445,
          667.3333333333333,
          778.2222222222222,
          889.1111111111111,
          1000
         ],
         "xaxis": "x3",
         "y": [
          0.26177892573016964,
          0.041334307653374466,
          0.030070148167223216,
          0.02492496601134007,
          0.021806575687056344,
          0.019654277979704603,
          0.01805188057659156,
          0.016797939770052003,
          0.015781388329569324,
          0.01493524885420546
         ],
         "yaxis": "y3"
        },
        {
         "hovertemplate": "algo=tree_of_pmws<br>block_size=1000.0<br>exponent_size_limit=1.0<br>n_blocks=%{x}<br>error=%{y}<extra></extra>",
         "legendgroup": "tree_of_pmws",
         "line": {
          "color": "#00cc96",
          "dash": "solid"
         },
         "marker": {
          "symbol": "circle"
         },
         "mode": "lines",
         "name": "tree_of_pmws",
         "orientation": "v",
         "showlegend": true,
         "type": "scatter",
         "x": [
          2,
          112.88888888888889,
          223.77777777777777,
          334.66666666666663,
          445.55555555555554,
          556.4444444444445,
          667.3333333333333,
          778.2222222222222,
          889.1111111111111,
          1000
         ],
         "xaxis": "x",
         "y": [
          1.5292773540026285,
          0.4158420085734432,
          0.31423404132096455,
          0.26576770813502176,
          0.23567493663115255,
          0.21455794197033967,
          0.1986383277374054,
          0.18605556143230242,
          0.17577014539078445,
          0.1671484600116252
         ],
         "yaxis": "y"
        },
        {
         "hovertemplate": "algo=tree_of_pmws<br>block_size=1000.0<br>exponent_size_limit=0.9<br>n_blocks=%{x}<br>error=%{y}<extra></extra>",
         "legendgroup": "tree_of_pmws",
         "line": {
          "color": "#00cc96",
          "dash": "solid"
         },
         "marker": {
          "symbol": "circle"
         },
         "mode": "lines",
         "name": "tree_of_pmws",
         "orientation": "v",
         "showlegend": false,
         "type": "scatter",
         "x": [
          2,
          112.88888888888889,
          223.77777777777777,
          334.66666666666663,
          445.55555555555554,
          556.4444444444445,
          667.3333333333333,
          778.2222222222222,
          889.1111111111111,
          1000
         ],
         "xaxis": "x2",
         "y": [
          1.4268662244945658,
          0.2592168567083598,
          0.1829243561838936,
          0.14860758118921286,
          0.1280628647358727,
          0.11402561248515343,
          0.10366419237744466,
          0.09561637909971553,
          0.08913525437182049,
          0.08377267427828519
         ],
         "yaxis": "y2"
        },
        {
         "hovertemplate": "algo=tree_of_pmws<br>block_size=1000.0<br>exponent_size_limit=0.5<br>n_blocks=%{x}<br>error=%{y}<extra></extra>",
         "legendgroup": "tree_of_pmws",
         "line": {
          "color": "#00cc96",
          "dash": "solid"
         },
         "marker": {
          "symbol": "circle"
         },
         "mode": "lines",
         "name": "tree_of_pmws",
         "orientation": "v",
         "showlegend": false,
         "type": "scatter",
         "x": [
          2,
          112.88888888888889,
          223.77777777777777,
          334.66666666666663,
          445.55555555555554,
          556.4444444444445,
          667.3333333333333,
          778.2222222222222,
          889.1111111111111,
          1000
         ],
         "xaxis": "x3",
         "y": [
          1.0813623873302791,
          0.03913837234495783,
          0.021006067295415837,
          0.014527670536502323,
          0.011165096149212825,
          0.009095648932614823,
          0.0076893856203373665,
          0.006669462609889351,
          0.0058947731020416345,
          0.0052856984102631005
         ],
         "yaxis": "y3"
        }
       ],
       "frames": [
        {
         "data": [
          {
           "hovertemplate": "algo=pmwg<br>block_size=100.0<br>exponent_size_limit=1.0<br>n_blocks=%{x}<br>error=%{y}<extra></extra>",
           "legendgroup": "pmwg",
           "line": {
            "color": "#636efa",
            "dash": "solid"
           },
           "marker": {
            "symbol": "circle"
           },
           "mode": "lines",
           "name": "pmwg",
           "orientation": "v",
           "showlegend": true,
           "type": "scatter",
           "x": [
            2,
            112.88888888888889,
            223.77777777777777,
            334.66666666666663,
            445.55555555555554,
            556.4444444444445,
            667.3333333333333,
            778.2222222222222,
            889.1111111111111,
            1000
           ],
           "xaxis": "x",
           "y": [
            1.2317205534803557,
            0.1725809090556857,
            0.1086469229279133,
            0.07691626943636037,
            0.05550886467054741,
            0.038136263458011195,
            0.02051134814373874,
            null,
            null,
            null
           ],
           "yaxis": "y"
          },
          {
           "hovertemplate": "algo=pmwg<br>block_size=100.0<br>exponent_size_limit=0.9<br>n_blocks=%{x}<br>error=%{y}<extra></extra>",
           "legendgroup": "pmwg",
           "line": {
            "color": "#636efa",
            "dash": "solid"
           },
           "marker": {
            "symbol": "circle"
           },
           "mode": "lines",
           "name": "pmwg",
           "orientation": "v",
           "showlegend": false,
           "type": "scatter",
           "x": [
            2,
            112.88888888888889,
            223.77777777777777,
            334.66666666666663,
            445.55555555555554,
            556.4444444444445,
            667.3333333333333,
            778.2222222222222,
            889.1111111111111,
            1000
           ],
           "xaxis": "x2",
           "y": [
            1.2317205534803557,
            0.1725809090556857,
            0.1086469229279133,
            0.07691626943636037,
            0.05550886467054741,
            0.038136263458011195,
            0.02051134814373874,
            null,
            null,
            null
           ],
           "yaxis": "y2"
          },
          {
           "hovertemplate": "algo=pmwg<br>block_size=100.0<br>exponent_size_limit=0.5<br>n_blocks=%{x}<br>error=%{y}<extra></extra>",
           "legendgroup": "pmwg",
           "line": {
            "color": "#636efa",
            "dash": "solid"
           },
           "marker": {
            "symbol": "circle"
           },
           "mode": "lines",
           "name": "pmwg",
           "orientation": "v",
           "showlegend": false,
           "type": "scatter",
           "x": [
            2,
            112.88888888888889,
            223.77777777777777,
            334.66666666666663,
            445.55555555555554,
            556.4444444444445,
            667.3333333333333,
            778.2222222222222,
            889.1111111111111,
            1000
           ],
           "xaxis": "x3",
           "y": [
            1.2317205534803557,
            0.1725809090556857,
            0.1086469229279133,
            0.07691626943636037,
            0.05550886467054741,
            0.038136263458011195,
            0.02051134814373874,
            null,
            null,
            null
           ],
           "yaxis": "y3"
          },
          {
           "hovertemplate": "algo=one_pmw_per_block<br>block_size=100.0<br>exponent_size_limit=1.0<br>n_blocks=%{x}<br>error=%{y}<extra></extra>",
           "legendgroup": "one_pmw_per_block",
           "line": {
            "color": "#EF553B",
            "dash": "solid"
           },
           "marker": {
            "symbol": "circle"
           },
           "mode": "lines",
           "name": "one_pmw_per_block",
           "orientation": "v",
           "showlegend": true,
           "type": "scatter",
           "x": [
            2,
            112.88888888888889,
            223.77777777777777,
            334.66666666666663,
            445.55555555555554,
            556.4444444444445,
            667.3333333333333,
            778.2222222222222,
            889.1111111111111,
            1000
           ],
           "xaxis": "x",
           "y": [
            1.1707109460190561,
            1.388788996456486,
            1.4224730479574015,
            1.4419187984408408,
            1.4555877927693452,
            1.4661148733456255,
            1.474666657799597,
            1.4818622468405296,
            1.4880695344059969,
            1.493524885420546
           ],
           "yaxis": "y"
          },
          {
           "hovertemplate": "algo=one_pmw_per_block<br>block_size=100.0<br>exponent_size_limit=0.9<br>n_blocks=%{x}<br>error=%{y}<extra></extra>",
           "legendgroup": "one_pmw_per_block",
           "line": {
            "color": "#EF553B",
            "dash": "solid"
           },
           "marker": {
            "symbol": "circle"
           },
           "mode": "lines",
           "name": "one_pmw_per_block",
           "orientation": "v",
           "showlegend": false,
           "type": "scatter",
           "x": [
            2,
            112.88888888888889,
            223.77777777777777,
            334.66666666666663,
            445.55555555555554,
            556.4444444444445,
            667.3333333333333,
            778.2222222222222,
            889.1111111111111,
            1000
           ],
           "xaxis": "x2",
           "y": [
            1.0923119361890459,
            0.8657074342430879,
            0.8280610381762243,
            0.8062682498608362,
            0.7909485212182213,
            0.7791585101517154,
            0.7695902892861193,
            0.7615483314591232,
            0.7546188016021818,
            0.7485356056774124
           ],
           "yaxis": "y2"
          },
          {
           "hovertemplate": "algo=one_pmw_per_block<br>block_size=100.0<br>exponent_size_limit=0.5<br>n_blocks=%{x}<br>error=%{y}<extra></extra>",
           "legendgroup": "one_pmw_per_block",
           "line": {
            "color": "#EF553B",
            "dash": "solid"
           },
           "marker": {
            "symbol": "circle"
           },
           "mode": "lines",
           "name": "one_pmw_per_block",
           "orientation": "v",
           "showlegend": false,
           "type": "scatter",
           "x": [
            2,
            112.88888888888889,
            223.77777777777777,
            334.66666666666663,
            445.55555555555554,
            556.4444444444445,
            667.3333333333333,
            778.2222222222222,
            889.1111111111111,
            1000
           ],
           "xaxis": "x3",
           "y": [
            0.8278176487393928,
            0.13071055769079293,
            0.09509015778716312,
            0.07881966319811685,
            0.06895844713994921,
            0.062152284181959165,
            0.057085058671382964,
            0.05311974967168941,
            0.04990513176103906,
            0.04722940380070931
           ],
           "yaxis": "y3"
          },
          {
           "hovertemplate": "algo=tree_of_pmws<br>block_size=100.0<br>exponent_size_limit=1.0<br>n_blocks=%{x}<br>error=%{y}<extra></extra>",
           "legendgroup": "tree_of_pmws",
           "line": {
            "color": "#00cc96",
            "dash": "solid"
           },
           "marker": {
            "symbol": "circle"
           },
           "mode": "lines",
           "name": "tree_of_pmws",
           "orientation": "v",
           "showlegend": true,
           "type": "scatter",
           "x": [
            2,
            112.88888888888889,
            223.77777777777777,
            334.66666666666663,
            445.55555555555554,
            556.4444444444445,
            667.3333333333333,
            778.2222222222222,
            889.1111111111111,
            1000
           ],
           "xaxis": "x",
           "y": [
            4.835999612763922,
            1.3150078938713472,
            0.9936952889337137,
            0.8404312862295292,
            0.7452695871702922,
            0.6784917867045087,
            0.628149546257202,
            0.5883593454674554,
            0.5558340040938257,
            0.5285698410263101
           ],
           "yaxis": "y"
          },
          {
           "hovertemplate": "algo=tree_of_pmws<br>block_size=100.0<br>exponent_size_limit=0.9<br>n_blocks=%{x}<br>error=%{y}<extra></extra>",
           "legendgroup": "tree_of_pmws",
           "line": {
            "color": "#00cc96",
            "dash": "solid"
           },
           "marker": {
            "symbol": "circle"
           },
           "mode": "lines",
           "name": "tree_of_pmws",
           "orientation": "v",
           "showlegend": false,
           "type": "scatter",
           "x": [
            2,
            112.88888888888889,
            223.77777777777777,
            334.66666666666663,
            445.55555555555554,
            556.4444444444445,
            667.3333333333333,
            778.2222222222222,
            889.1111111111111,
            1000
           ],
           "xaxis": "x2",
           "y": [
            4.512147185767965,
            0.8197156751079141,
            0.5784576050610104,
            0.4699384341263064,
            0.40497033625141515,
            0.36058064704881737,
            0.32781495971459046,
            0.3023655395732211,
            0.2818704236334338,
            0.2649124564027835
           ],
           "yaxis": "y2"
          },
          {
           "hovertemplate": "algo=tree_of_pmws<br>block_size=100.0<br>exponent_size_limit=0.5<br>n_blocks=%{x}<br>error=%{y}<extra></extra>",
           "legendgroup": "tree_of_pmws",
           "line": {
            "color": "#00cc96",
            "dash": "solid"
           },
           "marker": {
            "symbol": "circle"
           },
           "mode": "lines",
           "name": "tree_of_pmws",
           "orientation": "v",
           "showlegend": false,
           "type": "scatter",
           "x": [
            2,
            112.88888888888889,
            223.77777777777777,
            334.66666666666663,
            445.55555555555554,
            556.4444444444445,
            667.3333333333333,
            778.2222222222222,
            889.1111111111111,
            1000
           ],
           "xaxis": "x3",
           "y": [
            3.419568120000888,
            0.12376640052181205,
            0.06642701733628711,
            0.045940527991867666,
            0.03530713412628772,
            0.02876296742434222,
            0.024315972367612827,
            0.021090692616581388,
            0.01864090929234772,
            0.01671484600116252
           ],
           "yaxis": "y3"
          }
         ],
         "name": "100.0"
        },
        {
         "data": [
          {
           "hovertemplate": "algo=pmwg<br>block_size=200.0<br>exponent_size_limit=1.0<br>n_blocks=%{x}<br>error=%{y}<extra></extra>",
           "legendgroup": "pmwg",
           "line": {
            "color": "#636efa",
            "dash": "solid"
           },
           "marker": {
            "symbol": "circle"
           },
           "mode": "lines",
           "name": "pmwg",
           "orientation": "v",
           "showlegend": true,
           "type": "scatter",
           "x": [
            2,
            112.88888888888889,
            223.77777777777777,
            334.66666666666663,
            445.55555555555554,
            556.4444444444445,
            667.3333333333333,
            778.2222222222222,
            889.1111111111111,
            1000
           ],
           "xaxis": "x",
           "y": [
            0.9097304711299413,
            0.12699730715451288,
            0.08053174117256053,
            0.05766210942905913,
            0.04243555097547752,
            0.030402712450643396,
            0.01913511878219117,
            null,
            null,
            null
           ],
           "yaxis": "y"
          },
          {
           "hovertemplate": "algo=pmwg<br>block_size=200.0<br>exponent_size_limit=0.9<br>n_blocks=%{x}<br>error=%{y}<extra></extra>",
           "legendgroup": "pmwg",
           "line": {
            "color": "#636efa",
            "dash": "solid"
           },
           "marker": {
            "symbol": "circle"
           },
           "mode": "lines",
           "name": "pmwg",
           "orientation": "v",
           "showlegend": false,
           "type": "scatter",
           "x": [
            2,
            112.88888888888889,
            223.77777777777777,
            334.66666666666663,
            445.55555555555554,
            556.4444444444445,
            667.3333333333333,
            778.2222222222222,
            889.1111111111111,
            1000
           ],
           "xaxis": "x2",
           "y": [
            0.9097304711299413,
            0.12699730715451288,
            0.08053174117256053,
            0.05766210942905913,
            0.04243555097547752,
            0.030402712450643396,
            0.01913511878219117,
            null,
            null,
            null
           ],
           "yaxis": "y2"
          },
          {
           "hovertemplate": "algo=pmwg<br>block_size=200.0<br>exponent_size_limit=0.5<br>n_blocks=%{x}<br>error=%{y}<extra></extra>",
           "legendgroup": "pmwg",
           "line": {
            "color": "#636efa",
            "dash": "solid"
           },
           "marker": {
            "symbol": "circle"
           },
           "mode": "lines",
           "name": "pmwg",
           "orientation": "v",
           "showlegend": false,
           "type": "scatter",
           "x": [
            2,
            112.88888888888889,
            223.77777777777777,
            334.66666666666663,
            445.55555555555554,
            556.4444444444445,
            667.3333333333333,
            778.2222222222222,
            889.1111111111111,
            1000
           ],
           "xaxis": "x3",
           "y": [
            0.9097304711299413,
            0.12699730715451288,
            0.08053174117256053,
            0.05766210942905913,
            0.04243555097547752,
            0.030402712450643396,
            0.01913511878219117,
            null,
            null,
            null
           ],
           "yaxis": "y3"
          },
          {
           "hovertemplate": "algo=one_pmw_per_block<br>block_size=200.0<br>exponent_size_limit=1.0<br>n_blocks=%{x}<br>error=%{y}<extra></extra>",
           "legendgroup": "one_pmw_per_block",
           "line": {
            "color": "#EF553B",
            "dash": "solid"
           },
           "marker": {
            "symbol": "circle"
           },
           "mode": "lines",
           "name": "one_pmw_per_block",
           "orientation": "v",
           "showlegend": true,
           "type": "scatter",
           "x": [
            2,
            112.88888888888889,
            223.77777777777777,
            334.66666666666663,
            445.55555555555554,
            556.4444444444445,
            667.3333333333333,
            778.2222222222222,
            889.1111111111111,
            1000
           ],
           "xaxis": "x",
           "y": [
            0.8278176487393928,
            0.9820221170316412,
            1.0058403382657757,
            1.0195905602978772,
            1.029255998879563,
            1.0366997689411481,
            1.042746793719797,
            1.047834843525272,
            1.0522240586555889,
            1.0560815743517296
           ],
           "yaxis": "y"
          },
          {
           "hovertemplate": "algo=one_pmw_per_block<br>block_size=200.0<br>exponent_size_limit=0.9<br>n_blocks=%{x}<br>error=%{y}<extra></extra>",
           "legendgroup": "one_pmw_per_block",
           "line": {
            "color": "#EF553B",
            "dash": "solid"
           },
           "marker": {
            "symbol": "circle"
           },
           "mode": "lines",
           "name": "one_pmw_per_block",
           "orientation": "v",
           "showlegend": false,
           "type": "scatter",
           "x": [
            2,
            112.88888888888889,
            223.77777777777777,
            334.66666666666663,
            445.55555555555554,
            556.4444444444445,
            667.3333333333333,
            778.2222222222222,
            889.1111111111111,
            1000
           ],
           "xaxis": "x2",
           "y": [
            0.7723811772502817,
            0.6121475972768946,
            0.5855275753307809,
            0.5701177469320069,
            0.5592850629228762,
            0.5509482661474855,
            0.5441825122895317,
            0.5384959893760466,
            0.5335960718237687,
            0.5292946027340779
           ],
           "yaxis": "y2"
          },
          {
           "hovertemplate": "algo=one_pmw_per_block<br>block_size=200.0<br>exponent_size_limit=0.5<br>n_blocks=%{x}<br>error=%{y}<extra></extra>",
           "legendgroup": "one_pmw_per_block",
           "line": {
            "color": "#EF553B",
            "dash": "solid"
           },
           "marker": {
            "symbol": "circle"
           },
           "mode": "lines",
           "name": "one_pmw_per_block",
           "orientation": "v",
           "showlegend": false,
           "type": "scatter",
           "x": [
            2,
            112.88888888888889,
            223.77777777777777,
            334.66666666666663,
            445.55555555555554,
            556.4444444444445,
            667.3333333333333,
            778.2222222222222,
            889.1111111111111,
            1000
           ],
           "xaxis": "x3",
           "y": [
            0.5853554730095281,
            0.0924263217158351,
            0.06723889539540183,
            0.05573391833822819,
            0.04876098559275217,
            0.043948301611296724,
            0.04036523209096682,
            0.037561335207783465,
            0.03528825708423887,
            0.03339623169887925
           ],
           "yaxis": "y3"
          },
          {
           "hovertemplate": "algo=tree_of_pmws<br>block_size=200.0<br>exponent_size_limit=1.0<br>n_blocks=%{x}<br>error=%{y}<extra></extra>",
           "legendgroup": "tree_of_pmws",
           "line": {
            "color": "#00cc96",
            "dash": "solid"
           },
           "marker": {
            "symbol": "circle"
           },
           "mode": "lines",
           "name": "tree_of_pmws",
           "orientation": "v",
           "showlegend": true,
           "type": "scatter",
           "x": [
            2,
            112.88888888888889,
            223.77777777777777,
            334.66666666666663,
            445.55555555555554,
            556.4444444444445,
            667.3333333333333,
            778.2222222222222,
            889.1111111111111,
            1000
           ],
           "xaxis": "x",
           "y": [
            3.419568120000888,
            0.9298509990702694,
            0.7026486772381546,
            0.5942746616142325,
            0.5269851789002125,
            0.4797661433581347,
            0.44416880375772044,
            0.4160328829545163,
            0.3930339935088154,
            0.37375531892039926
           ],
           "yaxis": "y"
          },
          {
           "hovertemplate": "algo=tree_of_pmws<br>block_size=200.0<br>exponent_size_limit=0.9<br>n_blocks=%{x}<br>error=%{y}<extra></extra>",
           "legendgroup": "tree_of_pmws",
           "line": {
            "color": "#00cc96",
            "dash": "solid"
           },
           "marker": {
            "symbol": "circle"
           },
           "mode": "lines",
           "name": "tree_of_pmws",
           "orientation": "v",
           "showlegend": false,
           "type": "scatter",
           "x": [
            2,
            112.88888888888889,
            223.77777777777777,
            334.66666666666663,
            445.55555555555554,
            556.4444444444445,
            667.3333333333333,
            778.2222222222222,
            889.1111111111111,
            1000
           ],
           "xaxis": "x2",
           "y": [
            3.1905698727683247,
            0.5796265125137149,
            0.4090312951675702,
            0.332296653510899,
            0.286357270942772,
            0.2549690206928518,
            0.2318001809885818,
            0.21380472342935403,
            0.19931248796712595,
            0.18732139434319384
           ],
           "yaxis": "y2"
          },
          {
           "hovertemplate": "algo=tree_of_pmws<br>block_size=200.0<br>exponent_size_limit=0.5<br>n_blocks=%{x}<br>error=%{y}<extra></extra>",
           "legendgroup": "tree_of_pmws",
           "line": {
            "color": "#00cc96",
            "dash": "solid"
           },
           "marker": {
            "symbol": "circle"
           },
           "mode": "lines",
           "name": "tree_of_pmws",
           "orientation": "v",
           "showlegend": false,
           "type": "scatter",
           "x": [
            2,
            112.88888888888889,
            223.77777777777777,
            334.66666666666663,
            445.55555555555554,
            556.4444444444445,
            667.3333333333333,
            778.2222222222222,
            889.1111111111111,
            1000
           ],
           "xaxis": "x3",
           "y": [
            2.4179998063819617,
            0.08751606109202355,
            0.04697099441248497,
            0.032484858874340036,
            0.024965913964961017,
            0.02033848931280015,
            0.01719398895228374,
            0.014913371769105748,
            0.0131811133681024,
            0.011819180953910866
           ],
           "yaxis": "y3"
          }
         ],
         "name": "200.0"
        },
        {
         "data": [
          {
           "hovertemplate": "algo=pmwg<br>block_size=300.0<br>exponent_size_limit=1.0<br>n_blocks=%{x}<br>error=%{y}<extra></extra>",
           "legendgroup": "pmwg",
           "line": {
            "color": "#636efa",
            "dash": "solid"
           },
           "marker": {
            "symbol": "circle"
           },
           "mode": "lines",
           "name": "pmwg",
           "orientation": "v",
           "showlegend": true,
           "type": "scatter",
           "x": [
            2,
            112.88888888888889,
            223.77777777777777,
            334.66666666666663,
            445.55555555555554,
            556.4444444444445,
            667.3333333333333,
            778.2222222222222,
            889.1111111111111,
            1000
           ],
           "xaxis": "x",
           "y": [
            0.7610648457920153,
            0.1060394638504529,
            0.06750122187980144,
            0.04861516709578549,
            0.03612334820637813,
            0.026372512150870893,
            0.017519306973513112,
            0.0064802335576775675,
            null,
            null
           ],
           "yaxis": "y"
          },
          {
           "hovertemplate": "algo=pmwg<br>block_size=300.0<br>exponent_size_limit=0.9<br>n_blocks=%{x}<br>error=%{y}<extra></extra>",
           "legendgroup": "pmwg",
           "line": {
            "color": "#636efa",
            "dash": "solid"
           },
           "marker": {
            "symbol": "circle"
           },
           "mode": "lines",
           "name": "pmwg",
           "orientation": "v",
           "showlegend": false,
           "type": "scatter",
           "x": [
            2,
            112.88888888888889,
            223.77777777777777,
            334.66666666666663,
            445.55555555555554,
            556.4444444444445,
            667.3333333333333,
            778.2222222222222,
            889.1111111111111,
            1000
           ],
           "xaxis": "x2",
           "y": [
            0.7610648457920153,
            0.1060394638504529,
            0.06750122187980144,
            0.04861516709578549,
            0.03612334820637813,
            0.026372512150870893,
            0.017519306973513112,
            0.0064802335576775675,
            null,
            null
           ],
           "yaxis": "y2"
          },
          {
           "hovertemplate": "algo=pmwg<br>block_size=300.0<br>exponent_size_limit=0.5<br>n_blocks=%{x}<br>error=%{y}<extra></extra>",
           "legendgroup": "pmwg",
           "line": {
            "color": "#636efa",
            "dash": "solid"
           },
           "marker": {
            "symbol": "circle"
           },
           "mode": "lines",
           "name": "pmwg",
           "orientation": "v",
           "showlegend": false,
           "type": "scatter",
           "x": [
            2,
            112.88888888888889,
            223.77777777777777,
            334.66666666666663,
            445.55555555555554,
            556.4444444444445,
            667.3333333333333,
            778.2222222222222,
            889.1111111111111,
            1000
           ],
           "xaxis": "x3",
           "y": [
            0.7610648457920153,
            0.1060394638504529,
            0.06750122187980144,
            0.04861516709578549,
            0.03612334820637813,
            0.026372512150870893,
            0.017519306973513112,
            0.0064802335576775675,
            null,
            null
           ],
           "yaxis": "y3"
          },
          {
           "hovertemplate": "algo=one_pmw_per_block<br>block_size=300.0<br>exponent_size_limit=1.0<br>n_blocks=%{x}<br>error=%{y}<extra></extra>",
           "legendgroup": "one_pmw_per_block",
           "line": {
            "color": "#EF553B",
            "dash": "solid"
           },
           "marker": {
            "symbol": "circle"
           },
           "mode": "lines",
           "name": "one_pmw_per_block",
           "orientation": "v",
           "showlegend": true,
           "type": "scatter",
           "x": [
            2,
            112.88888888888889,
            223.77777777777777,
            334.66666666666663,
            445.55555555555554,
            556.4444444444445,
            667.3333333333333,
            778.2222222222222,
            889.1111111111111,
            1000
           ],
           "xaxis": "x",
           "y": [
            0.6759102798273435,
            0.8018177009517423,
            0.8212651971531931,
            0.8324922064294012,
            0.8403840039845146,
            0.8464618167890111,
            0.8513991918455631,
            0.8555535671153234,
            0.8591373462621833,
            0.8622869946389573
           ],
           "yaxis": "y"
          },
          {
           "hovertemplate": "algo=one_pmw_per_block<br>block_size=300.0<br>exponent_size_limit=0.9<br>n_blocks=%{x}<br>error=%{y}<extra></extra>",
           "legendgroup": "one_pmw_per_block",
           "line": {
            "color": "#EF553B",
            "dash": "solid"
           },
           "marker": {
            "symbol": "circle"
           },
           "mode": "lines",
           "name": "one_pmw_per_block",
           "orientation": "v",
           "showlegend": false,
           "type": "scatter",
           "x": [
            2,
            112.88888888888889,
            223.77777777777777,
            334.66666666666663,
            445.55555555555554,
            556.4444444444445,
            667.3333333333333,
            778.2222222222222,
            889.1111111111111,
            1000
           ],
           "xaxis": "x2",
           "y": [
            0.6306465903977869,
            0.49981642019970707,
            0.4780812632964841,
            0.46549919109620225,
            0.4566543416404765,
            0.4498473755774808,
            0.44432316068506295,
            0.4396801341688351,
            0.4356793682405724,
            0.43216723343587365
           ],
           "yaxis": "y2"
          },
          {
           "hovertemplate": "algo=one_pmw_per_block<br>block_size=300.0<br>exponent_size_limit=0.5<br>n_blocks=%{x}<br>error=%{y}<extra></extra>",
           "legendgroup": "one_pmw_per_block",
           "line": {
            "color": "#EF553B",
            "dash": "solid"
           },
           "marker": {
            "symbol": "circle"
           },
           "mode": "lines",
           "name": "one_pmw_per_block",
           "orientation": "v",
           "showlegend": false,
           "type": "scatter",
           "x": [
            2,
            112.88888888888889,
            223.77777777777777,
            334.66666666666663,
            445.55555555555554,
            556.4444444444445,
            667.3333333333333,
            778.2222222222222,
            889.1111111111111,
            1000
           ],
           "xaxis": "x3",
           "y": [
            0.47794074233961154,
            0.07546577566870541,
            0.05490032819570261,
            0.04550655376486841,
            0.03981317801914825,
            0.03588363800320425,
            0.032958073990628535,
            0.030668701772235418,
            0.02881274125617964,
            0.027267908998005057
           ],
           "yaxis": "y3"
          },
          {
           "hovertemplate": "algo=tree_of_pmws<br>block_size=300.0<br>exponent_size_limit=1.0<br>n_blocks=%{x}<br>error=%{y}<extra></extra>",
           "legendgroup": "tree_of_pmws",
           "line": {
            "color": "#00cc96",
            "dash": "solid"
           },
           "marker": {
            "symbol": "circle"
           },
           "mode": "lines",
           "name": "tree_of_pmws",
           "orientation": "v",
           "showlegend": true,
           "type": "scatter",
           "x": [
            2,
            112.88888888888889,
            223.77777777777777,
            334.66666666666663,
            445.55555555555554,
            556.4444444444445,
            667.3333333333333,
            778.2222222222222,
            889.1111111111111,
            1000
           ],
           "xaxis": "x",
           "y": [
            2.792065678230177,
            0.7592201615131051,
            0.5737102425583426,
            0.48522322934000217,
            0.4302815967716095,
            0.39172741569679825,
            0.3626623096229369,
            0.3396894264858674,
            0.32091091188831783,
            0.3051699400020578
           ],
           "yaxis": "y"
          },
          {
           "hovertemplate": "algo=tree_of_pmws<br>block_size=300.0<br>exponent_size_limit=0.9<br>n_blocks=%{x}<br>error=%{y}<extra></extra>",
           "legendgroup": "tree_of_pmws",
           "line": {
            "color": "#00cc96",
            "dash": "solid"
           },
           "marker": {
            "symbol": "circle"
           },
           "mode": "lines",
           "name": "tree_of_pmws",
           "orientation": "v",
           "showlegend": false,
           "type": "scatter",
           "x": [
            2,
            112.88888888888889,
            223.77777777777777,
            334.66666666666663,
            445.55555555555554,
            556.4444444444445,
            667.3333333333333,
            778.2222222222222,
            889.1111111111111,
            1000
           ],
           "xaxis": "x2",
           "y": [
            2.605089392326347,
            0.47326306568251003,
            0.33397265399676057,
            0.27131908144537425,
            0.2338097326485678,
            0.20818133363820412,
            0.18926405523560513,
            0.17457082566626567,
            0.16273796496135687,
            0.15294727801583205
           ],
           "yaxis": "y2"
          },
          {
           "hovertemplate": "algo=tree_of_pmws<br>block_size=300.0<br>exponent_size_limit=0.5<br>n_blocks=%{x}<br>error=%{y}<extra></extra>",
           "legendgroup": "tree_of_pmws",
           "line": {
            "color": "#00cc96",
            "dash": "solid"
           },
           "marker": {
            "symbol": "circle"
           },
           "mode": "lines",
           "name": "tree_of_pmws",
           "orientation": "v",
           "showlegend": false,
           "type": "scatter",
           "x": [
            2,
            112.88888888888889,
            223.77777777777777,
            334.66666666666663,
            445.55555555555554,
            556.4444444444445,
            667.3333333333333,
            778.2222222222222,
            889.1111111111111,
            1000
           ],
           "xaxis": "x3",
           "y": [
            1.9742885745947754,
            0.07145656465789922,
            0.0383516563405693,
            0.026523776202818337,
            0.020384583392126437,
            0.016606306985136418,
            0.01403883319204877,
            0.012176717059578917,
            0.010762333997876353,
            0.009650320838234321
           ],
           "yaxis": "y3"
          }
         ],
         "name": "300.0"
        },
        {
         "data": [
          {
           "hovertemplate": "algo=pmwg<br>block_size=400.0<br>exponent_size_limit=1.0<br>n_blocks=%{x}<br>error=%{y}<extra></extra>",
           "legendgroup": "pmwg",
           "line": {
            "color": "#636efa",
            "dash": "solid"
           },
           "marker": {
            "symbol": "circle"
           },
           "mode": "lines",
           "name": "pmwg",
           "orientation": "v",
           "showlegend": true,
           "type": "scatter",
           "x": [
            2,
            112.88888888888889,
            223.77777777777777,
            334.66666666666663,
            445.55555555555554,
            556.4444444444445,
            667.3333333333333,
            778.2222222222222,
            889.1111111111111,
            1000
           ],
           "xaxis": "x",
           "y": [
            0.6702400456574573,
            0.09326568867713482,
            0.0595229724116594,
            0.04303417680682976,
            0.03217416831335543,
            0.023761727965840973,
            0.016257452620286203,
            0.007704434310638276,
            null,
            null
           ],
           "yaxis": "y"
          },
          {
           "hovertemplate": "algo=pmwg<br>block_size=400.0<br>exponent_size_limit=0.9<br>n_blocks=%{x}<br>error=%{y}<extra></extra>",
           "legendgroup": "pmwg",
           "line": {
            "color": "#636efa",
            "dash": "solid"
           },
           "marker": {
            "symbol": "circle"
           },
           "mode": "lines",
           "name": "pmwg",
           "orientation": "v",
           "showlegend": false,
           "type": "scatter",
           "x": [
            2,
            112.88888888888889,
            223.77777777777777,
            334.66666666666663,
            445.55555555555554,
            556.4444444444445,
            667.3333333333333,
            778.2222222222222,
            889.1111111111111,
            1000
           ],
           "xaxis": "x2",
           "y": [
            0.6702400456574573,
            0.09326568867713482,
            0.0595229724116594,
            0.04303417680682976,
            0.03217416831335543,
            0.023761727965840973,
            0.016257452620286203,
            0.007704434310638276,
            null,
            null
           ],
           "yaxis": "y2"
          },
          {
           "hovertemplate": "algo=pmwg<br>block_size=400.0<br>exponent_size_limit=0.5<br>n_blocks=%{x}<br>error=%{y}<extra></extra>",
           "legendgroup": "pmwg",
           "line": {
            "color": "#636efa",
            "dash": "solid"
           },
           "marker": {
            "symbol": "circle"
           },
           "mode": "lines",
           "name": "pmwg",
           "orientation": "v",
           "showlegend": false,
           "type": "scatter",
           "x": [
            2,
            112.88888888888889,
            223.77777777777777,
            334.66666666666663,
            445.55555555555554,
            556.4444444444445,
            667.3333333333333,
            778.2222222222222,
            889.1111111111111,
            1000
           ],
           "xaxis": "x3",
           "y": [
            0.6702400456574573,
            0.09326568867713482,
            0.0595229724116594,
            0.04303417680682976,
            0.03217416831335543,
            0.023761727965840973,
            0.016257452620286203,
            0.007704434310638276,
            null,
            null
           ],
           "yaxis": "y3"
          },
          {
           "hovertemplate": "algo=one_pmw_per_block<br>block_size=400.0<br>exponent_size_limit=1.0<br>n_blocks=%{x}<br>error=%{y}<extra></extra>",
           "legendgroup": "one_pmw_per_block",
           "line": {
            "color": "#EF553B",
            "dash": "solid"
           },
           "marker": {
            "symbol": "circle"
           },
           "mode": "lines",
           "name": "one_pmw_per_block",
           "orientation": "v",
           "showlegend": true,
           "type": "scatter",
           "x": [
            2,
            112.88888888888889,
            223.77777777777777,
            334.66666666666663,
            445.55555555555554,
            556.4444444444445,
            667.3333333333333,
            778.2222222222222,
            889.1111111111111,
            1000
           ],
           "xaxis": "x",
           "y": [
            0.5853554730095281,
            0.694394498228243,
            0.7112365239787007,
            0.7209593992204204,
            0.7277938963846726,
            0.7330574366728128,
            0.7373333288997985,
            0.7409311234202648,
            0.7440347672029984,
            0.746762442710273
           ],
           "yaxis": "y"
          },
          {
           "hovertemplate": "algo=one_pmw_per_block<br>block_size=400.0<br>exponent_size_limit=0.9<br>n_blocks=%{x}<br>error=%{y}<extra></extra>",
           "legendgroup": "one_pmw_per_block",
           "line": {
            "color": "#EF553B",
            "dash": "solid"
           },
           "marker": {
            "symbol": "circle"
           },
           "mode": "lines",
           "name": "one_pmw_per_block",
           "orientation": "v",
           "showlegend": false,
           "type": "scatter",
           "x": [
            2,
            112.88888888888889,
            223.77777777777777,
            334.66666666666663,
            445.55555555555554,
            556.4444444444445,
            667.3333333333333,
            778.2222222222222,
            889.1111111111111,
            1000
           ],
           "xaxis": "x2",
           "y": [
            0.5461559680945229,
            0.43285371712154397,
            0.41403051908811217,
            0.4031341249304181,
            0.3954742606091107,
            0.3895792550758577,
            0.38479514464305964,
            0.3807741657295616,
            0.3773094008010909,
            0.3742678028387062
           ],
           "yaxis": "y2"
          },
          {
           "hovertemplate": "algo=one_pmw_per_block<br>block_size=400.0<br>exponent_size_limit=0.5<br>n_blocks=%{x}<br>error=%{y}<extra></extra>",
           "legendgroup": "one_pmw_per_block",
           "line": {
            "color": "#EF553B",
            "dash": "solid"
           },
           "marker": {
            "symbol": "circle"
           },
           "mode": "lines",
           "name": "one_pmw_per_block",
           "orientation": "v",
           "showlegend": false,
           "type": "scatter",
           "x": [
            2,
            112.88888888888889,
            223.77777777777777,
            334.66666666666663,
            445.55555555555554,
            556.4444444444445,
            667.3333333333333,
            778.2222222222222,
            889.1111111111111,
            1000
           ],
           "xaxis": "x3",
           "y": [
            0.4139088243696964,
            0.06535527884539646,
            0.04754507889358156,
            0.03940983159905843,
            0.034479223569974606,
            0.031076142090979583,
            0.028542529335691482,
            0.026559874835844707,
            0.02495256588051953,
            0.023614701900354654
           ],
           "yaxis": "y3"
          },
          {
           "hovertemplate": "algo=tree_of_pmws<br>block_size=400.0<br>exponent_size_limit=1.0<br>n_blocks=%{x}<br>error=%{y}<extra></extra>",
           "legendgroup": "tree_of_pmws",
           "line": {
            "color": "#00cc96",
            "dash": "solid"
           },
           "marker": {
            "symbol": "circle"
           },
           "mode": "lines",
           "name": "tree_of_pmws",
           "orientation": "v",
           "showlegend": true,
           "type": "scatter",
           "x": [
            2,
            112.88888888888889,
            223.77777777777777,
            334.66666666666663,
            445.55555555555554,
            556.4444444444445,
            667.3333333333333,
            778.2222222222222,
            889.1111111111111,
            1000
           ],
           "xaxis": "x",
           "y": [
            2.417999806381961,
            0.6575039469356736,
            0.49684764446685686,
            0.4202156431147646,
            0.3726347935851461,
            0.33924589335225436,
            0.314074773128601,
            0.2941796727337277,
            0.27791700204691283,
            0.26428492051315505
           ],
           "yaxis": "y"
          },
          {
           "hovertemplate": "algo=tree_of_pmws<br>block_size=400.0<br>exponent_size_limit=0.9<br>n_blocks=%{x}<br>error=%{y}<extra></extra>",
           "legendgroup": "tree_of_pmws",
           "line": {
            "color": "#00cc96",
            "dash": "solid"
           },
           "marker": {
            "symbol": "circle"
           },
           "mode": "lines",
           "name": "tree_of_pmws",
           "orientation": "v",
           "showlegend": false,
           "type": "scatter",
           "x": [
            2,
            112.88888888888889,
            223.77777777777777,
            334.66666666666663,
            445.55555555555554,
            556.4444444444445,
            667.3333333333333,
            778.2222222222222,
            889.1111111111111,
            1000
           ],
           "xaxis": "x2",
           "y": [
            2.2560735928839826,
            0.40985783755395705,
            0.2892288025305052,
            0.2349692170631532,
            0.20248516812570758,
            0.18029032352440869,
            0.16390747985729523,
            0.15118276978661055,
            0.1409352118167169,
            0.13245622820139175
           ],
           "yaxis": "y2"
          },
          {
           "hovertemplate": "algo=tree_of_pmws<br>block_size=400.0<br>exponent_size_limit=0.5<br>n_blocks=%{x}<br>error=%{y}<extra></extra>",
           "legendgroup": "tree_of_pmws",
           "line": {
            "color": "#00cc96",
            "dash": "solid"
           },
           "marker": {
            "symbol": "circle"
           },
           "mode": "lines",
           "name": "tree_of_pmws",
           "orientation": "v",
           "showlegend": false,
           "type": "scatter",
           "x": [
            2,
            112.88888888888889,
            223.77777777777777,
            334.66666666666663,
            445.55555555555554,
            556.4444444444445,
            667.3333333333333,
            778.2222222222222,
            889.1111111111111,
            1000
           ],
           "xaxis": "x3",
           "y": [
            1.709784060000444,
            0.061883200260906025,
            0.03321350866814356,
            0.022970263995933833,
            0.01765356706314386,
            0.01438148371217111,
            0.012157986183806414,
            0.010545346308290694,
            0.00932045464617386,
            0.00835742300058126
           ],
           "yaxis": "y3"
          }
         ],
         "name": "400.0"
        },
        {
         "data": [
          {
           "hovertemplate": "algo=pmwg<br>block_size=500.0<br>exponent_size_limit=1.0<br>n_blocks=%{x}<br>error=%{y}<extra></extra>",
           "legendgroup": "pmwg",
           "line": {
            "color": "#636efa",
            "dash": "solid"
           },
           "marker": {
            "symbol": "circle"
           },
           "mode": "lines",
           "name": "pmwg",
           "orientation": "v",
           "showlegend": true,
           "type": "scatter",
           "x": [
            2,
            112.88888888888889,
            223.77777777777777,
            334.66666666666663,
            445.55555555555554,
            556.4444444444445,
            667.3333333333333,
            778.2222222222222,
            889.1111111111111,
            1000
           ],
           "xaxis": "x",
           "y": [
            0.6071645904846661,
            0.0844089115466978,
            0.053973800020540336,
            0.03913257134885572,
            0.029387725365747536,
            0.021879869694678884,
            0.015261600754008961,
            0.008065078195144501,
            null,
            null
           ],
           "yaxis": "y"
          },
          {
           "hovertemplate": "algo=pmwg<br>block_size=500.0<br>exponent_size_limit=0.9<br>n_blocks=%{x}<br>error=%{y}<extra></extra>",
           "legendgroup": "pmwg",
           "line": {
            "color": "#636efa",
            "dash": "solid"
           },
           "marker": {
            "symbol": "circle"
           },
           "mode": "lines",
           "name": "pmwg",
           "orientation": "v",
           "showlegend": false,
           "type": "scatter",
           "x": [
            2,
            112.88888888888889,
            223.77777777777777,
            334.66666666666663,
            445.55555555555554,
            556.4444444444445,
            667.3333333333333,
            778.2222222222222,
            889.1111111111111,
            1000
           ],
           "xaxis": "x2",
           "y": [
            0.6071645904846661,
            0.0844089115466978,
            0.053973800020540336,
            0.03913257134885572,
            0.029387725365747536,
            0.021879869694678884,
            0.015261600754008961,
            0.008065078195144501,
            null,
            null
           ],
           "yaxis": "y2"
          },
          {
           "hovertemplate": "algo=pmwg<br>block_size=500.0<br>exponent_size_limit=0.5<br>n_blocks=%{x}<br>error=%{y}<extra></extra>",
           "legendgroup": "pmwg",
           "line": {
            "color": "#636efa",
            "dash": "solid"
           },
           "marker": {
            "symbol": "circle"
           },
           "mode": "lines",
           "name": "pmwg",
           "orientation": "v",
           "showlegend": false,
           "type": "scatter",
           "x": [
            2,
            112.88888888888889,
            223.77777777777777,
            334.66666666666663,
            445.55555555555554,
            556.4444444444445,
            667.3333333333333,
            778.2222222222222,
            889.1111111111111,
            1000
           ],
           "xaxis": "x3",
           "y": [
            0.6071645904846661,
            0.0844089115466978,
            0.053973800020540336,
            0.03913257134885572,
            0.029387725365747536,
            0.021879869694678884,
            0.015261600754008961,
            0.008065078195144501,
            null,
            null
           ],
           "yaxis": "y3"
          },
          {
           "hovertemplate": "algo=one_pmw_per_block<br>block_size=500.0<br>exponent_size_limit=1.0<br>n_blocks=%{x}<br>error=%{y}<extra></extra>",
           "legendgroup": "one_pmw_per_block",
           "line": {
            "color": "#EF553B",
            "dash": "solid"
           },
           "marker": {
            "symbol": "circle"
           },
           "mode": "lines",
           "name": "one_pmw_per_block",
           "orientation": "v",
           "showlegend": true,
           "type": "scatter",
           "x": [
            2,
            112.88888888888889,
            223.77777777777777,
            334.66666666666663,
            445.55555555555554,
            556.4444444444445,
            667.3333333333333,
            778.2222222222222,
            889.1111111111111,
            1000
           ],
           "xaxis": "x",
           "y": [
            0.5235578514603393,
            0.6210853204960833,
            0.6361492862788136,
            0.6448456902697076,
            0.6509586503702265,
            0.6556665039248627,
            0.6594909781984639,
            0.6627089434451995,
            0.6654849268356542,
            0.6679246339775852
           ],
           "yaxis": "y"
          },
          {
           "hovertemplate": "algo=one_pmw_per_block<br>block_size=500.0<br>exponent_size_limit=0.9<br>n_blocks=%{x}<br>error=%{y}<extra></extra>",
           "legendgroup": "one_pmw_per_block",
           "line": {
            "color": "#EF553B",
            "dash": "solid"
           },
           "marker": {
            "symbol": "circle"
           },
           "mode": "lines",
           "name": "one_pmw_per_block",
           "orientation": "v",
           "showlegend": false,
           "type": "scatter",
           "x": [
            2,
            112.88888888888889,
            223.77777777777777,
            334.66666666666663,
            445.55555555555554,
            556.4444444444445,
            667.3333333333333,
            778.2222222222222,
            889.1111111111111,
            1000
           ],
           "xaxis": "x2",
           "y": [
            0.4884967483906238,
            0.38715613431889473,
            0.3703201541762172,
            0.36057412295772306,
            0.3537229320293755,
            0.3484502787893392,
            0.34417124033349816,
            0.34057476745882825,
            0.3374757874963811,
            0.3347552995747344
           ],
           "yaxis": "y2"
          },
          {
           "hovertemplate": "algo=one_pmw_per_block<br>block_size=500.0<br>exponent_size_limit=0.5<br>n_blocks=%{x}<br>error=%{y}<extra></extra>",
           "legendgroup": "one_pmw_per_block",
           "line": {
            "color": "#EF553B",
            "dash": "solid"
           },
           "marker": {
            "symbol": "circle"
           },
           "mode": "lines",
           "name": "one_pmw_per_block",
           "orientation": "v",
           "showlegend": false,
           "type": "scatter",
           "x": [
            2,
            112.88888888888889,
            223.77777777777777,
            334.66666666666663,
            445.55555555555554,
            556.4444444444445,
            667.3333333333333,
            778.2222222222222,
            889.1111111111111,
            1000
           ],
           "xaxis": "x3",
           "y": [
            0.3702113071110651,
            0.05845553847470418,
            0.04252561136065554,
            0.03524922497492555,
            0.030839155085550473,
            0.027795346477549124,
            0.025529214337755228,
            0.023755874242733937,
            0.022318253408753423,
            0.02112163148703459
           ],
           "yaxis": "y3"
          },
          {
           "hovertemplate": "algo=tree_of_pmws<br>block_size=500.0<br>exponent_size_limit=1.0<br>n_blocks=%{x}<br>error=%{y}<extra></extra>",
           "legendgroup": "tree_of_pmws",
           "line": {
            "color": "#00cc96",
            "dash": "solid"
           },
           "marker": {
            "symbol": "circle"
           },
           "mode": "lines",
           "name": "tree_of_pmws",
           "orientation": "v",
           "showlegend": true,
           "type": "scatter",
           "x": [
            2,
            112.88888888888889,
            223.77777777777777,
            334.66666666666663,
            445.55555555555554,
            556.4444444444445,
            667.3333333333333,
            778.2222222222222,
            889.1111111111111,
            1000
           ],
           "xaxis": "x",
           "y": [
            2.1627247746605582,
            0.5880894083290322,
            0.4443940429954157,
            0.37585229728536207,
            0.3332946916951957,
            0.30343075144931386,
            0.2809170170933505,
            0.2631222983325026,
            0.24857652347193812,
            0.2363836190782173
           ],
           "yaxis": "y"
          },
          {
           "hovertemplate": "algo=tree_of_pmws<br>block_size=500.0<br>exponent_size_limit=0.9<br>n_blocks=%{x}<br>error=%{y}<extra></extra>",
           "legendgroup": "tree_of_pmws",
           "line": {
            "color": "#00cc96",
            "dash": "solid"
           },
           "marker": {
            "symbol": "circle"
           },
           "mode": "lines",
           "name": "tree_of_pmws",
           "orientation": "v",
           "showlegend": false,
           "type": "scatter",
           "x": [
            2,
            112.88888888888889,
            223.77777777777777,
            334.66666666666663,
            445.55555555555554,
            556.4444444444445,
            667.3333333333333,
            778.2222222222222,
            889.1111111111111,
            1000
           ],
           "xaxis": "x2",
           "y": [
            2.0178935663723085,
            0.36658799435268563,
            0.25869410540362914,
            0.21016285678924565,
            0.18110824014582233,
            0.16125656763440288,
            0.1466033067926359,
            0.13522198010782502,
            0.12605628561820426,
            0.11847245212061465
           ],
           "yaxis": "y2"
          },
          {
           "hovertemplate": "algo=tree_of_pmws<br>block_size=500.0<br>exponent_size_limit=0.5<br>n_blocks=%{x}<br>error=%{y}<extra></extra>",
           "legendgroup": "tree_of_pmws",
           "line": {
            "color": "#00cc96",
            "dash": "solid"
           },
           "marker": {
            "symbol": "circle"
           },
           "mode": "lines",
           "name": "tree_of_pmws",
           "orientation": "v",
           "showlegend": false,
           "type": "scatter",
           "x": [
            2,
            112.88888888888889,
            223.77777777777777,
            334.66666666666663,
            445.55555555555554,
            556.4444444444445,
            667.3333333333333,
            778.2222222222222,
            889.1111111111111,
            1000
           ],
           "xaxis": "x3",
           "y": [
            1.5292773540026288,
            0.05535001697944743,
            0.029707065261298998,
            0.0205452287024096,
            0.015789830399416397,
            0.012863190079088248,
            0.01087443343059776,
            0.009432044476645777,
            0.0083364680680194,
            0.007475106378407984
           ],
           "yaxis": "y3"
          }
         ],
         "name": "500.0"
        },
        {
         "data": [
          {
           "hovertemplate": "algo=pmwg<br>block_size=600.0<br>exponent_size_limit=1.0<br>n_blocks=%{x}<br>error=%{y}<extra></extra>",
           "legendgroup": "pmwg",
           "line": {
            "color": "#636efa",
            "dash": "solid"
           },
           "marker": {
            "symbol": "circle"
           },
           "mode": "lines",
           "name": "pmwg",
           "orientation": "v",
           "showlegend": true,
           "type": "scatter",
           "x": [
            2,
            112.88888888888889,
            223.77777777777777,
            334.66666666666663,
            445.55555555555554,
            556.4444444444445,
            667.3333333333333,
            778.2222222222222,
            889.1111111111111,
            1000
           ],
           "xaxis": "x",
           "y": [
            0.559968642081528,
            0.07778989865319086,
            0.0498168001060933,
            0.03619865218934801,
            0.02727819550300797,
            0.020433753853482207,
            0.014452724476370303,
            0.008142720055896686,
            null,
            null
           ],
           "yaxis": "y"
          },
          {
           "hovertemplate": "algo=pmwg<br>block_size=600.0<br>exponent_size_limit=0.9<br>n_blocks=%{x}<br>error=%{y}<extra></extra>",
           "legendgroup": "pmwg",
           "line": {
            "color": "#636efa",
            "dash": "solid"
           },
           "marker": {
            "symbol": "circle"
           },
           "mode": "lines",
           "name": "pmwg",
           "orientation": "v",
           "showlegend": false,
           "type": "scatter",
           "x": [
            2,
            112.88888888888889,
            223.77777777777777,
            334.66666666666663,
            445.55555555555554,
            556.4444444444445,
            667.3333333333333,
            778.2222222222222,
            889.1111111111111,
            1000
           ],
           "xaxis": "x2",
           "y": [
            0.559968642081528,
            0.07778989865319086,
            0.0498168001060933,
            0.03619865218934801,
            0.02727819550300797,
            0.020433753853482207,
            0.014452724476370303,
            0.008142720055896686,
            null,
            null
           ],
           "yaxis": "y2"
          },
          {
           "hovertemplate": "algo=pmwg<br>block_size=600.0<br>exponent_size_limit=0.5<br>n_blocks=%{x}<br>error=%{y}<extra></extra>",
           "legendgroup": "pmwg",
           "line": {
            "color": "#636efa",
            "dash": "solid"
           },
           "marker": {
            "symbol": "circle"
           },
           "mode": "lines",
           "name": "pmwg",
           "orientation": "v",
           "showlegend": false,
           "type": "scatter",
           "x": [
            2,
            112.88888888888889,
            223.77777777777777,
            334.66666666666663,
            445.55555555555554,
            556.4444444444445,
            667.3333333333333,
            778.2222222222222,
            889.1111111111111,
            1000
           ],
           "xaxis": "x3",
           "y": [
            0.559968642081528,
            0.07778989865319086,
            0.0498168001060933,
            0.03619865218934801,
            0.02727819550300797,
            0.020433753853482207,
            0.014452724476370303,
            0.008142720055896686,
            null,
            null
           ],
           "yaxis": "y3"
          },
          {
           "hovertemplate": "algo=one_pmw_per_block<br>block_size=600.0<br>exponent_size_limit=1.0<br>n_blocks=%{x}<br>error=%{y}<extra></extra>",
           "legendgroup": "one_pmw_per_block",
           "line": {
            "color": "#EF553B",
            "dash": "solid"
           },
           "marker": {
            "symbol": "circle"
           },
           "mode": "lines",
           "name": "one_pmw_per_block",
           "orientation": "v",
           "showlegend": true,
           "type": "scatter",
           "x": [
            2,
            112.88888888888889,
            223.77777777777777,
            334.66666666666663,
            445.55555555555554,
            556.4444444444445,
            667.3333333333333,
            778.2222222222222,
            889.1111111111111,
            1000
           ],
           "xaxis": "x",
           "y": [
            0.4779407423396115,
            0.5669707336183842,
            0.5807221900595297,
            0.5886608844511807,
            0.5942412280181528,
            0.5985388906669947,
            0.602030142050744,
            0.6049677289755852,
            0.6075018435126047,
            0.6097289812381749
           ],
           "yaxis": "y"
          },
          {
           "hovertemplate": "algo=one_pmw_per_block<br>block_size=600.0<br>exponent_size_limit=0.9<br>n_blocks=%{x}<br>error=%{y}<extra></extra>",
           "legendgroup": "one_pmw_per_block",
           "line": {
            "color": "#EF553B",
            "dash": "solid"
           },
           "marker": {
            "symbol": "circle"
           },
           "mode": "lines",
           "name": "one_pmw_per_block",
           "orientation": "v",
           "showlegend": false,
           "type": "scatter",
           "x": [
            2,
            112.88888888888889,
            223.77777777777777,
            334.66666666666663,
            445.55555555555554,
            556.4444444444445,
            667.3333333333333,
            778.2222222222222,
            889.1111111111111,
            1000
           ],
           "xaxis": "x2",
           "y": [
            0.44593448060245017,
            0.35342358007159774,
            0.33805450323517516,
            0.32915763466097714,
            0.3229033816322593,
            0.3180901297698083,
            0.31418391995864803,
            0.3109008044237943,
            0.3080718357059797,
            0.3055883813691359
           ],
           "yaxis": "y2"
          },
          {
           "hovertemplate": "algo=one_pmw_per_block<br>block_size=600.0<br>exponent_size_limit=0.5<br>n_blocks=%{x}<br>error=%{y}<extra></extra>",
           "legendgroup": "one_pmw_per_block",
           "line": {
            "color": "#EF553B",
            "dash": "solid"
           },
           "marker": {
            "symbol": "circle"
           },
           "mode": "lines",
           "name": "one_pmw_per_block",
           "orientation": "v",
           "showlegend": false,
           "type": "scatter",
           "x": [
            2,
            112.88888888888889,
            223.77777777777777,
            334.66666666666663,
            445.55555555555554,
            556.4444444444445,
            667.3333333333333,
            778.2222222222222,
            889.1111111111111,
            1000
           ],
           "xaxis": "x3",
           "y": [
            0.33795513991367176,
            0.05336236172284436,
            0.038820394356548334,
            0.03217799275556866,
            0.028152168157926923,
            0.025373563765709026,
            0.023304877613621416,
            0.02168604699333555,
            0.020373684726818025,
            0.01928132336126705
           ],
           "yaxis": "y3"
          },
          {
           "hovertemplate": "algo=tree_of_pmws<br>block_size=600.0<br>exponent_size_limit=1.0<br>n_blocks=%{x}<br>error=%{y}<extra></extra>",
           "legendgroup": "tree_of_pmws",
           "line": {
            "color": "#00cc96",
            "dash": "solid"
           },
           "marker": {
            "symbol": "circle"
           },
           "mode": "lines",
           "name": "tree_of_pmws",
           "orientation": "v",
           "showlegend": true,
           "type": "scatter",
           "x": [
            2,
            112.88888888888889,
            223.77777777777777,
            334.66666666666663,
            445.55555555555554,
            556.4444444444445,
            667.3333333333333,
            778.2222222222222,
            889.1111111111111,
            1000
           ],
           "xaxis": "x",
           "y": [
            1.974288574594775,
            0.5368497246194625,
            0.40567440294918305,
            0.3431046358555509,
            0.30425503489698075,
            0.27699311201588767,
            0.25644097841515395,
            0.24019669696552606,
            0.2269182819529882,
            0.21578773398974693
           ],
           "yaxis": "y"
          },
          {
           "hovertemplate": "algo=tree_of_pmws<br>block_size=600.0<br>exponent_size_limit=0.9<br>n_blocks=%{x}<br>error=%{y}<extra></extra>",
           "legendgroup": "tree_of_pmws",
           "line": {
            "color": "#00cc96",
            "dash": "solid"
           },
           "marker": {
            "symbol": "circle"
           },
           "mode": "lines",
           "name": "tree_of_pmws",
           "orientation": "v",
           "showlegend": false,
           "type": "scatter",
           "x": [
            2,
            112.88888888888889,
            223.77777777777777,
            334.66666666666663,
            445.55555555555554,
            556.4444444444445,
            667.3333333333333,
            778.2222222222222,
            889.1111111111111,
            1000
           ],
           "xaxis": "x2",
           "y": [
            1.8420763749111022,
            0.3346475230292373,
            0.23615432837197792,
            0.19185156235532932,
            0.165328447463216,
            0.14720643273203327,
            0.13382989689196167,
            0.12344021462595103,
            0.1150731185806742,
            0.108150057449019
           ],
           "yaxis": "y2"
          },
          {
           "hovertemplate": "algo=tree_of_pmws<br>block_size=600.0<br>exponent_size_limit=0.5<br>n_blocks=%{x}<br>error=%{y}<extra></extra>",
           "legendgroup": "tree_of_pmws",
           "line": {
            "color": "#00cc96",
            "dash": "solid"
           },
           "marker": {
            "symbol": "circle"
           },
           "mode": "lines",
           "name": "tree_of_pmws",
           "orientation": "v",
           "showlegend": false,
           "type": "scatter",
           "x": [
            2,
            112.88888888888889,
            223.77777777777777,
            334.66666666666663,
            445.55555555555554,
            556.4444444444445,
            667.3333333333333,
            778.2222222222222,
            889.1111111111111,
            1000
           ],
           "xaxis": "x3",
           "y": [
            1.3960328391150885,
            0.050527421429895525,
            0.027118716268152605,
            0.01875514201568722,
            0.014414077148235279,
            0.011742432279655494,
            0.009926954150044468,
            0.008610239205418169,
            0.007610119351292896,
            0.006823807305341336
           ],
           "yaxis": "y3"
          }
         ],
         "name": "600.0"
        },
        {
         "data": [
          {
           "hovertemplate": "algo=pmwg<br>block_size=700.0<br>exponent_size_limit=1.0<br>n_blocks=%{x}<br>error=%{y}<extra></extra>",
           "legendgroup": "pmwg",
           "line": {
            "color": "#636efa",
            "dash": "solid"
           },
           "marker": {
            "symbol": "circle"
           },
           "mode": "lines",
           "name": "pmwg",
           "orientation": "v",
           "showlegend": true,
           "type": "scatter",
           "x": [
            2,
            112.88888888888889,
            223.77777777777777,
            334.66666666666663,
            445.55555555555554,
            556.4444444444445,
            667.3333333333333,
            778.2222222222222,
            889.1111111111111,
            1000
           ],
           "xaxis": "x",
           "y": [
            0.5228804504326612,
            0.0725934749210311,
            0.046547012995813375,
            0.03388394186606547,
            0.025605120656714275,
            0.019273868968964773,
            0.013778713876199214,
            0.008104695406030446,
            null,
            null
           ],
           "yaxis": "y"
          },
          {
           "hovertemplate": "algo=pmwg<br>block_size=700.0<br>exponent_size_limit=0.9<br>n_blocks=%{x}<br>error=%{y}<extra></extra>",
           "legendgroup": "pmwg",
           "line": {
            "color": "#636efa",
            "dash": "solid"
           },
           "marker": {
            "symbol": "circle"
           },
           "mode": "lines",
           "name": "pmwg",
           "orientation": "v",
           "showlegend": false,
           "type": "scatter",
           "x": [
            2,
            112.88888888888889,
            223.77777777777777,
            334.66666666666663,
            445.55555555555554,
            556.4444444444445,
            667.3333333333333,
            778.2222222222222,
            889.1111111111111,
            1000
           ],
           "xaxis": "x2",
           "y": [
            0.5228804504326612,
            0.0725934749210311,
            0.046547012995813375,
            0.03388394186606547,
            0.025605120656714275,
            0.019273868968964773,
            0.013778713876199214,
            0.008104695406030446,
            null,
            null
           ],
           "yaxis": "y2"
          },
          {
           "hovertemplate": "algo=pmwg<br>block_size=700.0<br>exponent_size_limit=0.5<br>n_blocks=%{x}<br>error=%{y}<extra></extra>",
           "legendgroup": "pmwg",
           "line": {
            "color": "#636efa",
            "dash": "solid"
           },
           "marker": {
            "symbol": "circle"
           },
           "mode": "lines",
           "name": "pmwg",
           "orientation": "v",
           "showlegend": false,
           "type": "scatter",
           "x": [
            2,
            112.88888888888889,
            223.77777777777777,
            334.66666666666663,
            445.55555555555554,
            556.4444444444445,
            667.3333333333333,
            778.2222222222222,
            889.1111111111111,
            1000
           ],
           "xaxis": "x3",
           "y": [
            0.5228804504326612,
            0.0725934749210311,
            0.046547012995813375,
            0.03388394186606547,
            0.025605120656714275,
            0.019273868968964773,
            0.013778713876199214,
            0.008104695406030446,
            null,
            null
           ],
           "yaxis": "y3"
          },
          {
           "hovertemplate": "algo=one_pmw_per_block<br>block_size=700.0<br>exponent_size_limit=1.0<br>n_blocks=%{x}<br>error=%{y}<extra></extra>",
           "legendgroup": "one_pmw_per_block",
           "line": {
            "color": "#EF553B",
            "dash": "solid"
           },
           "marker": {
            "symbol": "circle"
           },
           "mode": "lines",
           "name": "one_pmw_per_block",
           "orientation": "v",
           "showlegend": true,
           "type": "scatter",
           "x": [
            2,
            112.88888888888889,
            223.77777777777777,
            334.66666666666663,
            445.55555555555554,
            556.4444444444445,
            667.3333333333333,
            778.2222222222222,
            889.1111111111111,
            1000
           ],
           "xaxis": "x",
           "y": [
            0.4424871457582264,
            0.5249129011666892,
            0.5376442759410485,
            0.5449940787747906,
            0.5501604730127297,
            0.5541393354750693,
            0.5573716061795031,
            0.5600912831993502,
            0.5624374173728487,
            0.5644993462441432
           ],
           "yaxis": "y"
          },
          {
           "hovertemplate": "algo=one_pmw_per_block<br>block_size=700.0<br>exponent_size_limit=0.9<br>n_blocks=%{x}<br>error=%{y}<extra></extra>",
           "legendgroup": "one_pmw_per_block",
           "line": {
            "color": "#EF553B",
            "dash": "solid"
           },
           "marker": {
            "symbol": "circle"
           },
           "mode": "lines",
           "name": "one_pmw_per_block",
           "orientation": "v",
           "showlegend": false,
           "type": "scatter",
           "x": [
            2,
            112.88888888888889,
            223.77777777777777,
            334.66666666666663,
            445.55555555555554,
            556.4444444444445,
            667.3333333333333,
            778.2222222222222,
            889.1111111111111,
            1000
           ],
           "xaxis": "x2",
           "y": [
            0.4128551053233813,
            0.32720665416385897,
            0.3129776539137502,
            0.3047407541627229,
            0.29895044099967255,
            0.2944942356801478,
            0.29087778812304677,
            0.2878382137710038,
            0.2852190976704232,
            0.2829198657285059
           ],
           "yaxis": "y2"
          },
          {
           "hovertemplate": "algo=one_pmw_per_block<br>block_size=700.0<br>exponent_size_limit=0.5<br>n_blocks=%{x}<br>error=%{y}<extra></extra>",
           "legendgroup": "one_pmw_per_block",
           "line": {
            "color": "#EF553B",
            "dash": "solid"
           },
           "marker": {
            "symbol": "circle"
           },
           "mode": "lines",
           "name": "one_pmw_per_block",
           "orientation": "v",
           "showlegend": false,
           "type": "scatter",
           "x": [
            2,
            112.88888888888889,
            223.77777777777777,
            334.66666666666663,
            445.55555555555554,
            556.4444444444445,
            667.3333333333333,
            778.2222222222222,
            889.1111111111111,
            1000
           ],
           "xaxis": "x3",
           "y": [
            0.3128856613535222,
            0.04940394705434274,
            0.03594070137638937,
            0.02979103246344102,
            0.02606384313278555,
            0.023491355337153928,
            0.021576124117430078,
            0.02007737819104216,
            0.018862366826517173,
            0.01785103671807509
           ],
           "yaxis": "y3"
          },
          {
           "hovertemplate": "algo=tree_of_pmws<br>block_size=700.0<br>exponent_size_limit=1.0<br>n_blocks=%{x}<br>error=%{y}<extra></extra>",
           "legendgroup": "tree_of_pmws",
           "line": {
            "color": "#00cc96",
            "dash": "solid"
           },
           "marker": {
            "symbol": "circle"
           },
           "mode": "lines",
           "name": "tree_of_pmws",
           "orientation": "v",
           "showlegend": true,
           "type": "scatter",
           "x": [
            2,
            112.88888888888889,
            223.77777777777777,
            334.66666666666663,
            445.55555555555554,
            556.4444444444445,
            667.3333333333333,
            778.2222222222222,
            889.1111111111111,
            1000
           ],
           "xaxis": "x",
           "y": [
            1.827836045111143,
            0.4970262656100576,
            0.3755815162135829,
            0.31765316820021106,
            0.2816854267646238,
            0.25644579060285866,
            0.23741821222208856,
            0.22237892994966066,
            0.21008550643793147,
            0.1997806214120803
           ],
           "yaxis": "y"
          },
          {
           "hovertemplate": "algo=tree_of_pmws<br>block_size=700.0<br>exponent_size_limit=0.9<br>n_blocks=%{x}<br>error=%{y}<extra></extra>",
           "legendgroup": "tree_of_pmws",
           "line": {
            "color": "#00cc96",
            "dash": "solid"
           },
           "marker": {
            "symbol": "circle"
           },
           "mode": "lines",
           "name": "tree_of_pmws",
           "orientation": "v",
           "showlegend": false,
           "type": "scatter",
           "x": [
            2,
            112.88888888888889,
            223.77777777777777,
            334.66666666666663,
            445.55555555555554,
            556.4444444444445,
            667.3333333333333,
            778.2222222222222,
            889.1111111111111,
            1000
           ],
           "xaxis": "x2",
           "y": [
            1.7054313332088566,
            0.3098234031595657,
            0.21863642385506446,
            0.17762003260133089,
            0.15306439972563568,
            0.13628667423913243,
            0.12390240849306623,
            0.11428343182094317,
            0.10653700612549843,
            0.10012749697785794
           ],
           "yaxis": "y2"
          },
          {
           "hovertemplate": "algo=tree_of_pmws<br>block_size=700.0<br>exponent_size_limit=0.5<br>n_blocks=%{x}<br>error=%{y}<extra></extra>",
           "legendgroup": "tree_of_pmws",
           "line": {
            "color": "#00cc96",
            "dash": "solid"
           },
           "marker": {
            "symbol": "circle"
           },
           "mode": "lines",
           "name": "tree_of_pmws",
           "orientation": "v",
           "showlegend": false,
           "type": "scatter",
           "x": [
            2,
            112.88888888888889,
            223.77777777777777,
            334.66666666666663,
            445.55555555555554,
            556.4444444444445,
            667.3333333333333,
            778.2222222222222,
            889.1111111111111,
            1000
           ],
           "xaxis": "x3",
           "y": [
            1.2924752623952895,
            0.04677930234947564,
            0.02510705260108456,
            0.017363887452211915,
            0.01334484234350844,
            0.010871379824723078,
            0.009190573681631713,
            0.007971532520225784,
            0.007045601457095013,
            0.006317617960259781
           ],
           "yaxis": "y3"
          }
         ],
         "name": "700.0"
        },
        {
         "data": [
          {
           "hovertemplate": "algo=pmwg<br>block_size=800.0<br>exponent_size_limit=1.0<br>n_blocks=%{x}<br>error=%{y}<extra></extra>",
           "legendgroup": "pmwg",
           "line": {
            "color": "#636efa",
            "dash": "solid"
           },
           "marker": {
            "symbol": "circle"
           },
           "mode": "lines",
           "name": "pmwg",
           "orientation": "v",
           "showlegend": true,
           "type": "scatter",
           "x": [
            2,
            112.88888888888889,
            223.77777777777777,
            334.66666666666663,
            445.55555555555554,
            556.4444444444445,
            667.3333333333333,
            778.2222222222222,
            889.1111111111111,
            1000
           ],
           "xaxis": "x",
           "y": [
            0.4927049453447284,
            0.06836896298262232,
            0.043884577841067876,
            0.03199450041918342,
            0.024233595944253748,
            0.018314544164282534,
            0.013205272015915396,
            0.008015087504912245,
            null,
            null
           ],
           "yaxis": "y"
          },
          {
           "hovertemplate": "algo=pmwg<br>block_size=800.0<br>exponent_size_limit=0.9<br>n_blocks=%{x}<br>error=%{y}<extra></extra>",
           "legendgroup": "pmwg",
           "line": {
            "color": "#636efa",
            "dash": "solid"
           },
           "marker": {
            "symbol": "circle"
           },
           "mode": "lines",
           "name": "pmwg",
           "orientation": "v",
           "showlegend": false,
           "type": "scatter",
           "x": [
            2,
            112.88888888888889,
            223.77777777777777,
            334.66666666666663,
            445.55555555555554,
            556.4444444444445,
            667.3333333333333,
            778.2222222222222,
            889.1111111111111,
            1000
           ],
           "xaxis": "x2",
           "y": [
            0.4927049453447284,
            0.06836896298262232,
            0.043884577841067876,
            0.03199450041918342,
            0.024233595944253748,
            0.018314544164282534,
            0.013205272015915396,
            0.008015087504912245,
            null,
            null
           ],
           "yaxis": "y2"
          },
          {
           "hovertemplate": "algo=pmwg<br>block_size=800.0<br>exponent_size_limit=0.5<br>n_blocks=%{x}<br>error=%{y}<extra></extra>",
           "legendgroup": "pmwg",
           "line": {
            "color": "#636efa",
            "dash": "solid"
           },
           "marker": {
            "symbol": "circle"
           },
           "mode": "lines",
           "name": "pmwg",
           "orientation": "v",
           "showlegend": false,
           "type": "scatter",
           "x": [
            2,
            112.88888888888889,
            223.77777777777777,
            334.66666666666663,
            445.55555555555554,
            556.4444444444445,
            667.3333333333333,
            778.2222222222222,
            889.1111111111111,
            1000
           ],
           "xaxis": "x3",
           "y": [
            0.4927049453447284,
            0.06836896298262232,
            0.043884577841067876,
            0.03199450041918342,
            0.024233595944253748,
            0.018314544164282534,
            0.013205272015915396,
            0.008015087504912245,
            null,
            null
           ],
           "yaxis": "y3"
          },
          {
           "hovertemplate": "algo=one_pmw_per_block<br>block_size=800.0<br>exponent_size_limit=1.0<br>n_blocks=%{x}<br>error=%{y}<extra></extra>",
           "legendgroup": "one_pmw_per_block",
           "line": {
            "color": "#EF553B",
            "dash": "solid"
           },
           "marker": {
            "symbol": "circle"
           },
           "mode": "lines",
           "name": "one_pmw_per_block",
           "orientation": "v",
           "showlegend": true,
           "type": "scatter",
           "x": [
            2,
            112.88888888888889,
            223.77777777777777,
            334.66666666666663,
            445.55555555555554,
            556.4444444444445,
            667.3333333333333,
            778.2222222222222,
            889.1111111111111,
            1000
           ],
           "xaxis": "x",
           "y": [
            0.4139088243696964,
            0.4910110585158206,
            0.5029201691328878,
            0.5097952801489386,
            0.5146279994397815,
            0.5183498844705741,
            0.5213733968598985,
            0.523917421762636,
            0.5261120293277944,
            0.5280407871758648
           ],
           "yaxis": "y"
          },
          {
           "hovertemplate": "algo=one_pmw_per_block<br>block_size=800.0<br>exponent_size_limit=0.9<br>n_blocks=%{x}<br>error=%{y}<extra></extra>",
           "legendgroup": "one_pmw_per_block",
           "line": {
            "color": "#EF553B",
            "dash": "solid"
           },
           "marker": {
            "symbol": "circle"
           },
           "mode": "lines",
           "name": "one_pmw_per_block",
           "orientation": "v",
           "showlegend": false,
           "type": "scatter",
           "x": [
            2,
            112.88888888888889,
            223.77777777777777,
            334.66666666666663,
            445.55555555555554,
            556.4444444444445,
            667.3333333333333,
            778.2222222222222,
            889.1111111111111,
            1000
           ],
           "xaxis": "x2",
           "y": [
            0.38619058862514083,
            0.3060737986384473,
            0.29276378766539046,
            0.28505887346600345,
            0.2796425314614381,
            0.27547413307374274,
            0.27209125614476587,
            0.2692479946880233,
            0.26679803591188433,
            0.26464730136703896
           ],
           "yaxis": "y2"
          },
          {
           "hovertemplate": "algo=one_pmw_per_block<br>block_size=800.0<br>exponent_size_limit=0.5<br>n_blocks=%{x}<br>error=%{y}<extra></extra>",
           "legendgroup": "one_pmw_per_block",
           "line": {
            "color": "#EF553B",
            "dash": "solid"
           },
           "marker": {
            "symbol": "circle"
           },
           "mode": "lines",
           "name": "one_pmw_per_block",
           "orientation": "v",
           "showlegend": false,
           "type": "scatter",
           "x": [
            2,
            112.88888888888889,
            223.77777777777777,
            334.66666666666663,
            445.55555555555554,
            556.4444444444445,
            667.3333333333333,
            778.2222222222222,
            889.1111111111111,
            1000
           ],
           "xaxis": "x3",
           "y": [
            0.29267773650476403,
            0.04621316085791755,
            0.033619447697700915,
            0.027866959169114094,
            0.024380492796376083,
            0.021974150805648362,
            0.02018261604548341,
            0.018780667603891733,
            0.017644128542119435,
            0.016698115849439626
           ],
           "yaxis": "y3"
          },
          {
           "hovertemplate": "algo=tree_of_pmws<br>block_size=800.0<br>exponent_size_limit=1.0<br>n_blocks=%{x}<br>error=%{y}<extra></extra>",
           "legendgroup": "tree_of_pmws",
           "line": {
            "color": "#00cc96",
            "dash": "solid"
           },
           "marker": {
            "symbol": "circle"
           },
           "mode": "lines",
           "name": "tree_of_pmws",
           "orientation": "v",
           "showlegend": true,
           "type": "scatter",
           "x": [
            2,
            112.88888888888889,
            223.77777777777777,
            334.66666666666663,
            445.55555555555554,
            556.4444444444445,
            667.3333333333333,
            778.2222222222222,
            889.1111111111111,
            1000
           ],
           "xaxis": "x",
           "y": [
            1.709784060000444,
            0.4649254995351347,
            0.3513243386190773,
            0.29713733080711624,
            0.26349258945010623,
            0.23988307167906736,
            0.22208440187886022,
            0.20801644147725815,
            0.1965169967544077,
            0.18687765946019963
           ],
           "yaxis": "y"
          },
          {
           "hovertemplate": "algo=tree_of_pmws<br>block_size=800.0<br>exponent_size_limit=0.9<br>n_blocks=%{x}<br>error=%{y}<extra></extra>",
           "legendgroup": "tree_of_pmws",
           "line": {
            "color": "#00cc96",
            "dash": "solid"
           },
           "marker": {
            "symbol": "circle"
           },
           "mode": "lines",
           "name": "tree_of_pmws",
           "orientation": "v",
           "showlegend": false,
           "type": "scatter",
           "x": [
            2,
            112.88888888888889,
            223.77777777777777,
            334.66666666666663,
            445.55555555555554,
            556.4444444444445,
            667.3333333333333,
            778.2222222222222,
            889.1111111111111,
            1000
           ],
           "xaxis": "x2",
           "y": [
            1.5952849363841624,
            0.28981325625685744,
            0.2045156475837851,
            0.1661483267554495,
            0.143178635471386,
            0.1274845103464259,
            0.1159000904942909,
            0.10690236171467701,
            0.09965624398356297,
            0.09366069717159692
           ],
           "yaxis": "y2"
          },
          {
           "hovertemplate": "algo=tree_of_pmws<br>block_size=800.0<br>exponent_size_limit=0.5<br>n_blocks=%{x}<br>error=%{y}<extra></extra>",
           "legendgroup": "tree_of_pmws",
           "line": {
            "color": "#00cc96",
            "dash": "solid"
           },
           "marker": {
            "symbol": "circle"
           },
           "mode": "lines",
           "name": "tree_of_pmws",
           "orientation": "v",
           "showlegend": false,
           "type": "scatter",
           "x": [
            2,
            112.88888888888889,
            223.77777777777777,
            334.66666666666663,
            445.55555555555554,
            556.4444444444445,
            667.3333333333333,
            778.2222222222222,
            889.1111111111111,
            1000
           ],
           "xaxis": "x3",
           "y": [
            1.2089999031909808,
            0.043758030546011774,
            0.023485497206242486,
            0.016242429437170018,
            0.012482956982480508,
            0.010169244656400076,
            0.00859699447614187,
            0.007456685884552874,
            0.0065905566840512,
            0.005909590476955433
           ],
           "yaxis": "y3"
          }
         ],
         "name": "800.0"
        },
        {
         "data": [
          {
           "hovertemplate": "algo=pmwg<br>block_size=900.0<br>exponent_size_limit=1.0<br>n_blocks=%{x}<br>error=%{y}<extra></extra>",
           "legendgroup": "pmwg",
           "line": {
            "color": "#636efa",
            "dash": "solid"
           },
           "marker": {
            "symbol": "circle"
           },
           "mode": "lines",
           "name": "pmwg",
           "orientation": "v",
           "showlegend": true,
           "type": "scatter",
           "x": [
            2,
            112.88888888888889,
            223.77777777777777,
            334.66666666666663,
            445.55555555555554,
            556.4444444444445,
            667.3333333333333,
            778.2222222222222,
            889.1111111111111,
            1000
           ],
           "xaxis": "x",
           "y": [
            0.4675085916153291,
            0.0648439141080338,
            0.04165996953144869,
            0.03041245449796555,
            0.023081105122140587,
            0.0175025313591783,
            0.012709099244109694,
            0.00790230363058017,
            null,
            null
           ],
           "yaxis": "y"
          },
          {
           "hovertemplate": "algo=pmwg<br>block_size=900.0<br>exponent_size_limit=0.9<br>n_blocks=%{x}<br>error=%{y}<extra></extra>",
           "legendgroup": "pmwg",
           "line": {
            "color": "#636efa",
            "dash": "solid"
           },
           "marker": {
            "symbol": "circle"
           },
           "mode": "lines",
           "name": "pmwg",
           "orientation": "v",
           "showlegend": false,
           "type": "scatter",
           "x": [
            2,
            112.88888888888889,
            223.77777777777777,
            334.66666666666663,
            445.55555555555554,
            556.4444444444445,
            667.3333333333333,
            778.2222222222222,
            889.1111111111111,
            1000
           ],
           "xaxis": "x2",
           "y": [
            0.4675085916153291,
            0.0648439141080338,
            0.04165996953144869,
            0.03041245449796555,
            0.023081105122140587,
            0.0175025313591783,
            0.012709099244109694,
            0.00790230363058017,
            null,
            null
           ],
           "yaxis": "y2"
          },
          {
           "hovertemplate": "algo=pmwg<br>block_size=900.0<br>exponent_size_limit=0.5<br>n_blocks=%{x}<br>error=%{y}<extra></extra>",
           "legendgroup": "pmwg",
           "line": {
            "color": "#636efa",
            "dash": "solid"
           },
           "marker": {
            "symbol": "circle"
           },
           "mode": "lines",
           "name": "pmwg",
           "orientation": "v",
           "showlegend": false,
           "type": "scatter",
           "x": [
            2,
            112.88888888888889,
            223.77777777777777,
            334.66666666666663,
            445.55555555555554,
            556.4444444444445,
            667.3333333333333,
            778.2222222222222,
            889.1111111111111,
            1000
           ],
           "xaxis": "x3",
           "y": [
            0.4675085916153291,
            0.0648439141080338,
            0.04165996953144869,
            0.03041245449796555,
            0.023081105122140587,
            0.0175025313591783,
            0.012709099244109694,
            0.00790230363058017,
            null,
            null
           ],
           "yaxis": "y3"
          },
          {
           "hovertemplate": "algo=one_pmw_per_block<br>block_size=900.0<br>exponent_size_limit=1.0<br>n_blocks=%{x}<br>error=%{y}<extra></extra>",
           "legendgroup": "one_pmw_per_block",
           "line": {
            "color": "#EF553B",
            "dash": "solid"
           },
           "marker": {
            "symbol": "circle"
           },
           "mode": "lines",
           "name": "one_pmw_per_block",
           "orientation": "v",
           "showlegend": true,
           "type": "scatter",
           "x": [
            2,
            112.88888888888889,
            223.77777777777777,
            334.66666666666663,
            445.55555555555554,
            556.4444444444445,
            667.3333333333333,
            778.2222222222222,
            889.1111111111111,
            1000
           ],
           "xaxis": "x",
           "y": [
            0.39023698200635204,
            0.4629296654854953,
            0.47415768265246716,
            0.4806395994802803,
            0.4851959309231151,
            0.4887049577818752,
            0.49155555259986566,
            0.4939540822801765,
            0.49602317813533225,
            0.4978416284735154
           ],
           "yaxis": "y"
          },
          {
           "hovertemplate": "algo=one_pmw_per_block<br>block_size=900.0<br>exponent_size_limit=0.9<br>n_blocks=%{x}<br>error=%{y}<extra></extra>",
           "legendgroup": "one_pmw_per_block",
           "line": {
            "color": "#EF553B",
            "dash": "solid"
           },
           "marker": {
            "symbol": "circle"
           },
           "mode": "lines",
           "name": "one_pmw_per_block",
           "orientation": "v",
           "showlegend": false,
           "type": "scatter",
           "x": [
            2,
            112.88888888888889,
            223.77777777777777,
            334.66666666666663,
            445.55555555555554,
            556.4444444444445,
            667.3333333333333,
            778.2222222222222,
            889.1111111111111,
            1000
           ],
           "xaxis": "x2",
           "y": [
            0.3641039787296819,
            0.28856914474769596,
            0.27602034605874143,
            0.2687560832869454,
            0.26364950707274043,
            0.2597195033839052,
            0.2565300964287064,
            0.2538494438197077,
            0.25153960053406055,
            0.24951186855913748
           ],
           "yaxis": "y2"
          },
          {
           "hovertemplate": "algo=one_pmw_per_block<br>block_size=900.0<br>exponent_size_limit=0.5<br>n_blocks=%{x}<br>error=%{y}<extra></extra>",
           "legendgroup": "one_pmw_per_block",
           "line": {
            "color": "#EF553B",
            "dash": "solid"
           },
           "marker": {
            "symbol": "circle"
           },
           "mode": "lines",
           "name": "one_pmw_per_block",
           "orientation": "v",
           "showlegend": false,
           "type": "scatter",
           "x": [
            2,
            112.88888888888889,
            223.77777777777777,
            334.66666666666663,
            445.55555555555554,
            556.4444444444445,
            667.3333333333333,
            778.2222222222222,
            889.1111111111111,
            1000
           ],
           "xaxis": "x3",
           "y": [
            0.2759392162464643,
            0.04357018589693098,
            0.03169671926238771,
            0.02627322106603895,
            0.022986149046649737,
            0.02071742806065306,
            0.019028352890460988,
            0.017706583223896472,
            0.01663504392034635,
            0.015743134600236436
           ],
           "yaxis": "y3"
          },
          {
           "hovertemplate": "algo=tree_of_pmws<br>block_size=900.0<br>exponent_size_limit=1.0<br>n_blocks=%{x}<br>error=%{y}<extra></extra>",
           "legendgroup": "tree_of_pmws",
           "line": {
            "color": "#00cc96",
            "dash": "solid"
           },
           "marker": {
            "symbol": "circle"
           },
           "mode": "lines",
           "name": "tree_of_pmws",
           "orientation": "v",
           "showlegend": true,
           "type": "scatter",
           "x": [
            2,
            112.88888888888889,
            223.77777777777777,
            334.66666666666663,
            445.55555555555554,
            556.4444444444445,
            667.3333333333333,
            778.2222222222222,
            889.1111111111111,
            1000
           ],
           "xaxis": "x",
           "y": [
            1.6119998709213077,
            0.4383359646237824,
            0.3312317629779046,
            0.28014376207650976,
            0.24842319572343072,
            0.22616392890150291,
            0.209383182085734,
            0.19611978182248513,
            0.18527800136460856,
            0.17618994700877003
           ],
           "yaxis": "y"
          },
          {
           "hovertemplate": "algo=tree_of_pmws<br>block_size=900.0<br>exponent_size_limit=0.9<br>n_blocks=%{x}<br>error=%{y}<extra></extra>",
           "legendgroup": "tree_of_pmws",
           "line": {
            "color": "#00cc96",
            "dash": "solid"
           },
           "marker": {
            "symbol": "circle"
           },
           "mode": "lines",
           "name": "tree_of_pmws",
           "orientation": "v",
           "showlegend": false,
           "type": "scatter",
           "x": [
            2,
            112.88888888888889,
            223.77777777777777,
            334.66666666666663,
            445.55555555555554,
            556.4444444444445,
            667.3333333333333,
            778.2222222222222,
            889.1111111111111,
            1000
           ],
           "xaxis": "x2",
           "y": [
            1.5040490619226552,
            0.2732385583693047,
            0.19281920168700345,
            0.15664614470876884,
            0.13499011208380504,
            0.12019354901627245,
            0.10927165323819682,
            0.1007885131910737,
            0.09395680787781126,
            0.08830415213426115
           ],
           "yaxis": "y2"
          },
          {
           "hovertemplate": "algo=tree_of_pmws<br>block_size=900.0<br>exponent_size_limit=0.5<br>n_blocks=%{x}<br>error=%{y}<extra></extra>",
           "legendgroup": "tree_of_pmws",
           "line": {
            "color": "#00cc96",
            "dash": "solid"
           },
           "marker": {
            "symbol": "circle"
           },
           "mode": "lines",
           "name": "tree_of_pmws",
           "orientation": "v",
           "showlegend": false,
           "type": "scatter",
           "x": [
            2,
            112.88888888888889,
            223.77777777777777,
            334.66666666666663,
            445.55555555555554,
            556.4444444444445,
            667.3333333333333,
            778.2222222222222,
            889.1111111111111,
            1000
           ],
           "xaxis": "x3",
           "y": [
            1.139856040000296,
            0.041255466840604015,
            0.022142339112095705,
            0.015313509330622557,
            0.011769044708762572,
            0.009587655808114074,
            0.008105324122537609,
            0.007030230872193796,
            0.0062136364307825735,
            0.00557161533372084
           ],
           "yaxis": "y3"
          }
         ],
         "name": "900.0"
        },
        {
         "data": [
          {
           "hovertemplate": "algo=pmwg<br>block_size=1000.0<br>exponent_size_limit=1.0<br>n_blocks=%{x}<br>error=%{y}<extra></extra>",
           "legendgroup": "pmwg",
           "line": {
            "color": "#636efa",
            "dash": "solid"
           },
           "marker": {
            "symbol": "circle"
           },
           "mode": "lines",
           "name": "pmwg",
           "orientation": "v",
           "showlegend": true,
           "type": "scatter",
           "x": [
            2,
            112.88888888888889,
            223.77777777777777,
            334.66666666666663,
            445.55555555555554,
            556.4444444444445,
            667.3333333333333,
            778.2222222222222,
            889.1111111111111,
            1000
           ],
           "xaxis": "x",
           "y": [
            0.44604232169020874,
            0.0618424795971722,
            0.03976358485641082,
            0.029061381914672776,
            0.022093869270875196,
            0.016802681919166944,
            0.012273817958064011,
            0.007780089945649869,
            null,
            null
           ],
           "yaxis": "y"
          },
          {
           "hovertemplate": "algo=pmwg<br>block_size=1000.0<br>exponent_size_limit=0.9<br>n_blocks=%{x}<br>error=%{y}<extra></extra>",
           "legendgroup": "pmwg",
           "line": {
            "color": "#636efa",
            "dash": "solid"
           },
           "marker": {
            "symbol": "circle"
           },
           "mode": "lines",
           "name": "pmwg",
           "orientation": "v",
           "showlegend": false,
           "type": "scatter",
           "x": [
            2,
            112.88888888888889,
            223.77777777777777,
            334.66666666666663,
            445.55555555555554,
            556.4444444444445,
            667.3333333333333,
            778.2222222222222,
            889.1111111111111,
            1000
           ],
           "xaxis": "x2",
           "y": [
            0.44604232169020874,
            0.0618424795971722,
            0.03976358485641082,
            0.029061381914672776,
            0.022093869270875196,
            0.016802681919166944,
            0.012273817958064011,
            0.007780089945649869,
            null,
            null
           ],
           "yaxis": "y2"
          },
          {
           "hovertemplate": "algo=pmwg<br>block_size=1000.0<br>exponent_size_limit=0.5<br>n_blocks=%{x}<br>error=%{y}<extra></extra>",
           "legendgroup": "pmwg",
           "line": {
            "color": "#636efa",
            "dash": "solid"
           },
           "marker": {
            "symbol": "circle"
           },
           "mode": "lines",
           "name": "pmwg",
           "orientation": "v",
           "showlegend": false,
           "type": "scatter",
           "x": [
            2,
            112.88888888888889,
            223.77777777777777,
            334.66666666666663,
            445.55555555555554,
            556.4444444444445,
            667.3333333333333,
            778.2222222222222,
            889.1111111111111,
            1000
           ],
           "xaxis": "x3",
           "y": [
            0.44604232169020874,
            0.0618424795971722,
            0.03976358485641082,
            0.029061381914672776,
            0.022093869270875196,
            0.016802681919166944,
            0.012273817958064011,
            0.007780089945649869,
            null,
            null
           ],
           "yaxis": "y3"
          },
          {
           "hovertemplate": "algo=one_pmw_per_block<br>block_size=1000.0<br>exponent_size_limit=1.0<br>n_blocks=%{x}<br>error=%{y}<extra></extra>",
           "legendgroup": "one_pmw_per_block",
           "line": {
            "color": "#EF553B",
            "dash": "solid"
           },
           "marker": {
            "symbol": "circle"
           },
           "mode": "lines",
           "name": "one_pmw_per_block",
           "orientation": "v",
           "showlegend": true,
           "type": "scatter",
           "x": [
            2,
            112.88888888888889,
            223.77777777777777,
            334.66666666666663,
            445.55555555555554,
            556.4444444444445,
            667.3333333333333,
            778.2222222222222,
            889.1111111111111,
            1000
           ],
           "xaxis": "x",
           "y": [
            0.3702113071110651,
            0.4391736418182008,
            0.4498254741747314,
            0.45597476040863033,
            0.4602972759488301,
            0.4636262311221465,
            0.4663305428154834,
            0.4686059878630727,
            0.4705689045429245,
            0.47229403800709313
           ],
           "yaxis": "y"
          },
          {
           "hovertemplate": "algo=one_pmw_per_block<br>block_size=1000.0<br>exponent_size_limit=0.9<br>n_blocks=%{x}<br>error=%{y}<extra></extra>",
           "legendgroup": "one_pmw_per_block",
           "line": {
            "color": "#EF553B",
            "dash": "solid"
           },
           "marker": {
            "symbol": "circle"
           },
           "mode": "lines",
           "name": "one_pmw_per_block",
           "orientation": "v",
           "showlegend": false,
           "type": "scatter",
           "x": [
            2,
            112.88888888888889,
            223.77777777777777,
            334.66666666666663,
            445.55555555555554,
            556.4444444444445,
            667.3333333333333,
            778.2222222222222,
            889.1111111111111,
            1000
           ],
           "xaxis": "x2",
           "y": [
            0.3454193633745888,
            0.27376072795486034,
            0.26185589222805095,
            0.25496440746379795,
            0.2501198838991597,
            0.24639155503828478,
            0.24336581792920156,
            0.24082272757116893,
            0.23863141782496136,
            0.23670774236742884
           ],
           "yaxis": "y2"
          },
          {
           "hovertemplate": "algo=one_pmw_per_block<br>block_size=1000.0<br>exponent_size_limit=0.5<br>n_blocks=%{x}<br>error=%{y}<extra></extra>",
           "legendgroup": "one_pmw_per_block",
           "line": {
            "color": "#EF553B",
            "dash": "solid"
           },
           "marker": {
            "symbol": "circle"
           },
           "mode": "lines",
           "name": "one_pmw_per_block",
           "orientation": "v",
           "showlegend": false,
           "type": "scatter",
           "x": [
            2,
            112.88888888888889,
            223.77777777777777,
            334.66666666666663,
            445.55555555555554,
            556.4444444444445,
            667.3333333333333,
            778.2222222222222,
            889.1111111111111,
            1000
           ],
           "xaxis": "x3",
           "y": [
            0.26177892573016964,
            0.041334307653374466,
            0.030070148167223216,
            0.02492496601134007,
            0.021806575687056344,
            0.019654277979704603,
            0.01805188057659156,
            0.016797939770052003,
            0.015781388329569324,
            0.01493524885420546
           ],
           "yaxis": "y3"
          },
          {
           "hovertemplate": "algo=tree_of_pmws<br>block_size=1000.0<br>exponent_size_limit=1.0<br>n_blocks=%{x}<br>error=%{y}<extra></extra>",
           "legendgroup": "tree_of_pmws",
           "line": {
            "color": "#00cc96",
            "dash": "solid"
           },
           "marker": {
            "symbol": "circle"
           },
           "mode": "lines",
           "name": "tree_of_pmws",
           "orientation": "v",
           "showlegend": true,
           "type": "scatter",
           "x": [
            2,
            112.88888888888889,
            223.77777777777777,
            334.66666666666663,
            445.55555555555554,
            556.4444444444445,
            667.3333333333333,
            778.2222222222222,
            889.1111111111111,
            1000
           ],
           "xaxis": "x",
           "y": [
            1.5292773540026285,
            0.4158420085734432,
            0.31423404132096455,
            0.26576770813502176,
            0.23567493663115255,
            0.21455794197033967,
            0.1986383277374054,
            0.18605556143230242,
            0.17577014539078445,
            0.1671484600116252
           ],
           "yaxis": "y"
          },
          {
           "hovertemplate": "algo=tree_of_pmws<br>block_size=1000.0<br>exponent_size_limit=0.9<br>n_blocks=%{x}<br>error=%{y}<extra></extra>",
           "legendgroup": "tree_of_pmws",
           "line": {
            "color": "#00cc96",
            "dash": "solid"
           },
           "marker": {
            "symbol": "circle"
           },
           "mode": "lines",
           "name": "tree_of_pmws",
           "orientation": "v",
           "showlegend": false,
           "type": "scatter",
           "x": [
            2,
            112.88888888888889,
            223.77777777777777,
            334.66666666666663,
            445.55555555555554,
            556.4444444444445,
            667.3333333333333,
            778.2222222222222,
            889.1111111111111,
            1000
           ],
           "xaxis": "x2",
           "y": [
            1.4268662244945658,
            0.2592168567083598,
            0.1829243561838936,
            0.14860758118921286,
            0.1280628647358727,
            0.11402561248515343,
            0.10366419237744466,
            0.09561637909971553,
            0.08913525437182049,
            0.08377267427828519
           ],
           "yaxis": "y2"
          },
          {
           "hovertemplate": "algo=tree_of_pmws<br>block_size=1000.0<br>exponent_size_limit=0.5<br>n_blocks=%{x}<br>error=%{y}<extra></extra>",
           "legendgroup": "tree_of_pmws",
           "line": {
            "color": "#00cc96",
            "dash": "solid"
           },
           "marker": {
            "symbol": "circle"
           },
           "mode": "lines",
           "name": "tree_of_pmws",
           "orientation": "v",
           "showlegend": false,
           "type": "scatter",
           "x": [
            2,
            112.88888888888889,
            223.77777777777777,
            334.66666666666663,
            445.55555555555554,
            556.4444444444445,
            667.3333333333333,
            778.2222222222222,
            889.1111111111111,
            1000
           ],
           "xaxis": "x3",
           "y": [
            1.0813623873302791,
            0.03913837234495783,
            0.021006067295415837,
            0.014527670536502323,
            0.011165096149212825,
            0.009095648932614823,
            0.0076893856203373665,
            0.006669462609889351,
            0.0058947731020416345,
            0.0052856984102631005
           ],
           "yaxis": "y3"
          }
         ],
         "name": "1000.0"
        }
       ],
       "layout": {
        "annotations": [
         {
          "font": {},
          "showarrow": false,
          "text": "exponent_size_limit=1.0",
          "x": 0.15999999999999998,
          "xanchor": "center",
          "xref": "paper",
          "y": 1,
          "yanchor": "bottom",
          "yref": "paper"
         },
         {
          "font": {},
          "showarrow": false,
          "text": "exponent_size_limit=0.9",
          "x": 0.49999999999999994,
          "xanchor": "center",
          "xref": "paper",
          "y": 1,
          "yanchor": "bottom",
          "yref": "paper"
         },
         {
          "font": {},
          "showarrow": false,
          "text": "exponent_size_limit=0.5",
          "x": 0.8399999999999999,
          "xanchor": "center",
          "xref": "paper",
          "y": 1,
          "yanchor": "bottom",
          "yref": "paper"
         }
        ],
        "height": 600,
        "legend": {
         "title": {
          "text": "algo"
         },
         "tracegroupgap": 0
        },
        "sliders": [
         {
          "active": 9,
          "currentvalue": {
           "prefix": "block_size="
          },
          "len": 0.9,
          "pad": {
           "b": 10,
           "t": 60
          },
          "steps": [
           {
            "args": [
             [
              "100.0"
             ],
             {
              "frame": {
               "duration": 0,
               "redraw": false
              },
              "fromcurrent": true,
              "mode": "immediate",
              "transition": {
               "duration": 0,
               "easing": "linear"
              }
             }
            ],
            "label": "100.0",
            "method": "animate"
           },
           {
            "args": [
             [
              "200.0"
             ],
             {
              "frame": {
               "duration": 0,
               "redraw": false
              },
              "fromcurrent": true,
              "mode": "immediate",
              "transition": {
               "duration": 0,
               "easing": "linear"
              }
             }
            ],
            "label": "200.0",
            "method": "animate"
           },
           {
            "args": [
             [
              "300.0"
             ],
             {
              "frame": {
               "duration": 0,
               "redraw": false
              },
              "fromcurrent": true,
              "mode": "immediate",
              "transition": {
               "duration": 0,
               "easing": "linear"
              }
             }
            ],
            "label": "300.0",
            "method": "animate"
           },
           {
            "args": [
             [
              "400.0"
             ],
             {
              "frame": {
               "duration": 0,
               "redraw": false
              },
              "fromcurrent": true,
              "mode": "immediate",
              "transition": {
               "duration": 0,
               "easing": "linear"
              }
             }
            ],
            "label": "400.0",
            "method": "animate"
           },
           {
            "args": [
             [
              "500.0"
             ],
             {
              "frame": {
               "duration": 0,
               "redraw": false
              },
              "fromcurrent": true,
              "mode": "immediate",
              "transition": {
               "duration": 0,
               "easing": "linear"
              }
             }
            ],
            "label": "500.0",
            "method": "animate"
           },
           {
            "args": [
             [
              "600.0"
             ],
             {
              "frame": {
               "duration": 0,
               "redraw": false
              },
              "fromcurrent": true,
              "mode": "immediate",
              "transition": {
               "duration": 0,
               "easing": "linear"
              }
             }
            ],
            "label": "600.0",
            "method": "animate"
           },
           {
            "args": [
             [
              "700.0"
             ],
             {
              "frame": {
               "duration": 0,
               "redraw": false
              },
              "fromcurrent": true,
              "mode": "immediate",
              "transition": {
               "duration": 0,
               "easing": "linear"
              }
             }
            ],
            "label": "700.0",
            "method": "animate"
           },
           {
            "args": [
             [
              "800.0"
             ],
             {
              "frame": {
               "duration": 0,
               "redraw": false
              },
              "fromcurrent": true,
              "mode": "immediate",
              "transition": {
               "duration": 0,
               "easing": "linear"
              }
             }
            ],
            "label": "800.0",
            "method": "animate"
           },
           {
            "args": [
             [
              "900.0"
             ],
             {
              "frame": {
               "duration": 0,
               "redraw": false
              },
              "fromcurrent": true,
              "mode": "immediate",
              "transition": {
               "duration": 0,
               "easing": "linear"
              }
             }
            ],
            "label": "900.0",
            "method": "animate"
           },
           {
            "args": [
             [
              "1000.0"
             ],
             {
              "frame": {
               "duration": 0,
               "redraw": false
              },
              "fromcurrent": true,
              "mode": "immediate",
              "transition": {
               "duration": 0,
               "easing": "linear"
              }
             }
            ],
            "label": "1000.0",
            "method": "animate"
           }
          ],
          "x": 0.1,
          "xanchor": "left",
          "y": 0,
          "yanchor": "top"
         }
        ],
        "template": {
         "data": {
          "bar": [
           {
            "error_x": {
             "color": "#2a3f5f"
            },
            "error_y": {
             "color": "#2a3f5f"
            },
            "marker": {
             "line": {
              "color": "#E5ECF6",
              "width": 0.5
             },
             "pattern": {
              "fillmode": "overlay",
              "size": 10,
              "solidity": 0.2
             }
            },
            "type": "bar"
           }
          ],
          "barpolar": [
           {
            "marker": {
             "line": {
              "color": "#E5ECF6",
              "width": 0.5
             },
             "pattern": {
              "fillmode": "overlay",
              "size": 10,
              "solidity": 0.2
             }
            },
            "type": "barpolar"
           }
          ],
          "carpet": [
           {
            "aaxis": {
             "endlinecolor": "#2a3f5f",
             "gridcolor": "white",
             "linecolor": "white",
             "minorgridcolor": "white",
             "startlinecolor": "#2a3f5f"
            },
            "baxis": {
             "endlinecolor": "#2a3f5f",
             "gridcolor": "white",
             "linecolor": "white",
             "minorgridcolor": "white",
             "startlinecolor": "#2a3f5f"
            },
            "type": "carpet"
           }
          ],
          "choropleth": [
           {
            "colorbar": {
             "outlinewidth": 0,
             "ticks": ""
            },
            "type": "choropleth"
           }
          ],
          "contour": [
           {
            "colorbar": {
             "outlinewidth": 0,
             "ticks": ""
            },
            "colorscale": [
             [
              0,
              "#0d0887"
             ],
             [
              0.1111111111111111,
              "#46039f"
             ],
             [
              0.2222222222222222,
              "#7201a8"
             ],
             [
              0.3333333333333333,
              "#9c179e"
             ],
             [
              0.4444444444444444,
              "#bd3786"
             ],
             [
              0.5555555555555556,
              "#d8576b"
             ],
             [
              0.6666666666666666,
              "#ed7953"
             ],
             [
              0.7777777777777778,
              "#fb9f3a"
             ],
             [
              0.8888888888888888,
              "#fdca26"
             ],
             [
              1,
              "#f0f921"
             ]
            ],
            "type": "contour"
           }
          ],
          "contourcarpet": [
           {
            "colorbar": {
             "outlinewidth": 0,
             "ticks": ""
            },
            "type": "contourcarpet"
           }
          ],
          "heatmap": [
           {
            "colorbar": {
             "outlinewidth": 0,
             "ticks": ""
            },
            "colorscale": [
             [
              0,
              "#0d0887"
             ],
             [
              0.1111111111111111,
              "#46039f"
             ],
             [
              0.2222222222222222,
              "#7201a8"
             ],
             [
              0.3333333333333333,
              "#9c179e"
             ],
             [
              0.4444444444444444,
              "#bd3786"
             ],
             [
              0.5555555555555556,
              "#d8576b"
             ],
             [
              0.6666666666666666,
              "#ed7953"
             ],
             [
              0.7777777777777778,
              "#fb9f3a"
             ],
             [
              0.8888888888888888,
              "#fdca26"
             ],
             [
              1,
              "#f0f921"
             ]
            ],
            "type": "heatmap"
           }
          ],
          "heatmapgl": [
           {
            "colorbar": {
             "outlinewidth": 0,
             "ticks": ""
            },
            "colorscale": [
             [
              0,
              "#0d0887"
             ],
             [
              0.1111111111111111,
              "#46039f"
             ],
             [
              0.2222222222222222,
              "#7201a8"
             ],
             [
              0.3333333333333333,
              "#9c179e"
             ],
             [
              0.4444444444444444,
              "#bd3786"
             ],
             [
              0.5555555555555556,
              "#d8576b"
             ],
             [
              0.6666666666666666,
              "#ed7953"
             ],
             [
              0.7777777777777778,
              "#fb9f3a"
             ],
             [
              0.8888888888888888,
              "#fdca26"
             ],
             [
              1,
              "#f0f921"
             ]
            ],
            "type": "heatmapgl"
           }
          ],
          "histogram": [
           {
            "marker": {
             "pattern": {
              "fillmode": "overlay",
              "size": 10,
              "solidity": 0.2
             }
            },
            "type": "histogram"
           }
          ],
          "histogram2d": [
           {
            "colorbar": {
             "outlinewidth": 0,
             "ticks": ""
            },
            "colorscale": [
             [
              0,
              "#0d0887"
             ],
             [
              0.1111111111111111,
              "#46039f"
             ],
             [
              0.2222222222222222,
              "#7201a8"
             ],
             [
              0.3333333333333333,
              "#9c179e"
             ],
             [
              0.4444444444444444,
              "#bd3786"
             ],
             [
              0.5555555555555556,
              "#d8576b"
             ],
             [
              0.6666666666666666,
              "#ed7953"
             ],
             [
              0.7777777777777778,
              "#fb9f3a"
             ],
             [
              0.8888888888888888,
              "#fdca26"
             ],
             [
              1,
              "#f0f921"
             ]
            ],
            "type": "histogram2d"
           }
          ],
          "histogram2dcontour": [
           {
            "colorbar": {
             "outlinewidth": 0,
             "ticks": ""
            },
            "colorscale": [
             [
              0,
              "#0d0887"
             ],
             [
              0.1111111111111111,
              "#46039f"
             ],
             [
              0.2222222222222222,
              "#7201a8"
             ],
             [
              0.3333333333333333,
              "#9c179e"
             ],
             [
              0.4444444444444444,
              "#bd3786"
             ],
             [
              0.5555555555555556,
              "#d8576b"
             ],
             [
              0.6666666666666666,
              "#ed7953"
             ],
             [
              0.7777777777777778,
              "#fb9f3a"
             ],
             [
              0.8888888888888888,
              "#fdca26"
             ],
             [
              1,
              "#f0f921"
             ]
            ],
            "type": "histogram2dcontour"
           }
          ],
          "mesh3d": [
           {
            "colorbar": {
             "outlinewidth": 0,
             "ticks": ""
            },
            "type": "mesh3d"
           }
          ],
          "parcoords": [
           {
            "line": {
             "colorbar": {
              "outlinewidth": 0,
              "ticks": ""
             }
            },
            "type": "parcoords"
           }
          ],
          "pie": [
           {
            "automargin": true,
            "type": "pie"
           }
          ],
          "scatter": [
           {
            "fillpattern": {
             "fillmode": "overlay",
             "size": 10,
             "solidity": 0.2
            },
            "type": "scatter"
           }
          ],
          "scatter3d": [
           {
            "line": {
             "colorbar": {
              "outlinewidth": 0,
              "ticks": ""
             }
            },
            "marker": {
             "colorbar": {
              "outlinewidth": 0,
              "ticks": ""
             }
            },
            "type": "scatter3d"
           }
          ],
          "scattercarpet": [
           {
            "marker": {
             "colorbar": {
              "outlinewidth": 0,
              "ticks": ""
             }
            },
            "type": "scattercarpet"
           }
          ],
          "scattergeo": [
           {
            "marker": {
             "colorbar": {
              "outlinewidth": 0,
              "ticks": ""
             }
            },
            "type": "scattergeo"
           }
          ],
          "scattergl": [
           {
            "marker": {
             "colorbar": {
              "outlinewidth": 0,
              "ticks": ""
             }
            },
            "type": "scattergl"
           }
          ],
          "scattermapbox": [
           {
            "marker": {
             "colorbar": {
              "outlinewidth": 0,
              "ticks": ""
             }
            },
            "type": "scattermapbox"
           }
          ],
          "scatterpolar": [
           {
            "marker": {
             "colorbar": {
              "outlinewidth": 0,
              "ticks": ""
             }
            },
            "type": "scatterpolar"
           }
          ],
          "scatterpolargl": [
           {
            "marker": {
             "colorbar": {
              "outlinewidth": 0,
              "ticks": ""
             }
            },
            "type": "scatterpolargl"
           }
          ],
          "scatterternary": [
           {
            "marker": {
             "colorbar": {
              "outlinewidth": 0,
              "ticks": ""
             }
            },
            "type": "scatterternary"
           }
          ],
          "surface": [
           {
            "colorbar": {
             "outlinewidth": 0,
             "ticks": ""
            },
            "colorscale": [
             [
              0,
              "#0d0887"
             ],
             [
              0.1111111111111111,
              "#46039f"
             ],
             [
              0.2222222222222222,
              "#7201a8"
             ],
             [
              0.3333333333333333,
              "#9c179e"
             ],
             [
              0.4444444444444444,
              "#bd3786"
             ],
             [
              0.5555555555555556,
              "#d8576b"
             ],
             [
              0.6666666666666666,
              "#ed7953"
             ],
             [
              0.7777777777777778,
              "#fb9f3a"
             ],
             [
              0.8888888888888888,
              "#fdca26"
             ],
             [
              1,
              "#f0f921"
             ]
            ],
            "type": "surface"
           }
          ],
          "table": [
           {
            "cells": {
             "fill": {
              "color": "#EBF0F8"
             },
             "line": {
              "color": "white"
             }
            },
            "header": {
             "fill": {
              "color": "#C8D4E3"
             },
             "line": {
              "color": "white"
             }
            },
            "type": "table"
           }
          ]
         },
         "layout": {
          "annotationdefaults": {
           "arrowcolor": "#2a3f5f",
           "arrowhead": 0,
           "arrowwidth": 1
          },
          "autotypenumbers": "strict",
          "coloraxis": {
           "colorbar": {
            "outlinewidth": 0,
            "ticks": ""
           }
          },
          "colorscale": {
           "diverging": [
            [
             0,
             "#8e0152"
            ],
            [
             0.1,
             "#c51b7d"
            ],
            [
             0.2,
             "#de77ae"
            ],
            [
             0.3,
             "#f1b6da"
            ],
            [
             0.4,
             "#fde0ef"
            ],
            [
             0.5,
             "#f7f7f7"
            ],
            [
             0.6,
             "#e6f5d0"
            ],
            [
             0.7,
             "#b8e186"
            ],
            [
             0.8,
             "#7fbc41"
            ],
            [
             0.9,
             "#4d9221"
            ],
            [
             1,
             "#276419"
            ]
           ],
           "sequential": [
            [
             0,
             "#0d0887"
            ],
            [
             0.1111111111111111,
             "#46039f"
            ],
            [
             0.2222222222222222,
             "#7201a8"
            ],
            [
             0.3333333333333333,
             "#9c179e"
            ],
            [
             0.4444444444444444,
             "#bd3786"
            ],
            [
             0.5555555555555556,
             "#d8576b"
            ],
            [
             0.6666666666666666,
             "#ed7953"
            ],
            [
             0.7777777777777778,
             "#fb9f3a"
            ],
            [
             0.8888888888888888,
             "#fdca26"
            ],
            [
             1,
             "#f0f921"
            ]
           ],
           "sequentialminus": [
            [
             0,
             "#0d0887"
            ],
            [
             0.1111111111111111,
             "#46039f"
            ],
            [
             0.2222222222222222,
             "#7201a8"
            ],
            [
             0.3333333333333333,
             "#9c179e"
            ],
            [
             0.4444444444444444,
             "#bd3786"
            ],
            [
             0.5555555555555556,
             "#d8576b"
            ],
            [
             0.6666666666666666,
             "#ed7953"
            ],
            [
             0.7777777777777778,
             "#fb9f3a"
            ],
            [
             0.8888888888888888,
             "#fdca26"
            ],
            [
             1,
             "#f0f921"
            ]
           ]
          },
          "colorway": [
           "#636efa",
           "#EF553B",
           "#00cc96",
           "#ab63fa",
           "#FFA15A",
           "#19d3f3",
           "#FF6692",
           "#B6E880",
           "#FF97FF",
           "#FECB52"
          ],
          "font": {
           "color": "#2a3f5f"
          },
          "geo": {
           "bgcolor": "white",
           "lakecolor": "white",
           "landcolor": "#E5ECF6",
           "showlakes": true,
           "showland": true,
           "subunitcolor": "white"
          },
          "hoverlabel": {
           "align": "left"
          },
          "hovermode": "closest",
          "mapbox": {
           "style": "light"
          },
          "paper_bgcolor": "white",
          "plot_bgcolor": "#E5ECF6",
          "polar": {
           "angularaxis": {
            "gridcolor": "white",
            "linecolor": "white",
            "ticks": ""
           },
           "bgcolor": "#E5ECF6",
           "radialaxis": {
            "gridcolor": "white",
            "linecolor": "white",
            "ticks": ""
           }
          },
          "scene": {
           "xaxis": {
            "backgroundcolor": "#E5ECF6",
            "gridcolor": "white",
            "gridwidth": 2,
            "linecolor": "white",
            "showbackground": true,
            "ticks": "",
            "zerolinecolor": "white"
           },
           "yaxis": {
            "backgroundcolor": "#E5ECF6",
            "gridcolor": "white",
            "gridwidth": 2,
            "linecolor": "white",
            "showbackground": true,
            "ticks": "",
            "zerolinecolor": "white"
           },
           "zaxis": {
            "backgroundcolor": "#E5ECF6",
            "gridcolor": "white",
            "gridwidth": 2,
            "linecolor": "white",
            "showbackground": true,
            "ticks": "",
            "zerolinecolor": "white"
           }
          },
          "shapedefaults": {
           "line": {
            "color": "#2a3f5f"
           }
          },
          "ternary": {
           "aaxis": {
            "gridcolor": "white",
            "linecolor": "white",
            "ticks": ""
           },
           "baxis": {
            "gridcolor": "white",
            "linecolor": "white",
            "ticks": ""
           },
           "bgcolor": "#E5ECF6",
           "caxis": {
            "gridcolor": "white",
            "linecolor": "white",
            "ticks": ""
           }
          },
          "title": {
           "x": 0.05
          },
          "xaxis": {
           "automargin": true,
           "gridcolor": "white",
           "linecolor": "white",
           "ticks": "",
           "title": {
            "standoff": 15
           },
           "zerolinecolor": "white",
           "zerolinewidth": 2
          },
          "yaxis": {
           "automargin": true,
           "gridcolor": "white",
           "linecolor": "white",
           "ticks": "",
           "title": {
            "standoff": 15
           },
           "zerolinecolor": "white",
           "zerolinewidth": 2
          }
         }
        },
        "title": {
         "text": "Error bounds depending on the size of the dataset"
        },
        "updatemenus": [
         {
          "buttons": [
           {
            "args": [
             null,
             {
              "frame": {
               "duration": 500,
               "redraw": false
              },
              "fromcurrent": true,
              "mode": "immediate",
              "transition": {
               "duration": 500,
               "easing": "linear"
              }
             }
            ],
            "label": "&#9654;",
            "method": "animate"
           },
           {
            "args": [
             [
              null
             ],
             {
              "frame": {
               "duration": 0,
               "redraw": false
              },
              "fromcurrent": true,
              "mode": "immediate",
              "transition": {
               "duration": 0,
               "easing": "linear"
              }
             }
            ],
            "label": "&#9724;",
            "method": "animate"
           }
          ],
          "direction": "left",
          "pad": {
           "r": 10,
           "t": 70
          },
          "showactive": false,
          "type": "buttons",
          "x": 0.1,
          "xanchor": "right",
          "y": 0,
          "yanchor": "top"
         }
        ],
        "width": 1000,
        "xaxis": {
         "anchor": "y",
         "autorange": true,
         "domain": [
          0,
          0.31999999999999995
         ],
         "range": [
          0.30102999566398114,
          2.9999999999999996
         ],
         "title": {
          "text": "n_blocks"
         },
         "type": "log"
        },
        "xaxis2": {
         "anchor": "y2",
         "autorange": true,
         "domain": [
          0.33999999999999997,
          0.6599999999999999
         ],
         "matches": "x",
         "range": [
          0.30102999566398114,
          2.9999999999999996
         ],
         "title": {
          "text": "n_blocks"
         },
         "type": "log"
        },
        "xaxis3": {
         "anchor": "y3",
         "autorange": true,
         "domain": [
          0.6799999999999999,
          0.9999999999999999
         ],
         "matches": "x",
         "range": [
          0.30102999566398114,
          2.9999999999999996
         ],
         "title": {
          "text": "n_blocks"
         },
         "type": "log"
        },
        "yaxis": {
         "anchor": "x",
         "domain": [
          0,
          1
         ],
         "range": [
          -2.9999999999999996,
          0
         ],
         "title": {
          "text": "error"
         },
         "type": "log"
        },
        "yaxis2": {
         "anchor": "x2",
         "domain": [
          0,
          1
         ],
         "matches": "y",
         "showticklabels": false,
         "type": "log"
        },
        "yaxis3": {
         "anchor": "x3",
         "domain": [
          0,
          1
         ],
         "matches": "y",
         "showticklabels": false,
         "type": "log"
        }
       }
      },
      "image/png": "[encoded data removed]",
      "text/html": [
       "<div>                            <div id=\"6ae9edf2-5d89-4059-90f8-fe2c870e6448\" class=\"plotly-graph-div\" style=\"height:600px; width:1000px;\"></div>            <script type=\"text/javascript\">                require([\"plotly\"], function(Plotly) {                    window.PLOTLYENV=window.PLOTLYENV || {};                                    if (document.getElementById(\"6ae9edf2-5d89-4059-90f8-fe2c870e6448\")) {                    Plotly.newPlot(                        \"6ae9edf2-5d89-4059-90f8-fe2c870e6448\",                        [{\"hovertemplate\":\"algo=pmwg<br>block_size=100.0<br>exponent_size_limit=1.0<br>n_blocks=%{x}<br>error=%{y}<extra></extra>\",\"legendgroup\":\"pmwg\",\"line\":{\"color\":\"#636efa\",\"dash\":\"solid\"},\"marker\":{\"symbol\":\"circle\"},\"mode\":\"lines\",\"name\":\"pmwg\",\"orientation\":\"v\",\"showlegend\":true,\"x\":[2.0,112.88888888888889,223.77777777777777,334.66666666666663,445.55555555555554,556.4444444444445,667.3333333333333,778.2222222222222,889.1111111111111,1000.0],\"xaxis\":\"x\",\"y\":[1.2317205534803557,0.1725809090556857,0.1086469229279133,0.07691626943636037,0.05550886467054741,0.038136263458011195,0.02051134814373874,null,null,null],\"yaxis\":\"y\",\"type\":\"scatter\"},{\"hovertemplate\":\"algo=pmwg<br>block_size=100.0<br>exponent_size_limit=0.9<br>n_blocks=%{x}<br>error=%{y}<extra></extra>\",\"legendgroup\":\"pmwg\",\"line\":{\"color\":\"#636efa\",\"dash\":\"solid\"},\"marker\":{\"symbol\":\"circle\"},\"mode\":\"lines\",\"name\":\"pmwg\",\"orientation\":\"v\",\"showlegend\":false,\"x\":[2.0,112.88888888888889,223.77777777777777,334.66666666666663,445.55555555555554,556.4444444444445,667.3333333333333,778.2222222222222,889.1111111111111,1000.0],\"xaxis\":\"x2\",\"y\":[1.2317205534803557,0.1725809090556857,0.1086469229279133,0.07691626943636037,0.05550886467054741,0.038136263458011195,0.02051134814373874,null,null,null],\"yaxis\":\"y2\",\"type\":\"scatter\"},{\"hovertemplate\":\"algo=pmwg<br>block_size=100.0<br>exponent_size_limit=0.5<br>n_blocks=%{x}<br>error=%{y}<extra></extra>\",\"legendgroup\":\"pmwg\",\"line\":{\"color\":\"#636efa\",\"dash\":\"solid\"},\"marker\":{\"symbol\":\"circle\"},\"mode\":\"lines\",\"name\":\"pmwg\",\"orientation\":\"v\",\"showlegend\":false,\"x\":[2.0,112.88888888888889,223.77777777777777,334.66666666666663,445.55555555555554,556.4444444444445,667.3333333333333,778.2222222222222,889.1111111111111,1000.0],\"xaxis\":\"x3\",\"y\":[1.2317205534803557,0.1725809090556857,0.1086469229279133,0.07691626943636037,0.05550886467054741,0.038136263458011195,0.02051134814373874,null,null,null],\"yaxis\":\"y3\",\"type\":\"scatter\"},{\"hovertemplate\":\"algo=one_pmw_per_block<br>block_size=100.0<br>exponent_size_limit=1.0<br>n_blocks=%{x}<br>error=%{y}<extra></extra>\",\"legendgroup\":\"one_pmw_per_block\",\"line\":{\"color\":\"#EF553B\",\"dash\":\"solid\"},\"marker\":{\"symbol\":\"circle\"},\"mode\":\"lines\",\"name\":\"one_pmw_per_block\",\"orientation\":\"v\",\"showlegend\":true,\"x\":[2.0,112.88888888888889,223.77777777777777,334.66666666666663,445.55555555555554,556.4444444444445,667.3333333333333,778.2222222222222,889.1111111111111,1000.0],\"xaxis\":\"x\",\"y\":[1.1707109460190561,1.388788996456486,1.4224730479574015,1.4419187984408408,1.4555877927693452,1.4661148733456255,1.474666657799597,1.4818622468405296,1.4880695344059969,1.493524885420546],\"yaxis\":\"y\",\"type\":\"scatter\"},{\"hovertemplate\":\"algo=one_pmw_per_block<br>block_size=100.0<br>exponent_size_limit=0.9<br>n_blocks=%{x}<br>error=%{y}<extra></extra>\",\"legendgroup\":\"one_pmw_per_block\",\"line\":{\"color\":\"#EF553B\",\"dash\":\"solid\"},\"marker\":{\"symbol\":\"circle\"},\"mode\":\"lines\",\"name\":\"one_pmw_per_block\",\"orientation\":\"v\",\"showlegend\":false,\"x\":[2.0,112.88888888888889,223.77777777777777,334.66666666666663,445.55555555555554,556.4444444444445,667.3333333333333,778.2222222222222,889.1111111111111,1000.0],\"xaxis\":\"x2\",\"y\":[1.0923119361890459,0.8657074342430879,0.8280610381762243,0.8062682498608362,0.7909485212182213,0.7791585101517154,0.7695902892861193,0.7615483314591232,0.7546188016021818,0.7485356056774124],\"yaxis\":\"y2\",\"type\":\"scatter\"},{\"hovertemplate\":\"algo=one_pmw_per_block<br>block_size=100.0<br>exponent_size_limit=0.5<br>n_blocks=%{x}<br>error=%{y}<extra></extra>\",\"legendgroup\":\"one_pmw_per_block\",\"line\":{\"color\":\"#EF553B\",\"dash\":\"solid\"},\"marker\":{\"symbol\":\"circle\"},\"mode\":\"lines\",\"name\":\"one_pmw_per_block\",\"orientation\":\"v\",\"showlegend\":false,\"x\":[2.0,112.88888888888889,223.77777777777777,334.66666666666663,445.55555555555554,556.4444444444445,667.3333333333333,778.2222222222222,889.1111111111111,1000.0],\"xaxis\":\"x3\",\"y\":[0.8278176487393928,0.13071055769079293,0.09509015778716312,0.07881966319811685,0.06895844713994921,0.062152284181959165,0.057085058671382964,0.05311974967168941,0.04990513176103906,0.04722940380070931],\"yaxis\":\"y3\",\"type\":\"scatter\"},{\"hovertemplate\":\"algo=tree_of_pmws<br>block_size=100.0<br>exponent_size_limit=1.0<br>n_blocks=%{x}<br>error=%{y}<extra></extra>\",\"legendgroup\":\"tree_of_pmws\",\"line\":{\"color\":\"#00cc96\",\"dash\":\"solid\"},\"marker\":{\"symbol\":\"circle\"},\"mode\":\"lines\",\"name\":\"tree_of_pmws\",\"orientation\":\"v\",\"showlegend\":true,\"x\":[2.0,112.88888888888889,223.77777777777777,334.66666666666663,445.55555555555554,556.4444444444445,667.3333333333333,778.2222222222222,889.1111111111111,1000.0],\"xaxis\":\"x\",\"y\":[4.835999612763922,1.3150078938713472,0.9936952889337137,0.8404312862295292,0.7452695871702922,0.6784917867045087,0.628149546257202,0.5883593454674554,0.5558340040938257,0.5285698410263101],\"yaxis\":\"y\",\"type\":\"scatter\"},{\"hovertemplate\":\"algo=tree_of_pmws<br>block_size=100.0<br>exponent_size_limit=0.9<br>n_blocks=%{x}<br>error=%{y}<extra></extra>\",\"legendgroup\":\"tree_of_pmws\",\"line\":{\"color\":\"#00cc96\",\"dash\":\"solid\"},\"marker\":{\"symbol\":\"circle\"},\"mode\":\"lines\",\"name\":\"tree_of_pmws\",\"orientation\":\"v\",\"showlegend\":false,\"x\":[2.0,112.88888888888889,223.77777777777777,334.66666666666663,445.55555555555554,556.4444444444445,667.3333333333333,778.2222222222222,889.1111111111111,1000.0],\"xaxis\":\"x2\",\"y\":[4.512147185767965,0.8197156751079141,0.5784576050610104,0.4699384341263064,0.40497033625141515,0.36058064704881737,0.32781495971459046,0.3023655395732211,0.2818704236334338,0.2649124564027835],\"yaxis\":\"y2\",\"type\":\"scatter\"},{\"hovertemplate\":\"algo=tree_of_pmws<br>block_size=100.0<br>exponent_size_limit=0.5<br>n_blocks=%{x}<br>error=%{y}<extra></extra>\",\"legendgroup\":\"tree_of_pmws\",\"line\":{\"color\":\"#00cc96\",\"dash\":\"solid\"},\"marker\":{\"symbol\":\"circle\"},\"mode\":\"lines\",\"name\":\"tree_of_pmws\",\"orientation\":\"v\",\"showlegend\":false,\"x\":[2.0,112.88888888888889,223.77777777777777,334.66666666666663,445.55555555555554,556.4444444444445,667.3333333333333,778.2222222222222,889.1111111111111,1000.0],\"xaxis\":\"x3\",\"y\":[3.419568120000888,0.12376640052181205,0.06642701733628711,0.045940527991867666,0.03530713412628772,0.02876296742434222,0.024315972367612827,0.021090692616581388,0.01864090929234772,0.01671484600116252],\"yaxis\":\"y3\",\"type\":\"scatter\"}],                        {\"template\":{\"data\":{\"histogram2dcontour\":[{\"type\":\"histogram2dcontour\",\"colorbar\":{\"outlinewidth\":0,\"ticks\":\"\"},\"colorscale\":[[0.0,\"#0d0887\"],[0.1111111111111111,\"#46039f\"],[0.2222222222222222,\"#7201a8\"],[0.3333333333333333,\"#9c179e\"],[0.4444444444444444,\"#bd3786\"],[0.5555555555555556,\"#d8576b\"],[0.6666666666666666,\"#ed7953\"],[0.7777777777777778,\"#fb9f3a\"],[0.8888888888888888,\"#fdca26\"],[1.0,\"#f0f921\"]]}],\"choropleth\":[{\"type\":\"choropleth\",\"colorbar\":{\"outlinewidth\":0,\"ticks\":\"\"}}],\"histogram2d\":[{\"type\":\"histogram2d\",\"colorbar\":{\"outlinewidth\":0,\"ticks\":\"\"},\"colorscale\":[[0.0,\"#0d0887\"],[0.1111111111111111,\"#46039f\"],[0.2222222222222222,\"#7201a8\"],[0.3333333333333333,\"#9c179e\"],[0.4444444444444444,\"#bd3786\"],[0.5555555555555556,\"#d8576b\"],[0.6666666666666666,\"#ed7953\"],[0.7777777777777778,\"#fb9f3a\"],[0.8888888888888888,\"#fdca26\"],[1.0,\"#f0f921\"]]}],\"heatmap\":[{\"type\":\"heatmap\",\"colorbar\":{\"outlinewidth\":0,\"ticks\":\"\"},\"colorscale\":[[0.0,\"#0d0887\"],[0.1111111111111111,\"#46039f\"],[0.2222222222222222,\"#7201a8\"],[0.3333333333333333,\"#9c179e\"],[0.4444444444444444,\"#bd3786\"],[0.5555555555555556,\"#d8576b\"],[0.6666666666666666,\"#ed7953\"],[0.7777777777777778,\"#fb9f3a\"],[0.8888888888888888,\"#fdca26\"],[1.0,\"#f0f921\"]]}],\"heatmapgl\":[{\"type\":\"heatmapgl\",\"colorbar\":{\"outlinewidth\":0,\"ticks\":\"\"},\"colorscale\":[[0.0,\"#0d0887\"],[0.1111111111111111,\"#46039f\"],[0.2222222222222222,\"#7201a8\"],[0.3333333333333333,\"#9c179e\"],[0.4444444444444444,\"#bd3786\"],[0.5555555555555556,\"#d8576b\"],[0.6666666666666666,\"#ed7953\"],[0.7777777777777778,\"#fb9f3a\"],[0.8888888888888888,\"#fdca26\"],[1.0,\"#f0f921\"]]}],\"contourcarpet\":[{\"type\":\"contourcarpet\",\"colorbar\":{\"outlinewidth\":0,\"ticks\":\"\"}}],\"contour\":[{\"type\":\"contour\",\"colorbar\":{\"outlinewidth\":0,\"ticks\":\"\"},\"colorscale\":[[0.0,\"#0d0887\"],[0.1111111111111111,\"#46039f\"],[0.2222222222222222,\"#7201a8\"],[0.3333333333333333,\"#9c179e\"],[0.4444444444444444,\"#bd3786\"],[0.5555555555555556,\"#d8576b\"],[0.6666666666666666,\"#ed7953\"],[0.7777777777777778,\"#fb9f3a\"],[0.8888888888888888,\"#fdca26\"],[1.0,\"#f0f921\"]]}],\"surface\":[{\"type\":\"surface\",\"colorbar\":{\"outlinewidth\":0,\"ticks\":\"\"},\"colorscale\":[[0.0,\"#0d0887\"],[0.1111111111111111,\"#46039f\"],[0.2222222222222222,\"#7201a8\"],[0.3333333333333333,\"#9c179e\"],[0.4444444444444444,\"#bd3786\"],[0.5555555555555556,\"#d8576b\"],[0.6666666666666666,\"#ed7953\"],[0.7777777777777778,\"#fb9f3a\"],[0.8888888888888888,\"#fdca26\"],[1.0,\"#f0f921\"]]}],\"mesh3d\":[{\"type\":\"mesh3d\",\"colorbar\":{\"outlinewidth\":0,\"ticks\":\"\"}}],\"scatter\":[{\"fillpattern\":{\"fillmode\":\"overlay\",\"size\":10,\"solidity\":0.2},\"type\":\"scatter\"}],\"parcoords\":[{\"type\":\"parcoords\",\"line\":{\"colorbar\":{\"outlinewidth\":0,\"ticks\":\"\"}}}],\"scatterpolargl\":[{\"type\":\"scatterpolargl\",\"marker\":{\"colorbar\":{\"outlinewidth\":0,\"ticks\":\"\"}}}],\"bar\":[{\"error_x\":{\"color\":\"#2a3f5f\"},\"error_y\":{\"color\":\"#2a3f5f\"},\"marker\":{\"line\":{\"color\":\"#E5ECF6\",\"width\":0.5},\"pattern\":{\"fillmode\":\"overlay\",\"size\":10,\"solidity\":0.2}},\"type\":\"bar\"}],\"scattergeo\":[{\"type\":\"scattergeo\",\"marker\":{\"colorbar\":{\"outlinewidth\":0,\"ticks\":\"\"}}}],\"scatterpolar\":[{\"type\":\"scatterpolar\",\"marker\":{\"colorbar\":{\"outlinewidth\":0,\"ticks\":\"\"}}}],\"histogram\":[{\"marker\":{\"pattern\":{\"fillmode\":\"overlay\",\"size\":10,\"solidity\":0.2}},\"type\":\"histogram\"}],\"scattergl\":[{\"type\":\"scattergl\",\"marker\":{\"colorbar\":{\"outlinewidth\":0,\"ticks\":\"\"}}}],\"scatter3d\":[{\"type\":\"scatter3d\",\"line\":{\"colorbar\":{\"outlinewidth\":0,\"ticks\":\"\"}},\"marker\":{\"colorbar\":{\"outlinewidth\":0,\"ticks\":\"\"}}}],\"scattermapbox\":[{\"type\":\"scattermapbox\",\"marker\":{\"colorbar\":{\"outlinewidth\":0,\"ticks\":\"\"}}}],\"scatterternary\":[{\"type\":\"scatterternary\",\"marker\":{\"colorbar\":{\"outlinewidth\":0,\"ticks\":\"\"}}}],\"scattercarpet\":[{\"type\":\"scattercarpet\",\"marker\":{\"colorbar\":{\"outlinewidth\":0,\"ticks\":\"\"}}}],\"carpet\":[{\"aaxis\":{\"endlinecolor\":\"#2a3f5f\",\"gridcolor\":\"white\",\"linecolor\":\"white\",\"minorgridcolor\":\"white\",\"startlinecolor\":\"#2a3f5f\"},\"baxis\":{\"endlinecolor\":\"#2a3f5f\",\"gridcolor\":\"white\",\"linecolor\":\"white\",\"minorgridcolor\":\"white\",\"startlinecolor\":\"#2a3f5f\"},\"type\":\"carpet\"}],\"table\":[{\"cells\":{\"fill\":{\"color\":\"#EBF0F8\"},\"line\":{\"color\":\"white\"}},\"header\":{\"fill\":{\"color\":\"#C8D4E3\"},\"line\":{\"color\":\"white\"}},\"type\":\"table\"}],\"barpolar\":[{\"marker\":{\"line\":{\"color\":\"#E5ECF6\",\"width\":0.5},\"pattern\":{\"fillmode\":\"overlay\",\"size\":10,\"solidity\":0.2}},\"type\":\"barpolar\"}],\"pie\":[{\"automargin\":true,\"type\":\"pie\"}]},\"layout\":{\"autotypenumbers\":\"strict\",\"colorway\":[\"#636efa\",\"#EF553B\",\"#00cc96\",\"#ab63fa\",\"#FFA15A\",\"#19d3f3\",\"#FF6692\",\"#B6E880\",\"#FF97FF\",\"#FECB52\"],\"font\":{\"color\":\"#2a3f5f\"},\"hovermode\":\"closest\",\"hoverlabel\":{\"align\":\"left\"},\"paper_bgcolor\":\"white\",\"plot_bgcolor\":\"#E5ECF6\",\"polar\":{\"bgcolor\":\"#E5ECF6\",\"angularaxis\":{\"gridcolor\":\"white\",\"linecolor\":\"white\",\"ticks\":\"\"},\"radialaxis\":{\"gridcolor\":\"white\",\"linecolor\":\"white\",\"ticks\":\"\"}},\"ternary\":{\"bgcolor\":\"#E5ECF6\",\"aaxis\":{\"gridcolor\":\"white\",\"linecolor\":\"white\",\"ticks\":\"\"},\"baxis\":{\"gridcolor\":\"white\",\"linecolor\":\"white\",\"ticks\":\"\"},\"caxis\":{\"gridcolor\":\"white\",\"linecolor\":\"white\",\"ticks\":\"\"}},\"coloraxis\":{\"colorbar\":{\"outlinewidth\":0,\"ticks\":\"\"}},\"colorscale\":{\"sequential\":[[0.0,\"#0d0887\"],[0.1111111111111111,\"#46039f\"],[0.2222222222222222,\"#7201a8\"],[0.3333333333333333,\"#9c179e\"],[0.4444444444444444,\"#bd3786\"],[0.5555555555555556,\"#d8576b\"],[0.6666666666666666,\"#ed7953\"],[0.7777777777777778,\"#fb9f3a\"],[0.8888888888888888,\"#fdca26\"],[1.0,\"#f0f921\"]],\"sequentialminus\":[[0.0,\"#0d0887\"],[0.1111111111111111,\"#46039f\"],[0.2222222222222222,\"#7201a8\"],[0.3333333333333333,\"#9c179e\"],[0.4444444444444444,\"#bd3786\"],[0.5555555555555556,\"#d8576b\"],[0.6666666666666666,\"#ed7953\"],[0.7777777777777778,\"#fb9f3a\"],[0.8888888888888888,\"#fdca26\"],[1.0,\"#f0f921\"]],\"diverging\":[[0,\"#8e0152\"],[0.1,\"#c51b7d\"],[0.2,\"#de77ae\"],[0.3,\"#f1b6da\"],[0.4,\"#fde0ef\"],[0.5,\"#f7f7f7\"],[0.6,\"#e6f5d0\"],[0.7,\"#b8e186\"],[0.8,\"#7fbc41\"],[0.9,\"#4d9221\"],[1,\"#276419\"]]},\"xaxis\":{\"gridcolor\":\"white\",\"linecolor\":\"white\",\"ticks\":\"\",\"title\":{\"standoff\":15},\"zerolinecolor\":\"white\",\"automargin\":true,\"zerolinewidth\":2},\"yaxis\":{\"gridcolor\":\"white\",\"linecolor\":\"white\",\"ticks\":\"\",\"title\":{\"standoff\":15},\"zerolinecolor\":\"white\",\"automargin\":true,\"zerolinewidth\":2},\"scene\":{\"xaxis\":{\"backgroundcolor\":\"#E5ECF6\",\"gridcolor\":\"white\",\"linecolor\":\"white\",\"showbackground\":true,\"ticks\":\"\",\"zerolinecolor\":\"white\",\"gridwidth\":2},\"yaxis\":{\"backgroundcolor\":\"#E5ECF6\",\"gridcolor\":\"white\",\"linecolor\":\"white\",\"showbackground\":true,\"ticks\":\"\",\"zerolinecolor\":\"white\",\"gridwidth\":2},\"zaxis\":{\"backgroundcolor\":\"#E5ECF6\",\"gridcolor\":\"white\",\"linecolor\":\"white\",\"showbackground\":true,\"ticks\":\"\",\"zerolinecolor\":\"white\",\"gridwidth\":2}},\"shapedefaults\":{\"line\":{\"color\":\"#2a3f5f\"}},\"annotationdefaults\":{\"arrowcolor\":\"#2a3f5f\",\"arrowhead\":0,\"arrowwidth\":1},\"geo\":{\"bgcolor\":\"white\",\"landcolor\":\"#E5ECF6\",\"subunitcolor\":\"white\",\"showland\":true,\"showlakes\":true,\"lakecolor\":\"white\"},\"title\":{\"x\":0.05},\"mapbox\":{\"style\":\"light\"}}},\"xaxis\":{\"anchor\":\"y\",\"domain\":[0.0,0.31999999999999995],\"title\":{\"text\":\"n_blocks\"},\"type\":\"log\"},\"yaxis\":{\"anchor\":\"x\",\"domain\":[0.0,1.0],\"title\":{\"text\":\"error\"},\"type\":\"log\",\"range\":[-2.9999999999999996,0.0]},\"xaxis2\":{\"anchor\":\"y2\",\"domain\":[0.33999999999999997,0.6599999999999999],\"matches\":\"x\",\"title\":{\"text\":\"n_blocks\"},\"type\":\"log\"},\"yaxis2\":{\"anchor\":\"x2\",\"domain\":[0.0,1.0],\"matches\":\"y\",\"showticklabels\":false,\"type\":\"log\"},\"xaxis3\":{\"anchor\":\"y3\",\"domain\":[0.6799999999999999,0.9999999999999999],\"matches\":\"x\",\"title\":{\"text\":\"n_blocks\"},\"type\":\"log\"},\"yaxis3\":{\"anchor\":\"x3\",\"domain\":[0.0,1.0],\"matches\":\"y\",\"showticklabels\":false,\"type\":\"log\"},\"annotations\":[{\"font\":{},\"showarrow\":false,\"text\":\"exponent_size_limit=1.0\",\"x\":0.15999999999999998,\"xanchor\":\"center\",\"xref\":\"paper\",\"y\":1.0,\"yanchor\":\"bottom\",\"yref\":\"paper\"},{\"font\":{},\"showarrow\":false,\"text\":\"exponent_size_limit=0.9\",\"x\":0.49999999999999994,\"xanchor\":\"center\",\"xref\":\"paper\",\"y\":1.0,\"yanchor\":\"bottom\",\"yref\":\"paper\"},{\"font\":{},\"showarrow\":false,\"text\":\"exponent_size_limit=0.5\",\"x\":0.8399999999999999,\"xanchor\":\"center\",\"xref\":\"paper\",\"y\":1.0,\"yanchor\":\"bottom\",\"yref\":\"paper\"}],\"legend\":{\"title\":{\"text\":\"algo\"},\"tracegroupgap\":0},\"title\":{\"text\":\"Error bounds depending on the size of the dataset\"},\"height\":600,\"width\":1000,\"updatemenus\":[{\"buttons\":[{\"args\":[null,{\"frame\":{\"duration\":500,\"redraw\":false},\"mode\":\"immediate\",\"fromcurrent\":true,\"transition\":{\"duration\":500,\"easing\":\"linear\"}}],\"label\":\"&#9654;\",\"method\":\"animate\"},{\"args\":[[null],{\"frame\":{\"duration\":0,\"redraw\":false},\"mode\":\"immediate\",\"fromcurrent\":true,\"transition\":{\"duration\":0,\"easing\":\"linear\"}}],\"label\":\"&#9724;\",\"method\":\"animate\"}],\"direction\":\"left\",\"pad\":{\"r\":10,\"t\":70},\"showactive\":false,\"type\":\"buttons\",\"x\":0.1,\"xanchor\":\"right\",\"y\":0,\"yanchor\":\"top\"}],\"sliders\":[{\"active\":0,\"currentvalue\":{\"prefix\":\"block_size=\"},\"len\":0.9,\"pad\":{\"b\":10,\"t\":60},\"steps\":[{\"args\":[[\"100.0\"],{\"frame\":{\"duration\":0,\"redraw\":false},\"mode\":\"immediate\",\"fromcurrent\":true,\"transition\":{\"duration\":0,\"easing\":\"linear\"}}],\"label\":\"100.0\",\"method\":\"animate\"},{\"args\":[[\"200.0\"],{\"frame\":{\"duration\":0,\"redraw\":false},\"mode\":\"immediate\",\"fromcurrent\":true,\"transition\":{\"duration\":0,\"easing\":\"linear\"}}],\"label\":\"200.0\",\"method\":\"animate\"},{\"args\":[[\"300.0\"],{\"frame\":{\"duration\":0,\"redraw\":false},\"mode\":\"immediate\",\"fromcurrent\":true,\"transition\":{\"duration\":0,\"easing\":\"linear\"}}],\"label\":\"300.0\",\"method\":\"animate\"},{\"args\":[[\"400.0\"],{\"frame\":{\"duration\":0,\"redraw\":false},\"mode\":\"immediate\",\"fromcurrent\":true,\"transition\":{\"duration\":0,\"easing\":\"linear\"}}],\"label\":\"400.0\",\"method\":\"animate\"},{\"args\":[[\"500.0\"],{\"frame\":{\"duration\":0,\"redraw\":false},\"mode\":\"immediate\",\"fromcurrent\":true,\"transition\":{\"duration\":0,\"easing\":\"linear\"}}],\"label\":\"500.0\",\"method\":\"animate\"},{\"args\":[[\"600.0\"],{\"frame\":{\"duration\":0,\"redraw\":false},\"mode\":\"immediate\",\"fromcurrent\":true,\"transition\":{\"duration\":0,\"easing\":\"linear\"}}],\"label\":\"600.0\",\"method\":\"animate\"},{\"args\":[[\"700.0\"],{\"frame\":{\"duration\":0,\"redraw\":false},\"mode\":\"immediate\",\"fromcurrent\":true,\"transition\":{\"duration\":0,\"easing\":\"linear\"}}],\"label\":\"700.0\",\"method\":\"animate\"},{\"args\":[[\"800.0\"],{\"frame\":{\"duration\":0,\"redraw\":false},\"mode\":\"immediate\",\"fromcurrent\":true,\"transition\":{\"duration\":0,\"easing\":\"linear\"}}],\"label\":\"800.0\",\"method\":\"animate\"},{\"args\":[[\"900.0\"],{\"frame\":{\"duration\":0,\"redraw\":false},\"mode\":\"immediate\",\"fromcurrent\":true,\"transition\":{\"duration\":0,\"easing\":\"linear\"}}],\"label\":\"900.0\",\"method\":\"animate\"},{\"args\":[[\"1000.0\"],{\"frame\":{\"duration\":0,\"redraw\":false},\"mode\":\"immediate\",\"fromcurrent\":true,\"transition\":{\"duration\":0,\"easing\":\"linear\"}}],\"label\":\"1000.0\",\"method\":\"animate\"}],\"x\":0.1,\"xanchor\":\"left\",\"y\":0,\"yanchor\":\"top\"}]},                        {\"responsive\": true}                    ).then(function(){\n",
       "                            Plotly.addFrames('6ae9edf2-5d89-4059-90f8-fe2c870e6448', [{\"data\":[{\"hovertemplate\":\"algo=pmwg<br>block_size=100.0<br>exponent_size_limit=1.0<br>n_blocks=%{x}<br>error=%{y}<extra></extra>\",\"legendgroup\":\"pmwg\",\"line\":{\"color\":\"#636efa\",\"dash\":\"solid\"},\"marker\":{\"symbol\":\"circle\"},\"mode\":\"lines\",\"name\":\"pmwg\",\"orientation\":\"v\",\"showlegend\":true,\"x\":[2.0,112.88888888888889,223.77777777777777,334.66666666666663,445.55555555555554,556.4444444444445,667.3333333333333,778.2222222222222,889.1111111111111,1000.0],\"xaxis\":\"x\",\"y\":[1.2317205534803557,0.1725809090556857,0.1086469229279133,0.07691626943636037,0.05550886467054741,0.038136263458011195,0.02051134814373874,null,null,null],\"yaxis\":\"y\",\"type\":\"scatter\"},{\"hovertemplate\":\"algo=pmwg<br>block_size=100.0<br>exponent_size_limit=0.9<br>n_blocks=%{x}<br>error=%{y}<extra></extra>\",\"legendgroup\":\"pmwg\",\"line\":{\"color\":\"#636efa\",\"dash\":\"solid\"},\"marker\":{\"symbol\":\"circle\"},\"mode\":\"lines\",\"name\":\"pmwg\",\"orientation\":\"v\",\"showlegend\":false,\"x\":[2.0,112.88888888888889,223.77777777777777,334.66666666666663,445.55555555555554,556.4444444444445,667.3333333333333,778.2222222222222,889.1111111111111,1000.0],\"xaxis\":\"x2\",\"y\":[1.2317205534803557,0.1725809090556857,0.1086469229279133,0.07691626943636037,0.05550886467054741,0.038136263458011195,0.02051134814373874,null,null,null],\"yaxis\":\"y2\",\"type\":\"scatter\"},{\"hovertemplate\":\"algo=pmwg<br>block_size=100.0<br>exponent_size_limit=0.5<br>n_blocks=%{x}<br>error=%{y}<extra></extra>\",\"legendgroup\":\"pmwg\",\"line\":{\"color\":\"#636efa\",\"dash\":\"solid\"},\"marker\":{\"symbol\":\"circle\"},\"mode\":\"lines\",\"name\":\"pmwg\",\"orientation\":\"v\",\"showlegend\":false,\"x\":[2.0,112.88888888888889,223.77777777777777,334.66666666666663,445.55555555555554,556.4444444444445,667.3333333333333,778.2222222222222,889.1111111111111,1000.0],\"xaxis\":\"x3\",\"y\":[1.2317205534803557,0.1725809090556857,0.1086469229279133,0.07691626943636037,0.05550886467054741,0.038136263458011195,0.02051134814373874,null,null,null],\"yaxis\":\"y3\",\"type\":\"scatter\"},{\"hovertemplate\":\"algo=one_pmw_per_block<br>block_size=100.0<br>exponent_size_limit=1.0<br>n_blocks=%{x}<br>error=%{y}<extra></extra>\",\"legendgroup\":\"one_pmw_per_block\",\"line\":{\"color\":\"#EF553B\",\"dash\":\"solid\"},\"marker\":{\"symbol\":\"circle\"},\"mode\":\"lines\",\"name\":\"one_pmw_per_block\",\"orientation\":\"v\",\"showlegend\":true,\"x\":[2.0,112.88888888888889,223.77777777777777,334.66666666666663,445.55555555555554,556.4444444444445,667.3333333333333,778.2222222222222,889.1111111111111,1000.0],\"xaxis\":\"x\",\"y\":[1.1707109460190561,1.388788996456486,1.4224730479574015,1.4419187984408408,1.4555877927693452,1.4661148733456255,1.474666657799597,1.4818622468405296,1.4880695344059969,1.493524885420546],\"yaxis\":\"y\",\"type\":\"scatter\"},{\"hovertemplate\":\"algo=one_pmw_per_block<br>block_size=100.0<br>exponent_size_limit=0.9<br>n_blocks=%{x}<br>error=%{y}<extra></extra>\",\"legendgroup\":\"one_pmw_per_block\",\"line\":{\"color\":\"#EF553B\",\"dash\":\"solid\"},\"marker\":{\"symbol\":\"circle\"},\"mode\":\"lines\",\"name\":\"one_pmw_per_block\",\"orientation\":\"v\",\"showlegend\":false,\"x\":[2.0,112.88888888888889,223.77777777777777,334.66666666666663,445.55555555555554,556.4444444444445,667.3333333333333,778.2222222222222,889.1111111111111,1000.0],\"xaxis\":\"x2\",\"y\":[1.0923119361890459,0.8657074342430879,0.8280610381762243,0.8062682498608362,0.7909485212182213,0.7791585101517154,0.7695902892861193,0.7615483314591232,0.7546188016021818,0.7485356056774124],\"yaxis\":\"y2\",\"type\":\"scatter\"},{\"hovertemplate\":\"algo=one_pmw_per_block<br>block_size=100.0<br>exponent_size_limit=0.5<br>n_blocks=%{x}<br>error=%{y}<extra></extra>\",\"legendgroup\":\"one_pmw_per_block\",\"line\":{\"color\":\"#EF553B\",\"dash\":\"solid\"},\"marker\":{\"symbol\":\"circle\"},\"mode\":\"lines\",\"name\":\"one_pmw_per_block\",\"orientation\":\"v\",\"showlegend\":false,\"x\":[2.0,112.88888888888889,223.77777777777777,334.66666666666663,445.55555555555554,556.4444444444445,667.3333333333333,778.2222222222222,889.1111111111111,1000.0],\"xaxis\":\"x3\",\"y\":[0.8278176487393928,0.13071055769079293,0.09509015778716312,0.07881966319811685,0.06895844713994921,0.062152284181959165,0.057085058671382964,0.05311974967168941,0.04990513176103906,0.04722940380070931],\"yaxis\":\"y3\",\"type\":\"scatter\"},{\"hovertemplate\":\"algo=tree_of_pmws<br>block_size=100.0<br>exponent_size_limit=1.0<br>n_blocks=%{x}<br>error=%{y}<extra></extra>\",\"legendgroup\":\"tree_of_pmws\",\"line\":{\"color\":\"#00cc96\",\"dash\":\"solid\"},\"marker\":{\"symbol\":\"circle\"},\"mode\":\"lines\",\"name\":\"tree_of_pmws\",\"orientation\":\"v\",\"showlegend\":true,\"x\":[2.0,112.88888888888889,223.77777777777777,334.66666666666663,445.55555555555554,556.4444444444445,667.3333333333333,778.2222222222222,889.1111111111111,1000.0],\"xaxis\":\"x\",\"y\":[4.835999612763922,1.3150078938713472,0.9936952889337137,0.8404312862295292,0.7452695871702922,0.6784917867045087,0.628149546257202,0.5883593454674554,0.5558340040938257,0.5285698410263101],\"yaxis\":\"y\",\"type\":\"scatter\"},{\"hovertemplate\":\"algo=tree_of_pmws<br>block_size=100.0<br>exponent_size_limit=0.9<br>n_blocks=%{x}<br>error=%{y}<extra></extra>\",\"legendgroup\":\"tree_of_pmws\",\"line\":{\"color\":\"#00cc96\",\"dash\":\"solid\"},\"marker\":{\"symbol\":\"circle\"},\"mode\":\"lines\",\"name\":\"tree_of_pmws\",\"orientation\":\"v\",\"showlegend\":false,\"x\":[2.0,112.88888888888889,223.77777777777777,334.66666666666663,445.55555555555554,556.4444444444445,667.3333333333333,778.2222222222222,889.1111111111111,1000.0],\"xaxis\":\"x2\",\"y\":[4.512147185767965,0.8197156751079141,0.5784576050610104,0.4699384341263064,0.40497033625141515,0.36058064704881737,0.32781495971459046,0.3023655395732211,0.2818704236334338,0.2649124564027835],\"yaxis\":\"y2\",\"type\":\"scatter\"},{\"hovertemplate\":\"algo=tree_of_pmws<br>block_size=100.0<br>exponent_size_limit=0.5<br>n_blocks=%{x}<br>error=%{y}<extra></extra>\",\"legendgroup\":\"tree_of_pmws\",\"line\":{\"color\":\"#00cc96\",\"dash\":\"solid\"},\"marker\":{\"symbol\":\"circle\"},\"mode\":\"lines\",\"name\":\"tree_of_pmws\",\"orientation\":\"v\",\"showlegend\":false,\"x\":[2.0,112.88888888888889,223.77777777777777,334.66666666666663,445.55555555555554,556.4444444444445,667.3333333333333,778.2222222222222,889.1111111111111,1000.0],\"xaxis\":\"x3\",\"y\":[3.419568120000888,0.12376640052181205,0.06642701733628711,0.045940527991867666,0.03530713412628772,0.02876296742434222,0.024315972367612827,0.021090692616581388,0.01864090929234772,0.01671484600116252],\"yaxis\":\"y3\",\"type\":\"scatter\"}],\"name\":\"100.0\"},{\"data\":[{\"hovertemplate\":\"algo=pmwg<br>block_size=200.0<br>exponent_size_limit=1.0<br>n_blocks=%{x}<br>error=%{y}<extra></extra>\",\"legendgroup\":\"pmwg\",\"line\":{\"color\":\"#636efa\",\"dash\":\"solid\"},\"marker\":{\"symbol\":\"circle\"},\"mode\":\"lines\",\"name\":\"pmwg\",\"orientation\":\"v\",\"showlegend\":true,\"x\":[2.0,112.88888888888889,223.77777777777777,334.66666666666663,445.55555555555554,556.4444444444445,667.3333333333333,778.2222222222222,889.1111111111111,1000.0],\"xaxis\":\"x\",\"y\":[0.9097304711299413,0.12699730715451288,0.08053174117256053,0.05766210942905913,0.04243555097547752,0.030402712450643396,0.01913511878219117,null,null,null],\"yaxis\":\"y\",\"type\":\"scatter\"},{\"hovertemplate\":\"algo=pmwg<br>block_size=200.0<br>exponent_size_limit=0.9<br>n_blocks=%{x}<br>error=%{y}<extra></extra>\",\"legendgroup\":\"pmwg\",\"line\":{\"color\":\"#636efa\",\"dash\":\"solid\"},\"marker\":{\"symbol\":\"circle\"},\"mode\":\"lines\",\"name\":\"pmwg\",\"orientation\":\"v\",\"showlegend\":false,\"x\":[2.0,112.88888888888889,223.77777777777777,334.66666666666663,445.55555555555554,556.4444444444445,667.3333333333333,778.2222222222222,889.1111111111111,1000.0],\"xaxis\":\"x2\",\"y\":[0.9097304711299413,0.12699730715451288,0.08053174117256053,0.05766210942905913,0.04243555097547752,0.030402712450643396,0.01913511878219117,null,null,null],\"yaxis\":\"y2\",\"type\":\"scatter\"},{\"hovertemplate\":\"algo=pmwg<br>block_size=200.0<br>exponent_size_limit=0.5<br>n_blocks=%{x}<br>error=%{y}<extra></extra>\",\"legendgroup\":\"pmwg\",\"line\":{\"color\":\"#636efa\",\"dash\":\"solid\"},\"marker\":{\"symbol\":\"circle\"},\"mode\":\"lines\",\"name\":\"pmwg\",\"orientation\":\"v\",\"showlegend\":false,\"x\":[2.0,112.88888888888889,223.77777777777777,334.66666666666663,445.55555555555554,556.4444444444445,667.3333333333333,778.2222222222222,889.1111111111111,1000.0],\"xaxis\":\"x3\",\"y\":[0.9097304711299413,0.12699730715451288,0.08053174117256053,0.05766210942905913,0.04243555097547752,0.030402712450643396,0.01913511878219117,null,null,null],\"yaxis\":\"y3\",\"type\":\"scatter\"},{\"hovertemplate\":\"algo=one_pmw_per_block<br>block_size=200.0<br>exponent_size_limit=1.0<br>n_blocks=%{x}<br>error=%{y}<extra></extra>\",\"legendgroup\":\"one_pmw_per_block\",\"line\":{\"color\":\"#EF553B\",\"dash\":\"solid\"},\"marker\":{\"symbol\":\"circle\"},\"mode\":\"lines\",\"name\":\"one_pmw_per_block\",\"orientation\":\"v\",\"showlegend\":true,\"x\":[2.0,112.88888888888889,223.77777777777777,334.66666666666663,445.55555555555554,556.4444444444445,667.3333333333333,778.2222222222222,889.1111111111111,1000.0],\"xaxis\":\"x\",\"y\":[0.8278176487393928,0.9820221170316412,1.0058403382657757,1.0195905602978772,1.029255998879563,1.0366997689411481,1.042746793719797,1.047834843525272,1.0522240586555889,1.0560815743517296],\"yaxis\":\"y\",\"type\":\"scatter\"},{\"hovertemplate\":\"algo=one_pmw_per_block<br>block_size=200.0<br>exponent_size_limit=0.9<br>n_blocks=%{x}<br>error=%{y}<extra></extra>\",\"legendgroup\":\"one_pmw_per_block\",\"line\":{\"color\":\"#EF553B\",\"dash\":\"solid\"},\"marker\":{\"symbol\":\"circle\"},\"mode\":\"lines\",\"name\":\"one_pmw_per_block\",\"orientation\":\"v\",\"showlegend\":false,\"x\":[2.0,112.88888888888889,223.77777777777777,334.66666666666663,445.55555555555554,556.4444444444445,667.3333333333333,778.2222222222222,889.1111111111111,1000.0],\"xaxis\":\"x2\",\"y\":[0.7723811772502817,0.6121475972768946,0.5855275753307809,0.5701177469320069,0.5592850629228762,0.5509482661474855,0.5441825122895317,0.5384959893760466,0.5335960718237687,0.5292946027340779],\"yaxis\":\"y2\",\"type\":\"scatter\"},{\"hovertemplate\":\"algo=one_pmw_per_block<br>block_size=200.0<br>exponent_size_limit=0.5<br>n_blocks=%{x}<br>error=%{y}<extra></extra>\",\"legendgroup\":\"one_pmw_per_block\",\"line\":{\"color\":\"#EF553B\",\"dash\":\"solid\"},\"marker\":{\"symbol\":\"circle\"},\"mode\":\"lines\",\"name\":\"one_pmw_per_block\",\"orientation\":\"v\",\"showlegend\":false,\"x\":[2.0,112.88888888888889,223.77777777777777,334.66666666666663,445.55555555555554,556.4444444444445,667.3333333333333,778.2222222222222,889.1111111111111,1000.0],\"xaxis\":\"x3\",\"y\":[0.5853554730095281,0.0924263217158351,0.06723889539540183,0.05573391833822819,0.04876098559275217,0.043948301611296724,0.04036523209096682,0.037561335207783465,0.03528825708423887,0.03339623169887925],\"yaxis\":\"y3\",\"type\":\"scatter\"},{\"hovertemplate\":\"algo=tree_of_pmws<br>block_size=200.0<br>exponent_size_limit=1.0<br>n_blocks=%{x}<br>error=%{y}<extra></extra>\",\"legendgroup\":\"tree_of_pmws\",\"line\":{\"color\":\"#00cc96\",\"dash\":\"solid\"},\"marker\":{\"symbol\":\"circle\"},\"mode\":\"lines\",\"name\":\"tree_of_pmws\",\"orientation\":\"v\",\"showlegend\":true,\"x\":[2.0,112.88888888888889,223.77777777777777,334.66666666666663,445.55555555555554,556.4444444444445,667.3333333333333,778.2222222222222,889.1111111111111,1000.0],\"xaxis\":\"x\",\"y\":[3.419568120000888,0.9298509990702694,0.7026486772381546,0.5942746616142325,0.5269851789002125,0.4797661433581347,0.44416880375772044,0.4160328829545163,0.3930339935088154,0.37375531892039926],\"yaxis\":\"y\",\"type\":\"scatter\"},{\"hovertemplate\":\"algo=tree_of_pmws<br>block_size=200.0<br>exponent_size_limit=0.9<br>n_blocks=%{x}<br>error=%{y}<extra></extra>\",\"legendgroup\":\"tree_of_pmws\",\"line\":{\"color\":\"#00cc96\",\"dash\":\"solid\"},\"marker\":{\"symbol\":\"circle\"},\"mode\":\"lines\",\"name\":\"tree_of_pmws\",\"orientation\":\"v\",\"showlegend\":false,\"x\":[2.0,112.88888888888889,223.77777777777777,334.66666666666663,445.55555555555554,556.4444444444445,667.3333333333333,778.2222222222222,889.1111111111111,1000.0],\"xaxis\":\"x2\",\"y\":[3.1905698727683247,0.5796265125137149,0.4090312951675702,0.332296653510899,0.286357270942772,0.2549690206928518,0.2318001809885818,0.21380472342935403,0.19931248796712595,0.18732139434319384],\"yaxis\":\"y2\",\"type\":\"scatter\"},{\"hovertemplate\":\"algo=tree_of_pmws<br>block_size=200.0<br>exponent_size_limit=0.5<br>n_blocks=%{x}<br>error=%{y}<extra></extra>\",\"legendgroup\":\"tree_of_pmws\",\"line\":{\"color\":\"#00cc96\",\"dash\":\"solid\"},\"marker\":{\"symbol\":\"circle\"},\"mode\":\"lines\",\"name\":\"tree_of_pmws\",\"orientation\":\"v\",\"showlegend\":false,\"x\":[2.0,112.88888888888889,223.77777777777777,334.66666666666663,445.55555555555554,556.4444444444445,667.3333333333333,778.2222222222222,889.1111111111111,1000.0],\"xaxis\":\"x3\",\"y\":[2.4179998063819617,0.08751606109202355,0.04697099441248497,0.032484858874340036,0.024965913964961017,0.02033848931280015,0.01719398895228374,0.014913371769105748,0.0131811133681024,0.011819180953910866],\"yaxis\":\"y3\",\"type\":\"scatter\"}],\"name\":\"200.0\"},{\"data\":[{\"hovertemplate\":\"algo=pmwg<br>block_size=300.0<br>exponent_size_limit=1.0<br>n_blocks=%{x}<br>error=%{y}<extra></extra>\",\"legendgroup\":\"pmwg\",\"line\":{\"color\":\"#636efa\",\"dash\":\"solid\"},\"marker\":{\"symbol\":\"circle\"},\"mode\":\"lines\",\"name\":\"pmwg\",\"orientation\":\"v\",\"showlegend\":true,\"x\":[2.0,112.88888888888889,223.77777777777777,334.66666666666663,445.55555555555554,556.4444444444445,667.3333333333333,778.2222222222222,889.1111111111111,1000.0],\"xaxis\":\"x\",\"y\":[0.7610648457920153,0.1060394638504529,0.06750122187980144,0.04861516709578549,0.03612334820637813,0.026372512150870893,0.017519306973513112,0.0064802335576775675,null,null],\"yaxis\":\"y\",\"type\":\"scatter\"},{\"hovertemplate\":\"algo=pmwg<br>block_size=300.0<br>exponent_size_limit=0.9<br>n_blocks=%{x}<br>error=%{y}<extra></extra>\",\"legendgroup\":\"pmwg\",\"line\":{\"color\":\"#636efa\",\"dash\":\"solid\"},\"marker\":{\"symbol\":\"circle\"},\"mode\":\"lines\",\"name\":\"pmwg\",\"orientation\":\"v\",\"showlegend\":false,\"x\":[2.0,112.88888888888889,223.77777777777777,334.66666666666663,445.55555555555554,556.4444444444445,667.3333333333333,778.2222222222222,889.1111111111111,1000.0],\"xaxis\":\"x2\",\"y\":[0.7610648457920153,0.1060394638504529,0.06750122187980144,0.04861516709578549,0.03612334820637813,0.026372512150870893,0.017519306973513112,0.0064802335576775675,null,null],\"yaxis\":\"y2\",\"type\":\"scatter\"},{\"hovertemplate\":\"algo=pmwg<br>block_size=300.0<br>exponent_size_limit=0.5<br>n_blocks=%{x}<br>error=%{y}<extra></extra>\",\"legendgroup\":\"pmwg\",\"line\":{\"color\":\"#636efa\",\"dash\":\"solid\"},\"marker\":{\"symbol\":\"circle\"},\"mode\":\"lines\",\"name\":\"pmwg\",\"orientation\":\"v\",\"showlegend\":false,\"x\":[2.0,112.88888888888889,223.77777777777777,334.66666666666663,445.55555555555554,556.4444444444445,667.3333333333333,778.2222222222222,889.1111111111111,1000.0],\"xaxis\":\"x3\",\"y\":[0.7610648457920153,0.1060394638504529,0.06750122187980144,0.04861516709578549,0.03612334820637813,0.026372512150870893,0.017519306973513112,0.0064802335576775675,null,null],\"yaxis\":\"y3\",\"type\":\"scatter\"},{\"hovertemplate\":\"algo=one_pmw_per_block<br>block_size=300.0<br>exponent_size_limit=1.0<br>n_blocks=%{x}<br>error=%{y}<extra></extra>\",\"legendgroup\":\"one_pmw_per_block\",\"line\":{\"color\":\"#EF553B\",\"dash\":\"solid\"},\"marker\":{\"symbol\":\"circle\"},\"mode\":\"lines\",\"name\":\"one_pmw_per_block\",\"orientation\":\"v\",\"showlegend\":true,\"x\":[2.0,112.88888888888889,223.77777777777777,334.66666666666663,445.55555555555554,556.4444444444445,667.3333333333333,778.2222222222222,889.1111111111111,1000.0],\"xaxis\":\"x\",\"y\":[0.6759102798273435,0.8018177009517423,0.8212651971531931,0.8324922064294012,0.8403840039845146,0.8464618167890111,0.8513991918455631,0.8555535671153234,0.8591373462621833,0.8622869946389573],\"yaxis\":\"y\",\"type\":\"scatter\"},{\"hovertemplate\":\"algo=one_pmw_per_block<br>block_size=300.0<br>exponent_size_limit=0.9<br>n_blocks=%{x}<br>error=%{y}<extra></extra>\",\"legendgroup\":\"one_pmw_per_block\",\"line\":{\"color\":\"#EF553B\",\"dash\":\"solid\"},\"marker\":{\"symbol\":\"circle\"},\"mode\":\"lines\",\"name\":\"one_pmw_per_block\",\"orientation\":\"v\",\"showlegend\":false,\"x\":[2.0,112.88888888888889,223.77777777777777,334.66666666666663,445.55555555555554,556.4444444444445,667.3333333333333,778.2222222222222,889.1111111111111,1000.0],\"xaxis\":\"x2\",\"y\":[0.6306465903977869,0.49981642019970707,0.4780812632964841,0.46549919109620225,0.4566543416404765,0.4498473755774808,0.44432316068506295,0.4396801341688351,0.4356793682405724,0.43216723343587365],\"yaxis\":\"y2\",\"type\":\"scatter\"},{\"hovertemplate\":\"algo=one_pmw_per_block<br>block_size=300.0<br>exponent_size_limit=0.5<br>n_blocks=%{x}<br>error=%{y}<extra></extra>\",\"legendgroup\":\"one_pmw_per_block\",\"line\":{\"color\":\"#EF553B\",\"dash\":\"solid\"},\"marker\":{\"symbol\":\"circle\"},\"mode\":\"lines\",\"name\":\"one_pmw_per_block\",\"orientation\":\"v\",\"showlegend\":false,\"x\":[2.0,112.88888888888889,223.77777777777777,334.66666666666663,445.55555555555554,556.4444444444445,667.3333333333333,778.2222222222222,889.1111111111111,1000.0],\"xaxis\":\"x3\",\"y\":[0.47794074233961154,0.07546577566870541,0.05490032819570261,0.04550655376486841,0.03981317801914825,0.03588363800320425,0.032958073990628535,0.030668701772235418,0.02881274125617964,0.027267908998005057],\"yaxis\":\"y3\",\"type\":\"scatter\"},{\"hovertemplate\":\"algo=tree_of_pmws<br>block_size=300.0<br>exponent_size_limit=1.0<br>n_blocks=%{x}<br>error=%{y}<extra></extra>\",\"legendgroup\":\"tree_of_pmws\",\"line\":{\"color\":\"#00cc96\",\"dash\":\"solid\"},\"marker\":{\"symbol\":\"circle\"},\"mode\":\"lines\",\"name\":\"tree_of_pmws\",\"orientation\":\"v\",\"showlegend\":true,\"x\":[2.0,112.88888888888889,223.77777777777777,334.66666666666663,445.55555555555554,556.4444444444445,667.3333333333333,778.2222222222222,889.1111111111111,1000.0],\"xaxis\":\"x\",\"y\":[2.792065678230177,0.7592201615131051,0.5737102425583426,0.48522322934000217,0.4302815967716095,0.39172741569679825,0.3626623096229369,0.3396894264858674,0.32091091188831783,0.3051699400020578],\"yaxis\":\"y\",\"type\":\"scatter\"},{\"hovertemplate\":\"algo=tree_of_pmws<br>block_size=300.0<br>exponent_size_limit=0.9<br>n_blocks=%{x}<br>error=%{y}<extra></extra>\",\"legendgroup\":\"tree_of_pmws\",\"line\":{\"color\":\"#00cc96\",\"dash\":\"solid\"},\"marker\":{\"symbol\":\"circle\"},\"mode\":\"lines\",\"name\":\"tree_of_pmws\",\"orientation\":\"v\",\"showlegend\":false,\"x\":[2.0,112.88888888888889,223.77777777777777,334.66666666666663,445.55555555555554,556.4444444444445,667.3333333333333,778.2222222222222,889.1111111111111,1000.0],\"xaxis\":\"x2\",\"y\":[2.605089392326347,0.47326306568251003,0.33397265399676057,0.27131908144537425,0.2338097326485678,0.20818133363820412,0.18926405523560513,0.17457082566626567,0.16273796496135687,0.15294727801583205],\"yaxis\":\"y2\",\"type\":\"scatter\"},{\"hovertemplate\":\"algo=tree_of_pmws<br>block_size=300.0<br>exponent_size_limit=0.5<br>n_blocks=%{x}<br>error=%{y}<extra></extra>\",\"legendgroup\":\"tree_of_pmws\",\"line\":{\"color\":\"#00cc96\",\"dash\":\"solid\"},\"marker\":{\"symbol\":\"circle\"},\"mode\":\"lines\",\"name\":\"tree_of_pmws\",\"orientation\":\"v\",\"showlegend\":false,\"x\":[2.0,112.88888888888889,223.77777777777777,334.66666666666663,445.55555555555554,556.4444444444445,667.3333333333333,778.2222222222222,889.1111111111111,1000.0],\"xaxis\":\"x3\",\"y\":[1.9742885745947754,0.07145656465789922,0.0383516563405693,0.026523776202818337,0.020384583392126437,0.016606306985136418,0.01403883319204877,0.012176717059578917,0.010762333997876353,0.009650320838234321],\"yaxis\":\"y3\",\"type\":\"scatter\"}],\"name\":\"300.0\"},{\"data\":[{\"hovertemplate\":\"algo=pmwg<br>block_size=400.0<br>exponent_size_limit=1.0<br>n_blocks=%{x}<br>error=%{y}<extra></extra>\",\"legendgroup\":\"pmwg\",\"line\":{\"color\":\"#636efa\",\"dash\":\"solid\"},\"marker\":{\"symbol\":\"circle\"},\"mode\":\"lines\",\"name\":\"pmwg\",\"orientation\":\"v\",\"showlegend\":true,\"x\":[2.0,112.88888888888889,223.77777777777777,334.66666666666663,445.55555555555554,556.4444444444445,667.3333333333333,778.2222222222222,889.1111111111111,1000.0],\"xaxis\":\"x\",\"y\":[0.6702400456574573,0.09326568867713482,0.0595229724116594,0.04303417680682976,0.03217416831335543,0.023761727965840973,0.016257452620286203,0.007704434310638276,null,null],\"yaxis\":\"y\",\"type\":\"scatter\"},{\"hovertemplate\":\"algo=pmwg<br>block_size=400.0<br>exponent_size_limit=0.9<br>n_blocks=%{x}<br>error=%{y}<extra></extra>\",\"legendgroup\":\"pmwg\",\"line\":{\"color\":\"#636efa\",\"dash\":\"solid\"},\"marker\":{\"symbol\":\"circle\"},\"mode\":\"lines\",\"name\":\"pmwg\",\"orientation\":\"v\",\"showlegend\":false,\"x\":[2.0,112.88888888888889,223.77777777777777,334.66666666666663,445.55555555555554,556.4444444444445,667.3333333333333,778.2222222222222,889.1111111111111,1000.0],\"xaxis\":\"x2\",\"y\":[0.6702400456574573,0.09326568867713482,0.0595229724116594,0.04303417680682976,0.03217416831335543,0.023761727965840973,0.016257452620286203,0.007704434310638276,null,null],\"yaxis\":\"y2\",\"type\":\"scatter\"},{\"hovertemplate\":\"algo=pmwg<br>block_size=400.0<br>exponent_size_limit=0.5<br>n_blocks=%{x}<br>error=%{y}<extra></extra>\",\"legendgroup\":\"pmwg\",\"line\":{\"color\":\"#636efa\",\"dash\":\"solid\"},\"marker\":{\"symbol\":\"circle\"},\"mode\":\"lines\",\"name\":\"pmwg\",\"orientation\":\"v\",\"showlegend\":false,\"x\":[2.0,112.88888888888889,223.77777777777777,334.66666666666663,445.55555555555554,556.4444444444445,667.3333333333333,778.2222222222222,889.1111111111111,1000.0],\"xaxis\":\"x3\",\"y\":[0.6702400456574573,0.09326568867713482,0.0595229724116594,0.04303417680682976,0.03217416831335543,0.023761727965840973,0.016257452620286203,0.007704434310638276,null,null],\"yaxis\":\"y3\",\"type\":\"scatter\"},{\"hovertemplate\":\"algo=one_pmw_per_block<br>block_size=400.0<br>exponent_size_limit=1.0<br>n_blocks=%{x}<br>error=%{y}<extra></extra>\",\"legendgroup\":\"one_pmw_per_block\",\"line\":{\"color\":\"#EF553B\",\"dash\":\"solid\"},\"marker\":{\"symbol\":\"circle\"},\"mode\":\"lines\",\"name\":\"one_pmw_per_block\",\"orientation\":\"v\",\"showlegend\":true,\"x\":[2.0,112.88888888888889,223.77777777777777,334.66666666666663,445.55555555555554,556.4444444444445,667.3333333333333,778.2222222222222,889.1111111111111,1000.0],\"xaxis\":\"x\",\"y\":[0.5853554730095281,0.694394498228243,0.7112365239787007,0.7209593992204204,0.7277938963846726,0.7330574366728128,0.7373333288997985,0.7409311234202648,0.7440347672029984,0.746762442710273],\"yaxis\":\"y\",\"type\":\"scatter\"},{\"hovertemplate\":\"algo=one_pmw_per_block<br>block_size=400.0<br>exponent_size_limit=0.9<br>n_blocks=%{x}<br>error=%{y}<extra></extra>\",\"legendgroup\":\"one_pmw_per_block\",\"line\":{\"color\":\"#EF553B\",\"dash\":\"solid\"},\"marker\":{\"symbol\":\"circle\"},\"mode\":\"lines\",\"name\":\"one_pmw_per_block\",\"orientation\":\"v\",\"showlegend\":false,\"x\":[2.0,112.88888888888889,223.77777777777777,334.66666666666663,445.55555555555554,556.4444444444445,667.3333333333333,778.2222222222222,889.1111111111111,1000.0],\"xaxis\":\"x2\",\"y\":[0.5461559680945229,0.43285371712154397,0.41403051908811217,0.4031341249304181,0.3954742606091107,0.3895792550758577,0.38479514464305964,0.3807741657295616,0.3773094008010909,0.3742678028387062],\"yaxis\":\"y2\",\"type\":\"scatter\"},{\"hovertemplate\":\"algo=one_pmw_per_block<br>block_size=400.0<br>exponent_size_limit=0.5<br>n_blocks=%{x}<br>error=%{y}<extra></extra>\",\"legendgroup\":\"one_pmw_per_block\",\"line\":{\"color\":\"#EF553B\",\"dash\":\"solid\"},\"marker\":{\"symbol\":\"circle\"},\"mode\":\"lines\",\"name\":\"one_pmw_per_block\",\"orientation\":\"v\",\"showlegend\":false,\"x\":[2.0,112.88888888888889,223.77777777777777,334.66666666666663,445.55555555555554,556.4444444444445,667.3333333333333,778.2222222222222,889.1111111111111,1000.0],\"xaxis\":\"x3\",\"y\":[0.4139088243696964,0.06535527884539646,0.04754507889358156,0.03940983159905843,0.034479223569974606,0.031076142090979583,0.028542529335691482,0.026559874835844707,0.02495256588051953,0.023614701900354654],\"yaxis\":\"y3\",\"type\":\"scatter\"},{\"hovertemplate\":\"algo=tree_of_pmws<br>block_size=400.0<br>exponent_size_limit=1.0<br>n_blocks=%{x}<br>error=%{y}<extra></extra>\",\"legendgroup\":\"tree_of_pmws\",\"line\":{\"color\":\"#00cc96\",\"dash\":\"solid\"},\"marker\":{\"symbol\":\"circle\"},\"mode\":\"lines\",\"name\":\"tree_of_pmws\",\"orientation\":\"v\",\"showlegend\":true,\"x\":[2.0,112.88888888888889,223.77777777777777,334.66666666666663,445.55555555555554,556.4444444444445,667.3333333333333,778.2222222222222,889.1111111111111,1000.0],\"xaxis\":\"x\",\"y\":[2.417999806381961,0.6575039469356736,0.49684764446685686,0.4202156431147646,0.3726347935851461,0.33924589335225436,0.314074773128601,0.2941796727337277,0.27791700204691283,0.26428492051315505],\"yaxis\":\"y\",\"type\":\"scatter\"},{\"hovertemplate\":\"algo=tree_of_pmws<br>block_size=400.0<br>exponent_size_limit=0.9<br>n_blocks=%{x}<br>error=%{y}<extra></extra>\",\"legendgroup\":\"tree_of_pmws\",\"line\":{\"color\":\"#00cc96\",\"dash\":\"solid\"},\"marker\":{\"symbol\":\"circle\"},\"mode\":\"lines\",\"name\":\"tree_of_pmws\",\"orientation\":\"v\",\"showlegend\":false,\"x\":[2.0,112.88888888888889,223.77777777777777,334.66666666666663,445.55555555555554,556.4444444444445,667.3333333333333,778.2222222222222,889.1111111111111,1000.0],\"xaxis\":\"x2\",\"y\":[2.2560735928839826,0.40985783755395705,0.2892288025305052,0.2349692170631532,0.20248516812570758,0.18029032352440869,0.16390747985729523,0.15118276978661055,0.1409352118167169,0.13245622820139175],\"yaxis\":\"y2\",\"type\":\"scatter\"},{\"hovertemplate\":\"algo=tree_of_pmws<br>block_size=400.0<br>exponent_size_limit=0.5<br>n_blocks=%{x}<br>error=%{y}<extra></extra>\",\"legendgroup\":\"tree_of_pmws\",\"line\":{\"color\":\"#00cc96\",\"dash\":\"solid\"},\"marker\":{\"symbol\":\"circle\"},\"mode\":\"lines\",\"name\":\"tree_of_pmws\",\"orientation\":\"v\",\"showlegend\":false,\"x\":[2.0,112.88888888888889,223.77777777777777,334.66666666666663,445.55555555555554,556.4444444444445,667.3333333333333,778.2222222222222,889.1111111111111,1000.0],\"xaxis\":\"x3\",\"y\":[1.709784060000444,0.061883200260906025,0.03321350866814356,0.022970263995933833,0.01765356706314386,0.01438148371217111,0.012157986183806414,0.010545346308290694,0.00932045464617386,0.00835742300058126],\"yaxis\":\"y3\",\"type\":\"scatter\"}],\"name\":\"400.0\"},{\"data\":[{\"hovertemplate\":\"algo=pmwg<br>block_size=500.0<br>exponent_size_limit=1.0<br>n_blocks=%{x}<br>error=%{y}<extra></extra>\",\"legendgroup\":\"pmwg\",\"line\":{\"color\":\"#636efa\",\"dash\":\"solid\"},\"marker\":{\"symbol\":\"circle\"},\"mode\":\"lines\",\"name\":\"pmwg\",\"orientation\":\"v\",\"showlegend\":true,\"x\":[2.0,112.88888888888889,223.77777777777777,334.66666666666663,445.55555555555554,556.4444444444445,667.3333333333333,778.2222222222222,889.1111111111111,1000.0],\"xaxis\":\"x\",\"y\":[0.6071645904846661,0.0844089115466978,0.053973800020540336,0.03913257134885572,0.029387725365747536,0.021879869694678884,0.015261600754008961,0.008065078195144501,null,null],\"yaxis\":\"y\",\"type\":\"scatter\"},{\"hovertemplate\":\"algo=pmwg<br>block_size=500.0<br>exponent_size_limit=0.9<br>n_blocks=%{x}<br>error=%{y}<extra></extra>\",\"legendgroup\":\"pmwg\",\"line\":{\"color\":\"#636efa\",\"dash\":\"solid\"},\"marker\":{\"symbol\":\"circle\"},\"mode\":\"lines\",\"name\":\"pmwg\",\"orientation\":\"v\",\"showlegend\":false,\"x\":[2.0,112.88888888888889,223.77777777777777,334.66666666666663,445.55555555555554,556.4444444444445,667.3333333333333,778.2222222222222,889.1111111111111,1000.0],\"xaxis\":\"x2\",\"y\":[0.6071645904846661,0.0844089115466978,0.053973800020540336,0.03913257134885572,0.029387725365747536,0.021879869694678884,0.015261600754008961,0.008065078195144501,null,null],\"yaxis\":\"y2\",\"type\":\"scatter\"},{\"hovertemplate\":\"algo=pmwg<br>block_size=500.0<br>exponent_size_limit=0.5<br>n_blocks=%{x}<br>error=%{y}<extra></extra>\",\"legendgroup\":\"pmwg\",\"line\":{\"color\":\"#636efa\",\"dash\":\"solid\"},\"marker\":{\"symbol\":\"circle\"},\"mode\":\"lines\",\"name\":\"pmwg\",\"orientation\":\"v\",\"showlegend\":false,\"x\":[2.0,112.88888888888889,223.77777777777777,334.66666666666663,445.55555555555554,556.4444444444445,667.3333333333333,778.2222222222222,889.1111111111111,1000.0],\"xaxis\":\"x3\",\"y\":[0.6071645904846661,0.0844089115466978,0.053973800020540336,0.03913257134885572,0.029387725365747536,0.021879869694678884,0.015261600754008961,0.008065078195144501,null,null],\"yaxis\":\"y3\",\"type\":\"scatter\"},{\"hovertemplate\":\"algo=one_pmw_per_block<br>block_size=500.0<br>exponent_size_limit=1.0<br>n_blocks=%{x}<br>error=%{y}<extra></extra>\",\"legendgroup\":\"one_pmw_per_block\",\"line\":{\"color\":\"#EF553B\",\"dash\":\"solid\"},\"marker\":{\"symbol\":\"circle\"},\"mode\":\"lines\",\"name\":\"one_pmw_per_block\",\"orientation\":\"v\",\"showlegend\":true,\"x\":[2.0,112.88888888888889,223.77777777777777,334.66666666666663,445.55555555555554,556.4444444444445,667.3333333333333,778.2222222222222,889.1111111111111,1000.0],\"xaxis\":\"x\",\"y\":[0.5235578514603393,0.6210853204960833,0.6361492862788136,0.6448456902697076,0.6509586503702265,0.6556665039248627,0.6594909781984639,0.6627089434451995,0.6654849268356542,0.6679246339775852],\"yaxis\":\"y\",\"type\":\"scatter\"},{\"hovertemplate\":\"algo=one_pmw_per_block<br>block_size=500.0<br>exponent_size_limit=0.9<br>n_blocks=%{x}<br>error=%{y}<extra></extra>\",\"legendgroup\":\"one_pmw_per_block\",\"line\":{\"color\":\"#EF553B\",\"dash\":\"solid\"},\"marker\":{\"symbol\":\"circle\"},\"mode\":\"lines\",\"name\":\"one_pmw_per_block\",\"orientation\":\"v\",\"showlegend\":false,\"x\":[2.0,112.88888888888889,223.77777777777777,334.66666666666663,445.55555555555554,556.4444444444445,667.3333333333333,778.2222222222222,889.1111111111111,1000.0],\"xaxis\":\"x2\",\"y\":[0.4884967483906238,0.38715613431889473,0.3703201541762172,0.36057412295772306,0.3537229320293755,0.3484502787893392,0.34417124033349816,0.34057476745882825,0.3374757874963811,0.3347552995747344],\"yaxis\":\"y2\",\"type\":\"scatter\"},{\"hovertemplate\":\"algo=one_pmw_per_block<br>block_size=500.0<br>exponent_size_limit=0.5<br>n_blocks=%{x}<br>error=%{y}<extra></extra>\",\"legendgroup\":\"one_pmw_per_block\",\"line\":{\"color\":\"#EF553B\",\"dash\":\"solid\"},\"marker\":{\"symbol\":\"circle\"},\"mode\":\"lines\",\"name\":\"one_pmw_per_block\",\"orientation\":\"v\",\"showlegend\":false,\"x\":[2.0,112.88888888888889,223.77777777777777,334.66666666666663,445.55555555555554,556.4444444444445,667.3333333333333,778.2222222222222,889.1111111111111,1000.0],\"xaxis\":\"x3\",\"y\":[0.3702113071110651,0.05845553847470418,0.04252561136065554,0.03524922497492555,0.030839155085550473,0.027795346477549124,0.025529214337755228,0.023755874242733937,0.022318253408753423,0.02112163148703459],\"yaxis\":\"y3\",\"type\":\"scatter\"},{\"hovertemplate\":\"algo=tree_of_pmws<br>block_size=500.0<br>exponent_size_limit=1.0<br>n_blocks=%{x}<br>error=%{y}<extra></extra>\",\"legendgroup\":\"tree_of_pmws\",\"line\":{\"color\":\"#00cc96\",\"dash\":\"solid\"},\"marker\":{\"symbol\":\"circle\"},\"mode\":\"lines\",\"name\":\"tree_of_pmws\",\"orientation\":\"v\",\"showlegend\":true,\"x\":[2.0,112.88888888888889,223.77777777777777,334.66666666666663,445.55555555555554,556.4444444444445,667.3333333333333,778.2222222222222,889.1111111111111,1000.0],\"xaxis\":\"x\",\"y\":[2.1627247746605582,0.5880894083290322,0.4443940429954157,0.37585229728536207,0.3332946916951957,0.30343075144931386,0.2809170170933505,0.2631222983325026,0.24857652347193812,0.2363836190782173],\"yaxis\":\"y\",\"type\":\"scatter\"},{\"hovertemplate\":\"algo=tree_of_pmws<br>block_size=500.0<br>exponent_size_limit=0.9<br>n_blocks=%{x}<br>error=%{y}<extra></extra>\",\"legendgroup\":\"tree_of_pmws\",\"line\":{\"color\":\"#00cc96\",\"dash\":\"solid\"},\"marker\":{\"symbol\":\"circle\"},\"mode\":\"lines\",\"name\":\"tree_of_pmws\",\"orientation\":\"v\",\"showlegend\":false,\"x\":[2.0,112.88888888888889,223.77777777777777,334.66666666666663,445.55555555555554,556.4444444444445,667.3333333333333,778.2222222222222,889.1111111111111,1000.0],\"xaxis\":\"x2\",\"y\":[2.0178935663723085,0.36658799435268563,0.25869410540362914,0.21016285678924565,0.18110824014582233,0.16125656763440288,0.1466033067926359,0.13522198010782502,0.12605628561820426,0.11847245212061465],\"yaxis\":\"y2\",\"type\":\"scatter\"},{\"hovertemplate\":\"algo=tree_of_pmws<br>block_size=500.0<br>exponent_size_limit=0.5<br>n_blocks=%{x}<br>error=%{y}<extra></extra>\",\"legendgroup\":\"tree_of_pmws\",\"line\":{\"color\":\"#00cc96\",\"dash\":\"solid\"},\"marker\":{\"symbol\":\"circle\"},\"mode\":\"lines\",\"name\":\"tree_of_pmws\",\"orientation\":\"v\",\"showlegend\":false,\"x\":[2.0,112.88888888888889,223.77777777777777,334.66666666666663,445.55555555555554,556.4444444444445,667.3333333333333,778.2222222222222,889.1111111111111,1000.0],\"xaxis\":\"x3\",\"y\":[1.5292773540026288,0.05535001697944743,0.029707065261298998,0.0205452287024096,0.015789830399416397,0.012863190079088248,0.01087443343059776,0.009432044476645777,0.0083364680680194,0.007475106378407984],\"yaxis\":\"y3\",\"type\":\"scatter\"}],\"name\":\"500.0\"},{\"data\":[{\"hovertemplate\":\"algo=pmwg<br>block_size=600.0<br>exponent_size_limit=1.0<br>n_blocks=%{x}<br>error=%{y}<extra></extra>\",\"legendgroup\":\"pmwg\",\"line\":{\"color\":\"#636efa\",\"dash\":\"solid\"},\"marker\":{\"symbol\":\"circle\"},\"mode\":\"lines\",\"name\":\"pmwg\",\"orientation\":\"v\",\"showlegend\":true,\"x\":[2.0,112.88888888888889,223.77777777777777,334.66666666666663,445.55555555555554,556.4444444444445,667.3333333333333,778.2222222222222,889.1111111111111,1000.0],\"xaxis\":\"x\",\"y\":[0.559968642081528,0.07778989865319086,0.0498168001060933,0.03619865218934801,0.02727819550300797,0.020433753853482207,0.014452724476370303,0.008142720055896686,null,null],\"yaxis\":\"y\",\"type\":\"scatter\"},{\"hovertemplate\":\"algo=pmwg<br>block_size=600.0<br>exponent_size_limit=0.9<br>n_blocks=%{x}<br>error=%{y}<extra></extra>\",\"legendgroup\":\"pmwg\",\"line\":{\"color\":\"#636efa\",\"dash\":\"solid\"},\"marker\":{\"symbol\":\"circle\"},\"mode\":\"lines\",\"name\":\"pmwg\",\"orientation\":\"v\",\"showlegend\":false,\"x\":[2.0,112.88888888888889,223.77777777777777,334.66666666666663,445.55555555555554,556.4444444444445,667.3333333333333,778.2222222222222,889.1111111111111,1000.0],\"xaxis\":\"x2\",\"y\":[0.559968642081528,0.07778989865319086,0.0498168001060933,0.03619865218934801,0.02727819550300797,0.020433753853482207,0.014452724476370303,0.008142720055896686,null,null],\"yaxis\":\"y2\",\"type\":\"scatter\"},{\"hovertemplate\":\"algo=pmwg<br>block_size=600.0<br>exponent_size_limit=0.5<br>n_blocks=%{x}<br>error=%{y}<extra></extra>\",\"legendgroup\":\"pmwg\",\"line\":{\"color\":\"#636efa\",\"dash\":\"solid\"},\"marker\":{\"symbol\":\"circle\"},\"mode\":\"lines\",\"name\":\"pmwg\",\"orientation\":\"v\",\"showlegend\":false,\"x\":[2.0,112.88888888888889,223.77777777777777,334.66666666666663,445.55555555555554,556.4444444444445,667.3333333333333,778.2222222222222,889.1111111111111,1000.0],\"xaxis\":\"x3\",\"y\":[0.559968642081528,0.07778989865319086,0.0498168001060933,0.03619865218934801,0.02727819550300797,0.020433753853482207,0.014452724476370303,0.008142720055896686,null,null],\"yaxis\":\"y3\",\"type\":\"scatter\"},{\"hovertemplate\":\"algo=one_pmw_per_block<br>block_size=600.0<br>exponent_size_limit=1.0<br>n_blocks=%{x}<br>error=%{y}<extra></extra>\",\"legendgroup\":\"one_pmw_per_block\",\"line\":{\"color\":\"#EF553B\",\"dash\":\"solid\"},\"marker\":{\"symbol\":\"circle\"},\"mode\":\"lines\",\"name\":\"one_pmw_per_block\",\"orientation\":\"v\",\"showlegend\":true,\"x\":[2.0,112.88888888888889,223.77777777777777,334.66666666666663,445.55555555555554,556.4444444444445,667.3333333333333,778.2222222222222,889.1111111111111,1000.0],\"xaxis\":\"x\",\"y\":[0.4779407423396115,0.5669707336183842,0.5807221900595297,0.5886608844511807,0.5942412280181528,0.5985388906669947,0.602030142050744,0.6049677289755852,0.6075018435126047,0.6097289812381749],\"yaxis\":\"y\",\"type\":\"scatter\"},{\"hovertemplate\":\"algo=one_pmw_per_block<br>block_size=600.0<br>exponent_size_limit=0.9<br>n_blocks=%{x}<br>error=%{y}<extra></extra>\",\"legendgroup\":\"one_pmw_per_block\",\"line\":{\"color\":\"#EF553B\",\"dash\":\"solid\"},\"marker\":{\"symbol\":\"circle\"},\"mode\":\"lines\",\"name\":\"one_pmw_per_block\",\"orientation\":\"v\",\"showlegend\":false,\"x\":[2.0,112.88888888888889,223.77777777777777,334.66666666666663,445.55555555555554,556.4444444444445,667.3333333333333,778.2222222222222,889.1111111111111,1000.0],\"xaxis\":\"x2\",\"y\":[0.44593448060245017,0.35342358007159774,0.33805450323517516,0.32915763466097714,0.3229033816322593,0.3180901297698083,0.31418391995864803,0.3109008044237943,0.3080718357059797,0.3055883813691359],\"yaxis\":\"y2\",\"type\":\"scatter\"},{\"hovertemplate\":\"algo=one_pmw_per_block<br>block_size=600.0<br>exponent_size_limit=0.5<br>n_blocks=%{x}<br>error=%{y}<extra></extra>\",\"legendgroup\":\"one_pmw_per_block\",\"line\":{\"color\":\"#EF553B\",\"dash\":\"solid\"},\"marker\":{\"symbol\":\"circle\"},\"mode\":\"lines\",\"name\":\"one_pmw_per_block\",\"orientation\":\"v\",\"showlegend\":false,\"x\":[2.0,112.88888888888889,223.77777777777777,334.66666666666663,445.55555555555554,556.4444444444445,667.3333333333333,778.2222222222222,889.1111111111111,1000.0],\"xaxis\":\"x3\",\"y\":[0.33795513991367176,0.05336236172284436,0.038820394356548334,0.03217799275556866,0.028152168157926923,0.025373563765709026,0.023304877613621416,0.02168604699333555,0.020373684726818025,0.01928132336126705],\"yaxis\":\"y3\",\"type\":\"scatter\"},{\"hovertemplate\":\"algo=tree_of_pmws<br>block_size=600.0<br>exponent_size_limit=1.0<br>n_blocks=%{x}<br>error=%{y}<extra></extra>\",\"legendgroup\":\"tree_of_pmws\",\"line\":{\"color\":\"#00cc96\",\"dash\":\"solid\"},\"marker\":{\"symbol\":\"circle\"},\"mode\":\"lines\",\"name\":\"tree_of_pmws\",\"orientation\":\"v\",\"showlegend\":true,\"x\":[2.0,112.88888888888889,223.77777777777777,334.66666666666663,445.55555555555554,556.4444444444445,667.3333333333333,778.2222222222222,889.1111111111111,1000.0],\"xaxis\":\"x\",\"y\":[1.974288574594775,0.5368497246194625,0.40567440294918305,0.3431046358555509,0.30425503489698075,0.27699311201588767,0.25644097841515395,0.24019669696552606,0.2269182819529882,0.21578773398974693],\"yaxis\":\"y\",\"type\":\"scatter\"},{\"hovertemplate\":\"algo=tree_of_pmws<br>block_size=600.0<br>exponent_size_limit=0.9<br>n_blocks=%{x}<br>error=%{y}<extra></extra>\",\"legendgroup\":\"tree_of_pmws\",\"line\":{\"color\":\"#00cc96\",\"dash\":\"solid\"},\"marker\":{\"symbol\":\"circle\"},\"mode\":\"lines\",\"name\":\"tree_of_pmws\",\"orientation\":\"v\",\"showlegend\":false,\"x\":[2.0,112.88888888888889,223.77777777777777,334.66666666666663,445.55555555555554,556.4444444444445,667.3333333333333,778.2222222222222,889.1111111111111,1000.0],\"xaxis\":\"x2\",\"y\":[1.8420763749111022,0.3346475230292373,0.23615432837197792,0.19185156235532932,0.165328447463216,0.14720643273203327,0.13382989689196167,0.12344021462595103,0.1150731185806742,0.108150057449019],\"yaxis\":\"y2\",\"type\":\"scatter\"},{\"hovertemplate\":\"algo=tree_of_pmws<br>block_size=600.0<br>exponent_size_limit=0.5<br>n_blocks=%{x}<br>error=%{y}<extra></extra>\",\"legendgroup\":\"tree_of_pmws\",\"line\":{\"color\":\"#00cc96\",\"dash\":\"solid\"},\"marker\":{\"symbol\":\"circle\"},\"mode\":\"lines\",\"name\":\"tree_of_pmws\",\"orientation\":\"v\",\"showlegend\":false,\"x\":[2.0,112.88888888888889,223.77777777777777,334.66666666666663,445.55555555555554,556.4444444444445,667.3333333333333,778.2222222222222,889.1111111111111,1000.0],\"xaxis\":\"x3\",\"y\":[1.3960328391150885,0.050527421429895525,0.027118716268152605,0.01875514201568722,0.014414077148235279,0.011742432279655494,0.009926954150044468,0.008610239205418169,0.007610119351292896,0.006823807305341336],\"yaxis\":\"y3\",\"type\":\"scatter\"}],\"name\":\"600.0\"},{\"data\":[{\"hovertemplate\":\"algo=pmwg<br>block_size=700.0<br>exponent_size_limit=1.0<br>n_blocks=%{x}<br>error=%{y}<extra></extra>\",\"legendgroup\":\"pmwg\",\"line\":{\"color\":\"#636efa\",\"dash\":\"solid\"},\"marker\":{\"symbol\":\"circle\"},\"mode\":\"lines\",\"name\":\"pmwg\",\"orientation\":\"v\",\"showlegend\":true,\"x\":[2.0,112.88888888888889,223.77777777777777,334.66666666666663,445.55555555555554,556.4444444444445,667.3333333333333,778.2222222222222,889.1111111111111,1000.0],\"xaxis\":\"x\",\"y\":[0.5228804504326612,0.0725934749210311,0.046547012995813375,0.03388394186606547,0.025605120656714275,0.019273868968964773,0.013778713876199214,0.008104695406030446,null,null],\"yaxis\":\"y\",\"type\":\"scatter\"},{\"hovertemplate\":\"algo=pmwg<br>block_size=700.0<br>exponent_size_limit=0.9<br>n_blocks=%{x}<br>error=%{y}<extra></extra>\",\"legendgroup\":\"pmwg\",\"line\":{\"color\":\"#636efa\",\"dash\":\"solid\"},\"marker\":{\"symbol\":\"circle\"},\"mode\":\"lines\",\"name\":\"pmwg\",\"orientation\":\"v\",\"showlegend\":false,\"x\":[2.0,112.88888888888889,223.77777777777777,334.66666666666663,445.55555555555554,556.4444444444445,667.3333333333333,778.2222222222222,889.1111111111111,1000.0],\"xaxis\":\"x2\",\"y\":[0.5228804504326612,0.0725934749210311,0.046547012995813375,0.03388394186606547,0.025605120656714275,0.019273868968964773,0.013778713876199214,0.008104695406030446,null,null],\"yaxis\":\"y2\",\"type\":\"scatter\"},{\"hovertemplate\":\"algo=pmwg<br>block_size=700.0<br>exponent_size_limit=0.5<br>n_blocks=%{x}<br>error=%{y}<extra></extra>\",\"legendgroup\":\"pmwg\",\"line\":{\"color\":\"#636efa\",\"dash\":\"solid\"},\"marker\":{\"symbol\":\"circle\"},\"mode\":\"lines\",\"name\":\"pmwg\",\"orientation\":\"v\",\"showlegend\":false,\"x\":[2.0,112.88888888888889,223.77777777777777,334.66666666666663,445.55555555555554,556.4444444444445,667.3333333333333,778.2222222222222,889.1111111111111,1000.0],\"xaxis\":\"x3\",\"y\":[0.5228804504326612,0.0725934749210311,0.046547012995813375,0.03388394186606547,0.025605120656714275,0.019273868968964773,0.013778713876199214,0.008104695406030446,null,null],\"yaxis\":\"y3\",\"type\":\"scatter\"},{\"hovertemplate\":\"algo=one_pmw_per_block<br>block_size=700.0<br>exponent_size_limit=1.0<br>n_blocks=%{x}<br>error=%{y}<extra></extra>\",\"legendgroup\":\"one_pmw_per_block\",\"line\":{\"color\":\"#EF553B\",\"dash\":\"solid\"},\"marker\":{\"symbol\":\"circle\"},\"mode\":\"lines\",\"name\":\"one_pmw_per_block\",\"orientation\":\"v\",\"showlegend\":true,\"x\":[2.0,112.88888888888889,223.77777777777777,334.66666666666663,445.55555555555554,556.4444444444445,667.3333333333333,778.2222222222222,889.1111111111111,1000.0],\"xaxis\":\"x\",\"y\":[0.4424871457582264,0.5249129011666892,0.5376442759410485,0.5449940787747906,0.5501604730127297,0.5541393354750693,0.5573716061795031,0.5600912831993502,0.5624374173728487,0.5644993462441432],\"yaxis\":\"y\",\"type\":\"scatter\"},{\"hovertemplate\":\"algo=one_pmw_per_block<br>block_size=700.0<br>exponent_size_limit=0.9<br>n_blocks=%{x}<br>error=%{y}<extra></extra>\",\"legendgroup\":\"one_pmw_per_block\",\"line\":{\"color\":\"#EF553B\",\"dash\":\"solid\"},\"marker\":{\"symbol\":\"circle\"},\"mode\":\"lines\",\"name\":\"one_pmw_per_block\",\"orientation\":\"v\",\"showlegend\":false,\"x\":[2.0,112.88888888888889,223.77777777777777,334.66666666666663,445.55555555555554,556.4444444444445,667.3333333333333,778.2222222222222,889.1111111111111,1000.0],\"xaxis\":\"x2\",\"y\":[0.4128551053233813,0.32720665416385897,0.3129776539137502,0.3047407541627229,0.29895044099967255,0.2944942356801478,0.29087778812304677,0.2878382137710038,0.2852190976704232,0.2829198657285059],\"yaxis\":\"y2\",\"type\":\"scatter\"},{\"hovertemplate\":\"algo=one_pmw_per_block<br>block_size=700.0<br>exponent_size_limit=0.5<br>n_blocks=%{x}<br>error=%{y}<extra></extra>\",\"legendgroup\":\"one_pmw_per_block\",\"line\":{\"color\":\"#EF553B\",\"dash\":\"solid\"},\"marker\":{\"symbol\":\"circle\"},\"mode\":\"lines\",\"name\":\"one_pmw_per_block\",\"orientation\":\"v\",\"showlegend\":false,\"x\":[2.0,112.88888888888889,223.77777777777777,334.66666666666663,445.55555555555554,556.4444444444445,667.3333333333333,778.2222222222222,889.1111111111111,1000.0],\"xaxis\":\"x3\",\"y\":[0.3128856613535222,0.04940394705434274,0.03594070137638937,0.02979103246344102,0.02606384313278555,0.023491355337153928,0.021576124117430078,0.02007737819104216,0.018862366826517173,0.01785103671807509],\"yaxis\":\"y3\",\"type\":\"scatter\"},{\"hovertemplate\":\"algo=tree_of_pmws<br>block_size=700.0<br>exponent_size_limit=1.0<br>n_blocks=%{x}<br>error=%{y}<extra></extra>\",\"legendgroup\":\"tree_of_pmws\",\"line\":{\"color\":\"#00cc96\",\"dash\":\"solid\"},\"marker\":{\"symbol\":\"circle\"},\"mode\":\"lines\",\"name\":\"tree_of_pmws\",\"orientation\":\"v\",\"showlegend\":true,\"x\":[2.0,112.88888888888889,223.77777777777777,334.66666666666663,445.55555555555554,556.4444444444445,667.3333333333333,778.2222222222222,889.1111111111111,1000.0],\"xaxis\":\"x\",\"y\":[1.827836045111143,0.4970262656100576,0.3755815162135829,0.31765316820021106,0.2816854267646238,0.25644579060285866,0.23741821222208856,0.22237892994966066,0.21008550643793147,0.1997806214120803],\"yaxis\":\"y\",\"type\":\"scatter\"},{\"hovertemplate\":\"algo=tree_of_pmws<br>block_size=700.0<br>exponent_size_limit=0.9<br>n_blocks=%{x}<br>error=%{y}<extra></extra>\",\"legendgroup\":\"tree_of_pmws\",\"line\":{\"color\":\"#00cc96\",\"dash\":\"solid\"},\"marker\":{\"symbol\":\"circle\"},\"mode\":\"lines\",\"name\":\"tree_of_pmws\",\"orientation\":\"v\",\"showlegend\":false,\"x\":[2.0,112.88888888888889,223.77777777777777,334.66666666666663,445.55555555555554,556.4444444444445,667.3333333333333,778.2222222222222,889.1111111111111,1000.0],\"xaxis\":\"x2\",\"y\":[1.7054313332088566,0.3098234031595657,0.21863642385506446,0.17762003260133089,0.15306439972563568,0.13628667423913243,0.12390240849306623,0.11428343182094317,0.10653700612549843,0.10012749697785794],\"yaxis\":\"y2\",\"type\":\"scatter\"},{\"hovertemplate\":\"algo=tree_of_pmws<br>block_size=700.0<br>exponent_size_limit=0.5<br>n_blocks=%{x}<br>error=%{y}<extra></extra>\",\"legendgroup\":\"tree_of_pmws\",\"line\":{\"color\":\"#00cc96\",\"dash\":\"solid\"},\"marker\":{\"symbol\":\"circle\"},\"mode\":\"lines\",\"name\":\"tree_of_pmws\",\"orientation\":\"v\",\"showlegend\":false,\"x\":[2.0,112.88888888888889,223.77777777777777,334.66666666666663,445.55555555555554,556.4444444444445,667.3333333333333,778.2222222222222,889.1111111111111,1000.0],\"xaxis\":\"x3\",\"y\":[1.2924752623952895,0.04677930234947564,0.02510705260108456,0.017363887452211915,0.01334484234350844,0.010871379824723078,0.009190573681631713,0.007971532520225784,0.007045601457095013,0.006317617960259781],\"yaxis\":\"y3\",\"type\":\"scatter\"}],\"name\":\"700.0\"},{\"data\":[{\"hovertemplate\":\"algo=pmwg<br>block_size=800.0<br>exponent_size_limit=1.0<br>n_blocks=%{x}<br>error=%{y}<extra></extra>\",\"legendgroup\":\"pmwg\",\"line\":{\"color\":\"#636efa\",\"dash\":\"solid\"},\"marker\":{\"symbol\":\"circle\"},\"mode\":\"lines\",\"name\":\"pmwg\",\"orientation\":\"v\",\"showlegend\":true,\"x\":[2.0,112.88888888888889,223.77777777777777,334.66666666666663,445.55555555555554,556.4444444444445,667.3333333333333,778.2222222222222,889.1111111111111,1000.0],\"xaxis\":\"x\",\"y\":[0.4927049453447284,0.06836896298262232,0.043884577841067876,0.03199450041918342,0.024233595944253748,0.018314544164282534,0.013205272015915396,0.008015087504912245,null,null],\"yaxis\":\"y\",\"type\":\"scatter\"},{\"hovertemplate\":\"algo=pmwg<br>block_size=800.0<br>exponent_size_limit=0.9<br>n_blocks=%{x}<br>error=%{y}<extra></extra>\",\"legendgroup\":\"pmwg\",\"line\":{\"color\":\"#636efa\",\"dash\":\"solid\"},\"marker\":{\"symbol\":\"circle\"},\"mode\":\"lines\",\"name\":\"pmwg\",\"orientation\":\"v\",\"showlegend\":false,\"x\":[2.0,112.88888888888889,223.77777777777777,334.66666666666663,445.55555555555554,556.4444444444445,667.3333333333333,778.2222222222222,889.1111111111111,1000.0],\"xaxis\":\"x2\",\"y\":[0.4927049453447284,0.06836896298262232,0.043884577841067876,0.03199450041918342,0.024233595944253748,0.018314544164282534,0.013205272015915396,0.008015087504912245,null,null],\"yaxis\":\"y2\",\"type\":\"scatter\"},{\"hovertemplate\":\"algo=pmwg<br>block_size=800.0<br>exponent_size_limit=0.5<br>n_blocks=%{x}<br>error=%{y}<extra></extra>\",\"legendgroup\":\"pmwg\",\"line\":{\"color\":\"#636efa\",\"dash\":\"solid\"},\"marker\":{\"symbol\":\"circle\"},\"mode\":\"lines\",\"name\":\"pmwg\",\"orientation\":\"v\",\"showlegend\":false,\"x\":[2.0,112.88888888888889,223.77777777777777,334.66666666666663,445.55555555555554,556.4444444444445,667.3333333333333,778.2222222222222,889.1111111111111,1000.0],\"xaxis\":\"x3\",\"y\":[0.4927049453447284,0.06836896298262232,0.043884577841067876,0.03199450041918342,0.024233595944253748,0.018314544164282534,0.013205272015915396,0.008015087504912245,null,null],\"yaxis\":\"y3\",\"type\":\"scatter\"},{\"hovertemplate\":\"algo=one_pmw_per_block<br>block_size=800.0<br>exponent_size_limit=1.0<br>n_blocks=%{x}<br>error=%{y}<extra></extra>\",\"legendgroup\":\"one_pmw_per_block\",\"line\":{\"color\":\"#EF553B\",\"dash\":\"solid\"},\"marker\":{\"symbol\":\"circle\"},\"mode\":\"lines\",\"name\":\"one_pmw_per_block\",\"orientation\":\"v\",\"showlegend\":true,\"x\":[2.0,112.88888888888889,223.77777777777777,334.66666666666663,445.55555555555554,556.4444444444445,667.3333333333333,778.2222222222222,889.1111111111111,1000.0],\"xaxis\":\"x\",\"y\":[0.4139088243696964,0.4910110585158206,0.5029201691328878,0.5097952801489386,0.5146279994397815,0.5183498844705741,0.5213733968598985,0.523917421762636,0.5261120293277944,0.5280407871758648],\"yaxis\":\"y\",\"type\":\"scatter\"},{\"hovertemplate\":\"algo=one_pmw_per_block<br>block_size=800.0<br>exponent_size_limit=0.9<br>n_blocks=%{x}<br>error=%{y}<extra></extra>\",\"legendgroup\":\"one_pmw_per_block\",\"line\":{\"color\":\"#EF553B\",\"dash\":\"solid\"},\"marker\":{\"symbol\":\"circle\"},\"mode\":\"lines\",\"name\":\"one_pmw_per_block\",\"orientation\":\"v\",\"showlegend\":false,\"x\":[2.0,112.88888888888889,223.77777777777777,334.66666666666663,445.55555555555554,556.4444444444445,667.3333333333333,778.2222222222222,889.1111111111111,1000.0],\"xaxis\":\"x2\",\"y\":[0.38619058862514083,0.3060737986384473,0.29276378766539046,0.28505887346600345,0.2796425314614381,0.27547413307374274,0.27209125614476587,0.2692479946880233,0.26679803591188433,0.26464730136703896],\"yaxis\":\"y2\",\"type\":\"scatter\"},{\"hovertemplate\":\"algo=one_pmw_per_block<br>block_size=800.0<br>exponent_size_limit=0.5<br>n_blocks=%{x}<br>error=%{y}<extra></extra>\",\"legendgroup\":\"one_pmw_per_block\",\"line\":{\"color\":\"#EF553B\",\"dash\":\"solid\"},\"marker\":{\"symbol\":\"circle\"},\"mode\":\"lines\",\"name\":\"one_pmw_per_block\",\"orientation\":\"v\",\"showlegend\":false,\"x\":[2.0,112.88888888888889,223.77777777777777,334.66666666666663,445.55555555555554,556.4444444444445,667.3333333333333,778.2222222222222,889.1111111111111,1000.0],\"xaxis\":\"x3\",\"y\":[0.29267773650476403,0.04621316085791755,0.033619447697700915,0.027866959169114094,0.024380492796376083,0.021974150805648362,0.02018261604548341,0.018780667603891733,0.017644128542119435,0.016698115849439626],\"yaxis\":\"y3\",\"type\":\"scatter\"},{\"hovertemplate\":\"algo=tree_of_pmws<br>block_size=800.0<br>exponent_size_limit=1.0<br>n_blocks=%{x}<br>error=%{y}<extra></extra>\",\"legendgroup\":\"tree_of_pmws\",\"line\":{\"color\":\"#00cc96\",\"dash\":\"solid\"},\"marker\":{\"symbol\":\"circle\"},\"mode\":\"lines\",\"name\":\"tree_of_pmws\",\"orientation\":\"v\",\"showlegend\":true,\"x\":[2.0,112.88888888888889,223.77777777777777,334.66666666666663,445.55555555555554,556.4444444444445,667.3333333333333,778.2222222222222,889.1111111111111,1000.0],\"xaxis\":\"x\",\"y\":[1.709784060000444,0.4649254995351347,0.3513243386190773,0.29713733080711624,0.26349258945010623,0.23988307167906736,0.22208440187886022,0.20801644147725815,0.1965169967544077,0.18687765946019963],\"yaxis\":\"y\",\"type\":\"scatter\"},{\"hovertemplate\":\"algo=tree_of_pmws<br>block_size=800.0<br>exponent_size_limit=0.9<br>n_blocks=%{x}<br>error=%{y}<extra></extra>\",\"legendgroup\":\"tree_of_pmws\",\"line\":{\"color\":\"#00cc96\",\"dash\":\"solid\"},\"marker\":{\"symbol\":\"circle\"},\"mode\":\"lines\",\"name\":\"tree_of_pmws\",\"orientation\":\"v\",\"showlegend\":false,\"x\":[2.0,112.88888888888889,223.77777777777777,334.66666666666663,445.55555555555554,556.4444444444445,667.3333333333333,778.2222222222222,889.1111111111111,1000.0],\"xaxis\":\"x2\",\"y\":[1.5952849363841624,0.28981325625685744,0.2045156475837851,0.1661483267554495,0.143178635471386,0.1274845103464259,0.1159000904942909,0.10690236171467701,0.09965624398356297,0.09366069717159692],\"yaxis\":\"y2\",\"type\":\"scatter\"},{\"hovertemplate\":\"algo=tree_of_pmws<br>block_size=800.0<br>exponent_size_limit=0.5<br>n_blocks=%{x}<br>error=%{y}<extra></extra>\",\"legendgroup\":\"tree_of_pmws\",\"line\":{\"color\":\"#00cc96\",\"dash\":\"solid\"},\"marker\":{\"symbol\":\"circle\"},\"mode\":\"lines\",\"name\":\"tree_of_pmws\",\"orientation\":\"v\",\"showlegend\":false,\"x\":[2.0,112.88888888888889,223.77777777777777,334.66666666666663,445.55555555555554,556.4444444444445,667.3333333333333,778.2222222222222,889.1111111111111,1000.0],\"xaxis\":\"x3\",\"y\":[1.2089999031909808,0.043758030546011774,0.023485497206242486,0.016242429437170018,0.012482956982480508,0.010169244656400076,0.00859699447614187,0.007456685884552874,0.0065905566840512,0.005909590476955433],\"yaxis\":\"y3\",\"type\":\"scatter\"}],\"name\":\"800.0\"},{\"data\":[{\"hovertemplate\":\"algo=pmwg<br>block_size=900.0<br>exponent_size_limit=1.0<br>n_blocks=%{x}<br>error=%{y}<extra></extra>\",\"legendgroup\":\"pmwg\",\"line\":{\"color\":\"#636efa\",\"dash\":\"solid\"},\"marker\":{\"symbol\":\"circle\"},\"mode\":\"lines\",\"name\":\"pmwg\",\"orientation\":\"v\",\"showlegend\":true,\"x\":[2.0,112.88888888888889,223.77777777777777,334.66666666666663,445.55555555555554,556.4444444444445,667.3333333333333,778.2222222222222,889.1111111111111,1000.0],\"xaxis\":\"x\",\"y\":[0.4675085916153291,0.0648439141080338,0.04165996953144869,0.03041245449796555,0.023081105122140587,0.0175025313591783,0.012709099244109694,0.00790230363058017,null,null],\"yaxis\":\"y\",\"type\":\"scatter\"},{\"hovertemplate\":\"algo=pmwg<br>block_size=900.0<br>exponent_size_limit=0.9<br>n_blocks=%{x}<br>error=%{y}<extra></extra>\",\"legendgroup\":\"pmwg\",\"line\":{\"color\":\"#636efa\",\"dash\":\"solid\"},\"marker\":{\"symbol\":\"circle\"},\"mode\":\"lines\",\"name\":\"pmwg\",\"orientation\":\"v\",\"showlegend\":false,\"x\":[2.0,112.88888888888889,223.77777777777777,334.66666666666663,445.55555555555554,556.4444444444445,667.3333333333333,778.2222222222222,889.1111111111111,1000.0],\"xaxis\":\"x2\",\"y\":[0.4675085916153291,0.0648439141080338,0.04165996953144869,0.03041245449796555,0.023081105122140587,0.0175025313591783,0.012709099244109694,0.00790230363058017,null,null],\"yaxis\":\"y2\",\"type\":\"scatter\"},{\"hovertemplate\":\"algo=pmwg<br>block_size=900.0<br>exponent_size_limit=0.5<br>n_blocks=%{x}<br>error=%{y}<extra></extra>\",\"legendgroup\":\"pmwg\",\"line\":{\"color\":\"#636efa\",\"dash\":\"solid\"},\"marker\":{\"symbol\":\"circle\"},\"mode\":\"lines\",\"name\":\"pmwg\",\"orientation\":\"v\",\"showlegend\":false,\"x\":[2.0,112.88888888888889,223.77777777777777,334.66666666666663,445.55555555555554,556.4444444444445,667.3333333333333,778.2222222222222,889.1111111111111,1000.0],\"xaxis\":\"x3\",\"y\":[0.4675085916153291,0.0648439141080338,0.04165996953144869,0.03041245449796555,0.023081105122140587,0.0175025313591783,0.012709099244109694,0.00790230363058017,null,null],\"yaxis\":\"y3\",\"type\":\"scatter\"},{\"hovertemplate\":\"algo=one_pmw_per_block<br>block_size=900.0<br>exponent_size_limit=1.0<br>n_blocks=%{x}<br>error=%{y}<extra></extra>\",\"legendgroup\":\"one_pmw_per_block\",\"line\":{\"color\":\"#EF553B\",\"dash\":\"solid\"},\"marker\":{\"symbol\":\"circle\"},\"mode\":\"lines\",\"name\":\"one_pmw_per_block\",\"orientation\":\"v\",\"showlegend\":true,\"x\":[2.0,112.88888888888889,223.77777777777777,334.66666666666663,445.55555555555554,556.4444444444445,667.3333333333333,778.2222222222222,889.1111111111111,1000.0],\"xaxis\":\"x\",\"y\":[0.39023698200635204,0.4629296654854953,0.47415768265246716,0.4806395994802803,0.4851959309231151,0.4887049577818752,0.49155555259986566,0.4939540822801765,0.49602317813533225,0.4978416284735154],\"yaxis\":\"y\",\"type\":\"scatter\"},{\"hovertemplate\":\"algo=one_pmw_per_block<br>block_size=900.0<br>exponent_size_limit=0.9<br>n_blocks=%{x}<br>error=%{y}<extra></extra>\",\"legendgroup\":\"one_pmw_per_block\",\"line\":{\"color\":\"#EF553B\",\"dash\":\"solid\"},\"marker\":{\"symbol\":\"circle\"},\"mode\":\"lines\",\"name\":\"one_pmw_per_block\",\"orientation\":\"v\",\"showlegend\":false,\"x\":[2.0,112.88888888888889,223.77777777777777,334.66666666666663,445.55555555555554,556.4444444444445,667.3333333333333,778.2222222222222,889.1111111111111,1000.0],\"xaxis\":\"x2\",\"y\":[0.3641039787296819,0.28856914474769596,0.27602034605874143,0.2687560832869454,0.26364950707274043,0.2597195033839052,0.2565300964287064,0.2538494438197077,0.25153960053406055,0.24951186855913748],\"yaxis\":\"y2\",\"type\":\"scatter\"},{\"hovertemplate\":\"algo=one_pmw_per_block<br>block_size=900.0<br>exponent_size_limit=0.5<br>n_blocks=%{x}<br>error=%{y}<extra></extra>\",\"legendgroup\":\"one_pmw_per_block\",\"line\":{\"color\":\"#EF553B\",\"dash\":\"solid\"},\"marker\":{\"symbol\":\"circle\"},\"mode\":\"lines\",\"name\":\"one_pmw_per_block\",\"orientation\":\"v\",\"showlegend\":false,\"x\":[2.0,112.88888888888889,223.77777777777777,334.66666666666663,445.55555555555554,556.4444444444445,667.3333333333333,778.2222222222222,889.1111111111111,1000.0],\"xaxis\":\"x3\",\"y\":[0.2759392162464643,0.04357018589693098,0.03169671926238771,0.02627322106603895,0.022986149046649737,0.02071742806065306,0.019028352890460988,0.017706583223896472,0.01663504392034635,0.015743134600236436],\"yaxis\":\"y3\",\"type\":\"scatter\"},{\"hovertemplate\":\"algo=tree_of_pmws<br>block_size=900.0<br>exponent_size_limit=1.0<br>n_blocks=%{x}<br>error=%{y}<extra></extra>\",\"legendgroup\":\"tree_of_pmws\",\"line\":{\"color\":\"#00cc96\",\"dash\":\"solid\"},\"marker\":{\"symbol\":\"circle\"},\"mode\":\"lines\",\"name\":\"tree_of_pmws\",\"orientation\":\"v\",\"showlegend\":true,\"x\":[2.0,112.88888888888889,223.77777777777777,334.66666666666663,445.55555555555554,556.4444444444445,667.3333333333333,778.2222222222222,889.1111111111111,1000.0],\"xaxis\":\"x\",\"y\":[1.6119998709213077,0.4383359646237824,0.3312317629779046,0.28014376207650976,0.24842319572343072,0.22616392890150291,0.209383182085734,0.19611978182248513,0.18527800136460856,0.17618994700877003],\"yaxis\":\"y\",\"type\":\"scatter\"},{\"hovertemplate\":\"algo=tree_of_pmws<br>block_size=900.0<br>exponent_size_limit=0.9<br>n_blocks=%{x}<br>error=%{y}<extra></extra>\",\"legendgroup\":\"tree_of_pmws\",\"line\":{\"color\":\"#00cc96\",\"dash\":\"solid\"},\"marker\":{\"symbol\":\"circle\"},\"mode\":\"lines\",\"name\":\"tree_of_pmws\",\"orientation\":\"v\",\"showlegend\":false,\"x\":[2.0,112.88888888888889,223.77777777777777,334.66666666666663,445.55555555555554,556.4444444444445,667.3333333333333,778.2222222222222,889.1111111111111,1000.0],\"xaxis\":\"x2\",\"y\":[1.5040490619226552,0.2732385583693047,0.19281920168700345,0.15664614470876884,0.13499011208380504,0.12019354901627245,0.10927165323819682,0.1007885131910737,0.09395680787781126,0.08830415213426115],\"yaxis\":\"y2\",\"type\":\"scatter\"},{\"hovertemplate\":\"algo=tree_of_pmws<br>block_size=900.0<br>exponent_size_limit=0.5<br>n_blocks=%{x}<br>error=%{y}<extra></extra>\",\"legendgroup\":\"tree_of_pmws\",\"line\":{\"color\":\"#00cc96\",\"dash\":\"solid\"},\"marker\":{\"symbol\":\"circle\"},\"mode\":\"lines\",\"name\":\"tree_of_pmws\",\"orientation\":\"v\",\"showlegend\":false,\"x\":[2.0,112.88888888888889,223.77777777777777,334.66666666666663,445.55555555555554,556.4444444444445,667.3333333333333,778.2222222222222,889.1111111111111,1000.0],\"xaxis\":\"x3\",\"y\":[1.139856040000296,0.041255466840604015,0.022142339112095705,0.015313509330622557,0.011769044708762572,0.009587655808114074,0.008105324122537609,0.007030230872193796,0.0062136364307825735,0.00557161533372084],\"yaxis\":\"y3\",\"type\":\"scatter\"}],\"name\":\"900.0\"},{\"data\":[{\"hovertemplate\":\"algo=pmwg<br>block_size=1000.0<br>exponent_size_limit=1.0<br>n_blocks=%{x}<br>error=%{y}<extra></extra>\",\"legendgroup\":\"pmwg\",\"line\":{\"color\":\"#636efa\",\"dash\":\"solid\"},\"marker\":{\"symbol\":\"circle\"},\"mode\":\"lines\",\"name\":\"pmwg\",\"orientation\":\"v\",\"showlegend\":true,\"x\":[2.0,112.88888888888889,223.77777777777777,334.66666666666663,445.55555555555554,556.4444444444445,667.3333333333333,778.2222222222222,889.1111111111111,1000.0],\"xaxis\":\"x\",\"y\":[0.44604232169020874,0.0618424795971722,0.03976358485641082,0.029061381914672776,0.022093869270875196,0.016802681919166944,0.012273817958064011,0.007780089945649869,null,null],\"yaxis\":\"y\",\"type\":\"scatter\"},{\"hovertemplate\":\"algo=pmwg<br>block_size=1000.0<br>exponent_size_limit=0.9<br>n_blocks=%{x}<br>error=%{y}<extra></extra>\",\"legendgroup\":\"pmwg\",\"line\":{\"color\":\"#636efa\",\"dash\":\"solid\"},\"marker\":{\"symbol\":\"circle\"},\"mode\":\"lines\",\"name\":\"pmwg\",\"orientation\":\"v\",\"showlegend\":false,\"x\":[2.0,112.88888888888889,223.77777777777777,334.66666666666663,445.55555555555554,556.4444444444445,667.3333333333333,778.2222222222222,889.1111111111111,1000.0],\"xaxis\":\"x2\",\"y\":[0.44604232169020874,0.0618424795971722,0.03976358485641082,0.029061381914672776,0.022093869270875196,0.016802681919166944,0.012273817958064011,0.007780089945649869,null,null],\"yaxis\":\"y2\",\"type\":\"scatter\"},{\"hovertemplate\":\"algo=pmwg<br>block_size=1000.0<br>exponent_size_limit=0.5<br>n_blocks=%{x}<br>error=%{y}<extra></extra>\",\"legendgroup\":\"pmwg\",\"line\":{\"color\":\"#636efa\",\"dash\":\"solid\"},\"marker\":{\"symbol\":\"circle\"},\"mode\":\"lines\",\"name\":\"pmwg\",\"orientation\":\"v\",\"showlegend\":false,\"x\":[2.0,112.88888888888889,223.77777777777777,334.66666666666663,445.55555555555554,556.4444444444445,667.3333333333333,778.2222222222222,889.1111111111111,1000.0],\"xaxis\":\"x3\",\"y\":[0.44604232169020874,0.0618424795971722,0.03976358485641082,0.029061381914672776,0.022093869270875196,0.016802681919166944,0.012273817958064011,0.007780089945649869,null,null],\"yaxis\":\"y3\",\"type\":\"scatter\"},{\"hovertemplate\":\"algo=one_pmw_per_block<br>block_size=1000.0<br>exponent_size_limit=1.0<br>n_blocks=%{x}<br>error=%{y}<extra></extra>\",\"legendgroup\":\"one_pmw_per_block\",\"line\":{\"color\":\"#EF553B\",\"dash\":\"solid\"},\"marker\":{\"symbol\":\"circle\"},\"mode\":\"lines\",\"name\":\"one_pmw_per_block\",\"orientation\":\"v\",\"showlegend\":true,\"x\":[2.0,112.88888888888889,223.77777777777777,334.66666666666663,445.55555555555554,556.4444444444445,667.3333333333333,778.2222222222222,889.1111111111111,1000.0],\"xaxis\":\"x\",\"y\":[0.3702113071110651,0.4391736418182008,0.4498254741747314,0.45597476040863033,0.4602972759488301,0.4636262311221465,0.4663305428154834,0.4686059878630727,0.4705689045429245,0.47229403800709313],\"yaxis\":\"y\",\"type\":\"scatter\"},{\"hovertemplate\":\"algo=one_pmw_per_block<br>block_size=1000.0<br>exponent_size_limit=0.9<br>n_blocks=%{x}<br>error=%{y}<extra></extra>\",\"legendgroup\":\"one_pmw_per_block\",\"line\":{\"color\":\"#EF553B\",\"dash\":\"solid\"},\"marker\":{\"symbol\":\"circle\"},\"mode\":\"lines\",\"name\":\"one_pmw_per_block\",\"orientation\":\"v\",\"showlegend\":false,\"x\":[2.0,112.88888888888889,223.77777777777777,334.66666666666663,445.55555555555554,556.4444444444445,667.3333333333333,778.2222222222222,889.1111111111111,1000.0],\"xaxis\":\"x2\",\"y\":[0.3454193633745888,0.27376072795486034,0.26185589222805095,0.25496440746379795,0.2501198838991597,0.24639155503828478,0.24336581792920156,0.24082272757116893,0.23863141782496136,0.23670774236742884],\"yaxis\":\"y2\",\"type\":\"scatter\"},{\"hovertemplate\":\"algo=one_pmw_per_block<br>block_size=1000.0<br>exponent_size_limit=0.5<br>n_blocks=%{x}<br>error=%{y}<extra></extra>\",\"legendgroup\":\"one_pmw_per_block\",\"line\":{\"color\":\"#EF553B\",\"dash\":\"solid\"},\"marker\":{\"symbol\":\"circle\"},\"mode\":\"lines\",\"name\":\"one_pmw_per_block\",\"orientation\":\"v\",\"showlegend\":false,\"x\":[2.0,112.88888888888889,223.77777777777777,334.66666666666663,445.55555555555554,556.4444444444445,667.3333333333333,778.2222222222222,889.1111111111111,1000.0],\"xaxis\":\"x3\",\"y\":[0.26177892573016964,0.041334307653374466,0.030070148167223216,0.02492496601134007,0.021806575687056344,0.019654277979704603,0.01805188057659156,0.016797939770052003,0.015781388329569324,0.01493524885420546],\"yaxis\":\"y3\",\"type\":\"scatter\"},{\"hovertemplate\":\"algo=tree_of_pmws<br>block_size=1000.0<br>exponent_size_limit=1.0<br>n_blocks=%{x}<br>error=%{y}<extra></extra>\",\"legendgroup\":\"tree_of_pmws\",\"line\":{\"color\":\"#00cc96\",\"dash\":\"solid\"},\"marker\":{\"symbol\":\"circle\"},\"mode\":\"lines\",\"name\":\"tree_of_pmws\",\"orientation\":\"v\",\"showlegend\":true,\"x\":[2.0,112.88888888888889,223.77777777777777,334.66666666666663,445.55555555555554,556.4444444444445,667.3333333333333,778.2222222222222,889.1111111111111,1000.0],\"xaxis\":\"x\",\"y\":[1.5292773540026285,0.4158420085734432,0.31423404132096455,0.26576770813502176,0.23567493663115255,0.21455794197033967,0.1986383277374054,0.18605556143230242,0.17577014539078445,0.1671484600116252],\"yaxis\":\"y\",\"type\":\"scatter\"},{\"hovertemplate\":\"algo=tree_of_pmws<br>block_size=1000.0<br>exponent_size_limit=0.9<br>n_blocks=%{x}<br>error=%{y}<extra></extra>\",\"legendgroup\":\"tree_of_pmws\",\"line\":{\"color\":\"#00cc96\",\"dash\":\"solid\"},\"marker\":{\"symbol\":\"circle\"},\"mode\":\"lines\",\"name\":\"tree_of_pmws\",\"orientation\":\"v\",\"showlegend\":false,\"x\":[2.0,112.88888888888889,223.77777777777777,334.66666666666663,445.55555555555554,556.4444444444445,667.3333333333333,778.2222222222222,889.1111111111111,1000.0],\"xaxis\":\"x2\",\"y\":[1.4268662244945658,0.2592168567083598,0.1829243561838936,0.14860758118921286,0.1280628647358727,0.11402561248515343,0.10366419237744466,0.09561637909971553,0.08913525437182049,0.08377267427828519],\"yaxis\":\"y2\",\"type\":\"scatter\"},{\"hovertemplate\":\"algo=tree_of_pmws<br>block_size=1000.0<br>exponent_size_limit=0.5<br>n_blocks=%{x}<br>error=%{y}<extra></extra>\",\"legendgroup\":\"tree_of_pmws\",\"line\":{\"color\":\"#00cc96\",\"dash\":\"solid\"},\"marker\":{\"symbol\":\"circle\"},\"mode\":\"lines\",\"name\":\"tree_of_pmws\",\"orientation\":\"v\",\"showlegend\":false,\"x\":[2.0,112.88888888888889,223.77777777777777,334.66666666666663,445.55555555555554,556.4444444444445,667.3333333333333,778.2222222222222,889.1111111111111,1000.0],\"xaxis\":\"x3\",\"y\":[1.0813623873302791,0.03913837234495783,0.021006067295415837,0.014527670536502323,0.011165096149212825,0.009095648932614823,0.0076893856203373665,0.006669462609889351,0.0058947731020416345,0.0052856984102631005],\"yaxis\":\"y3\",\"type\":\"scatter\"}],\"name\":\"1000.0\"}]);\n",
       "                        }).then(function(){\n",
       "                            \n",
       "var gd = document.getElementById('6ae9edf2-5d89-4059-90f8-fe2c870e6448');\n",
       "var x = new MutationObserver(function (mutations, observer) {{\n",
       "        var display = window.getComputedStyle(gd).display;\n",
       "        if (!display || display === 'none') {{\n",
       "            console.log([gd, 'removed!']);\n",
       "            Plotly.purge(gd);\n",
       "            observer.disconnect();\n",
       "        }}\n",
       "}});\n",
       "\n",
       "// Listen for the removal of the full notebook cells\n",
       "var notebookContainer = gd.closest('#notebook-container');\n",
       "if (notebookContainer) {{\n",
       "    x.observe(notebookContainer, {childList: true});\n",
       "}}\n",
       "\n",
       "// Listen for the clearing of the current output cell\n",
       "var outputEl = gd.closest('.output');\n",
       "if (outputEl) {{\n",
       "    x.observe(outputEl, {childList: true});\n",
       "}}\n",
       "\n",
       "                        })                };                });            </script>        </div>"
      ]
     },
     "metadata": {},
     "output_type": "display_data"
    }
   ],
   "source": [
    "px.line(\n",
    "    df,\n",
    "    x=\"n_blocks\",\n",
    "    y=\"error\",\n",
    "    color=\"algo\",\n",
    "    animation_frame=\"block_size\",\n",
    "    range_y=[1e-3,1],\n",
    "    facet_col=\"exponent_size_limit\",\n",
    "    log_y=True,\n",
    "    log_x=True,\n",
    "    title=\"Error bounds depending on the size of the dataset\",\n",
    ")\n",
    "    "
   ]
  },
  {
   "cell_type": "markdown",
   "id": "f302d666-8a80-4444-a598-1f64f86f4048",
   "metadata": {},
   "source": [
    "## Caveats when reading the error bounds\n",
    "- Theorems gives asymptotic guarantees, so the real bounds might be shifted up or down by large factors. You should focus on the slope and the evolution of the curve when we change parameters.\n",
    "- There are a lot of moving pieces, I fixed some of them arbitrarily.\n",
    "- PMWG has a strange $-\\sqrt{T}$ factor in the accuracy bound that gives negative error for large number of blocks when some assumptions are not respected. Maybe it will help if I separate the \"initial number of blocks\" from the \"online blocks\" like they do.\n",
    "- My error bounds are probably not tight and encapsulate a few assumptions. In particular, Tree of PMWs can be optimized further.\n",
    "- The error bound is a worst-case error (max_q |pmw_output - true_output|). Block PMWs can give different guaranties for different queries, depending on the number of blocks they request.\n",
    "\n",
    "## Interpretation\n",
    "- When queries can request all the blocks, PMWGs is still the best. Tree of PMWs is pretty close though (almost parallel slope). One PMW per Block scales very poorly, because queries requesting a lot of blocks will need a linear number of PMWs (instead of logarithmic). \n",
    "- Tree of PMWs has the most negative slope when we limit the number of requested blocks, e.g. with exponent 0.5 (i.e. a query can request at most sqrt of the total number of blocks).\n",
    "- One PMW per Block is surprisingly efficient for small number of blocks, probably because it doesn't deal with as much overhead as PMWG or Tree of PMWs."
   ]
  },
  {
   "cell_type": "code",
   "execution_count": 97,
   "id": "2a5d5d4e-508a-4274-a8d1-ab1a5bb04bb4",
   "metadata": {},
   "outputs": [
    {
     "data": {
      "application/vnd.plotly.v1+json": {
       "config": {
        "plotlyServerURL": "https://plot.ly"
       },
       "data": [
        {
         "hovertemplate": "exponent_size_limit=1.0<br>n_blocks=%{x}<br>max_n_requested_blocks=%{y}<extra></extra>",
         "legendgroup": "1.0",
         "line": {
          "color": "#636efa",
          "dash": "solid"
         },
         "marker": {
          "symbol": "circle"
         },
         "mode": "lines",
         "name": "1.0",
         "orientation": "v",
         "showlegend": true,
         "type": "scatter",
         "x": [
          2,
          112.88888888888889,
          223.77777777777777,
          334.66666666666663,
          445.55555555555554,
          556.4444444444445,
          667.3333333333333,
          778.2222222222222,
          889.1111111111111,
          1000
         ],
         "xaxis": "x",
         "y": [
          2,
          112.88888888888889,
          223.77777777777777,
          334.66666666666663,
          445.55555555555554,
          556.4444444444445,
          667.3333333333333,
          778.2222222222222,
          889.1111111111111,
          1000
         ],
         "yaxis": "y"
        },
        {
         "hovertemplate": "exponent_size_limit=0.9<br>n_blocks=%{x}<br>max_n_requested_blocks=%{y}<extra></extra>",
         "legendgroup": "0.9",
         "line": {
          "color": "#EF553B",
          "dash": "solid"
         },
         "marker": {
          "symbol": "circle"
         },
         "mode": "lines",
         "name": "0.9",
         "orientation": "v",
         "showlegend": true,
         "type": "scatter",
         "x": [
          2,
          112.88888888888889,
          223.77777777777777,
          334.66666666666663,
          445.55555555555554,
          556.4444444444445,
          667.3333333333333,
          778.2222222222222,
          889.1111111111111,
          1000
         ],
         "xaxis": "x",
         "y": [
          1.8660659830736148,
          70.36976142805659,
          130.2672548021341,
          187.13335862731233,
          242.10941417469925,
          295.7192728876465,
          348.26396211913493,
          399.9385476628063,
          450.8794418841958,
          501.18723362727235
         ],
         "yaxis": "y"
        },
        {
         "hovertemplate": "exponent_size_limit=0.5<br>n_blocks=%{x}<br>max_n_requested_blocks=%{y}<extra></extra>",
         "legendgroup": "0.5",
         "line": {
          "color": "#00cc96",
          "dash": "solid"
         },
         "marker": {
          "symbol": "circle"
         },
         "mode": "lines",
         "name": "0.5",
         "orientation": "v",
         "showlegend": true,
         "type": "scatter",
         "x": [
          2,
          112.88888888888889,
          223.77777777777777,
          334.66666666666663,
          445.55555555555554,
          556.4444444444445,
          667.3333333333333,
          778.2222222222222,
          889.1111111111111,
          1000
         ],
         "xaxis": "x",
         "y": [
          1.4142135623730951,
          10.624918300339484,
          14.959203781544584,
          18.29389697868299,
          21.10818693198342,
          23.589074683938843,
          25.832795693330084,
          27.8966346038769,
          29.81796624706506,
          31.622776601683793
         ],
         "yaxis": "y"
        }
       ],
       "layout": {
        "height": 600,
        "legend": {
         "title": {
          "text": "exponent_size_limit"
         },
         "tracegroupgap": 0
        },
        "template": {
         "data": {
          "bar": [
           {
            "error_x": {
             "color": "#2a3f5f"
            },
            "error_y": {
             "color": "#2a3f5f"
            },
            "marker": {
             "line": {
              "color": "#E5ECF6",
              "width": 0.5
             },
             "pattern": {
              "fillmode": "overlay",
              "size": 10,
              "solidity": 0.2
             }
            },
            "type": "bar"
           }
          ],
          "barpolar": [
           {
            "marker": {
             "line": {
              "color": "#E5ECF6",
              "width": 0.5
             },
             "pattern": {
              "fillmode": "overlay",
              "size": 10,
              "solidity": 0.2
             }
            },
            "type": "barpolar"
           }
          ],
          "carpet": [
           {
            "aaxis": {
             "endlinecolor": "#2a3f5f",
             "gridcolor": "white",
             "linecolor": "white",
             "minorgridcolor": "white",
             "startlinecolor": "#2a3f5f"
            },
            "baxis": {
             "endlinecolor": "#2a3f5f",
             "gridcolor": "white",
             "linecolor": "white",
             "minorgridcolor": "white",
             "startlinecolor": "#2a3f5f"
            },
            "type": "carpet"
           }
          ],
          "choropleth": [
           {
            "colorbar": {
             "outlinewidth": 0,
             "ticks": ""
            },
            "type": "choropleth"
           }
          ],
          "contour": [
           {
            "colorbar": {
             "outlinewidth": 0,
             "ticks": ""
            },
            "colorscale": [
             [
              0,
              "#0d0887"
             ],
             [
              0.1111111111111111,
              "#46039f"
             ],
             [
              0.2222222222222222,
              "#7201a8"
             ],
             [
              0.3333333333333333,
              "#9c179e"
             ],
             [
              0.4444444444444444,
              "#bd3786"
             ],
             [
              0.5555555555555556,
              "#d8576b"
             ],
             [
              0.6666666666666666,
              "#ed7953"
             ],
             [
              0.7777777777777778,
              "#fb9f3a"
             ],
             [
              0.8888888888888888,
              "#fdca26"
             ],
             [
              1,
              "#f0f921"
             ]
            ],
            "type": "contour"
           }
          ],
          "contourcarpet": [
           {
            "colorbar": {
             "outlinewidth": 0,
             "ticks": ""
            },
            "type": "contourcarpet"
           }
          ],
          "heatmap": [
           {
            "colorbar": {
             "outlinewidth": 0,
             "ticks": ""
            },
            "colorscale": [
             [
              0,
              "#0d0887"
             ],
             [
              0.1111111111111111,
              "#46039f"
             ],
             [
              0.2222222222222222,
              "#7201a8"
             ],
             [
              0.3333333333333333,
              "#9c179e"
             ],
             [
              0.4444444444444444,
              "#bd3786"
             ],
             [
              0.5555555555555556,
              "#d8576b"
             ],
             [
              0.6666666666666666,
              "#ed7953"
             ],
             [
              0.7777777777777778,
              "#fb9f3a"
             ],
             [
              0.8888888888888888,
              "#fdca26"
             ],
             [
              1,
              "#f0f921"
             ]
            ],
            "type": "heatmap"
           }
          ],
          "heatmapgl": [
           {
            "colorbar": {
             "outlinewidth": 0,
             "ticks": ""
            },
            "colorscale": [
             [
              0,
              "#0d0887"
             ],
             [
              0.1111111111111111,
              "#46039f"
             ],
             [
              0.2222222222222222,
              "#7201a8"
             ],
             [
              0.3333333333333333,
              "#9c179e"
             ],
             [
              0.4444444444444444,
              "#bd3786"
             ],
             [
              0.5555555555555556,
              "#d8576b"
             ],
             [
              0.6666666666666666,
              "#ed7953"
             ],
             [
              0.7777777777777778,
              "#fb9f3a"
             ],
             [
              0.8888888888888888,
              "#fdca26"
             ],
             [
              1,
              "#f0f921"
             ]
            ],
            "type": "heatmapgl"
           }
          ],
          "histogram": [
           {
            "marker": {
             "pattern": {
              "fillmode": "overlay",
              "size": 10,
              "solidity": 0.2
             }
            },
            "type": "histogram"
           }
          ],
          "histogram2d": [
           {
            "colorbar": {
             "outlinewidth": 0,
             "ticks": ""
            },
            "colorscale": [
             [
              0,
              "#0d0887"
             ],
             [
              0.1111111111111111,
              "#46039f"
             ],
             [
              0.2222222222222222,
              "#7201a8"
             ],
             [
              0.3333333333333333,
              "#9c179e"
             ],
             [
              0.4444444444444444,
              "#bd3786"
             ],
             [
              0.5555555555555556,
              "#d8576b"
             ],
             [
              0.6666666666666666,
              "#ed7953"
             ],
             [
              0.7777777777777778,
              "#fb9f3a"
             ],
             [
              0.8888888888888888,
              "#fdca26"
             ],
             [
              1,
              "#f0f921"
             ]
            ],
            "type": "histogram2d"
           }
          ],
          "histogram2dcontour": [
           {
            "colorbar": {
             "outlinewidth": 0,
             "ticks": ""
            },
            "colorscale": [
             [
              0,
              "#0d0887"
             ],
             [
              0.1111111111111111,
              "#46039f"
             ],
             [
              0.2222222222222222,
              "#7201a8"
             ],
             [
              0.3333333333333333,
              "#9c179e"
             ],
             [
              0.4444444444444444,
              "#bd3786"
             ],
             [
              0.5555555555555556,
              "#d8576b"
             ],
             [
              0.6666666666666666,
              "#ed7953"
             ],
             [
              0.7777777777777778,
              "#fb9f3a"
             ],
             [
              0.8888888888888888,
              "#fdca26"
             ],
             [
              1,
              "#f0f921"
             ]
            ],
            "type": "histogram2dcontour"
           }
          ],
          "mesh3d": [
           {
            "colorbar": {
             "outlinewidth": 0,
             "ticks": ""
            },
            "type": "mesh3d"
           }
          ],
          "parcoords": [
           {
            "line": {
             "colorbar": {
              "outlinewidth": 0,
              "ticks": ""
             }
            },
            "type": "parcoords"
           }
          ],
          "pie": [
           {
            "automargin": true,
            "type": "pie"
           }
          ],
          "scatter": [
           {
            "fillpattern": {
             "fillmode": "overlay",
             "size": 10,
             "solidity": 0.2
            },
            "type": "scatter"
           }
          ],
          "scatter3d": [
           {
            "line": {
             "colorbar": {
              "outlinewidth": 0,
              "ticks": ""
             }
            },
            "marker": {
             "colorbar": {
              "outlinewidth": 0,
              "ticks": ""
             }
            },
            "type": "scatter3d"
           }
          ],
          "scattercarpet": [
           {
            "marker": {
             "colorbar": {
              "outlinewidth": 0,
              "ticks": ""
             }
            },
            "type": "scattercarpet"
           }
          ],
          "scattergeo": [
           {
            "marker": {
             "colorbar": {
              "outlinewidth": 0,
              "ticks": ""
             }
            },
            "type": "scattergeo"
           }
          ],
          "scattergl": [
           {
            "marker": {
             "colorbar": {
              "outlinewidth": 0,
              "ticks": ""
             }
            },
            "type": "scattergl"
           }
          ],
          "scattermapbox": [
           {
            "marker": {
             "colorbar": {
              "outlinewidth": 0,
              "ticks": ""
             }
            },
            "type": "scattermapbox"
           }
          ],
          "scatterpolar": [
           {
            "marker": {
             "colorbar": {
              "outlinewidth": 0,
              "ticks": ""
             }
            },
            "type": "scatterpolar"
           }
          ],
          "scatterpolargl": [
           {
            "marker": {
             "colorbar": {
              "outlinewidth": 0,
              "ticks": ""
             }
            },
            "type": "scatterpolargl"
           }
          ],
          "scatterternary": [
           {
            "marker": {
             "colorbar": {
              "outlinewidth": 0,
              "ticks": ""
             }
            },
            "type": "scatterternary"
           }
          ],
          "surface": [
           {
            "colorbar": {
             "outlinewidth": 0,
             "ticks": ""
            },
            "colorscale": [
             [
              0,
              "#0d0887"
             ],
             [
              0.1111111111111111,
              "#46039f"
             ],
             [
              0.2222222222222222,
              "#7201a8"
             ],
             [
              0.3333333333333333,
              "#9c179e"
             ],
             [
              0.4444444444444444,
              "#bd3786"
             ],
             [
              0.5555555555555556,
              "#d8576b"
             ],
             [
              0.6666666666666666,
              "#ed7953"
             ],
             [
              0.7777777777777778,
              "#fb9f3a"
             ],
             [
              0.8888888888888888,
              "#fdca26"
             ],
             [
              1,
              "#f0f921"
             ]
            ],
            "type": "surface"
           }
          ],
          "table": [
           {
            "cells": {
             "fill": {
              "color": "#EBF0F8"
             },
             "line": {
              "color": "white"
             }
            },
            "header": {
             "fill": {
              "color": "#C8D4E3"
             },
             "line": {
              "color": "white"
             }
            },
            "type": "table"
           }
          ]
         },
         "layout": {
          "annotationdefaults": {
           "arrowcolor": "#2a3f5f",
           "arrowhead": 0,
           "arrowwidth": 1
          },
          "autotypenumbers": "strict",
          "coloraxis": {
           "colorbar": {
            "outlinewidth": 0,
            "ticks": ""
           }
          },
          "colorscale": {
           "diverging": [
            [
             0,
             "#8e0152"
            ],
            [
             0.1,
             "#c51b7d"
            ],
            [
             0.2,
             "#de77ae"
            ],
            [
             0.3,
             "#f1b6da"
            ],
            [
             0.4,
             "#fde0ef"
            ],
            [
             0.5,
             "#f7f7f7"
            ],
            [
             0.6,
             "#e6f5d0"
            ],
            [
             0.7,
             "#b8e186"
            ],
            [
             0.8,
             "#7fbc41"
            ],
            [
             0.9,
             "#4d9221"
            ],
            [
             1,
             "#276419"
            ]
           ],
           "sequential": [
            [
             0,
             "#0d0887"
            ],
            [
             0.1111111111111111,
             "#46039f"
            ],
            [
             0.2222222222222222,
             "#7201a8"
            ],
            [
             0.3333333333333333,
             "#9c179e"
            ],
            [
             0.4444444444444444,
             "#bd3786"
            ],
            [
             0.5555555555555556,
             "#d8576b"
            ],
            [
             0.6666666666666666,
             "#ed7953"
            ],
            [
             0.7777777777777778,
             "#fb9f3a"
            ],
            [
             0.8888888888888888,
             "#fdca26"
            ],
            [
             1,
             "#f0f921"
            ]
           ],
           "sequentialminus": [
            [
             0,
             "#0d0887"
            ],
            [
             0.1111111111111111,
             "#46039f"
            ],
            [
             0.2222222222222222,
             "#7201a8"
            ],
            [
             0.3333333333333333,
             "#9c179e"
            ],
            [
             0.4444444444444444,
             "#bd3786"
            ],
            [
             0.5555555555555556,
             "#d8576b"
            ],
            [
             0.6666666666666666,
             "#ed7953"
            ],
            [
             0.7777777777777778,
             "#fb9f3a"
            ],
            [
             0.8888888888888888,
             "#fdca26"
            ],
            [
             1,
             "#f0f921"
            ]
           ]
          },
          "colorway": [
           "#636efa",
           "#EF553B",
           "#00cc96",
           "#ab63fa",
           "#FFA15A",
           "#19d3f3",
           "#FF6692",
           "#B6E880",
           "#FF97FF",
           "#FECB52"
          ],
          "font": {
           "color": "#2a3f5f"
          },
          "geo": {
           "bgcolor": "white",
           "lakecolor": "white",
           "landcolor": "#E5ECF6",
           "showlakes": true,
           "showland": true,
           "subunitcolor": "white"
          },
          "hoverlabel": {
           "align": "left"
          },
          "hovermode": "closest",
          "mapbox": {
           "style": "light"
          },
          "paper_bgcolor": "white",
          "plot_bgcolor": "#E5ECF6",
          "polar": {
           "angularaxis": {
            "gridcolor": "white",
            "linecolor": "white",
            "ticks": ""
           },
           "bgcolor": "#E5ECF6",
           "radialaxis": {
            "gridcolor": "white",
            "linecolor": "white",
            "ticks": ""
           }
          },
          "scene": {
           "xaxis": {
            "backgroundcolor": "#E5ECF6",
            "gridcolor": "white",
            "gridwidth": 2,
            "linecolor": "white",
            "showbackground": true,
            "ticks": "",
            "zerolinecolor": "white"
           },
           "yaxis": {
            "backgroundcolor": "#E5ECF6",
            "gridcolor": "white",
            "gridwidth": 2,
            "linecolor": "white",
            "showbackground": true,
            "ticks": "",
            "zerolinecolor": "white"
           },
           "zaxis": {
            "backgroundcolor": "#E5ECF6",
            "gridcolor": "white",
            "gridwidth": 2,
            "linecolor": "white",
            "showbackground": true,
            "ticks": "",
            "zerolinecolor": "white"
           }
          },
          "shapedefaults": {
           "line": {
            "color": "#2a3f5f"
           }
          },
          "ternary": {
           "aaxis": {
            "gridcolor": "white",
            "linecolor": "white",
            "ticks": ""
           },
           "baxis": {
            "gridcolor": "white",
            "linecolor": "white",
            "ticks": ""
           },
           "bgcolor": "#E5ECF6",
           "caxis": {
            "gridcolor": "white",
            "linecolor": "white",
            "ticks": ""
           }
          },
          "title": {
           "x": 0.05
          },
          "xaxis": {
           "automargin": true,
           "gridcolor": "white",
           "linecolor": "white",
           "ticks": "",
           "title": {
            "standoff": 15
           },
           "zerolinecolor": "white",
           "zerolinewidth": 2
          },
          "yaxis": {
           "automargin": true,
           "gridcolor": "white",
           "linecolor": "white",
           "ticks": "",
           "title": {
            "standoff": 15
           },
           "zerolinecolor": "white",
           "zerolinewidth": 2
          }
         }
        },
        "title": {
         "text": "What does `exponent_size_limit` mean in terms of number of blocks?"
        },
        "width": 1000,
        "xaxis": {
         "anchor": "y",
         "autorange": true,
         "domain": [
          0,
          1
         ],
         "range": [
          2,
          1000
         ],
         "title": {
          "text": "n_blocks"
         },
         "type": "linear"
        },
        "yaxis": {
         "anchor": "x",
         "autorange": true,
         "domain": [
          0,
          1
         ],
         "range": [
          -54.062774573050625,
          1055.4769881354237
         ],
         "title": {
          "text": "max_n_requested_blocks"
         },
         "type": "linear"
        }
       }
      },
      "image/png": "[encoded data removed]",
      "text/html": [
       "<div>                            <div id=\"0e4697fe-aabc-43a3-938f-63559cca931c\" class=\"plotly-graph-div\" style=\"height:600px; width:1000px;\"></div>            <script type=\"text/javascript\">                require([\"plotly\"], function(Plotly) {                    window.PLOTLYENV=window.PLOTLYENV || {};                                    if (document.getElementById(\"0e4697fe-aabc-43a3-938f-63559cca931c\")) {                    Plotly.newPlot(                        \"0e4697fe-aabc-43a3-938f-63559cca931c\",                        [{\"hovertemplate\":\"exponent_size_limit=1.0<br>n_blocks=%{x}<br>max_n_requested_blocks=%{y}<extra></extra>\",\"legendgroup\":\"1.0\",\"line\":{\"color\":\"#636efa\",\"dash\":\"solid\"},\"marker\":{\"symbol\":\"circle\"},\"mode\":\"lines\",\"name\":\"1.0\",\"orientation\":\"v\",\"showlegend\":true,\"x\":[2.0,112.88888888888889,223.77777777777777,334.66666666666663,445.55555555555554,556.4444444444445,667.3333333333333,778.2222222222222,889.1111111111111,1000.0],\"xaxis\":\"x\",\"y\":[2.0,112.88888888888889,223.77777777777777,334.66666666666663,445.55555555555554,556.4444444444445,667.3333333333333,778.2222222222222,889.1111111111111,1000.0],\"yaxis\":\"y\",\"type\":\"scatter\"},{\"hovertemplate\":\"exponent_size_limit=0.9<br>n_blocks=%{x}<br>max_n_requested_blocks=%{y}<extra></extra>\",\"legendgroup\":\"0.9\",\"line\":{\"color\":\"#EF553B\",\"dash\":\"solid\"},\"marker\":{\"symbol\":\"circle\"},\"mode\":\"lines\",\"name\":\"0.9\",\"orientation\":\"v\",\"showlegend\":true,\"x\":[2.0,112.88888888888889,223.77777777777777,334.66666666666663,445.55555555555554,556.4444444444445,667.3333333333333,778.2222222222222,889.1111111111111,1000.0],\"xaxis\":\"x\",\"y\":[1.8660659830736148,70.36976142805659,130.2672548021341,187.13335862731233,242.10941417469925,295.7192728876465,348.26396211913493,399.9385476628063,450.8794418841958,501.18723362727235],\"yaxis\":\"y\",\"type\":\"scatter\"},{\"hovertemplate\":\"exponent_size_limit=0.5<br>n_blocks=%{x}<br>max_n_requested_blocks=%{y}<extra></extra>\",\"legendgroup\":\"0.5\",\"line\":{\"color\":\"#00cc96\",\"dash\":\"solid\"},\"marker\":{\"symbol\":\"circle\"},\"mode\":\"lines\",\"name\":\"0.5\",\"orientation\":\"v\",\"showlegend\":true,\"x\":[2.0,112.88888888888889,223.77777777777777,334.66666666666663,445.55555555555554,556.4444444444445,667.3333333333333,778.2222222222222,889.1111111111111,1000.0],\"xaxis\":\"x\",\"y\":[1.4142135623730951,10.624918300339484,14.959203781544584,18.29389697868299,21.10818693198342,23.589074683938843,25.832795693330084,27.8966346038769,29.81796624706506,31.622776601683793],\"yaxis\":\"y\",\"type\":\"scatter\"}],                        {\"template\":{\"data\":{\"histogram2dcontour\":[{\"type\":\"histogram2dcontour\",\"colorbar\":{\"outlinewidth\":0,\"ticks\":\"\"},\"colorscale\":[[0.0,\"#0d0887\"],[0.1111111111111111,\"#46039f\"],[0.2222222222222222,\"#7201a8\"],[0.3333333333333333,\"#9c179e\"],[0.4444444444444444,\"#bd3786\"],[0.5555555555555556,\"#d8576b\"],[0.6666666666666666,\"#ed7953\"],[0.7777777777777778,\"#fb9f3a\"],[0.8888888888888888,\"#fdca26\"],[1.0,\"#f0f921\"]]}],\"choropleth\":[{\"type\":\"choropleth\",\"colorbar\":{\"outlinewidth\":0,\"ticks\":\"\"}}],\"histogram2d\":[{\"type\":\"histogram2d\",\"colorbar\":{\"outlinewidth\":0,\"ticks\":\"\"},\"colorscale\":[[0.0,\"#0d0887\"],[0.1111111111111111,\"#46039f\"],[0.2222222222222222,\"#7201a8\"],[0.3333333333333333,\"#9c179e\"],[0.4444444444444444,\"#bd3786\"],[0.5555555555555556,\"#d8576b\"],[0.6666666666666666,\"#ed7953\"],[0.7777777777777778,\"#fb9f3a\"],[0.8888888888888888,\"#fdca26\"],[1.0,\"#f0f921\"]]}],\"heatmap\":[{\"type\":\"heatmap\",\"colorbar\":{\"outlinewidth\":0,\"ticks\":\"\"},\"colorscale\":[[0.0,\"#0d0887\"],[0.1111111111111111,\"#46039f\"],[0.2222222222222222,\"#7201a8\"],[0.3333333333333333,\"#9c179e\"],[0.4444444444444444,\"#bd3786\"],[0.5555555555555556,\"#d8576b\"],[0.6666666666666666,\"#ed7953\"],[0.7777777777777778,\"#fb9f3a\"],[0.8888888888888888,\"#fdca26\"],[1.0,\"#f0f921\"]]}],\"heatmapgl\":[{\"type\":\"heatmapgl\",\"colorbar\":{\"outlinewidth\":0,\"ticks\":\"\"},\"colorscale\":[[0.0,\"#0d0887\"],[0.1111111111111111,\"#46039f\"],[0.2222222222222222,\"#7201a8\"],[0.3333333333333333,\"#9c179e\"],[0.4444444444444444,\"#bd3786\"],[0.5555555555555556,\"#d8576b\"],[0.6666666666666666,\"#ed7953\"],[0.7777777777777778,\"#fb9f3a\"],[0.8888888888888888,\"#fdca26\"],[1.0,\"#f0f921\"]]}],\"contourcarpet\":[{\"type\":\"contourcarpet\",\"colorbar\":{\"outlinewidth\":0,\"ticks\":\"\"}}],\"contour\":[{\"type\":\"contour\",\"colorbar\":{\"outlinewidth\":0,\"ticks\":\"\"},\"colorscale\":[[0.0,\"#0d0887\"],[0.1111111111111111,\"#46039f\"],[0.2222222222222222,\"#7201a8\"],[0.3333333333333333,\"#9c179e\"],[0.4444444444444444,\"#bd3786\"],[0.5555555555555556,\"#d8576b\"],[0.6666666666666666,\"#ed7953\"],[0.7777777777777778,\"#fb9f3a\"],[0.8888888888888888,\"#fdca26\"],[1.0,\"#f0f921\"]]}],\"surface\":[{\"type\":\"surface\",\"colorbar\":{\"outlinewidth\":0,\"ticks\":\"\"},\"colorscale\":[[0.0,\"#0d0887\"],[0.1111111111111111,\"#46039f\"],[0.2222222222222222,\"#7201a8\"],[0.3333333333333333,\"#9c179e\"],[0.4444444444444444,\"#bd3786\"],[0.5555555555555556,\"#d8576b\"],[0.6666666666666666,\"#ed7953\"],[0.7777777777777778,\"#fb9f3a\"],[0.8888888888888888,\"#fdca26\"],[1.0,\"#f0f921\"]]}],\"mesh3d\":[{\"type\":\"mesh3d\",\"colorbar\":{\"outlinewidth\":0,\"ticks\":\"\"}}],\"scatter\":[{\"fillpattern\":{\"fillmode\":\"overlay\",\"size\":10,\"solidity\":0.2},\"type\":\"scatter\"}],\"parcoords\":[{\"type\":\"parcoords\",\"line\":{\"colorbar\":{\"outlinewidth\":0,\"ticks\":\"\"}}}],\"scatterpolargl\":[{\"type\":\"scatterpolargl\",\"marker\":{\"colorbar\":{\"outlinewidth\":0,\"ticks\":\"\"}}}],\"bar\":[{\"error_x\":{\"color\":\"#2a3f5f\"},\"error_y\":{\"color\":\"#2a3f5f\"},\"marker\":{\"line\":{\"color\":\"#E5ECF6\",\"width\":0.5},\"pattern\":{\"fillmode\":\"overlay\",\"size\":10,\"solidity\":0.2}},\"type\":\"bar\"}],\"scattergeo\":[{\"type\":\"scattergeo\",\"marker\":{\"colorbar\":{\"outlinewidth\":0,\"ticks\":\"\"}}}],\"scatterpolar\":[{\"type\":\"scatterpolar\",\"marker\":{\"colorbar\":{\"outlinewidth\":0,\"ticks\":\"\"}}}],\"histogram\":[{\"marker\":{\"pattern\":{\"fillmode\":\"overlay\",\"size\":10,\"solidity\":0.2}},\"type\":\"histogram\"}],\"scattergl\":[{\"type\":\"scattergl\",\"marker\":{\"colorbar\":{\"outlinewidth\":0,\"ticks\":\"\"}}}],\"scatter3d\":[{\"type\":\"scatter3d\",\"line\":{\"colorbar\":{\"outlinewidth\":0,\"ticks\":\"\"}},\"marker\":{\"colorbar\":{\"outlinewidth\":0,\"ticks\":\"\"}}}],\"scattermapbox\":[{\"type\":\"scattermapbox\",\"marker\":{\"colorbar\":{\"outlinewidth\":0,\"ticks\":\"\"}}}],\"scatterternary\":[{\"type\":\"scatterternary\",\"marker\":{\"colorbar\":{\"outlinewidth\":0,\"ticks\":\"\"}}}],\"scattercarpet\":[{\"type\":\"scattercarpet\",\"marker\":{\"colorbar\":{\"outlinewidth\":0,\"ticks\":\"\"}}}],\"carpet\":[{\"aaxis\":{\"endlinecolor\":\"#2a3f5f\",\"gridcolor\":\"white\",\"linecolor\":\"white\",\"minorgridcolor\":\"white\",\"startlinecolor\":\"#2a3f5f\"},\"baxis\":{\"endlinecolor\":\"#2a3f5f\",\"gridcolor\":\"white\",\"linecolor\":\"white\",\"minorgridcolor\":\"white\",\"startlinecolor\":\"#2a3f5f\"},\"type\":\"carpet\"}],\"table\":[{\"cells\":{\"fill\":{\"color\":\"#EBF0F8\"},\"line\":{\"color\":\"white\"}},\"header\":{\"fill\":{\"color\":\"#C8D4E3\"},\"line\":{\"color\":\"white\"}},\"type\":\"table\"}],\"barpolar\":[{\"marker\":{\"line\":{\"color\":\"#E5ECF6\",\"width\":0.5},\"pattern\":{\"fillmode\":\"overlay\",\"size\":10,\"solidity\":0.2}},\"type\":\"barpolar\"}],\"pie\":[{\"automargin\":true,\"type\":\"pie\"}]},\"layout\":{\"autotypenumbers\":\"strict\",\"colorway\":[\"#636efa\",\"#EF553B\",\"#00cc96\",\"#ab63fa\",\"#FFA15A\",\"#19d3f3\",\"#FF6692\",\"#B6E880\",\"#FF97FF\",\"#FECB52\"],\"font\":{\"color\":\"#2a3f5f\"},\"hovermode\":\"closest\",\"hoverlabel\":{\"align\":\"left\"},\"paper_bgcolor\":\"white\",\"plot_bgcolor\":\"#E5ECF6\",\"polar\":{\"bgcolor\":\"#E5ECF6\",\"angularaxis\":{\"gridcolor\":\"white\",\"linecolor\":\"white\",\"ticks\":\"\"},\"radialaxis\":{\"gridcolor\":\"white\",\"linecolor\":\"white\",\"ticks\":\"\"}},\"ternary\":{\"bgcolor\":\"#E5ECF6\",\"aaxis\":{\"gridcolor\":\"white\",\"linecolor\":\"white\",\"ticks\":\"\"},\"baxis\":{\"gridcolor\":\"white\",\"linecolor\":\"white\",\"ticks\":\"\"},\"caxis\":{\"gridcolor\":\"white\",\"linecolor\":\"white\",\"ticks\":\"\"}},\"coloraxis\":{\"colorbar\":{\"outlinewidth\":0,\"ticks\":\"\"}},\"colorscale\":{\"sequential\":[[0.0,\"#0d0887\"],[0.1111111111111111,\"#46039f\"],[0.2222222222222222,\"#7201a8\"],[0.3333333333333333,\"#9c179e\"],[0.4444444444444444,\"#bd3786\"],[0.5555555555555556,\"#d8576b\"],[0.6666666666666666,\"#ed7953\"],[0.7777777777777778,\"#fb9f3a\"],[0.8888888888888888,\"#fdca26\"],[1.0,\"#f0f921\"]],\"sequentialminus\":[[0.0,\"#0d0887\"],[0.1111111111111111,\"#46039f\"],[0.2222222222222222,\"#7201a8\"],[0.3333333333333333,\"#9c179e\"],[0.4444444444444444,\"#bd3786\"],[0.5555555555555556,\"#d8576b\"],[0.6666666666666666,\"#ed7953\"],[0.7777777777777778,\"#fb9f3a\"],[0.8888888888888888,\"#fdca26\"],[1.0,\"#f0f921\"]],\"diverging\":[[0,\"#8e0152\"],[0.1,\"#c51b7d\"],[0.2,\"#de77ae\"],[0.3,\"#f1b6da\"],[0.4,\"#fde0ef\"],[0.5,\"#f7f7f7\"],[0.6,\"#e6f5d0\"],[0.7,\"#b8e186\"],[0.8,\"#7fbc41\"],[0.9,\"#4d9221\"],[1,\"#276419\"]]},\"xaxis\":{\"gridcolor\":\"white\",\"linecolor\":\"white\",\"ticks\":\"\",\"title\":{\"standoff\":15},\"zerolinecolor\":\"white\",\"automargin\":true,\"zerolinewidth\":2},\"yaxis\":{\"gridcolor\":\"white\",\"linecolor\":\"white\",\"ticks\":\"\",\"title\":{\"standoff\":15},\"zerolinecolor\":\"white\",\"automargin\":true,\"zerolinewidth\":2},\"scene\":{\"xaxis\":{\"backgroundcolor\":\"#E5ECF6\",\"gridcolor\":\"white\",\"linecolor\":\"white\",\"showbackground\":true,\"ticks\":\"\",\"zerolinecolor\":\"white\",\"gridwidth\":2},\"yaxis\":{\"backgroundcolor\":\"#E5ECF6\",\"gridcolor\":\"white\",\"linecolor\":\"white\",\"showbackground\":true,\"ticks\":\"\",\"zerolinecolor\":\"white\",\"gridwidth\":2},\"zaxis\":{\"backgroundcolor\":\"#E5ECF6\",\"gridcolor\":\"white\",\"linecolor\":\"white\",\"showbackground\":true,\"ticks\":\"\",\"zerolinecolor\":\"white\",\"gridwidth\":2}},\"shapedefaults\":{\"line\":{\"color\":\"#2a3f5f\"}},\"annotationdefaults\":{\"arrowcolor\":\"#2a3f5f\",\"arrowhead\":0,\"arrowwidth\":1},\"geo\":{\"bgcolor\":\"white\",\"landcolor\":\"#E5ECF6\",\"subunitcolor\":\"white\",\"showland\":true,\"showlakes\":true,\"lakecolor\":\"white\"},\"title\":{\"x\":0.05},\"mapbox\":{\"style\":\"light\"}}},\"xaxis\":{\"anchor\":\"y\",\"domain\":[0.0,1.0],\"title\":{\"text\":\"n_blocks\"}},\"yaxis\":{\"anchor\":\"x\",\"domain\":[0.0,1.0],\"title\":{\"text\":\"max_n_requested_blocks\"}},\"legend\":{\"title\":{\"text\":\"exponent_size_limit\"},\"tracegroupgap\":0},\"title\":{\"text\":\"What does `exponent_size_limit` mean in terms of number of blocks?\"},\"height\":600,\"width\":1000},                        {\"responsive\": true}                    ).then(function(){\n",
       "                            \n",
       "var gd = document.getElementById('0e4697fe-aabc-43a3-938f-63559cca931c');\n",
       "var x = new MutationObserver(function (mutations, observer) {{\n",
       "        var display = window.getComputedStyle(gd).display;\n",
       "        if (!display || display === 'none') {{\n",
       "            console.log([gd, 'removed!']);\n",
       "            Plotly.purge(gd);\n",
       "            observer.disconnect();\n",
       "        }}\n",
       "}});\n",
       "\n",
       "// Listen for the removal of the full notebook cells\n",
       "var notebookContainer = gd.closest('#notebook-container');\n",
       "if (notebookContainer) {{\n",
       "    x.observe(notebookContainer, {childList: true});\n",
       "}}\n",
       "\n",
       "// Listen for the clearing of the current output cell\n",
       "var outputEl = gd.closest('.output');\n",
       "if (outputEl) {{\n",
       "    x.observe(outputEl, {childList: true});\n",
       "}}\n",
       "\n",
       "                        })                };                });            </script>        </div>"
      ]
     },
     "metadata": {},
     "output_type": "display_data"
    }
   ],
   "source": [
    "px.line(\n",
    "    size_df,\n",
    "    x=\"n_blocks\",\n",
    "    y=\"max_n_requested_blocks\",\n",
    "    color=\"exponent_size_limit\",\n",
    "    title=\"What does `exponent_size_limit` mean in terms of number of blocks?\"\n",
    ")\n",
    "    "
   ]
  }
 ],
 "metadata": {
  "kernelspec": {
   "display_name": "Python 3 (ipykernel)",
   "language": "python",
   "name": "python3"
  },
  "language_info": {
   "codemirror_mode": {
    "name": "ipython",
    "version": 3
   },
   "file_extension": ".py",
   "mimetype": "text/x-python",
   "name": "python",
   "nbconvert_exporter": "python",
   "pygments_lexer": "ipython3",
   "version": "3.8.5"
  }
 },
 "nbformat": 4,
 "nbformat_minor": 5
}
