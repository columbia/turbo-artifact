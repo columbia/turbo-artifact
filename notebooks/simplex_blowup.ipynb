{
 "cells": [
  {
   "cell_type": "code",
   "execution_count": null,
   "id": "cbfa8a34-d6e4-407c-8041-14016c11967e",
   "metadata": {},
   "outputs": [],
   "source": [
    "import json\n",
    "from privacypacking.utils.utils import load_logs, global_metrics\n",
    "import pandas as pd"
   ]
  },
  {
   "cell_type": "code",
   "execution_count": null,
   "id": "7366158f-083c-4436-94f0-aada628268e4",
   "metadata": {},
   "outputs": [],
   "source": [
    "from experiments.ray.analysis import load_ray_experiment, load_latest_ray_experiment, load_latest_scheduling_results\n"
   ]
  },
  {
   "cell_type": "code",
   "execution_count": null,
   "id": "f6183bc0-0aa5-4357-b118-e067cb665f6e",
   "metadata": {},
   "outputs": [],
   "source": [
    "import plotly.express as px"
   ]
  },
  {
   "cell_type": "code",
   "execution_count": null,
   "id": "bfb3f39b-dc5e-4bbf-acc3-41170704f4cf",
   "metadata": {},
   "outputs": [],
   "source": [
    "df = load_latest_ray_experiment()"
   ]
  },
  {
   "cell_type": "code",
   "execution_count": null,
   "id": "e6657d78-ea64-42af-9c33-7a4416775b8a",
   "metadata": {},
   "outputs": [],
   "source": [
    "df.columns"
   ]
  },
  {
   "cell_type": "code",
   "execution_count": null,
   "id": "6e348d2c-c6b2-4238-82d7-2441c317b7ff",
   "metadata": {},
   "outputs": [],
   "source": [
    "df.n_blocks.unique()"
   ]
  },
  {
   "cell_type": "code",
   "execution_count": null,
   "id": "ca548c61-0cf8-4a59-9f67-d47fc67b4121",
   "metadata": {},
   "outputs": [],
   "source": [
    "mean = df[[\"n_blocks\",\"scheduler\", \"time_total_s\"]].groupby([\"n_blocks\",\"scheduler\"], as_index=True).mean()"
   ]
  },
  {
   "cell_type": "code",
   "execution_count": null,
   "id": "9db67ff5-4263-451d-9366-c81bf8f34f25",
   "metadata": {},
   "outputs": [],
   "source": [
    "maximum = df[[\"n_blocks\",\"scheduler\", \"time_total_s\"]].groupby([\"n_blocks\",\"scheduler\"], as_index=True).max()"
   ]
  },
  {
   "cell_type": "code",
   "execution_count": null,
   "id": "cc75dc10-33e7-4144-9ac5-f348a2850a06",
   "metadata": {},
   "outputs": [],
   "source": [
    "minimum = df[[\"n_blocks\",\"scheduler\", \"time_total_s\"]].groupby([\"n_blocks\",\"scheduler\"], as_index=True).min()"
   ]
  },
  {
   "cell_type": "code",
   "execution_count": null,
   "id": "7885c7c9-7714-44fb-9eab-1fd224b867cb",
   "metadata": {},
   "outputs": [],
   "source": [
    "minimum"
   ]
  },
  {
   "cell_type": "code",
   "execution_count": null,
   "id": "211b29bc-03a4-4b77-a8d9-aab5d0e80690",
   "metadata": {},
   "outputs": [],
   "source": [
    "# mean.join(minimum, on = [\"n_blocks\",\"scheduler\"], lsuffix = \"_avg\", rsuffix=\"_min\")\n",
    "# pd.merge(mean, minimum)\n",
    "# mean.join(minimum, left_on = [\"n_blocks\",\"scheduler\"])"
   ]
  },
  {
   "cell_type": "code",
   "execution_count": null,
   "id": "bdce7185-f82c-4e0d-a558-8d556e1c2d9c",
   "metadata": {},
   "outputs": [],
   "source": [
    "joined = mean.join(minimum, on = [\"n_blocks\",\"scheduler\"], lsuffix = \"_avg\", rsuffix=\"_min\").join(maximum, on = [\"n_blocks\",\"scheduler\"], rsuffix=\"_max\")\n",
    "joined[\"time_total_s_max\"] = joined[\"time_total_s\"]\n",
    "joined = joined.drop(columns=[\"time_total_s\"])\n",
    "# joined[\"n"
   ]
  },
  {
   "cell_type": "code",
   "execution_count": null,
   "id": "fd813987-440a-4d6f-ab80-95fdf5280431",
   "metadata": {},
   "outputs": [],
   "source": []
  },
  {
   "cell_type": "code",
   "execution_count": null,
   "id": "3235a3ab-f8fd-4e45-8f3b-9acee90d5719",
   "metadata": {},
   "outputs": [],
   "source": [
    "joined[\"error_y\"] = joined[\"time_total_s_max\"] - joined[\"time_total_s_avg\"]\n",
    "joined[\"error_y_minus\"] = joined[\"time_total_s_avg\"] - joined[\"time_total_s_min\"]\n"
   ]
  },
  {
   "cell_type": "code",
   "execution_count": null,
   "id": "27a630eb-9397-409a-9117-d251f49b499a",
   "metadata": {},
   "outputs": [],
   "source": [
    "joined"
   ]
  },
  {
   "cell_type": "code",
   "execution_count": null,
   "id": "c7dea521-d79e-44c3-9915-75d6e35224e4",
   "metadata": {},
   "outputs": [],
   "source": [
    "joined = joined.reset_index()"
   ]
  },
  {
   "cell_type": "code",
   "execution_count": null,
   "id": "903cb56d-7b69-4cb8-9f24-8ef02c04a935",
   "metadata": {},
   "outputs": [],
   "source": [
    "px.line(joined.sort_values('n_blocks'), x=\"n_blocks\", y=\"time_total_s_avg\", error_y=\"error_y\", error_y_minus=\"error_y_minus\", color=\"scheduler\", title=\"Multiblock DPF killer\")"
   ]
  },
  {
   "cell_type": "code",
   "execution_count": null,
   "id": "994f31c5-8816-4290-8278-ee71fe177c81",
   "metadata": {},
   "outputs": [],
   "source": [
    "df.columns"
   ]
  },
  {
   "cell_type": "code",
   "execution_count": null,
   "id": "5662172c-effd-4e59-8ca1-6a548263506f",
   "metadata": {},
   "outputs": [],
   "source": [
    "df = load_latest_ray_experiment()\n",
    "mean = df[[\"n_tasks\",\"scheduler\", \"solver\", \"time_total_s\"]].groupby([\"n_tasks\",\"scheduler\", \"solver\"], as_index=True).mean()\n",
    "maximum = df[[\"n_tasks\",\"scheduler\",  \"solver\",\"time_total_s\"]].groupby([\"n_tasks\",\"scheduler\", \"solver\"], as_index=True).max()\n",
    "minimum = df[[\"n_tasks\",\"scheduler\",  \"solver\",\"time_total_s\"]].groupby([\"n_tasks\",\"scheduler\", \"solver\"], as_index=True).min()\n",
    "joined = mean.join(minimum, on = [\"n_tasks\",\"scheduler\", \"solver\"], lsuffix = \"_avg\", rsuffix=\"_min\").join(maximum, on = [\"n_tasks\",\"scheduler\", \"solver\"], rsuffix=\"_max\")\n",
    "joined[\"time_total_s_max\"] = joined[\"time_total_s\"]\n",
    "joined = joined.drop(columns=[\"time_total_s\"])\n",
    "joined[\"error_y\"] = joined[\"time_total_s_max\"] - joined[\"time_total_s_avg\"]\n",
    "joined[\"error_y_minus\"] = joined[\"time_total_s_avg\"] - joined[\"time_total_s_min\"]\n",
    "joined = joined.reset_index()\n",
    "px.line(joined.sort_values('n_tasks'), x=\"n_tasks\", y=\"time_total_s_avg\", error_y=\"error_y\", error_y_minus=\"error_y_minus\", color=\"scheduler\", facet_col = \"solver\", title=\"Multiblock DPF killer\")"
   ]
  },
  {
   "cell_type": "code",
   "execution_count": null,
   "id": "00bb8ec4-2527-4b9d-88cf-e187cb85c5b5",
   "metadata": {},
   "outputs": [],
   "source": [
    "df = load_latest_ray_experiment()\n",
    "mean = df[[\"n_tasks\",\"scheduler\", \"solver\", \"time_total_s\"]].groupby([\"n_tasks\",\"scheduler\", \"solver\"], as_index=True).mean()\n",
    "maximum = df[[\"n_tasks\",\"scheduler\",  \"solver\",\"time_total_s\"]].groupby([\"n_tasks\",\"scheduler\", \"solver\"], as_index=True).max()\n",
    "minimum = df[[\"n_tasks\",\"scheduler\",  \"solver\",\"time_total_s\"]].groupby([\"n_tasks\",\"scheduler\", \"solver\"], as_index=True).min()\n",
    "joined = mean.join(minimum, on = [\"n_tasks\",\"scheduler\", \"solver\"], lsuffix = \"_avg\", rsuffix=\"_min\").join(maximum, on = [\"n_tasks\",\"scheduler\", \"solver\"], rsuffix=\"_max\")\n",
    "joined[\"time_total_s_max\"] = joined[\"time_total_s\"]\n",
    "joined = joined.drop(columns=[\"time_total_s\"])\n",
    "joined[\"error_y\"] = joined[\"time_total_s_max\"] - joined[\"time_total_s_avg\"]\n",
    "joined[\"error_y_minus\"] = joined[\"time_total_s_avg\"] - joined[\"time_total_s_min\"]\n",
    "joined = joined.reset_index()\n",
    "px.line(joined.sort_values('n_tasks'), x=\"n_tasks\", y=\"time_total_s_avg\", error_y=\"error_y\", error_y_minus=\"error_y_minus\", color=\"scheduler\", facet_col = \"solver\", title=\"Multiblock DPF killer\")"
   ]
  },
  {
   "cell_type": "markdown",
   "id": "e0477e1c-1c2a-437b-b0f4-dfb1fe3a6e4b",
   "metadata": {},
   "source": [
    "### Setup\n",
    "\n",
    "- 10 blocks\n",
    "- Mix of Laplace, Gaussian, Subsampled gaussian \n",
    "\n",
    "```yaml\n",
    "  tasks_spec:\n",
    "    curve_distributions:\n",
    "      laplace:\n",
    "        num: 100\n",
    "        num_blocks: 3\n",
    "        noise_start: 0.1\n",
    "        noise_stop: 5\n",
    "      gaussian:\n",
    "        num: 100\n",
    "        num_blocks: 4\n",
    "        sigma_start: 1\n",
    "        sigma_stop: 5\n",
    "      SubsampledGaussian:\n",
    "        num: 100\n",
    "        num_blocks: 5\n",
    "        sigma_start: 1\n",
    "        sigma_stop: 5\n",
    "        dataset_size: 60_000\n",
    "        batch_size: 64\n",
    "        epochs: 10\n",
    "```"
   ]
  },
  {
   "cell_type": "code",
   "execution_count": null,
   "id": "4a8ffd26-30cd-46f9-8a61-849bab5e9489",
   "metadata": {},
   "outputs": [],
   "source": [
    "px.line(df, x=\"n_tasks\", y=\"scheduling_time\", title=\"Time (in seconds) to solve the ILP depending on the number of tasks.\", range_y=[0,300])"
   ]
  }
 ],
 "metadata": {
  "kernelspec": {
   "display_name": "Python 3 (ipykernel)",
   "language": "python",
   "name": "python3"
  },
  "language_info": {
   "codemirror_mode": {
    "name": "ipython",
    "version": 3
   },
   "file_extension": ".py",
   "mimetype": "text/x-python",
   "name": "python",
   "nbconvert_exporter": "python",
   "pygments_lexer": "ipython3"
  }
 },
 "nbformat": 4,
 "nbformat_minor": 5
}
