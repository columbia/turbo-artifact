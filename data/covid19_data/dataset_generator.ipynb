{
 "cells": [
  {
   "cell_type": "markdown",
   "metadata": {},
   "source": [
    "**Processing Covid Cases Dataset**\n",
    "\n",
    "We first process the dataset on cases and deaths in California. We select five useful features only: date, area, cases, deaths, and total tests. "
   ]
  },
  {
   "cell_type": "code",
   "execution_count": null,
   "metadata": {},
   "outputs": [],
   "source": [
    "import os\n",
    "import random\n",
    "import pandas as pd \n",
    "import numpy as np\n",
    "from datetime import datetime,timedelta\n",
    "from random import randint\n",
    "\n",
    "# from scipy import stats\n",
    "\n",
    "df = pd.read_csv(\"covid19cases_test.csv\")\n",
    "df = df.loc[df['area'] == \"California\"]\n",
    "df = df.astype({'date':'string'})\n",
    "df = df[df['date'].notna()]\n",
    "df = df[df.date >= '2020-04-22']\n",
    "format = '%Y-%m-%d'\n",
    "df['date'] = df['date'].apply(lambda x: datetime.strptime(x, format))\n",
    "df = df.sort_values([\"date\"])\n",
    "df = df[['date','area', 'cases','deaths','total_tests']]\n",
    "df"
   ]
  },
  {
   "cell_type": "markdown",
   "metadata": {},
   "source": [
    "**Processing Covid Demographic Dataset**\n",
    "\n",
    "We process the demogrgaphic covid dataset and sort them by date. We only select Covid related features"
   ]
  },
  {
   "cell_type": "code",
   "execution_count": null,
   "metadata": {},
   "outputs": [],
   "source": [
    "age = pd.read_csv(\"covidage.csv\")\n",
    "age.rename(columns = {'Age Group':'age_group'}, inplace = True)\n",
    "age = age.astype({'date':'string'})\n",
    "age = age[age['date'].notna()]\n",
    "format = '%Y-%m-%d'\n",
    "age['date'] = age['date'].apply(lambda x: datetime.strptime(x, format))\n",
    "age = age[age.date >= '2020-04-22']\n",
    "age = age[age.age_group != 'missing']\n",
    "age = age[age.age_group != 'Missing']\n",
    "age = age[age.age_group != 'Total']\n",
    "age = age.sort_values([\"date\"])\n",
    "age"
   ]
  },
  {
   "cell_type": "code",
   "execution_count": null,
   "metadata": {},
   "outputs": [],
   "source": [
    "from pandas.core.sorting import get_indexer_indexer\n",
    "gender = pd.read_csv(\"covidgender.csv\")\n",
    "gender = gender.astype({'date':'string'})\n",
    "gender = gender[gender['date'].notna()]\n",
    "format = '%Y-%m-%d'\n",
    "gender['date'] = gender['date'].apply(lambda x: datetime.strptime(x, format))\n",
    "gender = gender[gender.date >= '2020-04-22']\n",
    "gender = gender[gender.Gender != 'missing']\n",
    "gender = gender[gender.Gender != 'Missing']\n",
    "gender = gender[gender.Gender != 'Unknown']\n",
    "gender = gender[gender.Gender != 'Total']\n",
    "gender = gender.sort_values([\"date\"])\n",
    "gender"
   ]
  },
  {
   "cell_type": "code",
   "execution_count": null,
   "metadata": {},
   "outputs": [],
   "source": [
    "enthnicity = pd.read_csv(\"covidethnicity.csv\")\n",
    "enthnicity = enthnicity.astype({'date':'string'})\n",
    "enthnicity = enthnicity[enthnicity['date'].notna()]\n",
    "format = '%Y-%m-%d'\n",
    "enthnicity['date'] = enthnicity['date'].apply(lambda x: datetime.strptime(x, format))\n",
    "enthnicity = enthnicity[enthnicity.date >= '2020-04-22']\n",
    "enthnicity = enthnicity[enthnicity.Ethnicity != 'missing']\n",
    "enthnicity = enthnicity[enthnicity.Ethnicity != 'Missing']\n",
    "enthnicity = enthnicity[enthnicity.Ethnicity != 'Unknown']\n",
    "enthnicity = enthnicity[enthnicity.Ethnicity != 'Total']\n",
    "enthnicity = enthnicity.sort_values([\"date\"])\n",
    "enthnicity"
   ]
  },
  {
   "cell_type": "code",
   "execution_count": null,
   "metadata": {},
   "outputs": [],
   "source": [
    "merged_age_gender = pd.merge(age, gender, on=\"date\", how=\"left\")\n",
    "merged_all = pd.merge(merged_age_gender, enthnicity, on=\"date\", how=\"left\")\n",
    "first_column = merged_all.pop('date')\n",
    "  \n",
    "# insert column using insert(position,column_name,\n",
    "# first_column) function\n",
    "merged_all.insert(0, 'date', first_column)\n",
    "merged_all.replace(np.NaN, 0)\n",
    "merged_all"
   ]
  },
  {
   "cell_type": "markdown",
   "metadata": {},
   "source": [
    "**Merge the two datasets by date**\n",
    "\n",
    "We merge the processed Covid cases dataset with processed demographic dataset by the date column. We're interested in daily cases, daily deaths and total tests in California on each date. At that date, we also include relevant demographic information: we incorporate percent_cases and percent_deaths of each demographic category."
   ]
  },
  {
   "cell_type": "code",
   "execution_count": null,
   "metadata": {},
   "outputs": [],
   "source": [
    "final=pd.merge(df, merged_all, on=\"date\", how=\"left\")\n",
    "final = final.rename(columns={'cases': 'daily_cases'})\n",
    "final = final.rename(columns={'deaths': 'daily_deaths'})\n",
    "final = final.rename(columns={'total_tests': 'daily_total_tests'})\n",
    "final"
   ]
  },
  {
   "cell_type": "code",
   "execution_count": null,
   "metadata": {},
   "outputs": [],
   "source": [
    "#final.to_csv('/content/dataset.csv', encoding='utf-8', index=False)"
   ]
  },
  {
   "cell_type": "markdown",
   "metadata": {},
   "source": [
    "**Due to RAM issue, the giant full dataset should be processed on server and pushed to github. We're just showing an example of exploding the first 100 rows for user-level DP**\n",
    "\n",
    "**Finalized Dataset: Low Sensitivity of cases and daily_deaths**\n",
    "\n",
    "To get better DP accuracy and error bounds guarantees, we explode the rows by cases and daily_deaths. For example, if we have 10 cases and 10 deaths on a row of date 2020-04-22, then we expand that row of 2020-04-22 rows by 10 x 10 rows. Then we fill in random 0's and 1's. The total count of cases and deaths from expanded rows still matches the original number in the single row. But we bring down sensitivity this way. \n",
    "\n"
   ]
  },
  {
   "cell_type": "code",
   "execution_count": null,
   "metadata": {},
   "outputs": [],
   "source": [
    "# final = final.head(100)\n",
    "finalized_pd = final.loc[final.index.repeat(final.daily_cases.sub(final.daily_deaths) + 1)]"
   ]
  },
  {
   "cell_type": "code",
   "execution_count": null,
   "metadata": {},
   "outputs": [],
   "source": [
    "finalized_pd['positive'] =  np.random.randint(0,2, size=len(finalized_pd))\n",
    "finalized_pd['deceased'] =  np.random.randint(0,2, size=len(finalized_pd))\n",
    "finalized_pd = finalized_pd.rename(columns={\"age_group\": \"age\", \"Ethnicity\": \"ethnicity\", \"Gender\": \"gender\"})\n",
    "finalized_pd.drop(columns=['date', 'area', 'daily_cases', 'daily_deaths', 'daily_total_tests',\n",
    "       'total_cases_by_age', 'age_based_case_rate', 'age_based_deaths',\n",
    "       'age_based_death_rate', 'total_cases_by_gender',\n",
    "       'gender_based_case_rate', 'gender_based_deaths',\n",
    "       'gender_based_death_rate', 'total_cases_by_ethnicity',\n",
    "       'ethnicity_based_case_rate', 'ethnicity_based_deaths',\n",
    "       'ethnicity_based_death_rate'], inplace=True)\n",
    "finalized_pd.keys()"
   ]
  },
  {
   "cell_type": "code",
   "execution_count": null,
   "metadata": {},
   "outputs": [],
   "source": [
    "# finalized_pd_final = finalized_pd[['positive', 'deceased', 'age', 'ethnicity', 'gender']]\n",
    "finalized_pd"
   ]
  },
  {
   "cell_type": "code",
   "execution_count": null,
   "metadata": {},
   "outputs": [],
   "source": [
    "k = 2500 #100\n",
    "size = 203828 #250000 \n",
    " \n",
    "for i in range(k):\n",
    "    df = finalized_pd[size*i:size*(i+1)]\n",
    "    df.to_csv(f'blocks/covid_block_{i}.csv', index=True)"
   ]
  },
  {
   "cell_type": "code",
   "execution_count": null,
   "metadata": {},
   "outputs": [],
   "source": [
    "import json\n",
    "metadata = {}\n",
    "metadata['block_size'] = size\n",
    "\n",
    "json_object = json.dumps(metadata, indent=4)\n",
    "with open(\"metadata.json\", \"w\") as outfile:\n",
    "    outfile.write(json_object)\n",
    "\n"
   ]
  },
  {
   "cell_type": "code",
   "execution_count": null,
   "metadata": {},
   "outputs": [],
   "source": []
  }
 ],
 "metadata": {
  "colab": {
   "machine_shape": "hm",
   "provenance": []
  },
  "gpuClass": "premium",
  "kernelspec": {
   "display_name": "Python 3",
   "language": "python",
   "name": "python3"
  },
  "language_info": {
   "codemirror_mode": {
    "name": "ipython",
    "version": 3
   },
   "file_extension": ".py",
   "mimetype": "text/x-python",
   "name": "python",
   "nbconvert_exporter": "python",
   "pygments_lexer": "ipython3"
  }
 },
 "nbformat": 4,
 "nbformat_minor": 1
}
