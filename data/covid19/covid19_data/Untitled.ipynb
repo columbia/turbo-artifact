{
 "cells": [
  {
   "cell_type": "code",
   "execution_count": 32,
   "id": "58853a77",
   "metadata": {},
   "outputs": [
    {
     "data": {
      "text/html": [
       "<div>\n",
       "<style scoped>\n",
       "    .dataframe tbody tr th:only-of-type {\n",
       "        vertical-align: middle;\n",
       "    }\n",
       "\n",
       "    .dataframe tbody tr th {\n",
       "        vertical-align: top;\n",
       "    }\n",
       "\n",
       "    .dataframe thead th {\n",
       "        text-align: right;\n",
       "    }\n",
       "</style>\n",
       "<table border=\"1\" class=\"dataframe\">\n",
       "  <thead>\n",
       "    <tr style=\"text-align: right;\">\n",
       "      <th></th>\n",
       "      <th>positive</th>\n",
       "      <th>gender</th>\n",
       "      <th>age</th>\n",
       "      <th>ethnicity</th>\n",
       "    </tr>\n",
       "  </thead>\n",
       "  <tbody>\n",
       "    <tr>\n",
       "      <th>0</th>\n",
       "      <td>1</td>\n",
       "      <td>1</td>\n",
       "      <td>1</td>\n",
       "      <td>5</td>\n",
       "    </tr>\n",
       "    <tr>\n",
       "      <th>1</th>\n",
       "      <td>1</td>\n",
       "      <td>0</td>\n",
       "      <td>3</td>\n",
       "      <td>6</td>\n",
       "    </tr>\n",
       "    <tr>\n",
       "      <th>2</th>\n",
       "      <td>1</td>\n",
       "      <td>1</td>\n",
       "      <td>1</td>\n",
       "      <td>4</td>\n",
       "    </tr>\n",
       "    <tr>\n",
       "      <th>3</th>\n",
       "      <td>1</td>\n",
       "      <td>0</td>\n",
       "      <td>2</td>\n",
       "      <td>2</td>\n",
       "    </tr>\n",
       "    <tr>\n",
       "      <th>4</th>\n",
       "      <td>1</td>\n",
       "      <td>1</td>\n",
       "      <td>2</td>\n",
       "      <td>2</td>\n",
       "    </tr>\n",
       "    <tr>\n",
       "      <th>...</th>\n",
       "      <td>...</td>\n",
       "      <td>...</td>\n",
       "      <td>...</td>\n",
       "      <td>...</td>\n",
       "    </tr>\n",
       "    <tr>\n",
       "      <th>25480</th>\n",
       "      <td>0</td>\n",
       "      <td>0</td>\n",
       "      <td>2</td>\n",
       "      <td>3</td>\n",
       "    </tr>\n",
       "    <tr>\n",
       "      <th>25481</th>\n",
       "      <td>0</td>\n",
       "      <td>1</td>\n",
       "      <td>3</td>\n",
       "      <td>2</td>\n",
       "    </tr>\n",
       "    <tr>\n",
       "      <th>25482</th>\n",
       "      <td>0</td>\n",
       "      <td>1</td>\n",
       "      <td>2</td>\n",
       "      <td>2</td>\n",
       "    </tr>\n",
       "    <tr>\n",
       "      <th>25483</th>\n",
       "      <td>0</td>\n",
       "      <td>0</td>\n",
       "      <td>1</td>\n",
       "      <td>2</td>\n",
       "    </tr>\n",
       "    <tr>\n",
       "      <th>25484</th>\n",
       "      <td>0</td>\n",
       "      <td>1</td>\n",
       "      <td>3</td>\n",
       "      <td>1</td>\n",
       "    </tr>\n",
       "  </tbody>\n",
       "</table>\n",
       "<p>25485 rows × 4 columns</p>\n",
       "</div>"
      ],
      "text/plain": [
       "       positive  gender  age  ethnicity\n",
       "0             1       1    1          5\n",
       "1             1       0    3          6\n",
       "2             1       1    1          4\n",
       "3             1       0    2          2\n",
       "4             1       1    2          2\n",
       "...         ...     ...  ...        ...\n",
       "25480         0       0    2          3\n",
       "25481         0       1    3          2\n",
       "25482         0       1    2          2\n",
       "25483         0       0    1          2\n",
       "25484         0       1    3          1\n",
       "\n",
       "[25485 rows x 4 columns]"
      ]
     },
     "execution_count": 32,
     "metadata": {},
     "output_type": "execute_result"
    }
   ],
   "source": [
    "import os\n",
    "import random\n",
    "import pandas as pd \n",
    "import numpy as np\n",
    "from datetime import datetime,timedelta\n",
    "from random import randint\n",
    "from collections import OrderedDict\n",
    "import math\n",
    "import json\n",
    "\n",
    "\n",
    "block = pd.read_csv(\"blocks/block_1.csv\")\n",
    "block"
   ]
  },
  {
   "cell_type": "code",
   "execution_count": 33,
   "id": "d9510d26",
   "metadata": {},
   "outputs": [
    {
     "data": {
      "text/plain": [
       "positive\n",
       "0    23645\n",
       "1     1840\n",
       "Name: positive, dtype: int64"
      ]
     },
     "execution_count": 33,
     "metadata": {},
     "output_type": "execute_result"
    }
   ],
   "source": [
    "block.groupby('positive')['positive'].count()"
   ]
  },
  {
   "cell_type": "code",
   "execution_count": 34,
   "id": "00c787b0",
   "metadata": {},
   "outputs": [],
   "source": [
    "count_positives = len(block.query(\"positive == 1\"))\n",
    "count_positives_rate = count_positives / len(block)"
   ]
  },
  {
   "cell_type": "code",
   "execution_count": 36,
   "id": "fc506460",
   "metadata": {},
   "outputs": [
    {
     "name": "stdout",
     "output_type": "stream",
     "text": [
      "1840\n",
      "0.07219933294094566\n",
      "25485\n"
     ]
    }
   ],
   "source": [
    "print(count_positives)\n",
    "print(count_positives_rate)\n",
    "print(len(block))"
   ]
  },
  {
   "cell_type": "code",
   "execution_count": 38,
   "id": "6ef1e6d9",
   "metadata": {},
   "outputs": [
    {
     "data": {
      "text/plain": [
       "positive  gender  age  ethnicity\n",
       "0         0       0    0               6\n",
       "                       1             393\n",
       "                       2            1067\n",
       "                       3             109\n",
       "                       4              13\n",
       "                                    ... \n",
       "1         1       3    2              90\n",
       "                       4               5\n",
       "                       5              13\n",
       "                       6              53\n",
       "                       7              14\n",
       "Length: 116, dtype: int64"
      ]
     },
     "execution_count": 38,
     "metadata": {},
     "output_type": "execute_result"
    }
   ],
   "source": [
    "cols = list(block.columns)\n",
    "df = block.groupby(cols).size()\n",
    "df"
   ]
  },
  {
   "cell_type": "code",
   "execution_count": null,
   "id": "d27284bc",
   "metadata": {},
   "outputs": [],
   "source": []
  }
 ],
 "metadata": {
  "kernelspec": {
   "display_name": "Python 3",
   "language": "python",
   "name": "python3"
  },
  "language_info": {
   "codemirror_mode": {
    "name": "ipython",
    "version": 3
   },
   "file_extension": ".py",
   "mimetype": "text/x-python",
   "name": "python",
   "nbconvert_exporter": "python",
   "pygments_lexer": "ipython3",
   "version": "3.8.10"
  }
 },
 "nbformat": 4,
 "nbformat_minor": 5
}
